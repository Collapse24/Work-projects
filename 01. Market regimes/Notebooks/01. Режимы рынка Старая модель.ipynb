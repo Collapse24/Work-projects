{
 "cells": [
  {
   "cell_type": "markdown",
   "metadata": {},
   "source": [
    "##### Старая модель. Используется как основной ноутбук для рассчета всей механики режимов.\n",
    "Используется только один признак, т.е. волатильность"
   ]
  },
  {
   "cell_type": "markdown",
   "metadata": {},
   "source": [
    "# Блок 1. Импорт"
   ]
  },
  {
   "cell_type": "code",
   "execution_count": 1,
   "metadata": {},
   "outputs": [],
   "source": [
    "import ta\n",
    "import math\n",
    "import pickle\n",
    "import numpy as np\n",
    "import pandas as pd\n",
    "# import ruptures as rpt\n",
    "import pandas_profiling\n",
    "from tqdm import tqdm\n",
    "from copy import deepcopy\n",
    "from sklearn.mixture import GaussianMixture"
   ]
  },
  {
   "cell_type": "code",
   "execution_count": 4,
   "metadata": {},
   "outputs": [
    {
     "data": {
      "text/html": [
       "        <script type=\"text/javascript\">\n",
       "        window.PlotlyConfig = {MathJaxConfig: 'local'};\n",
       "        if (window.MathJax) {MathJax.Hub.Config({SVG: {font: \"STIX-Web\"}});}\n",
       "        if (typeof require !== 'undefined') {\n",
       "        require.undef(\"plotly\");\n",
       "        requirejs.config({\n",
       "            paths: {\n",
       "                'plotly': ['https://cdn.plot.ly/plotly-latest.min']\n",
       "            }\n",
       "        });\n",
       "        require(['plotly'], function(Plotly) {\n",
       "            window._Plotly = Plotly;\n",
       "        });\n",
       "        }\n",
       "        </script>\n",
       "        "
      ]
     },
     "metadata": {},
     "output_type": "display_data"
    }
   ],
   "source": [
    "import cufflinks as cf\n",
    "import plotly.offline\n",
    "import plotly.express as px\n",
    "cf.go_offline()\n",
    "cf.set_config_file(offline=False, world_readable=True)\n",
    "from IPython.core.interactiveshell import InteractiveShell\n",
    "InteractiveShell.ast_node_interactivity = \"all\""
   ]
  },
  {
   "cell_type": "code",
   "execution_count": 5,
   "metadata": {},
   "outputs": [],
   "source": [
    "import sys\n",
    "if not sys.warnoptions:\n",
    "    import warnings\n",
    "    warnings.simplefilter(\"ignore\")"
   ]
  },
  {
   "cell_type": "code",
   "execution_count": 4,
   "metadata": {},
   "outputs": [],
   "source": [
    "path = '/home/brainiac/Vlad/Git Files/CryptoLp DataScience/DataSets/Bars/'\n",
    "file = '2019-2020_Bars_700T'"
   ]
  },
  {
   "cell_type": "code",
   "execution_count": 5,
   "metadata": {},
   "outputs": [],
   "source": [
    "df_data = pd.read_csv(path+file+'.csv')\n",
    "df_data = df_data.dropna()\n",
    "#df_data = df_data[df_data['datetime']<'2020-12-25']\n",
    "df_data.index = range(len(df_data))"
   ]
  },
  {
   "cell_type": "code",
   "execution_count": 6,
   "metadata": {},
   "outputs": [
    {
     "data": {
      "text/html": [
       "<div>\n",
       "<style scoped>\n",
       "    .dataframe tbody tr th:only-of-type {\n",
       "        vertical-align: middle;\n",
       "    }\n",
       "\n",
       "    .dataframe tbody tr th {\n",
       "        vertical-align: top;\n",
       "    }\n",
       "\n",
       "    .dataframe thead th {\n",
       "        text-align: right;\n",
       "    }\n",
       "</style>\n",
       "<table border=\"1\" class=\"dataframe\">\n",
       "  <thead>\n",
       "    <tr style=\"text-align: right;\">\n",
       "      <th></th>\n",
       "      <th>datetime</th>\n",
       "      <th>close</th>\n",
       "      <th>volume</th>\n",
       "    </tr>\n",
       "  </thead>\n",
       "  <tbody>\n",
       "    <tr>\n",
       "      <th>585695</th>\n",
       "      <td>2021-01-10 23:51:49.970532</td>\n",
       "      <td>38403.5</td>\n",
       "      <td>2912137</td>\n",
       "    </tr>\n",
       "    <tr>\n",
       "      <th>585696</th>\n",
       "      <td>2021-01-10 23:55:07.250429</td>\n",
       "      <td>38428.0</td>\n",
       "      <td>8917936</td>\n",
       "    </tr>\n",
       "    <tr>\n",
       "      <th>585697</th>\n",
       "      <td>2021-01-10 23:57:36.495287</td>\n",
       "      <td>38300.0</td>\n",
       "      <td>4430463</td>\n",
       "    </tr>\n",
       "    <tr>\n",
       "      <th>585698</th>\n",
       "      <td>2021-01-10 23:59:30.593566</td>\n",
       "      <td>38264.5</td>\n",
       "      <td>8412985</td>\n",
       "    </tr>\n",
       "    <tr>\n",
       "      <th>585699</th>\n",
       "      <td>2021-01-10 23:59:59.886955</td>\n",
       "      <td>38225.0</td>\n",
       "      <td>5901463</td>\n",
       "    </tr>\n",
       "  </tbody>\n",
       "</table>\n",
       "</div>"
      ],
      "text/plain": [
       "                          datetime    close   volume\n",
       "585695  2021-01-10 23:51:49.970532  38403.5  2912137\n",
       "585696  2021-01-10 23:55:07.250429  38428.0  8917936\n",
       "585697  2021-01-10 23:57:36.495287  38300.0  4430463\n",
       "585698  2021-01-10 23:59:30.593566  38264.5  8412985\n",
       "585699  2021-01-10 23:59:59.886955  38225.0  5901463"
      ]
     },
     "execution_count": 6,
     "metadata": {},
     "output_type": "execute_result"
    }
   ],
   "source": [
    "df_data.tail()"
   ]
  },
  {
   "cell_type": "markdown",
   "metadata": {},
   "source": [
    "# Блок 2. Основные функции"
   ]
  },
  {
   "cell_type": "code",
   "execution_count": 7,
   "metadata": {},
   "outputs": [],
   "source": [
    "# Вычисление возвратов (Не используется)\n",
    "def calculation_returns(df_data_close_price:pd.Series):\n",
    "    returns = df_data_close_price.pct_change()*100\n",
    "    return returns"
   ]
  },
  {
   "cell_type": "code",
   "execution_count": 8,
   "metadata": {},
   "outputs": [],
   "source": [
    "# Вычисление стандартной волатильности\n",
    "def calculation_volatility_STD(df_data_close_price:pd.Series,\n",
    "                               win_size):\n",
    "    volatility_STD = df_data_close_price.pct_change().rolling(win_size).std()*1000\n",
    "    return volatility_STD"
   ]
  },
  {
   "cell_type": "code",
   "execution_count": 9,
   "metadata": {},
   "outputs": [],
   "source": [
    "# Вычисление волатильности EGARCH (Не используется. Возможно неверно)\n",
    "def volatility_calculation_function(df_data_close_price: pd.Series,\n",
    "                                    returns: pd.Series,\n",
    "                                    size_EGARCH_data = 10_000,\n",
    "                                    size_train_data=9_000,\n",
    "                                    size_forecast_data=1_000,\n",
    "                                    p_=5,\n",
    "                                    q_=1\n",
    "                                   ):   \n",
    "    egarch_vol = [] # список для волатильности\n",
    "    egarch_vol.extend(abs(df_data_close_price[0:size_train_data+1].pct_change().rolling(p_).std()*100)) # первые несколько измерений заменяются простым std\n",
    "    for i in range(1, math.ceil((len(df_data_close_price)-size_train_data)/size_forecast_data)+1):\n",
    "        egarch_model = arch_model(returns.iloc[(i-1)*size_forecast_data:size_EGARCH_data+size_forecast_data*(i-1)].dropna(), \n",
    "                                  vol='EGARCH', \n",
    "                                  p=p_, \n",
    "                                  q=q_, \n",
    "                                  dist='studentst', \n",
    "                                  mean='ARX', \n",
    "                                  rescale=False)\n",
    "        results = egarch_model.fit(last_obs=size_EGARCH_data-size_forecast_data, update_freq=10) # обучение модели\n",
    "        forecasts = results.forecast(horizon=1, start=size_EGARCH_data-size_forecast_data, method='simulation') # прогнозирование волатильности\n",
    "        egarch_vol.extend(np.sqrt(forecasts.variance.dropna()['h.1'].values)) # формирование списка волатильностей\n",
    "    return egarch_vol"
   ]
  },
  {
   "cell_type": "code",
   "execution_count": 10,
   "metadata": {},
   "outputs": [],
   "source": [
    "# Структурные разрывы (Не используется. Возможно неверно)\n",
    "def detect_structural_breaks(df_data_close_price: pd.Series,\n",
    "                             batch_size = 20_000,\n",
    "                             pen_=0.1):\n",
    "    borders_breaks = []\n",
    "    for i in range(1, math.ceil(len(df_data_close_price)/batch_size)+1):\n",
    "        find_borders_breaks = rpt.Pelt(model=\"rbf\").fit(df_data_close_price[batch_size*(i-1):batch_size*i].values)\n",
    "        \n",
    "        borders_breaks_batch = find_borders_breaks.predict(pen=pen_)\n",
    "    \n",
    "        b = [j+(batch_size*(i-1)) for j in borders_breaks_batch]\n",
    "        \n",
    "        borders_breaks.extend(b)\n",
    "        \n",
    "    list_marked_breaks = []\n",
    "    k = 0\n",
    "    for i in range(0, len(borders_breaks)):\n",
    "        for j in range(k, borders_breaks[i]):\n",
    "            list_marked_breaks.append(i)\n",
    "        k = borders_breaks[i]\n",
    "        \n",
    "    return list_marked_breaks"
   ]
  },
  {
   "cell_type": "code",
   "execution_count": 11,
   "metadata": {},
   "outputs": [],
   "source": [
    "# (Не используется. Возможно неверно)\n",
    "def EGARCH_all_params(df_data_close_price : pd.Series,\n",
    "                      size_EGARCH_data_: int,\n",
    "                      param_EGARCH: int\n",
    "                     ):\n",
    "    value_EGARCH = volatility_calculation_function(df_data_close_price=df_data_close_price,\n",
    "                                                   returns=calculation_returns(df_data_close_price),\n",
    "                                                   size_EGARCH_data=size_EGARCH_data_,\n",
    "                                                   size_forecast_data=list_param_EGARCH[param],\n",
    "                                                   size_train_data=size_EGARCH_data_-list_param_EGARCH[param]\n",
    "                                                  )\n",
    "    list_diff_Egarch.append(value_EGARCH)\n",
    "    return list_diff_Egarch"
   ]
  },
  {
   "cell_type": "code",
   "execution_count": 12,
   "metadata": {},
   "outputs": [],
   "source": [
    "# Кластеризация\n",
    "def clustering_GaussianHMM(df_data:pd.DataFrame,\n",
    "                           n_components_:int,\n",
    "                          ):\n",
    "    model = GaussianMixture(n_components=n_components_, covariance_type=\"full\")\n",
    "    model.fit(df_data)\n",
    "    marked_regimes = model.predict(df_data)\n",
    "    return marked_regimes"
   ]
  },
  {
   "cell_type": "code",
   "execution_count": 13,
   "metadata": {},
   "outputs": [],
   "source": [
    "# Построение графиков\n",
    "def show_plot_plotly(df_data:pd.DataFrame,\n",
    "                     left_border, right_border,\n",
    "                     x_, y_,\n",
    "                     color_:str, title_:str,             \n",
    "                    ):  \n",
    "    fig = px.scatter(df_data[left_border:right_border], \n",
    "                     x=x_, y=y_, \n",
    "                     color=color_, \n",
    "                     #color_discrete_sequence=['blue','darkorange','green','red','gold', 'black'], \n",
    "                     title=title_\n",
    "                    )    \n",
    "    return fig"
   ]
  },
  {
   "cell_type": "markdown",
   "metadata": {},
   "source": [
    "# Блок 3. Возможно нужные функции"
   ]
  },
  {
   "cell_type": "code",
   "execution_count": 14,
   "metadata": {},
   "outputs": [
    {
     "data": {
      "text/html": [
       "<div>\n",
       "<style scoped>\n",
       "    .dataframe tbody tr th:only-of-type {\n",
       "        vertical-align: middle;\n",
       "    }\n",
       "\n",
       "    .dataframe tbody tr th {\n",
       "        vertical-align: top;\n",
       "    }\n",
       "\n",
       "    .dataframe thead th {\n",
       "        text-align: right;\n",
       "    }\n",
       "</style>\n",
       "<table border=\"1\" class=\"dataframe\">\n",
       "  <thead>\n",
       "    <tr style=\"text-align: right;\">\n",
       "      <th></th>\n",
       "      <th>datetime</th>\n",
       "      <th>close</th>\n",
       "      <th>volume</th>\n",
       "    </tr>\n",
       "  </thead>\n",
       "  <tbody>\n",
       "    <tr>\n",
       "      <th>0</th>\n",
       "      <td>2019-01-01 00:02:29.356431</td>\n",
       "      <td>3690.5</td>\n",
       "      <td>1659932</td>\n",
       "    </tr>\n",
       "  </tbody>\n",
       "</table>\n",
       "</div>"
      ],
      "text/plain": [
       "                     datetime   close   volume\n",
       "0  2019-01-01 00:02:29.356431  3690.5  1659932"
      ]
     },
     "execution_count": 14,
     "metadata": {},
     "output_type": "execute_result"
    }
   ],
   "source": [
    "df_data.head(1)"
   ]
  },
  {
   "cell_type": "code",
   "execution_count": 15,
   "metadata": {},
   "outputs": [],
   "source": [
    "# high, low, close, volume = df_data['high'], df_data['low'], df_data['close'], df_data['volume']"
   ]
  },
  {
   "cell_type": "markdown",
   "metadata": {},
   "source": [
    "### Momentum Indicators"
   ]
  },
  {
   "cell_type": "code",
   "execution_count": 16,
   "metadata": {},
   "outputs": [],
   "source": [
    "# %%time\n",
    "# momentum_roc = ta.momentum.roc(close, n=12, fillna=False)\n",
    "# momentum_uo = ta.momentum.uo(high, low, close, s=7, m=14, len=28, ws=4.0, wm=2.0, wl=1.0, fillna=False)"
   ]
  },
  {
   "cell_type": "markdown",
   "metadata": {},
   "source": [
    "### Volume Indicators"
   ]
  },
  {
   "cell_type": "code",
   "execution_count": 17,
   "metadata": {},
   "outputs": [],
   "source": [
    "#%%time"
   ]
  },
  {
   "cell_type": "markdown",
   "metadata": {},
   "source": [
    "### Trend Indicators"
   ]
  },
  {
   "cell_type": "code",
   "execution_count": 18,
   "metadata": {},
   "outputs": [],
   "source": [
    "# %%time\n",
    "# trend_cci = ta.trend.cci(high, low, close, n=20, c=0.015, fillna=False)\n",
    "# trend_psar_down = ta.trend.psar_down(high, low, close, step=0.02, max_step=0.2, fillna=False)"
   ]
  },
  {
   "cell_type": "markdown",
   "metadata": {},
   "source": [
    "### Others"
   ]
  },
  {
   "cell_type": "code",
   "execution_count": 19,
   "metadata": {},
   "outputs": [],
   "source": [
    "# %%time\n",
    "# from scipy.stats import kurtosis,skew, boxcox, norm \n",
    "# l_kurtosis = []\n",
    "# l_skewness = []\n",
    "# price = df_data['close'].values\n",
    "# for i in tqdm(range(len(price)+100)):\n",
    "#     l_kurtosis.append(kurtosis(price[i:i+100]))\n",
    "#     l_skewness.append(skew(price[i:i+100]))\n",
    "# df_data['kurtosis'] = l_kurtosis[:(len(l_kurtosis)-100)]\n",
    "# df_data['skewness'] = l_skewness[:(len(l_skewness)-100)]"
   ]
  },
  {
   "cell_type": "code",
   "execution_count": 20,
   "metadata": {},
   "outputs": [],
   "source": [
    "#df_data['momentum_roc'] = momentum_roc\n",
    "#df_data['momentum_uo'] = momentum_uo\n",
    "#df_data['trend_cci'] = trend_cci\n",
    "#df_data['trend_psar_down'] = trend_psar_down"
   ]
  },
  {
   "cell_type": "markdown",
   "metadata": {},
   "source": [
    "# Блок 4. Получение новых признаков"
   ]
  },
  {
   "cell_type": "code",
   "execution_count": 21,
   "metadata": {},
   "outputs": [],
   "source": [
    "# %%time\n",
    "# Returns = calculation_returns(df_data['close'])\n",
    "# Structural_Breaks = detect_structural_breaks(df_data_close_price=df_data['close'], batch_size=20_000)"
   ]
  },
  {
   "cell_type": "code",
   "execution_count": 22,
   "metadata": {},
   "outputs": [
    {
     "name": "stdout",
     "output_type": "stream",
     "text": [
      "CPU times: user 29.8 ms, sys: 4.97 ms, total: 34.7 ms\n",
      "Wall time: 27.3 ms\n"
     ]
    }
   ],
   "source": [
    "%%time\n",
    "param_Vol_Std = [1000]\n",
    "dict_vol_Std = dict.fromkeys(param_Vol_Std)\n",
    "for i in dict_vol_Std.keys():\n",
    "    dict_vol_Std[i] = calculation_volatility_STD(df_data_close_price=df_data['close'],\n",
    "                                                 win_size=i)  "
   ]
  },
  {
   "cell_type": "code",
   "execution_count": 23,
   "metadata": {},
   "outputs": [],
   "source": [
    "df_data_extended = deepcopy(df_data)\n",
    "# df_data_extended['Returns'] = Returns\n",
    "# df_data_extended['SB'] = Structural_Breaks\n",
    "for i in dict_vol_Std.keys():\n",
    "    df_data_extended['Volatility_STD'+str(i)] = dict_vol_Std[i]\n",
    "df_data_extended = df_data_extended.dropna()\n",
    "df_data_extended.index = range(len(df_data_extended))"
   ]
  },
  {
   "cell_type": "code",
   "execution_count": 24,
   "metadata": {},
   "outputs": [
    {
     "data": {
      "text/html": [
       "<div>\n",
       "<style scoped>\n",
       "    .dataframe tbody tr th:only-of-type {\n",
       "        vertical-align: middle;\n",
       "    }\n",
       "\n",
       "    .dataframe tbody tr th {\n",
       "        vertical-align: top;\n",
       "    }\n",
       "\n",
       "    .dataframe thead th {\n",
       "        text-align: right;\n",
       "    }\n",
       "</style>\n",
       "<table border=\"1\" class=\"dataframe\">\n",
       "  <thead>\n",
       "    <tr style=\"text-align: right;\">\n",
       "      <th></th>\n",
       "      <th>datetime</th>\n",
       "      <th>close</th>\n",
       "      <th>volume</th>\n",
       "      <th>Volatility_STD1000</th>\n",
       "    </tr>\n",
       "  </thead>\n",
       "  <tbody>\n",
       "    <tr>\n",
       "      <th>584697</th>\n",
       "      <td>2021-01-10 23:57:36.495287</td>\n",
       "      <td>38300.0</td>\n",
       "      <td>4430463</td>\n",
       "      <td>2.609907</td>\n",
       "    </tr>\n",
       "    <tr>\n",
       "      <th>584698</th>\n",
       "      <td>2021-01-10 23:59:30.593566</td>\n",
       "      <td>38264.5</td>\n",
       "      <td>8412985</td>\n",
       "      <td>2.609608</td>\n",
       "    </tr>\n",
       "    <tr>\n",
       "      <th>584699</th>\n",
       "      <td>2021-01-10 23:59:59.886955</td>\n",
       "      <td>38225.0</td>\n",
       "      <td>5901463</td>\n",
       "      <td>2.608307</td>\n",
       "    </tr>\n",
       "  </tbody>\n",
       "</table>\n",
       "</div>"
      ],
      "text/plain": [
       "                          datetime    close   volume  Volatility_STD1000\n",
       "584697  2021-01-10 23:57:36.495287  38300.0  4430463            2.609907\n",
       "584698  2021-01-10 23:59:30.593566  38264.5  8412985            2.609608\n",
       "584699  2021-01-10 23:59:59.886955  38225.0  5901463            2.608307"
      ]
     },
     "execution_count": 24,
     "metadata": {},
     "output_type": "execute_result"
    }
   ],
   "source": [
    "df_data_extended.tail(3)"
   ]
  },
  {
   "cell_type": "markdown",
   "metadata": {},
   "source": [
    "# Блок 5. Кластеризация"
   ]
  },
  {
   "cell_type": "code",
   "execution_count": 25,
   "metadata": {},
   "outputs": [],
   "source": [
    "X=df_data_extended.drop(['datetime',\n",
    "                         #'open','low','high',\n",
    "                         'close','volume',], axis=1)"
   ]
  },
  {
   "cell_type": "code",
   "execution_count": 26,
   "metadata": {},
   "outputs": [],
   "source": [
    "# from sklearn.preprocessing import RobustScaler, MinMaxScaler\n",
    "# X = RobustScaler().fit_transform(X)\n",
    "# X = pd.DataFrame(data=X, columns=df_data_extended.drop(['datetime','open','low','high','close','volume',], axis=1).columns)"
   ]
  },
  {
   "cell_type": "code",
   "execution_count": 27,
   "metadata": {},
   "outputs": [
    {
     "data": {
      "text/html": [
       "<div>\n",
       "<style scoped>\n",
       "    .dataframe tbody tr th:only-of-type {\n",
       "        vertical-align: middle;\n",
       "    }\n",
       "\n",
       "    .dataframe tbody tr th {\n",
       "        vertical-align: top;\n",
       "    }\n",
       "\n",
       "    .dataframe thead th {\n",
       "        text-align: right;\n",
       "    }\n",
       "</style>\n",
       "<table border=\"1\" class=\"dataframe\">\n",
       "  <thead>\n",
       "    <tr style=\"text-align: right;\">\n",
       "      <th></th>\n",
       "      <th>Volatility_STD1000</th>\n",
       "    </tr>\n",
       "  </thead>\n",
       "  <tbody>\n",
       "    <tr>\n",
       "      <th>584697</th>\n",
       "      <td>2.609907</td>\n",
       "    </tr>\n",
       "    <tr>\n",
       "      <th>584698</th>\n",
       "      <td>2.609608</td>\n",
       "    </tr>\n",
       "    <tr>\n",
       "      <th>584699</th>\n",
       "      <td>2.608307</td>\n",
       "    </tr>\n",
       "  </tbody>\n",
       "</table>\n",
       "</div>"
      ],
      "text/plain": [
       "        Volatility_STD1000\n",
       "584697            2.609907\n",
       "584698            2.609608\n",
       "584699            2.608307"
      ]
     },
     "execution_count": 27,
     "metadata": {},
     "output_type": "execute_result"
    }
   ],
   "source": [
    "X.tail(3)"
   ]
  },
  {
   "cell_type": "code",
   "execution_count": 28,
   "metadata": {},
   "outputs": [
    {
     "name": "stdout",
     "output_type": "stream",
     "text": [
      "CPU times: user 7.65 s, sys: 205 ms, total: 7.85 s\n",
      "Wall time: 1.08 s\n"
     ]
    }
   ],
   "source": [
    "%%time\n",
    "list_comp = [4]\n",
    "\n",
    "marked_regimes = []\n",
    "for comp in range(len(list_comp)):\n",
    "    marked_regimes.append(clustering_GaussianHMM(df_data = X,\n",
    "                                                 n_components_=list_comp[comp]))"
   ]
  },
  {
   "cell_type": "code",
   "execution_count": 29,
   "metadata": {},
   "outputs": [],
   "source": [
    "# %%time\n",
    "# model = GaussianMixture(n_components=4, covariance_type=\"full\")\n",
    "# model.fit(X)\n",
    "# test1 = model.predict(X)\n",
    "# pd.DataFrame(test1)[0].unique()\n",
    "# with open(\"Clustering model 2019-2020_11.pkl\", \"wb\") as file: \n",
    "#     pickle.dump(model, file)\n",
    "# test2 = []\n",
    "# for i in range(len(X)):\n",
    "#     test2.append(model.predict([[X[['Volatility_STD1000']].values[i][0]]])[0])\n",
    "# pd.DataFrame(test2)[0].unique()\n",
    "# from sklearn.metrics.cluster import adjusted_rand_score\n",
    "# adjusted_rand_score(test1, test2)"
   ]
  },
  {
   "cell_type": "code",
   "execution_count": 30,
   "metadata": {},
   "outputs": [],
   "source": [
    "#Подготовка и сохранение модели\n",
    "# model = GaussianMixture(n_components=4, covariance_type=\"full\")\n",
    "# model.fit(X)\n",
    "# with open(\"Clustering model 2019-2020_12.pkl\", \"wb\") as file: \n",
    "#     pickle.dump(model, file)\n",
    "# with open(\"Clustering model 2019-2020_12.pkl\", \"rb\") as file: model = pickle.load(file)"
   ]
  },
  {
   "cell_type": "markdown",
   "metadata": {},
   "source": [
    "# Запись в файлы"
   ]
  },
  {
   "cell_type": "code",
   "execution_count": 31,
   "metadata": {},
   "outputs": [],
   "source": [
    "df_result = deepcopy(df_data_extended[['datetime','close','Volatility_STD1000']])\n",
    "for i in range(len(marked_regimes)):\n",
    "    df_result[str(list_comp[i])] = marked_regimes[i]\n",
    "#df_result['4'] = marked_regimes"
   ]
  },
  {
   "cell_type": "code",
   "execution_count": 32,
   "metadata": {},
   "outputs": [
    {
     "data": {
      "text/html": [
       "<div>\n",
       "<style scoped>\n",
       "    .dataframe tbody tr th:only-of-type {\n",
       "        vertical-align: middle;\n",
       "    }\n",
       "\n",
       "    .dataframe tbody tr th {\n",
       "        vertical-align: top;\n",
       "    }\n",
       "\n",
       "    .dataframe thead th {\n",
       "        text-align: right;\n",
       "    }\n",
       "</style>\n",
       "<table border=\"1\" class=\"dataframe\">\n",
       "  <thead>\n",
       "    <tr style=\"text-align: right;\">\n",
       "      <th></th>\n",
       "      <th>datetime</th>\n",
       "      <th>close</th>\n",
       "      <th>Volatility_STD1000</th>\n",
       "      <th>4</th>\n",
       "    </tr>\n",
       "  </thead>\n",
       "  <tbody>\n",
       "    <tr>\n",
       "      <th>0</th>\n",
       "      <td>2019-01-02 20:31:01.706620</td>\n",
       "      <td>3845.5</td>\n",
       "      <td>1.269966</td>\n",
       "      <td>3</td>\n",
       "    </tr>\n",
       "    <tr>\n",
       "      <th>1</th>\n",
       "      <td>2019-01-02 20:32:12.833091</td>\n",
       "      <td>3846.0</td>\n",
       "      <td>1.269043</td>\n",
       "      <td>3</td>\n",
       "    </tr>\n",
       "  </tbody>\n",
       "</table>\n",
       "</div>"
      ],
      "text/plain": [
       "                     datetime   close  Volatility_STD1000  4\n",
       "0  2019-01-02 20:31:01.706620  3845.5            1.269966  3\n",
       "1  2019-01-02 20:32:12.833091  3846.0            1.269043  3"
      ]
     },
     "execution_count": 32,
     "metadata": {},
     "output_type": "execute_result"
    }
   ],
   "source": [
    "df_result.head(2)"
   ]
  },
  {
   "cell_type": "markdown",
   "metadata": {},
   "source": [
    "# Блок 6. Результаты"
   ]
  },
  {
   "cell_type": "code",
   "execution_count": 33,
   "metadata": {},
   "outputs": [],
   "source": [
    "for i in range(len(marked_regimes)):\n",
    "    df_result[str(list_comp[i])] = df_result[str(list_comp[i])].map({0:'0', 1:'1', 2:'2', 3:'3', 4:'4', 5:'5', 6:'6', 7:'7', 8:'8', 9:'9',})\n",
    "#df_result['4'] = df_result['4'].map({0:'0', 1:'1', 2:'2', 3:'3', 4:'4', 5:'5', 6:'6', 7:'7', 8:'8', 9:'9',})"
   ]
  },
  {
   "cell_type": "code",
   "execution_count": 34,
   "metadata": {},
   "outputs": [
    {
     "data": {
      "text/html": [
       "<div>\n",
       "<style scoped>\n",
       "    .dataframe tbody tr th:only-of-type {\n",
       "        vertical-align: middle;\n",
       "    }\n",
       "\n",
       "    .dataframe tbody tr th {\n",
       "        vertical-align: top;\n",
       "    }\n",
       "\n",
       "    .dataframe thead th {\n",
       "        text-align: right;\n",
       "    }\n",
       "</style>\n",
       "<table border=\"1\" class=\"dataframe\">\n",
       "  <thead>\n",
       "    <tr style=\"text-align: right;\">\n",
       "      <th></th>\n",
       "      <th>datetime</th>\n",
       "      <th>close</th>\n",
       "      <th>Volatility_STD1000</th>\n",
       "      <th>4</th>\n",
       "    </tr>\n",
       "  </thead>\n",
       "  <tbody>\n",
       "    <tr>\n",
       "      <th>584698</th>\n",
       "      <td>2021-01-10 23:59:30.593566</td>\n",
       "      <td>38264.5</td>\n",
       "      <td>2.609608</td>\n",
       "      <td>2</td>\n",
       "    </tr>\n",
       "    <tr>\n",
       "      <th>584699</th>\n",
       "      <td>2021-01-10 23:59:59.886955</td>\n",
       "      <td>38225.0</td>\n",
       "      <td>2.608307</td>\n",
       "      <td>2</td>\n",
       "    </tr>\n",
       "  </tbody>\n",
       "</table>\n",
       "</div>"
      ],
      "text/plain": [
       "                          datetime    close  Volatility_STD1000  4\n",
       "584698  2021-01-10 23:59:30.593566  38264.5            2.609608  2\n",
       "584699  2021-01-10 23:59:59.886955  38225.0            2.608307  2"
      ]
     },
     "execution_count": 34,
     "metadata": {},
     "output_type": "execute_result"
    }
   ],
   "source": [
    "df_result.tail(2)"
   ]
  },
  {
   "cell_type": "code",
   "execution_count": 35,
   "metadata": {},
   "outputs": [],
   "source": [
    "list_file = ['clustering',#0\n",
    "            ]\n",
    "fname = list_file[0]"
   ]
  },
  {
   "cell_type": "code",
   "execution_count": 36,
   "metadata": {},
   "outputs": [
    {
     "data": {
      "text/plain": [
       "'/home/brainiac/Vlad/Git Files/CryptoLp DataScience/Projects/01. Market-Regimes/Данные/clustering_Volatility_STD10001.html'"
      ]
     },
     "execution_count": 36,
     "metadata": {},
     "output_type": "execute_result"
    },
    {
     "data": {
      "text/plain": [
       "'/home/brainiac/Vlad/Git Files/CryptoLp DataScience/Projects/01. Market-Regimes/Данные/clustering_41.html'"
      ]
     },
     "execution_count": 36,
     "metadata": {},
     "output_type": "execute_result"
    }
   ],
   "source": [
    "for regime in list(df_result.columns[2:]):\n",
    "    fig = show_plot_plotly(df_data=df_result,\n",
    "                           left_border = 0, right_border=len(df_result),\n",
    "                           x_='datetime', y_='close',                          \n",
    "                           color_=regime, title_=fname+'_'+regime\n",
    "                          )\n",
    "    plotly.offline.plot(fig, filename='/home/brainiac/Vlad/Git Files/CryptoLp DataScience/Projects/01. Market-Regimes/Данные/'+fname+'_'+regime+'1.html')"
   ]
  },
  {
   "cell_type": "code",
   "execution_count": 37,
   "metadata": {},
   "outputs": [
    {
     "data": {
      "text/html": [
       "<div>\n",
       "<style scoped>\n",
       "    .dataframe tbody tr th:only-of-type {\n",
       "        vertical-align: middle;\n",
       "    }\n",
       "\n",
       "    .dataframe tbody tr th {\n",
       "        vertical-align: top;\n",
       "    }\n",
       "\n",
       "    .dataframe thead th {\n",
       "        text-align: right;\n",
       "    }\n",
       "</style>\n",
       "<table border=\"1\" class=\"dataframe\">\n",
       "  <thead>\n",
       "    <tr style=\"text-align: right;\">\n",
       "      <th></th>\n",
       "      <th>datetime</th>\n",
       "      <th>close</th>\n",
       "      <th>Volatility_STD1000</th>\n",
       "      <th>4</th>\n",
       "    </tr>\n",
       "  </thead>\n",
       "  <tbody>\n",
       "    <tr>\n",
       "      <th>584697</th>\n",
       "      <td>2021-01-10 23:57:36.495287</td>\n",
       "      <td>38300.0</td>\n",
       "      <td>2.609907</td>\n",
       "      <td>2</td>\n",
       "    </tr>\n",
       "    <tr>\n",
       "      <th>584698</th>\n",
       "      <td>2021-01-10 23:59:30.593566</td>\n",
       "      <td>38264.5</td>\n",
       "      <td>2.609608</td>\n",
       "      <td>2</td>\n",
       "    </tr>\n",
       "    <tr>\n",
       "      <th>584699</th>\n",
       "      <td>2021-01-10 23:59:59.886955</td>\n",
       "      <td>38225.0</td>\n",
       "      <td>2.608307</td>\n",
       "      <td>2</td>\n",
       "    </tr>\n",
       "  </tbody>\n",
       "</table>\n",
       "</div>"
      ],
      "text/plain": [
       "                          datetime    close  Volatility_STD1000  4\n",
       "584697  2021-01-10 23:57:36.495287  38300.0            2.609907  2\n",
       "584698  2021-01-10 23:59:30.593566  38264.5            2.609608  2\n",
       "584699  2021-01-10 23:59:59.886955  38225.0            2.608307  2"
      ]
     },
     "execution_count": 37,
     "metadata": {},
     "output_type": "execute_result"
    }
   ],
   "source": [
    "df_result.tail(3)"
   ]
  },
  {
   "cell_type": "code",
   "execution_count": 38,
   "metadata": {},
   "outputs": [
    {
     "data": {
      "text/plain": [
       "5.36533593130134"
      ]
     },
     "execution_count": 38,
     "metadata": {},
     "output_type": "execute_result"
    },
    {
     "data": {
      "text/plain": [
       "30.692298111109398"
      ]
     },
     "execution_count": 38,
     "metadata": {},
     "output_type": "execute_result"
    },
    {
     "data": {
      "text/plain": [
       "13.2612491203348"
      ]
     },
     "execution_count": 38,
     "metadata": {},
     "output_type": "execute_result"
    },
    {
     "data": {
      "text/plain": [
       "2.5953996704758815"
      ]
     },
     "execution_count": 38,
     "metadata": {},
     "output_type": "execute_result"
    }
   ],
   "source": [
    "regime_0 = df_result[df_result['4'] == '0']\n",
    "regime_1 = df_result[df_result['4'] == '1']\n",
    "regime_2 = df_result[df_result['4'] == '2']\n",
    "regime_3 = df_result[df_result['4'] == '3']\n",
    "\n",
    "regime_0['Volatility_STD1000'].min()+regime_0['Volatility_STD1000'].mean()+regime_0['Volatility_STD1000'].max()\n",
    "regime_1['Volatility_STD1000'].min()+regime_1['Volatility_STD1000'].mean()+regime_1['Volatility_STD1000'].max()\n",
    "regime_2['Volatility_STD1000'].min()+regime_2['Volatility_STD1000'].mean()+regime_2['Volatility_STD1000'].max()\n",
    "regime_3['Volatility_STD1000'].min()+regime_3['Volatility_STD1000'].mean()+regime_3['Volatility_STD1000'].max()"
   ]
  },
  {
   "cell_type": "code",
   "execution_count": 39,
   "metadata": {},
   "outputs": [
    {
     "data": {
      "text/plain": [
       "2.5953996704758815"
      ]
     },
     "execution_count": 39,
     "metadata": {},
     "output_type": "execute_result"
    },
    {
     "data": {
      "text/plain": [
       "30.692298111109398"
      ]
     },
     "execution_count": 39,
     "metadata": {},
     "output_type": "execute_result"
    }
   ],
   "source": [
    "l = [regime_0['Volatility_STD1000'].min()+regime_0['Volatility_STD1000'].mean()+regime_0['Volatility_STD1000'].max(),\n",
    "     regime_1['Volatility_STD1000'].min()+regime_1['Volatility_STD1000'].mean()+regime_1['Volatility_STD1000'].max(),\n",
    "     regime_2['Volatility_STD1000'].min()+regime_2['Volatility_STD1000'].mean()+regime_2['Volatility_STD1000'].max(),\n",
    "     regime_3['Volatility_STD1000'].min()+regime_3['Volatility_STD1000'].mean()+regime_3['Volatility_STD1000'].max(),\n",
    "    ]\n",
    "min(l)\n",
    "max(l)"
   ]
  },
  {
   "cell_type": "code",
   "execution_count": 40,
   "metadata": {},
   "outputs": [],
   "source": [
    "df_result['4'] = df_result['4'].map({'3':'regime0',\n",
    "                                     '0':'regime1',\n",
    "                                     '2':'regime2',\n",
    "                                     '1':'regime3',\n",
    "                                    })"
   ]
  },
  {
   "cell_type": "code",
   "execution_count": 41,
   "metadata": {},
   "outputs": [],
   "source": [
    "df_result[(df_result['datetime']>=\"2020-03-01\") &\n",
    "          (df_result['datetime']<\"2021-02-01\")][['datetime','4']].to_csv('/home/brainiac/Vlad/Basic_Model_700T_Vol1000 03_01.csv',index=False)"
   ]
  },
  {
   "cell_type": "code",
   "execution_count": 42,
   "metadata": {},
   "outputs": [
    {
     "data": {
      "text/plain": [
       "'/home/brainiac/Vlad/700T_Vol1000.html'"
      ]
     },
     "execution_count": 42,
     "metadata": {},
     "output_type": "execute_result"
    }
   ],
   "source": [
    "df_vlad = df_result[(df_result['datetime']>=\"2020-03-01\") & (df_result['datetime']<\"2021-01-31\")]\n",
    "fig = show_plot_plotly(df_data=df_vlad,\n",
    "                       left_border = 0,\n",
    "                       right_border=len(df_vlad),\n",
    "                       x_='datetime',\n",
    "                       y_='close',\n",
    "                       color_=regime,\n",
    "                       title_='700T_Vol1000'\n",
    "                      )\n",
    "plotly.offline.plot(fig, filename='/home/brainiac/Vlad/700T_Vol1000.html')"
   ]
  },
  {
   "cell_type": "code",
   "execution_count": null,
   "metadata": {},
   "outputs": [],
   "source": []
  }
 ],
 "metadata": {
  "kernelspec": {
   "display_name": "Python 3",
   "language": "python",
   "name": "python3"
  },
  "language_info": {
   "codemirror_mode": {
    "name": "ipython",
    "version": 3
   },
   "file_extension": ".py",
   "mimetype": "text/x-python",
   "name": "python",
   "nbconvert_exporter": "python",
   "pygments_lexer": "ipython3",
   "version": "3.8.5"
  }
 },
 "nbformat": 4,
 "nbformat_minor": 4
}
