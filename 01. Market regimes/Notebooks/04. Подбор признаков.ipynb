{
 "cells": [
  {
   "cell_type": "markdown",
   "metadata": {},
   "source": [
    "# Блок 1. Импорт"
   ]
  },
  {
   "cell_type": "code",
   "execution_count": 1,
   "metadata": {},
   "outputs": [],
   "source": [
    "import ta\n",
    "import math\n",
    "import numpy as np\n",
    "import pandas as pd\n",
    "import ruptures as rpt\n",
    "import pandas_profiling\n",
    "from tqdm import tqdm\n",
    "from copy import deepcopy\n",
    "from sklearn.mixture import GaussianMixture"
   ]
  },
  {
   "cell_type": "code",
   "execution_count": 2,
   "metadata": {},
   "outputs": [
    {
     "data": {
      "text/html": [
       "        <script type=\"text/javascript\">\n",
       "        window.PlotlyConfig = {MathJaxConfig: 'local'};\n",
       "        if (window.MathJax) {MathJax.Hub.Config({SVG: {font: \"STIX-Web\"}});}\n",
       "        if (typeof require !== 'undefined') {\n",
       "        require.undef(\"plotly\");\n",
       "        requirejs.config({\n",
       "            paths: {\n",
       "                'plotly': ['https://cdn.plot.ly/plotly-latest.min']\n",
       "            }\n",
       "        });\n",
       "        require(['plotly'], function(Plotly) {\n",
       "            window._Plotly = Plotly;\n",
       "        });\n",
       "        }\n",
       "        </script>\n",
       "        "
      ]
     },
     "metadata": {},
     "output_type": "display_data"
    }
   ],
   "source": [
    "import cufflinks as cf\n",
    "import plotly.offline\n",
    "import plotly.express as px\n",
    "cf.go_offline()\n",
    "cf.set_config_file(offline=False, world_readable=True)\n",
    "from IPython.core.interactiveshell import InteractiveShell\n",
    "InteractiveShell.ast_node_interactivity = \"all\""
   ]
  },
  {
   "cell_type": "code",
   "execution_count": 3,
   "metadata": {},
   "outputs": [],
   "source": [
    "import sys\n",
    "if not sys.warnoptions:\n",
    "    import warnings\n",
    "    warnings.simplefilter(\"ignore\")"
   ]
  },
  {
   "cell_type": "code",
   "execution_count": 4,
   "metadata": {},
   "outputs": [],
   "source": [
    "path = '/home/brainiac/Vlad/Git Files/CryptoLp DataScience/DataSets/'\n",
    "file = 'Bars_700t_Exp_Profits'"
   ]
  },
  {
   "cell_type": "code",
   "execution_count": 5,
   "metadata": {},
   "outputs": [],
   "source": [
    "df_data = pd.read_csv(path+file+'.csv')\n",
    "df_data = df_data.dropna()\n",
    "df_data.index = range(len(df_data))"
   ]
  },
  {
   "cell_type": "code",
   "execution_count": 6,
   "metadata": {},
   "outputs": [
    {
     "data": {
      "text/html": [
       "<div>\n",
       "<style scoped>\n",
       "    .dataframe tbody tr th:only-of-type {\n",
       "        vertical-align: middle;\n",
       "    }\n",
       "\n",
       "    .dataframe tbody tr th {\n",
       "        vertical-align: top;\n",
       "    }\n",
       "\n",
       "    .dataframe thead th {\n",
       "        text-align: right;\n",
       "    }\n",
       "</style>\n",
       "<table border=\"1\" class=\"dataframe\">\n",
       "  <thead>\n",
       "    <tr style=\"text-align: right;\">\n",
       "      <th></th>\n",
       "      <th>datetime</th>\n",
       "      <th>open</th>\n",
       "      <th>low</th>\n",
       "      <th>high</th>\n",
       "      <th>close</th>\n",
       "      <th>volume</th>\n",
       "      <th>Naive_Strategy_Profits</th>\n",
       "      <th>Naive_Hedge_Strategy_Profits</th>\n",
       "      <th>Ml_Hedge_Strategy_Profits</th>\n",
       "    </tr>\n",
       "  </thead>\n",
       "  <tbody>\n",
       "    <tr>\n",
       "      <th>485200</th>\n",
       "      <td>2020-05-17 23:47:01.913122</td>\n",
       "      <td>9681.0</td>\n",
       "      <td>9674.5</td>\n",
       "      <td>9686.0</td>\n",
       "      <td>9685.5</td>\n",
       "      <td>2465104</td>\n",
       "      <td>-5.39342</td>\n",
       "      <td>0</td>\n",
       "      <td>0</td>\n",
       "    </tr>\n",
       "    <tr>\n",
       "      <th>485201</th>\n",
       "      <td>2020-05-17 23:50:58.915882</td>\n",
       "      <td>9685.5</td>\n",
       "      <td>9667.5</td>\n",
       "      <td>9685.5</td>\n",
       "      <td>9667.5</td>\n",
       "      <td>2246675</td>\n",
       "      <td>18.101</td>\n",
       "      <td>12.4623</td>\n",
       "      <td>0</td>\n",
       "    </tr>\n",
       "    <tr>\n",
       "      <th>485202</th>\n",
       "      <td>2020-05-17 23:52:54.954397</td>\n",
       "      <td>9667.5</td>\n",
       "      <td>9658.0</td>\n",
       "      <td>9668.0</td>\n",
       "      <td>9658.5</td>\n",
       "      <td>1366501</td>\n",
       "      <td>8.62899</td>\n",
       "      <td>11.1655</td>\n",
       "      <td>0</td>\n",
       "    </tr>\n",
       "    <tr>\n",
       "      <th>485203</th>\n",
       "      <td>2020-05-17 23:55:48.403255</td>\n",
       "      <td>9658.5</td>\n",
       "      <td>9658.0</td>\n",
       "      <td>9668.0</td>\n",
       "      <td>9662.0</td>\n",
       "      <td>2329572</td>\n",
       "      <td>-8.75398</td>\n",
       "      <td>-11.4119</td>\n",
       "      <td>0</td>\n",
       "    </tr>\n",
       "    <tr>\n",
       "      <th>485204</th>\n",
       "      <td>2020-05-17 23:59:42.672295</td>\n",
       "      <td>9662.0</td>\n",
       "      <td>9661.5</td>\n",
       "      <td>9674.5</td>\n",
       "      <td>9674.5</td>\n",
       "      <td>1767495</td>\n",
       "      <td>-5.82932</td>\n",
       "      <td>6.59536</td>\n",
       "      <td>0</td>\n",
       "    </tr>\n",
       "  </tbody>\n",
       "</table>\n",
       "</div>"
      ],
      "text/plain": [
       "                          datetime    open     low    high   close   volume  \\\n",
       "485200  2020-05-17 23:47:01.913122  9681.0  9674.5  9686.0  9685.5  2465104   \n",
       "485201  2020-05-17 23:50:58.915882  9685.5  9667.5  9685.5  9667.5  2246675   \n",
       "485202  2020-05-17 23:52:54.954397  9667.5  9658.0  9668.0  9658.5  1366501   \n",
       "485203  2020-05-17 23:55:48.403255  9658.5  9658.0  9668.0  9662.0  2329572   \n",
       "485204  2020-05-17 23:59:42.672295  9662.0  9661.5  9674.5  9674.5  1767495   \n",
       "\n",
       "       Naive_Strategy_Profits Naive_Hedge_Strategy_Profits  \\\n",
       "485200               -5.39342                            0   \n",
       "485201                 18.101                      12.4623   \n",
       "485202                8.62899                      11.1655   \n",
       "485203               -8.75398                     -11.4119   \n",
       "485204               -5.82932                      6.59536   \n",
       "\n",
       "       Ml_Hedge_Strategy_Profits  \n",
       "485200                         0  \n",
       "485201                         0  \n",
       "485202                         0  \n",
       "485203                         0  \n",
       "485204                         0  "
      ]
     },
     "execution_count": 6,
     "metadata": {},
     "output_type": "execute_result"
    }
   ],
   "source": [
    "df_data.tail()"
   ]
  },
  {
   "cell_type": "markdown",
   "metadata": {},
   "source": [
    "# Блок 2. Основные функции"
   ]
  },
  {
   "cell_type": "code",
   "execution_count": 7,
   "metadata": {},
   "outputs": [],
   "source": [
    "# Вычисление возвратов (Не используется)\n",
    "def calculation_returns(df_data_close_price:pd.Series):\n",
    "    returns = df_data_close_price.pct_change()*100\n",
    "    return returns"
   ]
  },
  {
   "cell_type": "code",
   "execution_count": 8,
   "metadata": {},
   "outputs": [],
   "source": [
    "# Вычисление стандартной волатильности\n",
    "def calculation_volatility_STD(df_data_close_price:pd.Series,\n",
    "                               win_size):\n",
    "    volatility_STD = df_data_close_price.pct_change().rolling(win_size).std()*100\n",
    "    return volatility_STD"
   ]
  },
  {
   "cell_type": "code",
   "execution_count": 9,
   "metadata": {},
   "outputs": [],
   "source": [
    "# Кластеризация\n",
    "def clustering_GaussianHMM(df_data:pd.DataFrame,\n",
    "                           n_components_:int,\n",
    "                          ):\n",
    "    model = GaussianMixture(n_components=n_components_, covariance_type=\"full\")\n",
    "    model.fit(df_data)\n",
    "    marked_regimes = model.predict(df_data)\n",
    "    return marked_regimes"
   ]
  },
  {
   "cell_type": "code",
   "execution_count": 10,
   "metadata": {},
   "outputs": [],
   "source": [
    "# Построение графиков\n",
    "def show_plot_plotly(df_data:pd.DataFrame,\n",
    "                     left_border,\n",
    "                     right_border,\n",
    "                     x_,\n",
    "                     y_,\n",
    "                     color_:str,\n",
    "                     title_:str,             \n",
    "             ):  \n",
    "    fig = px.scatter(df_data[left_border:right_border], \n",
    "                 x=x_, \n",
    "                 y=y_, \n",
    "                 color=color_, \n",
    "                 #color_discrete_sequence=['blue','darkorange','green','red','gold', 'black'], \n",
    "                 title=title_\n",
    "                )    \n",
    "    return fig"
   ]
  },
  {
   "cell_type": "markdown",
   "metadata": {},
   "source": [
    "# Блок 3. Возможно нужные функции"
   ]
  },
  {
   "cell_type": "code",
   "execution_count": 11,
   "metadata": {},
   "outputs": [
    {
     "data": {
      "text/html": [
       "<div>\n",
       "<style scoped>\n",
       "    .dataframe tbody tr th:only-of-type {\n",
       "        vertical-align: middle;\n",
       "    }\n",
       "\n",
       "    .dataframe tbody tr th {\n",
       "        vertical-align: top;\n",
       "    }\n",
       "\n",
       "    .dataframe thead th {\n",
       "        text-align: right;\n",
       "    }\n",
       "</style>\n",
       "<table border=\"1\" class=\"dataframe\">\n",
       "  <thead>\n",
       "    <tr style=\"text-align: right;\">\n",
       "      <th></th>\n",
       "      <th>datetime</th>\n",
       "      <th>open</th>\n",
       "      <th>low</th>\n",
       "      <th>high</th>\n",
       "      <th>close</th>\n",
       "      <th>volume</th>\n",
       "      <th>Naive_Strategy_Profits</th>\n",
       "      <th>Naive_Hedge_Strategy_Profits</th>\n",
       "      <th>Ml_Hedge_Strategy_Profits</th>\n",
       "    </tr>\n",
       "  </thead>\n",
       "  <tbody>\n",
       "    <tr>\n",
       "      <th>0</th>\n",
       "      <td>2019-01-01 00:02:29.356431</td>\n",
       "      <td>3693.0</td>\n",
       "      <td>3690.5</td>\n",
       "      <td>3694.5</td>\n",
       "      <td>3690.5</td>\n",
       "      <td>1659932</td>\n",
       "      <td>-</td>\n",
       "      <td>-</td>\n",
       "      <td>-</td>\n",
       "    </tr>\n",
       "  </tbody>\n",
       "</table>\n",
       "</div>"
      ],
      "text/plain": [
       "                     datetime    open     low    high   close   volume  \\\n",
       "0  2019-01-01 00:02:29.356431  3693.0  3690.5  3694.5  3690.5  1659932   \n",
       "\n",
       "  Naive_Strategy_Profits Naive_Hedge_Strategy_Profits  \\\n",
       "0                      -                            -   \n",
       "\n",
       "  Ml_Hedge_Strategy_Profits  \n",
       "0                         -  "
      ]
     },
     "execution_count": 11,
     "metadata": {},
     "output_type": "execute_result"
    }
   ],
   "source": [
    "df_data.head(1)"
   ]
  },
  {
   "cell_type": "code",
   "execution_count": 12,
   "metadata": {},
   "outputs": [],
   "source": [
    "high = df_data['high']\n",
    "low = df_data['low']\n",
    "close = df_data['close']\n",
    "volume = df_data['volume']"
   ]
  },
  {
   "cell_type": "markdown",
   "metadata": {},
   "source": [
    "### Momentum Indicators"
   ]
  },
  {
   "cell_type": "code",
   "execution_count": 13,
   "metadata": {},
   "outputs": [
    {
     "name": "stdout",
     "output_type": "stream",
     "text": [
      "CPU times: user 23.2 s, sys: 181 ms, total: 23.4 s\n",
      "Wall time: 23.1 s\n"
     ]
    }
   ],
   "source": [
    "%%time\n",
    "momentum_ao = ta.momentum.ao(high, low, s=5, len=34, fillna=False)\n",
    "momentum_kama = ta.momentum.kama(close, n=10, pow1=2, pow2=30, fillna=False)\n",
    "momentum_roc = ta.momentum.roc(close, n=12, fillna=False)\n",
    "momentum_rsi = ta.momentum.rsi(close, n=14, fillna=False)\n",
    "momentum_stoch = ta.momentum.stoch(high, low, close, n=14, d_n=3, fillna=False)\n",
    "momentum_tsi = ta.momentum.tsi(close, r=25, s=13, fillna=False)\n",
    "momentum_uo = ta.momentum.uo(high, low, close, s=7, m=14, len=28, ws=4.0, wm=2.0, wl=1.0, fillna=False)\n",
    "momentum_wr = ta.momentum.wr(high, low, close, lbp=14, fillna=False)"
   ]
  },
  {
   "cell_type": "markdown",
   "metadata": {},
   "source": [
    "### Volume Indicators"
   ]
  },
  {
   "cell_type": "code",
   "execution_count": 14,
   "metadata": {},
   "outputs": [
    {
     "name": "stdout",
     "output_type": "stream",
     "text": [
      "CPU times: user 33.5 s, sys: 15.5 ms, total: 33.6 s\n",
      "Wall time: 33.5 s\n"
     ]
    }
   ],
   "source": [
    "%%time\n",
    "volume_acc_dist_index = ta.volume.acc_dist_index(high, low, close, volume, fillna=False)\n",
    "volume_chaikin_money_flow = ta.volume.chaikin_money_flow(high, low, close, volume, n=20, fillna=False)\n",
    "volume_ease_of_movement = ta.volume.ease_of_movement(high, low, volume, n=14, fillna=False)\n",
    "volume_force_index = ta.volume.force_index(close, volume, n=13, fillna=False)\n",
    "volume_money_flow_index = ta.volume.money_flow_index(high, low, close, volume, n=14, fillna=False)\n",
    "volume_negative_volume_index = ta.volume.negative_volume_index(close, volume, fillna=False)\n",
    "volume_on_balance_volume = ta.volume.on_balance_volume(close, volume, fillna=False)\n",
    "volume_sma_ease_of_movement = ta.volume.sma_ease_of_movement(high, low, volume, n=14, fillna=False)\n",
    "volume_volume_price_trend = ta.volume.volume_price_trend(close, volume, fillna=False)\n",
    "volume_volume_weighted_average_price = ta.volume.volume_weighted_average_price(high, low, close, volume, n=14, fillna= False)"
   ]
  },
  {
   "cell_type": "markdown",
   "metadata": {},
   "source": [
    "### Trend Indicators"
   ]
  },
  {
   "cell_type": "code",
   "execution_count": 15,
   "metadata": {},
   "outputs": [
    {
     "name": "stdout",
     "output_type": "stream",
     "text": [
      "CPU times: user 2min 20s, sys: 91.7 ms, total: 2min 20s\n",
      "Wall time: 2min 20s\n"
     ]
    }
   ],
   "source": [
    "%%time\n",
    "trend_adx = ta.trend.adx(high, low, close, n=14, fillna=False)\n",
    "trend_adx_neg = ta.trend.adx_neg(high, low, close, n=14, fillna=False)\n",
    "trend_adx_pos = ta.trend.adx_pos(high, low, close, n=14, fillna=False)\n",
    "trend_aroon_down = ta.trend.aroon_down(close, n=25, fillna=False)\n",
    "trend_cci = ta.trend.cci(high, low, close, n=20, c=0.015, fillna=False)\n",
    "trend_dpo = ta.trend.dpo(close, n=20, fillna=False)\n",
    "trend_ema_indicator = ta.trend.ema_indicator(close, n=12, fillna=False)\n",
    "trend_ichimoku_a = ta.trend.ichimoku_a(high, low, n1=9, n2=26, visual=False, fillna=False)\n",
    "trend_macd = ta.trend.macd(close, n_slow=26, n_fast=12, fillna=False) \n",
    "trend_mass_index = ta.trend.mass_index(high, low, n=9, n2=25, fillna=False)\n",
    "trend_psar_down = ta.trend.psar_down(high, low, close, step=0.02, max_step=0.2, fillna=False)\n",
    "trend_sma_indicator = ta.trend.sma_indicator(close, n=12, fillna=False)\n",
    "trend_trix = ta.trend.trix(close, n=15, fillna=False)\n",
    "trend_vortex_indicator_neg = ta.trend.vortex_indicator_neg(high, low, close, n=14, fillna=False)"
   ]
  },
  {
   "cell_type": "markdown",
   "metadata": {},
   "source": [
    "### Others"
   ]
  },
  {
   "cell_type": "code",
   "execution_count": 16,
   "metadata": {},
   "outputs": [],
   "source": [
    "# %%time\n",
    "# from scipy.stats import kurtosis,skew, boxcox, norm \n",
    "# l_kurtosis = []\n",
    "# l_skewness = []\n",
    "# price = df_data['close'].values\n",
    "# for i in tqdm(range(len(price)+100)):\n",
    "#     l_kurtosis.append(kurtosis(price[i:i+100]))\n",
    "#     l_skewness.append(skew(price[i:i+100]))\n",
    "# df_data['kurtosis'] = l_kurtosis[:(len(l_kurtosis)-100)]\n",
    "# df_data['skewness'] = l_skewness[:(len(l_skewness)-100)]"
   ]
  },
  {
   "cell_type": "code",
   "execution_count": 17,
   "metadata": {},
   "outputs": [],
   "source": [
    "# Блок 4. Получение новых признаков"
   ]
  },
  {
   "cell_type": "code",
   "execution_count": 18,
   "metadata": {},
   "outputs": [],
   "source": [
    "# %%time\n",
    "# Returns = calculation_returns(df_data['close'])\n",
    "# Structural_Breaks = detect_structural_breaks(df_data_close_price=df_data['close'], batch_size=20_000)"
   ]
  },
  {
   "cell_type": "code",
   "execution_count": 19,
   "metadata": {},
   "outputs": [
    {
     "name": "stdout",
     "output_type": "stream",
     "text": [
      "CPU times: user 20.6 ms, sys: 1 µs, total: 20.6 ms\n",
      "Wall time: 17.1 ms\n"
     ]
    }
   ],
   "source": [
    "%%time\n",
    "param_Vol_Std = [1000]\n",
    "dict_vol_Std = dict.fromkeys(param_Vol_Std)\n",
    "for i in dict_vol_Std.keys():\n",
    "    dict_vol_Std[i] = calculation_volatility_STD(df_data_close_price=df_data['close'],\n",
    "                                                 win_size=i)  "
   ]
  },
  {
   "cell_type": "code",
   "execution_count": 20,
   "metadata": {},
   "outputs": [],
   "source": [
    "df_data_extended = deepcopy(df_data)\n",
    "df_data_extended['momentum_roc'] = momentum_roc\n",
    "df_data_extended['momentum_uo'] = momentum_uo\n",
    "\n",
    "#df_data_extended['momentum_ao'] = momentum_ao\n",
    "#df_data_extended['momentum_kama'] = momentum_kama\n",
    "#df_data_extended['momentum_stoch'] = momentum_stoch\n",
    "#df_data_extended['momentum_tsi'] = momentum_tsi\n",
    "#df_data_extended['momentum_wr'] = momentum_wr\n",
    "#df_data_extended['momentum_rsi'] = momentum_rsi\n",
    "\n",
    "df_data_extended['trend_cci'] = trend_cci\n",
    "df_data_extended['trend_psar_down'] = trend_psar_down\n",
    "\n",
    "#df_data_extended['trend_adx'] = trend_adx\n",
    "#df_data_extended['trend_adx_neg'] = trend_adx_neg\n",
    "#df_data_extended['trend_adx_pos'] = trend_adx_pos\n",
    "#df_data_extended['trend_aroon_down'] = trend_aroon_down\n",
    "#df_data_extended['trend_dpo'] = trend_dpo\n",
    "#df_data_extended['trend_ema_indicator'] = trend_ema_indicator\n",
    "#df_data_extended['trend_ichimoku_a'] = trend_ichimoku_a\n",
    "#df_data_extended['trend_macd'] = trend_macd\n",
    "#df_data_extended['trend_mass_index'] = trend_mass_index\n",
    "#df_data_extended['trend_sma_indicator'] = trend_sma_indicator\n",
    "#df_data_extended['trend_trix'] = trend_trix\n",
    "#df_data_extended['trend_vortex_indicator_neg'] = trend_vortex_indicator_neg\n",
    "\n",
    "#df_data_extended['volume_acc_dist_index'] = volume_acc_dist_index\n",
    "#df_data_extended['volume_chaikin_money_flow'] = volume_chaikin_money_flow\n",
    "#df_data_extended['volume_ease_of_movement'] = volume_ease_of_movement\n",
    "#df_data_extended['volume_force_index'] = volume_force_index\n",
    "#df_data_extended['volume_money_flow_index'] = volume_money_flow_index\n",
    "#df_data_extended['volume_negative_volume_index'] = volume_negative_volume_index\n",
    "#df_data_extended['volume_on_balance_volume'] = volume_on_balance_volume\n",
    "#df_data_extended['volume_sma_ease_of_movement'] = volume_sma_ease_of_movement\n",
    "#df_data_extended['volume_volume_price_trend'] = volume_volume_price_trend\n",
    "#df_data_extended['volume_volume_weighted_average_price'] = volume_volume_weighted_average_price"
   ]
  },
  {
   "cell_type": "code",
   "execution_count": 21,
   "metadata": {},
   "outputs": [],
   "source": [
    "# df_data_extended['Returns'] = Returns\n",
    "# df_data_extended['SB'] = Structural_Breaks\n",
    "for i in dict_vol_Std.keys():\n",
    "    df_data_extended['Volatility_STD'+str(i)] = dict_vol_Std[i]\n",
    "df_data_extended = df_data_extended.dropna()\n",
    "df_data_extended.index = range(len(df_data_extended))"
   ]
  },
  {
   "cell_type": "code",
   "execution_count": 22,
   "metadata": {},
   "outputs": [
    {
     "data": {
      "text/html": [
       "<div>\n",
       "<style scoped>\n",
       "    .dataframe tbody tr th:only-of-type {\n",
       "        vertical-align: middle;\n",
       "    }\n",
       "\n",
       "    .dataframe tbody tr th {\n",
       "        vertical-align: top;\n",
       "    }\n",
       "\n",
       "    .dataframe thead th {\n",
       "        text-align: right;\n",
       "    }\n",
       "</style>\n",
       "<table border=\"1\" class=\"dataframe\">\n",
       "  <thead>\n",
       "    <tr style=\"text-align: right;\">\n",
       "      <th></th>\n",
       "      <th>datetime</th>\n",
       "      <th>open</th>\n",
       "      <th>low</th>\n",
       "      <th>high</th>\n",
       "      <th>close</th>\n",
       "      <th>volume</th>\n",
       "      <th>Naive_Strategy_Profits</th>\n",
       "      <th>Naive_Hedge_Strategy_Profits</th>\n",
       "      <th>Ml_Hedge_Strategy_Profits</th>\n",
       "      <th>momentum_roc</th>\n",
       "      <th>momentum_uo</th>\n",
       "      <th>trend_cci</th>\n",
       "      <th>trend_psar_down</th>\n",
       "      <th>Volatility_STD1000</th>\n",
       "    </tr>\n",
       "  </thead>\n",
       "  <tbody>\n",
       "    <tr>\n",
       "      <th>235880</th>\n",
       "      <td>2020-05-17 23:52:54.954397</td>\n",
       "      <td>9667.5</td>\n",
       "      <td>9658.0</td>\n",
       "      <td>9668.0</td>\n",
       "      <td>9658.5</td>\n",
       "      <td>1366501</td>\n",
       "      <td>8.62899</td>\n",
       "      <td>11.1655</td>\n",
       "      <td>0</td>\n",
       "      <td>-0.622492</td>\n",
       "      <td>43.016940</td>\n",
       "      <td>-153.213239</td>\n",
       "      <td>9701.194382</td>\n",
       "      <td>0.103486</td>\n",
       "    </tr>\n",
       "    <tr>\n",
       "      <th>235881</th>\n",
       "      <td>2020-05-17 23:55:48.403255</td>\n",
       "      <td>9658.5</td>\n",
       "      <td>9658.0</td>\n",
       "      <td>9668.0</td>\n",
       "      <td>9662.0</td>\n",
       "      <td>2329572</td>\n",
       "      <td>-8.75398</td>\n",
       "      <td>-11.4119</td>\n",
       "      <td>0</td>\n",
       "      <td>-0.576250</td>\n",
       "      <td>41.083390</td>\n",
       "      <td>-133.550552</td>\n",
       "      <td>9696.874944</td>\n",
       "      <td>0.103484</td>\n",
       "    </tr>\n",
       "    <tr>\n",
       "      <th>235882</th>\n",
       "      <td>2020-05-17 23:59:42.672295</td>\n",
       "      <td>9662.0</td>\n",
       "      <td>9661.5</td>\n",
       "      <td>9674.5</td>\n",
       "      <td>9674.5</td>\n",
       "      <td>1767495</td>\n",
       "      <td>-5.82932</td>\n",
       "      <td>6.59536</td>\n",
       "      <td>0</td>\n",
       "      <td>-0.278307</td>\n",
       "      <td>51.213588</td>\n",
       "      <td>-87.386405</td>\n",
       "      <td>9692.987449</td>\n",
       "      <td>0.103532</td>\n",
       "    </tr>\n",
       "  </tbody>\n",
       "</table>\n",
       "</div>"
      ],
      "text/plain": [
       "                          datetime    open     low    high   close   volume  \\\n",
       "235880  2020-05-17 23:52:54.954397  9667.5  9658.0  9668.0  9658.5  1366501   \n",
       "235881  2020-05-17 23:55:48.403255  9658.5  9658.0  9668.0  9662.0  2329572   \n",
       "235882  2020-05-17 23:59:42.672295  9662.0  9661.5  9674.5  9674.5  1767495   \n",
       "\n",
       "       Naive_Strategy_Profits Naive_Hedge_Strategy_Profits  \\\n",
       "235880                8.62899                      11.1655   \n",
       "235881               -8.75398                     -11.4119   \n",
       "235882               -5.82932                      6.59536   \n",
       "\n",
       "       Ml_Hedge_Strategy_Profits  momentum_roc  momentum_uo   trend_cci  \\\n",
       "235880                         0     -0.622492    43.016940 -153.213239   \n",
       "235881                         0     -0.576250    41.083390 -133.550552   \n",
       "235882                         0     -0.278307    51.213588  -87.386405   \n",
       "\n",
       "        trend_psar_down  Volatility_STD1000  \n",
       "235880      9701.194382            0.103486  \n",
       "235881      9696.874944            0.103484  \n",
       "235882      9692.987449            0.103532  "
      ]
     },
     "execution_count": 22,
     "metadata": {},
     "output_type": "execute_result"
    }
   ],
   "source": [
    "df_data_extended.tail(3)"
   ]
  },
  {
   "cell_type": "markdown",
   "metadata": {},
   "source": [
    "# Блок 5. Кластеризация"
   ]
  },
  {
   "cell_type": "code",
   "execution_count": 23,
   "metadata": {},
   "outputs": [],
   "source": [
    "X=df_data_extended.drop(['datetime',\n",
    "                         'open',\n",
    "                         'low',\n",
    "                         'high',\n",
    "                         'close',\n",
    "                         'volume',\n",
    "                         'Naive_Strategy_Profits',\n",
    "                         'Naive_Hedge_Strategy_Profits',\n",
    "                         'Ml_Hedge_Strategy_Profits'], \n",
    "                        axis=1)"
   ]
  },
  {
   "cell_type": "code",
   "execution_count": 24,
   "metadata": {},
   "outputs": [],
   "source": [
    "from sklearn.preprocessing import RobustScaler, MinMaxScaler\n",
    "X = RobustScaler().fit_transform(X)\n",
    "X = pd.DataFrame(data=X, columns=df_data_extended.drop(['datetime',\n",
    "                                                        'open',\n",
    "                                                        'low',\n",
    "                                                        'high',\n",
    "                                                        'close',\n",
    "                                                        'volume',\n",
    "                                                        'Naive_Strategy_Profits',\n",
    "                                                        'Naive_Hedge_Strategy_Profits',\n",
    "                                                        'Ml_Hedge_Strategy_Profits'], \n",
    "                                                       axis=1).columns)"
   ]
  },
  {
   "cell_type": "code",
   "execution_count": 25,
   "metadata": {},
   "outputs": [
    {
     "data": {
      "text/html": [
       "<div>\n",
       "<style scoped>\n",
       "    .dataframe tbody tr th:only-of-type {\n",
       "        vertical-align: middle;\n",
       "    }\n",
       "\n",
       "    .dataframe tbody tr th {\n",
       "        vertical-align: top;\n",
       "    }\n",
       "\n",
       "    .dataframe thead th {\n",
       "        text-align: right;\n",
       "    }\n",
       "</style>\n",
       "<table border=\"1\" class=\"dataframe\">\n",
       "  <thead>\n",
       "    <tr style=\"text-align: right;\">\n",
       "      <th></th>\n",
       "      <th>momentum_roc</th>\n",
       "      <th>momentum_uo</th>\n",
       "      <th>trend_cci</th>\n",
       "      <th>trend_psar_down</th>\n",
       "      <th>Volatility_STD1000</th>\n",
       "    </tr>\n",
       "  </thead>\n",
       "  <tbody>\n",
       "    <tr>\n",
       "      <th>0</th>\n",
       "      <td>1.901827</td>\n",
       "      <td>0.9668</td>\n",
       "      <td>1.521737</td>\n",
       "      <td>-1.685279</td>\n",
       "      <td>0.469278</td>\n",
       "    </tr>\n",
       "  </tbody>\n",
       "</table>\n",
       "</div>"
      ],
      "text/plain": [
       "   momentum_roc  momentum_uo  trend_cci  trend_psar_down  Volatility_STD1000\n",
       "0      1.901827       0.9668   1.521737        -1.685279            0.469278"
      ]
     },
     "execution_count": 25,
     "metadata": {},
     "output_type": "execute_result"
    }
   ],
   "source": [
    "X.head(1)"
   ]
  },
  {
   "cell_type": "code",
   "execution_count": 26,
   "metadata": {},
   "outputs": [
    {
     "name": "stdout",
     "output_type": "stream",
     "text": [
      "CPU times: user 32.2 s, sys: 47.2 s, total: 1min 19s\n",
      "Wall time: 14 s\n"
     ]
    }
   ],
   "source": [
    "%%time\n",
    "list_comp = [4,5,6,7]\n",
    "\n",
    "marked_regimes = []\n",
    "for comp in range(len(list_comp)):\n",
    "    marked_regimes.append(clustering_GaussianHMM(df_data = X,\n",
    "                                                 n_components_=list_comp[comp]))"
   ]
  },
  {
   "cell_type": "markdown",
   "metadata": {},
   "source": [
    "# Блок 6. Результаты"
   ]
  },
  {
   "cell_type": "code",
   "execution_count": 27,
   "metadata": {},
   "outputs": [],
   "source": [
    "df_result = deepcopy(df_data_extended[['datetime','close','Naive_Strategy_Profits','Naive_Hedge_Strategy_Profits','Ml_Hedge_Strategy_Profits']])\n",
    "for i in range(len(marked_regimes)):\n",
    "    df_result[str(list_comp[i])] = marked_regimes[i]"
   ]
  },
  {
   "cell_type": "code",
   "execution_count": 28,
   "metadata": {},
   "outputs": [],
   "source": [
    "for i in range(len(marked_regimes)):\n",
    "    df_result[str(list_comp[i])] = df_result[str(list_comp[i])].map({0:'0', 1:'1', 2:'2', 3:'3', 4:'4', 5:'5', 6:'6', 7:'7', 8:'8', 9:'9',})"
   ]
  },
  {
   "cell_type": "code",
   "execution_count": 29,
   "metadata": {},
   "outputs": [],
   "source": [
    "df_result = df_result[(df_result['datetime']>=\"2019-12-01\")][1:]\n",
    "df_result['Naive_Strategy_Profits'] = df_result['Naive_Strategy_Profits'].astype('float')\n",
    "df_result['Naive_Hedge_Strategy_Profits'] = df_result['Naive_Hedge_Strategy_Profits'].astype('float')\n",
    "df_result['Ml_Hedge_Strategy_Profits'] = df_result['Ml_Hedge_Strategy_Profits'].astype('float')"
   ]
  },
  {
   "cell_type": "code",
   "execution_count": 30,
   "metadata": {},
   "outputs": [],
   "source": [
    "#df_result = df_result[(df_result['datetime']>=\"2020-04-01\") & (df_result['datetime']<\"2020-05-01\")]\n",
    "df_result.index = range(len(df_result))"
   ]
  },
  {
   "cell_type": "code",
   "execution_count": 31,
   "metadata": {},
   "outputs": [
    {
     "data": {
      "text/html": [
       "<div>\n",
       "<style scoped>\n",
       "    .dataframe tbody tr th:only-of-type {\n",
       "        vertical-align: middle;\n",
       "    }\n",
       "\n",
       "    .dataframe tbody tr th {\n",
       "        vertical-align: top;\n",
       "    }\n",
       "\n",
       "    .dataframe thead th {\n",
       "        text-align: right;\n",
       "    }\n",
       "</style>\n",
       "<table border=\"1\" class=\"dataframe\">\n",
       "  <thead>\n",
       "    <tr style=\"text-align: right;\">\n",
       "      <th></th>\n",
       "      <th>datetime</th>\n",
       "      <th>close</th>\n",
       "      <th>Naive_Strategy_Profits</th>\n",
       "      <th>Naive_Hedge_Strategy_Profits</th>\n",
       "      <th>Ml_Hedge_Strategy_Profits</th>\n",
       "      <th>4</th>\n",
       "      <th>5</th>\n",
       "      <th>6</th>\n",
       "      <th>7</th>\n",
       "    </tr>\n",
       "  </thead>\n",
       "  <tbody>\n",
       "    <tr>\n",
       "      <th>86277</th>\n",
       "      <td>2020-05-17 23:55:48.403255</td>\n",
       "      <td>9662.0</td>\n",
       "      <td>-8.753977</td>\n",
       "      <td>-11.411892</td>\n",
       "      <td>0.0</td>\n",
       "      <td>0</td>\n",
       "      <td>3</td>\n",
       "      <td>5</td>\n",
       "      <td>3</td>\n",
       "    </tr>\n",
       "    <tr>\n",
       "      <th>86278</th>\n",
       "      <td>2020-05-17 23:59:42.672295</td>\n",
       "      <td>9674.5</td>\n",
       "      <td>-5.829320</td>\n",
       "      <td>6.595362</td>\n",
       "      <td>0.0</td>\n",
       "      <td>0</td>\n",
       "      <td>3</td>\n",
       "      <td>4</td>\n",
       "      <td>1</td>\n",
       "    </tr>\n",
       "  </tbody>\n",
       "</table>\n",
       "</div>"
      ],
      "text/plain": [
       "                         datetime   close  Naive_Strategy_Profits  \\\n",
       "86277  2020-05-17 23:55:48.403255  9662.0               -8.753977   \n",
       "86278  2020-05-17 23:59:42.672295  9674.5               -5.829320   \n",
       "\n",
       "       Naive_Hedge_Strategy_Profits  Ml_Hedge_Strategy_Profits  4  5  6  7  \n",
       "86277                    -11.411892                        0.0  0  3  5  3  \n",
       "86278                      6.595362                        0.0  0  3  4  1  "
      ]
     },
     "execution_count": 31,
     "metadata": {},
     "output_type": "execute_result"
    }
   ],
   "source": [
    "df_result.tail(2)"
   ]
  },
  {
   "cell_type": "code",
   "execution_count": 32,
   "metadata": {},
   "outputs": [
    {
     "data": {
      "text/plain": [
       "13.330010778984459"
      ]
     },
     "execution_count": 32,
     "metadata": {},
     "output_type": "execute_result"
    },
    {
     "data": {
      "text/plain": [
       "60.40983321549855"
      ]
     },
     "execution_count": 32,
     "metadata": {},
     "output_type": "execute_result"
    },
    {
     "data": {
      "text/plain": [
       "26.26015600551699"
      ]
     },
     "execution_count": 32,
     "metadata": {},
     "output_type": "execute_result"
    }
   ],
   "source": [
    "df_neg = df_result[df_result['Ml_Hedge_Strategy_Profits']<0]\n",
    "df_zero = df_result[df_result['Ml_Hedge_Strategy_Profits']==0]\n",
    "df_pos = df_result[df_result['Ml_Hedge_Strategy_Profits']>0]\n",
    "\n",
    "len(df_neg)/len(df_result)*100\n",
    "len(df_zero)/len(df_result)*100\n",
    "len(df_pos)/len(df_result)*100"
   ]
  },
  {
   "cell_type": "code",
   "execution_count": 33,
   "metadata": {},
   "outputs": [
    {
     "data": {
      "text/plain": [
       "(0, [5.008171165637061, 13.500388275246584, 33.64665793530291])"
      ]
     },
     "execution_count": 33,
     "metadata": {},
     "output_type": "execute_result"
    },
    {
     "data": {
      "text/plain": [
       "(1, [4.717254488345947, 6.316716698153664, 19.844921707483863])"
      ]
     },
     "execution_count": 33,
     "metadata": {},
     "output_type": "execute_result"
    },
    {
     "data": {
      "text/plain": [
       "(2, [0.08576826342447177, 0.1819678021302982, 0.1831268327171154])"
      ]
     },
     "execution_count": 33,
     "metadata": {},
     "output_type": "execute_result"
    },
    {
     "data": {
      "text/plain": [
       "(3, [3.5188168615769766, 6.261083229986439, 6.7351267399946675])"
      ]
     },
     "execution_count": 33,
     "metadata": {},
     "output_type": "execute_result"
    },
    {
     "data": {
      "text/plain": [
       "(4, [0.0, 0.0, 0.0])"
      ]
     },
     "execution_count": 33,
     "metadata": {},
     "output_type": "execute_result"
    },
    {
     "data": {
      "text/plain": [
       "(5, [0.0, 0.0, 0.0])"
      ]
     },
     "execution_count": 33,
     "metadata": {},
     "output_type": "execute_result"
    },
    {
     "data": {
      "text/plain": [
       "(6, [0.0, 0.0, 0.0])"
      ]
     },
     "execution_count": 33,
     "metadata": {},
     "output_type": "execute_result"
    }
   ],
   "source": [
    "count_regimes = '4'\n",
    "df_regime_0 = df_result[df_result[count_regimes]=='0']\n",
    "df_regime_1 = df_result[df_result[count_regimes]=='1']\n",
    "df_regime_2 = df_result[df_result[count_regimes]=='2']\n",
    "df_regime_3 = df_result[df_result[count_regimes]=='3']\n",
    "df_regime_4 = df_result[df_result[count_regimes]=='4']\n",
    "df_regime_5 = df_result[df_result[count_regimes]=='5']\n",
    "df_regime_6 = df_result[df_result[count_regimes]=='6']\n",
    "\n",
    "\n",
    "0, [len(df_regime_0[df_regime_0['Ml_Hedge_Strategy_Profits']<0])/len(df_result)*100,\n",
    "    len(df_regime_0[df_regime_0['Ml_Hedge_Strategy_Profits']>0])/len(df_result)*100,\n",
    "    len(df_regime_0[df_regime_0['Ml_Hedge_Strategy_Profits']==0])/len(df_result)*100\n",
    "   ]\n",
    "\n",
    "1, [len(df_regime_1[df_regime_1['Ml_Hedge_Strategy_Profits']<0])/len(df_result)*100,\n",
    "    len(df_regime_1[df_regime_1['Ml_Hedge_Strategy_Profits']>0])/len(df_result)*100,\n",
    "    len(df_regime_1[df_regime_1['Ml_Hedge_Strategy_Profits']==0])/len(df_result)*100\n",
    "   ]\n",
    "\n",
    "2, [len(df_regime_2[df_regime_2['Ml_Hedge_Strategy_Profits']<0])/len(df_result)*100,\n",
    "    len(df_regime_2[df_regime_2['Ml_Hedge_Strategy_Profits']>0])/len(df_result)*100,\n",
    "    len(df_regime_2[df_regime_2['Ml_Hedge_Strategy_Profits']==0])/len(df_result)*100\n",
    "   ]\n",
    "\n",
    "3, [len(df_regime_3[df_regime_3['Ml_Hedge_Strategy_Profits']<0])/len(df_result)*100,\n",
    "    len(df_regime_3[df_regime_3['Ml_Hedge_Strategy_Profits']>0])/len(df_result)*100,\n",
    "    len(df_regime_3[df_regime_3['Ml_Hedge_Strategy_Profits']==0])/len(df_result)*100\n",
    "   ]\n",
    "\n",
    "4, [len(df_regime_4[df_regime_4['Ml_Hedge_Strategy_Profits']<0])/len(df_result)*100,\n",
    "    len(df_regime_4[df_regime_4['Ml_Hedge_Strategy_Profits']>0])/len(df_result)*100,\n",
    "    len(df_regime_4[df_regime_4['Ml_Hedge_Strategy_Profits']==0])/len(df_result)*100\n",
    "   ] \n",
    "\n",
    "5, [len(df_regime_5[df_regime_5['Ml_Hedge_Strategy_Profits']<0])/len(df_result)*100,\n",
    "    len(df_regime_5[df_regime_5['Ml_Hedge_Strategy_Profits']>0])/len(df_result)*100,\n",
    "    len(df_regime_5[df_regime_5['Ml_Hedge_Strategy_Profits']==0])/len(df_result)*100\n",
    "   ] \n",
    "\n",
    "6, [len(df_regime_6[df_regime_6['Ml_Hedge_Strategy_Profits']<0])/len(df_result)*100,\n",
    "    len(df_regime_6[df_regime_6['Ml_Hedge_Strategy_Profits']>0])/len(df_result)*100,\n",
    "    len(df_regime_6[df_regime_6['Ml_Hedge_Strategy_Profits']==0])/len(df_result)*100\n",
    "   ] "
   ]
  },
  {
   "cell_type": "code",
   "execution_count": null,
   "metadata": {},
   "outputs": [],
   "source": [
    "\n",
    "\n",
    "\n",
    "\n"
   ]
  },
  {
   "cell_type": "code",
   "execution_count": 34,
   "metadata": {},
   "outputs": [
    {
     "data": {
      "text/plain": [
       "(0, [12.101728417245988, 12.313990184297122, 48.970698891521884])"
      ]
     },
     "execution_count": 34,
     "metadata": {},
     "output_type": "execute_result"
    },
    {
     "data": {
      "text/plain": [
       "(1, [5.583944475017127, 5.490167450949563, 9.54616412663829])"
      ]
     },
     "execution_count": 34,
     "metadata": {},
     "output_type": "execute_result"
    },
    {
     "data": {
      "text/plain": [
       "(2, [0.16677710268303364, 0.16790018081557934, 0.22686178277422758])"
      ]
     },
     "execution_count": 34,
     "metadata": {},
     "output_type": "execute_result"
    },
    {
     "data": {
      "text/plain": [
       "(3, [1.5481632057142214, 1.6335171437876932, 2.2500870385552725])"
      ]
     },
     "execution_count": 34,
     "metadata": {},
     "output_type": "execute_result"
    },
    {
     "data": {
      "text/plain": [
       "(4, [0.0, 0.0, 0.0])"
      ]
     },
     "execution_count": 34,
     "metadata": {},
     "output_type": "execute_result"
    },
    {
     "data": {
      "text/plain": [
       "(5, [0.0, 0.0, 0.0])"
      ]
     },
     "execution_count": 34,
     "metadata": {},
     "output_type": "execute_result"
    },
    {
     "data": {
      "text/plain": [
       "(6, [0.0, 0.0, 0.0])"
      ]
     },
     "execution_count": 34,
     "metadata": {},
     "output_type": "execute_result"
    }
   ],
   "source": [
    "(0, [12.101728417245988, 12.313990184297122, 48.970698891521884])\n",
    "(1, [5.583944475017127, 5.490167450949563, 9.54616412663829])\n",
    "(2, [0.16677710268303364, 0.16790018081557934, 0.22686178277422758])\n",
    "(3, [1.5481632057142214, 1.6335171437876932, 2.2500870385552725])\n",
    "(4, [0.0, 0.0, 0.0])\n",
    "(5, [0.0, 0.0, 0.0])\n",
    "(6, [0.0, 0.0, 0.0])"
   ]
  }
 ],
 "metadata": {
  "kernelspec": {
   "display_name": "Python 3",
   "language": "python",
   "name": "python3"
  },
  "language_info": {
   "codemirror_mode": {
    "name": "ipython",
    "version": 3
   },
   "file_extension": ".py",
   "mimetype": "text/x-python",
   "name": "python",
   "nbconvert_exporter": "python",
   "pygments_lexer": "ipython3",
   "version": "3.8.5"
  }
 },
 "nbformat": 4,
 "nbformat_minor": 4
}
