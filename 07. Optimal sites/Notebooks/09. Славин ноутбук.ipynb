{
 "cells": [
  {
   "cell_type": "code",
   "execution_count": 1,
   "metadata": {},
   "outputs": [],
   "source": [
    "import numpy as np\n",
    "import pandas as pd\n",
    "from tqdm import tqdm\n",
    "from copy import deepcopy\n",
    "\n",
    "from IPython.core.interactiveshell import InteractiveShell\n",
    "InteractiveShell.ast_node_interactivity = 'all'"
   ]
  },
  {
   "cell_type": "code",
   "execution_count": 2,
   "metadata": {},
   "outputs": [],
   "source": [
    "bs_df = pd.read_csv('IMBALANCES/BITMEX_SIGNALS.csv')\n",
    "i_df = pd.read_csv('IMBALANCES/Imb 7.csv')"
   ]
  },
  {
   "cell_type": "code",
   "execution_count": 3,
   "metadata": {},
   "outputs": [],
   "source": [
    "start_date = max([bs_df['datetime'].iloc[0], i_df['datetime'].iloc[0]])\n",
    "finish_date = min([bs_df['datetime'].iloc[-1], i_df['datetime'].iloc[-1]])"
   ]
  },
  {
   "cell_type": "code",
   "execution_count": 4,
   "metadata": {},
   "outputs": [],
   "source": [
    "bs_df = bs_df[\n",
    "    (bs_df['datetime'] >= start_date) & \n",
    "    (bs_df['datetime'] <= finish_date)\n",
    "]\n",
    "i_df = i_df[\n",
    "    (i_df['datetime'] >= start_date) & \n",
    "    (i_df['datetime'] <= finish_date)\n",
    "]"
   ]
  },
  {
   "cell_type": "code",
   "execution_count": 5,
   "metadata": {},
   "outputs": [],
   "source": [
    "def get_signals(prices: (float, float)):\n",
    "    bitmex_price, aax_price = prices\n",
    "    price_diff = abs(bitmex_price - aax_price)\n",
    "    price_thr = aax_price * 0.05 / 100\n",
    "    if (abs(price_diff) <= price_thr):\n",
    "        return 'Unchanged'\n",
    "    \n",
    "    if bitmex_price - aax_price > 0:\n",
    "        return 'Up'\n",
    "    else:\n",
    "        return 'Down'"
   ]
  },
  {
   "cell_type": "code",
   "execution_count": 6,
   "metadata": {},
   "outputs": [],
   "source": [
    "bitmex_prices = bs_df['bitmex_price'].values\n",
    "aax_prices = bs_df['aax_price'].values"
   ]
  },
  {
   "cell_type": "code",
   "execution_count": 7,
   "metadata": {},
   "outputs": [],
   "source": [
    "signals = list(map(get_signals, list(zip(bitmex_prices, aax_prices))))"
   ]
  },
  {
   "cell_type": "code",
   "execution_count": 8,
   "metadata": {},
   "outputs": [],
   "source": [
    "bs_df['signals'] = signals"
   ]
  },
  {
   "cell_type": "code",
   "execution_count": 9,
   "metadata": {},
   "outputs": [],
   "source": [
    "bs_df['datetime'] = pd.to_datetime(bs_df['datetime'])\n",
    "i_df['datetime'] = pd.to_datetime(i_df['datetime'])"
   ]
  },
  {
   "cell_type": "code",
   "execution_count": 10,
   "metadata": {},
   "outputs": [],
   "source": [
    "bs_df.index = range(0, len(bs_df))\n",
    "i_df.index = range(0, len(i_df))"
   ]
  },
  {
   "cell_type": "code",
   "execution_count": 11,
   "metadata": {},
   "outputs": [],
   "source": [
    "bs_df['diff_price'] = bs_df['bitmex_price'] - bs_df['aax_price']"
   ]
  },
  {
   "cell_type": "code",
   "execution_count": 12,
   "metadata": {},
   "outputs": [],
   "source": [
    "imbs = i_df['Labels 7'].values \n",
    "imb_datetimes = i_df['datetime'].values"
   ]
  },
  {
   "cell_type": "code",
   "execution_count": 13,
   "metadata": {},
   "outputs": [],
   "source": [
    "value = 'Unknown'\n",
    "values = []\n",
    "for i, imb in enumerate(imbs):    \n",
    "    if value != imb:      \n",
    "        value = imb\n",
    "        values.append((value, i))        "
   ]
  },
  {
   "cell_type": "code",
   "execution_count": 14,
   "metadata": {},
   "outputs": [],
   "source": [
    "#values[:10]"
   ]
  },
  {
   "cell_type": "code",
   "execution_count": 15,
   "metadata": {},
   "outputs": [
    {
     "data": {
      "text/html": [
       "<div>\n",
       "<style scoped>\n",
       "    .dataframe tbody tr th:only-of-type {\n",
       "        vertical-align: middle;\n",
       "    }\n",
       "\n",
       "    .dataframe tbody tr th {\n",
       "        vertical-align: top;\n",
       "    }\n",
       "\n",
       "    .dataframe thead th {\n",
       "        text-align: right;\n",
       "    }\n",
       "</style>\n",
       "<table border=\"1\" class=\"dataframe\">\n",
       "  <thead>\n",
       "    <tr style=\"text-align: right;\">\n",
       "      <th></th>\n",
       "      <th>datetime</th>\n",
       "      <th>bitmex_price</th>\n",
       "      <th>aax_price</th>\n",
       "      <th>signals</th>\n",
       "      <th>diff_price</th>\n",
       "    </tr>\n",
       "  </thead>\n",
       "  <tbody>\n",
       "    <tr>\n",
       "      <th>0</th>\n",
       "      <td>2020-08-10 21:42:00.307023</td>\n",
       "      <td>11832.75</td>\n",
       "      <td>11835.75</td>\n",
       "      <td>Unchanged</td>\n",
       "      <td>-3.00</td>\n",
       "    </tr>\n",
       "    <tr>\n",
       "      <th>1</th>\n",
       "      <td>2020-08-10 21:42:00.901199</td>\n",
       "      <td>11832.75</td>\n",
       "      <td>11836.00</td>\n",
       "      <td>Unchanged</td>\n",
       "      <td>-3.25</td>\n",
       "    </tr>\n",
       "    <tr>\n",
       "      <th>2</th>\n",
       "      <td>2020-08-10 21:42:01.204288</td>\n",
       "      <td>11832.75</td>\n",
       "      <td>11835.75</td>\n",
       "      <td>Unchanged</td>\n",
       "      <td>-3.00</td>\n",
       "    </tr>\n",
       "    <tr>\n",
       "      <th>3</th>\n",
       "      <td>2020-08-10 21:42:01.966371</td>\n",
       "      <td>11832.25</td>\n",
       "      <td>11835.75</td>\n",
       "      <td>Unchanged</td>\n",
       "      <td>-3.50</td>\n",
       "    </tr>\n",
       "    <tr>\n",
       "      <th>4</th>\n",
       "      <td>2020-08-10 21:42:06.332528</td>\n",
       "      <td>11832.25</td>\n",
       "      <td>11833.75</td>\n",
       "      <td>Unchanged</td>\n",
       "      <td>-1.50</td>\n",
       "    </tr>\n",
       "    <tr>\n",
       "      <th>...</th>\n",
       "      <td>...</td>\n",
       "      <td>...</td>\n",
       "      <td>...</td>\n",
       "      <td>...</td>\n",
       "      <td>...</td>\n",
       "    </tr>\n",
       "    <tr>\n",
       "      <th>1443807</th>\n",
       "      <td>2020-08-31 23:59:55.877350</td>\n",
       "      <td>11657.75</td>\n",
       "      <td>11661.25</td>\n",
       "      <td>Unchanged</td>\n",
       "      <td>-3.50</td>\n",
       "    </tr>\n",
       "    <tr>\n",
       "      <th>1443808</th>\n",
       "      <td>2020-08-31 23:59:57.707444</td>\n",
       "      <td>11657.75</td>\n",
       "      <td>11666.25</td>\n",
       "      <td>Down</td>\n",
       "      <td>-8.50</td>\n",
       "    </tr>\n",
       "    <tr>\n",
       "      <th>1443809</th>\n",
       "      <td>2020-08-31 23:59:58.012177</td>\n",
       "      <td>11657.75</td>\n",
       "      <td>11666.00</td>\n",
       "      <td>Down</td>\n",
       "      <td>-8.25</td>\n",
       "    </tr>\n",
       "    <tr>\n",
       "      <th>1443810</th>\n",
       "      <td>2020-08-31 23:59:58.318224</td>\n",
       "      <td>11657.75</td>\n",
       "      <td>11666.25</td>\n",
       "      <td>Down</td>\n",
       "      <td>-8.50</td>\n",
       "    </tr>\n",
       "    <tr>\n",
       "      <th>1443811</th>\n",
       "      <td>2020-08-31 23:59:58.622750</td>\n",
       "      <td>11657.75</td>\n",
       "      <td>11661.25</td>\n",
       "      <td>Unchanged</td>\n",
       "      <td>-3.50</td>\n",
       "    </tr>\n",
       "  </tbody>\n",
       "</table>\n",
       "<p>1443812 rows × 5 columns</p>\n",
       "</div>"
      ],
      "text/plain": [
       "                          datetime  bitmex_price  aax_price    signals  \\\n",
       "0       2020-08-10 21:42:00.307023      11832.75   11835.75  Unchanged   \n",
       "1       2020-08-10 21:42:00.901199      11832.75   11836.00  Unchanged   \n",
       "2       2020-08-10 21:42:01.204288      11832.75   11835.75  Unchanged   \n",
       "3       2020-08-10 21:42:01.966371      11832.25   11835.75  Unchanged   \n",
       "4       2020-08-10 21:42:06.332528      11832.25   11833.75  Unchanged   \n",
       "...                            ...           ...        ...        ...   \n",
       "1443807 2020-08-31 23:59:55.877350      11657.75   11661.25  Unchanged   \n",
       "1443808 2020-08-31 23:59:57.707444      11657.75   11666.25       Down   \n",
       "1443809 2020-08-31 23:59:58.012177      11657.75   11666.00       Down   \n",
       "1443810 2020-08-31 23:59:58.318224      11657.75   11666.25       Down   \n",
       "1443811 2020-08-31 23:59:58.622750      11657.75   11661.25  Unchanged   \n",
       "\n",
       "         diff_price  \n",
       "0             -3.00  \n",
       "1             -3.25  \n",
       "2             -3.00  \n",
       "3             -3.50  \n",
       "4             -1.50  \n",
       "...             ...  \n",
       "1443807       -3.50  \n",
       "1443808       -8.50  \n",
       "1443809       -8.25  \n",
       "1443810       -8.50  \n",
       "1443811       -3.50  \n",
       "\n",
       "[1443812 rows x 5 columns]"
      ]
     },
     "execution_count": 15,
     "metadata": {},
     "output_type": "execute_result"
    }
   ],
   "source": [
    "bs_df"
   ]
  },
  {
   "cell_type": "code",
   "execution_count": 16,
   "metadata": {},
   "outputs": [
    {
     "name": "stderr",
     "output_type": "stream",
     "text": [
      "100%|██████████| 28069/28069 [01:33<00:00, 299.90it/s]\n"
     ]
    }
   ],
   "source": [
    "items = []\n",
    "for i in tqdm(range(len(values) - 1)):\n",
    "    d = {}\n",
    "    first_date = imb_datetimes[values[i][1]]\n",
    "    second_date = imb_datetimes[values[i + 1][1]]\n",
    "    \n",
    "    temp_df = bs_df[(bs_df['datetime'] >= first_date) & (bs_df['datetime'] < second_date)]\n",
    "    \n",
    "    if len(temp_df) == 0:\n",
    "        continue\n",
    "        \n",
    "    first_bp = temp_df['bitmex_price'].iloc[0]\n",
    "    last_bp = temp_df['bitmex_price'].iloc[-1]\n",
    "    max_bp = temp_df['bitmex_price'].max()\n",
    "    min_bp = temp_df['bitmex_price'].min()\n",
    "    \n",
    "    first_ap = temp_df['aax_price'].iloc[0]\n",
    "    last_ap = temp_df['aax_price'].iloc[-1]\n",
    "    max_ap = temp_df['aax_price'].max()\n",
    "    min_ap = temp_df['aax_price'].min()\n",
    "    \n",
    "    first_signal = temp_df['signals'].iloc[0]\n",
    "    last_signal = temp_df['signals'].iloc[-1]\n",
    "    \n",
    "    imbalance = values[i][0]\n",
    "    \n",
    "    d['first_date'] = first_date\n",
    "    d['second_date'] = second_date\n",
    "    \n",
    "    d['first_bp'] = first_bp\n",
    "    d['last_bp'] = last_bp\n",
    "    d['max_bp'] = max_bp\n",
    "    d['min_bp'] = min_bp\n",
    "    \n",
    "    d['first_ap'] = first_ap\n",
    "    d['last_ap'] = last_ap\n",
    "    d['max_ap'] = max_ap\n",
    "    d['min_ap'] = min_ap\n",
    "    \n",
    "    d['first_signal'] = first_signal\n",
    "    d['last_signal'] = last_signal\n",
    "    \n",
    "    d['imbalance'] = imbalance\n",
    "    \n",
    "    items.append(d)"
   ]
  },
  {
   "cell_type": "code",
   "execution_count": 17,
   "metadata": {},
   "outputs": [],
   "source": [
    "df = pd.DataFrame(items)"
   ]
  },
  {
   "cell_type": "code",
   "execution_count": 18,
   "metadata": {},
   "outputs": [],
   "source": [
    "df['first_date'] = pd.to_datetime(df['first_date'])\n",
    "df['second_date'] = pd.to_datetime(df['second_date'])"
   ]
  },
  {
   "cell_type": "code",
   "execution_count": 19,
   "metadata": {},
   "outputs": [],
   "source": [
    "df['date_diff'] = df['second_date'] - df['first_date']"
   ]
  },
  {
   "cell_type": "code",
   "execution_count": 20,
   "metadata": {},
   "outputs": [
    {
     "data": {
      "text/html": [
       "<div>\n",
       "<style scoped>\n",
       "    .dataframe tbody tr th:only-of-type {\n",
       "        vertical-align: middle;\n",
       "    }\n",
       "\n",
       "    .dataframe tbody tr th {\n",
       "        vertical-align: top;\n",
       "    }\n",
       "\n",
       "    .dataframe thead th {\n",
       "        text-align: right;\n",
       "    }\n",
       "</style>\n",
       "<table border=\"1\" class=\"dataframe\">\n",
       "  <thead>\n",
       "    <tr style=\"text-align: right;\">\n",
       "      <th></th>\n",
       "      <th>first_date</th>\n",
       "      <th>second_date</th>\n",
       "      <th>first_bp</th>\n",
       "      <th>last_bp</th>\n",
       "      <th>max_bp</th>\n",
       "      <th>min_bp</th>\n",
       "      <th>first_ap</th>\n",
       "      <th>last_ap</th>\n",
       "      <th>max_ap</th>\n",
       "      <th>min_ap</th>\n",
       "      <th>first_signal</th>\n",
       "      <th>last_signal</th>\n",
       "      <th>imbalance</th>\n",
       "      <th>date_diff</th>\n",
       "    </tr>\n",
       "  </thead>\n",
       "  <tbody>\n",
       "    <tr>\n",
       "      <th>0</th>\n",
       "      <td>2020-08-10 21:42:01</td>\n",
       "      <td>2020-08-10 21:42:09</td>\n",
       "      <td>11832.75</td>\n",
       "      <td>11832.25</td>\n",
       "      <td>11832.75</td>\n",
       "      <td>11832.25</td>\n",
       "      <td>11835.75</td>\n",
       "      <td>11833.75</td>\n",
       "      <td>11835.75</td>\n",
       "      <td>11833.75</td>\n",
       "      <td>Unchanged</td>\n",
       "      <td>Unchanged</td>\n",
       "      <td>Down</td>\n",
       "      <td>00:00:08</td>\n",
       "    </tr>\n",
       "    <tr>\n",
       "      <th>2</th>\n",
       "      <td>2020-08-10 21:44:38</td>\n",
       "      <td>2020-08-10 21:44:54</td>\n",
       "      <td>11833.75</td>\n",
       "      <td>11832.25</td>\n",
       "      <td>11833.75</td>\n",
       "      <td>11832.25</td>\n",
       "      <td>11831.50</td>\n",
       "      <td>11831.50</td>\n",
       "      <td>11831.50</td>\n",
       "      <td>11831.50</td>\n",
       "      <td>Unchanged</td>\n",
       "      <td>Unchanged</td>\n",
       "      <td>Down</td>\n",
       "      <td>00:00:16</td>\n",
       "    </tr>\n",
       "    <tr>\n",
       "      <th>4</th>\n",
       "      <td>2020-08-10 21:44:57</td>\n",
       "      <td>2020-08-10 21:45:03</td>\n",
       "      <td>11830.00</td>\n",
       "      <td>11823.75</td>\n",
       "      <td>11830.00</td>\n",
       "      <td>11823.50</td>\n",
       "      <td>11831.50</td>\n",
       "      <td>11831.50</td>\n",
       "      <td>11831.50</td>\n",
       "      <td>11831.50</td>\n",
       "      <td>Unchanged</td>\n",
       "      <td>Down</td>\n",
       "      <td>Down</td>\n",
       "      <td>00:00:06</td>\n",
       "    </tr>\n",
       "    <tr>\n",
       "      <th>6</th>\n",
       "      <td>2020-08-10 21:50:54</td>\n",
       "      <td>2020-08-10 21:51:07</td>\n",
       "      <td>11838.25</td>\n",
       "      <td>11838.75</td>\n",
       "      <td>11838.75</td>\n",
       "      <td>11838.25</td>\n",
       "      <td>11834.75</td>\n",
       "      <td>11837.75</td>\n",
       "      <td>11838.25</td>\n",
       "      <td>11834.75</td>\n",
       "      <td>Unchanged</td>\n",
       "      <td>Unchanged</td>\n",
       "      <td>Up</td>\n",
       "      <td>00:00:13</td>\n",
       "    </tr>\n",
       "    <tr>\n",
       "      <th>8</th>\n",
       "      <td>2020-08-10 21:51:10</td>\n",
       "      <td>2020-08-10 21:51:46</td>\n",
       "      <td>11839.75</td>\n",
       "      <td>11839.75</td>\n",
       "      <td>11839.75</td>\n",
       "      <td>11839.75</td>\n",
       "      <td>11839.50</td>\n",
       "      <td>11840.25</td>\n",
       "      <td>11840.25</td>\n",
       "      <td>11839.50</td>\n",
       "      <td>Unchanged</td>\n",
       "      <td>Unchanged</td>\n",
       "      <td>Up</td>\n",
       "      <td>00:00:36</td>\n",
       "    </tr>\n",
       "  </tbody>\n",
       "</table>\n",
       "</div>"
      ],
      "text/plain": [
       "           first_date         second_date  first_bp   last_bp    max_bp  \\\n",
       "0 2020-08-10 21:42:01 2020-08-10 21:42:09  11832.75  11832.25  11832.75   \n",
       "2 2020-08-10 21:44:38 2020-08-10 21:44:54  11833.75  11832.25  11833.75   \n",
       "4 2020-08-10 21:44:57 2020-08-10 21:45:03  11830.00  11823.75  11830.00   \n",
       "6 2020-08-10 21:50:54 2020-08-10 21:51:07  11838.25  11838.75  11838.75   \n",
       "8 2020-08-10 21:51:10 2020-08-10 21:51:46  11839.75  11839.75  11839.75   \n",
       "\n",
       "     min_bp  first_ap   last_ap    max_ap    min_ap first_signal last_signal  \\\n",
       "0  11832.25  11835.75  11833.75  11835.75  11833.75    Unchanged   Unchanged   \n",
       "2  11832.25  11831.50  11831.50  11831.50  11831.50    Unchanged   Unchanged   \n",
       "4  11823.50  11831.50  11831.50  11831.50  11831.50    Unchanged        Down   \n",
       "6  11838.25  11834.75  11837.75  11838.25  11834.75    Unchanged   Unchanged   \n",
       "8  11839.75  11839.50  11840.25  11840.25  11839.50    Unchanged   Unchanged   \n",
       "\n",
       "  imbalance date_diff  \n",
       "0      Down  00:00:08  \n",
       "2      Down  00:00:16  \n",
       "4      Down  00:00:06  \n",
       "6        Up  00:00:13  \n",
       "8        Up  00:00:36  "
      ]
     },
     "execution_count": 20,
     "metadata": {},
     "output_type": "execute_result"
    }
   ],
   "source": [
    "df[(df['imbalance'] != 'Unchanged')].head()"
   ]
  },
  {
   "cell_type": "code",
   "execution_count": 21,
   "metadata": {},
   "outputs": [],
   "source": [
    "df['price_diff'] = df['first_ap'] - df['last_ap']"
   ]
  },
  {
   "cell_type": "code",
   "execution_count": 22,
   "metadata": {},
   "outputs": [],
   "source": [
    "def price_move(diff_price: float):\n",
    "    if abs(diff_price) <= 1:\n",
    "        return 'Unchanged'\n",
    "    \n",
    "    if diff_price > 0:\n",
    "        return 'Down'\n",
    "    else:\n",
    "        return 'Up'"
   ]
  },
  {
   "cell_type": "code",
   "execution_count": 23,
   "metadata": {},
   "outputs": [],
   "source": [
    "price_diffs = df['price_diff'].values"
   ]
  },
  {
   "cell_type": "code",
   "execution_count": 24,
   "metadata": {},
   "outputs": [],
   "source": [
    "df['price_move'] = list(map(price_move, price_diffs))"
   ]
  },
  {
   "cell_type": "code",
   "execution_count": 25,
   "metadata": {},
   "outputs": [
    {
     "data": {
      "text/html": [
       "<div>\n",
       "<style scoped>\n",
       "    .dataframe tbody tr th:only-of-type {\n",
       "        vertical-align: middle;\n",
       "    }\n",
       "\n",
       "    .dataframe tbody tr th {\n",
       "        vertical-align: top;\n",
       "    }\n",
       "\n",
       "    .dataframe thead th {\n",
       "        text-align: right;\n",
       "    }\n",
       "</style>\n",
       "<table border=\"1\" class=\"dataframe\">\n",
       "  <thead>\n",
       "    <tr style=\"text-align: right;\">\n",
       "      <th></th>\n",
       "      <th>first_date</th>\n",
       "      <th>second_date</th>\n",
       "      <th>first_bp</th>\n",
       "      <th>last_bp</th>\n",
       "      <th>max_bp</th>\n",
       "      <th>min_bp</th>\n",
       "      <th>first_ap</th>\n",
       "      <th>last_ap</th>\n",
       "      <th>max_ap</th>\n",
       "      <th>min_ap</th>\n",
       "      <th>first_signal</th>\n",
       "      <th>last_signal</th>\n",
       "      <th>imbalance</th>\n",
       "      <th>date_diff</th>\n",
       "      <th>price_diff</th>\n",
       "      <th>price_move</th>\n",
       "    </tr>\n",
       "  </thead>\n",
       "  <tbody>\n",
       "    <tr>\n",
       "      <th>0</th>\n",
       "      <td>2020-08-10 21:42:01</td>\n",
       "      <td>2020-08-10 21:42:09</td>\n",
       "      <td>11832.75</td>\n",
       "      <td>11832.25</td>\n",
       "      <td>11832.75</td>\n",
       "      <td>11832.25</td>\n",
       "      <td>11835.75</td>\n",
       "      <td>11833.75</td>\n",
       "      <td>11835.75</td>\n",
       "      <td>11833.75</td>\n",
       "      <td>Unchanged</td>\n",
       "      <td>Unchanged</td>\n",
       "      <td>Down</td>\n",
       "      <td>00:00:08</td>\n",
       "      <td>2.00</td>\n",
       "      <td>Down</td>\n",
       "    </tr>\n",
       "    <tr>\n",
       "      <th>1</th>\n",
       "      <td>2020-08-10 21:42:09</td>\n",
       "      <td>2020-08-10 21:44:38</td>\n",
       "      <td>11832.25</td>\n",
       "      <td>11834.25</td>\n",
       "      <td>11834.25</td>\n",
       "      <td>11832.25</td>\n",
       "      <td>11831.75</td>\n",
       "      <td>11831.50</td>\n",
       "      <td>11831.75</td>\n",
       "      <td>11831.25</td>\n",
       "      <td>Unchanged</td>\n",
       "      <td>Unchanged</td>\n",
       "      <td>Unchanged</td>\n",
       "      <td>00:02:29</td>\n",
       "      <td>0.25</td>\n",
       "      <td>Unchanged</td>\n",
       "    </tr>\n",
       "    <tr>\n",
       "      <th>2</th>\n",
       "      <td>2020-08-10 21:44:38</td>\n",
       "      <td>2020-08-10 21:44:54</td>\n",
       "      <td>11833.75</td>\n",
       "      <td>11832.25</td>\n",
       "      <td>11833.75</td>\n",
       "      <td>11832.25</td>\n",
       "      <td>11831.50</td>\n",
       "      <td>11831.50</td>\n",
       "      <td>11831.50</td>\n",
       "      <td>11831.50</td>\n",
       "      <td>Unchanged</td>\n",
       "      <td>Unchanged</td>\n",
       "      <td>Down</td>\n",
       "      <td>00:00:16</td>\n",
       "      <td>0.00</td>\n",
       "      <td>Unchanged</td>\n",
       "    </tr>\n",
       "  </tbody>\n",
       "</table>\n",
       "</div>"
      ],
      "text/plain": [
       "           first_date         second_date  first_bp   last_bp    max_bp  \\\n",
       "0 2020-08-10 21:42:01 2020-08-10 21:42:09  11832.75  11832.25  11832.75   \n",
       "1 2020-08-10 21:42:09 2020-08-10 21:44:38  11832.25  11834.25  11834.25   \n",
       "2 2020-08-10 21:44:38 2020-08-10 21:44:54  11833.75  11832.25  11833.75   \n",
       "\n",
       "     min_bp  first_ap   last_ap    max_ap    min_ap first_signal last_signal  \\\n",
       "0  11832.25  11835.75  11833.75  11835.75  11833.75    Unchanged   Unchanged   \n",
       "1  11832.25  11831.75  11831.50  11831.75  11831.25    Unchanged   Unchanged   \n",
       "2  11832.25  11831.50  11831.50  11831.50  11831.50    Unchanged   Unchanged   \n",
       "\n",
       "   imbalance date_diff  price_diff price_move  \n",
       "0       Down  00:00:08        2.00       Down  \n",
       "1  Unchanged  00:02:29        0.25  Unchanged  \n",
       "2       Down  00:00:16        0.00  Unchanged  "
      ]
     },
     "execution_count": 25,
     "metadata": {},
     "output_type": "execute_result"
    }
   ],
   "source": [
    "df.head(3)"
   ]
  },
  {
   "cell_type": "code",
   "execution_count": 73,
   "metadata": {},
   "outputs": [],
   "source": [
    "df_exp = deepcopy(df)\n",
    "df_exp.columns = ['start','end',\n",
    "                  'Open_bm','Close_bm','High_bm','Low_bm',\n",
    "                  'Open_ax','Close_ax','High_ax','Low_ax',\n",
    "                  'start_signal','end_signal',\n",
    "                  'imbalance',\n",
    "                  'duration','price_diff',\n",
    "                  'price_move',\n",
    "                 ]"
   ]
  },
  {
   "cell_type": "code",
   "execution_count": 74,
   "metadata": {},
   "outputs": [],
   "source": [
    "#df[(df['first_signal']==\"Unchanged\")&(df['last_signal']==\"Unchanged\")].head(15)"
   ]
  },
  {
   "cell_type": "code",
   "execution_count": 75,
   "metadata": {},
   "outputs": [],
   "source": [
    "df_exp = df_exp[['start','end','duration',\n",
    "                 'Open_bm','Close_bm','High_bm','Low_bm','price_move',\n",
    "                 'start_signal','end_signal','imbalance',]]"
   ]
  },
  {
   "cell_type": "code",
   "execution_count": 76,
   "metadata": {},
   "outputs": [
    {
     "data": {
      "text/html": [
       "<div>\n",
       "<style scoped>\n",
       "    .dataframe tbody tr th:only-of-type {\n",
       "        vertical-align: middle;\n",
       "    }\n",
       "\n",
       "    .dataframe tbody tr th {\n",
       "        vertical-align: top;\n",
       "    }\n",
       "\n",
       "    .dataframe thead th {\n",
       "        text-align: right;\n",
       "    }\n",
       "</style>\n",
       "<table border=\"1\" class=\"dataframe\">\n",
       "  <thead>\n",
       "    <tr style=\"text-align: right;\">\n",
       "      <th></th>\n",
       "      <th>start</th>\n",
       "      <th>end</th>\n",
       "      <th>duration</th>\n",
       "      <th>Open_bm</th>\n",
       "      <th>Close_bm</th>\n",
       "      <th>High_bm</th>\n",
       "      <th>Low_bm</th>\n",
       "      <th>price_move</th>\n",
       "      <th>start_signal</th>\n",
       "      <th>end_signal</th>\n",
       "      <th>imbalance</th>\n",
       "    </tr>\n",
       "  </thead>\n",
       "  <tbody>\n",
       "    <tr>\n",
       "      <th>0</th>\n",
       "      <td>2020-08-10 21:42:01</td>\n",
       "      <td>2020-08-10 21:42:09</td>\n",
       "      <td>00:00:08</td>\n",
       "      <td>11832.75</td>\n",
       "      <td>11832.25</td>\n",
       "      <td>11832.75</td>\n",
       "      <td>11832.25</td>\n",
       "      <td>Down</td>\n",
       "      <td>Unchanged</td>\n",
       "      <td>Unchanged</td>\n",
       "      <td>Down</td>\n",
       "    </tr>\n",
       "    <tr>\n",
       "      <th>1</th>\n",
       "      <td>2020-08-10 21:42:09</td>\n",
       "      <td>2020-08-10 21:44:38</td>\n",
       "      <td>00:02:29</td>\n",
       "      <td>11832.25</td>\n",
       "      <td>11834.25</td>\n",
       "      <td>11834.25</td>\n",
       "      <td>11832.25</td>\n",
       "      <td>Unchanged</td>\n",
       "      <td>Unchanged</td>\n",
       "      <td>Unchanged</td>\n",
       "      <td>Unchanged</td>\n",
       "    </tr>\n",
       "    <tr>\n",
       "      <th>2</th>\n",
       "      <td>2020-08-10 21:44:38</td>\n",
       "      <td>2020-08-10 21:44:54</td>\n",
       "      <td>00:00:16</td>\n",
       "      <td>11833.75</td>\n",
       "      <td>11832.25</td>\n",
       "      <td>11833.75</td>\n",
       "      <td>11832.25</td>\n",
       "      <td>Unchanged</td>\n",
       "      <td>Unchanged</td>\n",
       "      <td>Unchanged</td>\n",
       "      <td>Down</td>\n",
       "    </tr>\n",
       "  </tbody>\n",
       "</table>\n",
       "</div>"
      ],
      "text/plain": [
       "                start                 end duration   Open_bm  Close_bm  \\\n",
       "0 2020-08-10 21:42:01 2020-08-10 21:42:09 00:00:08  11832.75  11832.25   \n",
       "1 2020-08-10 21:42:09 2020-08-10 21:44:38 00:02:29  11832.25  11834.25   \n",
       "2 2020-08-10 21:44:38 2020-08-10 21:44:54 00:00:16  11833.75  11832.25   \n",
       "\n",
       "    High_bm    Low_bm price_move start_signal end_signal  imbalance  \n",
       "0  11832.75  11832.25       Down    Unchanged  Unchanged       Down  \n",
       "1  11834.25  11832.25  Unchanged    Unchanged  Unchanged  Unchanged  \n",
       "2  11833.75  11832.25  Unchanged    Unchanged  Unchanged       Down  "
      ]
     },
     "execution_count": 76,
     "metadata": {},
     "output_type": "execute_result"
    }
   ],
   "source": [
    "df_exp.head(3)"
   ]
  },
  {
   "cell_type": "code",
   "execution_count": 77,
   "metadata": {},
   "outputs": [],
   "source": [
    "df_exp['mean_price'] = (df_exp['Open_bm']+df_exp['Close_bm']+df_exp['High_bm']+df_exp['Low_bm'])/4"
   ]
  },
  {
   "cell_type": "code",
   "execution_count": 78,
   "metadata": {},
   "outputs": [],
   "source": [
    "# Вычисление стандартной волатильности\n",
    "def calculation_volatility_STD(df_data_close_price:pd.Series,\n",
    "                               win_size):\n",
    "    volatility_STD = df_data_close_price.pct_change().rolling(win_size).std()*1000\n",
    "    return volatility_STD\n",
    "\n",
    "df_exp['volat'] = calculation_volatility_STD(df_exp['mean_price'], win_size=5)\n",
    "df_exp = df_exp.drop('mean_price', axis=1)"
   ]
  },
  {
   "cell_type": "code",
   "execution_count": 79,
   "metadata": {},
   "outputs": [],
   "source": [
    "df_exp = df_exp.dropna()\n",
    "df_exp.index = range(len(df_exp))"
   ]
  },
  {
   "cell_type": "code",
   "execution_count": 80,
   "metadata": {},
   "outputs": [
    {
     "data": {
      "text/html": [
       "<div>\n",
       "<style scoped>\n",
       "    .dataframe tbody tr th:only-of-type {\n",
       "        vertical-align: middle;\n",
       "    }\n",
       "\n",
       "    .dataframe tbody tr th {\n",
       "        vertical-align: top;\n",
       "    }\n",
       "\n",
       "    .dataframe thead th {\n",
       "        text-align: right;\n",
       "    }\n",
       "</style>\n",
       "<table border=\"1\" class=\"dataframe\">\n",
       "  <thead>\n",
       "    <tr style=\"text-align: right;\">\n",
       "      <th></th>\n",
       "      <th>start</th>\n",
       "      <th>end</th>\n",
       "      <th>duration</th>\n",
       "      <th>Open_bm</th>\n",
       "      <th>Close_bm</th>\n",
       "      <th>High_bm</th>\n",
       "      <th>Low_bm</th>\n",
       "      <th>price_move</th>\n",
       "      <th>start_signal</th>\n",
       "      <th>end_signal</th>\n",
       "      <th>imbalance</th>\n",
       "      <th>volat</th>\n",
       "    </tr>\n",
       "  </thead>\n",
       "  <tbody>\n",
       "    <tr>\n",
       "      <th>0</th>\n",
       "      <td>2020-08-10 21:45:03</td>\n",
       "      <td>2020-08-10 21:50:54</td>\n",
       "      <td>00:05:51</td>\n",
       "      <td>11823.25</td>\n",
       "      <td>11837.25</td>\n",
       "      <td>11837.25</td>\n",
       "      <td>11817.25</td>\n",
       "      <td>Up</td>\n",
       "      <td>Down</td>\n",
       "      <td>Unchanged</td>\n",
       "      <td>Unchanged</td>\n",
       "      <td>0.200860</td>\n",
       "    </tr>\n",
       "    <tr>\n",
       "      <th>1</th>\n",
       "      <td>2020-08-10 21:50:54</td>\n",
       "      <td>2020-08-10 21:51:07</td>\n",
       "      <td>00:00:13</td>\n",
       "      <td>11838.25</td>\n",
       "      <td>11838.75</td>\n",
       "      <td>11838.75</td>\n",
       "      <td>11838.25</td>\n",
       "      <td>Up</td>\n",
       "      <td>Unchanged</td>\n",
       "      <td>Unchanged</td>\n",
       "      <td>Up</td>\n",
       "      <td>0.452059</td>\n",
       "    </tr>\n",
       "    <tr>\n",
       "      <th>2</th>\n",
       "      <td>2020-08-10 21:51:07</td>\n",
       "      <td>2020-08-10 21:51:08</td>\n",
       "      <td>00:00:01</td>\n",
       "      <td>11839.75</td>\n",
       "      <td>11839.75</td>\n",
       "      <td>11839.75</td>\n",
       "      <td>11839.75</td>\n",
       "      <td>Up</td>\n",
       "      <td>Unchanged</td>\n",
       "      <td>Unchanged</td>\n",
       "      <td>Unchanged</td>\n",
       "      <td>0.447888</td>\n",
       "    </tr>\n",
       "  </tbody>\n",
       "</table>\n",
       "</div>"
      ],
      "text/plain": [
       "                start                 end duration   Open_bm  Close_bm  \\\n",
       "0 2020-08-10 21:45:03 2020-08-10 21:50:54 00:05:51  11823.25  11837.25   \n",
       "1 2020-08-10 21:50:54 2020-08-10 21:51:07 00:00:13  11838.25  11838.75   \n",
       "2 2020-08-10 21:51:07 2020-08-10 21:51:08 00:00:01  11839.75  11839.75   \n",
       "\n",
       "    High_bm    Low_bm price_move start_signal end_signal  imbalance     volat  \n",
       "0  11837.25  11817.25         Up         Down  Unchanged  Unchanged  0.200860  \n",
       "1  11838.75  11838.25         Up    Unchanged  Unchanged         Up  0.452059  \n",
       "2  11839.75  11839.75         Up    Unchanged  Unchanged  Unchanged  0.447888  "
      ]
     },
     "execution_count": 80,
     "metadata": {},
     "output_type": "execute_result"
    }
   ],
   "source": [
    "df_exp.head(3)"
   ]
  },
  {
   "cell_type": "code",
   "execution_count": 59,
   "metadata": {},
   "outputs": [
    {
     "data": {
      "text/plain": [
       "count    19300.000000\n",
       "mean         0.313394\n",
       "std          0.376171\n",
       "min          0.000000\n",
       "25%          0.141531\n",
       "50%          0.235147\n",
       "75%          0.372101\n",
       "max         12.729723\n",
       "Name: volat, dtype: float64"
      ]
     },
     "execution_count": 59,
     "metadata": {},
     "output_type": "execute_result"
    }
   ],
   "source": [
    "df_exp['volat'].describe()"
   ]
  },
  {
   "cell_type": "code",
   "execution_count": 83,
   "metadata": {},
   "outputs": [
    {
     "data": {
      "text/plain": [
       "count    5269.000000\n",
       "mean        0.283891\n",
       "std         0.311216\n",
       "min         0.000000\n",
       "25%         0.135070\n",
       "50%         0.225042\n",
       "75%         0.342987\n",
       "max        12.329809\n",
       "Name: volat, dtype: float64"
      ]
     },
     "execution_count": 83,
     "metadata": {},
     "output_type": "execute_result"
    }
   ],
   "source": [
    "df_exp[(df_exp['start_signal']=='Unchanged') &\n",
    "       (df_exp['end_signal']=='Unchanged') & \n",
    "       (df_exp['imbalance']=='Unchanged')\n",
    "      ]['volat'].describe()"
   ]
  },
  {
   "cell_type": "code",
   "execution_count": null,
   "metadata": {},
   "outputs": [],
   "source": []
  }
 ],
 "metadata": {
  "kernelspec": {
   "display_name": "Python 3",
   "language": "python",
   "name": "python3"
  },
  "language_info": {
   "codemirror_mode": {
    "name": "ipython",
    "version": 3
   },
   "file_extension": ".py",
   "mimetype": "text/x-python",
   "name": "python",
   "nbconvert_exporter": "python",
   "pygments_lexer": "ipython3",
   "version": "3.7.6"
  }
 },
 "nbformat": 4,
 "nbformat_minor": 4
}
