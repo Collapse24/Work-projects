{
 "cells": [
  {
   "cell_type": "code",
   "execution_count": 1,
   "metadata": {},
   "outputs": [],
   "source": [
    "import os\n",
    "import re\n",
    "import numpy as np\n",
    "import pandas as pd\n",
    "from tqdm import tqdm\n",
    "from tsne import bh_sne\n",
    "from pathlib import Path\n",
    "from copy import deepcopy\n",
    "from sklearn.decomposition import PCA\n",
    "import seaborn as sns\n",
    "from sklearn.manifold import TSNE\n",
    "from matplotlib import pyplot as plt\n",
    "from scipy.spatial.distance import euclidean\n",
    "from sklearn.feature_extraction.text import CountVectorizer\n",
    "from scipy.cluster.hierarchy import ward, fcluster, dendrogram, linkage"
   ]
  },
  {
   "cell_type": "code",
   "execution_count": 2,
   "metadata": {},
   "outputs": [],
   "source": [
    "from openpyxl import load_workbook\n",
    "import xlsxwriter"
   ]
  },
  {
   "cell_type": "code",
   "execution_count": 3,
   "metadata": {},
   "outputs": [
    {
     "name": "stdout",
     "output_type": "stream",
     "text": [
      "CPU times: user 8 µs, sys: 1 µs, total: 9 µs\n",
      "Wall time: 11 µs\n"
     ]
    }
   ],
   "source": [
    "%%time\n",
    "INP_DNAME = os.getcwd()\n",
    "data_fname = '2020 Trade Show Account Matching Worksheet.xlsx'"
   ]
  },
  {
   "cell_type": "code",
   "execution_count": 4,
   "metadata": {},
   "outputs": [],
   "source": [
    "# \"All Clients\" table dataframe\n",
    "df_all_clients = pd.read_excel(data_fname, sheet_name='All Clients & Prospect Accts')"
   ]
  },
  {
   "cell_type": "code",
   "execution_count": 5,
   "metadata": {},
   "outputs": [],
   "source": [
    "# Specific table dataframe\n",
    "df_sheet = pd.read_excel(data_fname, sheet_name='Feb 20 CabanaCapsule')"
   ]
  },
  {
   "cell_type": "code",
   "execution_count": 6,
   "metadata": {},
   "outputs": [],
   "source": [
    "wb = load_workbook('2020 Trade Show Account Matching Worksheet.xlsx')"
   ]
  },
  {
   "cell_type": "code",
   "execution_count": 7,
   "metadata": {},
   "outputs": [],
   "source": [
    "list_hupetlink_account = []\n",
    "for i in range(2, (len(df_all_clients)+2)):\n",
    "    list_hupetlink_account.append(wb['All Clients & Prospect Accts']['C'+str(i)].value)"
   ]
  },
  {
   "cell_type": "code",
   "execution_count": 8,
   "metadata": {},
   "outputs": [],
   "source": [
    "df_all_clients['Link'] = list_hupetlink_account"
   ]
  },
  {
   "cell_type": "code",
   "execution_count": 9,
   "metadata": {},
   "outputs": [
    {
     "data": {
      "text/html": [
       "<div>\n",
       "<style scoped>\n",
       "    .dataframe tbody tr th:only-of-type {\n",
       "        vertical-align: middle;\n",
       "    }\n",
       "\n",
       "    .dataframe tbody tr th {\n",
       "        vertical-align: top;\n",
       "    }\n",
       "\n",
       "    .dataframe thead th {\n",
       "        text-align: right;\n",
       "    }\n",
       "</style>\n",
       "<table border=\"1\" class=\"dataframe\">\n",
       "  <thead>\n",
       "    <tr style=\"text-align: right;\">\n",
       "      <th></th>\n",
       "      <th>Parent Account</th>\n",
       "      <th>Account Name</th>\n",
       "      <th>Account ID</th>\n",
       "      <th>Parent Account ID</th>\n",
       "      <th>Account Owner</th>\n",
       "      <th>Account Record Type</th>\n",
       "      <th>Account Currency</th>\n",
       "      <th>Website</th>\n",
       "      <th>Link</th>\n",
       "    </tr>\n",
       "  </thead>\n",
       "  <tbody>\n",
       "    <tr>\n",
       "      <td>0</td>\n",
       "      <td>NaN</td>\n",
       "      <td>Fast Retailing</td>\n",
       "      <td>001i000000UL9l4</td>\n",
       "      <td>NaN</td>\n",
       "      <td>Kate O'Brien</td>\n",
       "      <td>NuORDER Client</td>\n",
       "      <td>USD</td>\n",
       "      <td>NaN</td>\n",
       "      <td>=HYPERLINK(\"https://nuorder.my.salesforce.com/...</td>\n",
       "    </tr>\n",
       "    <tr>\n",
       "      <td>1</td>\n",
       "      <td>Trimera Group Inc</td>\n",
       "      <td>Gottex Swimwear Brands</td>\n",
       "      <td>0013100001lE5vO</td>\n",
       "      <td>0013100001ZJuUR</td>\n",
       "      <td>Jessica Ramsden</td>\n",
       "      <td>NuORDER Client</td>\n",
       "      <td>USD</td>\n",
       "      <td>http://www.gottexmodels.com</td>\n",
       "      <td>=HYPERLINK(\"https://nuorder.my.salesforce.com/...</td>\n",
       "    </tr>\n",
       "  </tbody>\n",
       "</table>\n",
       "</div>"
      ],
      "text/plain": [
       "      Parent Account            Account Name       Account ID  \\\n",
       "0                NaN          Fast Retailing  001i000000UL9l4   \n",
       "1  Trimera Group Inc  Gottex Swimwear Brands  0013100001lE5vO   \n",
       "\n",
       "  Parent Account ID    Account Owner Account Record Type Account Currency  \\\n",
       "0               NaN     Kate O'Brien      NuORDER Client              USD   \n",
       "1   0013100001ZJuUR  Jessica Ramsden      NuORDER Client              USD   \n",
       "\n",
       "                       Website  \\\n",
       "0                          NaN   \n",
       "1  http://www.gottexmodels.com   \n",
       "\n",
       "                                                Link  \n",
       "0  =HYPERLINK(\"https://nuorder.my.salesforce.com/...  \n",
       "1  =HYPERLINK(\"https://nuorder.my.salesforce.com/...  "
      ]
     },
     "execution_count": 9,
     "metadata": {},
     "output_type": "execute_result"
    }
   ],
   "source": [
    "df_all_clients.head(2)"
   ]
  },
  {
   "cell_type": "code",
   "execution_count": 10,
   "metadata": {},
   "outputs": [
    {
     "data": {
      "text/html": [
       "<div>\n",
       "<style scoped>\n",
       "    .dataframe tbody tr th:only-of-type {\n",
       "        vertical-align: middle;\n",
       "    }\n",
       "\n",
       "    .dataframe tbody tr th {\n",
       "        vertical-align: top;\n",
       "    }\n",
       "\n",
       "    .dataframe thead th {\n",
       "        text-align: right;\n",
       "    }\n",
       "</style>\n",
       "<table border=\"1\" class=\"dataframe\">\n",
       "  <thead>\n",
       "    <tr style=\"text-align: right;\">\n",
       "      <th></th>\n",
       "      <th>Exhibitor</th>\n",
       "      <th>Fuzzy Match Account Name</th>\n",
       "      <th>Account ID</th>\n",
       "      <th>Parent Account ID</th>\n",
       "      <th>Account Owner</th>\n",
       "      <th>Account Record Type</th>\n",
       "      <th>Show</th>\n",
       "      <th>Trade Show ID</th>\n",
       "    </tr>\n",
       "  </thead>\n",
       "  <tbody>\n",
       "    <tr>\n",
       "      <td>0</td>\n",
       "      <td>4our Dreamers</td>\n",
       "      <td>NaN</td>\n",
       "      <td>001i000000phVYa</td>\n",
       "      <td>NaN</td>\n",
       "      <td>NaN</td>\n",
       "      <td>NaN</td>\n",
       "      <td>Capsule</td>\n",
       "      <td>a1I3r000006YHyQEAW</td>\n",
       "    </tr>\n",
       "    <tr>\n",
       "      <td>1</td>\n",
       "      <td>8 Paris Rock</td>\n",
       "      <td>NaN</td>\n",
       "      <td>NaN</td>\n",
       "      <td>NaN</td>\n",
       "      <td>NaN</td>\n",
       "      <td>NaN</td>\n",
       "      <td>Capsule</td>\n",
       "      <td>a1I3r000006YHyQEAW</td>\n",
       "    </tr>\n",
       "  </tbody>\n",
       "</table>\n",
       "</div>"
      ],
      "text/plain": [
       "       Exhibitor  Fuzzy Match Account Name       Account ID  \\\n",
       "0  4our Dreamers                       NaN  001i000000phVYa   \n",
       "1   8 Paris Rock                       NaN              NaN   \n",
       "\n",
       "   Parent Account ID  Account Owner  Account Record Type     Show  \\\n",
       "0                NaN            NaN                  NaN  Capsule   \n",
       "1                NaN            NaN                  NaN  Capsule   \n",
       "\n",
       "        Trade Show ID  \n",
       "0  a1I3r000006YHyQEAW  \n",
       "1  a1I3r000006YHyQEAW  "
      ]
     },
     "execution_count": 10,
     "metadata": {},
     "output_type": "execute_result"
    }
   ],
   "source": [
    "df_sheet.head(2)"
   ]
  },
  {
   "cell_type": "markdown",
   "metadata": {},
   "source": [
    "# Clearing and changing data"
   ]
  },
  {
   "cell_type": "code",
   "execution_count": 145,
   "metadata": {},
   "outputs": [],
   "source": [
    "# Creating customer name lists\n",
    "list_all_clients = list(df_all_clients['Account Name'])\n",
    "list_sheet = list(df_sheet['Exhibitor'])"
   ]
  },
  {
   "cell_type": "code",
   "execution_count": 146,
   "metadata": {},
   "outputs": [],
   "source": [
    "# Function to convert client names to strings\n",
    "def func_list_name(list_name):\n",
    "    for i in range(len(list_name)):\n",
    "        list_name[i] = str(list_name[i])\n",
    "    return list_name"
   ]
  },
  {
   "cell_type": "code",
   "execution_count": 147,
   "metadata": {},
   "outputs": [],
   "source": [
    "# List building\n",
    "list_all_clients = func_list_name(list_all_clients)\n",
    "list_sheet = func_list_name(list_sheet)"
   ]
  },
  {
   "cell_type": "code",
   "execution_count": 148,
   "metadata": {},
   "outputs": [],
   "source": [
    "def name_lower(list_name):\n",
    "    for i in range(len(list_name)):\n",
    "        list_name[i] = list_name[i].lower()\n",
    "    return list_name"
   ]
  },
  {
   "cell_type": "code",
   "execution_count": 149,
   "metadata": {},
   "outputs": [],
   "source": [
    "list_all_clients = name_lower(list_all_clients)\n",
    "list_sheet = name_lower(list_sheet)"
   ]
  },
  {
   "cell_type": "markdown",
   "metadata": {},
   "source": [
    "## Шаг 1 Только True Match"
   ]
  },
  {
   "cell_type": "code",
   "execution_count": 150,
   "metadata": {},
   "outputs": [],
   "source": [
    "# Function for removing punctuation and abbreviations\n",
    "def clear_list_name(list_name):\n",
    "    for i in range(len(list_name)):\n",
    "        list_name[i] = re.sub(r'\\W+', ' ', list_name[i])       \n",
    "        list_name[i] = re.sub(r'\\Wco\\W|\\Winc\\W|\\Wltd\\W|\\Wcorp\\W|\\Wllc\\W|\\Wplc\\W|\\Wldc\\W|\\Wsa\\W|\\Wbv\\W|\\Wag\\W|\\Wslg\\W|\\Wrsn\\W|\\Wmfg\\W|\\Wsrl\\W|\\Wpty\\W|\\Wspa\\W|\\Wsagl\\W|\\Wdtp\\W|\\Wthe\\W', ' ', list_name[i])\n",
    "        list_name[i] = re.sub(r'\\Wco\\b|\\Winc\\b|\\Wltd\\b|\\Wcorp\\b|\\Wllc\\b|\\Wplc\\b|\\Wldc\\b|\\Wsa\\b|\\Wbv\\b|\\Wag\\b|\\Wslg\\b|\\Wrsn\\b|\\Wmfg\\b|\\Wsrl\\b|\\Wpty\\b|\\Wspa\\b|\\Wsagl\\b|\\Wdtp\\b|\\Wthe\\b', ' ', list_name[i])    \n",
    "        list_name[i] = re.sub(r'\\s\\w\\s', '', list_name[i])\n",
    "        #list_name[i] = re.sub(r'\\W+', '', list_name[i])\n",
    "    return list_name"
   ]
  },
  {
   "cell_type": "code",
   "execution_count": 151,
   "metadata": {},
   "outputs": [],
   "source": [
    "# # Function for removing punctuation and abbreviations\n",
    "# def clear_list_name_hard(list_name):\n",
    "#     for i in range(len(list_name)):\n",
    "#         list_name[i] = re.sub(r'\\W+', ' ', list_name[i])\n",
    "        \n",
    "#         list_name[i] = re.sub(r'\\Wusa\\W|\\Wus\\W|\\Wau\\W|\\Wuk\\W|\\Weu\\W', ' ', list_name[i])\n",
    "#         list_name[i] = re.sub(r'\\Wusa\\b|\\Wus\\b|\\Wau\\b|\\Wuk\\b|\\Weu\\b', ' ', list_name[i])\n",
    "        \n",
    "#         list_name[i] = re.sub(r'\\Wgroup\\W|\\Winternational\\W|\\Wcompany\\W|\\Wamerica\\W|\\Wkids\\W|\\Wkidswear\\W|\\Wshoes\\W|\\Wmilano\\W|\\Wwomens\\W|\\Waustralia\\W|\\Wbrooklyn\\W|\\Wparis\\W|\\Wnew york\\W|\\Wunited kingdom\\W|\\Wby\\W|\\Wlimited\\W|\\shop\\W|\\Wtextiles\\W|\\Wfashion\\W|\\Wapparel\\W|\\Wswimwear\\W|\\Wwear\\W|\\Wfootwear\\W|\\Wshoes\\W', ' ', list_name[i])\n",
    "#         list_name[i] = re.sub(r'\\Wgroup\\b|\\Winternational\\b|\\Wcompany\\b|\\Wamerica\\b|\\Wkids\\b|\\Wkidswear\\b|\\Wshoes\\b|\\Wmilano\\b|\\Wwomens\\b|\\Waustralia\\b|\\Wbrooklyn\\b|\\Wparis\\b|\\Wnew york\\b|\\Wunited kingdom\\b|\\Wby\\b|\\Wlimited\\b|\\shop\\b|\\Wtextiles\\b|\\Wfashion\\b|\\Wapparel\\b|\\Wswimwear\\b|\\Wwear\\b|\\Wfootwear\\b|\\Wshoes\\b', ' ', list_name[i])\n",
    "    \n",
    "#         list_name[i] = re.sub(r'\\s\\w\\s', '', list_name[i])\n",
    "#         #list_name[i] = re.sub(r'\\W+', '', list_name[i])new york\n",
    "#     return list_name"
   ]
  },
  {
   "cell_type": "code",
   "execution_count": 152,
   "metadata": {},
   "outputs": [],
   "source": [
    "def clear_name(name):\n",
    "    name = re.sub(r'\\W+', ' ', name)\n",
    "    name = re.sub(r'\\Wusa\\W|\\Wus\\W|\\Wau\\W|\\Wuk\\W|\\Weu\\W', ' ', name)\n",
    "    name = re.sub(r'\\Wusa\\b|\\Wus\\b|\\Wau\\b|\\Wuk\\b|\\Weu\\b', ' ', name)\n",
    "        \n",
    "    name = re.sub(r'\\Wgroup\\W|\\Winternational\\W|\\Wcompany\\W|\\Wamerica\\W|\\Wkids\\W|\\Wkidswear\\W|\\Wshoes\\W|\\Wmilano\\W|\\Wwomens\\W|\\Waustralia\\W|\\Wbrooklyn\\W|\\Wparis\\W|\\Wnew york\\W|\\Wunited kingdom\\W|\\Wby\\W|\\Wlimited\\W|\\shop\\W|\\Wtextiles\\W|\\Wfashion\\W|\\Wapparel\\W|\\Wswimwear\\W|\\Wwear\\W|\\Wfootwear\\W|\\Wshoes\\W', ' ', name)\n",
    "    name = re.sub(r'\\Wgroup\\b|\\Winternational\\b|\\Wcompany\\b|\\Wamerica\\b|\\Wkids\\b|\\Wkidswear\\b|\\Wshoes\\b|\\Wmilano\\b|\\Wwomens\\b|\\Waustralia\\b|\\Wbrooklyn\\b|\\Wparis\\b|\\Wnew york\\b|\\Wunited kingdom\\b|\\Wby\\b|\\Wlimited\\b|\\shop\\b|\\Wtextiles\\b|\\Wfashion\\b|\\Wapparel\\b|\\Wswimwear\\b|\\Wwear\\b|\\Wfootwear\\b|\\Wshoes\\b', ' ', name)\n",
    "    \n",
    "    name = re.sub(r'\\s\\w\\s', '', name)\n",
    "    return name"
   ]
  },
  {
   "cell_type": "code",
   "execution_count": 153,
   "metadata": {},
   "outputs": [],
   "source": [
    "# List building\n",
    "list_all_clients = clear_list_name(list_all_clients)\n",
    "list_sheet = clear_list_name(list_sheet)"
   ]
  },
  {
   "cell_type": "code",
   "execution_count": 154,
   "metadata": {},
   "outputs": [],
   "source": [
    "# # Match function\n",
    "# def find_match(list_sheet_name, list_all_name, sheet_name_match):\n",
    "#     for i in range(len(list_sheet_name)):\n",
    "#         if list_sheet_name[i] in list_all_name:\n",
    "#             sheet_name_match.append(['True Match',list_all_name.index(list_sheet_name[i])])\n",
    "#         elif list_sheet_name[i] not in list_all_name:\n",
    "#             list_sheet_name = clear_list_name_hard(list_sheet_name)\n",
    "#             list_all_name = clear_list_name_hard(list_all_name)\n",
    "#             if list_sheet_name[i] in list_all_name:\n",
    "#                 sheet_name_match.append(['Fuzzy Match',list_all_name.index(list_sheet_name[i])])\n",
    "#             else:                \n",
    "#                 sheet_name_match.append(0)\n",
    "#     return sheet_name_match"
   ]
  },
  {
   "cell_type": "code",
   "execution_count": 155,
   "metadata": {},
   "outputs": [],
   "source": [
    "sheet_name_match = []"
   ]
  },
  {
   "cell_type": "code",
   "execution_count": 156,
   "metadata": {},
   "outputs": [
    {
     "name": "stderr",
     "output_type": "stream",
     "text": [
      "100%|██████████| 244/244 [02:50<00:00,  1.43it/s]\n"
     ]
    }
   ],
   "source": [
    "for i in tqdm(range(len(list_sheet))):\n",
    "    for j in range(len(list_all_clients)):\n",
    "        if list_sheet[i] == list_all_clients[j]:\n",
    "            sheet_name_match.append(['True Match', list_sheet[i], list_all_clients[j]])\n",
    "        else:\n",
    "            if clear_name(list_sheet[i]) == clear_name(list_all_clients[j]):\n",
    "                sheet_name_match.append(['Fuzzy Match', list_sheet[i], list_all_clients[j]])\n",
    "            else:\n",
    "                sheet_name_match.append(' ')"
   ]
  },
  {
   "cell_type": "code",
   "execution_count": null,
   "metadata": {},
   "outputs": [],
   "source": []
  },
  {
   "cell_type": "code",
   "execution_count": 160,
   "metadata": {},
   "outputs": [
    {
     "data": {
      "text/plain": [
       "True"
      ]
     },
     "execution_count": 160,
     "metadata": {},
     "output_type": "execute_result"
    }
   ],
   "source": [
    "list_sheet[0] == list_all_clients[8977]"
   ]
  },
  {
   "cell_type": "code",
   "execution_count": 159,
   "metadata": {},
   "outputs": [
    {
     "data": {
      "text/plain": [
       "'4our dreamers'"
      ]
     },
     "execution_count": 159,
     "metadata": {},
     "output_type": "execute_result"
    }
   ],
   "source": []
  },
  {
   "cell_type": "code",
   "execution_count": 42,
   "metadata": {},
   "outputs": [],
   "source": [
    "for i in range(len(list_sheet)):\n",
    "    if list_sheet[i] in list_all_clients:\n",
    "        sheet_name_match.append(['True Match', list_all_clients.index(list_sheet[i])])\n",
    "    elif list_sheet[i] not in list_all_clients:\n",
    "        list_sheet = clear_list_name_hard(list_sheet)\n",
    "        list_all_clients = clear_list_name_hard(list_all_clients)\n",
    "        if list_sheet[i] in list_all_clients:\n",
    "            sheet_name_match.append(['Fuzzy Match', list_all_clients.index(list_sheet[i])])\n",
    "        else:                \n",
    "            sheet_name_match.append(0)"
   ]
  },
  {
   "cell_type": "code",
   "execution_count": 43,
   "metadata": {},
   "outputs": [
    {
     "data": {
      "text/plain": [
       "[['True Match', 8977],\n",
       " 0,\n",
       " ['True Match', 6257],\n",
       " 0,\n",
       " 0,\n",
       " ['True Match', 5958],\n",
       " 0,\n",
       " 0,\n",
       " 0,\n",
       " 0,\n",
       " 0,\n",
       " 0,\n",
       " ['True Match', 27361],\n",
       " 0,\n",
       " ['True Match', 25077],\n",
       " ['True Match', 15615],\n",
       " ['True Match', 8307],\n",
       " 0,\n",
       " 0,\n",
       " ['True Match', 2812],\n",
       " 0,\n",
       " ['True Match', 286],\n",
       " 0,\n",
       " ['True Match', 10983],\n",
       " ['True Match', 2564],\n",
       " 0,\n",
       " 0,\n",
       " 0,\n",
       " ['True Match', 10132],\n",
       " ['True Match', 9957],\n",
       " 0,\n",
       " 0,\n",
       " 0,\n",
       " ['True Match', 14255],\n",
       " ['True Match', 9646],\n",
       " 0,\n",
       " 0,\n",
       " 0,\n",
       " 0,\n",
       " 0,\n",
       " ['True Match', 20614],\n",
       " 0,\n",
       " ['True Match', 4901],\n",
       " ['True Match', 23151],\n",
       " 0,\n",
       " 0,\n",
       " ['True Match', 4964],\n",
       " 0,\n",
       " ['True Match', 20298],\n",
       " 0,\n",
       " ['True Match', 16088],\n",
       " 0,\n",
       " ['True Match', 3949],\n",
       " 0,\n",
       " 0,\n",
       " 0,\n",
       " 0,\n",
       " 0,\n",
       " 0,\n",
       " ['True Match', 2292],\n",
       " 0,\n",
       " 0,\n",
       " 0,\n",
       " 0,\n",
       " 0,\n",
       " 0,\n",
       " 0,\n",
       " 0,\n",
       " 0,\n",
       " 0,\n",
       " 0,\n",
       " ['True Match', 19926],\n",
       " ['True Match', 16935],\n",
       " 0,\n",
       " 0,\n",
       " 0,\n",
       " ['True Match', 28170],\n",
       " 0,\n",
       " 0,\n",
       " 0,\n",
       " 0,\n",
       " 0,\n",
       " 0,\n",
       " 0,\n",
       " 0,\n",
       " 0,\n",
       " 0,\n",
       " ['True Match', 5439],\n",
       " 0,\n",
       " ['True Match', 24386],\n",
       " 0,\n",
       " ['True Match', 12086],\n",
       " 0,\n",
       " 0,\n",
       " 0,\n",
       " 0,\n",
       " 0,\n",
       " 0,\n",
       " 0,\n",
       " 0,\n",
       " ['True Match', 2927],\n",
       " 0,\n",
       " ['True Match', 12818],\n",
       " 0,\n",
       " 0,\n",
       " ['True Match', 1138],\n",
       " 0,\n",
       " 0,\n",
       " ['True Match', 28832],\n",
       " 0,\n",
       " 0,\n",
       " ['True Match', 3977],\n",
       " ['True Match', 15379],\n",
       " 0,\n",
       " 0,\n",
       " ['True Match', 4258],\n",
       " 0,\n",
       " 0,\n",
       " ['True Match', 27064],\n",
       " ['True Match', 15570],\n",
       " 0,\n",
       " ['True Match', 15884],\n",
       " 0,\n",
       " 0,\n",
       " 0,\n",
       " ['True Match', 16761],\n",
       " ['True Match', 28397],\n",
       " ['True Match', 21286],\n",
       " 0,\n",
       " 0,\n",
       " ['True Match', 28984],\n",
       " ['True Match', 21259],\n",
       " ['True Match', 21991],\n",
       " 0,\n",
       " ['True Match', 20419],\n",
       " 0,\n",
       " ['True Match', 2789],\n",
       " 0,\n",
       " 0,\n",
       " ['True Match', 6281],\n",
       " 0,\n",
       " 0,\n",
       " ['True Match', 5],\n",
       " 0,\n",
       " 0,\n",
       " 0,\n",
       " ['True Match', 11140],\n",
       " ['True Match', 8328],\n",
       " 0,\n",
       " 0,\n",
       " ['True Match', 26167],\n",
       " 0,\n",
       " 0,\n",
       " 0,\n",
       " 0,\n",
       " 0,\n",
       " ['True Match', 5180],\n",
       " 0,\n",
       " 0,\n",
       " 0,\n",
       " 0,\n",
       " 0,\n",
       " ['True Match', 11469],\n",
       " 0,\n",
       " 0,\n",
       " ['True Match', 21420],\n",
       " ['True Match', 28027],\n",
       " 0,\n",
       " 0,\n",
       " 0,\n",
       " ['True Match', 4847],\n",
       " 0,\n",
       " 0,\n",
       " 0,\n",
       " 0,\n",
       " ['True Match', 7219],\n",
       " 0,\n",
       " 0,\n",
       " 0,\n",
       " ['True Match', 21094],\n",
       " 0,\n",
       " 0,\n",
       " 0,\n",
       " 0,\n",
       " 0,\n",
       " 0,\n",
       " 0,\n",
       " ['True Match', 27037],\n",
       " 0,\n",
       " 0,\n",
       " 0,\n",
       " 0,\n",
       " 0,\n",
       " 0,\n",
       " 0,\n",
       " 0,\n",
       " 0,\n",
       " ['True Match', 28699],\n",
       " ['True Match', 4542],\n",
       " 0,\n",
       " 0,\n",
       " 0,\n",
       " 0,\n",
       " 0,\n",
       " 0,\n",
       " 0,\n",
       " 0,\n",
       " 0,\n",
       " ['True Match', 6527],\n",
       " ['True Match', 6520],\n",
       " 0,\n",
       " 0,\n",
       " ['True Match', 27670],\n",
       " 0,\n",
       " 0,\n",
       " 0,\n",
       " ['True Match', 13874],\n",
       " ['True Match', 192],\n",
       " ['True Match', 14792],\n",
       " 0,\n",
       " 0,\n",
       " ['True Match', 12983],\n",
       " 0,\n",
       " 0,\n",
       " 0,\n",
       " ['True Match', 6471],\n",
       " 0,\n",
       " 0,\n",
       " 0,\n",
       " ['True Match', 5855],\n",
       " 0,\n",
       " ['True Match', 16256],\n",
       " 0,\n",
       " 0,\n",
       " 0,\n",
       " 0,\n",
       " 0,\n",
       " ['True Match', 18420],\n",
       " ['True Match', 13159],\n",
       " ['True Match', 24109],\n",
       " 0,\n",
       " ['True Match', 20601],\n",
       " 0,\n",
       " ['True Match', 16391]]"
      ]
     },
     "execution_count": 43,
     "metadata": {},
     "output_type": "execute_result"
    }
   ],
   "source": [
    "sheet_name_match"
   ]
  },
  {
   "cell_type": "code",
   "execution_count": null,
   "metadata": {},
   "outputs": [],
   "source": []
  }
 ],
 "metadata": {
  "kernelspec": {
   "display_name": "Python 3",
   "language": "python",
   "name": "python3"
  },
  "language_info": {
   "codemirror_mode": {
    "name": "ipython",
    "version": 3
   },
   "file_extension": ".py",
   "mimetype": "text/x-python",
   "name": "python",
   "nbconvert_exporter": "python",
   "pygments_lexer": "ipython3",
   "version": "3.7.4"
  }
 },
 "nbformat": 4,
 "nbformat_minor": 4
}
