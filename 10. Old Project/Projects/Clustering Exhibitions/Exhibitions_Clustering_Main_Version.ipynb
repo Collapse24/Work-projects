{
 "cells": [
  {
   "cell_type": "code",
   "execution_count": 1,
   "metadata": {},
   "outputs": [],
   "source": [
    "import os\n",
    "import re\n",
    "import numpy as np\n",
    "import pandas as pd\n",
    "from pathlib import Path\n",
    "from copy import deepcopy\n",
    "from matplotlib import pyplot as plt\n",
    "from scipy.cluster.hierarchy import ward, fcluster, dendrogram, linkage"
   ]
  },
  {
   "cell_type": "code",
   "execution_count": 2,
   "metadata": {},
   "outputs": [],
   "source": [
    "from openpyxl import load_workbook\n",
    "import xlsxwriter"
   ]
  },
  {
   "cell_type": "code",
   "execution_count": 3,
   "metadata": {},
   "outputs": [
    {
     "name": "stdout",
     "output_type": "stream",
     "text": [
      "CPU times: user 9 µs, sys: 1 µs, total: 10 µs\n",
      "Wall time: 12.4 µs\n"
     ]
    }
   ],
   "source": [
    "%%time\n",
    "INP_DNAME = os.getcwd()\n",
    "data_fname = '2020 Trade Show Account Matching Worksheet.xlsx'"
   ]
  },
  {
   "cell_type": "code",
   "execution_count": 4,
   "metadata": {},
   "outputs": [],
   "source": [
    "# \"All Clients\" table dataframe\n",
    "df_all = pd.read_excel(data_fname, sheet_name='All Clients & Prospect Accts')"
   ]
  },
  {
   "cell_type": "code",
   "execution_count": 5,
   "metadata": {},
   "outputs": [],
   "source": [
    "# Specific table dataframe\n",
    "df_sheet_1 = pd.read_excel(data_fname, sheet_name='Feb 20 Coterie')"
   ]
  },
  {
   "cell_type": "code",
   "execution_count": 6,
   "metadata": {},
   "outputs": [],
   "source": [
    "wb = load_workbook('2020 Trade Show Account Matching Worksheet.xlsx')"
   ]
  },
  {
   "cell_type": "code",
   "execution_count": 7,
   "metadata": {},
   "outputs": [],
   "source": [
    "list_hupetlink_account = []\n",
    "for i in range(2, (len(df_all)+2)):\n",
    "    list_hupetlink_account.append(wb['All Clients & Prospect Accts']['C'+str(i)].value)"
   ]
  },
  {
   "cell_type": "code",
   "execution_count": 8,
   "metadata": {},
   "outputs": [],
   "source": [
    "df_all['Link'] = list_hupetlink_account"
   ]
  },
  {
   "cell_type": "code",
   "execution_count": 9,
   "metadata": {},
   "outputs": [
    {
     "data": {
      "text/html": [
       "<div>\n",
       "<style scoped>\n",
       "    .dataframe tbody tr th:only-of-type {\n",
       "        vertical-align: middle;\n",
       "    }\n",
       "\n",
       "    .dataframe tbody tr th {\n",
       "        vertical-align: top;\n",
       "    }\n",
       "\n",
       "    .dataframe thead th {\n",
       "        text-align: right;\n",
       "    }\n",
       "</style>\n",
       "<table border=\"1\" class=\"dataframe\">\n",
       "  <thead>\n",
       "    <tr style=\"text-align: right;\">\n",
       "      <th></th>\n",
       "      <th>Parent Account</th>\n",
       "      <th>Account Name</th>\n",
       "      <th>Account ID</th>\n",
       "      <th>Parent Account ID</th>\n",
       "      <th>Account Owner</th>\n",
       "      <th>Account Record Type</th>\n",
       "      <th>Account Currency</th>\n",
       "      <th>Website</th>\n",
       "      <th>Link</th>\n",
       "    </tr>\n",
       "  </thead>\n",
       "  <tbody>\n",
       "    <tr>\n",
       "      <td>0</td>\n",
       "      <td>NaN</td>\n",
       "      <td>Fast Retailing</td>\n",
       "      <td>001i000000UL9l4</td>\n",
       "      <td>NaN</td>\n",
       "      <td>Kate O'Brien</td>\n",
       "      <td>NuORDER Client</td>\n",
       "      <td>USD</td>\n",
       "      <td>NaN</td>\n",
       "      <td>=HYPERLINK(\"https://nuorder.my.salesforce.com/...</td>\n",
       "    </tr>\n",
       "    <tr>\n",
       "      <td>1</td>\n",
       "      <td>Trimera Group Inc</td>\n",
       "      <td>Gottex Swimwear Brands</td>\n",
       "      <td>0013100001lE5vO</td>\n",
       "      <td>0013100001ZJuUR</td>\n",
       "      <td>Jessica Ramsden</td>\n",
       "      <td>NuORDER Client</td>\n",
       "      <td>USD</td>\n",
       "      <td>http://www.gottexmodels.com</td>\n",
       "      <td>=HYPERLINK(\"https://nuorder.my.salesforce.com/...</td>\n",
       "    </tr>\n",
       "  </tbody>\n",
       "</table>\n",
       "</div>"
      ],
      "text/plain": [
       "      Parent Account            Account Name       Account ID  \\\n",
       "0                NaN          Fast Retailing  001i000000UL9l4   \n",
       "1  Trimera Group Inc  Gottex Swimwear Brands  0013100001lE5vO   \n",
       "\n",
       "  Parent Account ID    Account Owner Account Record Type Account Currency  \\\n",
       "0               NaN     Kate O'Brien      NuORDER Client              USD   \n",
       "1   0013100001ZJuUR  Jessica Ramsden      NuORDER Client              USD   \n",
       "\n",
       "                       Website  \\\n",
       "0                          NaN   \n",
       "1  http://www.gottexmodels.com   \n",
       "\n",
       "                                                Link  \n",
       "0  =HYPERLINK(\"https://nuorder.my.salesforce.com/...  \n",
       "1  =HYPERLINK(\"https://nuorder.my.salesforce.com/...  "
      ]
     },
     "execution_count": 9,
     "metadata": {},
     "output_type": "execute_result"
    }
   ],
   "source": [
    "df_all.head(2)"
   ]
  },
  {
   "cell_type": "code",
   "execution_count": 10,
   "metadata": {},
   "outputs": [
    {
     "data": {
      "text/html": [
       "<div>\n",
       "<style scoped>\n",
       "    .dataframe tbody tr th:only-of-type {\n",
       "        vertical-align: middle;\n",
       "    }\n",
       "\n",
       "    .dataframe tbody tr th {\n",
       "        vertical-align: top;\n",
       "    }\n",
       "\n",
       "    .dataframe thead th {\n",
       "        text-align: right;\n",
       "    }\n",
       "</style>\n",
       "<table border=\"1\" class=\"dataframe\">\n",
       "  <thead>\n",
       "    <tr style=\"text-align: right;\">\n",
       "      <th></th>\n",
       "      <th>Exhibitor</th>\n",
       "      <th>Fuzzy Match Account Name</th>\n",
       "      <th>Account ID</th>\n",
       "      <th>Parent Account ID</th>\n",
       "      <th>Account Owner</th>\n",
       "      <th>Account Record Type</th>\n",
       "      <th>Trade Show ID</th>\n",
       "      <th>Booth</th>\n",
       "      <th>New</th>\n",
       "      <th>Show</th>\n",
       "    </tr>\n",
       "  </thead>\n",
       "  <tbody>\n",
       "    <tr>\n",
       "      <td>0</td>\n",
       "      <td>10 Eleven</td>\n",
       "      <td>NaN</td>\n",
       "      <td>001i000000AjeKp</td>\n",
       "      <td>NaN</td>\n",
       "      <td>NaN</td>\n",
       "      <td>NaN</td>\n",
       "      <td>a1I3r000006YHyMEAW</td>\n",
       "      <td>NaN</td>\n",
       "      <td>NaN</td>\n",
       "      <td>COTERIE</td>\n",
       "    </tr>\n",
       "    <tr>\n",
       "      <td>1</td>\n",
       "      <td>143 Tees</td>\n",
       "      <td>NaN</td>\n",
       "      <td>0010Z00002Ce1k3</td>\n",
       "      <td>NaN</td>\n",
       "      <td>NaN</td>\n",
       "      <td>NaN</td>\n",
       "      <td>a1I3r000006YHyMEAW</td>\n",
       "      <td>7427 - Level 3</td>\n",
       "      <td>NaN</td>\n",
       "      <td>COTERIE</td>\n",
       "    </tr>\n",
       "  </tbody>\n",
       "</table>\n",
       "</div>"
      ],
      "text/plain": [
       "   Exhibitor  Fuzzy Match Account Name       Account ID  Parent Account ID  \\\n",
       "0  10 Eleven                       NaN  001i000000AjeKp                NaN   \n",
       "1   143 Tees                       NaN  0010Z00002Ce1k3                NaN   \n",
       "\n",
       "   Account Owner  Account Record Type       Trade Show ID           Booth  \\\n",
       "0            NaN                  NaN  a1I3r000006YHyMEAW             NaN   \n",
       "1            NaN                  NaN  a1I3r000006YHyMEAW  7427 - Level 3   \n",
       "\n",
       "   New     Show  \n",
       "0  NaN  COTERIE  \n",
       "1  NaN  COTERIE  "
      ]
     },
     "execution_count": 10,
     "metadata": {},
     "output_type": "execute_result"
    }
   ],
   "source": [
    "df_sheet_1.head(2)"
   ]
  },
  {
   "cell_type": "markdown",
   "metadata": {},
   "source": [
    "# Clearing and changing data"
   ]
  },
  {
   "cell_type": "code",
   "execution_count": 35,
   "metadata": {},
   "outputs": [],
   "source": [
    "# Creating customer name lists\n",
    "list_all_name = list(df_all['Account Name'])\n",
    "list_sheet_name = list(df_sheet_1['Exhibitor'])"
   ]
  },
  {
   "cell_type": "code",
   "execution_count": 36,
   "metadata": {},
   "outputs": [
    {
     "data": {
      "text/plain": [
       "'Bond-Eye Australia Pty Ltd'"
      ]
     },
     "execution_count": 36,
     "metadata": {},
     "output_type": "execute_result"
    }
   ],
   "source": [
    "list_all_name[402]"
   ]
  },
  {
   "cell_type": "code",
   "execution_count": 37,
   "metadata": {},
   "outputs": [],
   "source": [
    "# Function to convert client names to strings\n",
    "def func_list_name(list_name):\n",
    "    for i in range(len(list_name)):\n",
    "        list_name[i] = str(list_name[i])\n",
    "    return list_name"
   ]
  },
  {
   "cell_type": "code",
   "execution_count": 38,
   "metadata": {},
   "outputs": [],
   "source": [
    "# List building\n",
    "list_all_name = func_list_name(list_all_name)\n",
    "list_sheet_name = func_list_name(list_sheet_name)"
   ]
  },
  {
   "cell_type": "code",
   "execution_count": 39,
   "metadata": {},
   "outputs": [
    {
     "data": {
      "text/plain": [
       "'Bond-Eye Australia Pty Ltd'"
      ]
     },
     "execution_count": 39,
     "metadata": {},
     "output_type": "execute_result"
    }
   ],
   "source": [
    "list_all_name[402]"
   ]
  },
  {
   "cell_type": "code",
   "execution_count": 40,
   "metadata": {},
   "outputs": [],
   "source": [
    "def name_lower(list_name):\n",
    "    for i in range(len(list_name)):\n",
    "        list_name[i] = list_name[i].lower()\n",
    "    return list_name"
   ]
  },
  {
   "cell_type": "code",
   "execution_count": 41,
   "metadata": {},
   "outputs": [],
   "source": [
    "list_all_name_l = name_lower(list_all_name)\n",
    "list_sheet_name_l = name_lower(list_sheet_name)"
   ]
  },
  {
   "cell_type": "code",
   "execution_count": 42,
   "metadata": {},
   "outputs": [
    {
     "data": {
      "text/plain": [
       "'bond-eye australia pty ltd'"
      ]
     },
     "execution_count": 42,
     "metadata": {},
     "output_type": "execute_result"
    }
   ],
   "source": [
    "list_all_name_l[402]"
   ]
  },
  {
   "cell_type": "code",
   "execution_count": 43,
   "metadata": {},
   "outputs": [],
   "source": [
    "# Function for removing punctuation and abbreviations\n",
    "def clear_list_name(list_name):\n",
    "    for i in range(len(list_name)):\n",
    "        list_name[i] = re.sub(r'\\W+', ' ', list_name[i])\n",
    "        list_name[i] = re.sub(r'\\Wco\\W|\\Winc\\W|\\Wltd\\W|\\Wcorp\\W|\\Wllc\\W|\\Wplc\\W|\\Wldc\\W|\\Wsa\\W|\\Wbv\\W|\\Wag\\W|\\Wslg\\W|\\Wrsn\\W|\\Wmfg\\W|\\Wsrl\\W|\\Wpty\\W|\\Wspa\\W|\\Wsagl\\W|\\Wdtp\\W', ' ', list_name[i])\n",
    "        list_name[i] = re.sub(r'\\Wco\\b|\\Winc\\b|\\Wltd\\b|\\Wcorp\\b|\\Wllc\\b|\\Wplc\\b|\\Wldc\\b|\\Wsa\\b|\\Wbv\\b|\\Wag\\b|\\Wslg\\b|\\Wrsn\\b|\\Wmfg\\b|\\Wsrl\\b|\\Wpty\\b|\\Wspa\\b|\\Wsagl\\b|\\Wdtp\\b', ' ', list_name[i])    \n",
    "        list_name[i] = re.sub(r'\\W+', '', list_name[i])\n",
    "    return list_name"
   ]
  },
  {
   "cell_type": "code",
   "execution_count": 44,
   "metadata": {},
   "outputs": [],
   "source": [
    "# List building\n",
    "list_all_name = clear_list_name(list_all_name)\n",
    "list_sheet_name = clear_list_name(list_sheet_name)"
   ]
  },
  {
   "cell_type": "code",
   "execution_count": 45,
   "metadata": {},
   "outputs": [
    {
     "data": {
      "text/plain": [
       "'bondeyeaustralia'"
      ]
     },
     "execution_count": 45,
     "metadata": {},
     "output_type": "execute_result"
    }
   ],
   "source": [
    "list_all_name[402]"
   ]
  },
  {
   "cell_type": "code",
   "execution_count": 46,
   "metadata": {},
   "outputs": [],
   "source": [
    "# Match function\n",
    "def find_match(list_sheet_name, list_all_name, sheet_name_match):\n",
    "    for i in range(len(list_sheet_name)):\n",
    "        if list_sheet_name[i] in list_all_name:\n",
    "            sheet_name_match.append(list_all_name.index(list_sheet_name[i]))\n",
    "        else:\n",
    "            sheet_name_match.append(0)\n",
    "    return sheet_name_match"
   ]
  },
  {
   "cell_type": "code",
   "execution_count": 57,
   "metadata": {},
   "outputs": [
    {
     "data": {
      "text/plain": [
       "True"
      ]
     },
     "execution_count": 57,
     "metadata": {},
     "output_type": "execute_result"
    }
   ],
   "source": [
    "hash('Keds') + hash('Kids') == hash('Kids') + hash('Keds')"
   ]
  },
  {
   "cell_type": "code",
   "execution_count": null,
   "metadata": {},
   "outputs": [],
   "source": [
    "hash('Kids Keds')"
   ]
  },
  {
   "cell_type": "code",
   "execution_count": 47,
   "metadata": {},
   "outputs": [],
   "source": [
    "# Listing indices of matching rows\n",
    "sheet_name_match = []\n",
    "sheet_name_match = find_match(list_sheet_name, list_all_name, sheet_name_match)"
   ]
  },
  {
   "cell_type": "code",
   "execution_count": 49,
   "metadata": {},
   "outputs": [],
   "source": [
    "# Data Markup Block\n",
    "list_account = []\n",
    "list_fuzzy = []\n",
    "list_link = []\n",
    "for i in range(len(sheet_name_match)):\n",
    "    if sheet_name_match[i] == 0:\n",
    "        list_account.append('')\n",
    "        list_fuzzy.append('')\n",
    "        list_link.append('')\n",
    "    else:\n",
    "        list_account.append(df_all['Account ID'].iloc[sheet_name_match[i]])\n",
    "        list_fuzzy.append('TRUE MATCH')\n",
    "        list_link.append(df_all['Link'].iloc[sheet_name_match[i]])"
   ]
  },
  {
   "cell_type": "markdown",
   "metadata": {},
   "source": [
    "# Preparation for clustering. Complete match list"
   ]
  },
  {
   "cell_type": "code",
   "execution_count": 50,
   "metadata": {},
   "outputs": [],
   "source": [
    "df_result = deepcopy(df_sheet_1)"
   ]
  },
  {
   "cell_type": "code",
   "execution_count": 51,
   "metadata": {},
   "outputs": [
    {
     "data": {
      "text/plain": [
       "1844"
      ]
     },
     "execution_count": 51,
     "metadata": {},
     "output_type": "execute_result"
    }
   ],
   "source": [
    "len(df_result)"
   ]
  },
  {
   "cell_type": "code",
   "execution_count": 52,
   "metadata": {},
   "outputs": [
    {
     "data": {
      "text/plain": [
       "1844"
      ]
     },
     "execution_count": 52,
     "metadata": {},
     "output_type": "execute_result"
    }
   ],
   "source": [
    "len(sheet_name_match)"
   ]
  },
  {
   "cell_type": "code",
   "execution_count": 53,
   "metadata": {},
   "outputs": [],
   "source": [
    "df_result['Account ID'] = list_account\n",
    "df_result['Fuzzy Match Account Name'] = list_fuzzy"
   ]
  },
  {
   "cell_type": "code",
   "execution_count": 54,
   "metadata": {},
   "outputs": [
    {
     "data": {
      "text/html": [
       "<div>\n",
       "<style scoped>\n",
       "    .dataframe tbody tr th:only-of-type {\n",
       "        vertical-align: middle;\n",
       "    }\n",
       "\n",
       "    .dataframe tbody tr th {\n",
       "        vertical-align: top;\n",
       "    }\n",
       "\n",
       "    .dataframe thead th {\n",
       "        text-align: right;\n",
       "    }\n",
       "</style>\n",
       "<table border=\"1\" class=\"dataframe\">\n",
       "  <thead>\n",
       "    <tr style=\"text-align: right;\">\n",
       "      <th></th>\n",
       "      <th>Exhibitor</th>\n",
       "      <th>Fuzzy Match Account Name</th>\n",
       "      <th>Account ID</th>\n",
       "      <th>Parent Account ID</th>\n",
       "      <th>Account Owner</th>\n",
       "      <th>Account Record Type</th>\n",
       "      <th>Trade Show ID</th>\n",
       "      <th>Booth</th>\n",
       "      <th>New</th>\n",
       "      <th>Show</th>\n",
       "    </tr>\n",
       "  </thead>\n",
       "  <tbody>\n",
       "    <tr>\n",
       "      <td>0</td>\n",
       "      <td>10 Eleven</td>\n",
       "      <td>TRUE MATCH</td>\n",
       "      <td>001i000000AjeKp</td>\n",
       "      <td>NaN</td>\n",
       "      <td>NaN</td>\n",
       "      <td>NaN</td>\n",
       "      <td>a1I3r000006YHyMEAW</td>\n",
       "      <td>NaN</td>\n",
       "      <td>NaN</td>\n",
       "      <td>COTERIE</td>\n",
       "    </tr>\n",
       "    <tr>\n",
       "      <td>1</td>\n",
       "      <td>143 Tees</td>\n",
       "      <td>TRUE MATCH</td>\n",
       "      <td>0010Z00002Ce1k3</td>\n",
       "      <td>NaN</td>\n",
       "      <td>NaN</td>\n",
       "      <td>NaN</td>\n",
       "      <td>a1I3r000006YHyMEAW</td>\n",
       "      <td>7427 - Level 3</td>\n",
       "      <td>NaN</td>\n",
       "      <td>COTERIE</td>\n",
       "    </tr>\n",
       "    <tr>\n",
       "      <td>2</td>\n",
       "      <td>209 Wst 38</td>\n",
       "      <td></td>\n",
       "      <td></td>\n",
       "      <td>NaN</td>\n",
       "      <td>NaN</td>\n",
       "      <td>NaN</td>\n",
       "      <td>a1I3r000006YHyMEAW</td>\n",
       "      <td>NaN</td>\n",
       "      <td>NaN</td>\n",
       "      <td>COTERIE</td>\n",
       "    </tr>\n",
       "    <tr>\n",
       "      <td>3</td>\n",
       "      <td>27 Miles Malibu</td>\n",
       "      <td></td>\n",
       "      <td></td>\n",
       "      <td>NaN</td>\n",
       "      <td>NaN</td>\n",
       "      <td>NaN</td>\n",
       "      <td>a1I3r000006YHyMEAW</td>\n",
       "      <td>7447 - Level 3</td>\n",
       "      <td>NaN</td>\n",
       "      <td>COTERIE</td>\n",
       "    </tr>\n",
       "    <tr>\n",
       "      <td>4</td>\n",
       "      <td>2wins</td>\n",
       "      <td></td>\n",
       "      <td></td>\n",
       "      <td>NaN</td>\n",
       "      <td>NaN</td>\n",
       "      <td>NaN</td>\n",
       "      <td>a1I3r000006YHyMEAW</td>\n",
       "      <td>NaN</td>\n",
       "      <td>New Exhibitor</td>\n",
       "      <td>COTERIE</td>\n",
       "    </tr>\n",
       "  </tbody>\n",
       "</table>\n",
       "</div>"
      ],
      "text/plain": [
       "         Exhibitor Fuzzy Match Account Name       Account ID  \\\n",
       "0        10 Eleven               TRUE MATCH  001i000000AjeKp   \n",
       "1         143 Tees               TRUE MATCH  0010Z00002Ce1k3   \n",
       "2       209 Wst 38                                             \n",
       "3  27 Miles Malibu                                             \n",
       "4            2wins                                             \n",
       "\n",
       "   Parent Account ID  Account Owner  Account Record Type       Trade Show ID  \\\n",
       "0                NaN            NaN                  NaN  a1I3r000006YHyMEAW   \n",
       "1                NaN            NaN                  NaN  a1I3r000006YHyMEAW   \n",
       "2                NaN            NaN                  NaN  a1I3r000006YHyMEAW   \n",
       "3                NaN            NaN                  NaN  a1I3r000006YHyMEAW   \n",
       "4                NaN            NaN                  NaN  a1I3r000006YHyMEAW   \n",
       "\n",
       "            Booth            New     Show  \n",
       "0             NaN            NaN  COTERIE  \n",
       "1  7427 - Level 3            NaN  COTERIE  \n",
       "2             NaN            NaN  COTERIE  \n",
       "3  7447 - Level 3            NaN  COTERIE  \n",
       "4             NaN  New Exhibitor  COTERIE  "
      ]
     },
     "execution_count": 54,
     "metadata": {},
     "output_type": "execute_result"
    }
   ],
   "source": [
    "df_result.head()"
   ]
  },
  {
   "cell_type": "code",
   "execution_count": 27,
   "metadata": {},
   "outputs": [],
   "source": [
    "df_result['Parent Account ID'] = df_result['Parent Account ID'].fillna('')\n",
    "df_result['Account Owner'] = df_result['Account Owner'].fillna('')\n",
    "df_result['Account Record Type'] = df_result['Account Record Type'].fillna('')"
   ]
  },
  {
   "cell_type": "code",
   "execution_count": 28,
   "metadata": {},
   "outputs": [
    {
     "data": {
      "text/html": [
       "<div>\n",
       "<style scoped>\n",
       "    .dataframe tbody tr th:only-of-type {\n",
       "        vertical-align: middle;\n",
       "    }\n",
       "\n",
       "    .dataframe tbody tr th {\n",
       "        vertical-align: top;\n",
       "    }\n",
       "\n",
       "    .dataframe thead th {\n",
       "        text-align: right;\n",
       "    }\n",
       "</style>\n",
       "<table border=\"1\" class=\"dataframe\">\n",
       "  <thead>\n",
       "    <tr style=\"text-align: right;\">\n",
       "      <th></th>\n",
       "      <th>Exhibitor</th>\n",
       "      <th>Fuzzy Match Account Name</th>\n",
       "      <th>Account ID</th>\n",
       "      <th>Parent Account ID</th>\n",
       "      <th>Account Owner</th>\n",
       "      <th>Account Record Type</th>\n",
       "      <th>Trade Show ID</th>\n",
       "      <th>Booth</th>\n",
       "      <th>New</th>\n",
       "      <th>Show</th>\n",
       "    </tr>\n",
       "  </thead>\n",
       "  <tbody>\n",
       "    <tr>\n",
       "      <td>0</td>\n",
       "      <td>10 Eleven</td>\n",
       "      <td>TRUE MATCH</td>\n",
       "      <td>001i000000AjeKp</td>\n",
       "      <td></td>\n",
       "      <td></td>\n",
       "      <td></td>\n",
       "      <td>a1I3r000006YHyMEAW</td>\n",
       "      <td>NaN</td>\n",
       "      <td>NaN</td>\n",
       "      <td>COTERIE</td>\n",
       "    </tr>\n",
       "    <tr>\n",
       "      <td>1</td>\n",
       "      <td>143 Tees</td>\n",
       "      <td>TRUE MATCH</td>\n",
       "      <td>0010Z00002Ce1k3</td>\n",
       "      <td></td>\n",
       "      <td></td>\n",
       "      <td></td>\n",
       "      <td>a1I3r000006YHyMEAW</td>\n",
       "      <td>7427 - Level 3</td>\n",
       "      <td>NaN</td>\n",
       "      <td>COTERIE</td>\n",
       "    </tr>\n",
       "    <tr>\n",
       "      <td>2</td>\n",
       "      <td>209 Wst 38</td>\n",
       "      <td></td>\n",
       "      <td></td>\n",
       "      <td></td>\n",
       "      <td></td>\n",
       "      <td></td>\n",
       "      <td>a1I3r000006YHyMEAW</td>\n",
       "      <td>NaN</td>\n",
       "      <td>NaN</td>\n",
       "      <td>COTERIE</td>\n",
       "    </tr>\n",
       "    <tr>\n",
       "      <td>3</td>\n",
       "      <td>27 Miles Malibu</td>\n",
       "      <td></td>\n",
       "      <td></td>\n",
       "      <td></td>\n",
       "      <td></td>\n",
       "      <td></td>\n",
       "      <td>a1I3r000006YHyMEAW</td>\n",
       "      <td>7447 - Level 3</td>\n",
       "      <td>NaN</td>\n",
       "      <td>COTERIE</td>\n",
       "    </tr>\n",
       "    <tr>\n",
       "      <td>4</td>\n",
       "      <td>2wins</td>\n",
       "      <td></td>\n",
       "      <td></td>\n",
       "      <td></td>\n",
       "      <td></td>\n",
       "      <td></td>\n",
       "      <td>a1I3r000006YHyMEAW</td>\n",
       "      <td>NaN</td>\n",
       "      <td>New Exhibitor</td>\n",
       "      <td>COTERIE</td>\n",
       "    </tr>\n",
       "  </tbody>\n",
       "</table>\n",
       "</div>"
      ],
      "text/plain": [
       "         Exhibitor Fuzzy Match Account Name       Account ID  \\\n",
       "0        10 Eleven               TRUE MATCH  001i000000AjeKp   \n",
       "1         143 Tees               TRUE MATCH  0010Z00002Ce1k3   \n",
       "2       209 Wst 38                                             \n",
       "3  27 Miles Malibu                                             \n",
       "4            2wins                                             \n",
       "\n",
       "  Parent Account ID Account Owner Account Record Type       Trade Show ID  \\\n",
       "0                                                      a1I3r000006YHyMEAW   \n",
       "1                                                      a1I3r000006YHyMEAW   \n",
       "2                                                      a1I3r000006YHyMEAW   \n",
       "3                                                      a1I3r000006YHyMEAW   \n",
       "4                                                      a1I3r000006YHyMEAW   \n",
       "\n",
       "            Booth            New     Show  \n",
       "0             NaN            NaN  COTERIE  \n",
       "1  7427 - Level 3            NaN  COTERIE  \n",
       "2             NaN            NaN  COTERIE  \n",
       "3  7447 - Level 3            NaN  COTERIE  \n",
       "4             NaN  New Exhibitor  COTERIE  "
      ]
     },
     "execution_count": 28,
     "metadata": {},
     "output_type": "execute_result"
    }
   ],
   "source": [
    "df_result.head()"
   ]
  },
  {
   "cell_type": "markdown",
   "metadata": {},
   "source": [
    "# Output"
   ]
  },
  {
   "cell_type": "code",
   "execution_count": 29,
   "metadata": {},
   "outputs": [],
   "source": [
    "workbook = xlsxwriter.Workbook('result_new.xlsx', {'nan_inf_to_errors': True})"
   ]
  },
  {
   "cell_type": "code",
   "execution_count": 30,
   "metadata": {},
   "outputs": [],
   "source": [
    "worksheet = workbook.add_worksheet('Feb 20 Coterie')"
   ]
  },
  {
   "cell_type": "code",
   "execution_count": 31,
   "metadata": {},
   "outputs": [],
   "source": [
    "# tst_list = []\n",
    "# for i in range(len(list_link)):\n",
    "#     tst_list.append(list_account[i] + ':' + list_link[i])"
   ]
  },
  {
   "cell_type": "code",
   "execution_count": 32,
   "metadata": {},
   "outputs": [],
   "source": [
    "# tst_list = clear_list_name(tst_list)"
   ]
  },
  {
   "cell_type": "code",
   "execution_count": 33,
   "metadata": {},
   "outputs": [],
   "source": [
    "# for i in range(len(tst_list)):\n",
    "#     tst_list[i] = tst_list[i].replace(\"=HYPERLINK(\",'')"
   ]
  },
  {
   "cell_type": "code",
   "execution_count": 34,
   "metadata": {},
   "outputs": [],
   "source": [
    "# tst_list[0].split(',')"
   ]
  },
  {
   "cell_type": "code",
   "execution_count": 35,
   "metadata": {},
   "outputs": [],
   "source": [
    "# for i in range(len(df_result)):\n",
    "#     for j in range(7):\n",
    "#         if j == 2:\n",
    "#             worksheet.write_formula('C'+str(i), list_link[i])\n",
    "#         else:\n",
    "#             worksheet.write(i, j, df_result.iloc[i][j])"
   ]
  },
  {
   "cell_type": "code",
   "execution_count": 36,
   "metadata": {},
   "outputs": [],
   "source": [
    "for i in range(len(df_result)):\n",
    "    for j in range(len(df_sheet_1.columns)):\n",
    "        if i == 0:\n",
    "            if j == 0:\n",
    "                worksheet.write(i, j, 'Exhibitor Name')\n",
    "            if j == 1:\n",
    "                worksheet.write(i, j, 'Fuzzy Match Account Name')\n",
    "            if j == 2:\n",
    "                worksheet.write(i, j, 'Account ID')\n",
    "            if j == 3:\n",
    "                worksheet.write(i, j, 'Parent Account ID')\n",
    "            if j == 4:\n",
    "                worksheet.write(i, j, 'Account Owner')\n",
    "            if j == 5:\n",
    "                worksheet.write(i, j, 'Account Record Type')\n",
    "            if j == 6:\n",
    "                worksheet.write(i, j, 'Trade Show ID')\n",
    "        else:\n",
    "            if j == 2 and i > 0:\n",
    "                worksheet.write_formula('C'+str(i), list_link[i])\n",
    "            else:\n",
    "                worksheet.write(i, j, df_result.iloc[i][j])"
   ]
  },
  {
   "cell_type": "code",
   "execution_count": 37,
   "metadata": {},
   "outputs": [],
   "source": [
    "# # for j in range(len(df_sheet_1.columns)):\n",
    "# #     worksheet.write(0, j, str(df_sheet_1.columns[j]))\n",
    "    \n",
    "# for i in range(len(df_result)):\n",
    "#     for j in range(len(df_sheet_1.columns)):\n",
    "#         if j == 2:\n",
    "#             if list_link[i] == '':\n",
    "#                 worksheet.write(i, j, ' ')\n",
    "#             else:\n",
    "#                 worksheet.write_formula('C'+str(i + 1), list_link[i])\n",
    "#         else:\n",
    "#             worksheet.write(i + 1, j, df_result.iloc[i][j])"
   ]
  },
  {
   "cell_type": "code",
   "execution_count": 38,
   "metadata": {},
   "outputs": [],
   "source": [
    "workbook.close()"
   ]
  },
  {
   "cell_type": "code",
   "execution_count": 208,
   "metadata": {},
   "outputs": [
    {
     "data": {
      "text/plain": [
       "''"
      ]
     },
     "execution_count": 208,
     "metadata": {},
     "output_type": "execute_result"
    }
   ],
   "source": [
    "list_link[2] "
   ]
  },
  {
   "cell_type": "code",
   "execution_count": 102,
   "metadata": {},
   "outputs": [
    {
     "data": {
      "text/plain": [
       "'& Sons Garment Co.'"
      ]
     },
     "execution_count": 102,
     "metadata": {},
     "output_type": "execute_result"
    }
   ],
   "source": [
    "df_result.iloc[0][0]"
   ]
  },
  {
   "cell_type": "code",
   "execution_count": 103,
   "metadata": {},
   "outputs": [
    {
     "data": {
      "text/plain": [
       "''"
      ]
     },
     "execution_count": 103,
     "metadata": {},
     "output_type": "execute_result"
    }
   ],
   "source": [
    "list_link[2]"
   ]
  },
  {
   "cell_type": "code",
   "execution_count": null,
   "metadata": {},
   "outputs": [],
   "source": []
  },
  {
   "cell_type": "code",
   "execution_count": null,
   "metadata": {},
   "outputs": [],
   "source": []
  }
 ],
 "metadata": {
  "kernelspec": {
   "display_name": "Python 3",
   "language": "python",
   "name": "python3"
  },
  "language_info": {
   "codemirror_mode": {
    "name": "ipython",
    "version": 3
   },
   "file_extension": ".py",
   "mimetype": "text/x-python",
   "name": "python",
   "nbconvert_exporter": "python",
   "pygments_lexer": "ipython3",
   "version": "3.7.6"
  }
 },
 "nbformat": 4,
 "nbformat_minor": 4
}
