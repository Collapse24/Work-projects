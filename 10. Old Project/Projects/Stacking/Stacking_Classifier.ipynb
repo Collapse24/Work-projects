{
 "cells": [
  {
   "cell_type": "code",
   "execution_count": null,
   "metadata": {},
   "outputs": [],
   "source": [
    "# Import libraries"
   ]
  },
  {
   "cell_type": "code",
   "execution_count": 3,
   "metadata": {},
   "outputs": [
    {
     "data": {
      "text/html": [
       "<script type=\"text/javascript\">window.PlotlyConfig = {MathJaxConfig: 'local'};</script><script type=\"text/javascript\">if (window.MathJax) {MathJax.Hub.Config({SVG: {font: \"STIX-Web\"}});}</script><script>requirejs.config({paths: { 'plotly': ['https://cdn.plot.ly/plotly-latest.min']},});if(!window._Plotly) {require(['plotly'],function(plotly) {window._Plotly=plotly;});}</script>"
      ],
      "text/vnd.plotly.v1+html": [
       "<script type=\"text/javascript\">window.PlotlyConfig = {MathJaxConfig: 'local'};</script><script type=\"text/javascript\">if (window.MathJax) {MathJax.Hub.Config({SVG: {font: \"STIX-Web\"}});}</script><script>requirejs.config({paths: { 'plotly': ['https://cdn.plot.ly/plotly-latest.min']},});if(!window._Plotly) {require(['plotly'],function(plotly) {window._Plotly=plotly;});}</script>"
      ]
     },
     "metadata": {},
     "output_type": "display_data"
    }
   ],
   "source": [
    "import pandas as pd\n",
    "import numpy as np\n",
    "import re\n",
    "import sklearn\n",
    "import xgboost as xgb\n",
    "import seaborn as sns\n",
    "import matplotlib.pyplot as plt\n",
    "%matplotlib inline\n",
    "\n",
    "import plotly.offline as py\n",
    "py.init_notebook_mode(connected=True)\n",
    "import plotly.graph_objs as go\n",
    "import plotly.tools as tls\n",
    "\n",
    "import warnings\n",
    "warnings.filterwarnings('ignore')\n",
    "\n",
    "# Going to use these 5 base models for the stacking\n",
    "from sklearn.ensemble import (RandomForestClassifier, AdaBoostClassifier, \n",
    "                              GradientBoostingClassifier, ExtraTreesClassifier)\n",
    "from sklearn.svm import SVC\n",
    "from sklearn.model_selection import KFold\n",
    "from copy import deepcopy\n",
    "from tqdm import tqdm"
   ]
  },
  {
   "cell_type": "code",
   "execution_count": 4,
   "metadata": {},
   "outputs": [
    {
     "name": "stdout",
     "output_type": "stream",
     "text": [
      "Wall time: 15.8 s\n"
     ]
    }
   ],
   "source": [
    "%%time\n",
    "data = pd.read_csv('data_for_boosting.csv')"
   ]
  },
  {
   "cell_type": "code",
   "execution_count": 5,
   "metadata": {},
   "outputs": [
    {
     "data": {
      "text/plain": [
       "(823422, 125)"
      ]
     },
     "execution_count": 5,
     "metadata": {},
     "output_type": "execute_result"
    }
   ],
   "source": [
    "data.shape"
   ]
  },
  {
   "cell_type": "code",
   "execution_count": 6,
   "metadata": {},
   "outputs": [
    {
     "data": {
      "text/html": [
       "<div>\n",
       "<style scoped>\n",
       "    .dataframe tbody tr th:only-of-type {\n",
       "        vertical-align: middle;\n",
       "    }\n",
       "\n",
       "    .dataframe tbody tr th {\n",
       "        vertical-align: top;\n",
       "    }\n",
       "\n",
       "    .dataframe thead th {\n",
       "        text-align: right;\n",
       "    }\n",
       "</style>\n",
       "<table border=\"1\" class=\"dataframe\">\n",
       "  <thead>\n",
       "    <tr style=\"text-align: right;\">\n",
       "      <th></th>\n",
       "      <th>volatility_atr</th>\n",
       "      <th>volume_adi</th>\n",
       "      <th>momentum_tsi</th>\n",
       "      <th>momentum_rsi</th>\n",
       "      <th>momentum_stoch</th>\n",
       "      <th>momentum_wr</th>\n",
       "      <th>returns_lag_1</th>\n",
       "      <th>minute</th>\n",
       "      <th>value__fft_coefficient__coeff_0__attr_\"abs\"</th>\n",
       "      <th>close_returns_log</th>\n",
       "      <th>...</th>\n",
       "      <th>value__fft_coefficient__coeff_2__attr_\"angle\"</th>\n",
       "      <th>value__fft_coefficient__coeff_8__attr_\"abs\"</th>\n",
       "      <th>value__number_crossing_m__m_0</th>\n",
       "      <th>value__c3__lag_2</th>\n",
       "      <th>value__fft_aggregated__aggtype_\"variance\"</th>\n",
       "      <th>returns_25</th>\n",
       "      <th>returns_16</th>\n",
       "      <th>returns_26</th>\n",
       "      <th>datetime</th>\n",
       "      <th>target</th>\n",
       "    </tr>\n",
       "  </thead>\n",
       "  <tbody>\n",
       "    <tr>\n",
       "      <th>0</th>\n",
       "      <td>2.232631</td>\n",
       "      <td>-62.084025</td>\n",
       "      <td>1.334591</td>\n",
       "      <td>76.659155</td>\n",
       "      <td>96.774194</td>\n",
       "      <td>-3.225806</td>\n",
       "      <td>0.000282</td>\n",
       "      <td>11</td>\n",
       "      <td>0.000283</td>\n",
       "      <td>0.000000</td>\n",
       "      <td>...</td>\n",
       "      <td>162.231277</td>\n",
       "      <td>0.000309</td>\n",
       "      <td>26.0</td>\n",
       "      <td>-1.148034e-15</td>\n",
       "      <td>205.975487</td>\n",
       "      <td>0.001553</td>\n",
       "      <td>0.000470</td>\n",
       "      <td>0.001506</td>\n",
       "      <td>2019-07-21 05:11:34.542501</td>\n",
       "      <td>2</td>\n",
       "    </tr>\n",
       "    <tr>\n",
       "      <th>1</th>\n",
       "      <td>2.108871</td>\n",
       "      <td>-91.595042</td>\n",
       "      <td>2.166042</td>\n",
       "      <td>73.108003</td>\n",
       "      <td>93.548387</td>\n",
       "      <td>-6.451613</td>\n",
       "      <td>0.000000</td>\n",
       "      <td>11</td>\n",
       "      <td>0.000309</td>\n",
       "      <td>-0.000005</td>\n",
       "      <td>...</td>\n",
       "      <td>170.244199</td>\n",
       "      <td>0.000323</td>\n",
       "      <td>27.0</td>\n",
       "      <td>-1.255613e-15</td>\n",
       "      <td>210.047304</td>\n",
       "      <td>0.001742</td>\n",
       "      <td>0.000329</td>\n",
       "      <td>0.001506</td>\n",
       "      <td>2019-07-21 05:11:47.914567</td>\n",
       "      <td>2</td>\n",
       "    </tr>\n",
       "  </tbody>\n",
       "</table>\n",
       "<p>2 rows × 125 columns</p>\n",
       "</div>"
      ],
      "text/plain": [
       "   volatility_atr  volume_adi  momentum_tsi  momentum_rsi  momentum_stoch  \\\n",
       "0        2.232631  -62.084025      1.334591     76.659155       96.774194   \n",
       "1        2.108871  -91.595042      2.166042     73.108003       93.548387   \n",
       "\n",
       "   momentum_wr  returns_lag_1  minute  \\\n",
       "0    -3.225806       0.000282      11   \n",
       "1    -6.451613       0.000000      11   \n",
       "\n",
       "   value__fft_coefficient__coeff_0__attr_\"abs\"  close_returns_log  ...  \\\n",
       "0                                     0.000283           0.000000  ...   \n",
       "1                                     0.000309          -0.000005  ...   \n",
       "\n",
       "   value__fft_coefficient__coeff_2__attr_\"angle\"  \\\n",
       "0                                     162.231277   \n",
       "1                                     170.244199   \n",
       "\n",
       "   value__fft_coefficient__coeff_8__attr_\"abs\"  value__number_crossing_m__m_0  \\\n",
       "0                                     0.000309                           26.0   \n",
       "1                                     0.000323                           27.0   \n",
       "\n",
       "   value__c3__lag_2  value__fft_aggregated__aggtype_\"variance\"  returns_25  \\\n",
       "0     -1.148034e-15                                 205.975487    0.001553   \n",
       "1     -1.255613e-15                                 210.047304    0.001742   \n",
       "\n",
       "   returns_16  returns_26                    datetime  target  \n",
       "0    0.000470    0.001506  2019-07-21 05:11:34.542501       2  \n",
       "1    0.000329    0.001506  2019-07-21 05:11:47.914567       2  \n",
       "\n",
       "[2 rows x 125 columns]"
      ]
     },
     "execution_count": 6,
     "metadata": {},
     "output_type": "execute_result"
    }
   ],
   "source": [
    "data.head(2)"
   ]
  },
  {
   "cell_type": "code",
   "execution_count": 7,
   "metadata": {},
   "outputs": [],
   "source": [
    "data_0_vs_other = deepcopy(data)\n",
    "data_0_vs_other['target'].replace([0, 2], -1, inplace=True)\n",
    "data = deepcopy(data_0_vs_other)"
   ]
  },
  {
   "cell_type": "markdown",
   "metadata": {},
   "source": [
    "## Split data to train and test sets"
   ]
  },
  {
   "cell_type": "code",
   "execution_count": 8,
   "metadata": {},
   "outputs": [],
   "source": [
    "data_train = data[data['datetime'] < '2019-09-25']\n",
    "data_test = data[data['datetime'] >= '2019-09-25']"
   ]
  },
  {
   "cell_type": "markdown",
   "metadata": {},
   "source": [
    "## Preparing train and test dataframes"
   ]
  },
  {
   "cell_type": "code",
   "execution_count": 9,
   "metadata": {},
   "outputs": [],
   "source": [
    "data_train['target'] = data_train['target'].replace({-1:0})\n",
    "data_test['target'] = data_test['target'].replace({-1:0})"
   ]
  },
  {
   "cell_type": "code",
   "execution_count": 10,
   "metadata": {},
   "outputs": [
    {
     "data": {
      "text/html": [
       "<div>\n",
       "<style scoped>\n",
       "    .dataframe tbody tr th:only-of-type {\n",
       "        vertical-align: middle;\n",
       "    }\n",
       "\n",
       "    .dataframe tbody tr th {\n",
       "        vertical-align: top;\n",
       "    }\n",
       "\n",
       "    .dataframe thead th {\n",
       "        text-align: right;\n",
       "    }\n",
       "</style>\n",
       "<table border=\"1\" class=\"dataframe\">\n",
       "  <thead>\n",
       "    <tr style=\"text-align: right;\">\n",
       "      <th></th>\n",
       "      <th>volatility_atr</th>\n",
       "      <th>volume_adi</th>\n",
       "      <th>momentum_tsi</th>\n",
       "      <th>momentum_rsi</th>\n",
       "      <th>momentum_stoch</th>\n",
       "      <th>momentum_wr</th>\n",
       "      <th>returns_lag_1</th>\n",
       "      <th>minute</th>\n",
       "      <th>value__fft_coefficient__coeff_0__attr_\"abs\"</th>\n",
       "      <th>close_returns_log</th>\n",
       "      <th>...</th>\n",
       "      <th>value__fft_coefficient__coeff_2__attr_\"angle\"</th>\n",
       "      <th>value__fft_coefficient__coeff_8__attr_\"abs\"</th>\n",
       "      <th>value__number_crossing_m__m_0</th>\n",
       "      <th>value__c3__lag_2</th>\n",
       "      <th>value__fft_aggregated__aggtype_\"variance\"</th>\n",
       "      <th>returns_25</th>\n",
       "      <th>returns_16</th>\n",
       "      <th>returns_26</th>\n",
       "      <th>datetime</th>\n",
       "      <th>target</th>\n",
       "    </tr>\n",
       "  </thead>\n",
       "  <tbody>\n",
       "    <tr>\n",
       "      <th>0</th>\n",
       "      <td>2.232631</td>\n",
       "      <td>-62.084025</td>\n",
       "      <td>1.334591</td>\n",
       "      <td>76.659155</td>\n",
       "      <td>96.774194</td>\n",
       "      <td>-3.225806</td>\n",
       "      <td>0.000282</td>\n",
       "      <td>11</td>\n",
       "      <td>0.000283</td>\n",
       "      <td>0.000000</td>\n",
       "      <td>...</td>\n",
       "      <td>162.231277</td>\n",
       "      <td>0.000309</td>\n",
       "      <td>26.0</td>\n",
       "      <td>-1.148034e-15</td>\n",
       "      <td>205.975487</td>\n",
       "      <td>0.001553</td>\n",
       "      <td>0.000470</td>\n",
       "      <td>0.001506</td>\n",
       "      <td>2019-07-21 05:11:34.542501</td>\n",
       "      <td>0</td>\n",
       "    </tr>\n",
       "    <tr>\n",
       "      <th>1</th>\n",
       "      <td>2.108871</td>\n",
       "      <td>-91.595042</td>\n",
       "      <td>2.166042</td>\n",
       "      <td>73.108003</td>\n",
       "      <td>93.548387</td>\n",
       "      <td>-6.451613</td>\n",
       "      <td>0.000000</td>\n",
       "      <td>11</td>\n",
       "      <td>0.000309</td>\n",
       "      <td>-0.000005</td>\n",
       "      <td>...</td>\n",
       "      <td>170.244199</td>\n",
       "      <td>0.000323</td>\n",
       "      <td>27.0</td>\n",
       "      <td>-1.255613e-15</td>\n",
       "      <td>210.047304</td>\n",
       "      <td>0.001742</td>\n",
       "      <td>0.000329</td>\n",
       "      <td>0.001506</td>\n",
       "      <td>2019-07-21 05:11:47.914567</td>\n",
       "      <td>0</td>\n",
       "    </tr>\n",
       "    <tr>\n",
       "      <th>2</th>\n",
       "      <td>1.993952</td>\n",
       "      <td>7.445769</td>\n",
       "      <td>2.978572</td>\n",
       "      <td>74.472467</td>\n",
       "      <td>96.774194</td>\n",
       "      <td>-3.225806</td>\n",
       "      <td>-0.000047</td>\n",
       "      <td>13</td>\n",
       "      <td>0.000324</td>\n",
       "      <td>0.000005</td>\n",
       "      <td>...</td>\n",
       "      <td>177.708002</td>\n",
       "      <td>0.000337</td>\n",
       "      <td>26.0</td>\n",
       "      <td>-1.263754e-15</td>\n",
       "      <td>208.077874</td>\n",
       "      <td>0.001553</td>\n",
       "      <td>0.000376</td>\n",
       "      <td>0.001789</td>\n",
       "      <td>2019-07-21 05:13:10.418727</td>\n",
       "      <td>0</td>\n",
       "    </tr>\n",
       "  </tbody>\n",
       "</table>\n",
       "<p>3 rows × 125 columns</p>\n",
       "</div>"
      ],
      "text/plain": [
       "   volatility_atr  volume_adi  momentum_tsi  momentum_rsi  momentum_stoch  \\\n",
       "0        2.232631  -62.084025      1.334591     76.659155       96.774194   \n",
       "1        2.108871  -91.595042      2.166042     73.108003       93.548387   \n",
       "2        1.993952    7.445769      2.978572     74.472467       96.774194   \n",
       "\n",
       "   momentum_wr  returns_lag_1  minute  \\\n",
       "0    -3.225806       0.000282      11   \n",
       "1    -6.451613       0.000000      11   \n",
       "2    -3.225806      -0.000047      13   \n",
       "\n",
       "   value__fft_coefficient__coeff_0__attr_\"abs\"  close_returns_log  ...  \\\n",
       "0                                     0.000283           0.000000  ...   \n",
       "1                                     0.000309          -0.000005  ...   \n",
       "2                                     0.000324           0.000005  ...   \n",
       "\n",
       "   value__fft_coefficient__coeff_2__attr_\"angle\"  \\\n",
       "0                                     162.231277   \n",
       "1                                     170.244199   \n",
       "2                                     177.708002   \n",
       "\n",
       "   value__fft_coefficient__coeff_8__attr_\"abs\"  value__number_crossing_m__m_0  \\\n",
       "0                                     0.000309                           26.0   \n",
       "1                                     0.000323                           27.0   \n",
       "2                                     0.000337                           26.0   \n",
       "\n",
       "   value__c3__lag_2  value__fft_aggregated__aggtype_\"variance\"  returns_25  \\\n",
       "0     -1.148034e-15                                 205.975487    0.001553   \n",
       "1     -1.255613e-15                                 210.047304    0.001742   \n",
       "2     -1.263754e-15                                 208.077874    0.001553   \n",
       "\n",
       "   returns_16  returns_26                    datetime  target  \n",
       "0    0.000470    0.001506  2019-07-21 05:11:34.542501       0  \n",
       "1    0.000329    0.001506  2019-07-21 05:11:47.914567       0  \n",
       "2    0.000376    0.001789  2019-07-21 05:13:10.418727       0  \n",
       "\n",
       "[3 rows x 125 columns]"
      ]
     },
     "execution_count": 10,
     "metadata": {},
     "output_type": "execute_result"
    }
   ],
   "source": [
    "# Load in the train and test datasets\n",
    "train = deepcopy(data_train)\n",
    "test = deepcopy(data_test)\n",
    "\n",
    "train.head(3)"
   ]
  },
  {
   "cell_type": "code",
   "execution_count": 11,
   "metadata": {},
   "outputs": [],
   "source": [
    "# Feature selection\n",
    "drop_elements = ['datetime']\n",
    "train = train.drop(drop_elements, axis = 1)\n",
    "test  = test.drop(drop_elements, axis = 1)"
   ]
  },
  {
   "cell_type": "code",
   "execution_count": 12,
   "metadata": {
    "scrolled": true
   },
   "outputs": [
    {
     "data": {
      "text/html": [
       "<div>\n",
       "<style scoped>\n",
       "    .dataframe tbody tr th:only-of-type {\n",
       "        vertical-align: middle;\n",
       "    }\n",
       "\n",
       "    .dataframe tbody tr th {\n",
       "        vertical-align: top;\n",
       "    }\n",
       "\n",
       "    .dataframe thead th {\n",
       "        text-align: right;\n",
       "    }\n",
       "</style>\n",
       "<table border=\"1\" class=\"dataframe\">\n",
       "  <thead>\n",
       "    <tr style=\"text-align: right;\">\n",
       "      <th></th>\n",
       "      <th>volatility_atr</th>\n",
       "      <th>volume_adi</th>\n",
       "      <th>momentum_tsi</th>\n",
       "      <th>momentum_rsi</th>\n",
       "      <th>momentum_stoch</th>\n",
       "      <th>momentum_wr</th>\n",
       "      <th>returns_lag_1</th>\n",
       "      <th>minute</th>\n",
       "      <th>value__fft_coefficient__coeff_0__attr_\"abs\"</th>\n",
       "      <th>close_returns_log</th>\n",
       "      <th>...</th>\n",
       "      <th>value__approximate_entropy__m_2__r_0.9</th>\n",
       "      <th>value__fft_coefficient__coeff_2__attr_\"angle\"</th>\n",
       "      <th>value__fft_coefficient__coeff_8__attr_\"abs\"</th>\n",
       "      <th>value__number_crossing_m__m_0</th>\n",
       "      <th>value__c3__lag_2</th>\n",
       "      <th>value__fft_aggregated__aggtype_\"variance\"</th>\n",
       "      <th>returns_25</th>\n",
       "      <th>returns_16</th>\n",
       "      <th>returns_26</th>\n",
       "      <th>target</th>\n",
       "    </tr>\n",
       "  </thead>\n",
       "  <tbody>\n",
       "    <tr>\n",
       "      <th>0</th>\n",
       "      <td>2.232631</td>\n",
       "      <td>-62.084025</td>\n",
       "      <td>1.334591</td>\n",
       "      <td>76.659155</td>\n",
       "      <td>96.774194</td>\n",
       "      <td>-3.225806</td>\n",
       "      <td>0.000282</td>\n",
       "      <td>11</td>\n",
       "      <td>0.000283</td>\n",
       "      <td>0.000000</td>\n",
       "      <td>...</td>\n",
       "      <td>0.575476</td>\n",
       "      <td>162.231277</td>\n",
       "      <td>0.000309</td>\n",
       "      <td>26.0</td>\n",
       "      <td>-1.148034e-15</td>\n",
       "      <td>205.975487</td>\n",
       "      <td>0.001553</td>\n",
       "      <td>0.000470</td>\n",
       "      <td>0.001506</td>\n",
       "      <td>0</td>\n",
       "    </tr>\n",
       "    <tr>\n",
       "      <th>1</th>\n",
       "      <td>2.108871</td>\n",
       "      <td>-91.595042</td>\n",
       "      <td>2.166042</td>\n",
       "      <td>73.108003</td>\n",
       "      <td>93.548387</td>\n",
       "      <td>-6.451613</td>\n",
       "      <td>0.000000</td>\n",
       "      <td>11</td>\n",
       "      <td>0.000309</td>\n",
       "      <td>-0.000005</td>\n",
       "      <td>...</td>\n",
       "      <td>0.526774</td>\n",
       "      <td>170.244199</td>\n",
       "      <td>0.000323</td>\n",
       "      <td>27.0</td>\n",
       "      <td>-1.255613e-15</td>\n",
       "      <td>210.047304</td>\n",
       "      <td>0.001742</td>\n",
       "      <td>0.000329</td>\n",
       "      <td>0.001506</td>\n",
       "      <td>0</td>\n",
       "    </tr>\n",
       "    <tr>\n",
       "      <th>2</th>\n",
       "      <td>1.993952</td>\n",
       "      <td>7.445769</td>\n",
       "      <td>2.978572</td>\n",
       "      <td>74.472467</td>\n",
       "      <td>96.774194</td>\n",
       "      <td>-3.225806</td>\n",
       "      <td>-0.000047</td>\n",
       "      <td>13</td>\n",
       "      <td>0.000324</td>\n",
       "      <td>0.000005</td>\n",
       "      <td>...</td>\n",
       "      <td>0.536956</td>\n",
       "      <td>177.708002</td>\n",
       "      <td>0.000337</td>\n",
       "      <td>26.0</td>\n",
       "      <td>-1.263754e-15</td>\n",
       "      <td>208.077874</td>\n",
       "      <td>0.001553</td>\n",
       "      <td>0.000376</td>\n",
       "      <td>0.001789</td>\n",
       "      <td>0</td>\n",
       "    </tr>\n",
       "  </tbody>\n",
       "</table>\n",
       "<p>3 rows × 124 columns</p>\n",
       "</div>"
      ],
      "text/plain": [
       "   volatility_atr  volume_adi  momentum_tsi  momentum_rsi  momentum_stoch  \\\n",
       "0        2.232631  -62.084025      1.334591     76.659155       96.774194   \n",
       "1        2.108871  -91.595042      2.166042     73.108003       93.548387   \n",
       "2        1.993952    7.445769      2.978572     74.472467       96.774194   \n",
       "\n",
       "   momentum_wr  returns_lag_1  minute  \\\n",
       "0    -3.225806       0.000282      11   \n",
       "1    -6.451613       0.000000      11   \n",
       "2    -3.225806      -0.000047      13   \n",
       "\n",
       "   value__fft_coefficient__coeff_0__attr_\"abs\"  close_returns_log  ...  \\\n",
       "0                                     0.000283           0.000000  ...   \n",
       "1                                     0.000309          -0.000005  ...   \n",
       "2                                     0.000324           0.000005  ...   \n",
       "\n",
       "   value__approximate_entropy__m_2__r_0.9  \\\n",
       "0                                0.575476   \n",
       "1                                0.526774   \n",
       "2                                0.536956   \n",
       "\n",
       "   value__fft_coefficient__coeff_2__attr_\"angle\"  \\\n",
       "0                                     162.231277   \n",
       "1                                     170.244199   \n",
       "2                                     177.708002   \n",
       "\n",
       "   value__fft_coefficient__coeff_8__attr_\"abs\"  value__number_crossing_m__m_0  \\\n",
       "0                                     0.000309                           26.0   \n",
       "1                                     0.000323                           27.0   \n",
       "2                                     0.000337                           26.0   \n",
       "\n",
       "   value__c3__lag_2  value__fft_aggregated__aggtype_\"variance\"  returns_25  \\\n",
       "0     -1.148034e-15                                 205.975487    0.001553   \n",
       "1     -1.255613e-15                                 210.047304    0.001742   \n",
       "2     -1.263754e-15                                 208.077874    0.001553   \n",
       "\n",
       "   returns_16  returns_26  target  \n",
       "0    0.000470    0.001506       0  \n",
       "1    0.000329    0.001506       0  \n",
       "2    0.000376    0.001789       0  \n",
       "\n",
       "[3 rows x 124 columns]"
      ]
     },
     "execution_count": 12,
     "metadata": {},
     "output_type": "execute_result"
    }
   ],
   "source": [
    "train.head(3)"
   ]
  },
  {
   "cell_type": "code",
   "execution_count": 13,
   "metadata": {},
   "outputs": [
    {
     "data": {
      "text/html": [
       "<div>\n",
       "<style scoped>\n",
       "    .dataframe tbody tr th:only-of-type {\n",
       "        vertical-align: middle;\n",
       "    }\n",
       "\n",
       "    .dataframe tbody tr th {\n",
       "        vertical-align: top;\n",
       "    }\n",
       "\n",
       "    .dataframe thead th {\n",
       "        text-align: right;\n",
       "    }\n",
       "</style>\n",
       "<table border=\"1\" class=\"dataframe\">\n",
       "  <thead>\n",
       "    <tr style=\"text-align: right;\">\n",
       "      <th></th>\n",
       "      <th>volatility_atr</th>\n",
       "      <th>volume_adi</th>\n",
       "      <th>momentum_tsi</th>\n",
       "      <th>momentum_rsi</th>\n",
       "      <th>momentum_stoch</th>\n",
       "      <th>momentum_wr</th>\n",
       "      <th>returns_lag_1</th>\n",
       "      <th>minute</th>\n",
       "      <th>value__fft_coefficient__coeff_0__attr_\"abs\"</th>\n",
       "      <th>close_returns_log</th>\n",
       "      <th>...</th>\n",
       "      <th>value__approximate_entropy__m_2__r_0.9</th>\n",
       "      <th>value__fft_coefficient__coeff_2__attr_\"angle\"</th>\n",
       "      <th>value__fft_coefficient__coeff_8__attr_\"abs\"</th>\n",
       "      <th>value__number_crossing_m__m_0</th>\n",
       "      <th>value__c3__lag_2</th>\n",
       "      <th>value__fft_aggregated__aggtype_\"variance\"</th>\n",
       "      <th>returns_25</th>\n",
       "      <th>returns_16</th>\n",
       "      <th>returns_26</th>\n",
       "      <th>target</th>\n",
       "    </tr>\n",
       "  </thead>\n",
       "  <tbody>\n",
       "    <tr>\n",
       "      <th>491660</th>\n",
       "      <td>4.261584</td>\n",
       "      <td>-62.285910</td>\n",
       "      <td>-2.251456</td>\n",
       "      <td>33.332722</td>\n",
       "      <td>0.000000</td>\n",
       "      <td>-100.000000</td>\n",
       "      <td>-0.000878</td>\n",
       "      <td>0</td>\n",
       "      <td>0.000883</td>\n",
       "      <td>-0.000026</td>\n",
       "      <td>...</td>\n",
       "      <td>0.583833</td>\n",
       "      <td>-176.213965</td>\n",
       "      <td>0.000225</td>\n",
       "      <td>27.0</td>\n",
       "      <td>1.238201e-15</td>\n",
       "      <td>227.420443</td>\n",
       "      <td>-0.001229</td>\n",
       "      <td>-0.002921</td>\n",
       "      <td>-0.000761</td>\n",
       "      <td>1</td>\n",
       "    </tr>\n",
       "    <tr>\n",
       "      <th>491661</th>\n",
       "      <td>3.992899</td>\n",
       "      <td>30.979178</td>\n",
       "      <td>-2.871133</td>\n",
       "      <td>34.674241</td>\n",
       "      <td>1.851852</td>\n",
       "      <td>-98.148148</td>\n",
       "      <td>-0.000234</td>\n",
       "      <td>0</td>\n",
       "      <td>0.000934</td>\n",
       "      <td>0.000006</td>\n",
       "      <td>...</td>\n",
       "      <td>0.597626</td>\n",
       "      <td>-169.236370</td>\n",
       "      <td>0.000199</td>\n",
       "      <td>26.0</td>\n",
       "      <td>1.888228e-15</td>\n",
       "      <td>224.472662</td>\n",
       "      <td>-0.001521</td>\n",
       "      <td>-0.003038</td>\n",
       "      <td>-0.001170</td>\n",
       "      <td>1</td>\n",
       "    </tr>\n",
       "    <tr>\n",
       "      <th>491662</th>\n",
       "      <td>3.779121</td>\n",
       "      <td>129.087022</td>\n",
       "      <td>-3.380602</td>\n",
       "      <td>36.156583</td>\n",
       "      <td>3.703704</td>\n",
       "      <td>-96.296296</td>\n",
       "      <td>0.000059</td>\n",
       "      <td>0</td>\n",
       "      <td>0.000896</td>\n",
       "      <td>0.000006</td>\n",
       "      <td>...</td>\n",
       "      <td>0.623886</td>\n",
       "      <td>-161.544786</td>\n",
       "      <td>0.000231</td>\n",
       "      <td>27.0</td>\n",
       "      <td>2.169235e-15</td>\n",
       "      <td>222.317221</td>\n",
       "      <td>-0.001229</td>\n",
       "      <td>-0.002630</td>\n",
       "      <td>-0.001463</td>\n",
       "      <td>1</td>\n",
       "    </tr>\n",
       "  </tbody>\n",
       "</table>\n",
       "<p>3 rows × 124 columns</p>\n",
       "</div>"
      ],
      "text/plain": [
       "        volatility_atr  volume_adi  momentum_tsi  momentum_rsi  \\\n",
       "491660        4.261584  -62.285910     -2.251456     33.332722   \n",
       "491661        3.992899   30.979178     -2.871133     34.674241   \n",
       "491662        3.779121  129.087022     -3.380602     36.156583   \n",
       "\n",
       "        momentum_stoch  momentum_wr  returns_lag_1  minute  \\\n",
       "491660        0.000000  -100.000000      -0.000878       0   \n",
       "491661        1.851852   -98.148148      -0.000234       0   \n",
       "491662        3.703704   -96.296296       0.000059       0   \n",
       "\n",
       "        value__fft_coefficient__coeff_0__attr_\"abs\"  close_returns_log  ...  \\\n",
       "491660                                     0.000883          -0.000026  ...   \n",
       "491661                                     0.000934           0.000006  ...   \n",
       "491662                                     0.000896           0.000006  ...   \n",
       "\n",
       "        value__approximate_entropy__m_2__r_0.9  \\\n",
       "491660                                0.583833   \n",
       "491661                                0.597626   \n",
       "491662                                0.623886   \n",
       "\n",
       "        value__fft_coefficient__coeff_2__attr_\"angle\"  \\\n",
       "491660                                    -176.213965   \n",
       "491661                                    -169.236370   \n",
       "491662                                    -161.544786   \n",
       "\n",
       "        value__fft_coefficient__coeff_8__attr_\"abs\"  \\\n",
       "491660                                     0.000225   \n",
       "491661                                     0.000199   \n",
       "491662                                     0.000231   \n",
       "\n",
       "        value__number_crossing_m__m_0  value__c3__lag_2  \\\n",
       "491660                           27.0      1.238201e-15   \n",
       "491661                           26.0      1.888228e-15   \n",
       "491662                           27.0      2.169235e-15   \n",
       "\n",
       "        value__fft_aggregated__aggtype_\"variance\"  returns_25  returns_16  \\\n",
       "491660                                 227.420443   -0.001229   -0.002921   \n",
       "491661                                 224.472662   -0.001521   -0.003038   \n",
       "491662                                 222.317221   -0.001229   -0.002630   \n",
       "\n",
       "        returns_26  target  \n",
       "491660   -0.000761       1  \n",
       "491661   -0.001170       1  \n",
       "491662   -0.001463       1  \n",
       "\n",
       "[3 rows x 124 columns]"
      ]
     },
     "execution_count": 13,
     "metadata": {},
     "output_type": "execute_result"
    }
   ],
   "source": [
    "test.head(3)"
   ]
  },
  {
   "cell_type": "code",
   "execution_count": 14,
   "metadata": {},
   "outputs": [
    {
     "data": {
      "text/plain": [
       "<matplotlib.axes._subplots.AxesSubplot at 0x179c2bae630>"
      ]
     },
     "execution_count": 14,
     "metadata": {},
     "output_type": "execute_result"
    },
    {
     "data": {
      "image/png": "[encoded data removed]",
      "text/plain": [
       "<Figure size 504x432 with 2 Axes>"
      ]
     },
     "metadata": {
      "needs_background": "light"
     },
     "output_type": "display_data"
    }
   ],
   "source": [
    "colormap = plt.cm.RdBu\n",
    "plt.figure(figsize=(7,6))\n",
    "plt.title('Pearson Correlation of Features', y=1.05, size=15)\n",
    "sns.heatmap(train[['volatility_atr', 'volume_adi']].astype(float).corr(),linewidths=0.1,vmax=1.0, \n",
    "            square=True, cmap=colormap, linecolor='white', annot=True)"
   ]
  },
  {
   "cell_type": "code",
   "execution_count": 15,
   "metadata": {},
   "outputs": [],
   "source": [
    "# g = sns.pairplot(train[[u'Survived', u'Pclass', u'Sex', u'Age', u'Parch', u'Fare', u'Embarked', u'FamilySize', u'Title']], \n",
    "#                  vars=train[[u'Pclass', u'Sex', u'Age', u'Parch', u'Fare', u'Embarked', u'FamilySize', u'Title']], \n",
    "#                  hue='Survived', \n",
    "#                  palette = 'seismic',\n",
    "#                  size=1.2,diag_kind = 'kde',\n",
    "#                  diag_kws=dict(shade=True),\n",
    "#                  plot_kws=dict(s=10) ) \n",
    "# g.set(xticklabels=[])"
   ]
  },
  {
   "cell_type": "code",
   "execution_count": 16,
   "metadata": {},
   "outputs": [],
   "source": [
    "ntrain = train.shape[0]\n",
    "ntest = test.shape[0]\n",
    "SEED = 0 # for reproducibility\n",
    "NFOLDS = 5 # set folds for out-of-fold prediction\n",
    "kf = KFold(n_splits=NFOLDS, random_state=SEED)\n",
    "\n",
    "# Class to extend the Sklearn classifier\n",
    "class SklearnHelper(object):\n",
    "    def __init__(self, clf, seed=0, params=None):\n",
    "        params['random_state'] = seed\n",
    "        self.clf = clf(**params)\n",
    "\n",
    "    def train(self, x_train, y_train):\n",
    "        self.clf.fit(x_train, y_train)\n",
    "\n",
    "    def predict(self, x):\n",
    "        return self.clf.predict(x)\n",
    "    \n",
    "    def fit(self,x,y):\n",
    "        return self.clf.fit(x,y)\n",
    "    \n",
    "    def feature_importances(self,x,y):\n",
    "        print(self.clf.fit(x,y).feature_importances_)\n",
    "    \n",
    "# Class to extend XGboost classifer"
   ]
  },
  {
   "cell_type": "code",
   "execution_count": 17,
   "metadata": {},
   "outputs": [],
   "source": [
    "def get_oof(clf, x_train, y_train, x_test):\n",
    "    oof_train = np.zeros((ntrain,))\n",
    "    oof_test = np.zeros((ntest,))\n",
    "    oof_test_skf = np.empty((NFOLDS, ntest))\n",
    "    i = 0\n",
    "\n",
    "    for train_index, test_index in kf.split(x_train):\n",
    "        x_tr = x_train[train_index]\n",
    "        y_tr = y_train[train_index]\n",
    "        x_te = x_train[test_index]\n",
    "\n",
    "        clf.train(x_tr, y_tr)\n",
    "\n",
    "        oof_train[test_index] = clf.predict(x_te)\n",
    "        oof_test_skf[i, :] = clf.predict(x_test)\n",
    "        i +=1\n",
    "\n",
    "    oof_test[:] = oof_test_skf.mean(axis=0)\n",
    "    return oof_train.reshape(-1, 1), oof_test.reshape(-1, 1)"
   ]
  },
  {
   "cell_type": "code",
   "execution_count": 18,
   "metadata": {},
   "outputs": [],
   "source": [
    "# Put in our parameters for said classifiers\n",
    "# Random Forest parameters\n",
    "rf_params = {\n",
    "    'n_jobs': -1,\n",
    "    'n_estimators': 500,\n",
    "    'warm_start': True,\n",
    "    #'max_features': 0.2,\n",
    "    'max_depth': 6,\n",
    "    'min_samples_leaf': 2,\n",
    "    'max_features' : 'sqrt',\n",
    "    'verbose': 0\n",
    "}\n",
    "\n",
    "# Extra Trees Parameters\n",
    "et_params = {\n",
    "    'n_jobs': -1,\n",
    "    'n_estimators':500,\n",
    "    #'max_features': 0.5,\n",
    "    'max_depth': 8,\n",
    "    'min_samples_leaf': 2,\n",
    "    'verbose': 0\n",
    "}\n",
    "\n",
    "# AdaBoost parameters\n",
    "ada_params = {\n",
    "    'n_estimators': 500,\n",
    "    'learning_rate' : 0.75\n",
    "}\n",
    "\n",
    "# Gradient Boosting parameters\n",
    "gb_params = {\n",
    "    'n_estimators': 500,\n",
    "    #'max_features': 0.2,\n",
    "    'max_depth': 5,\n",
    "    'min_samples_leaf': 2,\n",
    "    'verbose': 0\n",
    "}\n",
    "\n",
    "# Support Vector Classifier parameters \n",
    "svc_params = {\n",
    "    'kernel' : 'linear',\n",
    "    'C' : 0.025\n",
    "}"
   ]
  },
  {
   "cell_type": "code",
   "execution_count": 19,
   "metadata": {},
   "outputs": [],
   "source": [
    "# Create 5 objects that represent our 4 models\n",
    "rf = SklearnHelper(clf=RandomForestClassifier, seed=SEED, params=rf_params)\n",
    "et = SklearnHelper(clf=ExtraTreesClassifier, seed=SEED, params=et_params)\n",
    "ada = SklearnHelper(clf=AdaBoostClassifier, seed=SEED, params=ada_params)\n",
    "gb = SklearnHelper(clf=GradientBoostingClassifier, seed=SEED, params=gb_params)\n",
    "svc = SklearnHelper(clf=SVC, seed=SEED, params=svc_params)"
   ]
  },
  {
   "cell_type": "code",
   "execution_count": 20,
   "metadata": {},
   "outputs": [
    {
     "data": {
      "text/html": [
       "<div>\n",
       "<style scoped>\n",
       "    .dataframe tbody tr th:only-of-type {\n",
       "        vertical-align: middle;\n",
       "    }\n",
       "\n",
       "    .dataframe tbody tr th {\n",
       "        vertical-align: top;\n",
       "    }\n",
       "\n",
       "    .dataframe thead th {\n",
       "        text-align: right;\n",
       "    }\n",
       "</style>\n",
       "<table border=\"1\" class=\"dataframe\">\n",
       "  <thead>\n",
       "    <tr style=\"text-align: right;\">\n",
       "      <th></th>\n",
       "      <th>volatility_atr</th>\n",
       "      <th>volume_adi</th>\n",
       "      <th>momentum_tsi</th>\n",
       "      <th>momentum_rsi</th>\n",
       "      <th>momentum_stoch</th>\n",
       "      <th>momentum_wr</th>\n",
       "      <th>returns_lag_1</th>\n",
       "      <th>minute</th>\n",
       "      <th>value__fft_coefficient__coeff_0__attr_\"abs\"</th>\n",
       "      <th>close_returns_log</th>\n",
       "      <th>...</th>\n",
       "      <th>value__approximate_entropy__m_2__r_0.9</th>\n",
       "      <th>value__fft_coefficient__coeff_2__attr_\"angle\"</th>\n",
       "      <th>value__fft_coefficient__coeff_8__attr_\"abs\"</th>\n",
       "      <th>value__number_crossing_m__m_0</th>\n",
       "      <th>value__c3__lag_2</th>\n",
       "      <th>value__fft_aggregated__aggtype_\"variance\"</th>\n",
       "      <th>returns_25</th>\n",
       "      <th>returns_16</th>\n",
       "      <th>returns_26</th>\n",
       "      <th>target</th>\n",
       "    </tr>\n",
       "  </thead>\n",
       "  <tbody>\n",
       "    <tr>\n",
       "      <th>0</th>\n",
       "      <td>2.232631</td>\n",
       "      <td>-62.084025</td>\n",
       "      <td>1.334591</td>\n",
       "      <td>76.659155</td>\n",
       "      <td>96.774194</td>\n",
       "      <td>-3.225806</td>\n",
       "      <td>0.000282</td>\n",
       "      <td>11</td>\n",
       "      <td>0.000283</td>\n",
       "      <td>0.000000</td>\n",
       "      <td>...</td>\n",
       "      <td>0.575476</td>\n",
       "      <td>162.231277</td>\n",
       "      <td>0.000309</td>\n",
       "      <td>26.0</td>\n",
       "      <td>-1.148034e-15</td>\n",
       "      <td>205.975487</td>\n",
       "      <td>0.001553</td>\n",
       "      <td>0.000470</td>\n",
       "      <td>0.001506</td>\n",
       "      <td>0</td>\n",
       "    </tr>\n",
       "    <tr>\n",
       "      <th>1</th>\n",
       "      <td>2.108871</td>\n",
       "      <td>-91.595042</td>\n",
       "      <td>2.166042</td>\n",
       "      <td>73.108003</td>\n",
       "      <td>93.548387</td>\n",
       "      <td>-6.451613</td>\n",
       "      <td>0.000000</td>\n",
       "      <td>11</td>\n",
       "      <td>0.000309</td>\n",
       "      <td>-0.000005</td>\n",
       "      <td>...</td>\n",
       "      <td>0.526774</td>\n",
       "      <td>170.244199</td>\n",
       "      <td>0.000323</td>\n",
       "      <td>27.0</td>\n",
       "      <td>-1.255613e-15</td>\n",
       "      <td>210.047304</td>\n",
       "      <td>0.001742</td>\n",
       "      <td>0.000329</td>\n",
       "      <td>0.001506</td>\n",
       "      <td>0</td>\n",
       "    </tr>\n",
       "  </tbody>\n",
       "</table>\n",
       "<p>2 rows × 124 columns</p>\n",
       "</div>"
      ],
      "text/plain": [
       "   volatility_atr  volume_adi  momentum_tsi  momentum_rsi  momentum_stoch  \\\n",
       "0        2.232631  -62.084025      1.334591     76.659155       96.774194   \n",
       "1        2.108871  -91.595042      2.166042     73.108003       93.548387   \n",
       "\n",
       "   momentum_wr  returns_lag_1  minute  \\\n",
       "0    -3.225806       0.000282      11   \n",
       "1    -6.451613       0.000000      11   \n",
       "\n",
       "   value__fft_coefficient__coeff_0__attr_\"abs\"  close_returns_log  ...  \\\n",
       "0                                     0.000283           0.000000  ...   \n",
       "1                                     0.000309          -0.000005  ...   \n",
       "\n",
       "   value__approximate_entropy__m_2__r_0.9  \\\n",
       "0                                0.575476   \n",
       "1                                0.526774   \n",
       "\n",
       "   value__fft_coefficient__coeff_2__attr_\"angle\"  \\\n",
       "0                                     162.231277   \n",
       "1                                     170.244199   \n",
       "\n",
       "   value__fft_coefficient__coeff_8__attr_\"abs\"  value__number_crossing_m__m_0  \\\n",
       "0                                     0.000309                           26.0   \n",
       "1                                     0.000323                           27.0   \n",
       "\n",
       "   value__c3__lag_2  value__fft_aggregated__aggtype_\"variance\"  returns_25  \\\n",
       "0     -1.148034e-15                                 205.975487    0.001553   \n",
       "1     -1.255613e-15                                 210.047304    0.001742   \n",
       "\n",
       "   returns_16  returns_26  target  \n",
       "0    0.000470    0.001506       0  \n",
       "1    0.000329    0.001506       0  \n",
       "\n",
       "[2 rows x 124 columns]"
      ]
     },
     "execution_count": 20,
     "metadata": {},
     "output_type": "execute_result"
    }
   ],
   "source": [
    "train.head(2)"
   ]
  },
  {
   "cell_type": "code",
   "execution_count": 21,
   "metadata": {},
   "outputs": [],
   "source": [
    "# Create Numpy arrays of train, test and target (Survived) dataframes to feed into our models\n",
    "y_train = train['target'].ravel()\n",
    "train = train.drop(['target'], axis=1)\n",
    "test = test.drop(['target'], axis=1)\n",
    "x_train = train.values # Creates an array of the train data\n",
    "x_test = test.values # Creats an array of the test data"
   ]
  },
  {
   "cell_type": "code",
   "execution_count": 22,
   "metadata": {},
   "outputs": [
    {
     "data": {
      "text/plain": [
       "(331762, 123)"
      ]
     },
     "execution_count": 22,
     "metadata": {},
     "output_type": "execute_result"
    }
   ],
   "source": [
    "test.shape"
   ]
  },
  {
   "cell_type": "code",
   "execution_count": 23,
   "metadata": {},
   "outputs": [
    {
     "data": {
      "text/plain": [
       "(491660, 123)"
      ]
     },
     "execution_count": 23,
     "metadata": {},
     "output_type": "execute_result"
    }
   ],
   "source": [
    "train.shape"
   ]
  },
  {
   "cell_type": "code",
   "execution_count": null,
   "metadata": {},
   "outputs": [],
   "source": [
    "# Create our OOF train and test predictions. These base results will be used as new features\n",
    "et_oof_train, et_oof_test = get_oof(et, x_train, y_train, x_test) # Extra Trees\n",
    "rf_oof_train, rf_oof_test = get_oof(rf, x_train, y_train, x_test) # Random Forest\n",
    "ada_oof_train, ada_oof_test = get_oof(ada, x_train, y_train, x_test) # AdaBoost \n",
    "gb_oof_train, gb_oof_test = get_oof(gb, x_train, y_train, x_test) # Gradient Boost\n",
    "svc_oof_train, svc_oof_test = get_oof(svc, x_train, y_train, x_test) # Support Vector Classifier\n",
    "\n",
    "print(\"Training is complete\")"
   ]
  },
  {
   "cell_type": "code",
   "execution_count": 72,
   "metadata": {},
   "outputs": [
    {
     "name": "stdout",
     "output_type": "stream",
     "text": [
      "[0.12570167 0.19895385 0.02900149 0.02071902 0.07226992 0.02430529\n",
      " 0.10911881 0.06502244 0.06684378 0.0134174  0.27464634]\n",
      "[0.11860794 0.38170499 0.02572375 0.01709375 0.05640534 0.02778839\n",
      " 0.04809824 0.08479425 0.0446094  0.02125939 0.17391456]\n",
      "[0.03  0.012 0.02  0.064 0.04  0.01  0.682 0.014 0.052 0.004 0.072]\n",
      "[0.08343055 0.01501192 0.04583246 0.01451066 0.04773776 0.02331283\n",
      " 0.17555048 0.03648205 0.11697815 0.00548942 0.43566372]\n"
     ]
    }
   ],
   "source": [
    "rf_feature = rf.feature_importances(x_train,y_train)\n",
    "et_feature = et.feature_importances(x_train, y_train)\n",
    "ada_feature = ada.feature_importances(x_train, y_train)\n",
    "gb_feature = gb.feature_importances(x_train,y_train)"
   ]
  },
  {
   "cell_type": "code",
   "execution_count": 76,
   "metadata": {},
   "outputs": [],
   "source": [
    "rf_features = [0.10474135, \n",
    "               0.21837029,\n",
    "               0.04432652,\n",
    "               0.02249159,\n",
    "               0.05432591,\n",
    "               0.02854371,\n",
    "               0.07570305,\n",
    "               0.01088129,\n",
    "               0.24247496,\n",
    "               0.13685733,\n",
    "               0.06128402]\n",
    "\n",
    "et_features = [0.12165657,\n",
    "               0.37098307 ,\n",
    "               0.03129623 ,\n",
    "               0.01591611 ,\n",
    "               0.05525811 ,\n",
    "               0.028157,\n",
    "               0.04589793,\n",
    "               0.02030357,\n",
    "               0.17289562,\n",
    "               0.04853517,\n",
    "               0.08910063]\n",
    "\n",
    "ada_features = [0.028,\n",
    "                0.008,\n",
    "                0.012,\n",
    "                0.05866667,\n",
    "                0.032,\n",
    "                0.008,\n",
    "                0.04666667,\n",
    "                0.,\n",
    "                0.05733333,\n",
    "                0.73866667,\n",
    "                0.01066667]\n",
    "\n",
    "gb_features = [0.06796144,\n",
    "               0.03889349,\n",
    "               0.07237845,\n",
    "               0.02628645,\n",
    "               0.11194395,\n",
    "               0.04778854,\n",
    "               0.05965792,\n",
    "               0.02774745,\n",
    "               0.07462718,\n",
    "               0.4593142,\n",
    "               0.01340093]"
   ]
  },
  {
   "cell_type": "code",
   "execution_count": 77,
   "metadata": {},
   "outputs": [],
   "source": [
    "cols = train.columns.values\n",
    "# Create a dataframe with features\n",
    "feature_dataframe = pd.DataFrame({'features': cols,\n",
    "     'Random Forest feature importances': rf_features,\n",
    "     'Extra Trees  feature importances': et_features,\n",
    "     'AdaBoost feature importances': ada_features,\n",
    "     'Gradient Boost feature importances': gb_features\n",
    "    })"
   ]
  },
  {
   "cell_type": "code",
   "execution_count": 78,
   "metadata": {},
   "outputs": [
    {
     "data": {
      "application/vnd.plotly.v1+json": {
       "config": {
        "linkText": "Export to plot.ly",
        "plotlyServerURL": "https://plot.ly",
        "showLink": false
       },
       "data": [
        {
         "marker": {
          "color": [
           0.10474135,
           0.21837029,
           0.04432652,
           0.02249159,
           0.05432591,
           0.02854371,
           0.07570305,
           0.01088129,
           0.24247496,
           0.13685733,
           0.06128402
          ],
          "colorscale": "Portland",
          "showscale": true,
          "size": 25,
          "sizemode": "diameter",
          "sizeref": 1
         },
         "mode": "markers",
         "text": [
          "Pclass",
          "Sex",
          "Age",
          "Parch",
          "Fare",
          "Embarked",
          "Name_length",
          "Has_Cabin",
          "FamilySize",
          "IsAlone",
          "Title"
         ],
         "type": "scatter",
         "uid": "64f4f82b-cb2b-44fd-9d4e-3c8e36d4f811",
         "x": [
          "Pclass",
          "Sex",
          "Age",
          "Parch",
          "Fare",
          "Embarked",
          "Name_length",
          "Has_Cabin",
          "FamilySize",
          "IsAlone",
          "Title"
         ],
         "y": [
          0.10474135,
          0.21837029,
          0.04432652,
          0.02249159,
          0.05432591,
          0.02854371,
          0.07570305,
          0.01088129,
          0.24247496,
          0.13685733,
          0.06128402
         ]
        }
       ],
       "layout": {
        "autosize": true,
        "hovermode": "closest",
        "showlegend": false,
        "title": {
         "text": "Random Forest Feature Importance"
        },
        "yaxis": {
         "gridwidth": 2,
         "ticklen": 5,
         "title": {
          "text": "Feature Importance"
         }
        }
       }
      },
      "text/html": [
       "<div id=\"622ea253-1f95-4270-9240-55ec412e57b0\" style=\"height: 525px; width: 100%;\" class=\"plotly-graph-div\"></div><script type=\"text/javascript\">require([\"plotly\"], function(Plotly) { window.PLOTLYENV=window.PLOTLYENV || {};window.PLOTLYENV.BASE_URL=\"https://plot.ly\";\n",
       "if (document.getElementById(\"622ea253-1f95-4270-9240-55ec412e57b0\")) {\n",
       "    Plotly.newPlot(\"622ea253-1f95-4270-9240-55ec412e57b0\", [{\"marker\": {\"color\": [0.10474135, 0.21837029, 0.04432652, 0.02249159, 0.05432591, 0.02854371, 0.07570305, 0.01088129, 0.24247496, 0.13685733, 0.06128402], \"colorscale\": \"Portland\", \"showscale\": true, \"size\": 25, \"sizemode\": \"diameter\", \"sizeref\": 1}, \"mode\": \"markers\", \"text\": [\"Pclass\", \"Sex\", \"Age\", \"Parch\", \"Fare\", \"Embarked\", \"Name_length\", \"Has_Cabin\", \"FamilySize\", \"IsAlone\", \"Title\"], \"x\": [\"Pclass\", \"Sex\", \"Age\", \"Parch\", \"Fare\", \"Embarked\", \"Name_length\", \"Has_Cabin\", \"FamilySize\", \"IsAlone\", \"Title\"], \"y\": [0.10474135, 0.21837029, 0.04432652, 0.02249159, 0.05432591, 0.02854371, 0.07570305, 0.01088129, 0.24247496, 0.13685733, 0.06128402], \"type\": \"scatter\", \"uid\": \"64f4f82b-cb2b-44fd-9d4e-3c8e36d4f811\"}], {\"autosize\": true, \"hovermode\": \"closest\", \"showlegend\": false, \"title\": {\"text\": \"Random Forest Feature Importance\"}, \"yaxis\": {\"gridwidth\": 2, \"ticklen\": 5, \"title\": {\"text\": \"Feature Importance\"}}}, {\"showLink\": false, \"linkText\": \"Export to plot.ly\", \"plotlyServerURL\": \"https://plot.ly\"}); \n",
       "}\n",
       "});</script><script type=\"text/javascript\">window.addEventListener(\"resize\", function(){if (document.getElementById(\"622ea253-1f95-4270-9240-55ec412e57b0\")) {window._Plotly.Plots.resize(document.getElementById(\"622ea253-1f95-4270-9240-55ec412e57b0\"));};})</script>"
      ],
      "text/vnd.plotly.v1+html": [
       "<div id=\"622ea253-1f95-4270-9240-55ec412e57b0\" style=\"height: 525px; width: 100%;\" class=\"plotly-graph-div\"></div><script type=\"text/javascript\">require([\"plotly\"], function(Plotly) { window.PLOTLYENV=window.PLOTLYENV || {};window.PLOTLYENV.BASE_URL=\"https://plot.ly\";\n",
       "if (document.getElementById(\"622ea253-1f95-4270-9240-55ec412e57b0\")) {\n",
       "    Plotly.newPlot(\"622ea253-1f95-4270-9240-55ec412e57b0\", [{\"marker\": {\"color\": [0.10474135, 0.21837029, 0.04432652, 0.02249159, 0.05432591, 0.02854371, 0.07570305, 0.01088129, 0.24247496, 0.13685733, 0.06128402], \"colorscale\": \"Portland\", \"showscale\": true, \"size\": 25, \"sizemode\": \"diameter\", \"sizeref\": 1}, \"mode\": \"markers\", \"text\": [\"Pclass\", \"Sex\", \"Age\", \"Parch\", \"Fare\", \"Embarked\", \"Name_length\", \"Has_Cabin\", \"FamilySize\", \"IsAlone\", \"Title\"], \"x\": [\"Pclass\", \"Sex\", \"Age\", \"Parch\", \"Fare\", \"Embarked\", \"Name_length\", \"Has_Cabin\", \"FamilySize\", \"IsAlone\", \"Title\"], \"y\": [0.10474135, 0.21837029, 0.04432652, 0.02249159, 0.05432591, 0.02854371, 0.07570305, 0.01088129, 0.24247496, 0.13685733, 0.06128402], \"type\": \"scatter\", \"uid\": \"64f4f82b-cb2b-44fd-9d4e-3c8e36d4f811\"}], {\"autosize\": true, \"hovermode\": \"closest\", \"showlegend\": false, \"title\": {\"text\": \"Random Forest Feature Importance\"}, \"yaxis\": {\"gridwidth\": 2, \"ticklen\": 5, \"title\": {\"text\": \"Feature Importance\"}}}, {\"showLink\": false, \"linkText\": \"Export to plot.ly\", \"plotlyServerURL\": \"https://plot.ly\"}); \n",
       "}\n",
       "});</script><script type=\"text/javascript\">window.addEventListener(\"resize\", function(){if (document.getElementById(\"622ea253-1f95-4270-9240-55ec412e57b0\")) {window._Plotly.Plots.resize(document.getElementById(\"622ea253-1f95-4270-9240-55ec412e57b0\"));};})</script>"
      ]
     },
     "metadata": {},
     "output_type": "display_data"
    },
    {
     "data": {
      "application/vnd.plotly.v1+json": {
       "config": {
        "linkText": "Export to plot.ly",
        "plotlyServerURL": "https://plot.ly",
        "showLink": false
       },
       "data": [
        {
         "marker": {
          "color": [
           0.12165657,
           0.37098307,
           0.03129623,
           0.01591611,
           0.05525811,
           0.028157,
           0.04589793,
           0.02030357,
           0.17289562,
           0.04853517,
           0.08910063
          ],
          "colorscale": "Portland",
          "showscale": true,
          "size": 25,
          "sizemode": "diameter",
          "sizeref": 1
         },
         "mode": "markers",
         "text": [
          "Pclass",
          "Sex",
          "Age",
          "Parch",
          "Fare",
          "Embarked",
          "Name_length",
          "Has_Cabin",
          "FamilySize",
          "IsAlone",
          "Title"
         ],
         "type": "scatter",
         "uid": "aadfe62c-31a9-43b8-9bf4-062c49e1fd27",
         "x": [
          "Pclass",
          "Sex",
          "Age",
          "Parch",
          "Fare",
          "Embarked",
          "Name_length",
          "Has_Cabin",
          "FamilySize",
          "IsAlone",
          "Title"
         ],
         "y": [
          0.12165657,
          0.37098307,
          0.03129623,
          0.01591611,
          0.05525811,
          0.028157,
          0.04589793,
          0.02030357,
          0.17289562,
          0.04853517,
          0.08910063
         ]
        }
       ],
       "layout": {
        "autosize": true,
        "hovermode": "closest",
        "showlegend": false,
        "title": {
         "text": "Extra Trees Feature Importance"
        },
        "yaxis": {
         "gridwidth": 2,
         "ticklen": 5,
         "title": {
          "text": "Feature Importance"
         }
        }
       }
      },
      "text/html": [
       "<div id=\"0c973877-ae0b-4927-9345-0dac92af1fd3\" style=\"height: 525px; width: 100%;\" class=\"plotly-graph-div\"></div><script type=\"text/javascript\">require([\"plotly\"], function(Plotly) { window.PLOTLYENV=window.PLOTLYENV || {};window.PLOTLYENV.BASE_URL=\"https://plot.ly\";\n",
       "if (document.getElementById(\"0c973877-ae0b-4927-9345-0dac92af1fd3\")) {\n",
       "    Plotly.newPlot(\"0c973877-ae0b-4927-9345-0dac92af1fd3\", [{\"marker\": {\"color\": [0.12165657, 0.37098307, 0.03129623, 0.01591611, 0.05525811, 0.028157, 0.04589793, 0.02030357, 0.17289562, 0.04853517, 0.08910063], \"colorscale\": \"Portland\", \"showscale\": true, \"size\": 25, \"sizemode\": \"diameter\", \"sizeref\": 1}, \"mode\": \"markers\", \"text\": [\"Pclass\", \"Sex\", \"Age\", \"Parch\", \"Fare\", \"Embarked\", \"Name_length\", \"Has_Cabin\", \"FamilySize\", \"IsAlone\", \"Title\"], \"x\": [\"Pclass\", \"Sex\", \"Age\", \"Parch\", \"Fare\", \"Embarked\", \"Name_length\", \"Has_Cabin\", \"FamilySize\", \"IsAlone\", \"Title\"], \"y\": [0.12165657, 0.37098307, 0.03129623, 0.01591611, 0.05525811, 0.028157, 0.04589793, 0.02030357, 0.17289562, 0.04853517, 0.08910063], \"type\": \"scatter\", \"uid\": \"aadfe62c-31a9-43b8-9bf4-062c49e1fd27\"}], {\"autosize\": true, \"hovermode\": \"closest\", \"showlegend\": false, \"title\": {\"text\": \"Extra Trees Feature Importance\"}, \"yaxis\": {\"gridwidth\": 2, \"ticklen\": 5, \"title\": {\"text\": \"Feature Importance\"}}}, {\"showLink\": false, \"linkText\": \"Export to plot.ly\", \"plotlyServerURL\": \"https://plot.ly\"}); \n",
       "}\n",
       "});</script><script type=\"text/javascript\">window.addEventListener(\"resize\", function(){if (document.getElementById(\"0c973877-ae0b-4927-9345-0dac92af1fd3\")) {window._Plotly.Plots.resize(document.getElementById(\"0c973877-ae0b-4927-9345-0dac92af1fd3\"));};})</script>"
      ],
      "text/vnd.plotly.v1+html": [
       "<div id=\"0c973877-ae0b-4927-9345-0dac92af1fd3\" style=\"height: 525px; width: 100%;\" class=\"plotly-graph-div\"></div><script type=\"text/javascript\">require([\"plotly\"], function(Plotly) { window.PLOTLYENV=window.PLOTLYENV || {};window.PLOTLYENV.BASE_URL=\"https://plot.ly\";\n",
       "if (document.getElementById(\"0c973877-ae0b-4927-9345-0dac92af1fd3\")) {\n",
       "    Plotly.newPlot(\"0c973877-ae0b-4927-9345-0dac92af1fd3\", [{\"marker\": {\"color\": [0.12165657, 0.37098307, 0.03129623, 0.01591611, 0.05525811, 0.028157, 0.04589793, 0.02030357, 0.17289562, 0.04853517, 0.08910063], \"colorscale\": \"Portland\", \"showscale\": true, \"size\": 25, \"sizemode\": \"diameter\", \"sizeref\": 1}, \"mode\": \"markers\", \"text\": [\"Pclass\", \"Sex\", \"Age\", \"Parch\", \"Fare\", \"Embarked\", \"Name_length\", \"Has_Cabin\", \"FamilySize\", \"IsAlone\", \"Title\"], \"x\": [\"Pclass\", \"Sex\", \"Age\", \"Parch\", \"Fare\", \"Embarked\", \"Name_length\", \"Has_Cabin\", \"FamilySize\", \"IsAlone\", \"Title\"], \"y\": [0.12165657, 0.37098307, 0.03129623, 0.01591611, 0.05525811, 0.028157, 0.04589793, 0.02030357, 0.17289562, 0.04853517, 0.08910063], \"type\": \"scatter\", \"uid\": \"aadfe62c-31a9-43b8-9bf4-062c49e1fd27\"}], {\"autosize\": true, \"hovermode\": \"closest\", \"showlegend\": false, \"title\": {\"text\": \"Extra Trees Feature Importance\"}, \"yaxis\": {\"gridwidth\": 2, \"ticklen\": 5, \"title\": {\"text\": \"Feature Importance\"}}}, {\"showLink\": false, \"linkText\": \"Export to plot.ly\", \"plotlyServerURL\": \"https://plot.ly\"}); \n",
       "}\n",
       "});</script><script type=\"text/javascript\">window.addEventListener(\"resize\", function(){if (document.getElementById(\"0c973877-ae0b-4927-9345-0dac92af1fd3\")) {window._Plotly.Plots.resize(document.getElementById(\"0c973877-ae0b-4927-9345-0dac92af1fd3\"));};})</script>"
      ]
     },
     "metadata": {},
     "output_type": "display_data"
    },
    {
     "data": {
      "application/vnd.plotly.v1+json": {
       "config": {
        "linkText": "Export to plot.ly",
        "plotlyServerURL": "https://plot.ly",
        "showLink": false
       },
       "data": [
        {
         "marker": {
          "color": [
           0.028,
           0.008,
           0.012,
           0.05866667,
           0.032,
           0.008,
           0.04666667,
           0,
           0.05733333,
           0.73866667,
           0.01066667
          ],
          "colorscale": "Portland",
          "showscale": true,
          "size": 25,
          "sizemode": "diameter",
          "sizeref": 1
         },
         "mode": "markers",
         "text": [
          "Pclass",
          "Sex",
          "Age",
          "Parch",
          "Fare",
          "Embarked",
          "Name_length",
          "Has_Cabin",
          "FamilySize",
          "IsAlone",
          "Title"
         ],
         "type": "scatter",
         "uid": "63887a22-c4c6-4f29-9077-8f51a896b33a",
         "x": [
          "Pclass",
          "Sex",
          "Age",
          "Parch",
          "Fare",
          "Embarked",
          "Name_length",
          "Has_Cabin",
          "FamilySize",
          "IsAlone",
          "Title"
         ],
         "y": [
          0.028,
          0.008,
          0.012,
          0.05866667,
          0.032,
          0.008,
          0.04666667,
          0,
          0.05733333,
          0.73866667,
          0.01066667
         ]
        }
       ],
       "layout": {
        "autosize": true,
        "hovermode": "closest",
        "showlegend": false,
        "title": {
         "text": "AdaBoost Feature Importance"
        },
        "yaxis": {
         "gridwidth": 2,
         "ticklen": 5,
         "title": {
          "text": "Feature Importance"
         }
        }
       }
      },
      "text/html": [
       "<div id=\"b8a97315-1d65-4726-968a-a22c88c0f818\" style=\"height: 525px; width: 100%;\" class=\"plotly-graph-div\"></div><script type=\"text/javascript\">require([\"plotly\"], function(Plotly) { window.PLOTLYENV=window.PLOTLYENV || {};window.PLOTLYENV.BASE_URL=\"https://plot.ly\";\n",
       "if (document.getElementById(\"b8a97315-1d65-4726-968a-a22c88c0f818\")) {\n",
       "    Plotly.newPlot(\"b8a97315-1d65-4726-968a-a22c88c0f818\", [{\"marker\": {\"color\": [0.028, 0.008, 0.012, 0.05866667, 0.032, 0.008, 0.04666667, 0.0, 0.05733333, 0.73866667, 0.01066667], \"colorscale\": \"Portland\", \"showscale\": true, \"size\": 25, \"sizemode\": \"diameter\", \"sizeref\": 1}, \"mode\": \"markers\", \"text\": [\"Pclass\", \"Sex\", \"Age\", \"Parch\", \"Fare\", \"Embarked\", \"Name_length\", \"Has_Cabin\", \"FamilySize\", \"IsAlone\", \"Title\"], \"x\": [\"Pclass\", \"Sex\", \"Age\", \"Parch\", \"Fare\", \"Embarked\", \"Name_length\", \"Has_Cabin\", \"FamilySize\", \"IsAlone\", \"Title\"], \"y\": [0.028, 0.008, 0.012, 0.05866667, 0.032, 0.008, 0.04666667, 0.0, 0.05733333, 0.73866667, 0.01066667], \"type\": \"scatter\", \"uid\": \"63887a22-c4c6-4f29-9077-8f51a896b33a\"}], {\"autosize\": true, \"hovermode\": \"closest\", \"showlegend\": false, \"title\": {\"text\": \"AdaBoost Feature Importance\"}, \"yaxis\": {\"gridwidth\": 2, \"ticklen\": 5, \"title\": {\"text\": \"Feature Importance\"}}}, {\"showLink\": false, \"linkText\": \"Export to plot.ly\", \"plotlyServerURL\": \"https://plot.ly\"}); \n",
       "}\n",
       "});</script><script type=\"text/javascript\">window.addEventListener(\"resize\", function(){if (document.getElementById(\"b8a97315-1d65-4726-968a-a22c88c0f818\")) {window._Plotly.Plots.resize(document.getElementById(\"b8a97315-1d65-4726-968a-a22c88c0f818\"));};})</script>"
      ],
      "text/vnd.plotly.v1+html": [
       "<div id=\"b8a97315-1d65-4726-968a-a22c88c0f818\" style=\"height: 525px; width: 100%;\" class=\"plotly-graph-div\"></div><script type=\"text/javascript\">require([\"plotly\"], function(Plotly) { window.PLOTLYENV=window.PLOTLYENV || {};window.PLOTLYENV.BASE_URL=\"https://plot.ly\";\n",
       "if (document.getElementById(\"b8a97315-1d65-4726-968a-a22c88c0f818\")) {\n",
       "    Plotly.newPlot(\"b8a97315-1d65-4726-968a-a22c88c0f818\", [{\"marker\": {\"color\": [0.028, 0.008, 0.012, 0.05866667, 0.032, 0.008, 0.04666667, 0.0, 0.05733333, 0.73866667, 0.01066667], \"colorscale\": \"Portland\", \"showscale\": true, \"size\": 25, \"sizemode\": \"diameter\", \"sizeref\": 1}, \"mode\": \"markers\", \"text\": [\"Pclass\", \"Sex\", \"Age\", \"Parch\", \"Fare\", \"Embarked\", \"Name_length\", \"Has_Cabin\", \"FamilySize\", \"IsAlone\", \"Title\"], \"x\": [\"Pclass\", \"Sex\", \"Age\", \"Parch\", \"Fare\", \"Embarked\", \"Name_length\", \"Has_Cabin\", \"FamilySize\", \"IsAlone\", \"Title\"], \"y\": [0.028, 0.008, 0.012, 0.05866667, 0.032, 0.008, 0.04666667, 0.0, 0.05733333, 0.73866667, 0.01066667], \"type\": \"scatter\", \"uid\": \"63887a22-c4c6-4f29-9077-8f51a896b33a\"}], {\"autosize\": true, \"hovermode\": \"closest\", \"showlegend\": false, \"title\": {\"text\": \"AdaBoost Feature Importance\"}, \"yaxis\": {\"gridwidth\": 2, \"ticklen\": 5, \"title\": {\"text\": \"Feature Importance\"}}}, {\"showLink\": false, \"linkText\": \"Export to plot.ly\", \"plotlyServerURL\": \"https://plot.ly\"}); \n",
       "}\n",
       "});</script><script type=\"text/javascript\">window.addEventListener(\"resize\", function(){if (document.getElementById(\"b8a97315-1d65-4726-968a-a22c88c0f818\")) {window._Plotly.Plots.resize(document.getElementById(\"b8a97315-1d65-4726-968a-a22c88c0f818\"));};})</script>"
      ]
     },
     "metadata": {},
     "output_type": "display_data"
    },
    {
     "data": {
      "application/vnd.plotly.v1+json": {
       "config": {
        "linkText": "Export to plot.ly",
        "plotlyServerURL": "https://plot.ly",
        "showLink": false
       },
       "data": [
        {
         "marker": {
          "color": [
           0.06796144,
           0.03889349,
           0.07237845,
           0.02628645,
           0.11194395,
           0.04778854,
           0.05965792,
           0.02774745,
           0.07462718,
           0.4593142,
           0.01340093
          ],
          "colorscale": "Portland",
          "showscale": true,
          "size": 25,
          "sizemode": "diameter",
          "sizeref": 1
         },
         "mode": "markers",
         "text": [
          "Pclass",
          "Sex",
          "Age",
          "Parch",
          "Fare",
          "Embarked",
          "Name_length",
          "Has_Cabin",
          "FamilySize",
          "IsAlone",
          "Title"
         ],
         "type": "scatter",
         "uid": "2137a415-f9b2-40d7-a43a-d44f598b4521",
         "x": [
          "Pclass",
          "Sex",
          "Age",
          "Parch",
          "Fare",
          "Embarked",
          "Name_length",
          "Has_Cabin",
          "FamilySize",
          "IsAlone",
          "Title"
         ],
         "y": [
          0.06796144,
          0.03889349,
          0.07237845,
          0.02628645,
          0.11194395,
          0.04778854,
          0.05965792,
          0.02774745,
          0.07462718,
          0.4593142,
          0.01340093
         ]
        }
       ],
       "layout": {
        "autosize": true,
        "hovermode": "closest",
        "showlegend": false,
        "title": {
         "text": "Gradient Boosting Feature Importance"
        },
        "yaxis": {
         "gridwidth": 2,
         "ticklen": 5,
         "title": {
          "text": "Feature Importance"
         }
        }
       }
      },
      "text/html": [
       "<div id=\"0375f4ec-53bd-41b4-b471-54cafd0cdd99\" style=\"height: 525px; width: 100%;\" class=\"plotly-graph-div\"></div><script type=\"text/javascript\">require([\"plotly\"], function(Plotly) { window.PLOTLYENV=window.PLOTLYENV || {};window.PLOTLYENV.BASE_URL=\"https://plot.ly\";\n",
       "if (document.getElementById(\"0375f4ec-53bd-41b4-b471-54cafd0cdd99\")) {\n",
       "    Plotly.newPlot(\"0375f4ec-53bd-41b4-b471-54cafd0cdd99\", [{\"marker\": {\"color\": [0.06796144, 0.03889349, 0.07237845, 0.02628645, 0.11194395, 0.04778854, 0.05965792, 0.02774745, 0.07462718, 0.4593142, 0.01340093], \"colorscale\": \"Portland\", \"showscale\": true, \"size\": 25, \"sizemode\": \"diameter\", \"sizeref\": 1}, \"mode\": \"markers\", \"text\": [\"Pclass\", \"Sex\", \"Age\", \"Parch\", \"Fare\", \"Embarked\", \"Name_length\", \"Has_Cabin\", \"FamilySize\", \"IsAlone\", \"Title\"], \"x\": [\"Pclass\", \"Sex\", \"Age\", \"Parch\", \"Fare\", \"Embarked\", \"Name_length\", \"Has_Cabin\", \"FamilySize\", \"IsAlone\", \"Title\"], \"y\": [0.06796144, 0.03889349, 0.07237845, 0.02628645, 0.11194395, 0.04778854, 0.05965792, 0.02774745, 0.07462718, 0.4593142, 0.01340093], \"type\": \"scatter\", \"uid\": \"2137a415-f9b2-40d7-a43a-d44f598b4521\"}], {\"autosize\": true, \"hovermode\": \"closest\", \"showlegend\": false, \"title\": {\"text\": \"Gradient Boosting Feature Importance\"}, \"yaxis\": {\"gridwidth\": 2, \"ticklen\": 5, \"title\": {\"text\": \"Feature Importance\"}}}, {\"showLink\": false, \"linkText\": \"Export to plot.ly\", \"plotlyServerURL\": \"https://plot.ly\"}); \n",
       "}\n",
       "});</script><script type=\"text/javascript\">window.addEventListener(\"resize\", function(){if (document.getElementById(\"0375f4ec-53bd-41b4-b471-54cafd0cdd99\")) {window._Plotly.Plots.resize(document.getElementById(\"0375f4ec-53bd-41b4-b471-54cafd0cdd99\"));};})</script>"
      ],
      "text/vnd.plotly.v1+html": [
       "<div id=\"0375f4ec-53bd-41b4-b471-54cafd0cdd99\" style=\"height: 525px; width: 100%;\" class=\"plotly-graph-div\"></div><script type=\"text/javascript\">require([\"plotly\"], function(Plotly) { window.PLOTLYENV=window.PLOTLYENV || {};window.PLOTLYENV.BASE_URL=\"https://plot.ly\";\n",
       "if (document.getElementById(\"0375f4ec-53bd-41b4-b471-54cafd0cdd99\")) {\n",
       "    Plotly.newPlot(\"0375f4ec-53bd-41b4-b471-54cafd0cdd99\", [{\"marker\": {\"color\": [0.06796144, 0.03889349, 0.07237845, 0.02628645, 0.11194395, 0.04778854, 0.05965792, 0.02774745, 0.07462718, 0.4593142, 0.01340093], \"colorscale\": \"Portland\", \"showscale\": true, \"size\": 25, \"sizemode\": \"diameter\", \"sizeref\": 1}, \"mode\": \"markers\", \"text\": [\"Pclass\", \"Sex\", \"Age\", \"Parch\", \"Fare\", \"Embarked\", \"Name_length\", \"Has_Cabin\", \"FamilySize\", \"IsAlone\", \"Title\"], \"x\": [\"Pclass\", \"Sex\", \"Age\", \"Parch\", \"Fare\", \"Embarked\", \"Name_length\", \"Has_Cabin\", \"FamilySize\", \"IsAlone\", \"Title\"], \"y\": [0.06796144, 0.03889349, 0.07237845, 0.02628645, 0.11194395, 0.04778854, 0.05965792, 0.02774745, 0.07462718, 0.4593142, 0.01340093], \"type\": \"scatter\", \"uid\": \"2137a415-f9b2-40d7-a43a-d44f598b4521\"}], {\"autosize\": true, \"hovermode\": \"closest\", \"showlegend\": false, \"title\": {\"text\": \"Gradient Boosting Feature Importance\"}, \"yaxis\": {\"gridwidth\": 2, \"ticklen\": 5, \"title\": {\"text\": \"Feature Importance\"}}}, {\"showLink\": false, \"linkText\": \"Export to plot.ly\", \"plotlyServerURL\": \"https://plot.ly\"}); \n",
       "}\n",
       "});</script><script type=\"text/javascript\">window.addEventListener(\"resize\", function(){if (document.getElementById(\"0375f4ec-53bd-41b4-b471-54cafd0cdd99\")) {window._Plotly.Plots.resize(document.getElementById(\"0375f4ec-53bd-41b4-b471-54cafd0cdd99\"));};})</script>"
      ]
     },
     "metadata": {},
     "output_type": "display_data"
    }
   ],
   "source": [
    "# Scatter plot \n",
    "trace = go.Scatter(\n",
    "    y = feature_dataframe['Random Forest feature importances'].values,\n",
    "    x = feature_dataframe['features'].values,\n",
    "    mode='markers',\n",
    "    marker=dict(\n",
    "        sizemode = 'diameter',\n",
    "        sizeref = 1,\n",
    "        size = 25,\n",
    "#       size= feature_dataframe['AdaBoost feature importances'].values,\n",
    "        #color = np.random.randn(500), #set color equal to a variable\n",
    "        color = feature_dataframe['Random Forest feature importances'].values,\n",
    "        colorscale='Portland',\n",
    "        showscale=True\n",
    "    ),\n",
    "    text = feature_dataframe['features'].values\n",
    ")\n",
    "data = [trace]\n",
    "\n",
    "layout= go.Layout(\n",
    "    autosize= True,\n",
    "    title= 'Random Forest Feature Importance',\n",
    "    hovermode= 'closest',\n",
    "#     xaxis= dict(\n",
    "#         title= 'Pop',\n",
    "#         ticklen= 5,\n",
    "#         zeroline= False,\n",
    "#         gridwidth= 2,\n",
    "#     ),\n",
    "    yaxis=dict(\n",
    "        title= 'Feature Importance',\n",
    "        ticklen= 5,\n",
    "        gridwidth= 2\n",
    "    ),\n",
    "    showlegend= False\n",
    ")\n",
    "fig = go.Figure(data=data, layout=layout)\n",
    "py.iplot(fig,filename='scatter2010')\n",
    "\n",
    "# Scatter plot \n",
    "trace = go.Scatter(\n",
    "    y = feature_dataframe['Extra Trees  feature importances'].values,\n",
    "    x = feature_dataframe['features'].values,\n",
    "    mode='markers',\n",
    "    marker=dict(\n",
    "        sizemode = 'diameter',\n",
    "        sizeref = 1,\n",
    "        size = 25,\n",
    "#       size= feature_dataframe['AdaBoost feature importances'].values,\n",
    "        #color = np.random.randn(500), #set color equal to a variable\n",
    "        color = feature_dataframe['Extra Trees  feature importances'].values,\n",
    "        colorscale='Portland',\n",
    "        showscale=True\n",
    "    ),\n",
    "    text = feature_dataframe['features'].values\n",
    ")\n",
    "data = [trace]\n",
    "\n",
    "layout= go.Layout(\n",
    "    autosize= True,\n",
    "    title= 'Extra Trees Feature Importance',\n",
    "    hovermode= 'closest',\n",
    "#     xaxis= dict(\n",
    "#         title= 'Pop',\n",
    "#         ticklen= 5,\n",
    "#         zeroline= False,\n",
    "#         gridwidth= 2,\n",
    "#     ),\n",
    "    yaxis=dict(\n",
    "        title= 'Feature Importance',\n",
    "        ticklen= 5,\n",
    "        gridwidth= 2\n",
    "    ),\n",
    "    showlegend= False\n",
    ")\n",
    "fig = go.Figure(data=data, layout=layout)\n",
    "py.iplot(fig,filename='scatter2010')\n",
    "\n",
    "# Scatter plot \n",
    "trace = go.Scatter(\n",
    "    y = feature_dataframe['AdaBoost feature importances'].values,\n",
    "    x = feature_dataframe['features'].values,\n",
    "    mode='markers',\n",
    "    marker=dict(\n",
    "        sizemode = 'diameter',\n",
    "        sizeref = 1,\n",
    "        size = 25,\n",
    "#       size= feature_dataframe['AdaBoost feature importances'].values,\n",
    "        #color = np.random.randn(500), #set color equal to a variable\n",
    "        color = feature_dataframe['AdaBoost feature importances'].values,\n",
    "        colorscale='Portland',\n",
    "        showscale=True\n",
    "    ),\n",
    "    text = feature_dataframe['features'].values\n",
    ")\n",
    "data = [trace]\n",
    "\n",
    "layout= go.Layout(\n",
    "    autosize= True,\n",
    "    title= 'AdaBoost Feature Importance',\n",
    "    hovermode= 'closest',\n",
    "#     xaxis= dict(\n",
    "#         title= 'Pop',\n",
    "#         ticklen= 5,\n",
    "#         zeroline= False,\n",
    "#         gridwidth= 2,\n",
    "#     ),\n",
    "    yaxis=dict(\n",
    "        title= 'Feature Importance',\n",
    "        ticklen= 5,\n",
    "        gridwidth= 2\n",
    "    ),\n",
    "    showlegend= False\n",
    ")\n",
    "fig = go.Figure(data=data, layout=layout)\n",
    "py.iplot(fig,filename='scatter2010')\n",
    "\n",
    "# Scatter plot \n",
    "trace = go.Scatter(\n",
    "    y = feature_dataframe['Gradient Boost feature importances'].values,\n",
    "    x = feature_dataframe['features'].values,\n",
    "    mode='markers',\n",
    "    marker=dict(\n",
    "        sizemode = 'diameter',\n",
    "        sizeref = 1,\n",
    "        size = 25,\n",
    "#       size= feature_dataframe['AdaBoost feature importances'].values,\n",
    "        #color = np.random.randn(500), #set color equal to a variable\n",
    "        color = feature_dataframe['Gradient Boost feature importances'].values,\n",
    "        colorscale='Portland',\n",
    "        showscale=True\n",
    "    ),\n",
    "    text = feature_dataframe['features'].values\n",
    ")\n",
    "data = [trace]\n",
    "\n",
    "layout= go.Layout(\n",
    "    autosize= True,\n",
    "    title= 'Gradient Boosting Feature Importance',\n",
    "    hovermode= 'closest',\n",
    "#     xaxis= dict(\n",
    "#         title= 'Pop',\n",
    "#         ticklen= 5,\n",
    "#         zeroline= False,\n",
    "#         gridwidth= 2,\n",
    "#     ),\n",
    "    yaxis=dict(\n",
    "        title= 'Feature Importance',\n",
    "        ticklen= 5,\n",
    "        gridwidth= 2\n",
    "    ),\n",
    "    showlegend= False\n",
    ")\n",
    "fig = go.Figure(data=data, layout=layout)\n",
    "py.iplot(fig,filename='scatter2010')"
   ]
  },
  {
   "cell_type": "code",
   "execution_count": 79,
   "metadata": {},
   "outputs": [
    {
     "data": {
      "text/html": [
       "<div>\n",
       "<style scoped>\n",
       "    .dataframe tbody tr th:only-of-type {\n",
       "        vertical-align: middle;\n",
       "    }\n",
       "\n",
       "    .dataframe tbody tr th {\n",
       "        vertical-align: top;\n",
       "    }\n",
       "\n",
       "    .dataframe thead th {\n",
       "        text-align: right;\n",
       "    }\n",
       "</style>\n",
       "<table border=\"1\" class=\"dataframe\">\n",
       "  <thead>\n",
       "    <tr style=\"text-align: right;\">\n",
       "      <th></th>\n",
       "      <th>features</th>\n",
       "      <th>Random Forest feature importances</th>\n",
       "      <th>Extra Trees  feature importances</th>\n",
       "      <th>AdaBoost feature importances</th>\n",
       "      <th>Gradient Boost feature importances</th>\n",
       "      <th>mean</th>\n",
       "    </tr>\n",
       "  </thead>\n",
       "  <tbody>\n",
       "    <tr>\n",
       "      <th>0</th>\n",
       "      <td>Pclass</td>\n",
       "      <td>0.104741</td>\n",
       "      <td>0.121657</td>\n",
       "      <td>0.028</td>\n",
       "      <td>0.067961</td>\n",
       "      <td>0.080590</td>\n",
       "    </tr>\n",
       "    <tr>\n",
       "      <th>1</th>\n",
       "      <td>Sex</td>\n",
       "      <td>0.218370</td>\n",
       "      <td>0.370983</td>\n",
       "      <td>0.008</td>\n",
       "      <td>0.038893</td>\n",
       "      <td>0.159062</td>\n",
       "    </tr>\n",
       "    <tr>\n",
       "      <th>2</th>\n",
       "      <td>Age</td>\n",
       "      <td>0.044327</td>\n",
       "      <td>0.031296</td>\n",
       "      <td>0.012</td>\n",
       "      <td>0.072378</td>\n",
       "      <td>0.040000</td>\n",
       "    </tr>\n",
       "  </tbody>\n",
       "</table>\n",
       "</div>"
      ],
      "text/plain": [
       "  features  Random Forest feature importances  \\\n",
       "0   Pclass                           0.104741   \n",
       "1      Sex                           0.218370   \n",
       "2      Age                           0.044327   \n",
       "\n",
       "   Extra Trees  feature importances  AdaBoost feature importances  \\\n",
       "0                          0.121657                         0.028   \n",
       "1                          0.370983                         0.008   \n",
       "2                          0.031296                         0.012   \n",
       "\n",
       "   Gradient Boost feature importances      mean  \n",
       "0                            0.067961  0.080590  \n",
       "1                            0.038893  0.159062  \n",
       "2                            0.072378  0.040000  "
      ]
     },
     "execution_count": 79,
     "metadata": {},
     "output_type": "execute_result"
    }
   ],
   "source": [
    "# Create the new column containing the average of values\n",
    "feature_dataframe['mean'] = feature_dataframe.mean(axis= 1) # axis = 1 computes the mean row-wise\n",
    "feature_dataframe.head(3)"
   ]
  },
  {
   "cell_type": "code",
   "execution_count": 80,
   "metadata": {},
   "outputs": [
    {
     "data": {
      "application/vnd.plotly.v1+json": {
       "config": {
        "linkText": "Export to plot.ly",
        "plotlyServerURL": "https://plot.ly",
        "showLink": false
       },
       "data": [
        {
         "marker": {
          "color": [
           0.08058984,
           0.1590617125,
           0.0400003,
           0.030840205,
           0.0633819925,
           0.028122312499999996,
           0.0569813925,
           0.0147330775,
           0.1368327725,
           0.34584334250000004,
           0.0436130625
          ],
          "colorscale": "Portland",
          "reversescale": false,
          "showscale": true
         },
         "opacity": 0.6,
         "type": "bar",
         "uid": "9bc351e5-a8ac-48c5-a8b8-a547440aa0e1",
         "width": 0.5,
         "x": [
          "Pclass",
          "Sex",
          "Age",
          "Parch",
          "Fare",
          "Embarked",
          "Name_length",
          "Has_Cabin",
          "FamilySize",
          "IsAlone",
          "Title"
         ],
         "y": [
          0.08058984,
          0.1590617125,
          0.0400003,
          0.030840205,
          0.0633819925,
          0.028122312499999996,
          0.0569813925,
          0.0147330775,
          0.1368327725,
          0.34584334250000004,
          0.0436130625
         ]
        }
       ],
       "layout": {
        "autosize": true,
        "hovermode": "closest",
        "showlegend": false,
        "title": {
         "text": "Barplots of Mean Feature Importance"
        },
        "yaxis": {
         "gridwidth": 2,
         "ticklen": 5,
         "title": {
          "text": "Feature Importance"
         }
        }
       }
      },
      "text/html": [
       "<div id=\"46301217-c617-44e7-ab10-4110bdb90fa2\" style=\"height: 525px; width: 100%;\" class=\"plotly-graph-div\"></div><script type=\"text/javascript\">require([\"plotly\"], function(Plotly) { window.PLOTLYENV=window.PLOTLYENV || {};window.PLOTLYENV.BASE_URL=\"https://plot.ly\";\n",
       "if (document.getElementById(\"46301217-c617-44e7-ab10-4110bdb90fa2\")) {\n",
       "    Plotly.newPlot(\"46301217-c617-44e7-ab10-4110bdb90fa2\", [{\"marker\": {\"color\": [0.08058984, 0.1590617125, 0.0400003, 0.030840205, 0.0633819925, 0.028122312499999996, 0.0569813925, 0.0147330775, 0.1368327725, 0.34584334250000004, 0.0436130625], \"colorscale\": \"Portland\", \"reversescale\": false, \"showscale\": true}, \"opacity\": 0.6, \"width\": 0.5, \"x\": [\"Pclass\", \"Sex\", \"Age\", \"Parch\", \"Fare\", \"Embarked\", \"Name_length\", \"Has_Cabin\", \"FamilySize\", \"IsAlone\", \"Title\"], \"y\": [0.08058984, 0.1590617125, 0.0400003, 0.030840205, 0.0633819925, 0.028122312499999996, 0.0569813925, 0.0147330775, 0.1368327725, 0.34584334250000004, 0.0436130625], \"type\": \"bar\", \"uid\": \"9bc351e5-a8ac-48c5-a8b8-a547440aa0e1\"}], {\"autosize\": true, \"hovermode\": \"closest\", \"showlegend\": false, \"title\": {\"text\": \"Barplots of Mean Feature Importance\"}, \"yaxis\": {\"gridwidth\": 2, \"ticklen\": 5, \"title\": {\"text\": \"Feature Importance\"}}}, {\"showLink\": false, \"linkText\": \"Export to plot.ly\", \"plotlyServerURL\": \"https://plot.ly\"}); \n",
       "}\n",
       "});</script><script type=\"text/javascript\">window.addEventListener(\"resize\", function(){if (document.getElementById(\"46301217-c617-44e7-ab10-4110bdb90fa2\")) {window._Plotly.Plots.resize(document.getElementById(\"46301217-c617-44e7-ab10-4110bdb90fa2\"));};})</script>"
      ],
      "text/vnd.plotly.v1+html": [
       "<div id=\"46301217-c617-44e7-ab10-4110bdb90fa2\" style=\"height: 525px; width: 100%;\" class=\"plotly-graph-div\"></div><script type=\"text/javascript\">require([\"plotly\"], function(Plotly) { window.PLOTLYENV=window.PLOTLYENV || {};window.PLOTLYENV.BASE_URL=\"https://plot.ly\";\n",
       "if (document.getElementById(\"46301217-c617-44e7-ab10-4110bdb90fa2\")) {\n",
       "    Plotly.newPlot(\"46301217-c617-44e7-ab10-4110bdb90fa2\", [{\"marker\": {\"color\": [0.08058984, 0.1590617125, 0.0400003, 0.030840205, 0.0633819925, 0.028122312499999996, 0.0569813925, 0.0147330775, 0.1368327725, 0.34584334250000004, 0.0436130625], \"colorscale\": \"Portland\", \"reversescale\": false, \"showscale\": true}, \"opacity\": 0.6, \"width\": 0.5, \"x\": [\"Pclass\", \"Sex\", \"Age\", \"Parch\", \"Fare\", \"Embarked\", \"Name_length\", \"Has_Cabin\", \"FamilySize\", \"IsAlone\", \"Title\"], \"y\": [0.08058984, 0.1590617125, 0.0400003, 0.030840205, 0.0633819925, 0.028122312499999996, 0.0569813925, 0.0147330775, 0.1368327725, 0.34584334250000004, 0.0436130625], \"type\": \"bar\", \"uid\": \"9bc351e5-a8ac-48c5-a8b8-a547440aa0e1\"}], {\"autosize\": true, \"hovermode\": \"closest\", \"showlegend\": false, \"title\": {\"text\": \"Barplots of Mean Feature Importance\"}, \"yaxis\": {\"gridwidth\": 2, \"ticklen\": 5, \"title\": {\"text\": \"Feature Importance\"}}}, {\"showLink\": false, \"linkText\": \"Export to plot.ly\", \"plotlyServerURL\": \"https://plot.ly\"}); \n",
       "}\n",
       "});</script><script type=\"text/javascript\">window.addEventListener(\"resize\", function(){if (document.getElementById(\"46301217-c617-44e7-ab10-4110bdb90fa2\")) {window._Plotly.Plots.resize(document.getElementById(\"46301217-c617-44e7-ab10-4110bdb90fa2\"));};})</script>"
      ]
     },
     "metadata": {},
     "output_type": "display_data"
    }
   ],
   "source": [
    "y = feature_dataframe['mean'].values\n",
    "x = feature_dataframe['features'].values\n",
    "data = [go.Bar(\n",
    "            x= x,\n",
    "             y= y,\n",
    "            width = 0.5,\n",
    "            marker=dict(\n",
    "               color = feature_dataframe['mean'].values,\n",
    "            colorscale='Portland',\n",
    "            showscale=True,\n",
    "            reversescale = False\n",
    "            ),\n",
    "            opacity=0.6\n",
    "        )]\n",
    "\n",
    "layout= go.Layout(\n",
    "    autosize= True,\n",
    "    title= 'Barplots of Mean Feature Importance',\n",
    "    hovermode= 'closest',\n",
    "#     xaxis= dict(\n",
    "#         title= 'Pop',\n",
    "#         ticklen= 5,\n",
    "#         zeroline= False,\n",
    "#         gridwidth= 2,\n",
    "#     ),\n",
    "    yaxis=dict(\n",
    "        title= 'Feature Importance',\n",
    "        ticklen= 5,\n",
    "        gridwidth= 2\n",
    "    ),\n",
    "    showlegend= False\n",
    ")\n",
    "fig = go.Figure(data=data, layout=layout)\n",
    "py.iplot(fig, filename='bar-direct-labels')"
   ]
  },
  {
   "cell_type": "code",
   "execution_count": 81,
   "metadata": {},
   "outputs": [
    {
     "data": {
      "text/html": [
       "<div>\n",
       "<style scoped>\n",
       "    .dataframe tbody tr th:only-of-type {\n",
       "        vertical-align: middle;\n",
       "    }\n",
       "\n",
       "    .dataframe tbody tr th {\n",
       "        vertical-align: top;\n",
       "    }\n",
       "\n",
       "    .dataframe thead th {\n",
       "        text-align: right;\n",
       "    }\n",
       "</style>\n",
       "<table border=\"1\" class=\"dataframe\">\n",
       "  <thead>\n",
       "    <tr style=\"text-align: right;\">\n",
       "      <th></th>\n",
       "      <th>RandomForest</th>\n",
       "      <th>ExtraTrees</th>\n",
       "      <th>AdaBoost</th>\n",
       "      <th>GradientBoost</th>\n",
       "    </tr>\n",
       "  </thead>\n",
       "  <tbody>\n",
       "    <tr>\n",
       "      <th>0</th>\n",
       "      <td>0.0</td>\n",
       "      <td>0.0</td>\n",
       "      <td>0.0</td>\n",
       "      <td>0.0</td>\n",
       "    </tr>\n",
       "    <tr>\n",
       "      <th>1</th>\n",
       "      <td>1.0</td>\n",
       "      <td>1.0</td>\n",
       "      <td>1.0</td>\n",
       "      <td>1.0</td>\n",
       "    </tr>\n",
       "    <tr>\n",
       "      <th>2</th>\n",
       "      <td>0.0</td>\n",
       "      <td>0.0</td>\n",
       "      <td>1.0</td>\n",
       "      <td>1.0</td>\n",
       "    </tr>\n",
       "    <tr>\n",
       "      <th>3</th>\n",
       "      <td>1.0</td>\n",
       "      <td>1.0</td>\n",
       "      <td>1.0</td>\n",
       "      <td>1.0</td>\n",
       "    </tr>\n",
       "    <tr>\n",
       "      <th>4</th>\n",
       "      <td>0.0</td>\n",
       "      <td>0.0</td>\n",
       "      <td>0.0</td>\n",
       "      <td>0.0</td>\n",
       "    </tr>\n",
       "  </tbody>\n",
       "</table>\n",
       "</div>"
      ],
      "text/plain": [
       "   RandomForest  ExtraTrees  AdaBoost  GradientBoost\n",
       "0           0.0         0.0       0.0            0.0\n",
       "1           1.0         1.0       1.0            1.0\n",
       "2           0.0         0.0       1.0            1.0\n",
       "3           1.0         1.0       1.0            1.0\n",
       "4           0.0         0.0       0.0            0.0"
      ]
     },
     "execution_count": 81,
     "metadata": {},
     "output_type": "execute_result"
    }
   ],
   "source": [
    "base_predictions_train = pd.DataFrame({\n",
    "    'RandomForest': rf_oof_train.ravel(),\n",
    "    'ExtraTrees': et_oof_train.ravel(),\n",
    "    'AdaBoost': ada_oof_train.ravel(),\n",
    "    'GradientBoost': gb_oof_train.ravel()\n",
    "    })\n",
    "base_predictions_train.head()"
   ]
  },
  {
   "cell_type": "code",
   "execution_count": 82,
   "metadata": {},
   "outputs": [
    {
     "data": {
      "application/vnd.plotly.v1+json": {
       "config": {
        "linkText": "Export to plot.ly",
        "plotlyServerURL": "https://plot.ly",
        "showLink": false
       },
       "data": [
        {
         "colorscale": "Viridis",
         "reversescale": true,
         "showscale": true,
         "type": "heatmap",
         "uid": "ee99ae92-15c2-40d4-926b-9464f32ee4b6",
         "x": [
          "RandomForest",
          "ExtraTrees",
          "AdaBoost",
          "GradientBoost"
         ],
         "y": [
          "RandomForest",
          "ExtraTrees",
          "AdaBoost",
          "GradientBoost"
         ],
         "z": [
          [
           1,
           0.8599261773375227,
           0.7943232994941938,
           0.735958089258259
          ],
          [
           0.8599261773375227,
           1,
           0.801080935904981,
           0.7354942982192422
          ],
          [
           0.7943232994941938,
           0.801080935904981,
           1,
           0.6679574223514846
          ],
          [
           0.735958089258259,
           0.7354942982192422,
           0.6679574223514846,
           1
          ]
         ]
        }
       ],
       "layout": {}
      },
      "text/html": [
       "<div id=\"3227fd50-bf82-4fbc-ab24-78c74762cb87\" style=\"height: 525px; width: 100%;\" class=\"plotly-graph-div\"></div><script type=\"text/javascript\">require([\"plotly\"], function(Plotly) { window.PLOTLYENV=window.PLOTLYENV || {};window.PLOTLYENV.BASE_URL=\"https://plot.ly\";\n",
       "if (document.getElementById(\"3227fd50-bf82-4fbc-ab24-78c74762cb87\")) {\n",
       "    Plotly.newPlot(\"3227fd50-bf82-4fbc-ab24-78c74762cb87\", [{\"colorscale\": \"Viridis\", \"reversescale\": true, \"showscale\": true, \"x\": [\"RandomForest\", \"ExtraTrees\", \"AdaBoost\", \"GradientBoost\"], \"y\": [\"RandomForest\", \"ExtraTrees\", \"AdaBoost\", \"GradientBoost\"], \"z\": [[1.0, 0.8599261773375227, 0.7943232994941938, 0.735958089258259], [0.8599261773375227, 1.0, 0.801080935904981, 0.7354942982192422], [0.7943232994941938, 0.801080935904981, 1.0, 0.6679574223514846], [0.735958089258259, 0.7354942982192422, 0.6679574223514846, 1.0]], \"type\": \"heatmap\", \"uid\": \"0ca78ade-dc51-48ce-91e1-4094bd0f3803\"}], {}, {\"showLink\": false, \"linkText\": \"Export to plot.ly\", \"plotlyServerURL\": \"https://plot.ly\"}); \n",
       "}\n",
       "});</script><script type=\"text/javascript\">window.addEventListener(\"resize\", function(){if (document.getElementById(\"3227fd50-bf82-4fbc-ab24-78c74762cb87\")) {window._Plotly.Plots.resize(document.getElementById(\"3227fd50-bf82-4fbc-ab24-78c74762cb87\"));};})</script>"
      ],
      "text/vnd.plotly.v1+html": [
       "<div id=\"3227fd50-bf82-4fbc-ab24-78c74762cb87\" style=\"height: 525px; width: 100%;\" class=\"plotly-graph-div\"></div><script type=\"text/javascript\">require([\"plotly\"], function(Plotly) { window.PLOTLYENV=window.PLOTLYENV || {};window.PLOTLYENV.BASE_URL=\"https://plot.ly\";\n",
       "if (document.getElementById(\"3227fd50-bf82-4fbc-ab24-78c74762cb87\")) {\n",
       "    Plotly.newPlot(\"3227fd50-bf82-4fbc-ab24-78c74762cb87\", [{\"colorscale\": \"Viridis\", \"reversescale\": true, \"showscale\": true, \"x\": [\"RandomForest\", \"ExtraTrees\", \"AdaBoost\", \"GradientBoost\"], \"y\": [\"RandomForest\", \"ExtraTrees\", \"AdaBoost\", \"GradientBoost\"], \"z\": [[1.0, 0.8599261773375227, 0.7943232994941938, 0.735958089258259], [0.8599261773375227, 1.0, 0.801080935904981, 0.7354942982192422], [0.7943232994941938, 0.801080935904981, 1.0, 0.6679574223514846], [0.735958089258259, 0.7354942982192422, 0.6679574223514846, 1.0]], \"type\": \"heatmap\", \"uid\": \"0ca78ade-dc51-48ce-91e1-4094bd0f3803\"}], {}, {\"showLink\": false, \"linkText\": \"Export to plot.ly\", \"plotlyServerURL\": \"https://plot.ly\"}); \n",
       "}\n",
       "});</script><script type=\"text/javascript\">window.addEventListener(\"resize\", function(){if (document.getElementById(\"3227fd50-bf82-4fbc-ab24-78c74762cb87\")) {window._Plotly.Plots.resize(document.getElementById(\"3227fd50-bf82-4fbc-ab24-78c74762cb87\"));};})</script>"
      ]
     },
     "metadata": {},
     "output_type": "display_data"
    }
   ],
   "source": [
    "data = [\n",
    "    go.Heatmap(\n",
    "        z= base_predictions_train.astype(float).corr().values ,\n",
    "        x=base_predictions_train.columns.values,\n",
    "        y= base_predictions_train.columns.values,\n",
    "          colorscale='Viridis',\n",
    "            showscale=True,\n",
    "            reversescale = True\n",
    "    )\n",
    "]\n",
    "py.iplot(data, filename='labelled-heatmap')\n"
   ]
  },
  {
   "cell_type": "code",
   "execution_count": 83,
   "metadata": {},
   "outputs": [],
   "source": [
    "x_train = np.concatenate(( et_oof_train, rf_oof_train, ada_oof_train, gb_oof_train, svc_oof_train), axis=1)\n",
    "x_test = np.concatenate(( et_oof_test, rf_oof_test, ada_oof_test, gb_oof_test, svc_oof_test), axis=1)"
   ]
  },
  {
   "cell_type": "code",
   "execution_count": 84,
   "metadata": {},
   "outputs": [],
   "source": [
    "gbm = xgb.XGBClassifier(\n",
    "    #learning_rate = 0.02,\n",
    "    n_estimators= 2000,\n",
    "    max_depth= 4,\n",
    "    min_child_weight= 2,\n",
    "    #gamma=1,\n",
    "    gamma=0.9,\n",
    "    subsample=0.8,\n",
    "    colsample_bytree=0.8,\n",
    "    objective= 'binary:logistic',\n",
    "    nthread= -1,\n",
    "    scale_pos_weight=1).fit(x_train, y_train)\n",
    "predictions = gbm.predict(x_test)"
   ]
  },
  {
   "cell_type": "code",
   "execution_count": 85,
   "metadata": {},
   "outputs": [],
   "source": [
    "# Generate Submission File \n",
    "StackingSubmission = pd.DataFrame({'PassengerId': PassengerId,\n",
    "                                   'Survived': predictions })\n",
    "StackingSubmission.to_csv(\"StackingSubmission.csv\", index=False)"
   ]
  },
  {
   "cell_type": "code",
   "execution_count": 87,
   "metadata": {},
   "outputs": [
    {
     "data": {
      "text/html": [
       "<div>\n",
       "<style scoped>\n",
       "    .dataframe tbody tr th:only-of-type {\n",
       "        vertical-align: middle;\n",
       "    }\n",
       "\n",
       "    .dataframe tbody tr th {\n",
       "        vertical-align: top;\n",
       "    }\n",
       "\n",
       "    .dataframe thead th {\n",
       "        text-align: right;\n",
       "    }\n",
       "</style>\n",
       "<table border=\"1\" class=\"dataframe\">\n",
       "  <thead>\n",
       "    <tr style=\"text-align: right;\">\n",
       "      <th></th>\n",
       "      <th>PassengerId</th>\n",
       "      <th>Survived</th>\n",
       "    </tr>\n",
       "  </thead>\n",
       "  <tbody>\n",
       "    <tr>\n",
       "      <th>0</th>\n",
       "      <td>892</td>\n",
       "      <td>0</td>\n",
       "    </tr>\n",
       "    <tr>\n",
       "      <th>1</th>\n",
       "      <td>893</td>\n",
       "      <td>1</td>\n",
       "    </tr>\n",
       "    <tr>\n",
       "      <th>2</th>\n",
       "      <td>894</td>\n",
       "      <td>0</td>\n",
       "    </tr>\n",
       "    <tr>\n",
       "      <th>3</th>\n",
       "      <td>895</td>\n",
       "      <td>0</td>\n",
       "    </tr>\n",
       "    <tr>\n",
       "      <th>4</th>\n",
       "      <td>896</td>\n",
       "      <td>1</td>\n",
       "    </tr>\n",
       "    <tr>\n",
       "      <th>...</th>\n",
       "      <td>...</td>\n",
       "      <td>...</td>\n",
       "    </tr>\n",
       "    <tr>\n",
       "      <th>413</th>\n",
       "      <td>1305</td>\n",
       "      <td>0</td>\n",
       "    </tr>\n",
       "    <tr>\n",
       "      <th>414</th>\n",
       "      <td>1306</td>\n",
       "      <td>1</td>\n",
       "    </tr>\n",
       "    <tr>\n",
       "      <th>415</th>\n",
       "      <td>1307</td>\n",
       "      <td>0</td>\n",
       "    </tr>\n",
       "    <tr>\n",
       "      <th>416</th>\n",
       "      <td>1308</td>\n",
       "      <td>0</td>\n",
       "    </tr>\n",
       "    <tr>\n",
       "      <th>417</th>\n",
       "      <td>1309</td>\n",
       "      <td>1</td>\n",
       "    </tr>\n",
       "  </tbody>\n",
       "</table>\n",
       "<p>418 rows × 2 columns</p>\n",
       "</div>"
      ],
      "text/plain": [
       "     PassengerId  Survived\n",
       "0            892         0\n",
       "1            893         1\n",
       "2            894         0\n",
       "3            895         0\n",
       "4            896         1\n",
       "..           ...       ...\n",
       "413         1305         0\n",
       "414         1306         1\n",
       "415         1307         0\n",
       "416         1308         0\n",
       "417         1309         1\n",
       "\n",
       "[418 rows x 2 columns]"
      ]
     },
     "execution_count": 87,
     "metadata": {},
     "output_type": "execute_result"
    }
   ],
   "source": [
    "StackingSubmission"
   ]
  },
  {
   "cell_type": "code",
   "execution_count": null,
   "metadata": {},
   "outputs": [],
   "source": []
  }
 ],
 "metadata": {
  "kernelspec": {
   "display_name": "Python 3",
   "language": "python",
   "name": "python3"
  },
  "language_info": {
   "codemirror_mode": {
    "name": "ipython",
    "version": 3
   },
   "file_extension": ".py",
   "mimetype": "text/x-python",
   "name": "python",
   "nbconvert_exporter": "python",
   "pygments_lexer": "ipython3",
   "version": "3.7.4"
  }
 },
 "nbformat": 4,
 "nbformat_minor": 4
}
