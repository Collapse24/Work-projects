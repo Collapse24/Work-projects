{
 "cells": [
  {
   "cell_type": "code",
   "execution_count": 1,
   "metadata": {},
   "outputs": [],
   "source": [
    "import time\n",
    "import warnings\n",
    "import numpy as np\n",
    "import pandas as pd\n",
    "import seaborn as sns\n",
    "import lightgbm as lgb\n",
    "import matplotlib.pyplot as plt\n",
    "\n",
    "from copy import deepcopy\n",
    "from collections import Counter\n",
    "from lightgbm import LGBMClassifier\n",
    "from sklearn.metrics import f1_score\n",
    "from imblearn.over_sampling import SMOTE\n",
    "from sklearn.metrics import roc_auc_score\n",
    "from bayes_opt import BayesianOptimization"
   ]
  },
  {
   "cell_type": "code",
   "execution_count": 2,
   "metadata": {},
   "outputs": [],
   "source": [
    "sns.set()\n",
    "%matplotlib inline\n",
    "warnings.simplefilter(\"ignore\")\n",
    "warnings.filterwarnings(\"ignore\")"
   ]
  },
  {
   "cell_type": "code",
   "execution_count": 3,
   "metadata": {},
   "outputs": [
    {
     "name": "stdout",
     "output_type": "stream",
     "text": [
      "CPU times: user 10.4 s, sys: 812 ms, total: 11.2 s\n",
      "Wall time: 10.6 s\n"
     ]
    }
   ],
   "source": [
    "%%time\n",
    "df_input_data = pd.read_csv('data_for_boosting.csv')"
   ]
  },
  {
   "cell_type": "code",
   "execution_count": 4,
   "metadata": {
    "scrolled": true
   },
   "outputs": [
    {
     "data": {
      "text/html": [
       "<div>\n",
       "<style scoped>\n",
       "    .dataframe tbody tr th:only-of-type {\n",
       "        vertical-align: middle;\n",
       "    }\n",
       "\n",
       "    .dataframe tbody tr th {\n",
       "        vertical-align: top;\n",
       "    }\n",
       "\n",
       "    .dataframe thead th {\n",
       "        text-align: right;\n",
       "    }\n",
       "</style>\n",
       "<table border=\"1\" class=\"dataframe\">\n",
       "  <thead>\n",
       "    <tr style=\"text-align: right;\">\n",
       "      <th></th>\n",
       "      <th>volatility_atr</th>\n",
       "      <th>volume_adi</th>\n",
       "      <th>momentum_tsi</th>\n",
       "      <th>momentum_rsi</th>\n",
       "      <th>momentum_stoch</th>\n",
       "      <th>momentum_wr</th>\n",
       "      <th>returns_lag_1</th>\n",
       "      <th>minute</th>\n",
       "      <th>value__fft_coefficient__coeff_0__attr_\"abs\"</th>\n",
       "      <th>close_returns_log</th>\n",
       "      <th>...</th>\n",
       "      <th>value__fft_coefficient__coeff_2__attr_\"angle\"</th>\n",
       "      <th>value__fft_coefficient__coeff_8__attr_\"abs\"</th>\n",
       "      <th>value__number_crossing_m__m_0</th>\n",
       "      <th>value__c3__lag_2</th>\n",
       "      <th>value__fft_aggregated__aggtype_\"variance\"</th>\n",
       "      <th>returns_25</th>\n",
       "      <th>returns_16</th>\n",
       "      <th>returns_26</th>\n",
       "      <th>datetime</th>\n",
       "      <th>target</th>\n",
       "    </tr>\n",
       "  </thead>\n",
       "  <tbody>\n",
       "    <tr>\n",
       "      <td>0</td>\n",
       "      <td>2.232631</td>\n",
       "      <td>-62.084025</td>\n",
       "      <td>1.334591</td>\n",
       "      <td>76.659155</td>\n",
       "      <td>96.774194</td>\n",
       "      <td>-3.225806</td>\n",
       "      <td>0.000282</td>\n",
       "      <td>11</td>\n",
       "      <td>0.000283</td>\n",
       "      <td>0.000000</td>\n",
       "      <td>...</td>\n",
       "      <td>162.231277</td>\n",
       "      <td>0.000309</td>\n",
       "      <td>26.0</td>\n",
       "      <td>-1.148034e-15</td>\n",
       "      <td>205.975487</td>\n",
       "      <td>0.001553</td>\n",
       "      <td>0.000470</td>\n",
       "      <td>0.001506</td>\n",
       "      <td>2019-07-21 05:11:34.542501</td>\n",
       "      <td>2</td>\n",
       "    </tr>\n",
       "    <tr>\n",
       "      <td>1</td>\n",
       "      <td>2.108871</td>\n",
       "      <td>-91.595042</td>\n",
       "      <td>2.166042</td>\n",
       "      <td>73.108003</td>\n",
       "      <td>93.548387</td>\n",
       "      <td>-6.451613</td>\n",
       "      <td>0.000000</td>\n",
       "      <td>11</td>\n",
       "      <td>0.000309</td>\n",
       "      <td>-0.000005</td>\n",
       "      <td>...</td>\n",
       "      <td>170.244199</td>\n",
       "      <td>0.000323</td>\n",
       "      <td>27.0</td>\n",
       "      <td>-1.255613e-15</td>\n",
       "      <td>210.047304</td>\n",
       "      <td>0.001742</td>\n",
       "      <td>0.000329</td>\n",
       "      <td>0.001506</td>\n",
       "      <td>2019-07-21 05:11:47.914567</td>\n",
       "      <td>2</td>\n",
       "    </tr>\n",
       "    <tr>\n",
       "      <td>2</td>\n",
       "      <td>1.993952</td>\n",
       "      <td>7.445769</td>\n",
       "      <td>2.978572</td>\n",
       "      <td>74.472467</td>\n",
       "      <td>96.774194</td>\n",
       "      <td>-3.225806</td>\n",
       "      <td>-0.000047</td>\n",
       "      <td>13</td>\n",
       "      <td>0.000324</td>\n",
       "      <td>0.000005</td>\n",
       "      <td>...</td>\n",
       "      <td>177.708002</td>\n",
       "      <td>0.000337</td>\n",
       "      <td>26.0</td>\n",
       "      <td>-1.263754e-15</td>\n",
       "      <td>208.077874</td>\n",
       "      <td>0.001553</td>\n",
       "      <td>0.000376</td>\n",
       "      <td>0.001789</td>\n",
       "      <td>2019-07-21 05:13:10.418727</td>\n",
       "      <td>2</td>\n",
       "    </tr>\n",
       "  </tbody>\n",
       "</table>\n",
       "<p>3 rows × 125 columns</p>\n",
       "</div>"
      ],
      "text/plain": [
       "   volatility_atr  volume_adi  momentum_tsi  momentum_rsi  momentum_stoch  \\\n",
       "0        2.232631  -62.084025      1.334591     76.659155       96.774194   \n",
       "1        2.108871  -91.595042      2.166042     73.108003       93.548387   \n",
       "2        1.993952    7.445769      2.978572     74.472467       96.774194   \n",
       "\n",
       "   momentum_wr  returns_lag_1  minute  \\\n",
       "0    -3.225806       0.000282      11   \n",
       "1    -6.451613       0.000000      11   \n",
       "2    -3.225806      -0.000047      13   \n",
       "\n",
       "   value__fft_coefficient__coeff_0__attr_\"abs\"  close_returns_log  ...  \\\n",
       "0                                     0.000283           0.000000  ...   \n",
       "1                                     0.000309          -0.000005  ...   \n",
       "2                                     0.000324           0.000005  ...   \n",
       "\n",
       "   value__fft_coefficient__coeff_2__attr_\"angle\"  \\\n",
       "0                                     162.231277   \n",
       "1                                     170.244199   \n",
       "2                                     177.708002   \n",
       "\n",
       "   value__fft_coefficient__coeff_8__attr_\"abs\"  value__number_crossing_m__m_0  \\\n",
       "0                                     0.000309                           26.0   \n",
       "1                                     0.000323                           27.0   \n",
       "2                                     0.000337                           26.0   \n",
       "\n",
       "   value__c3__lag_2  value__fft_aggregated__aggtype_\"variance\"  returns_25  \\\n",
       "0     -1.148034e-15                                 205.975487    0.001553   \n",
       "1     -1.255613e-15                                 210.047304    0.001742   \n",
       "2     -1.263754e-15                                 208.077874    0.001553   \n",
       "\n",
       "   returns_16  returns_26                    datetime  target  \n",
       "0    0.000470    0.001506  2019-07-21 05:11:34.542501       2  \n",
       "1    0.000329    0.001506  2019-07-21 05:11:47.914567       2  \n",
       "2    0.000376    0.001789  2019-07-21 05:13:10.418727       2  \n",
       "\n",
       "[3 rows x 125 columns]"
      ]
     },
     "execution_count": 4,
     "metadata": {},
     "output_type": "execute_result"
    }
   ],
   "source": [
    "df_input_data.head(3)"
   ]
  },
  {
   "cell_type": "code",
   "execution_count": 5,
   "metadata": {
    "scrolled": true
   },
   "outputs": [
    {
     "name": "stdout",
     "output_type": "stream",
     "text": [
      "295451\n",
      "167440\n",
      "360531\n"
     ]
    }
   ],
   "source": [
    "print(sum(df_input_data['target'] == 0))\n",
    "print(sum(df_input_data['target'] == 1))\n",
    "print(sum(df_input_data['target'] == 2))"
   ]
  },
  {
   "cell_type": "code",
   "execution_count": 6,
   "metadata": {},
   "outputs": [],
   "source": [
    "# Класс 0 против остальных\n",
    "data_0_vs_other = deepcopy(df_input_data)\n",
    "data_0_vs_other['target'].replace([1, 2], -1, inplace=True)\n",
    "data_0_vs_other['target'].replace(0, 1, inplace=True)\n",
    "data_0_vs_other['target'].replace(-1, 0, inplace=True)"
   ]
  },
  {
   "cell_type": "code",
   "execution_count": 7,
   "metadata": {},
   "outputs": [],
   "source": [
    "# Класс 1 против остальных\n",
    "data_1_vs_other = deepcopy(df_input_data)\n",
    "data_1_vs_other['target'].replace([0, 2], -1, inplace=True)\n",
    "data_1_vs_other['target'].replace(-1, 0, inplace=True)"
   ]
  },
  {
   "cell_type": "code",
   "execution_count": 8,
   "metadata": {},
   "outputs": [],
   "source": [
    "# Класс 2 против остальных\n",
    "data_2_vs_other = deepcopy(df_input_data)\n",
    "data_2_vs_other['target'].replace([0, 1], -1, inplace=True)\n",
    "data_2_vs_other['target'].replace(2, 1, inplace=True)\n",
    "data_2_vs_other['target'].replace(-1, 0, inplace=True)"
   ]
  },
  {
   "cell_type": "code",
   "execution_count": 9,
   "metadata": {},
   "outputs": [
    {
     "name": "stdout",
     "output_type": "stream",
     "text": [
      "360531\n",
      "462891\n"
     ]
    }
   ],
   "source": [
    "# Проверка количество объектов классов\n",
    "print(sum(data_2_vs_other['target'] == 1))\n",
    "print(sum(data_2_vs_other['target'] == 0))"
   ]
  },
  {
   "cell_type": "code",
   "execution_count": 10,
   "metadata": {},
   "outputs": [],
   "source": [
    "train_0 = data_0_vs_other[data_0_vs_other['datetime'] < '2019-09-25']\n",
    "train_1 = data_1_vs_other[data_1_vs_other['datetime'] < '2019-09-25']\n",
    "train_2 = data_2_vs_other[data_2_vs_other['datetime'] < '2019-09-25']"
   ]
  },
  {
   "cell_type": "code",
   "execution_count": 11,
   "metadata": {},
   "outputs": [],
   "source": [
    "test_0 = data_0_vs_other[data_0_vs_other['datetime'] >= '2019-09-25']\n",
    "test_1 = data_1_vs_other[data_1_vs_other['datetime'] >= '2019-09-25']\n",
    "test_2 = data_2_vs_other[data_2_vs_other['datetime'] >= '2019-09-25']"
   ]
  },
  {
   "cell_type": "code",
   "execution_count": 12,
   "metadata": {},
   "outputs": [],
   "source": [
    "X_0 = train_0.drop(['target', 'datetime'], axis=1)\n",
    "X_1 = train_1.drop(['target', 'datetime'], axis=1)\n",
    "X_2 = train_1.drop(['target', 'datetime'], axis=1)\n",
    "\n",
    "y_0 = train_0['target']\n",
    "y_1 = train_1['target']\n",
    "y_2 = train_2['target']"
   ]
  },
  {
   "cell_type": "code",
   "execution_count": 13,
   "metadata": {},
   "outputs": [],
   "source": [
    "X_0_test = test_0.drop(['target', 'datetime'], axis=1)\n",
    "X_1_test = test_1.drop(['target', 'datetime'], axis=1)\n",
    "X_2_test = test_2.drop(['target', 'datetime'], axis=1)\n",
    "\n",
    "y_0_test = test_0['target']\n",
    "y_1_test = test_1['target']\n",
    "y_2_test = test_2['target']"
   ]
  },
  {
   "cell_type": "code",
   "execution_count": 14,
   "metadata": {},
   "outputs": [],
   "source": [
    "def lgb_eval(max_depth, \n",
    "             num_leaves,\n",
    "             reg_alpha,\n",
    "             reg_lambda):\n",
    "    \n",
    "    params = {'objective':'binary',\n",
    "              'num_iterations':4000, \n",
    "              'learning_rate':0.05, \n",
    "              'early_stopping_round':100, \n",
    "              'metric':'auc'}\n",
    "    \n",
    "    params['max_depth'] = round(max_depth)\n",
    "    params['num_leaves'] = round(num_leaves)\n",
    "    params['reg_alpha'] = max(reg_alpha, 0)\n",
    "    params['reg_lambda'] = max(reg_lambda, 0)\n",
    "    \n",
    "    cv_result = lgb.cv(params, \n",
    "                       train_data, \n",
    "                       nfold=n_folds, \n",
    "                       seed=random_seed, \n",
    "                       stratified=True, \n",
    "                       verbose_eval =200, \n",
    "                       metrics=['auc'])\n",
    "    \n",
    "    return max(cv_result['auc-mean'])"
   ]
  },
  {
   "cell_type": "code",
   "execution_count": 15,
   "metadata": {},
   "outputs": [],
   "source": [
    "lgbBO = BayesianOptimization(lgb_eval, {'max_depth': (5, 8.99),\n",
    "                                        'num_leaves': (24, 45),                                        \n",
    "                                        'reg_alpha': (0, 5),\n",
    "                                        'reg_lambda': (0, 3)}, \n",
    "                             random_state=0)"
   ]
  },
  {
   "cell_type": "code",
   "execution_count": 16,
   "metadata": {},
   "outputs": [],
   "source": [
    "def bayes_parameter_opt_lgb(X, \n",
    "                            y, \n",
    "                            init_round=15, \n",
    "                            opt_round=25, \n",
    "                            n_folds=5, \n",
    "                            random_seed=6, \n",
    "                            n_estimators=10000, \n",
    "                            learning_rate=0.05, \n",
    "                            output_process=False):\n",
    "    # prepare data\n",
    "    train_data = lgb.Dataset(data=X, \n",
    "                             label=y, \n",
    "                             free_raw_data=False)\n",
    "    # parameters\n",
    "    \n",
    "    def lgb_eval(max_depth,\n",
    "                 num_leaves,\n",
    "                 reg_alpha,\n",
    "                 reg_lambda):\n",
    "        \n",
    "        params = {'objective':'binary',\n",
    "                  'num_iterations': n_estimators, \n",
    "                  'learning_rate':learning_rate, \n",
    "                  'early_stopping_round':100, \n",
    "                  'metric':'auc'}\n",
    "        \n",
    "        params['max_depth'] = int(round(max_depth))\n",
    "        params['num_leaves'] = int(round(num_leaves))\n",
    "        params['reg_alpha'] = max(reg_alpha, 0)\n",
    "        params['reg_lambda'] = max(reg_lambda, 0)\n",
    "        \n",
    "        cv_result = lgb.cv(params, \n",
    "                           train_data, \n",
    "                           nfold=n_folds, \n",
    "                           seed=random_seed,\n",
    "                           stratified=True, \n",
    "                           verbose_eval =200, \n",
    "                           metrics=['auc'])\n",
    "        return max(cv_result['auc-mean'])\n",
    "    \n",
    "    # range\n",
    "    \n",
    "    lgbBO = BayesianOptimization(lgb_eval, {'max_depth': (5, 8.99),\n",
    "                                            'num_leaves': (24, 45),\n",
    "                                            'reg_alpha': (0, 5),\n",
    "                                            'reg_lambda': (0, 3)}, \n",
    "                             random_state=0)\n",
    "    \n",
    "    # optimize\n",
    "    lgbBO.maximize(init_points=init_round, n_iter=opt_round)\n",
    "    \n",
    "    if output_process==True: lgbBO.points_to_csv(\"bayes_opt_result.csv\")\n",
    "    \n",
    "    return lgbBO"
   ]
  },
  {
   "cell_type": "code",
   "execution_count": 17,
   "metadata": {
    "scrolled": true
   },
   "outputs": [
    {
     "name": "stdout",
     "output_type": "stream",
     "text": [
      "|   iter    |  target   | max_depth | num_le... | reg_alpha | reg_la... |\n",
      "-------------------------------------------------------------------------\n",
      "| \u001b[0m 1       \u001b[0m | \u001b[0m 0.2132  \u001b[0m | \u001b[0m 7.19    \u001b[0m | \u001b[0m 39.02   \u001b[0m | \u001b[0m 3.014   \u001b[0m | \u001b[0m 1.635   \u001b[0m |\n",
      "| \u001b[95m 2       \u001b[0m | \u001b[95m 0.2133  \u001b[0m | \u001b[95m 6.69    \u001b[0m | \u001b[95m 37.56   \u001b[0m | \u001b[95m 2.188   \u001b[0m | \u001b[95m 2.675   \u001b[0m |\n",
      "| \u001b[95m 3       \u001b[0m | \u001b[95m 0.2136  \u001b[0m | \u001b[95m 8.845   \u001b[0m | \u001b[95m 32.05   \u001b[0m | \u001b[95m 3.959   \u001b[0m | \u001b[95m 1.587   \u001b[0m |\n",
      "| \u001b[0m 4       \u001b[0m | \u001b[0m 0.2128  \u001b[0m | \u001b[0m 7.266   \u001b[0m | \u001b[0m 43.44   \u001b[0m | \u001b[0m 0.3552  \u001b[0m | \u001b[0m 0.2614  \u001b[0m |\n",
      "| \u001b[95m 5       \u001b[0m | \u001b[95m 0.2146  \u001b[0m | \u001b[95m 5.081   \u001b[0m | \u001b[95m 41.49   \u001b[0m | \u001b[95m 3.891   \u001b[0m | \u001b[95m 2.61    \u001b[0m |\n",
      "| \u001b[95m 6       \u001b[0m | \u001b[95m 0.215   \u001b[0m | \u001b[95m 5.07    \u001b[0m | \u001b[95m 24.01   \u001b[0m | \u001b[95m 4.957   \u001b[0m | \u001b[95m 0.1629  \u001b[0m |\n",
      "| \u001b[0m 7       \u001b[0m | \u001b[0m 0.2149  \u001b[0m | \u001b[0m 5.056   \u001b[0m | \u001b[0m 24.01   \u001b[0m | \u001b[0m 0.5153  \u001b[0m | \u001b[0m 2.348   \u001b[0m |\n",
      "| \u001b[95m 8       \u001b[0m | \u001b[95m 0.215   \u001b[0m | \u001b[95m 5.155   \u001b[0m | \u001b[95m 24.06   \u001b[0m | \u001b[95m 4.981   \u001b[0m | \u001b[95m 2.847   \u001b[0m |\n",
      "| \u001b[0m 9       \u001b[0m | \u001b[0m 0.2144  \u001b[0m | \u001b[0m 8.734   \u001b[0m | \u001b[0m 24.0    \u001b[0m | \u001b[0m 0.002366\u001b[0m | \u001b[0m 2.904   \u001b[0m |\n",
      "| \u001b[0m 10      \u001b[0m | \u001b[0m 0.215   \u001b[0m | \u001b[0m 5.077   \u001b[0m | \u001b[0m 24.02   \u001b[0m | \u001b[0m 4.76    \u001b[0m | \u001b[0m 0.1238  \u001b[0m |\n",
      "| \u001b[0m 11      \u001b[0m | \u001b[0m 0.2144  \u001b[0m | \u001b[0m 8.813   \u001b[0m | \u001b[0m 24.04   \u001b[0m | \u001b[0m 4.948   \u001b[0m | \u001b[0m 0.003711\u001b[0m |\n",
      "| \u001b[0m 12      \u001b[0m | \u001b[0m 0.2149  \u001b[0m | \u001b[0m 5.206   \u001b[0m | \u001b[0m 24.01   \u001b[0m | \u001b[0m 0.2583  \u001b[0m | \u001b[0m 2.978   \u001b[0m |\n",
      "| \u001b[0m 13      \u001b[0m | \u001b[0m 0.215   \u001b[0m | \u001b[0m 5.071   \u001b[0m | \u001b[0m 24.01   \u001b[0m | \u001b[0m 4.691   \u001b[0m | \u001b[0m 0.352   \u001b[0m |\n",
      "| \u001b[0m 14      \u001b[0m | \u001b[0m 0.2149  \u001b[0m | \u001b[0m 5.2     \u001b[0m | \u001b[0m 24.15   \u001b[0m | \u001b[0m 0.1535  \u001b[0m | \u001b[0m 0.2425  \u001b[0m |\n",
      "| \u001b[95m 15      \u001b[0m | \u001b[95m 0.215   \u001b[0m | \u001b[95m 5.078   \u001b[0m | \u001b[95m 24.09   \u001b[0m | \u001b[95m 4.918   \u001b[0m | \u001b[95m 2.739   \u001b[0m |\n",
      "=========================================================================\n"
     ]
    }
   ],
   "source": [
    "opt_params = bayes_parameter_opt_lgb(X_2, \n",
    "                                     y_2, \n",
    "                                     init_round=5, \n",
    "                                     opt_round=10, \n",
    "                                     n_folds=3, \n",
    "                                     random_seed=6, \n",
    "                                     n_estimators=100, \n",
    "                                     learning_rate=0.05)"
   ]
  },
  {
   "cell_type": "code",
   "execution_count": 18,
   "metadata": {},
   "outputs": [
    {
     "data": {
      "text/plain": [
       "{'max_depth': 5.077962147614763,\n",
       " 'num_leaves': 24.086236609046164,\n",
       " 'reg_alpha': 4.917677030984656,\n",
       " 'reg_lambda': 2.7393537072172807}"
      ]
     },
     "execution_count": 18,
     "metadata": {},
     "output_type": "execute_result"
    }
   ],
   "source": [
    "opt_params.max['params']"
   ]
  },
  {
   "cell_type": "code",
   "execution_count": 38,
   "metadata": {},
   "outputs": [],
   "source": [
    "model_params_0 = {'max_depth': int(8.979840829430485),\n",
    "                  'num_leaves': int(44.618691354216),\n",
    "                  'boosting_type': 'gbdt',\n",
    "                  'reg_alpha': 0.2282418956372323,\n",
    "                  'reg_lambda': 0.059783627142429685\n",
    "                 }\n",
    "\n",
    "model_params_1 = {'max_depth': int(8.98131008415871),\n",
    "                  'num_leaves': int(44.63581240702489),\n",
    "                  'boosting_type': 'gbdt',\n",
    "                  'reg_alpha': 0.13232465491703205,\n",
    "                  'reg_lambda': 0.3189983143889408\n",
    "                 }\n",
    "\n",
    "model_params_2 = {'max_depth': int(8.92232352329105),\n",
    "                  'num_leaves': int(44.699027026452086),\n",
    "                  'boosting_type': 'gbdt',\n",
    "                  'reg_alpha': 0.029777838712649607,\n",
    "                  'reg_lambda': 0.2984579663785003\n",
    "                 }\n",
    "                            \n",
    "optim_params = {'num_boost_round': 200,\n",
    "                'num_iterations':4000,\n",
    "                'learning_rate':0.05\n",
    "               }\n",
    "\n",
    "task_params = {'objective': 'binary',\n",
    "               'metric': 'f1'\n",
    "              }\n",
    "    \n",
    "device_params = {'device': 'cpu',\n",
    "                 'num_threads': 4\n",
    "                }"
   ]
  },
  {
   "cell_type": "code",
   "execution_count": 28,
   "metadata": {},
   "outputs": [],
   "source": [
    "sm = SMOTE(random_state=42)"
   ]
  },
  {
   "cell_type": "code",
   "execution_count": 31,
   "metadata": {
    "scrolled": true
   },
   "outputs": [
    {
     "name": "stdout",
     "output_type": "stream",
     "text": [
      "Resampled dataset shape Counter({0: 314190, 1: 314190})\n"
     ]
    }
   ],
   "source": [
    "%%time\n",
    "X_res_0, y_res_0 = sm.fit_resample(X_0, y_0)\n",
    "print('Resampled dataset shape %s' % Counter(y_res_0))"
   ]
  },
  {
   "cell_type": "code",
   "execution_count": 32,
   "metadata": {},
   "outputs": [
    {
     "name": "stdout",
     "output_type": "stream",
     "text": [
      "Resampled dataset shape Counter({0: 393051, 1: 393051})\n",
      "Wall time: 21.3 s\n"
     ]
    }
   ],
   "source": [
    "%%time\n",
    "X_res_1, y_res_1 = sm.fit_resample(X_1, y_1)\n",
    "print('Resampled dataset shape %s' % Counter(y_res_1))"
   ]
  },
  {
   "cell_type": "code",
   "execution_count": 33,
   "metadata": {},
   "outputs": [
    {
     "name": "stdout",
     "output_type": "stream",
     "text": [
      "Resampled dataset shape Counter({1: 276079, 0: 276079})\n",
      "Wall time: 1min\n"
     ]
    }
   ],
   "source": [
    "%%time\n",
    "X_res_2, y_res_2 = sm.fit_resample(X_2, y_2)\n",
    "print('Resampled dataset shape %s' % Counter(y_res_2))"
   ]
  },
  {
   "cell_type": "code",
   "execution_count": 39,
   "metadata": {},
   "outputs": [],
   "source": [
    "total_dict_0 = dict(**model_params_0, **task_params, **device_params, **optim_params)\n",
    "total_dict_1 = dict(**model_params_1, **task_params, **device_params, **optim_params)\n",
    "total_dict_2 = dict(**model_params_2, **task_params, **device_params, **optim_params)"
   ]
  },
  {
   "cell_type": "code",
   "execution_count": 42,
   "metadata": {},
   "outputs": [
    {
     "name": "stdout",
     "output_type": "stream",
     "text": [
      "Wall time: 0 ns\n"
     ]
    }
   ],
   "source": [
    "%%time\n",
    "clf_0 = LGBMClassifier(**total_dict_0)\n",
    "clf_1 = LGBMClassifier(**total_dict_1)\n",
    "clf_2 = LGBMClassifier(**total_dict_2)"
   ]
  },
  {
   "cell_type": "code",
   "execution_count": 43,
   "metadata": {
    "scrolled": true
   },
   "outputs": [
    {
     "name": "stdout",
     "output_type": "stream",
     "text": [
      "Wall time: 4min 44s\n"
     ]
    },
    {
     "data": {
      "text/plain": [
       "LGBMClassifier(boosting_type='gbdt', class_weight=None, colsample_bytree=1.0,\n",
       "        device='cpu', importance_type='split', learning_rate=0.05,\n",
       "        max_depth=8, metric='auc', min_child_samples=20,\n",
       "        min_child_weight=0.001, min_split_gain=0.0, n_estimators=100,\n",
       "        n_jobs=-1, num_boost_round=200, num_iterations=4000, num_leaves=44,\n",
       "        num_threads=4, objective='binary', random_state=None,\n",
       "        reg_alpha=0.2282418956372323, reg_lambda=0.059783627142429685,\n",
       "        silent=True, subsample=1.0, subsample_for_bin=200000,\n",
       "        subsample_freq=0)"
      ]
     },
     "execution_count": 43,
     "metadata": {},
     "output_type": "execute_result"
    }
   ],
   "source": [
    "%%time\n",
    "clf_0.fit(X_res_0, y_res_0)"
   ]
  },
  {
   "cell_type": "code",
   "execution_count": 45,
   "metadata": {},
   "outputs": [
    {
     "name": "stdout",
     "output_type": "stream",
     "text": [
      "Wall time: 6min 6s\n"
     ]
    },
    {
     "data": {
      "text/plain": [
       "LGBMClassifier(boosting_type='gbdt', class_weight=None, colsample_bytree=1.0,\n",
       "        device='cpu', importance_type='split', learning_rate=0.05,\n",
       "        max_depth=8, metric='auc', min_child_samples=20,\n",
       "        min_child_weight=0.001, min_split_gain=0.0, n_estimators=100,\n",
       "        n_jobs=-1, num_boost_round=200, num_iterations=4000, num_leaves=44,\n",
       "        num_threads=4, objective='binary', random_state=None,\n",
       "        reg_alpha=0.13232465491703205, reg_lambda=0.3189983143889408,\n",
       "        silent=True, subsample=1.0, subsample_for_bin=200000,\n",
       "        subsample_freq=0)"
      ]
     },
     "execution_count": 45,
     "metadata": {},
     "output_type": "execute_result"
    }
   ],
   "source": [
    "%%time\n",
    "clf_1.fit(X_res_1, y_res_1)"
   ]
  },
  {
   "cell_type": "code",
   "execution_count": 46,
   "metadata": {},
   "outputs": [
    {
     "name": "stdout",
     "output_type": "stream",
     "text": [
      "Wall time: 4min 8s\n"
     ]
    },
    {
     "data": {
      "text/plain": [
       "LGBMClassifier(boosting_type='gbdt', class_weight=None, colsample_bytree=1.0,\n",
       "        device='cpu', importance_type='split', learning_rate=0.05,\n",
       "        max_depth=8, metric='auc', min_child_samples=20,\n",
       "        min_child_weight=0.001, min_split_gain=0.0, n_estimators=100,\n",
       "        n_jobs=-1, num_boost_round=200, num_iterations=4000, num_leaves=44,\n",
       "        num_threads=4, objective='binary', random_state=None,\n",
       "        reg_alpha=0.029777838712649607, reg_lambda=0.2984579663785003,\n",
       "        silent=True, subsample=1.0, subsample_for_bin=200000,\n",
       "        subsample_freq=0)"
      ]
     },
     "execution_count": 46,
     "metadata": {},
     "output_type": "execute_result"
    }
   ],
   "source": [
    "%%time\n",
    "clf_2.fit(X_res_2, y_res_2)"
   ]
  },
  {
   "cell_type": "code",
   "execution_count": 52,
   "metadata": {},
   "outputs": [
    {
     "name": "stdout",
     "output_type": "stream",
     "text": [
      "Wall time: 1min 8s\n"
     ]
    }
   ],
   "source": [
    "%%time\n",
    "y_pred_0 = clf_0.predict(X_0_test)\n",
    "y_pred_1 = clf_1.predict(X_1_test)\n",
    "y_pred_2 = clf_2.predict(X_2_test)"
   ]
  },
  {
   "cell_type": "code",
   "execution_count": 53,
   "metadata": {},
   "outputs": [
    {
     "name": "stdout",
     "output_type": "stream",
     "text": [
      "0.40187012509620573\n",
      "0.2967655341541279\n",
      "0.5661416814697321\n"
     ]
    }
   ],
   "source": [
    "print(f1_score(y_0_test, y_pred_0))\n",
    "print(f1_score(y_1_test, y_pred_1))\n",
    "print(f1_score(y_2_test, y_pred_2))"
   ]
  },
  {
   "cell_type": "code",
   "execution_count": 55,
   "metadata": {},
   "outputs": [],
   "source": [
    "data_train = df_input_data[df_input_data['datetime'] < '2019-09-25']\n",
    "data_test = df_input_data[df_input_data['datetime'] >= '2019-09-25']\n",
    "X = data_train.drop(['target', 'datetime'], axis=1)\n",
    "y = data_train['target']"
   ]
  },
  {
   "cell_type": "code",
   "execution_count": 56,
   "metadata": {},
   "outputs": [],
   "source": [
    "%%time\n",
    "X_res_1, y_res_1 = sm.fit_resample(X, y)"
   ]
  },
  {
   "cell_type": "code",
   "execution_count": 1,
   "metadata": {},
   "outputs": [],
   "source": [
    "from mlxtend.classifier import StackingClassifier\n",
    "from sklearn.linear_model import LogisticRegression\n",
    "from sklearn.model_selection import cross_val_score\n",
    "import warnings\n",
    "\n",
    "warnings.simplefilter('ignore')\n",
    "\n",
    "lr = LogisticRegression()\n",
    "sclf = StackingClassifier(classifiers=[clf_0, clf_1, clf_2], \n",
    "                          meta_classifier=lr)\n",
    "\n",
    "print('3-fold cross validation:\\n')\n",
    "\n",
    "for clf, label in zip([clf_0, clf_1, clf_2, sclf], \n",
    "                      ['0', \n",
    "                       '1', \n",
    "                       '2',\n",
    "                       'StackingClassifier']):\n",
    "\n",
    "    scores = cross_val_score(clf, X_res_1, y_res_1, \n",
    "                                              cv=3, scoring='f1')\n",
    "    print(\"Accuracy: %0.2f (+/- %0.2f) [%s]\" \n",
    "          % (scores.mean(), scores.std(), label))"
   ]
  },
  {
   "cell_type": "code",
   "execution_count": null,
   "metadata": {},
   "outputs": [],
   "source": []
  },
  {
   "cell_type": "code",
   "execution_count": null,
   "metadata": {},
   "outputs": [],
   "source": []
  },
  {
   "cell_type": "code",
   "execution_count": null,
   "metadata": {},
   "outputs": [],
   "source": []
  },
  {
   "cell_type": "code",
   "execution_count": null,
   "metadata": {},
   "outputs": [],
   "source": []
  },
  {
   "cell_type": "code",
   "execution_count": null,
   "metadata": {},
   "outputs": [],
   "source": []
  },
  {
   "cell_type": "code",
   "execution_count": null,
   "metadata": {},
   "outputs": [],
   "source": []
  }
 ],
 "metadata": {
  "kernelspec": {
   "display_name": "Python 3",
   "language": "python",
   "name": "python3"
  },
  "language_info": {
   "codemirror_mode": {
    "name": "ipython",
    "version": 3
   },
   "file_extension": ".py",
   "mimetype": "text/x-python",
   "name": "python",
   "nbconvert_exporter": "python",
   "pygments_lexer": "ipython3",
   "version": "3.7.4"
  }
 },
 "nbformat": 4,
 "nbformat_minor": 4
}
