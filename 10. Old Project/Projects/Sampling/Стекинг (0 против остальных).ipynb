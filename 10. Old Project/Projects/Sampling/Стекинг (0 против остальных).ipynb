{
 "cells": [
  {
   "cell_type": "code",
   "execution_count": 1,
   "metadata": {},
   "outputs": [],
   "source": [
    "#import importlib\n",
    "#importlib.reload(training)"
   ]
  },
  {
   "cell_type": "code",
   "execution_count": 2,
   "metadata": {},
   "outputs": [],
   "source": [
    "#<module 'training' from '../../../../secondary_funcs/training.py'>"
   ]
  },
  {
   "cell_type": "code",
   "execution_count": 3,
   "metadata": {},
   "outputs": [],
   "source": [
    "from IPython.core.interactiveshell import InteractiveShell\n",
    "InteractiveShell.ast_node_interactivity = \"all\""
   ]
  },
  {
   "cell_type": "code",
   "execution_count": 4,
   "metadata": {},
   "outputs": [],
   "source": [
    "from pathlib import Path\n",
    "import sys\n",
    "sys.path.append('secondary_funcs/')\n",
    "\n",
    "#from data_preparation import get_final_data\n",
    "from result_analysis import get_scores\n",
    "from copy import deepcopy\n",
    "import training\n",
    "from result_analysis import predictions_to_classes"
   ]
  },
  {
   "cell_type": "code",
   "execution_count": 5,
   "metadata": {},
   "outputs": [],
   "source": [
    "import numpy as np\n",
    "import pandas as pd\n",
    "\n",
    "import matplotlib.pyplot as plt\n",
    "%matplotlib inline\n",
    "import seaborn as sns"
   ]
  },
  {
   "cell_type": "code",
   "execution_count": 6,
   "metadata": {},
   "outputs": [],
   "source": [
    "import lightgbm as lgb\n",
    "from sklearn.metrics import accuracy_score, precision_score, recall_score, confusion_matrix\n",
    "from bayes_opt import BayesianOptimization\n",
    "\n",
    "from wiseml.feature_engineering.wt_ohlc.wt_volatility import add_volatility\n",
    "\n",
    "from wiseml.feature_engineering.ohlc import OHLCIndicatorsFeatureEngineer\n",
    "from wiseml.validation.purged_k_fold import PurgedKFold\n",
    "\n",
    "from wiseml.feature_engineering.wt_ohlc import add_volatility"
   ]
  },
  {
   "cell_type": "markdown",
   "metadata": {},
   "source": [
    "## Data preparation"
   ]
  },
  {
   "cell_type": "code",
   "execution_count": 7,
   "metadata": {},
   "outputs": [],
   "source": [
    "PATH_DATA = Path('../../../data/main_data/with_features/')"
   ]
  },
  {
   "cell_type": "markdown",
   "metadata": {},
   "source": [
    "## Data loading"
   ]
  },
  {
   "cell_type": "code",
   "execution_count": 8,
   "metadata": {},
   "outputs": [
    {
     "name": "stdout",
     "output_type": "stream",
     "text": [
      "Wall time: 14.9 s\n"
     ]
    }
   ],
   "source": [
    "%%time\n",
    "data = pd.read_csv('data_for_boosting.csv')"
   ]
  },
  {
   "cell_type": "code",
   "execution_count": 9,
   "metadata": {},
   "outputs": [
    {
     "data": {
      "text/plain": [
       "(823422, 125)"
      ]
     },
     "execution_count": 9,
     "metadata": {},
     "output_type": "execute_result"
    }
   ],
   "source": [
    "data.shape"
   ]
  },
  {
   "cell_type": "code",
   "execution_count": 10,
   "metadata": {},
   "outputs": [
    {
     "name": "stdout",
     "output_type": "stream",
     "text": [
      "<class 'pandas.core.frame.DataFrame'>\n",
      "RangeIndex: 823422 entries, 0 to 823421\n",
      "Columns: 125 entries, volatility_atr to target\n",
      "dtypes: float64(119), int64(5), object(1)\n",
      "memory usage: 785.3+ MB\n"
     ]
    }
   ],
   "source": [
    "data.info()"
   ]
  },
  {
   "cell_type": "code",
   "execution_count": 11,
   "metadata": {},
   "outputs": [
    {
     "data": {
      "text/html": [
       "<div>\n",
       "<style scoped>\n",
       "    .dataframe tbody tr th:only-of-type {\n",
       "        vertical-align: middle;\n",
       "    }\n",
       "\n",
       "    .dataframe tbody tr th {\n",
       "        vertical-align: top;\n",
       "    }\n",
       "\n",
       "    .dataframe thead th {\n",
       "        text-align: right;\n",
       "    }\n",
       "</style>\n",
       "<table border=\"1\" class=\"dataframe\">\n",
       "  <thead>\n",
       "    <tr style=\"text-align: right;\">\n",
       "      <th></th>\n",
       "      <th>volatility_atr</th>\n",
       "      <th>volume_adi</th>\n",
       "      <th>momentum_tsi</th>\n",
       "      <th>momentum_rsi</th>\n",
       "      <th>momentum_stoch</th>\n",
       "      <th>momentum_wr</th>\n",
       "      <th>returns_lag_1</th>\n",
       "      <th>minute</th>\n",
       "      <th>value__fft_coefficient__coeff_0__attr_\"abs\"</th>\n",
       "      <th>close_returns_log</th>\n",
       "      <th>...</th>\n",
       "      <th>value__fft_coefficient__coeff_2__attr_\"angle\"</th>\n",
       "      <th>value__fft_coefficient__coeff_8__attr_\"abs\"</th>\n",
       "      <th>value__number_crossing_m__m_0</th>\n",
       "      <th>value__c3__lag_2</th>\n",
       "      <th>value__fft_aggregated__aggtype_\"variance\"</th>\n",
       "      <th>returns_25</th>\n",
       "      <th>returns_16</th>\n",
       "      <th>returns_26</th>\n",
       "      <th>datetime</th>\n",
       "      <th>target</th>\n",
       "    </tr>\n",
       "  </thead>\n",
       "  <tbody>\n",
       "    <tr>\n",
       "      <th>0</th>\n",
       "      <td>2.232631</td>\n",
       "      <td>-62.084025</td>\n",
       "      <td>1.334591</td>\n",
       "      <td>76.659155</td>\n",
       "      <td>96.774194</td>\n",
       "      <td>-3.225806</td>\n",
       "      <td>0.000282</td>\n",
       "      <td>11</td>\n",
       "      <td>0.000283</td>\n",
       "      <td>0.000000</td>\n",
       "      <td>...</td>\n",
       "      <td>162.231277</td>\n",
       "      <td>0.000309</td>\n",
       "      <td>26.0</td>\n",
       "      <td>-1.148034e-15</td>\n",
       "      <td>205.975487</td>\n",
       "      <td>0.001553</td>\n",
       "      <td>0.000470</td>\n",
       "      <td>0.001506</td>\n",
       "      <td>2019-07-21 05:11:34.542501</td>\n",
       "      <td>2</td>\n",
       "    </tr>\n",
       "    <tr>\n",
       "      <th>1</th>\n",
       "      <td>2.108871</td>\n",
       "      <td>-91.595042</td>\n",
       "      <td>2.166042</td>\n",
       "      <td>73.108003</td>\n",
       "      <td>93.548387</td>\n",
       "      <td>-6.451613</td>\n",
       "      <td>0.000000</td>\n",
       "      <td>11</td>\n",
       "      <td>0.000309</td>\n",
       "      <td>-0.000005</td>\n",
       "      <td>...</td>\n",
       "      <td>170.244199</td>\n",
       "      <td>0.000323</td>\n",
       "      <td>27.0</td>\n",
       "      <td>-1.255613e-15</td>\n",
       "      <td>210.047304</td>\n",
       "      <td>0.001742</td>\n",
       "      <td>0.000329</td>\n",
       "      <td>0.001506</td>\n",
       "      <td>2019-07-21 05:11:47.914567</td>\n",
       "      <td>2</td>\n",
       "    </tr>\n",
       "    <tr>\n",
       "      <th>2</th>\n",
       "      <td>1.993952</td>\n",
       "      <td>7.445769</td>\n",
       "      <td>2.978572</td>\n",
       "      <td>74.472467</td>\n",
       "      <td>96.774194</td>\n",
       "      <td>-3.225806</td>\n",
       "      <td>-0.000047</td>\n",
       "      <td>13</td>\n",
       "      <td>0.000324</td>\n",
       "      <td>0.000005</td>\n",
       "      <td>...</td>\n",
       "      <td>177.708002</td>\n",
       "      <td>0.000337</td>\n",
       "      <td>26.0</td>\n",
       "      <td>-1.263754e-15</td>\n",
       "      <td>208.077874</td>\n",
       "      <td>0.001553</td>\n",
       "      <td>0.000376</td>\n",
       "      <td>0.001789</td>\n",
       "      <td>2019-07-21 05:13:10.418727</td>\n",
       "      <td>2</td>\n",
       "    </tr>\n",
       "    <tr>\n",
       "      <th>3</th>\n",
       "      <td>1.887241</td>\n",
       "      <td>-7.635162</td>\n",
       "      <td>3.664410</td>\n",
       "      <td>70.353641</td>\n",
       "      <td>93.548387</td>\n",
       "      <td>-6.451613</td>\n",
       "      <td>0.000047</td>\n",
       "      <td>14</td>\n",
       "      <td>0.000238</td>\n",
       "      <td>-0.000005</td>\n",
       "      <td>...</td>\n",
       "      <td>-175.508700</td>\n",
       "      <td>0.000251</td>\n",
       "      <td>27.0</td>\n",
       "      <td>-1.069922e-15</td>\n",
       "      <td>198.635245</td>\n",
       "      <td>0.001506</td>\n",
       "      <td>0.000329</td>\n",
       "      <td>0.001506</td>\n",
       "      <td>2019-07-21 05:14:15.642770</td>\n",
       "      <td>2</td>\n",
       "    </tr>\n",
       "    <tr>\n",
       "      <th>4</th>\n",
       "      <td>1.788152</td>\n",
       "      <td>-41.643470</td>\n",
       "      <td>4.293392</td>\n",
       "      <td>70.353641</td>\n",
       "      <td>93.333333</td>\n",
       "      <td>-6.666667</td>\n",
       "      <td>-0.000047</td>\n",
       "      <td>15</td>\n",
       "      <td>0.000243</td>\n",
       "      <td>0.000000</td>\n",
       "      <td>...</td>\n",
       "      <td>-168.356315</td>\n",
       "      <td>0.000255</td>\n",
       "      <td>28.0</td>\n",
       "      <td>-1.061785e-15</td>\n",
       "      <td>198.425571</td>\n",
       "      <td>0.001459</td>\n",
       "      <td>0.000705</td>\n",
       "      <td>0.001506</td>\n",
       "      <td>2019-07-21 05:15:13.977721</td>\n",
       "      <td>2</td>\n",
       "    </tr>\n",
       "  </tbody>\n",
       "</table>\n",
       "<p>5 rows × 125 columns</p>\n",
       "</div>"
      ],
      "text/plain": [
       "   volatility_atr  volume_adi  momentum_tsi  momentum_rsi  momentum_stoch  \\\n",
       "0        2.232631  -62.084025      1.334591     76.659155       96.774194   \n",
       "1        2.108871  -91.595042      2.166042     73.108003       93.548387   \n",
       "2        1.993952    7.445769      2.978572     74.472467       96.774194   \n",
       "3        1.887241   -7.635162      3.664410     70.353641       93.548387   \n",
       "4        1.788152  -41.643470      4.293392     70.353641       93.333333   \n",
       "\n",
       "   momentum_wr  returns_lag_1  minute  \\\n",
       "0    -3.225806       0.000282      11   \n",
       "1    -6.451613       0.000000      11   \n",
       "2    -3.225806      -0.000047      13   \n",
       "3    -6.451613       0.000047      14   \n",
       "4    -6.666667      -0.000047      15   \n",
       "\n",
       "   value__fft_coefficient__coeff_0__attr_\"abs\"  close_returns_log  ...  \\\n",
       "0                                     0.000283           0.000000  ...   \n",
       "1                                     0.000309          -0.000005  ...   \n",
       "2                                     0.000324           0.000005  ...   \n",
       "3                                     0.000238          -0.000005  ...   \n",
       "4                                     0.000243           0.000000  ...   \n",
       "\n",
       "   value__fft_coefficient__coeff_2__attr_\"angle\"  \\\n",
       "0                                     162.231277   \n",
       "1                                     170.244199   \n",
       "2                                     177.708002   \n",
       "3                                    -175.508700   \n",
       "4                                    -168.356315   \n",
       "\n",
       "   value__fft_coefficient__coeff_8__attr_\"abs\"  value__number_crossing_m__m_0  \\\n",
       "0                                     0.000309                           26.0   \n",
       "1                                     0.000323                           27.0   \n",
       "2                                     0.000337                           26.0   \n",
       "3                                     0.000251                           27.0   \n",
       "4                                     0.000255                           28.0   \n",
       "\n",
       "   value__c3__lag_2  value__fft_aggregated__aggtype_\"variance\"  returns_25  \\\n",
       "0     -1.148034e-15                                 205.975487    0.001553   \n",
       "1     -1.255613e-15                                 210.047304    0.001742   \n",
       "2     -1.263754e-15                                 208.077874    0.001553   \n",
       "3     -1.069922e-15                                 198.635245    0.001506   \n",
       "4     -1.061785e-15                                 198.425571    0.001459   \n",
       "\n",
       "   returns_16  returns_26                    datetime  target  \n",
       "0    0.000470    0.001506  2019-07-21 05:11:34.542501       2  \n",
       "1    0.000329    0.001506  2019-07-21 05:11:47.914567       2  \n",
       "2    0.000376    0.001789  2019-07-21 05:13:10.418727       2  \n",
       "3    0.000329    0.001506  2019-07-21 05:14:15.642770       2  \n",
       "4    0.000705    0.001506  2019-07-21 05:15:13.977721       2  \n",
       "\n",
       "[5 rows x 125 columns]"
      ]
     },
     "execution_count": 11,
     "metadata": {},
     "output_type": "execute_result"
    }
   ],
   "source": [
    "data.head()"
   ]
  },
  {
   "cell_type": "code",
   "execution_count": 12,
   "metadata": {},
   "outputs": [],
   "source": [
    "data_0_vs_other = deepcopy(data)\n",
    "data_0_vs_other['target'].replace([1, 2], -1, inplace=True)\n",
    "data = deepcopy(data_0_vs_other)"
   ]
  },
  {
   "cell_type": "code",
   "execution_count": 13,
   "metadata": {},
   "outputs": [
    {
     "data": {
      "text/plain": [
       "0        -1\n",
       "1        -1\n",
       "2        -1\n",
       "3        -1\n",
       "4        -1\n",
       "         ..\n",
       "823417    0\n",
       "823418    0\n",
       "823419    0\n",
       "823420    0\n",
       "823421    0\n",
       "Name: target, Length: 823422, dtype: int64"
      ]
     },
     "execution_count": 13,
     "metadata": {},
     "output_type": "execute_result"
    }
   ],
   "source": [
    "data['target']"
   ]
  },
  {
   "cell_type": "markdown",
   "metadata": {},
   "source": [
    "## Split data to train and test sets"
   ]
  },
  {
   "cell_type": "code",
   "execution_count": 14,
   "metadata": {},
   "outputs": [],
   "source": [
    "data_train = data[data['datetime'] < '2019-09-25']\n",
    "data_test = data[data['datetime'] >= '2019-09-25']\n",
    "\n",
    "del data"
   ]
  },
  {
   "cell_type": "markdown",
   "metadata": {},
   "source": [
    "## Target distribution"
   ]
  },
  {
   "cell_type": "code",
   "execution_count": 15,
   "metadata": {},
   "outputs": [
    {
     "data": {
      "image/png": "[encoded data removed]",
      "text/plain": [
       "<Figure size 1152x864 with 4 Axes>"
      ]
     },
     "metadata": {
      "needs_background": "light"
     },
     "output_type": "display_data"
    }
   ],
   "source": [
    "plt.figure(figsize=(16, 12))\n",
    "y_max = 300000\n",
    "\n",
    "plt.subplot(221)\n",
    "plt.title('Train')\n",
    "plt.ylim([0,y_max])\n",
    "sns.countplot(data_train['target'], order=[1, 0, 2]);\n",
    "\n",
    "plt.subplot(222)\n",
    "plt.title('Test')\n",
    "plt.ylim([0,y_max])\n",
    "sns.countplot(data_test['target'], order=[1, 0, 2]);\n",
    "\n",
    "plt.subplot(223)\n",
    "plt.title('Train train')\n",
    "plt.ylim([0,y_max])\n",
    "sns.countplot(data_train['target'].iloc[:int(data_train.shape[0] * 0.7)], order=[1, 0, 2]);\n",
    "\n",
    "plt.subplot(224)\n",
    "plt.title('Train valid')\n",
    "plt.ylim([0,y_max])\n",
    "sns.countplot(data_train['target'].iloc[int(data_train.shape[0] * 0.7):], order=[1, 0, 2]);"
   ]
  },
  {
   "cell_type": "code",
   "execution_count": 16,
   "metadata": {
    "scrolled": true
   },
   "outputs": [
    {
     "data": {
      "text/plain": [
       "-1    0.644381\n",
       " 0    0.355619\n",
       "Name: target, dtype: float64"
      ]
     },
     "execution_count": 16,
     "metadata": {},
     "output_type": "execute_result"
    }
   ],
   "source": [
    "data_test['target'].value_counts(normalize=True)"
   ]
  },
  {
   "cell_type": "markdown",
   "metadata": {},
   "source": [
    "## Preparing train and test dataframes"
   ]
  },
  {
   "cell_type": "code",
   "execution_count": 17,
   "metadata": {},
   "outputs": [],
   "source": [
    "X = data_train.drop(['target', 'datetime'], axis=1)\n",
    "y = data_train['target']\n",
    "\n",
    "X_test = data_test.drop(['target', 'datetime'], axis=1)\n",
    "y_test = data_test['target']\n",
    "\n",
    "del data_train\n",
    "del data_test"
   ]
  },
  {
   "cell_type": "code",
   "execution_count": 18,
   "metadata": {},
   "outputs": [
    {
     "data": {
      "text/plain": [
       "array([-1,  0], dtype=int64)"
      ]
     },
     "execution_count": 18,
     "metadata": {},
     "output_type": "execute_result"
    }
   ],
   "source": [
    "y.unique()"
   ]
  },
  {
   "cell_type": "code",
   "execution_count": 19,
   "metadata": {},
   "outputs": [
    {
     "data": {
      "text/plain": [
       "177470"
      ]
     },
     "execution_count": 19,
     "metadata": {},
     "output_type": "execute_result"
    },
    {
     "data": {
      "text/plain": [
       "314190"
      ]
     },
     "execution_count": 19,
     "metadata": {},
     "output_type": "execute_result"
    }
   ],
   "source": [
    "sum(y == 0)\n",
    "sum(y == -1)"
   ]
  },
  {
   "cell_type": "code",
   "execution_count": 20,
   "metadata": {},
   "outputs": [],
   "source": [
    "y = y.replace({0:1})\n",
    "y = y.replace({-1:0})"
   ]
  },
  {
   "cell_type": "code",
   "execution_count": 21,
   "metadata": {},
   "outputs": [
    {
     "data": {
      "text/plain": [
       "array([0, 1], dtype=int64)"
      ]
     },
     "execution_count": 21,
     "metadata": {},
     "output_type": "execute_result"
    }
   ],
   "source": [
    "y.unique()"
   ]
  },
  {
   "cell_type": "code",
   "execution_count": 22,
   "metadata": {},
   "outputs": [
    {
     "data": {
      "text/plain": [
       "177470"
      ]
     },
     "execution_count": 22,
     "metadata": {},
     "output_type": "execute_result"
    },
    {
     "data": {
      "text/plain": [
       "314190"
      ]
     },
     "execution_count": 22,
     "metadata": {},
     "output_type": "execute_result"
    }
   ],
   "source": [
    "sum(y == 1)\n",
    "sum(y == 0)"
   ]
  },
  {
   "cell_type": "markdown",
   "metadata": {},
   "source": [
    "# Funcs"
   ]
  },
  {
   "cell_type": "markdown",
   "metadata": {},
   "source": [
    "## Evaluation func (for hyperparameters)"
   ]
  },
  {
   "cell_type": "code",
   "execution_count": 23,
   "metadata": {},
   "outputs": [],
   "source": [
    "def lgb_train(max_depth,\n",
    "             feature_fraction,\n",
    "             bagging_fraction,\n",
    "             lambda_l1,\n",
    "             lambda_l2,\n",
    "             num_leaves,\n",
    "             min_child_samples,\n",
    "             min_gain_to_split\n",
    "            ):\n",
    "\n",
    "    model_params = {'max_depth': int(max_depth),\n",
    "                    'feature_fraction': feature_fraction,\n",
    "                    'bagging_fraction': bagging_fraction,\n",
    "                    'lambda_l1': lambda_l1,\n",
    "                    'lambda_l2': lambda_l2,\n",
    "                    'num_leaves': int(num_leaves),                \n",
    "                    'min_child_samples': int(min_child_samples),\n",
    "                    'min_gain_to_split': min_gain_to_split\n",
    "                   }\n",
    "    \n",
    "    optim_params = {'num_boost_round': 10000,\n",
    "                    'learning_rate': 0.01,\n",
    "                    'early_stopping_rounds': 300,\n",
    "                    'verbose_eval': 100\n",
    "                   }\n",
    "\n",
    "\n",
    "    task_params = {'objective': 'binary',\n",
    "                   'num_class': 1,\n",
    "                   'metric': 'auc'\n",
    "                  }\n",
    "    device_params = {'device': 'cpu',\n",
    "#                       'gpu_platform_id': 0,\n",
    "#                       'gpu_device_id': 0,\n",
    "#                       'max_bin': 255,\n",
    "#                       'num_threads': 6\n",
    "                    }\n",
    "\n",
    "    \n",
    "    return training.lgb_train(X_res, pd.Series(y_res), train_part=0.7733253343318419, optim_params=optim_params, model_params=model_params, task_params=task_params, device_params=device_params)"
   ]
  },
  {
   "cell_type": "code",
   "execution_count": 24,
   "metadata": {},
   "outputs": [],
   "source": [
    "def lgb_eval(max_depth,\n",
    "             feature_fraction,\n",
    "             bagging_fraction,\n",
    "             lambda_l1,\n",
    "             lambda_l2,\n",
    "             num_leaves,\n",
    "             min_child_samples,\n",
    "             min_gain_to_split\n",
    "            ):\n",
    "\n",
    "    model_params = {'max_depth': int(max_depth),\n",
    "                    'feature_fraction': feature_fraction,\n",
    "                    'bagging_fraction': bagging_fraction,\n",
    "                    'lambda_l1': lambda_l1,\n",
    "                    'lambda_l2': lambda_l2,\n",
    "                    'num_leaves': int(num_leaves),                \n",
    "                    'min_child_samples': int(min_child_samples),\n",
    "                    'min_gain_to_split': min_gain_to_split\n",
    "                   }\n",
    "    \n",
    "\n",
    "    optim_params = {'num_boost_round': 200,\n",
    "                    'learning_rate': 0.1,\n",
    "                    'early_stopping_rounds': 50,\n",
    "                    'verbose_eval': 0\n",
    "                   }\n",
    "\n",
    "    task_params = {'objective': 'binary',\n",
    "                   'num_class': 1,\n",
    "                   'metric': 'auc'\n",
    "                  }\n",
    "    \n",
    "    device_params = {'device': 'cpu',\n",
    "#                       'gpu_platform_id': 0,\n",
    "#                       'gpu_device_id': 0,\n",
    "#                       'max_bin': 63,\n",
    "#                       'num_threads': 6\n",
    "                    }\n",
    "    \n",
    "    return training.lgb_train(X, pd.Series(y), optim_params=optim_params, model_params=model_params, task_params=task_params, device_params=device_params, tuning=True)"
   ]
  },
  {
   "cell_type": "markdown",
   "metadata": {},
   "source": [
    "## Hyperparam tuning func (Bayesian opt)"
   ]
  },
  {
   "cell_type": "code",
   "execution_count": 25,
   "metadata": {},
   "outputs": [],
   "source": [
    "def param_tuning(init_points, num_iter, **args):\n",
    "    \n",
    "    lgbBO = BayesianOptimization(lgb_eval, {'max_depth': (7, 14),\n",
    "                                            'feature_fraction': (0.4, 1),\n",
    "                                            'bagging_fraction': (0.4, 1),\n",
    "                                            'lambda_l1': (0.0, 0.1),\n",
    "                                            'lambda_l2': (0.0, 0.1),\n",
    "                                            'num_leaves': (128, 12000),\n",
    "                                            'min_child_samples': (1000, 10000),\n",
    "                                            'min_gain_to_split': (0, 0),\n",
    "                                            })\n",
    "    \n",
    "    lgbBO.maximize(init_points=init_points, n_iter=num_iter, **args)\n",
    "    return lgbBO"
   ]
  },
  {
   "cell_type": "markdown",
   "metadata": {},
   "source": [
    "## Hyperparam tuning"
   ]
  },
  {
   "cell_type": "code",
   "execution_count": 26,
   "metadata": {},
   "outputs": [],
   "source": [
    "import warnings\n",
    "warnings.simplefilter(\"ignore\")"
   ]
  },
  {
   "cell_type": "code",
   "execution_count": 27,
   "metadata": {},
   "outputs": [],
   "source": [
    "X.columns = [\"\".join (c if c.isalnum() else \"_\" for c in str(x)) for x in X.columns]"
   ]
  },
  {
   "cell_type": "code",
   "execution_count": 28,
   "metadata": {},
   "outputs": [],
   "source": [
    "X_test.columns = [\"\".join (c if c.isalnum() else \"_\" for c in str(x)) for x in X_test.columns]"
   ]
  },
  {
   "cell_type": "code",
   "execution_count": 29,
   "metadata": {
    "scrolled": true
   },
   "outputs": [
    {
     "name": "stdout",
     "output_type": "stream",
     "text": [
      "|   iter    |  target   | baggin... | featur... | lambda_l1 | lambda_l2 | max_depth | min_ch... | min_ga... | num_le... |\n",
      "-------------------------------------------------------------------------------------------------------------------------\n",
      "| \u001b[0m 1       \u001b[0m | \u001b[0m 0.7256  \u001b[0m | \u001b[0m 0.7996  \u001b[0m | \u001b[0m 0.7737  \u001b[0m | \u001b[0m 0.02391 \u001b[0m | \u001b[0m 0.000345\u001b[0m | \u001b[0m 13.9    \u001b[0m | \u001b[0m 9.666e+0\u001b[0m | \u001b[0m 0.0     \u001b[0m | \u001b[0m 8.809e+0\u001b[0m |\n",
      "| \u001b[0m 2       \u001b[0m | \u001b[0m 0.7251  \u001b[0m | \u001b[0m 0.8329  \u001b[0m | \u001b[0m 0.9135  \u001b[0m | \u001b[0m 0.09003 \u001b[0m | \u001b[0m 0.08277 \u001b[0m | \u001b[0m 8.348   \u001b[0m | \u001b[0m 1.164e+0\u001b[0m | \u001b[0m 0.0     \u001b[0m | \u001b[0m 6.256e+0\u001b[0m |\n",
      "| \u001b[0m 3       \u001b[0m | \u001b[0m 0.7254  \u001b[0m | \u001b[0m 0.681   \u001b[0m | \u001b[0m 0.501   \u001b[0m | \u001b[0m 0.08807 \u001b[0m | \u001b[0m 0.06305 \u001b[0m | \u001b[0m 8.81    \u001b[0m | \u001b[0m 7.712e+0\u001b[0m | \u001b[0m 0.0     \u001b[0m | \u001b[0m 9.307e+0\u001b[0m |\n",
      "| \u001b[0m 4       \u001b[0m | \u001b[0m 0.725   \u001b[0m | \u001b[0m 0.6161  \u001b[0m | \u001b[0m 0.9166  \u001b[0m | \u001b[0m 0.09562 \u001b[0m | \u001b[0m 0.03249 \u001b[0m | \u001b[0m 8.055   \u001b[0m | \u001b[0m 9.991e+0\u001b[0m | \u001b[0m 0.0     \u001b[0m | \u001b[0m 131.7   \u001b[0m |\n",
      "| \u001b[0m 5       \u001b[0m | \u001b[0m 0.7241  \u001b[0m | \u001b[0m 0.7571  \u001b[0m | \u001b[0m 0.4617  \u001b[0m | \u001b[0m 0.0548  \u001b[0m | \u001b[0m 0.0216  \u001b[0m | \u001b[0m 12.74   \u001b[0m | \u001b[0m 1.007e+0\u001b[0m | \u001b[0m 0.0     \u001b[0m | \u001b[0m 1.198e+0\u001b[0m |\n",
      "| \u001b[0m 6       \u001b[0m | \u001b[0m 0.7253  \u001b[0m | \u001b[0m 0.4837  \u001b[0m | \u001b[0m 0.802   \u001b[0m | \u001b[0m 0.04634 \u001b[0m | \u001b[0m 0.046   \u001b[0m | \u001b[0m 7.826   \u001b[0m | \u001b[0m 1.014e+0\u001b[0m | \u001b[0m 0.0     \u001b[0m | \u001b[0m 136.5   \u001b[0m |\n",
      "| \u001b[0m 7       \u001b[0m | \u001b[0m 0.7254  \u001b[0m | \u001b[0m 0.6026  \u001b[0m | \u001b[0m 0.7789  \u001b[0m | \u001b[0m 0.04463 \u001b[0m | \u001b[0m 0.01628 \u001b[0m | \u001b[0m 13.84   \u001b[0m | \u001b[0m 9.964e+0\u001b[0m | \u001b[0m 0.0     \u001b[0m | \u001b[0m 1.199e+0\u001b[0m |\n",
      "| \u001b[0m 8       \u001b[0m | \u001b[0m 0.7255  \u001b[0m | \u001b[0m 0.7939  \u001b[0m | \u001b[0m 0.8174  \u001b[0m | \u001b[0m 0.01223 \u001b[0m | \u001b[0m 0.06554 \u001b[0m | \u001b[0m 13.9    \u001b[0m | \u001b[0m 5.374e+0\u001b[0m | \u001b[0m 0.0     \u001b[0m | \u001b[0m 146.7   \u001b[0m |\n",
      "=========================================================================================================================\n",
      "Wall time: 14min 33s\n"
     ]
    }
   ],
   "source": [
    "%%time\n",
    "bayesian_tun = param_tuning(3, 5)"
   ]
  },
  {
   "cell_type": "code",
   "execution_count": 30,
   "metadata": {},
   "outputs": [],
   "source": [
    "params = bayesian_tun.max['params']"
   ]
  },
  {
   "cell_type": "code",
   "execution_count": 31,
   "metadata": {},
   "outputs": [
    {
     "data": {
      "text/plain": [
       "{'bagging_fraction': 0.7996499294524465,\n",
       " 'feature_fraction': 0.773661254808264,\n",
       " 'lambda_l1': 0.02390945461267915,\n",
       " 'lambda_l2': 0.00034551671852811605,\n",
       " 'max_depth': 13.900026740021179,\n",
       " 'min_child_samples': 9666.123130671069,\n",
       " 'min_gain_to_split': 0.0,\n",
       " 'num_leaves': 8809.281093961652}"
      ]
     },
     "execution_count": 31,
     "metadata": {},
     "output_type": "execute_result"
    }
   ],
   "source": [
    "params"
   ]
  },
  {
   "cell_type": "markdown",
   "metadata": {},
   "source": [
    "# Oversampling"
   ]
  },
  {
   "cell_type": "code",
   "execution_count": 32,
   "metadata": {},
   "outputs": [],
   "source": [
    "from imblearn.over_sampling import SMOTE\n",
    "from collections import Counter"
   ]
  },
  {
   "cell_type": "code",
   "execution_count": 34,
   "metadata": {},
   "outputs": [],
   "source": [
    "point = int(len(X) * 0.7)"
   ]
  },
  {
   "cell_type": "code",
   "execution_count": 35,
   "metadata": {},
   "outputs": [
    {
     "name": "stdout",
     "output_type": "stream",
     "text": [
      "Resampled dataset shape Counter({0: 238205, 1: 238205})\n"
     ]
    }
   ],
   "source": [
    "X_res_1, y_res_1 = sm.fit_resample(X.iloc[:point, :], y[:point])\n",
    "print('Resampled dataset shape %s' % Counter(y_res_1))"
   ]
  },
  {
   "cell_type": "code",
   "execution_count": 36,
   "metadata": {},
   "outputs": [],
   "source": [
    "X_res = pd.DataFrame(X_res_1, columns=X.columns)"
   ]
  },
  {
   "cell_type": "code",
   "execution_count": 37,
   "metadata": {},
   "outputs": [],
   "source": [
    "X_res = X_res.append(X.iloc[point:, :])\n",
    "y_res = pd.Series(y_res_1).append(y[point:])"
   ]
  },
  {
   "cell_type": "code",
   "execution_count": 38,
   "metadata": {},
   "outputs": [
    {
     "data": {
      "text/plain": [
       "0.7635901447008213"
      ]
     },
     "execution_count": 38,
     "metadata": {},
     "output_type": "execute_result"
    }
   ],
   "source": [
    "len(X_res_1) / len(X_res)"
   ]
  },
  {
   "cell_type": "code",
   "execution_count": 39,
   "metadata": {},
   "outputs": [
    {
     "data": {
      "text/plain": [
       "<matplotlib.axes._subplots.AxesSubplot at 0x1e7caab0f60>"
      ]
     },
     "execution_count": 39,
     "metadata": {},
     "output_type": "execute_result"
    },
    {
     "data": {
      "image/png": "[encoded data removed]",
      "text/plain": [
       "<Figure size 432x288 with 1 Axes>"
      ]
     },
     "metadata": {
      "needs_background": "light"
     },
     "output_type": "display_data"
    }
   ],
   "source": [
    "sns.countplot(y_res[:int(len(y_res) * 0.782504)])"
   ]
  },
  {
   "cell_type": "code",
   "execution_count": 40,
   "metadata": {},
   "outputs": [
    {
     "data": {
      "text/plain": [
       "0    0.503584\n",
       "1    0.496416\n",
       "dtype: float64"
      ]
     },
     "execution_count": 40,
     "metadata": {},
     "output_type": "execute_result"
    }
   ],
   "source": [
    "y_res.value_counts(normalize=True)"
   ]
  },
  {
   "cell_type": "markdown",
   "metadata": {},
   "source": [
    "# Model training"
   ]
  },
  {
   "cell_type": "code",
   "execution_count": 41,
   "metadata": {},
   "outputs": [],
   "source": [
    "params = {'bagging_fraction': 0.612597911312686,\n",
    " 'feature_fraction': 0.5623226633160302,\n",
    " 'lambda_l1': 0.00047107687613179294,\n",
    " 'lambda_l2': 0.01359749662288301,\n",
    " 'max_depth': 14.220787633196979,\n",
    " 'min_child_samples': 1103.1080006183051,\n",
    " 'min_gain_to_split': 0.0,\n",
    " 'num_leaves': 12550.527293636744}"
   ]
  },
  {
   "cell_type": "code",
   "execution_count": 42,
   "metadata": {},
   "outputs": [
    {
     "data": {
      "text/plain": [
       "{'bagging_fraction': 0.612597911312686,\n",
       " 'feature_fraction': 0.5623226633160302,\n",
       " 'lambda_l1': 0.00047107687613179294,\n",
       " 'lambda_l2': 0.01359749662288301,\n",
       " 'max_depth': 14.220787633196979,\n",
       " 'min_child_samples': 1103.1080006183051,\n",
       " 'min_gain_to_split': 0.0,\n",
       " 'num_leaves': 12550.527293636744}"
      ]
     },
     "execution_count": 42,
     "metadata": {},
     "output_type": "execute_result"
    }
   ],
   "source": [
    "params"
   ]
  },
  {
   "cell_type": "code",
   "execution_count": 43,
   "metadata": {},
   "outputs": [],
   "source": [
    "params_my = params\n",
    "params_my['feature_fraction'] = 1\n",
    "#params_my['num_leaves'] = 17000\n",
    "#params_my['min_child_samples'] = 280"
   ]
  },
  {
   "cell_type": "code",
   "execution_count": 54,
   "metadata": {},
   "outputs": [
    {
     "name": "stdout",
     "output_type": "stream",
     "text": [
      "Training until validation scores don't improve for 300 rounds.\n",
      "[100]\ttrain's auc: 0.82586\tvalid's auc: 0.745103\n",
      "[200]\ttrain's auc: 0.857873\tvalid's auc: 0.749203\n",
      "[300]\ttrain's auc: 0.878252\tvalid's auc: 0.750102\n",
      "[400]\ttrain's auc: 0.890579\tvalid's auc: 0.751005\n",
      "[500]\ttrain's auc: 0.899693\tvalid's auc: 0.750981\n",
      "[600]\ttrain's auc: 0.905852\tvalid's auc: 0.75104\n",
      "[700]\ttrain's auc: 0.910245\tvalid's auc: 0.750951\n",
      "[800]\ttrain's auc: 0.914017\tvalid's auc: 0.75062\n",
      "[900]\ttrain's auc: 0.917665\tvalid's auc: 0.750023\n",
      "Early stopping, best iteration is:\n",
      "[641]\ttrain's auc: 0.907609\tvalid's auc: 0.751107\n",
      "Wall time: 4min 15s\n"
     ]
    }
   ],
   "source": [
    "%%time\n",
    "model = lgb_train(**params)"
   ]
  },
  {
   "cell_type": "code",
   "execution_count": 45,
   "metadata": {},
   "outputs": [
    {
     "data": {
      "text/plain": [
       "<lightgbm.basic.Booster at 0x1e7caaaf4e0>"
      ]
     },
     "execution_count": 45,
     "metadata": {},
     "output_type": "execute_result"
    }
   ],
   "source": [
    "model"
   ]
  },
  {
   "cell_type": "code",
   "execution_count": 53,
   "metadata": {},
   "outputs": [],
   "source": [
    "from mlxtend.classifier import StackingClassifier\n",
    "from sklearn import model_selection\n",
    "from sklearn.linear_model import LogisticRegression\n",
    "from sklearn.neighbors import KNeighborsClassifier\n",
    "from sklearn.ensemble import RandomForestClassifier\n",
    "from mlxtend.classifier import StackingClassifier\n"
   ]
  },
  {
   "cell_type": "code",
   "execution_count": 51,
   "metadata": {},
   "outputs": [
    {
     "name": "stdout",
     "output_type": "stream",
     "text": [
      "Training until validation scores don't improve for 300 rounds.\n",
      "[100]\ttrain's auc: 0.82586\tvalid's auc: 0.745103\n",
      "[200]\ttrain's auc: 0.857873\tvalid's auc: 0.749203\n",
      "[300]\ttrain's auc: 0.878252\tvalid's auc: 0.750102\n",
      "[400]\ttrain's auc: 0.890579\tvalid's auc: 0.751005\n",
      "[500]\ttrain's auc: 0.899693\tvalid's auc: 0.750981\n",
      "[600]\ttrain's auc: 0.905852\tvalid's auc: 0.75104\n",
      "[700]\ttrain's auc: 0.910245\tvalid's auc: 0.750951\n",
      "[800]\ttrain's auc: 0.914017\tvalid's auc: 0.75062\n",
      "[900]\ttrain's auc: 0.917665\tvalid's auc: 0.750023\n",
      "Early stopping, best iteration is:\n",
      "[641]\ttrain's auc: 0.907609\tvalid's auc: 0.751107\n"
     ]
    }
   ],
   "source": [
    "clf2 = RandomForestClassifier(random_state=1)\n",
    "clf3 = LGBMClassifier(**params)\n",
    "lr = LogisticRegression()"
   ]
  },
  {
   "cell_type": "code",
   "execution_count": null,
   "metadata": {},
   "outputs": [],
   "source": []
  },
  {
   "cell_type": "code",
   "execution_count": null,
   "metadata": {},
   "outputs": [],
   "source": []
  },
  {
   "cell_type": "code",
   "execution_count": null,
   "metadata": {},
   "outputs": [],
   "source": []
  },
  {
   "cell_type": "markdown",
   "metadata": {},
   "source": [
    "# Results"
   ]
  },
  {
   "cell_type": "markdown",
   "metadata": {},
   "source": [
    "Checking results On full test dataset All features result \\ Test data part = 199923 / 199923 = 100.0% \\ Accuracy = 0.5715 \\ Precision = 0.5643 \\ Recall = 0.5715\n",
    "\n",
    "Real classes where 0 was predicted: \\ 0 63.341281 \\ 2 25.887800 \\ 1 10.770919 \\ Name: y, dtype: float64 \\ 0 50210 \\ 2 20521 \\ 1 8538 \\ Name: y, dtype: int64\n",
    "\n",
    "Real classes where 1 was predicted: \\ 1 47.555919 \\ 2 36.158583 \\ 0 16.285499 \\ Name: y, dtype: float64 \\ 1 7569 \\ 2 5755 \\ 0 2592 \\ Name: y, dtype: int64\n",
    "\n",
    "Real classes where 2 was predicted: \\ 2 53.925032 \\ 0 25.009070 \\ 1 21.065898 \\ Name: y, dtype: float64 \\ 2 56480 \\ 0 26194 \\ 1 22064 \\ Name: y, dtype: int64"
   ]
  },
  {
   "cell_type": "code",
   "execution_count": null,
   "metadata": {},
   "outputs": [],
   "source": []
  },
  {
   "cell_type": "code",
   "execution_count": null,
   "metadata": {},
   "outputs": [],
   "source": []
  },
  {
   "cell_type": "code",
   "execution_count": null,
   "metadata": {},
   "outputs": [],
   "source": []
  },
  {
   "cell_type": "code",
   "execution_count": null,
   "metadata": {},
   "outputs": [],
   "source": []
  },
  {
   "cell_type": "code",
   "execution_count": null,
   "metadata": {},
   "outputs": [],
   "source": []
  },
  {
   "cell_type": "code",
   "execution_count": null,
   "metadata": {},
   "outputs": [],
   "source": []
  },
  {
   "cell_type": "code",
   "execution_count": null,
   "metadata": {},
   "outputs": [],
   "source": []
  }
 ],
 "metadata": {
  "kernelspec": {
   "display_name": "Python 3",
   "language": "python",
   "name": "python3"
  },
  "language_info": {
   "codemirror_mode": {
    "name": "ipython",
    "version": 3
   },
   "file_extension": ".py",
   "mimetype": "text/x-python",
   "name": "python",
   "nbconvert_exporter": "python",
   "pygments_lexer": "ipython3",
   "version": "3.7.4"
  }
 },
 "nbformat": 4,
 "nbformat_minor": 4
}
