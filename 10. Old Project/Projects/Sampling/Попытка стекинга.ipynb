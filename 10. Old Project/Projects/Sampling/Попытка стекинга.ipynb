{
 "cells": [
  {
   "cell_type": "code",
   "execution_count": 1,
   "metadata": {},
   "outputs": [],
   "source": [
    "import time\n",
    "import warnings\n",
    "import numpy as np\n",
    "import pandas as pd\n",
    "import seaborn as sns\n",
    "import lightgbm as lgb\n",
    "import matplotlib.pyplot as plt\n",
    "\n",
    "from copy import deepcopy\n",
    "\n",
    "from collections import Counter\n",
    "from lightgbm import LGBMClassifier\n",
    "from sklearn.metrics import f1_score\n",
    "from kmeans_smote import KMeansSMOTE\n",
    "from imblearn.over_sampling import SMOTE\n",
    "from sklearn.metrics import roc_auc_score\n",
    "from bayes_opt import BayesianOptimization"
   ]
  },
  {
   "cell_type": "code",
   "execution_count": 2,
   "metadata": {},
   "outputs": [],
   "source": [
    "sns.set()\n",
    "%matplotlib inline\n",
    "warnings.simplefilter(\"ignore\")\n",
    "warnings.filterwarnings(\"ignore\")"
   ]
  },
  {
   "cell_type": "markdown",
   "metadata": {},
   "source": [
    "# Data loading"
   ]
  },
  {
   "cell_type": "code",
   "execution_count": 3,
   "metadata": {},
   "outputs": [
    {
     "name": "stdout",
     "output_type": "stream",
     "text": [
      "Wall time: 19.6 s\n"
     ]
    }
   ],
   "source": [
    "%%time\n",
    "df_input_data = pd.read_csv('data_for_test.csv')"
   ]
  },
  {
   "cell_type": "code",
   "execution_count": 4,
   "metadata": {},
   "outputs": [
    {
     "data": {
      "text/html": [
       "<div>\n",
       "<style scoped>\n",
       "    .dataframe tbody tr th:only-of-type {\n",
       "        vertical-align: middle;\n",
       "    }\n",
       "\n",
       "    .dataframe tbody tr th {\n",
       "        vertical-align: top;\n",
       "    }\n",
       "\n",
       "    .dataframe thead th {\n",
       "        text-align: right;\n",
       "    }\n",
       "</style>\n",
       "<table border=\"1\" class=\"dataframe\">\n",
       "  <thead>\n",
       "    <tr style=\"text-align: right;\">\n",
       "      <th></th>\n",
       "      <th>Unnamed: 0</th>\n",
       "      <th>volatility_atr</th>\n",
       "      <th>volume_adi</th>\n",
       "      <th>momentum_tsi</th>\n",
       "      <th>momentum_rsi</th>\n",
       "      <th>momentum_stoch</th>\n",
       "      <th>momentum_wr</th>\n",
       "      <th>returns_lag_1</th>\n",
       "      <th>minute</th>\n",
       "      <th>value__fft_coefficient__coeff_0__attr_\"abs\"</th>\n",
       "      <th>...</th>\n",
       "      <th>value__fft_coefficient__coeff_2__attr_\"angle\"</th>\n",
       "      <th>value__fft_coefficient__coeff_8__attr_\"abs\"</th>\n",
       "      <th>value__number_crossing_m__m_0</th>\n",
       "      <th>value__c3__lag_2</th>\n",
       "      <th>value__fft_aggregated__aggtype_\"variance\"</th>\n",
       "      <th>returns_25</th>\n",
       "      <th>returns_16</th>\n",
       "      <th>returns_26</th>\n",
       "      <th>datetime</th>\n",
       "      <th>target</th>\n",
       "    </tr>\n",
       "  </thead>\n",
       "  <tbody>\n",
       "    <tr>\n",
       "      <th>0</th>\n",
       "      <td>1029308</td>\n",
       "      <td>4.755788</td>\n",
       "      <td>3.628946</td>\n",
       "      <td>-10.529437</td>\n",
       "      <td>37.194389</td>\n",
       "      <td>46.031746</td>\n",
       "      <td>-53.968254</td>\n",
       "      <td>-0.000534</td>\n",
       "      <td>28</td>\n",
       "      <td>0.000738</td>\n",
       "      <td>...</td>\n",
       "      <td>-176.665127</td>\n",
       "      <td>0.000189</td>\n",
       "      <td>40.0</td>\n",
       "      <td>2.667893e-14</td>\n",
       "      <td>202.579849</td>\n",
       "      <td>-0.001333</td>\n",
       "      <td>-0.001245</td>\n",
       "      <td>-0.000934</td>\n",
       "      <td>2019-07-03 02:28:07.451296</td>\n",
       "      <td>2</td>\n",
       "    </tr>\n",
       "    <tr>\n",
       "      <th>1</th>\n",
       "      <td>1029309</td>\n",
       "      <td>4.916089</td>\n",
       "      <td>11.879556</td>\n",
       "      <td>-11.035900</td>\n",
       "      <td>32.105300</td>\n",
       "      <td>33.870968</td>\n",
       "      <td>-66.129032</td>\n",
       "      <td>0.000668</td>\n",
       "      <td>28</td>\n",
       "      <td>0.000642</td>\n",
       "      <td>...</td>\n",
       "      <td>-169.138277</td>\n",
       "      <td>0.000142</td>\n",
       "      <td>41.0</td>\n",
       "      <td>2.990430e-14</td>\n",
       "      <td>193.880508</td>\n",
       "      <td>-0.001822</td>\n",
       "      <td>-0.001156</td>\n",
       "      <td>-0.001689</td>\n",
       "      <td>2019-07-03 02:28:12.417695</td>\n",
       "      <td>1</td>\n",
       "    </tr>\n",
       "    <tr>\n",
       "      <th>2</th>\n",
       "      <td>1029310</td>\n",
       "      <td>4.993511</td>\n",
       "      <td>-84.111236</td>\n",
       "      <td>-11.638534</td>\n",
       "      <td>29.221935</td>\n",
       "      <td>25.806452</td>\n",
       "      <td>-74.193548</td>\n",
       "      <td>-0.000356</td>\n",
       "      <td>28</td>\n",
       "      <td>0.000614</td>\n",
       "      <td>...</td>\n",
       "      <td>-161.615718</td>\n",
       "      <td>0.000124</td>\n",
       "      <td>42.0</td>\n",
       "      <td>2.034959e-14</td>\n",
       "      <td>193.772288</td>\n",
       "      <td>-0.002000</td>\n",
       "      <td>-0.001867</td>\n",
       "      <td>-0.002044</td>\n",
       "      <td>2019-07-03 02:28:16.904005</td>\n",
       "      <td>1</td>\n",
       "    </tr>\n",
       "  </tbody>\n",
       "</table>\n",
       "<p>3 rows × 126 columns</p>\n",
       "</div>"
      ],
      "text/plain": [
       "   Unnamed: 0  volatility_atr  volume_adi  momentum_tsi  momentum_rsi  \\\n",
       "0     1029308        4.755788    3.628946    -10.529437     37.194389   \n",
       "1     1029309        4.916089   11.879556    -11.035900     32.105300   \n",
       "2     1029310        4.993511  -84.111236    -11.638534     29.221935   \n",
       "\n",
       "   momentum_stoch  momentum_wr  returns_lag_1  minute  \\\n",
       "0       46.031746   -53.968254      -0.000534      28   \n",
       "1       33.870968   -66.129032       0.000668      28   \n",
       "2       25.806452   -74.193548      -0.000356      28   \n",
       "\n",
       "   value__fft_coefficient__coeff_0__attr_\"abs\"  ...  \\\n",
       "0                                     0.000738  ...   \n",
       "1                                     0.000642  ...   \n",
       "2                                     0.000614  ...   \n",
       "\n",
       "   value__fft_coefficient__coeff_2__attr_\"angle\"  \\\n",
       "0                                    -176.665127   \n",
       "1                                    -169.138277   \n",
       "2                                    -161.615718   \n",
       "\n",
       "   value__fft_coefficient__coeff_8__attr_\"abs\"  value__number_crossing_m__m_0  \\\n",
       "0                                     0.000189                           40.0   \n",
       "1                                     0.000142                           41.0   \n",
       "2                                     0.000124                           42.0   \n",
       "\n",
       "   value__c3__lag_2  value__fft_aggregated__aggtype_\"variance\"  returns_25  \\\n",
       "0      2.667893e-14                                 202.579849   -0.001333   \n",
       "1      2.990430e-14                                 193.880508   -0.001822   \n",
       "2      2.034959e-14                                 193.772288   -0.002000   \n",
       "\n",
       "   returns_16  returns_26                    datetime  target  \n",
       "0   -0.001245   -0.000934  2019-07-03 02:28:07.451296       2  \n",
       "1   -0.001156   -0.001689  2019-07-03 02:28:12.417695       1  \n",
       "2   -0.001867   -0.002044  2019-07-03 02:28:16.904005       1  \n",
       "\n",
       "[3 rows x 126 columns]"
      ]
     },
     "execution_count": 4,
     "metadata": {},
     "output_type": "execute_result"
    }
   ],
   "source": [
    "df_input_data.head(3)"
   ]
  },
  {
   "cell_type": "code",
   "execution_count": 5,
   "metadata": {},
   "outputs": [],
   "source": [
    "df_part_1 = df_input_data.iloc[0:205855]\n",
    "df_part_2 = df_input_data.iloc[205855:411710]\n",
    "df_part_3 = df_input_data.iloc[411710:617565]\n",
    "df_part_4 = df_input_data.iloc[617565:823420]\n",
    "df_part_5 = df_input_data.iloc[823420:1029275]"
   ]
  },
  {
   "cell_type": "code",
   "execution_count": 6,
   "metadata": {},
   "outputs": [
    {
     "data": {
      "text/html": [
       "<div>\n",
       "<style scoped>\n",
       "    .dataframe tbody tr th:only-of-type {\n",
       "        vertical-align: middle;\n",
       "    }\n",
       "\n",
       "    .dataframe tbody tr th {\n",
       "        vertical-align: top;\n",
       "    }\n",
       "\n",
       "    .dataframe thead th {\n",
       "        text-align: right;\n",
       "    }\n",
       "</style>\n",
       "<table border=\"1\" class=\"dataframe\">\n",
       "  <thead>\n",
       "    <tr style=\"text-align: right;\">\n",
       "      <th></th>\n",
       "      <th>Unnamed: 0</th>\n",
       "      <th>volatility_atr</th>\n",
       "      <th>volume_adi</th>\n",
       "      <th>momentum_tsi</th>\n",
       "      <th>momentum_rsi</th>\n",
       "      <th>momentum_stoch</th>\n",
       "      <th>momentum_wr</th>\n",
       "      <th>returns_lag_1</th>\n",
       "      <th>minute</th>\n",
       "      <th>value__fft_coefficient__coeff_0__attr_\"abs\"</th>\n",
       "      <th>...</th>\n",
       "      <th>value__fft_coefficient__coeff_2__attr_\"angle\"</th>\n",
       "      <th>value__fft_coefficient__coeff_8__attr_\"abs\"</th>\n",
       "      <th>value__number_crossing_m__m_0</th>\n",
       "      <th>value__c3__lag_2</th>\n",
       "      <th>value__fft_aggregated__aggtype_\"variance\"</th>\n",
       "      <th>returns_25</th>\n",
       "      <th>returns_16</th>\n",
       "      <th>returns_26</th>\n",
       "      <th>datetime</th>\n",
       "      <th>target</th>\n",
       "    </tr>\n",
       "  </thead>\n",
       "  <tbody>\n",
       "    <tr>\n",
       "      <th>0</th>\n",
       "      <td>1029308</td>\n",
       "      <td>4.755788</td>\n",
       "      <td>3.628946</td>\n",
       "      <td>-10.529437</td>\n",
       "      <td>37.194389</td>\n",
       "      <td>46.031746</td>\n",
       "      <td>-53.968254</td>\n",
       "      <td>-0.000534</td>\n",
       "      <td>28</td>\n",
       "      <td>0.000738</td>\n",
       "      <td>...</td>\n",
       "      <td>-176.665127</td>\n",
       "      <td>0.000189</td>\n",
       "      <td>40.0</td>\n",
       "      <td>2.667893e-14</td>\n",
       "      <td>202.579849</td>\n",
       "      <td>-0.001333</td>\n",
       "      <td>-0.001245</td>\n",
       "      <td>-0.000934</td>\n",
       "      <td>2019-07-03 02:28:07.451296</td>\n",
       "      <td>2</td>\n",
       "    </tr>\n",
       "    <tr>\n",
       "      <th>1</th>\n",
       "      <td>1029309</td>\n",
       "      <td>4.916089</td>\n",
       "      <td>11.879556</td>\n",
       "      <td>-11.035900</td>\n",
       "      <td>32.105300</td>\n",
       "      <td>33.870968</td>\n",
       "      <td>-66.129032</td>\n",
       "      <td>0.000668</td>\n",
       "      <td>28</td>\n",
       "      <td>0.000642</td>\n",
       "      <td>...</td>\n",
       "      <td>-169.138277</td>\n",
       "      <td>0.000142</td>\n",
       "      <td>41.0</td>\n",
       "      <td>2.990430e-14</td>\n",
       "      <td>193.880508</td>\n",
       "      <td>-0.001822</td>\n",
       "      <td>-0.001156</td>\n",
       "      <td>-0.001689</td>\n",
       "      <td>2019-07-03 02:28:12.417695</td>\n",
       "      <td>1</td>\n",
       "    </tr>\n",
       "    <tr>\n",
       "      <th>2</th>\n",
       "      <td>1029310</td>\n",
       "      <td>4.993511</td>\n",
       "      <td>-84.111236</td>\n",
       "      <td>-11.638534</td>\n",
       "      <td>29.221935</td>\n",
       "      <td>25.806452</td>\n",
       "      <td>-74.193548</td>\n",
       "      <td>-0.000356</td>\n",
       "      <td>28</td>\n",
       "      <td>0.000614</td>\n",
       "      <td>...</td>\n",
       "      <td>-161.615718</td>\n",
       "      <td>0.000124</td>\n",
       "      <td>42.0</td>\n",
       "      <td>2.034959e-14</td>\n",
       "      <td>193.772288</td>\n",
       "      <td>-0.002000</td>\n",
       "      <td>-0.001867</td>\n",
       "      <td>-0.002044</td>\n",
       "      <td>2019-07-03 02:28:16.904005</td>\n",
       "      <td>1</td>\n",
       "    </tr>\n",
       "    <tr>\n",
       "      <th>3</th>\n",
       "      <td>1029311</td>\n",
       "      <td>5.208260</td>\n",
       "      <td>-25.581478</td>\n",
       "      <td>-11.595321</td>\n",
       "      <td>46.847541</td>\n",
       "      <td>51.612903</td>\n",
       "      <td>-48.387097</td>\n",
       "      <td>-0.000223</td>\n",
       "      <td>28</td>\n",
       "      <td>0.000557</td>\n",
       "      <td>...</td>\n",
       "      <td>-153.262794</td>\n",
       "      <td>0.000079</td>\n",
       "      <td>42.0</td>\n",
       "      <td>2.739726e-14</td>\n",
       "      <td>192.809492</td>\n",
       "      <td>-0.001244</td>\n",
       "      <td>-0.001289</td>\n",
       "      <td>-0.001289</td>\n",
       "      <td>2019-07-03 02:28:19.511842</td>\n",
       "      <td>1</td>\n",
       "    </tr>\n",
       "    <tr>\n",
       "      <th>4</th>\n",
       "      <td>1029312</td>\n",
       "      <td>5.336242</td>\n",
       "      <td>76.739954</td>\n",
       "      <td>-11.080417</td>\n",
       "      <td>56.907916</td>\n",
       "      <td>72.580645</td>\n",
       "      <td>-27.419355</td>\n",
       "      <td>0.000713</td>\n",
       "      <td>28</td>\n",
       "      <td>0.000424</td>\n",
       "      <td>...</td>\n",
       "      <td>-141.615027</td>\n",
       "      <td>0.000064</td>\n",
       "      <td>43.0</td>\n",
       "      <td>2.976626e-14</td>\n",
       "      <td>202.027115</td>\n",
       "      <td>-0.000133</td>\n",
       "      <td>-0.000755</td>\n",
       "      <td>-0.000667</td>\n",
       "      <td>2019-07-03 02:28:25.252526</td>\n",
       "      <td>1</td>\n",
       "    </tr>\n",
       "  </tbody>\n",
       "</table>\n",
       "<p>5 rows × 126 columns</p>\n",
       "</div>"
      ],
      "text/plain": [
       "   Unnamed: 0  volatility_atr  volume_adi  momentum_tsi  momentum_rsi  \\\n",
       "0     1029308        4.755788    3.628946    -10.529437     37.194389   \n",
       "1     1029309        4.916089   11.879556    -11.035900     32.105300   \n",
       "2     1029310        4.993511  -84.111236    -11.638534     29.221935   \n",
       "3     1029311        5.208260  -25.581478    -11.595321     46.847541   \n",
       "4     1029312        5.336242   76.739954    -11.080417     56.907916   \n",
       "\n",
       "   momentum_stoch  momentum_wr  returns_lag_1  minute  \\\n",
       "0       46.031746   -53.968254      -0.000534      28   \n",
       "1       33.870968   -66.129032       0.000668      28   \n",
       "2       25.806452   -74.193548      -0.000356      28   \n",
       "3       51.612903   -48.387097      -0.000223      28   \n",
       "4       72.580645   -27.419355       0.000713      28   \n",
       "\n",
       "   value__fft_coefficient__coeff_0__attr_\"abs\"  ...  \\\n",
       "0                                     0.000738  ...   \n",
       "1                                     0.000642  ...   \n",
       "2                                     0.000614  ...   \n",
       "3                                     0.000557  ...   \n",
       "4                                     0.000424  ...   \n",
       "\n",
       "   value__fft_coefficient__coeff_2__attr_\"angle\"  \\\n",
       "0                                    -176.665127   \n",
       "1                                    -169.138277   \n",
       "2                                    -161.615718   \n",
       "3                                    -153.262794   \n",
       "4                                    -141.615027   \n",
       "\n",
       "   value__fft_coefficient__coeff_8__attr_\"abs\"  value__number_crossing_m__m_0  \\\n",
       "0                                     0.000189                           40.0   \n",
       "1                                     0.000142                           41.0   \n",
       "2                                     0.000124                           42.0   \n",
       "3                                     0.000079                           42.0   \n",
       "4                                     0.000064                           43.0   \n",
       "\n",
       "   value__c3__lag_2  value__fft_aggregated__aggtype_\"variance\"  returns_25  \\\n",
       "0      2.667893e-14                                 202.579849   -0.001333   \n",
       "1      2.990430e-14                                 193.880508   -0.001822   \n",
       "2      2.034959e-14                                 193.772288   -0.002000   \n",
       "3      2.739726e-14                                 192.809492   -0.001244   \n",
       "4      2.976626e-14                                 202.027115   -0.000133   \n",
       "\n",
       "   returns_16  returns_26                    datetime  target  \n",
       "0   -0.001245   -0.000934  2019-07-03 02:28:07.451296       2  \n",
       "1   -0.001156   -0.001689  2019-07-03 02:28:12.417695       1  \n",
       "2   -0.001867   -0.002044  2019-07-03 02:28:16.904005       1  \n",
       "3   -0.001289   -0.001289  2019-07-03 02:28:19.511842       1  \n",
       "4   -0.000755   -0.000667  2019-07-03 02:28:25.252526       1  \n",
       "\n",
       "[5 rows x 126 columns]"
      ]
     },
     "execution_count": 6,
     "metadata": {},
     "output_type": "execute_result"
    }
   ],
   "source": [
    "df_part_1.head()"
   ]
  },
  {
   "cell_type": "code",
   "execution_count": 7,
   "metadata": {},
   "outputs": [
    {
     "data": {
      "text/plain": [
       "<matplotlib.axes._subplots.AxesSubplot at 0x1b993841128>"
      ]
     },
     "execution_count": 7,
     "metadata": {},
     "output_type": "execute_result"
    },
    {
     "data": {
      "image/png": "[encoded data removed]",
      "text/plain": [
       "<Figure size 432x288 with 1 Axes>"
      ]
     },
     "metadata": {
      "needs_background": "light"
     },
     "output_type": "display_data"
    }
   ],
   "source": [
    "sns.countplot(df_part_1['target'])"
   ]
  },
  {
   "cell_type": "code",
   "execution_count": 8,
   "metadata": {},
   "outputs": [
    {
     "name": "stdout",
     "output_type": "stream",
     "text": [
      "21915\n",
      "70771\n",
      "113169\n"
     ]
    }
   ],
   "source": [
    "print(sum(df_part_1['target'] == 0))\n",
    "print(sum(df_part_1['target'] == 1))\n",
    "print(sum(df_part_1['target'] == 2))"
   ]
  },
  {
   "cell_type": "markdown",
   "metadata": {},
   "source": [
    "# Bayesian Optimization"
   ]
  },
  {
   "cell_type": "code",
   "execution_count": 9,
   "metadata": {},
   "outputs": [],
   "source": [
    "def lgb_eval(max_depth, \n",
    "             num_leaves,\n",
    "             reg_alpha,\n",
    "             reg_lambda):\n",
    "    \n",
    "    params = {'objective':'multiclass',\n",
    "              'num_class': 3,\n",
    "              'num_iterations':4000, \n",
    "              'learning_rate':0.05, \n",
    "              'early_stopping_round':100, \n",
    "              'metric':'multi_logloss'}\n",
    "    \n",
    "    params['max_depth'] = round(max_depth)\n",
    "    params['num_leaves'] = round(num_leaves)\n",
    "    params['reg_alpha'] = max(reg_alpha, 0)\n",
    "    params['reg_lambda'] = max(reg_lambda, 0)\n",
    "    \n",
    "    cv_result = lgb.cv(params, \n",
    "                       train_data, \n",
    "                       nfold=n_folds, \n",
    "                       seed=random_seed, \n",
    "                       stratified=True, \n",
    "                       verbose_eval =200, \n",
    "                       metrics=['multi_logloss'])\n",
    "    \n",
    "    return min(cv_result['multi_logloss-mean'])"
   ]
  },
  {
   "cell_type": "code",
   "execution_count": 10,
   "metadata": {},
   "outputs": [],
   "source": [
    "lgbBO = BayesianOptimization(lgb_eval, {'max_depth': (5, 8.99),\n",
    "                                        'num_leaves': (24, 45),                                        \n",
    "                                        'reg_alpha': (0, 5),\n",
    "                                        'reg_lambda': (0, 3)}, \n",
    "                             random_state=0)"
   ]
  },
  {
   "cell_type": "code",
   "execution_count": 11,
   "metadata": {},
   "outputs": [],
   "source": [
    "def bayes_parameter_opt_lgb(X, \n",
    "                            y, \n",
    "                            init_round=15, \n",
    "                            opt_round=25, \n",
    "                            n_folds=5, \n",
    "                            random_seed=6, \n",
    "                            n_estimators=10000, \n",
    "                            learning_rate=0.05, \n",
    "                            output_process=False):\n",
    "    # prepare data\n",
    "    train_data = lgb.Dataset(data=X, \n",
    "                             label=y, \n",
    "                             free_raw_data=False)\n",
    "    # parameters\n",
    "    \n",
    "    def lgb_eval(max_depth,\n",
    "                 num_leaves,\n",
    "                 reg_alpha,\n",
    "                 reg_lambda):\n",
    "        \n",
    "        params = {'objective':'multiclass',\n",
    "                  'num_class': 3,\n",
    "                  'num_iterations': n_estimators, \n",
    "                  'learning_rate':learning_rate, \n",
    "                  'early_stopping_round':100, \n",
    "                  'metric':'multi_logloss'}\n",
    "        \n",
    "        params['max_depth'] = int(round(max_depth))\n",
    "        params['num_leaves'] = int(round(num_leaves))\n",
    "        params['reg_alpha'] = max(reg_alpha, 0)\n",
    "        params['reg_lambda'] = max(reg_lambda, 0)\n",
    "        \n",
    "        cv_result = lgb.cv(params, \n",
    "                           train_data, \n",
    "                           nfold=n_folds, \n",
    "                           seed=random_seed,\n",
    "                           stratified=True, \n",
    "                           verbose_eval =200, \n",
    "                           metrics=['multi_logloss'])\n",
    "        return min(cv_result['multi_logloss-mean'])\n",
    "    \n",
    "    # range\n",
    "    \n",
    "    lgbBO = BayesianOptimization(lgb_eval, {'max_depth': (5, 8.99),\n",
    "                                            'num_leaves': (24, 45),\n",
    "                                            'reg_alpha': (0, 5),\n",
    "                                            'reg_lambda': (0, 3)}, \n",
    "                             random_state=0)\n",
    "    \n",
    "    # optimize\n",
    "    lgbBO.maximize(init_points=init_round, n_iter=opt_round)\n",
    "    \n",
    "    # output optimization process\n",
    "    if output_process==True: lgbBO.points_to_csv(\"bayes_opt_result.csv\")\n",
    "    \n",
    "    # return best parameters\n",
    "    return lgbBO\n",
    "#lgbBO.res['max']['max_params']"
   ]
  },
  {
   "cell_type": "markdown",
   "metadata": {},
   "source": [
    "# Standard boost for 3 classes"
   ]
  },
  {
   "cell_type": "code",
   "execution_count": 9,
   "metadata": {},
   "outputs": [],
   "source": [
    "data_train_1 = df_part_1.iloc[0:164684]\n",
    "data_test_1 = df_part_1.iloc[164684:]\n",
    "X_1 = data_train_1.drop(['target', 'datetime'], axis=1)\n",
    "y_1 = data_train_1['target']\n",
    "\n",
    "data_train_2 = df_part_2.iloc[0:164684]\n",
    "data_test_2 = df_part_2.iloc[164684:]\n",
    "X_2 = data_train_2.drop(['target', 'datetime'], axis=1)\n",
    "y_2 = data_train_2['target']\n",
    "\n",
    "data_train_3 = df_part_3.iloc[0:164684]\n",
    "data_test_3 = df_part_3.iloc[164684:]\n",
    "X_3 = data_train_3.drop(['target', 'datetime'], axis=1)\n",
    "y_3 = data_train_3['target']\n",
    "\n",
    "data_train_4 = df_part_4.iloc[0:164684]\n",
    "data_test_4 = df_part_4.iloc[164684:]\n",
    "X_4 = data_train_4.drop(['target', 'datetime'], axis=1)\n",
    "y_4 = data_train_4['target']\n",
    "\n",
    "data_train_5 = df_part_5.iloc[0:164684]\n",
    "data_test_5 = df_part_5.iloc[164684:]\n",
    "X_5 = data_train_5.drop(['target', 'datetime'], axis=1)\n",
    "y_5 = data_train_5['target']"
   ]
  },
  {
   "cell_type": "code",
   "execution_count": 10,
   "metadata": {},
   "outputs": [],
   "source": [
    "X_test_1 = data_test_1.drop(['target', 'datetime'], axis=1)\n",
    "y_test_1 = data_test_1['target']\n",
    "\n",
    "X_test_2 = data_test_2.drop(['target', 'datetime'], axis=1)\n",
    "y_test_2 = data_test_2['target']\n",
    "\n",
    "X_test_3 = data_test_3.drop(['target', 'datetime'], axis=1)\n",
    "y_test_3 = data_test_3['target']\n",
    "\n",
    "X_test_4 = data_test_4.drop(['target', 'datetime'], axis=1)\n",
    "y_test_4 = data_test_4['target']\n",
    "\n",
    "X_test_5 = data_test_5.drop(['target', 'datetime'], axis=1)\n",
    "y_test_5 = data_test_5['target']"
   ]
  },
  {
   "cell_type": "code",
   "execution_count": 15,
   "metadata": {},
   "outputs": [
    {
     "data": {
      "text/plain": [
       "<matplotlib.axes._subplots.AxesSubplot at 0x1b9d0b096a0>"
      ]
     },
     "execution_count": 15,
     "metadata": {},
     "output_type": "execute_result"
    },
    {
     "data": {
      "image/png": "[encoded data removed]",
      "text/plain": [
       "<Figure size 432x288 with 1 Axes>"
      ]
     },
     "metadata": {
      "needs_background": "light"
     },
     "output_type": "display_data"
    }
   ],
   "source": [
    "sns.countplot(y_5)"
   ]
  },
  {
   "cell_type": "markdown",
   "metadata": {},
   "source": [
    "# Sampling"
   ]
  },
  {
   "cell_type": "markdown",
   "metadata": {},
   "source": [
    "### Oversampling SMOTE (Kmeans)"
   ]
  },
  {
   "cell_type": "code",
   "execution_count": 16,
   "metadata": {},
   "outputs": [],
   "source": [
    "kmeans_smote = KMeansSMOTE(kmeans_args={'n_clusters': 100},\n",
    "                           smote_args={'k_neighbors': 10})"
   ]
  },
  {
   "cell_type": "code",
   "execution_count": 16,
   "metadata": {},
   "outputs": [],
   "source": [
    "#sm = SMOTE(random_state=42)\n",
    "#X_res_0, y_res_0 = sm.fit_resample(X, y)"
   ]
  },
  {
   "cell_type": "markdown",
   "metadata": {},
   "source": [
    "### Undersampling Tomek Links"
   ]
  },
  {
   "cell_type": "code",
   "execution_count": 17,
   "metadata": {},
   "outputs": [],
   "source": [
    "#tomek_links = TomekLinks(return_indices=True, ratio='majority')\n",
    "#X_tl, y_tl, id_tl = tl.fit_sample(X, y)"
   ]
  },
  {
   "cell_type": "code",
   "execution_count": 17,
   "metadata": {},
   "outputs": [
    {
     "name": "stdout",
     "output_type": "stream",
     "text": [
      "Resampled dataset shape Counter({0: 162303, 1: 125333, 2: 90464})\n",
      "Resampled dataset shape Counter({1: 115197, 0: 108789, 2: 77734})\n",
      "Resampled dataset shape Counter({2: 72371, 1: 72371, 0: 72371})\n",
      "Resampled dataset shape Counter({2: 68643, 0: 65840, 1: 30201})\n",
      "Resampled dataset shape Counter({2: 72886, 0: 55658, 1: 36140})\n",
      "Wall time: 1min 26s\n"
     ]
    }
   ],
   "source": [
    "%%time\n",
    "X_resampled_1, y_resampled_1 = kmeans_smote.fit_resample(X_1, y_1)\n",
    "X_resampled_2, y_resampled_2 = kmeans_smote.fit_resample(X_2, y_2)\n",
    "X_resampled_3, y_resampled_3 = kmeans_smote.fit_resample(X_3, y_3)\n",
    "X_resampled_4, y_resampled_4 = kmeans_smote.fit_resample(X_4, y_4)\n",
    "X_resampled_5, y_resampled_5 = kmeans_smote.fit_resample(X_5, y_5)\n",
    "\n",
    "print('Resampled dataset shape %s' % Counter(y_resampled_1))\n",
    "print('Resampled dataset shape %s' % Counter(y_resampled_2))\n",
    "print('Resampled dataset shape %s' % Counter(y_resampled_3))\n",
    "print('Resampled dataset shape %s' % Counter(y_resampled_4))\n",
    "print('Resampled dataset shape %s' % Counter(y_resampled_5))"
   ]
  },
  {
   "cell_type": "markdown",
   "metadata": {},
   "source": [
    "# Selection of classifier parameters"
   ]
  },
  {
   "cell_type": "code",
   "execution_count": 20,
   "metadata": {},
   "outputs": [
    {
     "name": "stdout",
     "output_type": "stream",
     "text": [
      "|   iter    |  target   | max_depth | num_le... | reg_alpha | reg_la... |\n",
      "-------------------------------------------------------------------------\n",
      "| \u001b[0m 1       \u001b[0m | \u001b[0m 0.7889  \u001b[0m | \u001b[0m 7.19    \u001b[0m | \u001b[0m 39.02   \u001b[0m | \u001b[0m 3.014   \u001b[0m | \u001b[0m 1.635   \u001b[0m |\n",
      "| \u001b[95m 2       \u001b[0m | \u001b[95m 0.7895  \u001b[0m | \u001b[95m 6.69    \u001b[0m | \u001b[95m 37.56   \u001b[0m | \u001b[95m 2.188   \u001b[0m | \u001b[95m 2.675   \u001b[0m |\n",
      "| \u001b[0m 3       \u001b[0m | \u001b[0m 0.7837  \u001b[0m | \u001b[0m 8.845   \u001b[0m | \u001b[0m 32.05   \u001b[0m | \u001b[0m 3.959   \u001b[0m | \u001b[0m 1.587   \u001b[0m |\n",
      "| \u001b[0m 4       \u001b[0m | \u001b[0m 0.7838  \u001b[0m | \u001b[0m 7.266   \u001b[0m | \u001b[0m 43.44   \u001b[0m | \u001b[0m 0.3552  \u001b[0m | \u001b[0m 0.2614  \u001b[0m |\n",
      "| \u001b[95m 5       \u001b[0m | \u001b[95m 0.8284  \u001b[0m | \u001b[95m 5.081   \u001b[0m | \u001b[95m 41.49   \u001b[0m | \u001b[95m 3.891   \u001b[0m | \u001b[95m 2.61    \u001b[0m |\n",
      "| \u001b[95m 6       \u001b[0m | \u001b[95m 0.8317  \u001b[0m | \u001b[95m 5.0     \u001b[0m | \u001b[95m 24.0    \u001b[0m | \u001b[95m 5.0     \u001b[0m | \u001b[95m 0.0     \u001b[0m |\n",
      "| \u001b[0m 7       \u001b[0m | \u001b[0m 0.7679  \u001b[0m | \u001b[0m 8.861   \u001b[0m | \u001b[0m 44.86   \u001b[0m | \u001b[0m 4.719   \u001b[0m | \u001b[0m 2.82    \u001b[0m |\n",
      "| \u001b[0m 8       \u001b[0m | \u001b[0m 0.8289  \u001b[0m | \u001b[0m 5.029   \u001b[0m | \u001b[0m 45.0    \u001b[0m | \u001b[0m 4.81    \u001b[0m | \u001b[0m 0.0     \u001b[0m |\n",
      "| \u001b[95m 9       \u001b[0m | \u001b[95m 0.8324  \u001b[0m | \u001b[95m 5.092   \u001b[0m | \u001b[95m 24.03   \u001b[0m | \u001b[95m 4.807   \u001b[0m | \u001b[95m 2.822   \u001b[0m |\n",
      "| \u001b[0m 10      \u001b[0m | \u001b[0m 0.8285  \u001b[0m | \u001b[0m 5.124   \u001b[0m | \u001b[0m 31.01   \u001b[0m | \u001b[0m 4.998   \u001b[0m | \u001b[0m 2.787   \u001b[0m |\n",
      "| \u001b[0m 11      \u001b[0m | \u001b[0m 0.8276  \u001b[0m | \u001b[0m 5.0     \u001b[0m | \u001b[0m 45.0    \u001b[0m | \u001b[0m 5.134e-0\u001b[0m | \u001b[0m 3.0     \u001b[0m |\n",
      "| \u001b[0m 12      \u001b[0m | \u001b[0m 0.8283  \u001b[0m | \u001b[0m 5.0     \u001b[0m | \u001b[0m 45.0    \u001b[0m | \u001b[0m 5.0     \u001b[0m | \u001b[0m 3.0     \u001b[0m |\n",
      "| \u001b[0m 13      \u001b[0m | \u001b[0m 0.7986  \u001b[0m | \u001b[0m 8.582   \u001b[0m | \u001b[0m 24.11   \u001b[0m | \u001b[0m 4.903   \u001b[0m | \u001b[0m 2.968   \u001b[0m |\n",
      "| \u001b[0m 14      \u001b[0m | \u001b[0m 0.8304  \u001b[0m | \u001b[0m 5.029   \u001b[0m | \u001b[0m 24.17   \u001b[0m | \u001b[0m 0.004795\u001b[0m | \u001b[0m 1.084   \u001b[0m |\n",
      "| \u001b[0m 15      \u001b[0m | \u001b[0m 0.8284  \u001b[0m | \u001b[0m 5.065   \u001b[0m | \u001b[0m 35.49   \u001b[0m | \u001b[0m 4.978   \u001b[0m | \u001b[0m 0.1941  \u001b[0m |\n",
      "=========================================================================\n"
     ]
    }
   ],
   "source": [
    "# opt_params = bayes_parameter_opt_lgb(X_resampled, \n",
    "#                                      y_resampled, \n",
    "#                                      init_round=5, \n",
    "#                                      opt_round=10, \n",
    "#                                      n_folds=3, \n",
    "#                                      random_seed=6, \n",
    "#                                      n_estimators=100, \n",
    "#                                      learning_rate=0.05)"
   ]
  },
  {
   "cell_type": "code",
   "execution_count": 21,
   "metadata": {},
   "outputs": [
    {
     "data": {
      "text/plain": [
       "{'max_depth': 5.0921188048863755,\n",
       " 'num_leaves': 24.030408156061032,\n",
       " 'reg_alpha': 4.80734030451425,\n",
       " 'reg_lambda': 2.821752599850759}"
      ]
     },
     "execution_count": 21,
     "metadata": {},
     "output_type": "execute_result"
    }
   ],
   "source": [
    "#opt_params.max['params']"
   ]
  },
  {
   "cell_type": "code",
   "execution_count": 18,
   "metadata": {},
   "outputs": [],
   "source": [
    "model_params_1 = {'max_depth': 5,\n",
    "                'num_leaves': 24,\n",
    "                'boosting_type': 'gbdt',\n",
    "                'reg_alpha': 4.8,\n",
    "                'reg_lambda': 2.8\n",
    "               }\n",
    "model_params_2 = {'max_depth': 5,\n",
    "                'num_leaves': 24,\n",
    "                'boosting_type': 'gbdt',\n",
    "                'reg_alpha': 5,\n",
    "                'reg_lambda': 0\n",
    "               }\n",
    "model_params_3 = {'max_depth': 5,\n",
    "                'num_leaves': 24,\n",
    "                'boosting_type': 'gbdt',\n",
    "                'reg_alpha': 4.9,\n",
    "                'reg_lambda': 2.7\n",
    "               }\n",
    "model_params_4 = {'max_depth': 5,\n",
    "                'num_leaves': 24,\n",
    "                'boosting_type': 'gbdt',\n",
    "                'reg_alpha': 4.8,\n",
    "                'reg_lambda': 2.8\n",
    "               }\n",
    "model_params_5 = {'max_depth': 5,\n",
    "                'num_leaves': 24,\n",
    "                'boosting_type': 'gbdt',\n",
    "                'reg_alpha': 5,\n",
    "                'reg_lambda': 3\n",
    "               }\n",
    "                            \n",
    "optim_params = {'num_boost_round': 200,\n",
    "                'num_iterations':4000,\n",
    "                'learning_rate':0.05\n",
    "               }\n",
    "\n",
    "task_params = {'objective':'multiclass',\n",
    "               'num_class': 3,\n",
    "               'metric':'multi_logloss'\n",
    "              }\n",
    "    \n",
    "device_params = {'device': 'cpu',\n",
    "                 'num_threads': 4\n",
    "                }"
   ]
  },
  {
   "cell_type": "code",
   "execution_count": 19,
   "metadata": {},
   "outputs": [],
   "source": [
    "total_dict_1 = dict(**model_params_1, **task_params, **device_params, **optim_params)\n",
    "total_dict_2 = dict(**model_params_2, **task_params, **device_params, **optim_params)\n",
    "total_dict_3 = dict(**model_params_3, **task_params, **device_params, **optim_params)\n",
    "total_dict_4 = dict(**model_params_4, **task_params, **device_params, **optim_params)\n",
    "total_dict_5 = dict(**model_params_5, **task_params, **device_params, **optim_params)"
   ]
  },
  {
   "cell_type": "code",
   "execution_count": 20,
   "metadata": {},
   "outputs": [
    {
     "name": "stdout",
     "output_type": "stream",
     "text": [
      "Wall time: 0 ns\n"
     ]
    }
   ],
   "source": [
    "%%time\n",
    "clf_1 = LGBMClassifier(**total_dict_1)\n",
    "clf_2 = LGBMClassifier(**total_dict_2)\n",
    "clf_3 = LGBMClassifier(**total_dict_3)\n",
    "clf_4 = LGBMClassifier(**total_dict_4)\n",
    "clf_5 = LGBMClassifier(**total_dict_5)"
   ]
  },
  {
   "cell_type": "code",
   "execution_count": 21,
   "metadata": {},
   "outputs": [
    {
     "name": "stdout",
     "output_type": "stream",
     "text": [
      "Wall time: 30min 10s\n"
     ]
    }
   ],
   "source": [
    "%%time\n",
    "clf_1.fit(X_resampled_1, y_resampled_1)\n",
    "clf_2.fit(X_resampled_2, y_resampled_2)\n",
    "clf_3.fit(X_resampled_3, y_resampled_3)\n",
    "clf_4.fit(X_resampled_4, y_resampled_4)\n",
    "clf_5.fit(X_resampled_5, y_resampled_5)"
   ]
  },
  {
   "cell_type": "code",
   "execution_count": 24,
   "metadata": {},
   "outputs": [
    {
     "name": "stdout",
     "output_type": "stream",
     "text": [
      "Wall time: 1min 18s\n"
     ]
    }
   ],
   "source": [
    "%%time\n",
    "y_pred_1 = clf_1.predict(X_test_1)\n",
    "y_pred_2 = clf_2.predict(X_test_2)\n",
    "y_pred_3 = clf_3.predict(X_test_3)\n",
    "y_pred_4 = clf_4.predict(X_test_4)\n",
    "y_pred_5 = clf_5.predict(X_test_5)"
   ]
  },
  {
   "cell_type": "code",
   "execution_count": 25,
   "metadata": {},
   "outputs": [
    {
     "name": "stdout",
     "output_type": "stream",
     "text": [
      "0.5505331422603289\n",
      "0.4702096135629448\n",
      "0.5243010857156737\n",
      "0.5314177455004736\n",
      "0.5195161642903986\n"
     ]
    }
   ],
   "source": [
    "print(f1_score(y_test_1, y_pred_1, average='micro'))\n",
    "print(f1_score(y_test_2, y_pred_2, average='micro'))\n",
    "print(f1_score(y_test_3, y_pred_3, average='micro'))\n",
    "print(f1_score(y_test_4, y_pred_4, average='micro'))\n",
    "print(f1_score(y_test_5, y_pred_5, average='micro'))"
   ]
  },
  {
   "cell_type": "code",
   "execution_count": 28,
   "metadata": {},
   "outputs": [],
   "source": [
    "data_train = df_input_data.iloc[:823421]\n",
    "data_test = df_input_data.iloc[823421:]\n",
    "X = data_train.drop(['target', 'datetime'], axis=1)\n",
    "y = data_train['target']\n",
    "X_resampled, y_resampled = kmeans_smote.fit_resample(X, y)"
   ]
  },
  {
   "cell_type": "code",
   "execution_count": 33,
   "metadata": {},
   "outputs": [
    {
     "name": "stdout",
     "output_type": "stream",
     "text": [
      "3-fold cross validation:\n",
      "\n",
      "Accuracy: 0.55 (+/- 0.00) [clf_1]\n",
      "Accuracy: 0.55 (+/- 0.00) [clf_2]\n",
      "Accuracy: 0.55 (+/- 0.00) [clf_3]\n",
      "Accuracy: 0.55 (+/- 0.00) [clf_4]\n",
      "Accuracy: 0.55 (+/- 0.00) [clf_5]\n",
      "Accuracy: 0.55 (+/- 0.00) [StackingClassifier]\n"
     ]
    }
   ],
   "source": [
    "from mlxtend.classifier import StackingClassifier\n",
    "from sklearn.linear_model import LogisticRegression\n",
    "from sklearn.model_selection import cross_val_score\n",
    "\n",
    "lr = LogisticRegression()\n",
    "sclf = StackingClassifier(classifiers=[clf_1, clf_2, clf_3, clf_4, clf_5], \n",
    "                          meta_classifier=lr)\n",
    "\n",
    "print('3-fold cross validation:\\n')\n",
    "\n",
    "for clf, label in zip([clf_1, clf_2, clf_3, clf_4, clf_5, sclf], \n",
    "                      ['clf_1', \n",
    "                       'clf_2', \n",
    "                       'clf_3',\n",
    "                       'clf_4',\n",
    "                       'clf_5',\n",
    "                       'StackingClassifier']):\n",
    "\n",
    "    scores = f1_score(y_test_1, y_pred_1, average='micro')\n",
    "    \n",
    "    print(\"Accuracy: %0.2f (+/- %0.2f) [%s]\" \n",
    "          % (scores.mean(), scores.std(), label))"
   ]
  },
  {
   "cell_type": "code",
   "execution_count": 52,
   "metadata": {},
   "outputs": [
    {
     "name": "stdout",
     "output_type": "stream",
     "text": [
      "0.4416098256642884\n"
     ]
    }
   ],
   "source": [
    "print(f1_score(y_test, y_pred, average='weighted'))"
   ]
  },
  {
   "cell_type": "code",
   "execution_count": null,
   "metadata": {},
   "outputs": [],
   "source": []
  }
 ],
 "metadata": {
  "kernelspec": {
   "display_name": "Python 3",
   "language": "python",
   "name": "python3"
  },
  "language_info": {
   "codemirror_mode": {
    "name": "ipython",
    "version": 3
   },
   "file_extension": ".py",
   "mimetype": "text/x-python",
   "name": "python",
   "nbconvert_exporter": "python",
   "pygments_lexer": "ipython3",
   "version": "3.7.4"
  }
 },
 "nbformat": 4,
 "nbformat_minor": 4
}
