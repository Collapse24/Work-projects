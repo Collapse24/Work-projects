{
 "cells": [
  {
   "cell_type": "code",
   "execution_count": 1,
   "metadata": {},
   "outputs": [],
   "source": [
    "import math\n",
    "import random\n",
    "import numpy as np\n",
    "import pandas as pd\n",
    "import seaborn as sns\n",
    "import datetime as dt\n",
    "import matplotlib.pyplot as plt\n",
    "\n",
    "from tqdm import tqdm\n",
    "from copy import deepcopy\n",
    "from matplotlib import cm\n",
    "from sklearn import mixture\n",
    "from matplotlib import dates\n",
    "from sklearn import preprocessing\n",
    "from arch.univariate import arch_model"
   ]
  },
  {
   "cell_type": "code",
   "execution_count": 2,
   "metadata": {},
   "outputs": [],
   "source": [
    "import ruptures as rpt\n",
    "from hmmlearn import hmm"
   ]
  },
  {
   "cell_type": "code",
   "execution_count": 3,
   "metadata": {},
   "outputs": [],
   "source": [
    "sns.set()\n",
    "sns.mpl.rcParams['figure.figsize'] = (25.0, 10.0)\n",
    "sns.mpl.rcParams['savefig.dpi'] = 90\n",
    "sns.mpl.rcParams['font.family'] = 'sans-serif'\n",
    "sns.mpl.rcParams['font.size'] = 14"
   ]
  },
  {
   "cell_type": "code",
   "execution_count": 4,
   "metadata": {},
   "outputs": [],
   "source": [
    "df_data = pd.read_csv(r'/home/brainiac/Vlad/Jupyter Notebooks/DataSets/Market Regimes/Input/VLADISLAV_t1000_selected_features.csv')"
   ]
  },
  {
   "cell_type": "code",
   "execution_count": 5,
   "metadata": {},
   "outputs": [
    {
     "data": {
      "text/html": [
       "<div>\n",
       "<style scoped>\n",
       "    .dataframe tbody tr th:only-of-type {\n",
       "        vertical-align: middle;\n",
       "    }\n",
       "\n",
       "    .dataframe tbody tr th {\n",
       "        vertical-align: top;\n",
       "    }\n",
       "\n",
       "    .dataframe thead th {\n",
       "        text-align: right;\n",
       "    }\n",
       "</style>\n",
       "<table border=\"1\" class=\"dataframe\">\n",
       "  <thead>\n",
       "    <tr style=\"text-align: right;\">\n",
       "      <th></th>\n",
       "      <th>p_25_value__fft_coefficient__coeff_0__attr_\"abs\"</th>\n",
       "      <th>volatility_bbw</th>\n",
       "      <th>p_55_value__quantile__q_0.7</th>\n",
       "      <th>close</th>\n",
       "      <th>p_25_value__maximum</th>\n",
       "      <th>trend_macd</th>\n",
       "      <th>p_55_value__fft_coefficient__coeff_0__attr_\"abs\"</th>\n",
       "      <th>datetime</th>\n",
       "      <th>momentum_roc</th>\n",
       "      <th>p_75_value__fft_coefficient__coeff_0__attr_\"abs\"</th>\n",
       "      <th>...</th>\n",
       "      <th>momentum_rsi_p_20</th>\n",
       "      <th>p_25_value__minimum</th>\n",
       "      <th>p_35_value__fft_coefficient__coeff_0__attr_\"abs\"</th>\n",
       "      <th>p_45_value__sum_values</th>\n",
       "      <th>p_15_value__quantile__q_0.1</th>\n",
       "      <th>p_5_value__fft_coefficient__coeff_0__attr_\"abs\"</th>\n",
       "      <th>p_85_value__energy_ratio_by_chunks__num_segments_10__segment_focus_9</th>\n",
       "      <th>p_95_value__absolute_sum_of_changes</th>\n",
       "      <th>p_65_value__fft_coefficient__coeff_0__attr_\"abs\"</th>\n",
       "      <th>volatility_bbh</th>\n",
       "    </tr>\n",
       "  </thead>\n",
       "  <tbody>\n",
       "    <tr>\n",
       "      <td>0</td>\n",
       "      <td>0.000017</td>\n",
       "      <td>5.249339</td>\n",
       "      <td>0.000017</td>\n",
       "      <td>3691.5</td>\n",
       "      <td>0.000017</td>\n",
       "      <td>0.270111</td>\n",
       "      <td>0.000017</td>\n",
       "      <td>2019-01-01 00:32:53.598027</td>\n",
       "      <td>0.0</td>\n",
       "      <td>0.000017</td>\n",
       "      <td>...</td>\n",
       "      <td>100.000000</td>\n",
       "      <td>0.000017</td>\n",
       "      <td>0.000017</td>\n",
       "      <td>0.000017</td>\n",
       "      <td>0.000017</td>\n",
       "      <td>0.000017</td>\n",
       "      <td>0.0</td>\n",
       "      <td>0.000000</td>\n",
       "      <td>0.000017</td>\n",
       "      <td>3692.291336</td>\n",
       "    </tr>\n",
       "    <tr>\n",
       "      <td>1</td>\n",
       "      <td>0.000099</td>\n",
       "      <td>13.490738</td>\n",
       "      <td>0.000063</td>\n",
       "      <td>3697.0</td>\n",
       "      <td>0.000082</td>\n",
       "      <td>0.886156</td>\n",
       "      <td>0.000099</td>\n",
       "      <td>2019-01-01 00:33:51.189501</td>\n",
       "      <td>0.0</td>\n",
       "      <td>0.000099</td>\n",
       "      <td>...</td>\n",
       "      <td>100.000000</td>\n",
       "      <td>0.000017</td>\n",
       "      <td>0.000099</td>\n",
       "      <td>0.000099</td>\n",
       "      <td>0.000023</td>\n",
       "      <td>0.000099</td>\n",
       "      <td>0.0</td>\n",
       "      <td>0.000066</td>\n",
       "      <td>0.000099</td>\n",
       "      <td>3698.245369</td>\n",
       "    </tr>\n",
       "    <tr>\n",
       "      <td>2</td>\n",
       "      <td>0.000280</td>\n",
       "      <td>12.986146</td>\n",
       "      <td>0.000122</td>\n",
       "      <td>3694.5</td>\n",
       "      <td>0.000181</td>\n",
       "      <td>1.159283</td>\n",
       "      <td>0.000280</td>\n",
       "      <td>2019-01-01 00:42:49.305723</td>\n",
       "      <td>0.0</td>\n",
       "      <td>0.000280</td>\n",
       "      <td>...</td>\n",
       "      <td>75.984486</td>\n",
       "      <td>0.000017</td>\n",
       "      <td>0.000280</td>\n",
       "      <td>0.000280</td>\n",
       "      <td>0.000030</td>\n",
       "      <td>0.000280</td>\n",
       "      <td>0.0</td>\n",
       "      <td>0.000165</td>\n",
       "      <td>0.000280</td>\n",
       "      <td>3698.593073</td>\n",
       "    </tr>\n",
       "  </tbody>\n",
       "</table>\n",
       "<p>3 rows × 28 columns</p>\n",
       "</div>"
      ],
      "text/plain": [
       "   p_25_value__fft_coefficient__coeff_0__attr_\"abs\"  volatility_bbw  \\\n",
       "0                                          0.000017        5.249339   \n",
       "1                                          0.000099       13.490738   \n",
       "2                                          0.000280       12.986146   \n",
       "\n",
       "   p_55_value__quantile__q_0.7   close  p_25_value__maximum  trend_macd  \\\n",
       "0                     0.000017  3691.5             0.000017    0.270111   \n",
       "1                     0.000063  3697.0             0.000082    0.886156   \n",
       "2                     0.000122  3694.5             0.000181    1.159283   \n",
       "\n",
       "   p_55_value__fft_coefficient__coeff_0__attr_\"abs\"  \\\n",
       "0                                          0.000017   \n",
       "1                                          0.000099   \n",
       "2                                          0.000280   \n",
       "\n",
       "                     datetime  momentum_roc  \\\n",
       "0  2019-01-01 00:32:53.598027           0.0   \n",
       "1  2019-01-01 00:33:51.189501           0.0   \n",
       "2  2019-01-01 00:42:49.305723           0.0   \n",
       "\n",
       "   p_75_value__fft_coefficient__coeff_0__attr_\"abs\"  ...  momentum_rsi_p_20  \\\n",
       "0                                          0.000017  ...         100.000000   \n",
       "1                                          0.000099  ...         100.000000   \n",
       "2                                          0.000280  ...          75.984486   \n",
       "\n",
       "   p_25_value__minimum  p_35_value__fft_coefficient__coeff_0__attr_\"abs\"  \\\n",
       "0             0.000017                                          0.000017   \n",
       "1             0.000017                                          0.000099   \n",
       "2             0.000017                                          0.000280   \n",
       "\n",
       "   p_45_value__sum_values  p_15_value__quantile__q_0.1  \\\n",
       "0                0.000017                     0.000017   \n",
       "1                0.000099                     0.000023   \n",
       "2                0.000280                     0.000030   \n",
       "\n",
       "   p_5_value__fft_coefficient__coeff_0__attr_\"abs\"  \\\n",
       "0                                         0.000017   \n",
       "1                                         0.000099   \n",
       "2                                         0.000280   \n",
       "\n",
       "   p_85_value__energy_ratio_by_chunks__num_segments_10__segment_focus_9  \\\n",
       "0                                                0.0                      \n",
       "1                                                0.0                      \n",
       "2                                                0.0                      \n",
       "\n",
       "   p_95_value__absolute_sum_of_changes  \\\n",
       "0                             0.000000   \n",
       "1                             0.000066   \n",
       "2                             0.000165   \n",
       "\n",
       "   p_65_value__fft_coefficient__coeff_0__attr_\"abs\"  volatility_bbh  \n",
       "0                                          0.000017     3692.291336  \n",
       "1                                          0.000099     3698.245369  \n",
       "2                                          0.000280     3698.593073  \n",
       "\n",
       "[3 rows x 28 columns]"
      ]
     },
     "execution_count": 5,
     "metadata": {},
     "output_type": "execute_result"
    }
   ],
   "source": [
    "df_data.head(3)"
   ]
  },
  {
   "cell_type": "code",
   "execution_count": 6,
   "metadata": {},
   "outputs": [],
   "source": [
    "df_data = df_data.dropna()"
   ]
  },
  {
   "cell_type": "code",
   "execution_count": 7,
   "metadata": {},
   "outputs": [
    {
     "data": {
      "text/plain": [
       "(243919, 28)"
      ]
     },
     "execution_count": 7,
     "metadata": {},
     "output_type": "execute_result"
    }
   ],
   "source": [
    "df_data.shape"
   ]
  },
  {
   "cell_type": "markdown",
   "metadata": {},
   "source": [
    "# Прогнозирование волатильности EGARCH"
   ]
  },
  {
   "cell_type": "code",
   "execution_count": 8,
   "metadata": {},
   "outputs": [],
   "source": [
    "# Для вычисления волатильности EGARCH необходимо рассчитать возвраты. В данном блоке есть два блока рассчета волатильности. \n",
    "# Скорее всего, более правильный второй. В нем добавляются возвраты."
   ]
  },
  {
   "cell_type": "code",
   "execution_count": 9,
   "metadata": {},
   "outputs": [],
   "source": [
    "# Вычисление возвратов\n",
    "returns = 100*df_data['close'].pct_change()"
   ]
  },
  {
   "cell_type": "markdown",
   "metadata": {},
   "source": [
    "##### Первый вариант"
   ]
  },
  {
   "cell_type": "code",
   "execution_count": 10,
   "metadata": {},
   "outputs": [],
   "source": [
    "# %%time\n",
    "# egarch_train_part=110_000 #  начальные объем данных для обучения \n",
    "# egarch_forec_part=10_000 # объем данных для выполнения прогноза волатильности\n",
    "\n",
    "# egarch_vol=[] # список значений спрогнозированной волатильности\n",
    "# egarch_vol=returns.iloc[0:110_000].dropna() # вычисляем возвраты для обучения модели\n",
    "# egarch_vol_list=list(egarch_vol)\n",
    "\n",
    "# for i in range(1, math.ceil((len(df_data)-egarch_train_part)/egarch_forec_part)+1):\n",
    "#     egarch_model = arch_model(egarch_vol, vol='EGARCH', p=5, q=1, dist='studentst', mean='ARX', rescale=False) \n",
    "#     results = egarch_model.fit(last_obs=100_000, update_freq=10) # обучаем модель на 100 тысячах наблюдений\n",
    "#     forecasts = results.forecast(horizon=1, start=100_000, method='simulation') # прогнозируем волатильность на ближайшие 10 тысяч наблюдений\n",
    "#     egarch_vol_list.extend(np.sqrt(forecasts.variance.dropna()['h.1'].values)) # записываем результаты рассчитанной волатильности"
   ]
  },
  {
   "cell_type": "markdown",
   "metadata": {},
   "source": [
    "##### Второй вариант"
   ]
  },
  {
   "cell_type": "code",
   "execution_count": 11,
   "metadata": {
    "collapsed": true,
    "jupyter": {
     "outputs_hidden": true
    }
   },
   "outputs": [
    {
     "name": "stdout",
     "output_type": "stream",
     "text": [
      "Iteration:     10,   Func. Count:    147,   Neg. LLF: -6863.315116776027\n",
      "Iteration:     20,   Func. Count:    260,   Neg. LLF: -6983.755175925362\n",
      "Optimization terminated successfully.    (Exit mode 0)\n",
      "            Current function value: -6983.83604085184\n",
      "            Iterations: 25\n",
      "            Function evaluations: 315\n",
      "            Gradient evaluations: 25\n"
     ]
    },
    {
     "name": "stderr",
     "output_type": "stream",
     "text": [
      "/home/brainiac/.local/lib/python3.7/site-packages/arch/univariate/volatility.py:2210: RuntimeWarning: invalid value encountered in log\n",
      "  lnsigma2_mat = np.full((t, m), np.log(backcast))\n"
     ]
    },
    {
     "name": "stdout",
     "output_type": "stream",
     "text": [
      "Iteration:     10,   Func. Count:    148,   Neg. LLF: -7211.167963236429\n",
      "Iteration:     20,   Func. Count:    260,   Neg. LLF: -7245.5665652605285\n",
      "Optimization terminated successfully.    (Exit mode 0)\n",
      "            Current function value: -7245.579853666321\n",
      "            Iterations: 24\n",
      "            Function evaluations: 304\n",
      "            Gradient evaluations: 24\n"
     ]
    },
    {
     "name": "stderr",
     "output_type": "stream",
     "text": [
      "/home/brainiac/.local/lib/python3.7/site-packages/arch/univariate/volatility.py:2210: RuntimeWarning: invalid value encountered in log\n",
      "  lnsigma2_mat = np.full((t, m), np.log(backcast))\n"
     ]
    },
    {
     "name": "stdout",
     "output_type": "stream",
     "text": [
      "Iteration:     10,   Func. Count:    147,   Neg. LLF: -7558.05278723905\n",
      "Iteration:     20,   Func. Count:    259,   Neg. LLF: -7577.1924086547\n",
      "Optimization terminated successfully.    (Exit mode 0)\n",
      "            Current function value: -7577.192410241339\n",
      "            Iterations: 21\n",
      "            Function evaluations: 270\n",
      "            Gradient evaluations: 21\n"
     ]
    },
    {
     "name": "stderr",
     "output_type": "stream",
     "text": [
      "/home/brainiac/.local/lib/python3.7/site-packages/arch/univariate/volatility.py:2210: RuntimeWarning: invalid value encountered in log\n",
      "  lnsigma2_mat = np.full((t, m), np.log(backcast))\n"
     ]
    },
    {
     "name": "stdout",
     "output_type": "stream",
     "text": [
      "Iteration:     10,   Func. Count:    147,   Neg. LLF: -8018.592066157226\n",
      "Iteration:     20,   Func. Count:    259,   Neg. LLF: -8041.222147400133\n",
      "Optimization terminated successfully.    (Exit mode 0)\n",
      "            Current function value: -8041.222163335146\n",
      "            Iterations: 22\n",
      "            Function evaluations: 281\n",
      "            Gradient evaluations: 22\n"
     ]
    },
    {
     "name": "stderr",
     "output_type": "stream",
     "text": [
      "/home/brainiac/.local/lib/python3.7/site-packages/arch/univariate/volatility.py:2210: RuntimeWarning: invalid value encountered in log\n",
      "  lnsigma2_mat = np.full((t, m), np.log(backcast))\n"
     ]
    },
    {
     "name": "stdout",
     "output_type": "stream",
     "text": [
      "Iteration:     10,   Func. Count:    143,   Neg. LLF: -8240.070288963854\n",
      "Iteration:     20,   Func. Count:    256,   Neg. LLF: -8272.562360219825\n",
      "Optimization terminated successfully.    (Exit mode 0)\n",
      "            Current function value: -8272.563030035797\n",
      "            Iterations: 23\n",
      "            Function evaluations: 300\n",
      "            Gradient evaluations: 23\n"
     ]
    },
    {
     "name": "stderr",
     "output_type": "stream",
     "text": [
      "/home/brainiac/.local/lib/python3.7/site-packages/arch/univariate/volatility.py:2210: RuntimeWarning: invalid value encountered in log\n",
      "  lnsigma2_mat = np.full((t, m), np.log(backcast))\n"
     ]
    },
    {
     "name": "stdout",
     "output_type": "stream",
     "text": [
      "Iteration:     10,   Func. Count:    144,   Neg. LLF: -8771.36025694781\n",
      "Iteration:     20,   Func. Count:    257,   Neg. LLF: -8788.347441105097\n",
      "Optimization terminated successfully.    (Exit mode 0)\n",
      "            Current function value: -8788.351556303674\n",
      "            Iterations: 25\n",
      "            Function evaluations: 318\n",
      "            Gradient evaluations: 25\n"
     ]
    },
    {
     "name": "stderr",
     "output_type": "stream",
     "text": [
      "/home/brainiac/.local/lib/python3.7/site-packages/arch/univariate/volatility.py:2210: RuntimeWarning: invalid value encountered in log\n",
      "  lnsigma2_mat = np.full((t, m), np.log(backcast))\n"
     ]
    },
    {
     "name": "stdout",
     "output_type": "stream",
     "text": [
      "Iteration:     10,   Func. Count:    145,   Neg. LLF: -8932.27105589651\n",
      "Iteration:     20,   Func. Count:    257,   Neg. LLF: -8967.226648867663\n",
      "Optimization terminated successfully.    (Exit mode 0)\n",
      "            Current function value: -8967.226667702347\n",
      "            Iterations: 22\n",
      "            Function evaluations: 283\n",
      "            Gradient evaluations: 22\n"
     ]
    },
    {
     "name": "stderr",
     "output_type": "stream",
     "text": [
      "/home/brainiac/.local/lib/python3.7/site-packages/arch/univariate/volatility.py:2210: RuntimeWarning: invalid value encountered in log\n",
      "  lnsigma2_mat = np.full((t, m), np.log(backcast))\n"
     ]
    },
    {
     "name": "stdout",
     "output_type": "stream",
     "text": [
      "Iteration:     10,   Func. Count:    142,   Neg. LLF: -8781.343606421735\n",
      "Iteration:     20,   Func. Count:    254,   Neg. LLF: -8813.463285624326\n",
      "Optimization terminated successfully.    (Exit mode 0)\n",
      "            Current function value: -8813.463330092412\n",
      "            Iterations: 22\n",
      "            Function evaluations: 287\n",
      "            Gradient evaluations: 22\n"
     ]
    },
    {
     "name": "stderr",
     "output_type": "stream",
     "text": [
      "/home/brainiac/.local/lib/python3.7/site-packages/arch/univariate/volatility.py:2210: RuntimeWarning: invalid value encountered in log\n",
      "  lnsigma2_mat = np.full((t, m), np.log(backcast))\n"
     ]
    },
    {
     "name": "stdout",
     "output_type": "stream",
     "text": [
      "Iteration:     10,   Func. Count:    143,   Neg. LLF: -8976.32562403616\n",
      "Iteration:     20,   Func. Count:    256,   Neg. LLF: -9012.665989328209\n",
      "Optimization terminated successfully.    (Exit mode 0)\n",
      "            Current function value: -9012.6727048686\n",
      "            Iterations: 23\n",
      "            Function evaluations: 300\n",
      "            Gradient evaluations: 23\n"
     ]
    },
    {
     "name": "stderr",
     "output_type": "stream",
     "text": [
      "/home/brainiac/.local/lib/python3.7/site-packages/arch/univariate/volatility.py:2210: RuntimeWarning: invalid value encountered in log\n",
      "  lnsigma2_mat = np.full((t, m), np.log(backcast))\n"
     ]
    },
    {
     "name": "stdout",
     "output_type": "stream",
     "text": [
      "Iteration:     10,   Func. Count:    142,   Neg. LLF: -8636.847737893857\n",
      "Iteration:     20,   Func. Count:    254,   Neg. LLF: -8675.100133646647\n",
      "Optimization terminated successfully.    (Exit mode 0)\n",
      "            Current function value: -8675.100257500415\n",
      "            Iterations: 24\n",
      "            Function evaluations: 311\n",
      "            Gradient evaluations: 24\n"
     ]
    },
    {
     "name": "stderr",
     "output_type": "stream",
     "text": [
      "/home/brainiac/.local/lib/python3.7/site-packages/arch/univariate/volatility.py:2210: RuntimeWarning: invalid value encountered in log\n",
      "  lnsigma2_mat = np.full((t, m), np.log(backcast))\n"
     ]
    },
    {
     "name": "stdout",
     "output_type": "stream",
     "text": [
      "Iteration:     10,   Func. Count:    143,   Neg. LLF: -8683.411608062066\n",
      "Iteration:     20,   Func. Count:    256,   Neg. LLF: -8721.669865548352\n",
      "Optimization terminated successfully.    (Exit mode 0)\n",
      "            Current function value: -8721.670109540584\n",
      "            Iterations: 22\n",
      "            Function evaluations: 289\n",
      "            Gradient evaluations: 22\n"
     ]
    },
    {
     "name": "stderr",
     "output_type": "stream",
     "text": [
      "/home/brainiac/.local/lib/python3.7/site-packages/arch/univariate/volatility.py:2210: RuntimeWarning: invalid value encountered in log\n",
      "  lnsigma2_mat = np.full((t, m), np.log(backcast))\n"
     ]
    },
    {
     "name": "stdout",
     "output_type": "stream",
     "text": [
      "Iteration:     10,   Func. Count:    143,   Neg. LLF: -8571.225111408148\n",
      "Iteration:     20,   Func. Count:    259,   Neg. LLF: -8638.606739569283\n",
      "Optimization terminated successfully.    (Exit mode 0)\n",
      "            Current function value: -8639.314971731907\n",
      "            Iterations: 25\n",
      "            Function evaluations: 325\n",
      "            Gradient evaluations: 25\n"
     ]
    },
    {
     "name": "stderr",
     "output_type": "stream",
     "text": [
      "/home/brainiac/.local/lib/python3.7/site-packages/arch/univariate/volatility.py:2210: RuntimeWarning: invalid value encountered in log\n",
      "  lnsigma2_mat = np.full((t, m), np.log(backcast))\n"
     ]
    },
    {
     "name": "stdout",
     "output_type": "stream",
     "text": [
      "Iteration:     10,   Func. Count:    144,   Neg. LLF: -8260.972723189077\n",
      "Iteration:     20,   Func. Count:    259,   Neg. LLF: -8329.45475064413\n",
      "Optimization terminated successfully.    (Exit mode 0)\n",
      "            Current function value: -8330.211077209373\n",
      "            Iterations: 27\n",
      "            Function evaluations: 349\n",
      "            Gradient evaluations: 27\n"
     ]
    },
    {
     "name": "stderr",
     "output_type": "stream",
     "text": [
      "/home/brainiac/.local/lib/python3.7/site-packages/arch/univariate/volatility.py:2210: RuntimeWarning: invalid value encountered in log\n",
      "  lnsigma2_mat = np.full((t, m), np.log(backcast))\n"
     ]
    },
    {
     "name": "stdout",
     "output_type": "stream",
     "text": [
      "Iteration:     10,   Func. Count:    144,   Neg. LLF: -8346.6917840536\n",
      "Iteration:     20,   Func. Count:    259,   Neg. LLF: -8389.570138975965\n",
      "Optimization terminated successfully.    (Exit mode 0)\n",
      "            Current function value: -8389.58202468818\n",
      "            Iterations: 25\n",
      "            Function evaluations: 317\n",
      "            Gradient evaluations: 25\n"
     ]
    },
    {
     "name": "stderr",
     "output_type": "stream",
     "text": [
      "/home/brainiac/.local/lib/python3.7/site-packages/arch/univariate/volatility.py:2210: RuntimeWarning: invalid value encountered in log\n",
      "  lnsigma2_mat = np.full((t, m), np.log(backcast))\n"
     ]
    },
    {
     "name": "stdout",
     "output_type": "stream",
     "text": [
      "Iteration:     10,   Func. Count:    144,   Neg. LLF: -8311.659383824852\n",
      "Iteration:     20,   Func. Count:    257,   Neg. LLF: -8361.696036497913\n",
      "Optimization terminated successfully.    (Exit mode 0)\n",
      "            Current function value: -8361.696344126167\n",
      "            Iterations: 24\n",
      "            Function evaluations: 315\n",
      "            Gradient evaluations: 24\n"
     ]
    },
    {
     "name": "stderr",
     "output_type": "stream",
     "text": [
      "/home/brainiac/.local/lib/python3.7/site-packages/arch/univariate/volatility.py:2210: RuntimeWarning: invalid value encountered in log\n",
      "  lnsigma2_mat = np.full((t, m), np.log(backcast))\n"
     ]
    },
    {
     "name": "stdout",
     "output_type": "stream",
     "text": [
      "Iteration:     10,   Func. Count:    145,   Neg. LLF: -8461.429563541298\n",
      "Iteration:     20,   Func. Count:    260,   Neg. LLF: -8518.093295625491\n",
      "Optimization terminated successfully.    (Exit mode 0)\n",
      "            Current function value: -8519.157752023273\n",
      "            Iterations: 26\n",
      "            Function evaluations: 340\n",
      "            Gradient evaluations: 26\n"
     ]
    },
    {
     "name": "stderr",
     "output_type": "stream",
     "text": [
      "/home/brainiac/.local/lib/python3.7/site-packages/arch/univariate/volatility.py:2210: RuntimeWarning: invalid value encountered in log\n",
      "  lnsigma2_mat = np.full((t, m), np.log(backcast))\n"
     ]
    },
    {
     "name": "stdout",
     "output_type": "stream",
     "text": [
      "Iteration:     10,   Func. Count:    146,   Neg. LLF: -8943.886556551694\n",
      "Iteration:     20,   Func. Count:    261,   Neg. LLF: -8997.40793284451\n",
      "Optimization terminated successfully.    (Exit mode 0)\n",
      "            Current function value: -8997.882910190277\n",
      "            Iterations: 27\n",
      "            Function evaluations: 352\n",
      "            Gradient evaluations: 27\n"
     ]
    },
    {
     "name": "stderr",
     "output_type": "stream",
     "text": [
      "/home/brainiac/.local/lib/python3.7/site-packages/arch/univariate/volatility.py:2210: RuntimeWarning: invalid value encountered in log\n",
      "  lnsigma2_mat = np.full((t, m), np.log(backcast))\n"
     ]
    },
    {
     "name": "stdout",
     "output_type": "stream",
     "text": [
      "Iteration:     10,   Func. Count:    145,   Neg. LLF: -9189.465307182003\n",
      "Iteration:     20,   Func. Count:    260,   Neg. LLF: -9259.406824647227\n",
      "Optimization terminated successfully.    (Exit mode 0)\n",
      "            Current function value: -9259.817376927142\n",
      "            Iterations: 24\n",
      "            Function evaluations: 316\n",
      "            Gradient evaluations: 24\n"
     ]
    },
    {
     "name": "stderr",
     "output_type": "stream",
     "text": [
      "/home/brainiac/.local/lib/python3.7/site-packages/arch/univariate/volatility.py:2210: RuntimeWarning: invalid value encountered in log\n",
      "  lnsigma2_mat = np.full((t, m), np.log(backcast))\n"
     ]
    },
    {
     "name": "stdout",
     "output_type": "stream",
     "text": [
      "Iteration:     10,   Func. Count:    145,   Neg. LLF: -9811.005229147306\n",
      "Iteration:     20,   Func. Count:    258,   Neg. LLF: -9861.80308185146\n",
      "Optimization terminated successfully.    (Exit mode 0)\n",
      "            Current function value: -9861.843393590869\n",
      "            Iterations: 26\n",
      "            Function evaluations: 331\n",
      "            Gradient evaluations: 26\n"
     ]
    },
    {
     "name": "stderr",
     "output_type": "stream",
     "text": [
      "/home/brainiac/.local/lib/python3.7/site-packages/arch/univariate/volatility.py:2210: RuntimeWarning: invalid value encountered in log\n",
      "  lnsigma2_mat = np.full((t, m), np.log(backcast))\n"
     ]
    },
    {
     "name": "stdout",
     "output_type": "stream",
     "text": [
      "Iteration:     10,   Func. Count:    145,   Neg. LLF: -10018.900832408377\n",
      "Iteration:     20,   Func. Count:    258,   Neg. LLF: -10067.599218609512\n",
      "Optimization terminated successfully.    (Exit mode 0)\n",
      "            Current function value: -10067.636544317755\n",
      "            Iterations: 26\n",
      "            Function evaluations: 329\n",
      "            Gradient evaluations: 26\n"
     ]
    },
    {
     "name": "stderr",
     "output_type": "stream",
     "text": [
      "/home/brainiac/.local/lib/python3.7/site-packages/arch/univariate/volatility.py:2210: RuntimeWarning: invalid value encountered in log\n",
      "  lnsigma2_mat = np.full((t, m), np.log(backcast))\n"
     ]
    },
    {
     "name": "stdout",
     "output_type": "stream",
     "text": [
      "Iteration:     10,   Func. Count:    146,   Neg. LLF: -9240.339057726987\n",
      "Iteration:     20,   Func. Count:    260,   Neg. LLF: -9291.504153233796\n",
      "Optimization terminated successfully.    (Exit mode 0)\n",
      "            Current function value: -9291.53674495169\n",
      "            Iterations: 24\n",
      "            Function evaluations: 316\n",
      "            Gradient evaluations: 24\n"
     ]
    },
    {
     "name": "stderr",
     "output_type": "stream",
     "text": [
      "/home/brainiac/.local/lib/python3.7/site-packages/arch/univariate/volatility.py:2210: RuntimeWarning: invalid value encountered in log\n",
      "  lnsigma2_mat = np.full((t, m), np.log(backcast))\n"
     ]
    },
    {
     "name": "stdout",
     "output_type": "stream",
     "text": [
      "Iteration:     10,   Func. Count:    145,   Neg. LLF: -8632.156081853727\n",
      "Iteration:     20,   Func. Count:    259,   Neg. LLF: -8698.195778415293\n",
      "Optimization terminated successfully.    (Exit mode 0)\n",
      "            Current function value: -8698.29268918148\n",
      "            Iterations: 24\n",
      "            Function evaluations: 315\n",
      "            Gradient evaluations: 24\n"
     ]
    },
    {
     "name": "stderr",
     "output_type": "stream",
     "text": [
      "/home/brainiac/.local/lib/python3.7/site-packages/arch/univariate/volatility.py:2210: RuntimeWarning: invalid value encountered in log\n",
      "  lnsigma2_mat = np.full((t, m), np.log(backcast))\n"
     ]
    },
    {
     "name": "stdout",
     "output_type": "stream",
     "text": [
      "Iteration:     10,   Func. Count:    147,   Neg. LLF: -8113.604557818589\n",
      "Iteration:     20,   Func. Count:    261,   Neg. LLF: -8182.751468782617\n",
      "Iteration:     30,   Func. Count:    374,   Neg. LLF: -8183.508355899121\n",
      "Optimization terminated successfully.    (Exit mode 0)\n",
      "            Current function value: -8183.508355897135\n",
      "            Iterations: 30\n",
      "            Function evaluations: 385\n",
      "            Gradient evaluations: 30\n"
     ]
    },
    {
     "name": "stderr",
     "output_type": "stream",
     "text": [
      "/home/brainiac/.local/lib/python3.7/site-packages/arch/univariate/volatility.py:2210: RuntimeWarning: invalid value encountered in log\n",
      "  lnsigma2_mat = np.full((t, m), np.log(backcast))\n"
     ]
    },
    {
     "name": "stdout",
     "output_type": "stream",
     "text": [
      "Iteration:     10,   Func. Count:    148,   Neg. LLF: -7455.317177414851\n",
      "Iteration:     20,   Func. Count:    263,   Neg. LLF: -7531.110482045355\n",
      "Optimization terminated successfully.    (Exit mode 0)\n",
      "            Current function value: -7532.322466581098\n",
      "            Iterations: 25\n",
      "            Function evaluations: 329\n",
      "            Gradient evaluations: 25\n"
     ]
    },
    {
     "name": "stderr",
     "output_type": "stream",
     "text": [
      "/home/brainiac/.local/lib/python3.7/site-packages/arch/univariate/volatility.py:2210: RuntimeWarning: invalid value encountered in log\n",
      "  lnsigma2_mat = np.full((t, m), np.log(backcast))\n"
     ]
    },
    {
     "name": "stdout",
     "output_type": "stream",
     "text": [
      "Iteration:     10,   Func. Count:    145,   Neg. LLF: -6993.145869125328\n",
      "Iteration:     20,   Func. Count:    259,   Neg. LLF: -7057.294530889283\n",
      "Optimization terminated successfully.    (Exit mode 0)\n",
      "            Current function value: -7057.452878614041\n",
      "            Iterations: 24\n",
      "            Function evaluations: 314\n",
      "            Gradient evaluations: 24\n"
     ]
    },
    {
     "name": "stderr",
     "output_type": "stream",
     "text": [
      "/home/brainiac/.local/lib/python3.7/site-packages/arch/univariate/volatility.py:2210: RuntimeWarning: invalid value encountered in log\n",
      "  lnsigma2_mat = np.full((t, m), np.log(backcast))\n"
     ]
    },
    {
     "name": "stdout",
     "output_type": "stream",
     "text": [
      "Iteration:     10,   Func. Count:    142,   Neg. LLF: -6325.435693346536\n",
      "Iteration:     20,   Func. Count:    257,   Neg. LLF: -6388.0877951390485\n",
      "Optimization terminated successfully.    (Exit mode 0)\n",
      "            Current function value: -6389.197138750566\n",
      "            Iterations: 24\n",
      "            Function evaluations: 312\n",
      "            Gradient evaluations: 24\n"
     ]
    },
    {
     "name": "stderr",
     "output_type": "stream",
     "text": [
      "/home/brainiac/.local/lib/python3.7/site-packages/arch/univariate/volatility.py:2210: RuntimeWarning: invalid value encountered in log\n",
      "  lnsigma2_mat = np.full((t, m), np.log(backcast))\n"
     ]
    },
    {
     "name": "stdout",
     "output_type": "stream",
     "text": [
      "Iteration:     10,   Func. Count:    143,   Neg. LLF: -5801.891993162716\n",
      "Iteration:     20,   Func. Count:    258,   Neg. LLF: -5858.382481993844\n",
      "Optimization terminated successfully.    (Exit mode 0)\n",
      "            Current function value: -5858.676598932003\n",
      "            Iterations: 27\n",
      "            Function evaluations: 353\n",
      "            Gradient evaluations: 27\n"
     ]
    },
    {
     "name": "stderr",
     "output_type": "stream",
     "text": [
      "/home/brainiac/.local/lib/python3.7/site-packages/arch/univariate/volatility.py:2210: RuntimeWarning: invalid value encountered in log\n",
      "  lnsigma2_mat = np.full((t, m), np.log(backcast))\n"
     ]
    },
    {
     "name": "stdout",
     "output_type": "stream",
     "text": [
      "Iteration:     10,   Func. Count:    144,   Neg. LLF: -5428.5095658087685\n",
      "Iteration:     20,   Func. Count:    259,   Neg. LLF: -5477.119322475102\n",
      "Optimization terminated successfully.    (Exit mode 0)\n",
      "            Current function value: -5477.126094593575\n",
      "            Iterations: 22\n",
      "            Function evaluations: 292\n",
      "            Gradient evaluations: 22\n"
     ]
    },
    {
     "name": "stderr",
     "output_type": "stream",
     "text": [
      "/home/brainiac/.local/lib/python3.7/site-packages/arch/univariate/volatility.py:2210: RuntimeWarning: invalid value encountered in log\n",
      "  lnsigma2_mat = np.full((t, m), np.log(backcast))\n"
     ]
    },
    {
     "name": "stdout",
     "output_type": "stream",
     "text": [
      "Iteration:     10,   Func. Count:    141,   Neg. LLF: -5181.056860767349\n",
      "Iteration:     20,   Func. Count:    254,   Neg. LLF: -5232.953114876336\n",
      "Optimization terminated successfully.    (Exit mode 0)\n",
      "            Current function value: -5232.957545056568\n",
      "            Iterations: 23\n",
      "            Function evaluations: 299\n",
      "            Gradient evaluations: 23\n"
     ]
    },
    {
     "name": "stderr",
     "output_type": "stream",
     "text": [
      "/home/brainiac/.local/lib/python3.7/site-packages/arch/univariate/volatility.py:2210: RuntimeWarning: invalid value encountered in log\n",
      "  lnsigma2_mat = np.full((t, m), np.log(backcast))\n"
     ]
    },
    {
     "name": "stdout",
     "output_type": "stream",
     "text": [
      "Iteration:     10,   Func. Count:    140,   Neg. LLF: -5810.334552833061\n",
      "Iteration:     20,   Func. Count:    254,   Neg. LLF: -5903.66404338539\n",
      "Optimization terminated successfully.    (Exit mode 0)\n",
      "            Current function value: -5904.762750932411\n",
      "            Iterations: 25\n",
      "            Function evaluations: 322\n",
      "            Gradient evaluations: 25\n"
     ]
    },
    {
     "name": "stderr",
     "output_type": "stream",
     "text": [
      "/home/brainiac/.local/lib/python3.7/site-packages/arch/univariate/volatility.py:2210: RuntimeWarning: invalid value encountered in log\n",
      "  lnsigma2_mat = np.full((t, m), np.log(backcast))\n"
     ]
    },
    {
     "name": "stdout",
     "output_type": "stream",
     "text": [
      "Iteration:     10,   Func. Count:    142,   Neg. LLF: -6248.1792303014045\n",
      "Iteration:     20,   Func. Count:    255,   Neg. LLF: -6326.555323184099\n",
      "Iteration:     30,   Func. Count:    373,   Neg. LLF: -6326.625365621305\n",
      "Optimization terminated successfully.    (Exit mode 0)\n",
      "            Current function value: -6326.6253656213485\n",
      "            Iterations: 30\n",
      "            Function evaluations: 384\n",
      "            Gradient evaluations: 30\n"
     ]
    },
    {
     "name": "stderr",
     "output_type": "stream",
     "text": [
      "/home/brainiac/.local/lib/python3.7/site-packages/arch/univariate/volatility.py:2210: RuntimeWarning: invalid value encountered in log\n",
      "  lnsigma2_mat = np.full((t, m), np.log(backcast))\n"
     ]
    },
    {
     "name": "stdout",
     "output_type": "stream",
     "text": [
      "Iteration:     10,   Func. Count:    143,   Neg. LLF: -6493.775213474883\n",
      "Iteration:     20,   Func. Count:    256,   Neg. LLF: -6585.401695336718\n",
      "Optimization terminated successfully.    (Exit mode 0)\n",
      "            Current function value: -6585.47250322733\n",
      "            Iterations: 25\n",
      "            Function evaluations: 317\n",
      "            Gradient evaluations: 25\n"
     ]
    },
    {
     "name": "stderr",
     "output_type": "stream",
     "text": [
      "/home/brainiac/.local/lib/python3.7/site-packages/arch/univariate/volatility.py:2210: RuntimeWarning: invalid value encountered in log\n",
      "  lnsigma2_mat = np.full((t, m), np.log(backcast))\n"
     ]
    },
    {
     "name": "stdout",
     "output_type": "stream",
     "text": [
      "Iteration:     10,   Func. Count:    141,   Neg. LLF: -6951.4741704560265\n",
      "Iteration:     20,   Func. Count:    254,   Neg. LLF: -7030.522747235803\n",
      "Optimization terminated successfully.    (Exit mode 0)\n",
      "            Current function value: -7030.55050256197\n",
      "            Iterations: 23\n",
      "            Function evaluations: 298\n",
      "            Gradient evaluations: 23\n"
     ]
    },
    {
     "name": "stderr",
     "output_type": "stream",
     "text": [
      "/home/brainiac/.local/lib/python3.7/site-packages/arch/univariate/volatility.py:2210: RuntimeWarning: invalid value encountered in log\n",
      "  lnsigma2_mat = np.full((t, m), np.log(backcast))\n"
     ]
    },
    {
     "name": "stdout",
     "output_type": "stream",
     "text": [
      "Iteration:     10,   Func. Count:    142,   Neg. LLF: -7339.01503111697\n",
      "Iteration:     20,   Func. Count:    255,   Neg. LLF: -7404.251612956243\n",
      "Optimization terminated successfully.    (Exit mode 0)\n",
      "            Current function value: -7404.260960378395\n",
      "            Iterations: 22\n",
      "            Function evaluations: 281\n",
      "            Gradient evaluations: 22\n"
     ]
    },
    {
     "name": "stderr",
     "output_type": "stream",
     "text": [
      "/home/brainiac/.local/lib/python3.7/site-packages/arch/univariate/volatility.py:2210: RuntimeWarning: invalid value encountered in log\n",
      "  lnsigma2_mat = np.full((t, m), np.log(backcast))\n"
     ]
    },
    {
     "name": "stdout",
     "output_type": "stream",
     "text": [
      "Iteration:     10,   Func. Count:    143,   Neg. LLF: -7582.33034136\n",
      "Iteration:     20,   Func. Count:    254,   Neg. LLF: -7641.628985389426\n",
      "Optimization terminated successfully.    (Exit mode 0)\n",
      "            Current function value: -7641.634522763787\n",
      "            Iterations: 24\n",
      "            Function evaluations: 298\n",
      "            Gradient evaluations: 24\n"
     ]
    },
    {
     "name": "stderr",
     "output_type": "stream",
     "text": [
      "/home/brainiac/.local/lib/python3.7/site-packages/arch/univariate/volatility.py:2210: RuntimeWarning: invalid value encountered in log\n",
      "  lnsigma2_mat = np.full((t, m), np.log(backcast))\n"
     ]
    },
    {
     "name": "stdout",
     "output_type": "stream",
     "text": [
      "Iteration:     10,   Func. Count:    144,   Neg. LLF: -7608.2796028760185\n",
      "Iteration:     20,   Func. Count:    255,   Neg. LLF: -7659.596975602507\n",
      "Optimization terminated successfully.    (Exit mode 0)\n",
      "            Current function value: -7659.598008938075\n",
      "            Iterations: 24\n",
      "            Function evaluations: 301\n",
      "            Gradient evaluations: 24\n"
     ]
    },
    {
     "name": "stderr",
     "output_type": "stream",
     "text": [
      "/home/brainiac/.local/lib/python3.7/site-packages/arch/univariate/volatility.py:2210: RuntimeWarning: invalid value encountered in log\n",
      "  lnsigma2_mat = np.full((t, m), np.log(backcast))\n"
     ]
    },
    {
     "name": "stdout",
     "output_type": "stream",
     "text": [
      "Iteration:     10,   Func. Count:    145,   Neg. LLF: -7568.119852537711\n",
      "Iteration:     20,   Func. Count:    256,   Neg. LLF: -7628.261029275681\n",
      "Optimization terminated successfully.    (Exit mode 0)\n",
      "            Current function value: -7628.264759578854\n",
      "            Iterations: 24\n",
      "            Function evaluations: 311\n",
      "            Gradient evaluations: 24\n"
     ]
    },
    {
     "name": "stderr",
     "output_type": "stream",
     "text": [
      "/home/brainiac/.local/lib/python3.7/site-packages/arch/univariate/volatility.py:2210: RuntimeWarning: invalid value encountered in log\n",
      "  lnsigma2_mat = np.full((t, m), np.log(backcast))\n"
     ]
    },
    {
     "name": "stdout",
     "output_type": "stream",
     "text": [
      "Iteration:     10,   Func. Count:    146,   Neg. LLF: -7381.789396581877\n",
      "Iteration:     20,   Func. Count:    257,   Neg. LLF: -7432.710493657625\n",
      "Optimization terminated successfully.    (Exit mode 0)\n",
      "            Current function value: -7432.711544476103\n",
      "            Iterations: 22\n",
      "            Function evaluations: 281\n",
      "            Gradient evaluations: 22\n"
     ]
    },
    {
     "name": "stderr",
     "output_type": "stream",
     "text": [
      "/home/brainiac/.local/lib/python3.7/site-packages/arch/univariate/volatility.py:2210: RuntimeWarning: invalid value encountered in log\n",
      "  lnsigma2_mat = np.full((t, m), np.log(backcast))\n"
     ]
    },
    {
     "name": "stdout",
     "output_type": "stream",
     "text": [
      "Iteration:     10,   Func. Count:    146,   Neg. LLF: -7205.221233301981\n",
      "Iteration:     20,   Func. Count:    257,   Neg. LLF: -7277.307549515155\n",
      "Optimization terminated successfully.    (Exit mode 0)\n",
      "            Current function value: -7277.307751095496\n",
      "            Iterations: 22\n",
      "            Function evaluations: 280\n",
      "            Gradient evaluations: 22\n"
     ]
    },
    {
     "name": "stderr",
     "output_type": "stream",
     "text": [
      "/home/brainiac/.local/lib/python3.7/site-packages/arch/univariate/volatility.py:2210: RuntimeWarning: invalid value encountered in log\n",
      "  lnsigma2_mat = np.full((t, m), np.log(backcast))\n"
     ]
    },
    {
     "name": "stdout",
     "output_type": "stream",
     "text": [
      "Iteration:     10,   Func. Count:    143,   Neg. LLF: -7355.011749945026\n",
      "Iteration:     20,   Func. Count:    258,   Neg. LLF: -7437.282617632782\n",
      "Optimization terminated successfully.    (Exit mode 0)\n",
      "            Current function value: -7437.633956040747\n",
      "            Iterations: 26\n",
      "            Function evaluations: 327\n",
      "            Gradient evaluations: 26\n"
     ]
    },
    {
     "name": "stderr",
     "output_type": "stream",
     "text": [
      "/home/brainiac/.local/lib/python3.7/site-packages/arch/univariate/volatility.py:2210: RuntimeWarning: invalid value encountered in log\n",
      "  lnsigma2_mat = np.full((t, m), np.log(backcast))\n"
     ]
    },
    {
     "name": "stdout",
     "output_type": "stream",
     "text": [
      "Iteration:     10,   Func. Count:    143,   Neg. LLF: -7146.489299204177\n",
      "Iteration:     20,   Func. Count:    257,   Neg. LLF: -7246.10702188415\n",
      "Optimization terminated successfully.    (Exit mode 0)\n",
      "            Current function value: -7246.1218214798255\n",
      "            Iterations: 23\n",
      "            Function evaluations: 301\n",
      "            Gradient evaluations: 23\n"
     ]
    },
    {
     "name": "stderr",
     "output_type": "stream",
     "text": [
      "/home/brainiac/.local/lib/python3.7/site-packages/arch/univariate/volatility.py:2210: RuntimeWarning: invalid value encountered in log\n",
      "  lnsigma2_mat = np.full((t, m), np.log(backcast))\n"
     ]
    },
    {
     "name": "stdout",
     "output_type": "stream",
     "text": [
      "Iteration:     10,   Func. Count:    145,   Neg. LLF: -6568.51100925581\n",
      "Iteration:     20,   Func. Count:    262,   Neg. LLF: -6642.213970362382\n",
      "Optimization terminated successfully.    (Exit mode 0)\n",
      "            Current function value: -6644.759157891652\n",
      "            Iterations: 25\n",
      "            Function evaluations: 319\n",
      "            Gradient evaluations: 25\n"
     ]
    },
    {
     "name": "stderr",
     "output_type": "stream",
     "text": [
      "/home/brainiac/.local/lib/python3.7/site-packages/arch/univariate/volatility.py:2210: RuntimeWarning: invalid value encountered in log\n",
      "  lnsigma2_mat = np.full((t, m), np.log(backcast))\n"
     ]
    },
    {
     "name": "stdout",
     "output_type": "stream",
     "text": [
      "Iteration:     10,   Func. Count:    144,   Neg. LLF: -5782.736836882634\n",
      "Iteration:     20,   Func. Count:    256,   Neg. LLF: -5817.548170524031\n",
      "Optimization terminated successfully.    (Exit mode 0)\n",
      "            Current function value: -5817.548279142952\n",
      "            Iterations: 21\n",
      "            Function evaluations: 269\n",
      "            Gradient evaluations: 21\n"
     ]
    },
    {
     "name": "stderr",
     "output_type": "stream",
     "text": [
      "/home/brainiac/.local/lib/python3.7/site-packages/arch/univariate/volatility.py:2210: RuntimeWarning: invalid value encountered in log\n",
      "  lnsigma2_mat = np.full((t, m), np.log(backcast))\n"
     ]
    },
    {
     "name": "stdout",
     "output_type": "stream",
     "text": [
      "Iteration:     10,   Func. Count:    142,   Neg. LLF: -5346.4912230358\n",
      "Iteration:     20,   Func. Count:    256,   Neg. LLF: -5378.588234374604\n",
      "Optimization terminated successfully.    (Exit mode 0)\n",
      "            Current function value: -5378.588282202485\n",
      "            Iterations: 21\n",
      "            Function evaluations: 278\n",
      "            Gradient evaluations: 21\n"
     ]
    },
    {
     "name": "stderr",
     "output_type": "stream",
     "text": [
      "/home/brainiac/.local/lib/python3.7/site-packages/arch/univariate/volatility.py:2210: RuntimeWarning: invalid value encountered in log\n",
      "  lnsigma2_mat = np.full((t, m), np.log(backcast))\n"
     ]
    },
    {
     "name": "stdout",
     "output_type": "stream",
     "text": [
      "Iteration:     10,   Func. Count:    141,   Neg. LLF: -4728.6635910331315\n",
      "Iteration:     20,   Func. Count:    256,   Neg. LLF: -4761.157431637492\n",
      "Optimization terminated successfully.    (Exit mode 0)\n",
      "            Current function value: -4761.15745895968\n",
      "            Iterations: 23\n",
      "            Function evaluations: 293\n",
      "            Gradient evaluations: 23\n"
     ]
    },
    {
     "name": "stderr",
     "output_type": "stream",
     "text": [
      "/home/brainiac/.local/lib/python3.7/site-packages/arch/univariate/volatility.py:2210: RuntimeWarning: invalid value encountered in log\n",
      "  lnsigma2_mat = np.full((t, m), np.log(backcast))\n"
     ]
    },
    {
     "name": "stdout",
     "output_type": "stream",
     "text": [
      "Iteration:     10,   Func. Count:    143,   Neg. LLF: -4023.535160255773\n",
      "Iteration:     20,   Func. Count:    257,   Neg. LLF: -4047.6682088161606\n",
      "Optimization terminated successfully.    (Exit mode 0)\n",
      "            Current function value: -4047.668237038425\n",
      "            Iterations: 22\n",
      "            Function evaluations: 291\n",
      "            Gradient evaluations: 22\n"
     ]
    },
    {
     "name": "stderr",
     "output_type": "stream",
     "text": [
      "/home/brainiac/.local/lib/python3.7/site-packages/arch/univariate/volatility.py:2210: RuntimeWarning: invalid value encountered in log\n",
      "  lnsigma2_mat = np.full((t, m), np.log(backcast))\n"
     ]
    },
    {
     "name": "stdout",
     "output_type": "stream",
     "text": [
      "Iteration:     10,   Func. Count:    142,   Neg. LLF: -3755.2770367426274\n",
      "Iteration:     20,   Func. Count:    258,   Neg. LLF: -3766.633220189202\n",
      "Optimization terminated successfully.    (Exit mode 0)\n",
      "            Current function value: -3766.6332203520037\n",
      "            Iterations: 20\n",
      "            Function evaluations: 269\n",
      "            Gradient evaluations: 20\n"
     ]
    },
    {
     "name": "stderr",
     "output_type": "stream",
     "text": [
      "/home/brainiac/.local/lib/python3.7/site-packages/arch/univariate/volatility.py:2210: RuntimeWarning: invalid value encountered in log\n",
      "  lnsigma2_mat = np.full((t, m), np.log(backcast))\n"
     ]
    },
    {
     "name": "stdout",
     "output_type": "stream",
     "text": [
      "Iteration:     10,   Func. Count:    141,   Neg. LLF: -3302.3536559328472\n",
      "Iteration:     20,   Func. Count:    256,   Neg. LLF: -3318.022336954413\n",
      "Optimization terminated successfully.    (Exit mode 0)\n",
      "            Current function value: -3318.1485014937284\n",
      "            Iterations: 22\n",
      "            Function evaluations: 289\n",
      "            Gradient evaluations: 22\n"
     ]
    },
    {
     "name": "stderr",
     "output_type": "stream",
     "text": [
      "/home/brainiac/.local/lib/python3.7/site-packages/arch/univariate/volatility.py:2210: RuntimeWarning: invalid value encountered in log\n",
      "  lnsigma2_mat = np.full((t, m), np.log(backcast))\n"
     ]
    },
    {
     "name": "stdout",
     "output_type": "stream",
     "text": [
      "Iteration:     10,   Func. Count:    142,   Neg. LLF: -2504.35928761781\n",
      "Iteration:     20,   Func. Count:    255,   Neg. LLF: -2521.6711851445416\n",
      "Optimization terminated successfully.    (Exit mode 0)\n",
      "            Current function value: -2521.6711851439777\n",
      "            Iterations: 20\n",
      "            Function evaluations: 266\n",
      "            Gradient evaluations: 20\n"
     ]
    },
    {
     "name": "stderr",
     "output_type": "stream",
     "text": [
      "/home/brainiac/.local/lib/python3.7/site-packages/arch/univariate/volatility.py:2210: RuntimeWarning: invalid value encountered in log\n",
      "  lnsigma2_mat = np.full((t, m), np.log(backcast))\n"
     ]
    },
    {
     "name": "stdout",
     "output_type": "stream",
     "text": [
      "Iteration:     10,   Func. Count:    141,   Neg. LLF: -2299.224887346884\n",
      "Iteration:     20,   Func. Count:    254,   Neg. LLF: -2314.973965502387\n",
      "Optimization terminated successfully.    (Exit mode 0)\n",
      "            Current function value: -2314.9770516602125\n",
      "            Iterations: 23\n",
      "            Function evaluations: 300\n",
      "            Gradient evaluations: 23\n"
     ]
    },
    {
     "name": "stderr",
     "output_type": "stream",
     "text": [
      "/home/brainiac/.local/lib/python3.7/site-packages/arch/univariate/volatility.py:2210: RuntimeWarning: invalid value encountered in log\n",
      "  lnsigma2_mat = np.full((t, m), np.log(backcast))\n"
     ]
    },
    {
     "name": "stdout",
     "output_type": "stream",
     "text": [
      "Iteration:     10,   Func. Count:    143,   Neg. LLF: -2421.6319703547833\n",
      "Iteration:     20,   Func. Count:    255,   Neg. LLF: -2446.931620398529\n",
      "Optimization terminated successfully.    (Exit mode 0)\n",
      "            Current function value: -2446.9316204055062\n",
      "            Iterations: 20\n",
      "            Function evaluations: 266\n",
      "            Gradient evaluations: 20\n"
     ]
    },
    {
     "name": "stderr",
     "output_type": "stream",
     "text": [
      "/home/brainiac/.local/lib/python3.7/site-packages/arch/univariate/volatility.py:2210: RuntimeWarning: invalid value encountered in log\n",
      "  lnsigma2_mat = np.full((t, m), np.log(backcast))\n"
     ]
    },
    {
     "name": "stdout",
     "output_type": "stream",
     "text": [
      "Iteration:     10,   Func. Count:    141,   Neg. LLF: -2577.42984176479\n",
      "Iteration:     20,   Func. Count:    253,   Neg. LLF: -2612.104502528817\n",
      "Optimization terminated successfully.    (Exit mode 0)\n",
      "            Current function value: -2612.1976536988095\n",
      "            Iterations: 25\n",
      "            Function evaluations: 323\n",
      "            Gradient evaluations: 25\n"
     ]
    },
    {
     "name": "stderr",
     "output_type": "stream",
     "text": [
      "/home/brainiac/.local/lib/python3.7/site-packages/arch/univariate/volatility.py:2210: RuntimeWarning: invalid value encountered in log\n",
      "  lnsigma2_mat = np.full((t, m), np.log(backcast))\n"
     ]
    },
    {
     "name": "stdout",
     "output_type": "stream",
     "text": [
      "Iteration:     10,   Func. Count:    141,   Neg. LLF: -2647.825673417034\n",
      "Iteration:     20,   Func. Count:    254,   Neg. LLF: -2675.774708078691\n",
      "Optimization terminated successfully.    (Exit mode 0)\n",
      "            Current function value: -2676.0003596474635\n",
      "            Iterations: 26\n",
      "            Function evaluations: 344\n",
      "            Gradient evaluations: 26\n"
     ]
    },
    {
     "name": "stderr",
     "output_type": "stream",
     "text": [
      "/home/brainiac/.local/lib/python3.7/site-packages/arch/univariate/volatility.py:2210: RuntimeWarning: invalid value encountered in log\n",
      "  lnsigma2_mat = np.full((t, m), np.log(backcast))\n"
     ]
    },
    {
     "name": "stdout",
     "output_type": "stream",
     "text": [
      "Iteration:     10,   Func. Count:    140,   Neg. LLF: -3118.3317647260164\n",
      "Iteration:     20,   Func. Count:    254,   Neg. LLF: -3151.565892688817\n",
      "Optimization terminated successfully.    (Exit mode 0)\n",
      "            Current function value: -3151.747464812158\n",
      "            Iterations: 27\n",
      "            Function evaluations: 345\n",
      "            Gradient evaluations: 27\n"
     ]
    },
    {
     "name": "stderr",
     "output_type": "stream",
     "text": [
      "/home/brainiac/.local/lib/python3.7/site-packages/arch/univariate/volatility.py:2210: RuntimeWarning: invalid value encountered in log\n",
      "  lnsigma2_mat = np.full((t, m), np.log(backcast))\n"
     ]
    },
    {
     "name": "stdout",
     "output_type": "stream",
     "text": [
      "Iteration:     10,   Func. Count:    142,   Neg. LLF: -3532.0488128689294\n",
      "Iteration:     20,   Func. Count:    254,   Neg. LLF: -3570.4065559505243\n",
      "Iteration:     30,   Func. Count:    372,   Neg. LLF: -3570.5766437603397\n",
      "Optimization terminated successfully.    (Exit mode 0)\n",
      "            Current function value: -3570.5766518266973\n",
      "            Iterations: 31\n",
      "            Function evaluations: 398\n",
      "            Gradient evaluations: 31\n"
     ]
    },
    {
     "name": "stderr",
     "output_type": "stream",
     "text": [
      "/home/brainiac/.local/lib/python3.7/site-packages/arch/univariate/volatility.py:2210: RuntimeWarning: invalid value encountered in log\n",
      "  lnsigma2_mat = np.full((t, m), np.log(backcast))\n"
     ]
    },
    {
     "name": "stdout",
     "output_type": "stream",
     "text": [
      "Iteration:     10,   Func. Count:    140,   Neg. LLF: -3906.0275572056457\n",
      "Iteration:     20,   Func. Count:    255,   Neg. LLF: -3942.5433417514723\n",
      "Optimization terminated successfully.    (Exit mode 0)\n",
      "            Current function value: -3943.9725260449054\n",
      "            Iterations: 27\n",
      "            Function evaluations: 356\n",
      "            Gradient evaluations: 27\n"
     ]
    },
    {
     "name": "stderr",
     "output_type": "stream",
     "text": [
      "/home/brainiac/.local/lib/python3.7/site-packages/arch/univariate/volatility.py:2210: RuntimeWarning: invalid value encountered in log\n",
      "  lnsigma2_mat = np.full((t, m), np.log(backcast))\n"
     ]
    },
    {
     "name": "stdout",
     "output_type": "stream",
     "text": [
      "Iteration:     10,   Func. Count:    141,   Neg. LLF: -4391.411499976464\n",
      "Iteration:     20,   Func. Count:    254,   Neg. LLF: -4441.001648696389\n",
      "Optimization terminated successfully.    (Exit mode 0)\n",
      "            Current function value: -4441.94742059517\n",
      "            Iterations: 28\n",
      "            Function evaluations: 361\n",
      "            Gradient evaluations: 28\n"
     ]
    },
    {
     "name": "stderr",
     "output_type": "stream",
     "text": [
      "/home/brainiac/.local/lib/python3.7/site-packages/arch/univariate/volatility.py:2210: RuntimeWarning: invalid value encountered in log\n",
      "  lnsigma2_mat = np.full((t, m), np.log(backcast))\n"
     ]
    },
    {
     "name": "stdout",
     "output_type": "stream",
     "text": [
      "Iteration:     10,   Func. Count:    139,   Neg. LLF: -4876.32084465779\n",
      "Iteration:     20,   Func. Count:    252,   Neg. LLF: -4921.984708736663\n",
      "Optimization terminated successfully.    (Exit mode 0)\n",
      "            Current function value: -4922.71034891448\n",
      "            Iterations: 26\n",
      "            Function evaluations: 340\n",
      "            Gradient evaluations: 26\n"
     ]
    },
    {
     "name": "stderr",
     "output_type": "stream",
     "text": [
      "/home/brainiac/.local/lib/python3.7/site-packages/arch/univariate/volatility.py:2210: RuntimeWarning: invalid value encountered in log\n",
      "  lnsigma2_mat = np.full((t, m), np.log(backcast))\n"
     ]
    },
    {
     "name": "stdout",
     "output_type": "stream",
     "text": [
      "Iteration:     10,   Func. Count:    142,   Neg. LLF: -5227.056123671682\n",
      "Iteration:     20,   Func. Count:    254,   Neg. LLF: -5267.7799385182725\n",
      "Optimization terminated successfully.    (Exit mode 0)\n",
      "            Current function value: -5268.426448908751\n",
      "            Iterations: 27\n",
      "            Function evaluations: 355\n",
      "            Gradient evaluations: 27\n"
     ]
    },
    {
     "name": "stderr",
     "output_type": "stream",
     "text": [
      "/home/brainiac/.local/lib/python3.7/site-packages/arch/univariate/volatility.py:2210: RuntimeWarning: invalid value encountered in log\n",
      "  lnsigma2_mat = np.full((t, m), np.log(backcast))\n"
     ]
    },
    {
     "name": "stdout",
     "output_type": "stream",
     "text": [
      "Iteration:     10,   Func. Count:    140,   Neg. LLF: -5535.103292121366\n",
      "Optimization terminated successfully.    (Exit mode 0)\n",
      "            Current function value: -5579.299705987058\n",
      "            Iterations: 19\n",
      "            Function evaluations: 254\n",
      "            Gradient evaluations: 19\n"
     ]
    },
    {
     "name": "stderr",
     "output_type": "stream",
     "text": [
      "/home/brainiac/.local/lib/python3.7/site-packages/arch/univariate/volatility.py:2210: RuntimeWarning: invalid value encountered in log\n",
      "  lnsigma2_mat = np.full((t, m), np.log(backcast))\n"
     ]
    },
    {
     "name": "stdout",
     "output_type": "stream",
     "text": [
      "Iteration:     10,   Func. Count:    141,   Neg. LLF: -5708.818242120121\n",
      "Iteration:     20,   Func. Count:    253,   Neg. LLF: -5764.986269429375\n",
      "Optimization terminated successfully.    (Exit mode 0)\n",
      "            Current function value: -5766.76523356689\n",
      "            Iterations: 26\n",
      "            Function evaluations: 320\n",
      "            Gradient evaluations: 26\n"
     ]
    },
    {
     "name": "stderr",
     "output_type": "stream",
     "text": [
      "/home/brainiac/.local/lib/python3.7/site-packages/arch/univariate/volatility.py:2210: RuntimeWarning: invalid value encountered in log\n",
      "  lnsigma2_mat = np.full((t, m), np.log(backcast))\n"
     ]
    },
    {
     "name": "stdout",
     "output_type": "stream",
     "text": [
      "Iteration:     10,   Func. Count:    141,   Neg. LLF: -6114.8890433939105\n",
      "Iteration:     20,   Func. Count:    255,   Neg. LLF: -6174.845542220107\n",
      "Iteration:     30,   Func. Count:    379,   Neg. LLF: -6174.906780532712\n",
      "Optimization terminated successfully.    (Exit mode 0)\n",
      "            Current function value: -6174.907092211169\n",
      "            Iterations: 37\n",
      "            Function evaluations: 473\n",
      "            Gradient evaluations: 37\n"
     ]
    },
    {
     "name": "stderr",
     "output_type": "stream",
     "text": [
      "/home/brainiac/.local/lib/python3.7/site-packages/arch/univariate/volatility.py:2210: RuntimeWarning: invalid value encountered in log\n",
      "  lnsigma2_mat = np.full((t, m), np.log(backcast))\n"
     ]
    },
    {
     "name": "stdout",
     "output_type": "stream",
     "text": [
      "Iteration:     10,   Func. Count:    141,   Neg. LLF: -6299.740750615379\n",
      "Iteration:     20,   Func. Count:    253,   Neg. LLF: -6350.586344437912\n",
      "Optimization terminated successfully.    (Exit mode 0)\n",
      "            Current function value: -6350.711606091087\n",
      "            Iterations: 26\n",
      "            Function evaluations: 344\n",
      "            Gradient evaluations: 26\n"
     ]
    },
    {
     "name": "stderr",
     "output_type": "stream",
     "text": [
      "/home/brainiac/.local/lib/python3.7/site-packages/arch/univariate/volatility.py:2210: RuntimeWarning: invalid value encountered in log\n",
      "  lnsigma2_mat = np.full((t, m), np.log(backcast))\n"
     ]
    },
    {
     "name": "stdout",
     "output_type": "stream",
     "text": [
      "Iteration:     10,   Func. Count:    139,   Neg. LLF: -6238.761412777217\n",
      "Iteration:     20,   Func. Count:    253,   Neg. LLF: -6284.266382345648\n",
      "Optimization terminated successfully.    (Exit mode 0)\n",
      "            Current function value: -6285.159980452348\n",
      "            Iterations: 29\n",
      "            Function evaluations: 379\n",
      "            Gradient evaluations: 29\n"
     ]
    },
    {
     "name": "stderr",
     "output_type": "stream",
     "text": [
      "/home/brainiac/.local/lib/python3.7/site-packages/arch/univariate/volatility.py:2210: RuntimeWarning: invalid value encountered in log\n",
      "  lnsigma2_mat = np.full((t, m), np.log(backcast))\n"
     ]
    },
    {
     "name": "stdout",
     "output_type": "stream",
     "text": [
      "Iteration:     10,   Func. Count:    140,   Neg. LLF: -5910.061546632773\n",
      "Iteration:     20,   Func. Count:    252,   Neg. LLF: -5954.463159687131\n",
      "Optimization terminated successfully.    (Exit mode 0)\n",
      "            Current function value: -5954.909296110697\n",
      "            Iterations: 26\n",
      "            Function evaluations: 343\n",
      "            Gradient evaluations: 26\n"
     ]
    },
    {
     "name": "stderr",
     "output_type": "stream",
     "text": [
      "/home/brainiac/.local/lib/python3.7/site-packages/arch/univariate/volatility.py:2210: RuntimeWarning: invalid value encountered in log\n",
      "  lnsigma2_mat = np.full((t, m), np.log(backcast))\n"
     ]
    },
    {
     "name": "stdout",
     "output_type": "stream",
     "text": [
      "Iteration:     10,   Func. Count:    140,   Neg. LLF: -5556.26975156505\n",
      "Iteration:     20,   Func. Count:    254,   Neg. LLF: -5602.014960894982\n",
      "Optimization terminated successfully.    (Exit mode 0)\n",
      "            Current function value: -5602.388479732046\n",
      "            Iterations: 21\n",
      "            Function evaluations: 276\n",
      "            Gradient evaluations: 21\n"
     ]
    },
    {
     "name": "stderr",
     "output_type": "stream",
     "text": [
      "/home/brainiac/.local/lib/python3.7/site-packages/arch/univariate/volatility.py:2210: RuntimeWarning: invalid value encountered in log\n",
      "  lnsigma2_mat = np.full((t, m), np.log(backcast))\n"
     ]
    },
    {
     "name": "stdout",
     "output_type": "stream",
     "text": [
      "Iteration:     10,   Func. Count:    144,   Neg. LLF: -5723.15603762412\n",
      "Iteration:     20,   Func. Count:    255,   Neg. LLF: -5776.555830247248\n",
      "Iteration:     30,   Func. Count:    435,   Neg. LLF: -5776.581375371187\n",
      "Optimization terminated successfully.    (Exit mode 0)\n",
      "            Current function value: -5776.5815079582935\n",
      "            Iterations: 35\n",
      "            Function evaluations: 496\n",
      "            Gradient evaluations: 35\n"
     ]
    },
    {
     "name": "stderr",
     "output_type": "stream",
     "text": [
      "/home/brainiac/.local/lib/python3.7/site-packages/arch/univariate/volatility.py:2210: RuntimeWarning: invalid value encountered in log\n",
      "  lnsigma2_mat = np.full((t, m), np.log(backcast))\n"
     ]
    },
    {
     "name": "stdout",
     "output_type": "stream",
     "text": [
      "Iteration:     10,   Func. Count:    142,   Neg. LLF: -5782.21411995123\n",
      "Iteration:     20,   Func. Count:    253,   Neg. LLF: -5839.361954071573\n",
      "Optimization terminated successfully.    (Exit mode 0)\n",
      "            Current function value: -5839.460427039686\n",
      "            Iterations: 25\n",
      "            Function evaluations: 334\n",
      "            Gradient evaluations: 25\n"
     ]
    },
    {
     "name": "stderr",
     "output_type": "stream",
     "text": [
      "/home/brainiac/.local/lib/python3.7/site-packages/arch/univariate/volatility.py:2210: RuntimeWarning: invalid value encountered in log\n",
      "  lnsigma2_mat = np.full((t, m), np.log(backcast))\n"
     ]
    },
    {
     "name": "stdout",
     "output_type": "stream",
     "text": [
      "Iteration:     10,   Func. Count:    140,   Neg. LLF: -5716.595585970074\n",
      "Iteration:     20,   Func. Count:    252,   Neg. LLF: -5770.674812556155\n",
      "Optimization terminated successfully.    (Exit mode 0)\n",
      "            Current function value: -5772.429892377835\n",
      "            Iterations: 27\n",
      "            Function evaluations: 354\n",
      "            Gradient evaluations: 27\n"
     ]
    },
    {
     "name": "stderr",
     "output_type": "stream",
     "text": [
      "/home/brainiac/.local/lib/python3.7/site-packages/arch/univariate/volatility.py:2210: RuntimeWarning: invalid value encountered in log\n",
      "  lnsigma2_mat = np.full((t, m), np.log(backcast))\n"
     ]
    },
    {
     "name": "stdout",
     "output_type": "stream",
     "text": [
      "Iteration:     10,   Func. Count:    139,   Neg. LLF: -6020.4233871646575\n",
      "Iteration:     20,   Func. Count:    251,   Neg. LLF: -6074.578656243476\n",
      "Iteration:     30,   Func. Count:    379,   Neg. LLF: -6074.715309527124\n",
      "Optimization terminated successfully.    (Exit mode 0)\n",
      "            Current function value: -6074.715864553516\n",
      "            Iterations: 34\n",
      "            Function evaluations: 433\n",
      "            Gradient evaluations: 34\n"
     ]
    },
    {
     "name": "stderr",
     "output_type": "stream",
     "text": [
      "/home/brainiac/.local/lib/python3.7/site-packages/arch/univariate/volatility.py:2210: RuntimeWarning: invalid value encountered in log\n",
      "  lnsigma2_mat = np.full((t, m), np.log(backcast))\n"
     ]
    },
    {
     "name": "stdout",
     "output_type": "stream",
     "text": [
      "Iteration:     10,   Func. Count:    140,   Neg. LLF: -6175.321903362942\n",
      "Iteration:     20,   Func. Count:    253,   Neg. LLF: -6236.428067292036\n",
      "Optimization terminated successfully.    (Exit mode 0)\n",
      "            Current function value: -6237.793188934439\n",
      "            Iterations: 25\n",
      "            Function evaluations: 323\n",
      "            Gradient evaluations: 25\n"
     ]
    },
    {
     "name": "stderr",
     "output_type": "stream",
     "text": [
      "/home/brainiac/.local/lib/python3.7/site-packages/arch/univariate/volatility.py:2210: RuntimeWarning: invalid value encountered in log\n",
      "  lnsigma2_mat = np.full((t, m), np.log(backcast))\n"
     ]
    },
    {
     "name": "stdout",
     "output_type": "stream",
     "text": [
      "Iteration:     10,   Func. Count:    137,   Neg. LLF: -6312.193372943216\n",
      "Iteration:     20,   Func. Count:    251,   Neg. LLF: -6379.232655450188\n",
      "Optimization terminated successfully.    (Exit mode 0)\n",
      "            Current function value: -6381.471773249857\n",
      "            Iterations: 28\n",
      "            Function evaluations: 381\n",
      "            Gradient evaluations: 28\n"
     ]
    },
    {
     "name": "stderr",
     "output_type": "stream",
     "text": [
      "/home/brainiac/.local/lib/python3.7/site-packages/arch/univariate/volatility.py:2210: RuntimeWarning: invalid value encountered in log\n",
      "  lnsigma2_mat = np.full((t, m), np.log(backcast))\n"
     ]
    },
    {
     "name": "stdout",
     "output_type": "stream",
     "text": [
      "Iteration:     10,   Func. Count:    139,   Neg. LLF: -6491.668892095294\n",
      "Iteration:     20,   Func. Count:    255,   Neg. LLF: -6549.83226260432\n",
      "Optimization terminated successfully.    (Exit mode 0)\n",
      "            Current function value: -6551.070162579598\n",
      "            Iterations: 27\n",
      "            Function evaluations: 348\n",
      "            Gradient evaluations: 27\n"
     ]
    },
    {
     "name": "stderr",
     "output_type": "stream",
     "text": [
      "/home/brainiac/.local/lib/python3.7/site-packages/arch/univariate/volatility.py:2210: RuntimeWarning: invalid value encountered in log\n",
      "  lnsigma2_mat = np.full((t, m), np.log(backcast))\n"
     ]
    },
    {
     "name": "stdout",
     "output_type": "stream",
     "text": [
      "Iteration:     10,   Func. Count:    143,   Neg. LLF: -6688.394604779958\n",
      "Iteration:     20,   Func. Count:    254,   Neg. LLF: -6747.991302313695\n",
      "Optimization terminated successfully.    (Exit mode 0)\n",
      "            Current function value: -6749.721450601273\n",
      "            Iterations: 27\n",
      "            Function evaluations: 352\n",
      "            Gradient evaluations: 27\n"
     ]
    },
    {
     "name": "stderr",
     "output_type": "stream",
     "text": [
      "/home/brainiac/.local/lib/python3.7/site-packages/arch/univariate/volatility.py:2210: RuntimeWarning: invalid value encountered in log\n",
      "  lnsigma2_mat = np.full((t, m), np.log(backcast))\n"
     ]
    },
    {
     "name": "stdout",
     "output_type": "stream",
     "text": [
      "Iteration:     10,   Func. Count:    141,   Neg. LLF: -6877.209779148716\n",
      "Iteration:     20,   Func. Count:    254,   Neg. LLF: -6927.497125532397\n",
      "Iteration:     30,   Func. Count:    368,   Neg. LLF: -6934.330399638193\n",
      "Optimization terminated successfully.    (Exit mode 0)\n",
      "            Current function value: -6934.335269709816\n",
      "            Iterations: 31\n",
      "            Function evaluations: 390\n",
      "            Gradient evaluations: 31\n"
     ]
    },
    {
     "name": "stderr",
     "output_type": "stream",
     "text": [
      "/home/brainiac/.local/lib/python3.7/site-packages/arch/univariate/volatility.py:2210: RuntimeWarning: invalid value encountered in log\n",
      "  lnsigma2_mat = np.full((t, m), np.log(backcast))\n"
     ]
    },
    {
     "name": "stdout",
     "output_type": "stream",
     "text": [
      "Iteration:     10,   Func. Count:    141,   Neg. LLF: -7038.1242412969395\n",
      "Iteration:     20,   Func. Count:    253,   Neg. LLF: -7107.4857762842685\n",
      "Iteration:     30,   Func. Count:    376,   Neg. LLF: -7107.912757203479\n",
      "Iteration:     40,   Func. Count:    489,   Neg. LLF: -7107.9160127896985\n",
      "Iteration:     50,   Func. Count:    604,   Neg. LLF: -7107.917596244036\n",
      "Iteration:     60,   Func. Count:    719,   Neg. LLF: -7107.917972395957\n",
      "Optimization terminated successfully.    (Exit mode 0)\n",
      "            Current function value: -7107.918089078333\n",
      "            Iterations: 61\n",
      "            Function evaluations: 741\n",
      "            Gradient evaluations: 61\n"
     ]
    },
    {
     "name": "stderr",
     "output_type": "stream",
     "text": [
      "/home/brainiac/.local/lib/python3.7/site-packages/arch/univariate/volatility.py:2210: RuntimeWarning: invalid value encountered in log\n",
      "  lnsigma2_mat = np.full((t, m), np.log(backcast))\n"
     ]
    },
    {
     "name": "stdout",
     "output_type": "stream",
     "text": [
      "Iteration:     10,   Func. Count:    144,   Neg. LLF: -7184.918780723134\n",
      "Iteration:     20,   Func. Count:    255,   Neg. LLF: -7230.139211317146\n",
      "Optimization terminated successfully.    (Exit mode 0)\n",
      "            Current function value: -7232.707479510073\n",
      "            Iterations: 28\n",
      "            Function evaluations: 366\n",
      "            Gradient evaluations: 28\n"
     ]
    },
    {
     "name": "stderr",
     "output_type": "stream",
     "text": [
      "/home/brainiac/.local/lib/python3.7/site-packages/arch/univariate/volatility.py:2210: RuntimeWarning: invalid value encountered in log\n",
      "  lnsigma2_mat = np.full((t, m), np.log(backcast))\n"
     ]
    },
    {
     "name": "stdout",
     "output_type": "stream",
     "text": [
      "Iteration:     10,   Func. Count:    141,   Neg. LLF: -7199.0728699780475\n",
      "Iteration:     20,   Func. Count:    254,   Neg. LLF: -7248.864750030994\n",
      "Optimization terminated successfully.    (Exit mode 0)\n",
      "            Current function value: -7249.552251637372\n",
      "            Iterations: 24\n",
      "            Function evaluations: 319\n",
      "            Gradient evaluations: 24\n"
     ]
    },
    {
     "name": "stderr",
     "output_type": "stream",
     "text": [
      "/home/brainiac/.local/lib/python3.7/site-packages/arch/univariate/volatility.py:2210: RuntimeWarning: invalid value encountered in log\n",
      "  lnsigma2_mat = np.full((t, m), np.log(backcast))\n"
     ]
    },
    {
     "name": "stdout",
     "output_type": "stream",
     "text": [
      "Iteration:     10,   Func. Count:    143,   Neg. LLF: -6847.0967251139955\n",
      "Iteration:     20,   Func. Count:    256,   Neg. LLF: -6897.626594421566\n",
      "Optimization terminated successfully.    (Exit mode 0)\n",
      "            Current function value: -6897.626594117373\n",
      "            Iterations: 20\n",
      "            Function evaluations: 267\n",
      "            Gradient evaluations: 20\n"
     ]
    },
    {
     "name": "stderr",
     "output_type": "stream",
     "text": [
      "/home/brainiac/.local/lib/python3.7/site-packages/arch/univariate/volatility.py:2210: RuntimeWarning: invalid value encountered in log\n",
      "  lnsigma2_mat = np.full((t, m), np.log(backcast))\n"
     ]
    },
    {
     "name": "stdout",
     "output_type": "stream",
     "text": [
      "Iteration:     10,   Func. Count:    140,   Neg. LLF: -6283.025963405647\n",
      "Iteration:     20,   Func. Count:    253,   Neg. LLF: -6330.123334006925\n",
      "Iteration:     30,   Func. Count:    374,   Neg. LLF: -6333.03719648263\n",
      "Optimization terminated successfully.    (Exit mode 0)\n",
      "            Current function value: -6333.037260503568\n",
      "            Iterations: 33\n",
      "            Function evaluations: 427\n",
      "            Gradient evaluations: 33\n"
     ]
    },
    {
     "name": "stderr",
     "output_type": "stream",
     "text": [
      "/home/brainiac/.local/lib/python3.7/site-packages/arch/univariate/volatility.py:2210: RuntimeWarning: invalid value encountered in log\n",
      "  lnsigma2_mat = np.full((t, m), np.log(backcast))\n"
     ]
    },
    {
     "name": "stdout",
     "output_type": "stream",
     "text": [
      "Iteration:     10,   Func. Count:    144,   Neg. LLF: -5814.912153698343\n",
      "Iteration:     20,   Func. Count:    255,   Neg. LLF: -5855.132209804169\n",
      "Optimization terminated successfully.    (Exit mode 0)\n",
      "            Current function value: -5855.82768488218\n",
      "            Iterations: 25\n",
      "            Function evaluations: 334\n",
      "            Gradient evaluations: 25\n"
     ]
    },
    {
     "name": "stderr",
     "output_type": "stream",
     "text": [
      "/home/brainiac/.local/lib/python3.7/site-packages/arch/univariate/volatility.py:2210: RuntimeWarning: invalid value encountered in log\n",
      "  lnsigma2_mat = np.full((t, m), np.log(backcast))\n"
     ]
    },
    {
     "name": "stdout",
     "output_type": "stream",
     "text": [
      "Iteration:     10,   Func. Count:    144,   Neg. LLF: -5909.58198437885\n",
      "Iteration:     20,   Func. Count:    256,   Neg. LLF: -5946.279676362375\n",
      "Iteration:     30,   Func. Count:    382,   Neg. LLF: -5946.963074598505\n",
      "Optimization terminated successfully.    (Exit mode 0)\n",
      "            Current function value: -5946.963074598549\n",
      "            Iterations: 30\n",
      "            Function evaluations: 382\n",
      "            Gradient evaluations: 30\n"
     ]
    },
    {
     "name": "stderr",
     "output_type": "stream",
     "text": [
      "/home/brainiac/.local/lib/python3.7/site-packages/arch/univariate/volatility.py:2210: RuntimeWarning: invalid value encountered in log\n",
      "  lnsigma2_mat = np.full((t, m), np.log(backcast))\n"
     ]
    },
    {
     "name": "stdout",
     "output_type": "stream",
     "text": [
      "Iteration:     10,   Func. Count:    141,   Neg. LLF: -5926.911492146349\n",
      "Iteration:     20,   Func. Count:    255,   Neg. LLF: -5963.131304041528\n",
      "Optimization terminated successfully.    (Exit mode 0)\n",
      "            Current function value: -5964.2034542726515\n",
      "            Iterations: 22\n",
      "            Function evaluations: 288\n",
      "            Gradient evaluations: 22\n"
     ]
    },
    {
     "name": "stderr",
     "output_type": "stream",
     "text": [
      "/home/brainiac/.local/lib/python3.7/site-packages/arch/univariate/volatility.py:2210: RuntimeWarning: invalid value encountered in log\n",
      "  lnsigma2_mat = np.full((t, m), np.log(backcast))\n"
     ]
    },
    {
     "name": "stdout",
     "output_type": "stream",
     "text": [
      "Iteration:     10,   Func. Count:    140,   Neg. LLF: -5666.90535167013\n",
      "Iteration:     20,   Func. Count:    255,   Neg. LLF: -5690.261295148934\n",
      "Iteration:     30,   Func. Count:    381,   Neg. LLF: -5691.232701125481\n",
      "Optimization terminated successfully.    (Exit mode 0)\n",
      "            Current function value: -5691.232774379413\n",
      "            Iterations: 32\n",
      "            Function evaluations: 414\n",
      "            Gradient evaluations: 32\n"
     ]
    },
    {
     "name": "stderr",
     "output_type": "stream",
     "text": [
      "/home/brainiac/.local/lib/python3.7/site-packages/arch/univariate/volatility.py:2210: RuntimeWarning: invalid value encountered in log\n",
      "  lnsigma2_mat = np.full((t, m), np.log(backcast))\n"
     ]
    },
    {
     "name": "stdout",
     "output_type": "stream",
     "text": [
      "Iteration:     10,   Func. Count:    143,   Neg. LLF: -4857.134342992996\n",
      "Optimization terminated successfully.    (Exit mode 0)\n",
      "            Current function value: -4879.150859422448\n",
      "            Iterations: 18\n",
      "            Function evaluations: 244\n",
      "            Gradient evaluations: 18\n"
     ]
    },
    {
     "name": "stderr",
     "output_type": "stream",
     "text": [
      "/home/brainiac/.local/lib/python3.7/site-packages/arch/univariate/volatility.py:2210: RuntimeWarning: invalid value encountered in log\n",
      "  lnsigma2_mat = np.full((t, m), np.log(backcast))\n"
     ]
    },
    {
     "name": "stdout",
     "output_type": "stream",
     "text": [
      "Iteration:     10,   Func. Count:    142,   Neg. LLF: -4004.4374011871437\n",
      "Iteration:     20,   Func. Count:    256,   Neg. LLF: -4014.5305267134054\n",
      "Optimization terminated successfully.    (Exit mode 0)\n",
      "            Current function value: -4014.593128369758\n",
      "            Iterations: 27\n",
      "            Function evaluations: 347\n",
      "            Gradient evaluations: 27\n"
     ]
    },
    {
     "name": "stderr",
     "output_type": "stream",
     "text": [
      "/home/brainiac/.local/lib/python3.7/site-packages/arch/univariate/volatility.py:2210: RuntimeWarning: invalid value encountered in log\n",
      "  lnsigma2_mat = np.full((t, m), np.log(backcast))\n"
     ]
    },
    {
     "name": "stdout",
     "output_type": "stream",
     "text": [
      "Iteration:     10,   Func. Count:    143,   Neg. LLF: -3165.2428059612425\n",
      "Iteration:     20,   Func. Count:    258,   Neg. LLF: -3189.9043665564955\n",
      "Optimization terminated successfully.    (Exit mode 0)\n",
      "            Current function value: -3190.018115003075\n",
      "            Iterations: 28\n",
      "            Function evaluations: 379\n",
      "            Gradient evaluations: 28\n"
     ]
    },
    {
     "name": "stderr",
     "output_type": "stream",
     "text": [
      "/home/brainiac/.local/lib/python3.7/site-packages/arch/univariate/volatility.py:2210: RuntimeWarning: invalid value encountered in log\n",
      "  lnsigma2_mat = np.full((t, m), np.log(backcast))\n"
     ]
    },
    {
     "name": "stdout",
     "output_type": "stream",
     "text": [
      "Iteration:     10,   Func. Count:    142,   Neg. LLF: -2735.2513301562894\n",
      "Iteration:     20,   Func. Count:    258,   Neg. LLF: -2766.0274701042376\n",
      "Optimization terminated successfully.    (Exit mode 0)\n",
      "            Current function value: -2766.1483217490304\n",
      "            Iterations: 22\n",
      "            Function evaluations: 298\n",
      "            Gradient evaluations: 22\n"
     ]
    },
    {
     "name": "stderr",
     "output_type": "stream",
     "text": [
      "/home/brainiac/.local/lib/python3.7/site-packages/arch/univariate/volatility.py:2210: RuntimeWarning: invalid value encountered in log\n",
      "  lnsigma2_mat = np.full((t, m), np.log(backcast))\n"
     ]
    },
    {
     "name": "stdout",
     "output_type": "stream",
     "text": [
      "Iteration:     10,   Func. Count:    144,   Neg. LLF: -2528.625765284381\n",
      "Iteration:     20,   Func. Count:    257,   Neg. LLF: -2555.516892073758\n",
      "Optimization terminated successfully.    (Exit mode 0)\n",
      "            Current function value: -2555.529598759469\n",
      "            Iterations: 23\n",
      "            Function evaluations: 319\n",
      "            Gradient evaluations: 23\n"
     ]
    },
    {
     "name": "stderr",
     "output_type": "stream",
     "text": [
      "/home/brainiac/.local/lib/python3.7/site-packages/arch/univariate/volatility.py:2210: RuntimeWarning: invalid value encountered in log\n",
      "  lnsigma2_mat = np.full((t, m), np.log(backcast))\n"
     ]
    },
    {
     "name": "stdout",
     "output_type": "stream",
     "text": [
      "Iteration:     10,   Func. Count:    140,   Neg. LLF: -2343.397390103414\n",
      "Iteration:     20,   Func. Count:    256,   Neg. LLF: -2381.6295405331903\n",
      "Optimization terminated successfully.    (Exit mode 0)\n",
      "            Current function value: -2382.2069741502246\n",
      "            Iterations: 27\n",
      "            Function evaluations: 354\n",
      "            Gradient evaluations: 27\n"
     ]
    },
    {
     "name": "stderr",
     "output_type": "stream",
     "text": [
      "/home/brainiac/.local/lib/python3.7/site-packages/arch/univariate/volatility.py:2210: RuntimeWarning: invalid value encountered in log\n",
      "  lnsigma2_mat = np.full((t, m), np.log(backcast))\n"
     ]
    },
    {
     "name": "stdout",
     "output_type": "stream",
     "text": [
      "Iteration:     10,   Func. Count:    141,   Neg. LLF: -1932.5553348270303\n",
      "Iteration:     20,   Func. Count:    257,   Neg. LLF: -1966.0437726564737\n",
      "Optimization terminated successfully.    (Exit mode 0)\n",
      "            Current function value: -1966.109097320361\n",
      "            Iterations: 26\n",
      "            Function evaluations: 348\n",
      "            Gradient evaluations: 26\n"
     ]
    },
    {
     "name": "stderr",
     "output_type": "stream",
     "text": [
      "/home/brainiac/.local/lib/python3.7/site-packages/arch/univariate/volatility.py:2210: RuntimeWarning: invalid value encountered in log\n",
      "  lnsigma2_mat = np.full((t, m), np.log(backcast))\n"
     ]
    },
    {
     "name": "stdout",
     "output_type": "stream",
     "text": [
      "Iteration:     10,   Func. Count:    142,   Neg. LLF: -1461.1711190149695\n",
      "Iteration:     20,   Func. Count:    254,   Neg. LLF: -1513.6772631802696\n",
      "Optimization terminated successfully.    (Exit mode 0)\n",
      "            Current function value: -1515.641693259613\n",
      "            Iterations: 28\n",
      "            Function evaluations: 365\n",
      "            Gradient evaluations: 28\n"
     ]
    },
    {
     "name": "stderr",
     "output_type": "stream",
     "text": [
      "/home/brainiac/.local/lib/python3.7/site-packages/arch/univariate/volatility.py:2210: RuntimeWarning: invalid value encountered in log\n",
      "  lnsigma2_mat = np.full((t, m), np.log(backcast))\n"
     ]
    },
    {
     "name": "stdout",
     "output_type": "stream",
     "text": [
      "Iteration:     10,   Func. Count:    142,   Neg. LLF: -1262.2652473766734\n",
      "Iteration:     20,   Func. Count:    255,   Neg. LLF: -1315.2156705839861\n",
      "Iteration:     30,   Func. Count:    373,   Neg. LLF: -1316.1263640759703\n",
      "Iteration:     40,   Func. Count:    490,   Neg. LLF: -1316.1957403911679\n",
      "Optimization terminated successfully.    (Exit mode 0)\n",
      "            Current function value: -1316.1996683920752\n",
      "            Iterations: 43\n",
      "            Function evaluations: 534\n",
      "            Gradient evaluations: 43\n"
     ]
    },
    {
     "name": "stderr",
     "output_type": "stream",
     "text": [
      "/home/brainiac/.local/lib/python3.7/site-packages/arch/univariate/volatility.py:2210: RuntimeWarning: invalid value encountered in log\n",
      "  lnsigma2_mat = np.full((t, m), np.log(backcast))\n"
     ]
    },
    {
     "name": "stdout",
     "output_type": "stream",
     "text": [
      "Iteration:     10,   Func. Count:    142,   Neg. LLF: -1374.852498268483\n",
      "Iteration:     20,   Func. Count:    254,   Neg. LLF: -1422.774569452919\n",
      "Optimization terminated successfully.    (Exit mode 0)\n",
      "            Current function value: -1424.9015341130282\n",
      "            Iterations: 24\n",
      "            Function evaluations: 320\n",
      "            Gradient evaluations: 24\n"
     ]
    },
    {
     "name": "stderr",
     "output_type": "stream",
     "text": [
      "/home/brainiac/.local/lib/python3.7/site-packages/arch/univariate/volatility.py:2210: RuntimeWarning: invalid value encountered in log\n",
      "  lnsigma2_mat = np.full((t, m), np.log(backcast))\n"
     ]
    },
    {
     "name": "stdout",
     "output_type": "stream",
     "text": [
      "Iteration:     10,   Func. Count:    144,   Neg. LLF: -1580.0144922304119\n",
      "Iteration:     20,   Func. Count:    256,   Neg. LLF: -1637.8571700696693\n",
      "Iteration:     30,   Func. Count:    390,   Neg. LLF: -1639.8738833033747\n",
      "Optimization terminated successfully.    (Exit mode 0)\n",
      "            Current function value: -1639.873884178952\n",
      "            Iterations: 30\n",
      "            Function evaluations: 393\n",
      "            Gradient evaluations: 30\n"
     ]
    },
    {
     "name": "stderr",
     "output_type": "stream",
     "text": [
      "/home/brainiac/.local/lib/python3.7/site-packages/arch/univariate/volatility.py:2210: RuntimeWarning: invalid value encountered in log\n",
      "  lnsigma2_mat = np.full((t, m), np.log(backcast))\n"
     ]
    },
    {
     "name": "stdout",
     "output_type": "stream",
     "text": [
      "Iteration:     10,   Func. Count:    140,   Neg. LLF: -2025.1429813402833\n",
      "Iteration:     20,   Func. Count:    253,   Neg. LLF: -2078.5312287517418\n",
      "Optimization terminated successfully.    (Exit mode 0)\n",
      "            Current function value: -2078.5658012297304\n",
      "            Iterations: 25\n",
      "            Function evaluations: 321\n",
      "            Gradient evaluations: 25\n"
     ]
    },
    {
     "name": "stderr",
     "output_type": "stream",
     "text": [
      "/home/brainiac/.local/lib/python3.7/site-packages/arch/univariate/volatility.py:2210: RuntimeWarning: invalid value encountered in log\n",
      "  lnsigma2_mat = np.full((t, m), np.log(backcast))\n"
     ]
    },
    {
     "name": "stdout",
     "output_type": "stream",
     "text": [
      "Iteration:     10,   Func. Count:    142,   Neg. LLF: -2450.5507071212305\n",
      "Iteration:     20,   Func. Count:    254,   Neg. LLF: -2503.1719047800107\n",
      "Optimization terminated successfully.    (Exit mode 0)\n",
      "            Current function value: -2503.171904779704\n",
      "            Iterations: 20\n",
      "            Function evaluations: 265\n",
      "            Gradient evaluations: 20\n"
     ]
    },
    {
     "name": "stderr",
     "output_type": "stream",
     "text": [
      "/home/brainiac/.local/lib/python3.7/site-packages/arch/univariate/volatility.py:2210: RuntimeWarning: invalid value encountered in log\n",
      "  lnsigma2_mat = np.full((t, m), np.log(backcast))\n"
     ]
    },
    {
     "name": "stdout",
     "output_type": "stream",
     "text": [
      "Iteration:     10,   Func. Count:    141,   Neg. LLF: -2644.197778540949\n",
      "Iteration:     20,   Func. Count:    252,   Neg. LLF: -2694.0753452304716\n",
      "Optimization terminated successfully.    (Exit mode 0)\n",
      "            Current function value: -2694.161115817714\n",
      "            Iterations: 27\n",
      "            Function evaluations: 353\n",
      "            Gradient evaluations: 27\n"
     ]
    },
    {
     "name": "stderr",
     "output_type": "stream",
     "text": [
      "/home/brainiac/.local/lib/python3.7/site-packages/arch/univariate/volatility.py:2210: RuntimeWarning: invalid value encountered in log\n",
      "  lnsigma2_mat = np.full((t, m), np.log(backcast))\n"
     ]
    },
    {
     "name": "stdout",
     "output_type": "stream",
     "text": [
      "Iteration:     10,   Func. Count:    141,   Neg. LLF: -2695.8316211865235\n",
      "Iteration:     20,   Func. Count:    253,   Neg. LLF: -2758.5783760358686\n",
      "Iteration:     30,   Func. Count:    368,   Neg. LLF: -2764.6284954499924\n",
      "Optimization terminated successfully.    (Exit mode 0)\n",
      "            Current function value: -2764.628495365485\n",
      "            Iterations: 30\n",
      "            Function evaluations: 379\n",
      "            Gradient evaluations: 30\n"
     ]
    },
    {
     "name": "stderr",
     "output_type": "stream",
     "text": [
      "/home/brainiac/.local/lib/python3.7/site-packages/arch/univariate/volatility.py:2210: RuntimeWarning: invalid value encountered in log\n",
      "  lnsigma2_mat = np.full((t, m), np.log(backcast))\n"
     ]
    },
    {
     "name": "stdout",
     "output_type": "stream",
     "text": [
      "Iteration:     10,   Func. Count:    144,   Neg. LLF: -2893.340942235376\n",
      "Iteration:     20,   Func. Count:    255,   Neg. LLF: -2942.886461720163\n",
      "Iteration:     30,   Func. Count:    373,   Neg. LLF: -2943.7249659921554\n",
      "Optimization terminated successfully.    (Exit mode 0)\n",
      "            Current function value: -2943.7250087226803\n",
      "            Iterations: 32\n",
      "            Function evaluations: 406\n",
      "            Gradient evaluations: 32\n"
     ]
    },
    {
     "name": "stderr",
     "output_type": "stream",
     "text": [
      "/home/brainiac/.local/lib/python3.7/site-packages/arch/univariate/volatility.py:2210: RuntimeWarning: invalid value encountered in log\n",
      "  lnsigma2_mat = np.full((t, m), np.log(backcast))\n"
     ]
    },
    {
     "name": "stdout",
     "output_type": "stream",
     "text": [
      "Iteration:     10,   Func. Count:    141,   Neg. LLF: -3364.351814155871\n",
      "Iteration:     20,   Func. Count:    258,   Neg. LLF: -3413.2486958311856\n",
      "Optimization terminated successfully.    (Exit mode 0)\n",
      "            Current function value: -3413.3542957259806\n",
      "            Iterations: 21\n",
      "            Function evaluations: 280\n",
      "            Gradient evaluations: 21\n"
     ]
    },
    {
     "name": "stderr",
     "output_type": "stream",
     "text": [
      "/home/brainiac/.local/lib/python3.7/site-packages/arch/univariate/volatility.py:2210: RuntimeWarning: invalid value encountered in log\n",
      "  lnsigma2_mat = np.full((t, m), np.log(backcast))\n"
     ]
    },
    {
     "name": "stdout",
     "output_type": "stream",
     "text": [
      "Iteration:     10,   Func. Count:    142,   Neg. LLF: -3739.1766311553693\n",
      "Iteration:     20,   Func. Count:    263,   Neg. LLF: -3794.9669225984026\n",
      "Optimization terminated successfully.    (Exit mode 0)\n",
      "            Current function value: -3795.5115414956936\n",
      "            Iterations: 27\n",
      "            Function evaluations: 354\n",
      "            Gradient evaluations: 27\n"
     ]
    },
    {
     "name": "stderr",
     "output_type": "stream",
     "text": [
      "/home/brainiac/.local/lib/python3.7/site-packages/arch/univariate/volatility.py:2210: RuntimeWarning: invalid value encountered in log\n",
      "  lnsigma2_mat = np.full((t, m), np.log(backcast))\n"
     ]
    },
    {
     "name": "stdout",
     "output_type": "stream",
     "text": [
      "Iteration:     10,   Func. Count:    142,   Neg. LLF: -4133.490776331984\n",
      "Iteration:     20,   Func. Count:    254,   Neg. LLF: -4183.300674437593\n",
      "Iteration:     30,   Func. Count:    387,   Neg. LLF: -4187.978306161234\n",
      "Optimization terminated successfully.    (Exit mode 0)\n",
      "            Current function value: -4187.978307743388\n",
      "            Iterations: 31\n",
      "            Function evaluations: 402\n",
      "            Gradient evaluations: 31\n"
     ]
    },
    {
     "name": "stderr",
     "output_type": "stream",
     "text": [
      "/home/brainiac/.local/lib/python3.7/site-packages/arch/univariate/volatility.py:2210: RuntimeWarning: invalid value encountered in log\n",
      "  lnsigma2_mat = np.full((t, m), np.log(backcast))\n"
     ]
    },
    {
     "name": "stdout",
     "output_type": "stream",
     "text": [
      "Iteration:     10,   Func. Count:    143,   Neg. LLF: -4240.007193546583\n",
      "Iteration:     20,   Func. Count:    258,   Neg. LLF: -4285.940501622661\n",
      "Optimization terminated successfully.    (Exit mode 0)\n",
      "            Current function value: -4289.958491547059\n",
      "            Iterations: 29\n",
      "            Function evaluations: 381\n",
      "            Gradient evaluations: 29\n"
     ]
    },
    {
     "name": "stderr",
     "output_type": "stream",
     "text": [
      "/home/brainiac/.local/lib/python3.7/site-packages/arch/univariate/volatility.py:2210: RuntimeWarning: invalid value encountered in log\n",
      "  lnsigma2_mat = np.full((t, m), np.log(backcast))\n"
     ]
    },
    {
     "name": "stdout",
     "output_type": "stream",
     "text": [
      "Iteration:     10,   Func. Count:    143,   Neg. LLF: -4276.743618269992\n",
      "Iteration:     20,   Func. Count:    258,   Neg. LLF: -4320.86521370523\n",
      "Optimization terminated successfully.    (Exit mode 0)\n",
      "            Current function value: -4323.177099124324\n",
      "            Iterations: 22\n",
      "            Function evaluations: 291\n",
      "            Gradient evaluations: 22\n"
     ]
    },
    {
     "name": "stderr",
     "output_type": "stream",
     "text": [
      "/home/brainiac/.local/lib/python3.7/site-packages/arch/univariate/volatility.py:2210: RuntimeWarning: invalid value encountered in log\n",
      "  lnsigma2_mat = np.full((t, m), np.log(backcast))\n"
     ]
    },
    {
     "name": "stdout",
     "output_type": "stream",
     "text": [
      "Iteration:     10,   Func. Count:    144,   Neg. LLF: -4214.969152728847\n",
      "Iteration:     20,   Func. Count:    254,   Neg. LLF: -4272.244876373362\n",
      "Iteration:     30,   Func. Count:    369,   Neg. LLF: -4274.904284090961\n",
      "Optimization terminated successfully.    (Exit mode 0)\n",
      "            Current function value: -4274.9722680844\n",
      "            Iterations: 35\n",
      "            Function evaluations: 445\n",
      "            Gradient evaluations: 35\n"
     ]
    },
    {
     "name": "stderr",
     "output_type": "stream",
     "text": [
      "/home/brainiac/.local/lib/python3.7/site-packages/arch/univariate/volatility.py:2210: RuntimeWarning: invalid value encountered in log\n",
      "  lnsigma2_mat = np.full((t, m), np.log(backcast))\n"
     ]
    },
    {
     "name": "stdout",
     "output_type": "stream",
     "text": [
      "Iteration:     10,   Func. Count:    141,   Neg. LLF: -4425.65957518235\n",
      "Iteration:     20,   Func. Count:    254,   Neg. LLF: -4478.892352910131\n",
      "Iteration:     30,   Func. Count:    381,   Neg. LLF: -4482.834252999208\n",
      "Optimization terminated successfully.    (Exit mode 0)\n",
      "            Current function value: -4482.834252999304\n",
      "            Iterations: 30\n",
      "            Function evaluations: 381\n",
      "            Gradient evaluations: 30\n"
     ]
    },
    {
     "name": "stderr",
     "output_type": "stream",
     "text": [
      "/home/brainiac/.local/lib/python3.7/site-packages/arch/univariate/volatility.py:2210: RuntimeWarning: invalid value encountered in log\n",
      "  lnsigma2_mat = np.full((t, m), np.log(backcast))\n"
     ]
    },
    {
     "name": "stdout",
     "output_type": "stream",
     "text": [
      "Iteration:     10,   Func. Count:    141,   Neg. LLF: -4456.845973936408\n",
      "Iteration:     20,   Func. Count:    255,   Neg. LLF: -4496.2353531439185\n",
      "Optimization terminated successfully.    (Exit mode 0)\n",
      "            Current function value: -4498.351122863293\n",
      "            Iterations: 25\n",
      "            Function evaluations: 331\n",
      "            Gradient evaluations: 25\n"
     ]
    },
    {
     "name": "stderr",
     "output_type": "stream",
     "text": [
      "/home/brainiac/.local/lib/python3.7/site-packages/arch/univariate/volatility.py:2210: RuntimeWarning: invalid value encountered in log\n",
      "  lnsigma2_mat = np.full((t, m), np.log(backcast))\n"
     ]
    },
    {
     "name": "stdout",
     "output_type": "stream",
     "text": [
      "Iteration:     10,   Func. Count:    141,   Neg. LLF: -4185.6916356202855\n",
      "Iteration:     20,   Func. Count:    255,   Neg. LLF: -4229.689820387901\n",
      "Optimization terminated successfully.    (Exit mode 0)\n",
      "            Current function value: -4231.833090398664\n",
      "            Iterations: 25\n",
      "            Function evaluations: 331\n",
      "            Gradient evaluations: 25\n"
     ]
    },
    {
     "name": "stderr",
     "output_type": "stream",
     "text": [
      "/home/brainiac/.local/lib/python3.7/site-packages/arch/univariate/volatility.py:2210: RuntimeWarning: invalid value encountered in log\n",
      "  lnsigma2_mat = np.full((t, m), np.log(backcast))\n"
     ]
    },
    {
     "name": "stdout",
     "output_type": "stream",
     "text": [
      "Iteration:     10,   Func. Count:    143,   Neg. LLF: -3874.960864726073\n",
      "Iteration:     20,   Func. Count:    255,   Neg. LLF: -3925.052842737921\n",
      "Optimization terminated successfully.    (Exit mode 0)\n",
      "            Current function value: -3928.4672232826274\n",
      "            Iterations: 27\n",
      "            Function evaluations: 343\n",
      "            Gradient evaluations: 27\n"
     ]
    },
    {
     "name": "stderr",
     "output_type": "stream",
     "text": [
      "/home/brainiac/.local/lib/python3.7/site-packages/arch/univariate/volatility.py:2210: RuntimeWarning: invalid value encountered in log\n",
      "  lnsigma2_mat = np.full((t, m), np.log(backcast))\n"
     ]
    },
    {
     "name": "stdout",
     "output_type": "stream",
     "text": [
      "Iteration:     10,   Func. Count:    143,   Neg. LLF: -3562.4710701817967\n",
      "Iteration:     20,   Func. Count:    255,   Neg. LLF: -3614.936425925802\n",
      "Optimization terminated successfully.    (Exit mode 0)\n",
      "            Current function value: -3615.448107608739\n",
      "            Iterations: 25\n",
      "            Function evaluations: 343\n",
      "            Gradient evaluations: 25\n"
     ]
    },
    {
     "name": "stderr",
     "output_type": "stream",
     "text": [
      "/home/brainiac/.local/lib/python3.7/site-packages/arch/univariate/volatility.py:2210: RuntimeWarning: invalid value encountered in log\n",
      "  lnsigma2_mat = np.full((t, m), np.log(backcast))\n"
     ]
    },
    {
     "name": "stdout",
     "output_type": "stream",
     "text": [
      "Iteration:     10,   Func. Count:    142,   Neg. LLF: -3246.145300885837\n",
      "Iteration:     20,   Func. Count:    255,   Neg. LLF: -3293.3882287827805\n",
      "Iteration:     30,   Func. Count:    388,   Neg. LLF: -3294.089220689862\n",
      "Optimization terminated successfully.    (Exit mode 0)\n",
      "            Current function value: -3294.091261240752\n",
      "            Iterations: 35\n",
      "            Function evaluations: 456\n",
      "            Gradient evaluations: 35\n"
     ]
    },
    {
     "name": "stderr",
     "output_type": "stream",
     "text": [
      "/home/brainiac/.local/lib/python3.7/site-packages/arch/univariate/volatility.py:2210: RuntimeWarning: invalid value encountered in log\n",
      "  lnsigma2_mat = np.full((t, m), np.log(backcast))\n"
     ]
    },
    {
     "name": "stdout",
     "output_type": "stream",
     "text": [
      "Iteration:     10,   Func. Count:    142,   Neg. LLF: -3225.7115836098938\n",
      "Iteration:     20,   Func. Count:    256,   Neg. LLF: -3282.427429935359\n",
      "Iteration:     30,   Func. Count:    372,   Neg. LLF: -3283.415683074868\n",
      "Optimization terminated successfully.    (Exit mode 0)\n",
      "            Current function value: -3283.415934416509\n",
      "            Iterations: 31\n",
      "            Function evaluations: 395\n",
      "            Gradient evaluations: 31\n"
     ]
    },
    {
     "name": "stderr",
     "output_type": "stream",
     "text": [
      "/home/brainiac/.local/lib/python3.7/site-packages/arch/univariate/volatility.py:2210: RuntimeWarning: invalid value encountered in log\n",
      "  lnsigma2_mat = np.full((t, m), np.log(backcast))\n"
     ]
    },
    {
     "name": "stdout",
     "output_type": "stream",
     "text": [
      "Iteration:     10,   Func. Count:    141,   Neg. LLF: -3009.005177282564\n",
      "Iteration:     20,   Func. Count:    258,   Neg. LLF: -3078.4463701459567\n",
      "Iteration:     30,   Func. Count:    372,   Neg. LLF: -3082.7511530735633\n",
      "Optimization terminated successfully.    (Exit mode 0)\n",
      "            Current function value: -3082.751210116154\n",
      "            Iterations: 32\n",
      "            Function evaluations: 394\n",
      "            Gradient evaluations: 32\n"
     ]
    },
    {
     "name": "stderr",
     "output_type": "stream",
     "text": [
      "/home/brainiac/.local/lib/python3.7/site-packages/arch/univariate/volatility.py:2210: RuntimeWarning: invalid value encountered in log\n",
      "  lnsigma2_mat = np.full((t, m), np.log(backcast))\n"
     ]
    },
    {
     "name": "stdout",
     "output_type": "stream",
     "text": [
      "Iteration:     10,   Func. Count:    141,   Neg. LLF: -2923.2409782269624\n",
      "Iteration:     20,   Func. Count:    255,   Neg. LLF: -2974.6428604723333\n",
      "Iteration:     30,   Func. Count:    390,   Neg. LLF: -2976.6419350210545\n",
      "Optimization terminated successfully.    (Exit mode 0)\n",
      "            Current function value: -2976.641946279611\n",
      "            Iterations: 32\n",
      "            Function evaluations: 423\n",
      "            Gradient evaluations: 32\n"
     ]
    },
    {
     "name": "stderr",
     "output_type": "stream",
     "text": [
      "/home/brainiac/.local/lib/python3.7/site-packages/arch/univariate/volatility.py:2210: RuntimeWarning: invalid value encountered in log\n",
      "  lnsigma2_mat = np.full((t, m), np.log(backcast))\n"
     ]
    },
    {
     "name": "stdout",
     "output_type": "stream",
     "text": [
      "Iteration:     10,   Func. Count:    140,   Neg. LLF: -2798.336079711057\n",
      "Iteration:     20,   Func. Count:    257,   Neg. LLF: -2845.98091703179\n",
      "Iteration:     30,   Func. Count:    381,   Neg. LLF: -2854.2546056330093\n",
      "Optimization terminated successfully.    (Exit mode 0)\n",
      "            Current function value: -2854.254605626275\n",
      "            Iterations: 30\n",
      "            Function evaluations: 392\n",
      "            Gradient evaluations: 30\n"
     ]
    },
    {
     "name": "stderr",
     "output_type": "stream",
     "text": [
      "/home/brainiac/.local/lib/python3.7/site-packages/arch/univariate/volatility.py:2210: RuntimeWarning: invalid value encountered in log\n",
      "  lnsigma2_mat = np.full((t, m), np.log(backcast))\n"
     ]
    },
    {
     "name": "stdout",
     "output_type": "stream",
     "text": [
      "Iteration:     10,   Func. Count:    141,   Neg. LLF: -3019.9217146292613\n",
      "Iteration:     20,   Func. Count:    257,   Neg. LLF: -3059.974207817407\n",
      "Iteration:     30,   Func. Count:    377,   Neg. LLF: -3063.251171593238\n",
      "Optimization terminated successfully.    (Exit mode 0)\n",
      "            Current function value: -3063.3128744158385\n",
      "            Iterations: 33\n",
      "            Function evaluations: 421\n",
      "            Gradient evaluations: 33\n"
     ]
    },
    {
     "name": "stderr",
     "output_type": "stream",
     "text": [
      "/home/brainiac/.local/lib/python3.7/site-packages/arch/univariate/volatility.py:2210: RuntimeWarning: invalid value encountered in log\n",
      "  lnsigma2_mat = np.full((t, m), np.log(backcast))\n"
     ]
    },
    {
     "name": "stdout",
     "output_type": "stream",
     "text": [
      "Iteration:     10,   Func. Count:    141,   Neg. LLF: -3402.08466070588\n",
      "Iteration:     20,   Func. Count:    256,   Neg. LLF: -3433.3968005803067\n",
      "Optimization terminated successfully.    (Exit mode 0)\n",
      "            Current function value: -3436.4826823992344\n",
      "            Iterations: 27\n",
      "            Function evaluations: 354\n",
      "            Gradient evaluations: 27\n"
     ]
    },
    {
     "name": "stderr",
     "output_type": "stream",
     "text": [
      "/home/brainiac/.local/lib/python3.7/site-packages/arch/univariate/volatility.py:2210: RuntimeWarning: invalid value encountered in log\n",
      "  lnsigma2_mat = np.full((t, m), np.log(backcast))\n"
     ]
    },
    {
     "name": "stdout",
     "output_type": "stream",
     "text": [
      "Iteration:     10,   Func. Count:    143,   Neg. LLF: -3669.264320177347\n",
      "Iteration:     20,   Func. Count:    256,   Neg. LLF: -3708.03701123451\n",
      "Optimization terminated successfully.    (Exit mode 0)\n",
      "            Current function value: -3710.497804642305\n",
      "            Iterations: 29\n",
      "            Function evaluations: 373\n",
      "            Gradient evaluations: 29\n"
     ]
    },
    {
     "name": "stderr",
     "output_type": "stream",
     "text": [
      "/home/brainiac/.local/lib/python3.7/site-packages/arch/univariate/volatility.py:2210: RuntimeWarning: invalid value encountered in log\n",
      "  lnsigma2_mat = np.full((t, m), np.log(backcast))\n"
     ]
    },
    {
     "name": "stdout",
     "output_type": "stream",
     "text": [
      "Iteration:     10,   Func. Count:    141,   Neg. LLF: -4125.841510116553\n",
      "Iteration:     20,   Func. Count:    254,   Neg. LLF: -4163.7243467005665\n",
      "Iteration:     30,   Func. Count:    385,   Neg. LLF: -4165.78885199927\n",
      "Optimization terminated successfully.    (Exit mode 0)\n",
      "            Current function value: -4165.788915831734\n",
      "            Iterations: 31\n",
      "            Function evaluations: 397\n",
      "            Gradient evaluations: 31\n"
     ]
    },
    {
     "name": "stderr",
     "output_type": "stream",
     "text": [
      "/home/brainiac/.local/lib/python3.7/site-packages/arch/univariate/volatility.py:2210: RuntimeWarning: invalid value encountered in log\n",
      "  lnsigma2_mat = np.full((t, m), np.log(backcast))\n"
     ]
    },
    {
     "name": "stdout",
     "output_type": "stream",
     "text": [
      "Iteration:     10,   Func. Count:    143,   Neg. LLF: -4569.228423564729\n",
      "Iteration:     20,   Func. Count:    255,   Neg. LLF: -4605.411065988713\n",
      "Optimization terminated successfully.    (Exit mode 0)\n",
      "            Current function value: -4606.996039763095\n",
      "            Iterations: 26\n",
      "            Function evaluations: 345\n",
      "            Gradient evaluations: 26\n"
     ]
    },
    {
     "name": "stderr",
     "output_type": "stream",
     "text": [
      "/home/brainiac/.local/lib/python3.7/site-packages/arch/univariate/volatility.py:2210: RuntimeWarning: invalid value encountered in log\n",
      "  lnsigma2_mat = np.full((t, m), np.log(backcast))\n"
     ]
    },
    {
     "name": "stdout",
     "output_type": "stream",
     "text": [
      "Iteration:     10,   Func. Count:    148,   Neg. LLF: -4957.491323401846\n",
      "Iteration:     20,   Func. Count:    258,   Neg. LLF: -4978.411139081046\n",
      "Optimization terminated successfully.    (Exit mode 0)\n",
      "            Current function value: -4978.411138273963\n",
      "            Iterations: 20\n",
      "            Function evaluations: 269\n",
      "            Gradient evaluations: 20\n"
     ]
    },
    {
     "name": "stderr",
     "output_type": "stream",
     "text": [
      "/home/brainiac/.local/lib/python3.7/site-packages/arch/univariate/volatility.py:2210: RuntimeWarning: invalid value encountered in log\n",
      "  lnsigma2_mat = np.full((t, m), np.log(backcast))\n"
     ]
    },
    {
     "name": "stdout",
     "output_type": "stream",
     "text": [
      "Iteration:     10,   Func. Count:    144,   Neg. LLF: -5572.740408152423\n",
      "Iteration:     20,   Func. Count:    256,   Neg. LLF: -5591.924860791015\n",
      "Iteration:     30,   Func. Count:    372,   Neg. LLF: -5593.420942405721\n",
      "Optimization terminated successfully.    (Exit mode 0)\n",
      "            Current function value: -5593.434692379645\n",
      "            Iterations: 36\n",
      "            Function evaluations: 469\n",
      "            Gradient evaluations: 36\n"
     ]
    },
    {
     "name": "stderr",
     "output_type": "stream",
     "text": [
      "/home/brainiac/.local/lib/python3.7/site-packages/arch/univariate/volatility.py:2210: RuntimeWarning: invalid value encountered in log\n",
      "  lnsigma2_mat = np.full((t, m), np.log(backcast))\n"
     ]
    },
    {
     "name": "stdout",
     "output_type": "stream",
     "text": [
      "Iteration:     10,   Func. Count:    142,   Neg. LLF: -6125.517631197686\n",
      "Iteration:     20,   Func. Count:    254,   Neg. LLF: -6151.498204493517\n",
      "Iteration:     30,   Func. Count:    376,   Neg. LLF: -6151.80081020902\n",
      "Optimization terminated successfully.    (Exit mode 0)\n",
      "            Current function value: -6151.800851551258\n",
      "            Iterations: 34\n",
      "            Function evaluations: 430\n",
      "            Gradient evaluations: 34\n"
     ]
    },
    {
     "name": "stderr",
     "output_type": "stream",
     "text": [
      "/home/brainiac/.local/lib/python3.7/site-packages/arch/univariate/volatility.py:2210: RuntimeWarning: invalid value encountered in log\n",
      "  lnsigma2_mat = np.full((t, m), np.log(backcast))\n"
     ]
    },
    {
     "name": "stdout",
     "output_type": "stream",
     "text": [
      "Iteration:     10,   Func. Count:    144,   Neg. LLF: -6515.160817430327\n",
      "Iteration:     20,   Func. Count:    254,   Neg. LLF: -6534.803362610108\n",
      "Optimization terminated successfully.    (Exit mode 0)\n",
      "            Current function value: -6535.208781033431\n",
      "            Iterations: 28\n",
      "            Function evaluations: 359\n",
      "            Gradient evaluations: 28\n"
     ]
    },
    {
     "name": "stderr",
     "output_type": "stream",
     "text": [
      "/home/brainiac/.local/lib/python3.7/site-packages/arch/univariate/volatility.py:2210: RuntimeWarning: invalid value encountered in log\n",
      "  lnsigma2_mat = np.full((t, m), np.log(backcast))\n"
     ]
    },
    {
     "name": "stdout",
     "output_type": "stream",
     "text": [
      "Iteration:     10,   Func. Count:    144,   Neg. LLF: -6791.5063330787925\n",
      "Iteration:     20,   Func. Count:    255,   Neg. LLF: -6812.165947297214\n",
      "Optimization terminated successfully.    (Exit mode 0)\n",
      "            Current function value: -6812.278469887275\n",
      "            Iterations: 24\n",
      "            Function evaluations: 313\n",
      "            Gradient evaluations: 24\n"
     ]
    },
    {
     "name": "stderr",
     "output_type": "stream",
     "text": [
      "/home/brainiac/.local/lib/python3.7/site-packages/arch/univariate/volatility.py:2210: RuntimeWarning: invalid value encountered in log\n",
      "  lnsigma2_mat = np.full((t, m), np.log(backcast))\n"
     ]
    },
    {
     "name": "stdout",
     "output_type": "stream",
     "text": [
      "Iteration:     10,   Func. Count:    144,   Neg. LLF: -6896.496159742886\n",
      "Iteration:     20,   Func. Count:    255,   Neg. LLF: -6914.33417062171\n",
      "Optimization terminated successfully.    (Exit mode 0)\n",
      "            Current function value: -6914.430537966866\n",
      "            Iterations: 28\n",
      "            Function evaluations: 368\n",
      "            Gradient evaluations: 28\n"
     ]
    },
    {
     "name": "stderr",
     "output_type": "stream",
     "text": [
      "/home/brainiac/.local/lib/python3.7/site-packages/arch/univariate/volatility.py:2210: RuntimeWarning: invalid value encountered in log\n",
      "  lnsigma2_mat = np.full((t, m), np.log(backcast))\n"
     ]
    },
    {
     "name": "stdout",
     "output_type": "stream",
     "text": [
      "Iteration:     10,   Func. Count:    145,   Neg. LLF: -6959.142242760219\n",
      "Iteration:     20,   Func. Count:    255,   Neg. LLF: -6976.786074530608\n",
      "Optimization terminated successfully.    (Exit mode 0)\n",
      "            Current function value: -6976.958243025264\n",
      "            Iterations: 29\n",
      "            Function evaluations: 369\n",
      "            Gradient evaluations: 29\n"
     ]
    },
    {
     "name": "stderr",
     "output_type": "stream",
     "text": [
      "/home/brainiac/.local/lib/python3.7/site-packages/arch/univariate/volatility.py:2210: RuntimeWarning: invalid value encountered in log\n",
      "  lnsigma2_mat = np.full((t, m), np.log(backcast))\n"
     ]
    },
    {
     "name": "stdout",
     "output_type": "stream",
     "text": [
      "Iteration:     10,   Func. Count:    145,   Neg. LLF: -6901.403544511436\n",
      "Iteration:     20,   Func. Count:    255,   Neg. LLF: -6920.97415696519\n",
      "Optimization terminated successfully.    (Exit mode 0)\n",
      "            Current function value: -6921.050767083779\n",
      "            Iterations: 25\n",
      "            Function evaluations: 324\n",
      "            Gradient evaluations: 25\n"
     ]
    },
    {
     "name": "stderr",
     "output_type": "stream",
     "text": [
      "/home/brainiac/.local/lib/python3.7/site-packages/arch/univariate/volatility.py:2210: RuntimeWarning: invalid value encountered in log\n",
      "  lnsigma2_mat = np.full((t, m), np.log(backcast))\n"
     ]
    },
    {
     "name": "stdout",
     "output_type": "stream",
     "text": [
      "Iteration:     10,   Func. Count:    143,   Neg. LLF: -6883.494851962316\n",
      "Iteration:     20,   Func. Count:    253,   Neg. LLF: -6912.308180185074\n",
      "Optimization terminated successfully.    (Exit mode 0)\n",
      "            Current function value: -6912.426079982824\n",
      "            Iterations: 28\n",
      "            Function evaluations: 374\n",
      "            Gradient evaluations: 28\n"
     ]
    },
    {
     "name": "stderr",
     "output_type": "stream",
     "text": [
      "/home/brainiac/.local/lib/python3.7/site-packages/arch/univariate/volatility.py:2210: RuntimeWarning: invalid value encountered in log\n",
      "  lnsigma2_mat = np.full((t, m), np.log(backcast))\n"
     ]
    },
    {
     "name": "stdout",
     "output_type": "stream",
     "text": [
      "Iteration:     10,   Func. Count:    144,   Neg. LLF: -7002.739583920125\n",
      "Iteration:     20,   Func. Count:    255,   Neg. LLF: -7032.22119136375\n",
      "Optimization terminated successfully.    (Exit mode 0)\n",
      "            Current function value: -7033.002796900168\n",
      "            Iterations: 26\n",
      "            Function evaluations: 342\n",
      "            Gradient evaluations: 26\n"
     ]
    },
    {
     "name": "stderr",
     "output_type": "stream",
     "text": [
      "/home/brainiac/.local/lib/python3.7/site-packages/arch/univariate/volatility.py:2210: RuntimeWarning: invalid value encountered in log\n",
      "  lnsigma2_mat = np.full((t, m), np.log(backcast))\n"
     ]
    },
    {
     "name": "stdout",
     "output_type": "stream",
     "text": [
      "Iteration:     10,   Func. Count:    144,   Neg. LLF: -7036.5269322634895\n",
      "Iteration:     20,   Func. Count:    256,   Neg. LLF: -7067.676214070951\n",
      "Optimization terminated successfully.    (Exit mode 0)\n",
      "            Current function value: -7070.376966797694\n",
      "            Iterations: 28\n",
      "            Function evaluations: 375\n",
      "            Gradient evaluations: 28\n"
     ]
    },
    {
     "name": "stderr",
     "output_type": "stream",
     "text": [
      "/home/brainiac/.local/lib/python3.7/site-packages/arch/univariate/volatility.py:2210: RuntimeWarning: invalid value encountered in log\n",
      "  lnsigma2_mat = np.full((t, m), np.log(backcast))\n"
     ]
    },
    {
     "name": "stdout",
     "output_type": "stream",
     "text": [
      "Iteration:     10,   Func. Count:    144,   Neg. LLF: -7022.357132422661\n",
      "Iteration:     20,   Func. Count:    257,   Neg. LLF: -7051.005046064602\n",
      "Iteration:     30,   Func. Count:    377,   Neg. LLF: -7056.414432379369\n",
      "Optimization terminated successfully.    (Exit mode 0)\n",
      "            Current function value: -7056.523604883971\n",
      "            Iterations: 33\n",
      "            Function evaluations: 421\n",
      "            Gradient evaluations: 33\n"
     ]
    },
    {
     "name": "stderr",
     "output_type": "stream",
     "text": [
      "/home/brainiac/.local/lib/python3.7/site-packages/arch/univariate/volatility.py:2210: RuntimeWarning: invalid value encountered in log\n",
      "  lnsigma2_mat = np.full((t, m), np.log(backcast))\n"
     ]
    },
    {
     "name": "stdout",
     "output_type": "stream",
     "text": [
      "Iteration:     10,   Func. Count:    143,   Neg. LLF: -7128.31983376913\n",
      "Iteration:     20,   Func. Count:    257,   Neg. LLF: -7166.255906320278\n",
      "Iteration:     30,   Func. Count:    375,   Neg. LLF: -7169.406985590296\n",
      "Optimization terminated successfully.    (Exit mode 0)\n",
      "            Current function value: -7169.413569472141\n",
      "            Iterations: 31\n",
      "            Function evaluations: 397\n",
      "            Gradient evaluations: 31\n"
     ]
    },
    {
     "name": "stderr",
     "output_type": "stream",
     "text": [
      "/home/brainiac/.local/lib/python3.7/site-packages/arch/univariate/volatility.py:2210: RuntimeWarning: invalid value encountered in log\n",
      "  lnsigma2_mat = np.full((t, m), np.log(backcast))\n"
     ]
    },
    {
     "name": "stdout",
     "output_type": "stream",
     "text": [
      "Iteration:     10,   Func. Count:    144,   Neg. LLF: -6972.955266157883\n",
      "Iteration:     20,   Func. Count:    256,   Neg. LLF: -7005.106277598425\n",
      "Optimization terminated successfully.    (Exit mode 0)\n",
      "            Current function value: -7005.223975215897\n",
      "            Iterations: 26\n",
      "            Function evaluations: 354\n",
      "            Gradient evaluations: 26\n"
     ]
    },
    {
     "name": "stderr",
     "output_type": "stream",
     "text": [
      "/home/brainiac/.local/lib/python3.7/site-packages/arch/univariate/volatility.py:2210: RuntimeWarning: invalid value encountered in log\n",
      "  lnsigma2_mat = np.full((t, m), np.log(backcast))\n"
     ]
    },
    {
     "name": "stdout",
     "output_type": "stream",
     "text": [
      "Iteration:     10,   Func. Count:    144,   Neg. LLF: -6721.2962427270195\n",
      "Iteration:     20,   Func. Count:    257,   Neg. LLF: -6762.570901760013\n",
      "Iteration:     30,   Func. Count:    381,   Neg. LLF: -6767.066221807967\n",
      "Optimization terminated successfully.    (Exit mode 0)\n",
      "            Current function value: -6767.066221806839\n",
      "            Iterations: 30\n",
      "            Function evaluations: 392\n",
      "            Gradient evaluations: 30\n"
     ]
    },
    {
     "name": "stderr",
     "output_type": "stream",
     "text": [
      "/home/brainiac/.local/lib/python3.7/site-packages/arch/univariate/volatility.py:2210: RuntimeWarning: invalid value encountered in log\n",
      "  lnsigma2_mat = np.full((t, m), np.log(backcast))\n"
     ]
    },
    {
     "name": "stdout",
     "output_type": "stream",
     "text": [
      "Iteration:     10,   Func. Count:    142,   Neg. LLF: -6591.283350972415\n",
      "Iteration:     20,   Func. Count:    255,   Neg. LLF: -6644.027857775308\n",
      "Optimization terminated successfully.    (Exit mode 0)\n",
      "            Current function value: -6648.56498330329\n",
      "            Iterations: 25\n",
      "            Function evaluations: 324\n",
      "            Gradient evaluations: 25\n"
     ]
    },
    {
     "name": "stderr",
     "output_type": "stream",
     "text": [
      "/home/brainiac/.local/lib/python3.7/site-packages/arch/univariate/volatility.py:2210: RuntimeWarning: invalid value encountered in log\n",
      "  lnsigma2_mat = np.full((t, m), np.log(backcast))\n"
     ]
    },
    {
     "name": "stdout",
     "output_type": "stream",
     "text": [
      "Iteration:     10,   Func. Count:    140,   Neg. LLF: -6497.817590122119\n",
      "Iteration:     20,   Func. Count:    253,   Neg. LLF: -6559.274854531763\n",
      "Optimization terminated successfully.    (Exit mode 0)\n",
      "            Current function value: -6559.945625177751\n",
      "            Iterations: 27\n",
      "            Function evaluations: 342\n",
      "            Gradient evaluations: 27\n"
     ]
    },
    {
     "name": "stderr",
     "output_type": "stream",
     "text": [
      "/home/brainiac/.local/lib/python3.7/site-packages/arch/univariate/volatility.py:2210: RuntimeWarning: invalid value encountered in log\n",
      "  lnsigma2_mat = np.full((t, m), np.log(backcast))\n"
     ]
    },
    {
     "name": "stdout",
     "output_type": "stream",
     "text": [
      "Iteration:     10,   Func. Count:    142,   Neg. LLF: -6593.729489056423\n",
      "Iteration:     20,   Func. Count:    254,   Neg. LLF: -6648.169328494867\n",
      "Optimization terminated successfully.    (Exit mode 0)\n",
      "            Current function value: -6649.070118981961\n",
      "            Iterations: 28\n",
      "            Function evaluations: 368\n",
      "            Gradient evaluations: 28\n"
     ]
    },
    {
     "name": "stderr",
     "output_type": "stream",
     "text": [
      "/home/brainiac/.local/lib/python3.7/site-packages/arch/univariate/volatility.py:2210: RuntimeWarning: invalid value encountered in log\n",
      "  lnsigma2_mat = np.full((t, m), np.log(backcast))\n"
     ]
    },
    {
     "name": "stdout",
     "output_type": "stream",
     "text": [
      "Iteration:     10,   Func. Count:    144,   Neg. LLF: -6716.065119653024\n",
      "Iteration:     20,   Func. Count:    256,   Neg. LLF: -6774.728996076648\n",
      "Optimization terminated successfully.    (Exit mode 0)\n",
      "            Current function value: -6778.262590841209\n",
      "            Iterations: 27\n",
      "            Function evaluations: 348\n",
      "            Gradient evaluations: 27\n"
     ]
    },
    {
     "name": "stderr",
     "output_type": "stream",
     "text": [
      "/home/brainiac/.local/lib/python3.7/site-packages/arch/univariate/volatility.py:2210: RuntimeWarning: invalid value encountered in log\n",
      "  lnsigma2_mat = np.full((t, m), np.log(backcast))\n"
     ]
    },
    {
     "name": "stdout",
     "output_type": "stream",
     "text": [
      "Iteration:     10,   Func. Count:    144,   Neg. LLF: -6697.744299065351\n",
      "Iteration:     20,   Func. Count:    255,   Neg. LLF: -6758.728804184581\n",
      "Optimization terminated successfully.    (Exit mode 0)\n",
      "            Current function value: -6759.592921524598\n",
      "            Iterations: 23\n",
      "            Function evaluations: 300\n",
      "            Gradient evaluations: 23\n"
     ]
    },
    {
     "name": "stderr",
     "output_type": "stream",
     "text": [
      "/home/brainiac/.local/lib/python3.7/site-packages/arch/univariate/volatility.py:2210: RuntimeWarning: invalid value encountered in log\n",
      "  lnsigma2_mat = np.full((t, m), np.log(backcast))\n"
     ]
    },
    {
     "name": "stdout",
     "output_type": "stream",
     "text": [
      "Iteration:     10,   Func. Count:    143,   Neg. LLF: -6510.398748782497\n",
      "Iteration:     20,   Func. Count:    256,   Neg. LLF: -6584.752430438582\n",
      "Optimization terminated successfully.    (Exit mode 0)\n",
      "            Current function value: -6591.687291493419\n",
      "            Iterations: 28\n",
      "            Function evaluations: 365\n",
      "            Gradient evaluations: 28\n"
     ]
    },
    {
     "name": "stderr",
     "output_type": "stream",
     "text": [
      "/home/brainiac/.local/lib/python3.7/site-packages/arch/univariate/volatility.py:2210: RuntimeWarning: invalid value encountered in log\n",
      "  lnsigma2_mat = np.full((t, m), np.log(backcast))\n"
     ]
    },
    {
     "name": "stdout",
     "output_type": "stream",
     "text": [
      "Iteration:     10,   Func. Count:    142,   Neg. LLF: -6477.071150029508\n",
      "Iteration:     20,   Func. Count:    255,   Neg. LLF: -6552.572085472122\n",
      "Iteration:     30,   Func. Count:    372,   Neg. LLF: -6554.378778216082\n",
      "Optimization terminated successfully.    (Exit mode 0)\n",
      "            Current function value: -6554.378778159489\n",
      "            Iterations: 30\n",
      "            Function evaluations: 383\n",
      "            Gradient evaluations: 30\n"
     ]
    },
    {
     "name": "stderr",
     "output_type": "stream",
     "text": [
      "/home/brainiac/.local/lib/python3.7/site-packages/arch/univariate/volatility.py:2210: RuntimeWarning: invalid value encountered in log\n",
      "  lnsigma2_mat = np.full((t, m), np.log(backcast))\n"
     ]
    },
    {
     "name": "stdout",
     "output_type": "stream",
     "text": [
      "Iteration:     10,   Func. Count:    140,   Neg. LLF: -6642.153503808835\n",
      "Iteration:     20,   Func. Count:    253,   Neg. LLF: -6698.934717987277\n",
      "Iteration:     30,   Func. Count:    396,   Neg. LLF: -6706.002751251735\n",
      "Optimization terminated successfully.    (Exit mode 0)\n",
      "            Current function value: -6706.226276945734\n",
      "            Iterations: 34\n",
      "            Function evaluations: 451\n",
      "            Gradient evaluations: 34\n"
     ]
    },
    {
     "name": "stderr",
     "output_type": "stream",
     "text": [
      "/home/brainiac/.local/lib/python3.7/site-packages/arch/univariate/volatility.py:2210: RuntimeWarning: invalid value encountered in log\n",
      "  lnsigma2_mat = np.full((t, m), np.log(backcast))\n"
     ]
    },
    {
     "name": "stdout",
     "output_type": "stream",
     "text": [
      "Iteration:     10,   Func. Count:    139,   Neg. LLF: -6910.6515850881315\n",
      "Iteration:     20,   Func. Count:    252,   Neg. LLF: -6970.300388308706\n",
      "Optimization terminated successfully.    (Exit mode 0)\n",
      "            Current function value: -6971.117939568207\n",
      "            Iterations: 26\n",
      "            Function evaluations: 333\n",
      "            Gradient evaluations: 26\n"
     ]
    },
    {
     "name": "stderr",
     "output_type": "stream",
     "text": [
      "/home/brainiac/.local/lib/python3.7/site-packages/arch/univariate/volatility.py:2210: RuntimeWarning: invalid value encountered in log\n",
      "  lnsigma2_mat = np.full((t, m), np.log(backcast))\n"
     ]
    },
    {
     "name": "stdout",
     "output_type": "stream",
     "text": [
      "Iteration:     10,   Func. Count:    141,   Neg. LLF: -7515.647029130217\n",
      "Iteration:     20,   Func. Count:    254,   Neg. LLF: -7567.237177013512\n",
      "Iteration:     30,   Func. Count:    391,   Neg. LLF: -7569.525958560944\n",
      "Optimization terminated successfully.    (Exit mode 0)\n",
      "            Current function value: -7569.525958683574\n",
      "            Iterations: 30\n",
      "            Function evaluations: 402\n",
      "            Gradient evaluations: 30\n"
     ]
    },
    {
     "name": "stderr",
     "output_type": "stream",
     "text": [
      "/home/brainiac/.local/lib/python3.7/site-packages/arch/univariate/volatility.py:2210: RuntimeWarning: invalid value encountered in log\n",
      "  lnsigma2_mat = np.full((t, m), np.log(backcast))\n"
     ]
    },
    {
     "name": "stdout",
     "output_type": "stream",
     "text": [
      "Iteration:     10,   Func. Count:    143,   Neg. LLF: -7932.907472328748\n",
      "Iteration:     20,   Func. Count:    254,   Neg. LLF: -7991.538296163175\n",
      "Optimization terminated successfully.    (Exit mode 0)\n",
      "            Current function value: -7991.564387749688\n",
      "            Iterations: 27\n",
      "            Function evaluations: 367\n",
      "            Gradient evaluations: 27\n"
     ]
    },
    {
     "name": "stderr",
     "output_type": "stream",
     "text": [
      "/home/brainiac/.local/lib/python3.7/site-packages/arch/univariate/volatility.py:2210: RuntimeWarning: invalid value encountered in log\n",
      "  lnsigma2_mat = np.full((t, m), np.log(backcast))\n"
     ]
    },
    {
     "name": "stdout",
     "output_type": "stream",
     "text": [
      "Iteration:     10,   Func. Count:    140,   Neg. LLF: -8190.072407703302\n",
      "Iteration:     20,   Func. Count:    263,   Neg. LLF: -8232.94273306893\n",
      "Optimization terminated successfully.    (Exit mode 0)\n",
      "            Current function value: -8232.96055405167\n",
      "            Iterations: 23\n",
      "            Function evaluations: 299\n",
      "            Gradient evaluations: 23\n"
     ]
    },
    {
     "name": "stderr",
     "output_type": "stream",
     "text": [
      "/home/brainiac/.local/lib/python3.7/site-packages/arch/univariate/volatility.py:2210: RuntimeWarning: invalid value encountered in log\n",
      "  lnsigma2_mat = np.full((t, m), np.log(backcast))\n"
     ]
    },
    {
     "name": "stdout",
     "output_type": "stream",
     "text": [
      "Iteration:     10,   Func. Count:    140,   Neg. LLF: -8494.068517860289\n",
      "Iteration:     20,   Func. Count:    251,   Neg. LLF: -8534.09630643382\n",
      "Optimization terminated successfully.    (Exit mode 0)\n",
      "            Current function value: -8536.165667333073\n",
      "            Iterations: 27\n",
      "            Function evaluations: 350\n",
      "            Gradient evaluations: 27\n"
     ]
    },
    {
     "name": "stderr",
     "output_type": "stream",
     "text": [
      "/home/brainiac/.local/lib/python3.7/site-packages/arch/univariate/volatility.py:2210: RuntimeWarning: invalid value encountered in log\n",
      "  lnsigma2_mat = np.full((t, m), np.log(backcast))\n"
     ]
    },
    {
     "name": "stdout",
     "output_type": "stream",
     "text": [
      "Iteration:     10,   Func. Count:    142,   Neg. LLF: -8710.057067305539\n",
      "Iteration:     20,   Func. Count:    253,   Neg. LLF: -8754.143529003952\n",
      "Optimization terminated successfully.    (Exit mode 0)\n",
      "            Current function value: -8754.151599647485\n",
      "            Iterations: 23\n",
      "            Function evaluations: 307\n",
      "            Gradient evaluations: 23\n"
     ]
    },
    {
     "name": "stderr",
     "output_type": "stream",
     "text": [
      "/home/brainiac/.local/lib/python3.7/site-packages/arch/univariate/volatility.py:2210: RuntimeWarning: invalid value encountered in log\n",
      "  lnsigma2_mat = np.full((t, m), np.log(backcast))\n"
     ]
    },
    {
     "name": "stdout",
     "output_type": "stream",
     "text": [
      "Iteration:     10,   Func. Count:    142,   Neg. LLF: -8995.944848777694\n",
      "Iteration:     20,   Func. Count:    254,   Neg. LLF: -9031.59231376915\n",
      "Optimization terminated successfully.    (Exit mode 0)\n",
      "            Current function value: -9032.216757052678\n",
      "            Iterations: 26\n",
      "            Function evaluations: 352\n",
      "            Gradient evaluations: 26\n"
     ]
    },
    {
     "name": "stderr",
     "output_type": "stream",
     "text": [
      "/home/brainiac/.local/lib/python3.7/site-packages/arch/univariate/volatility.py:2210: RuntimeWarning: invalid value encountered in log\n",
      "  lnsigma2_mat = np.full((t, m), np.log(backcast))\n"
     ]
    },
    {
     "name": "stdout",
     "output_type": "stream",
     "text": [
      "Iteration:     10,   Func. Count:    142,   Neg. LLF: -9015.405438517533\n",
      "Iteration:     20,   Func. Count:    254,   Neg. LLF: -9052.01076885078\n",
      "Iteration:     30,   Func. Count:    375,   Neg. LLF: -9052.020622523765\n",
      "Optimization terminated successfully.    (Exit mode 0)\n",
      "            Current function value: -9052.020967681447\n",
      "            Iterations: 31\n",
      "            Function evaluations: 397\n",
      "            Gradient evaluations: 31\n"
     ]
    },
    {
     "name": "stderr",
     "output_type": "stream",
     "text": [
      "/home/brainiac/.local/lib/python3.7/site-packages/arch/univariate/volatility.py:2210: RuntimeWarning: invalid value encountered in log\n",
      "  lnsigma2_mat = np.full((t, m), np.log(backcast))\n"
     ]
    },
    {
     "name": "stdout",
     "output_type": "stream",
     "text": [
      "Iteration:     10,   Func. Count:    143,   Neg. LLF: -9192.199872844696\n",
      "Iteration:     20,   Func. Count:    254,   Neg. LLF: -9240.965460145208\n",
      "Optimization terminated successfully.    (Exit mode 0)\n",
      "            Current function value: -9240.965460135694\n",
      "            Iterations: 20\n",
      "            Function evaluations: 265\n",
      "            Gradient evaluations: 20\n"
     ]
    },
    {
     "name": "stderr",
     "output_type": "stream",
     "text": [
      "/home/brainiac/.local/lib/python3.7/site-packages/arch/univariate/volatility.py:2210: RuntimeWarning: invalid value encountered in log\n",
      "  lnsigma2_mat = np.full((t, m), np.log(backcast))\n"
     ]
    },
    {
     "name": "stdout",
     "output_type": "stream",
     "text": [
      "Iteration:     10,   Func. Count:    139,   Neg. LLF: -9476.58715692284\n",
      "Iteration:     20,   Func. Count:    252,   Neg. LLF: -9523.647365600373\n",
      "Optimization terminated successfully.    (Exit mode 0)\n",
      "            Current function value: -9524.518059754744\n",
      "            Iterations: 24\n",
      "            Function evaluations: 296\n",
      "            Gradient evaluations: 24\n"
     ]
    },
    {
     "name": "stderr",
     "output_type": "stream",
     "text": [
      "/home/brainiac/.local/lib/python3.7/site-packages/arch/univariate/volatility.py:2210: RuntimeWarning: invalid value encountered in log\n",
      "  lnsigma2_mat = np.full((t, m), np.log(backcast))\n"
     ]
    },
    {
     "name": "stdout",
     "output_type": "stream",
     "text": [
      "Iteration:     10,   Func. Count:    140,   Neg. LLF: -9295.417684079444\n",
      "Iteration:     20,   Func. Count:    252,   Neg. LLF: -9341.231445081043\n",
      "Optimization terminated successfully.    (Exit mode 0)\n",
      "            Current function value: -9344.71481249271\n",
      "            Iterations: 28\n",
      "            Function evaluations: 371\n",
      "            Gradient evaluations: 28\n"
     ]
    },
    {
     "name": "stderr",
     "output_type": "stream",
     "text": [
      "/home/brainiac/.local/lib/python3.7/site-packages/arch/univariate/volatility.py:2210: RuntimeWarning: invalid value encountered in log\n",
      "  lnsigma2_mat = np.full((t, m), np.log(backcast))\n"
     ]
    },
    {
     "name": "stdout",
     "output_type": "stream",
     "text": [
      "Iteration:     10,   Func. Count:    139,   Neg. LLF: -9311.37845671452\n",
      "Iteration:     20,   Func. Count:    251,   Neg. LLF: -9345.56096289061\n",
      "Optimization terminated successfully.    (Exit mode 0)\n",
      "            Current function value: -9345.75940884585\n",
      "            Iterations: 27\n",
      "            Function evaluations: 351\n",
      "            Gradient evaluations: 27\n"
     ]
    },
    {
     "name": "stderr",
     "output_type": "stream",
     "text": [
      "/home/brainiac/.local/lib/python3.7/site-packages/arch/univariate/volatility.py:2210: RuntimeWarning: invalid value encountered in log\n",
      "  lnsigma2_mat = np.full((t, m), np.log(backcast))\n"
     ]
    },
    {
     "name": "stdout",
     "output_type": "stream",
     "text": [
      "Iteration:     10,   Func. Count:    139,   Neg. LLF: -9420.943699990468\n",
      "Iteration:     20,   Func. Count:    252,   Neg. LLF: -9460.081075105532\n",
      "Optimization terminated successfully.    (Exit mode 0)\n",
      "            Current function value: -9460.508631480685\n",
      "            Iterations: 29\n",
      "            Function evaluations: 378\n",
      "            Gradient evaluations: 29\n"
     ]
    },
    {
     "name": "stderr",
     "output_type": "stream",
     "text": [
      "/home/brainiac/.local/lib/python3.7/site-packages/arch/univariate/volatility.py:2210: RuntimeWarning: invalid value encountered in log\n",
      "  lnsigma2_mat = np.full((t, m), np.log(backcast))\n"
     ]
    },
    {
     "name": "stdout",
     "output_type": "stream",
     "text": [
      "Iteration:     10,   Func. Count:    142,   Neg. LLF: -9461.403143260333\n",
      "Iteration:     20,   Func. Count:    254,   Neg. LLF: -9506.458527113082\n",
      "Optimization terminated successfully.    (Exit mode 0)\n",
      "            Current function value: -9507.277001173314\n",
      "            Iterations: 21\n",
      "            Function evaluations: 276\n",
      "            Gradient evaluations: 21\n"
     ]
    },
    {
     "name": "stderr",
     "output_type": "stream",
     "text": [
      "/home/brainiac/.local/lib/python3.7/site-packages/arch/univariate/volatility.py:2210: RuntimeWarning: invalid value encountered in log\n",
      "  lnsigma2_mat = np.full((t, m), np.log(backcast))\n"
     ]
    },
    {
     "name": "stdout",
     "output_type": "stream",
     "text": [
      "Iteration:     10,   Func. Count:    141,   Neg. LLF: -9814.03714912581\n",
      "Iteration:     20,   Func. Count:    254,   Neg. LLF: -9853.974748949073\n",
      "Optimization terminated successfully.    (Exit mode 0)\n",
      "            Current function value: -9854.036663385214\n",
      "            Iterations: 29\n",
      "            Function evaluations: 379\n",
      "            Gradient evaluations: 29\n"
     ]
    },
    {
     "name": "stderr",
     "output_type": "stream",
     "text": [
      "/home/brainiac/.local/lib/python3.7/site-packages/arch/univariate/volatility.py:2210: RuntimeWarning: invalid value encountered in log\n",
      "  lnsigma2_mat = np.full((t, m), np.log(backcast))\n"
     ]
    },
    {
     "name": "stdout",
     "output_type": "stream",
     "text": [
      "Iteration:     10,   Func. Count:    141,   Neg. LLF: -10178.669138298023\n",
      "Iteration:     20,   Func. Count:    254,   Neg. LLF: -10224.739406728617\n",
      "Optimization terminated successfully.    (Exit mode 0)\n",
      "            Current function value: -10225.808369411467\n",
      "            Iterations: 27\n",
      "            Function evaluations: 352\n",
      "            Gradient evaluations: 27\n"
     ]
    },
    {
     "name": "stderr",
     "output_type": "stream",
     "text": [
      "/home/brainiac/.local/lib/python3.7/site-packages/arch/univariate/volatility.py:2210: RuntimeWarning: invalid value encountered in log\n",
      "  lnsigma2_mat = np.full((t, m), np.log(backcast))\n"
     ]
    },
    {
     "name": "stdout",
     "output_type": "stream",
     "text": [
      "Iteration:     10,   Func. Count:    143,   Neg. LLF: -10294.362697230556\n",
      "Iteration:     20,   Func. Count:    265,   Neg. LLF: -10320.851839368725\n",
      "Optimization terminated successfully.    (Exit mode 0)\n",
      "            Current function value: -10321.571220399137\n",
      "            Iterations: 25\n",
      "            Function evaluations: 331\n",
      "            Gradient evaluations: 25\n"
     ]
    },
    {
     "name": "stderr",
     "output_type": "stream",
     "text": [
      "/home/brainiac/.local/lib/python3.7/site-packages/arch/univariate/volatility.py:2210: RuntimeWarning: invalid value encountered in log\n",
      "  lnsigma2_mat = np.full((t, m), np.log(backcast))\n"
     ]
    },
    {
     "name": "stdout",
     "output_type": "stream",
     "text": [
      "Iteration:     10,   Func. Count:    142,   Neg. LLF: -10396.57208558259\n",
      "Iteration:     20,   Func. Count:    255,   Neg. LLF: -10426.59751601978\n",
      "Optimization terminated successfully.    (Exit mode 0)\n",
      "            Current function value: -10426.597515987782\n",
      "            Iterations: 20\n",
      "            Function evaluations: 266\n",
      "            Gradient evaluations: 20\n"
     ]
    },
    {
     "name": "stderr",
     "output_type": "stream",
     "text": [
      "/home/brainiac/.local/lib/python3.7/site-packages/arch/univariate/volatility.py:2210: RuntimeWarning: invalid value encountered in log\n",
      "  lnsigma2_mat = np.full((t, m), np.log(backcast))\n"
     ]
    },
    {
     "name": "stdout",
     "output_type": "stream",
     "text": [
      "Iteration:     10,   Func. Count:    141,   Neg. LLF: -10518.368558675484\n",
      "Iteration:     20,   Func. Count:    253,   Neg. LLF: -10550.910481449042\n",
      "Optimization terminated successfully.    (Exit mode 0)\n",
      "            Current function value: -10551.58371194393\n",
      "            Iterations: 26\n",
      "            Function evaluations: 340\n",
      "            Gradient evaluations: 26\n"
     ]
    },
    {
     "name": "stderr",
     "output_type": "stream",
     "text": [
      "/home/brainiac/.local/lib/python3.7/site-packages/arch/univariate/volatility.py:2210: RuntimeWarning: invalid value encountered in log\n",
      "  lnsigma2_mat = np.full((t, m), np.log(backcast))\n"
     ]
    },
    {
     "name": "stdout",
     "output_type": "stream",
     "text": [
      "Iteration:     10,   Func. Count:    141,   Neg. LLF: -10377.218755070911\n",
      "Iteration:     20,   Func. Count:    256,   Neg. LLF: -10415.794753676248\n",
      "Optimization terminated successfully.    (Exit mode 0)\n",
      "            Current function value: -10416.036613395821\n",
      "            Iterations: 24\n",
      "            Function evaluations: 312\n",
      "            Gradient evaluations: 24\n"
     ]
    },
    {
     "name": "stderr",
     "output_type": "stream",
     "text": [
      "/home/brainiac/.local/lib/python3.7/site-packages/arch/univariate/volatility.py:2210: RuntimeWarning: invalid value encountered in log\n",
      "  lnsigma2_mat = np.full((t, m), np.log(backcast))\n"
     ]
    },
    {
     "name": "stdout",
     "output_type": "stream",
     "text": [
      "Iteration:     10,   Func. Count:    141,   Neg. LLF: -9595.410520775251\n",
      "Iteration:     20,   Func. Count:    255,   Neg. LLF: -9623.029037285569\n",
      "Optimization terminated successfully.    (Exit mode 0)\n",
      "            Current function value: -9623.040550408266\n",
      "            Iterations: 24\n",
      "            Function evaluations: 320\n",
      "            Gradient evaluations: 24\n"
     ]
    },
    {
     "name": "stderr",
     "output_type": "stream",
     "text": [
      "/home/brainiac/.local/lib/python3.7/site-packages/arch/univariate/volatility.py:2210: RuntimeWarning: invalid value encountered in log\n",
      "  lnsigma2_mat = np.full((t, m), np.log(backcast))\n"
     ]
    },
    {
     "name": "stdout",
     "output_type": "stream",
     "text": [
      "Iteration:     10,   Func. Count:    144,   Neg. LLF: -9116.184812467165\n",
      "Iteration:     20,   Func. Count:    261,   Neg. LLF: -9135.132631478991\n",
      "Optimization terminated successfully.    (Exit mode 0)\n",
      "            Current function value: -9135.137322904558\n",
      "            Iterations: 24\n",
      "            Function evaluations: 321\n",
      "            Gradient evaluations: 24\n"
     ]
    },
    {
     "name": "stderr",
     "output_type": "stream",
     "text": [
      "/home/brainiac/.local/lib/python3.7/site-packages/arch/univariate/volatility.py:2210: RuntimeWarning: invalid value encountered in log\n",
      "  lnsigma2_mat = np.full((t, m), np.log(backcast))\n"
     ]
    },
    {
     "name": "stdout",
     "output_type": "stream",
     "text": [
      "Iteration:     10,   Func. Count:    145,   Neg. LLF: -8250.51471000957\n",
      "Iteration:     20,   Func. Count:    258,   Neg. LLF: -8270.339449369403\n",
      "Optimization terminated successfully.    (Exit mode 0)\n",
      "            Current function value: -8270.525250358824\n",
      "            Iterations: 28\n",
      "            Function evaluations: 369\n",
      "            Gradient evaluations: 28\n"
     ]
    },
    {
     "name": "stderr",
     "output_type": "stream",
     "text": [
      "/home/brainiac/.local/lib/python3.7/site-packages/arch/univariate/volatility.py:2210: RuntimeWarning: invalid value encountered in log\n",
      "  lnsigma2_mat = np.full((t, m), np.log(backcast))\n"
     ]
    },
    {
     "name": "stdout",
     "output_type": "stream",
     "text": [
      "Iteration:     10,   Func. Count:    145,   Neg. LLF: -7638.138289523775\n",
      "Iteration:     20,   Func. Count:    258,   Neg. LLF: -7666.396362451261\n",
      "Optimization terminated successfully.    (Exit mode 0)\n",
      "            Current function value: -7666.601122835307\n",
      "            Iterations: 21\n",
      "            Function evaluations: 280\n",
      "            Gradient evaluations: 21\n"
     ]
    },
    {
     "name": "stderr",
     "output_type": "stream",
     "text": [
      "/home/brainiac/.local/lib/python3.7/site-packages/arch/univariate/volatility.py:2210: RuntimeWarning: invalid value encountered in log\n",
      "  lnsigma2_mat = np.full((t, m), np.log(backcast))\n"
     ]
    },
    {
     "name": "stdout",
     "output_type": "stream",
     "text": [
      "Iteration:     10,   Func. Count:    144,   Neg. LLF: -6986.157915994427\n",
      "Iteration:     20,   Func. Count:    258,   Neg. LLF: -7010.362820153917\n",
      "Optimization terminated successfully.    (Exit mode 0)\n",
      "            Current function value: -7010.408467726296\n",
      "            Iterations: 25\n",
      "            Function evaluations: 334\n",
      "            Gradient evaluations: 25\n"
     ]
    },
    {
     "name": "stderr",
     "output_type": "stream",
     "text": [
      "/home/brainiac/.local/lib/python3.7/site-packages/arch/univariate/volatility.py:2210: RuntimeWarning: invalid value encountered in log\n",
      "  lnsigma2_mat = np.full((t, m), np.log(backcast))\n"
     ]
    },
    {
     "name": "stdout",
     "output_type": "stream",
     "text": [
      "Iteration:     10,   Func. Count:    143,   Neg. LLF: -6604.626408183375\n",
      "Iteration:     20,   Func. Count:    267,   Neg. LLF: -6635.237870026984\n",
      "Optimization terminated successfully.    (Exit mode 0)\n",
      "            Current function value: -6635.389351353363\n",
      "            Iterations: 24\n",
      "            Function evaluations: 322\n",
      "            Gradient evaluations: 24\n"
     ]
    },
    {
     "name": "stderr",
     "output_type": "stream",
     "text": [
      "/home/brainiac/.local/lib/python3.7/site-packages/arch/univariate/volatility.py:2210: RuntimeWarning: invalid value encountered in log\n",
      "  lnsigma2_mat = np.full((t, m), np.log(backcast))\n"
     ]
    },
    {
     "name": "stdout",
     "output_type": "stream",
     "text": [
      "Iteration:     10,   Func. Count:    141,   Neg. LLF: -6301.852641539741\n",
      "Iteration:     20,   Func. Count:    253,   Neg. LLF: -6344.837635125918\n",
      "Optimization terminated successfully.    (Exit mode 0)\n",
      "            Current function value: -6345.260743858713\n",
      "            Iterations: 23\n",
      "            Function evaluations: 307\n",
      "            Gradient evaluations: 23\n"
     ]
    },
    {
     "name": "stderr",
     "output_type": "stream",
     "text": [
      "/home/brainiac/.local/lib/python3.7/site-packages/arch/univariate/volatility.py:2210: RuntimeWarning: invalid value encountered in log\n",
      "  lnsigma2_mat = np.full((t, m), np.log(backcast))\n"
     ]
    },
    {
     "name": "stdout",
     "output_type": "stream",
     "text": [
      "Iteration:     10,   Func. Count:    140,   Neg. LLF: -6139.738966500027\n",
      "Iteration:     20,   Func. Count:    254,   Neg. LLF: -6191.466611736456\n",
      "Optimization terminated successfully.    (Exit mode 0)\n",
      "            Current function value: -6191.466611736374\n",
      "            Iterations: 20\n",
      "            Function evaluations: 265\n",
      "            Gradient evaluations: 20\n"
     ]
    },
    {
     "name": "stderr",
     "output_type": "stream",
     "text": [
      "/home/brainiac/.local/lib/python3.7/site-packages/arch/univariate/volatility.py:2210: RuntimeWarning: invalid value encountered in log\n",
      "  lnsigma2_mat = np.full((t, m), np.log(backcast))\n"
     ]
    },
    {
     "name": "stdout",
     "output_type": "stream",
     "text": [
      "Iteration:     10,   Func. Count:    140,   Neg. LLF: -6321.237072654431\n",
      "Iteration:     20,   Func. Count:    254,   Neg. LLF: -6379.261356156421\n",
      "Optimization terminated successfully.    (Exit mode 0)\n",
      "            Current function value: -6382.660729696532\n",
      "            Iterations: 28\n",
      "            Function evaluations: 368\n",
      "            Gradient evaluations: 28\n"
     ]
    },
    {
     "name": "stderr",
     "output_type": "stream",
     "text": [
      "/home/brainiac/.local/lib/python3.7/site-packages/arch/univariate/volatility.py:2210: RuntimeWarning: invalid value encountered in log\n",
      "  lnsigma2_mat = np.full((t, m), np.log(backcast))\n"
     ]
    },
    {
     "name": "stdout",
     "output_type": "stream",
     "text": [
      "Iteration:     10,   Func. Count:    142,   Neg. LLF: -6947.990031717877\n",
      "Iteration:     20,   Func. Count:    253,   Neg. LLF: -7017.770692522762\n",
      "Optimization terminated successfully.    (Exit mode 0)\n",
      "            Current function value: -7018.647881618748\n",
      "            Iterations: 23\n",
      "            Function evaluations: 297\n",
      "            Gradient evaluations: 23\n"
     ]
    },
    {
     "name": "stderr",
     "output_type": "stream",
     "text": [
      "/home/brainiac/.local/lib/python3.7/site-packages/arch/univariate/volatility.py:2210: RuntimeWarning: invalid value encountered in log\n",
      "  lnsigma2_mat = np.full((t, m), np.log(backcast))\n"
     ]
    },
    {
     "name": "stdout",
     "output_type": "stream",
     "text": [
      "Iteration:     10,   Func. Count:    142,   Neg. LLF: -7447.898182566441\n",
      "Iteration:     20,   Func. Count:    254,   Neg. LLF: -7513.433723198546\n",
      "Optimization terminated successfully.    (Exit mode 0)\n",
      "            Current function value: -7514.199427077976\n",
      "            Iterations: 26\n",
      "            Function evaluations: 343\n",
      "            Gradient evaluations: 26\n"
     ]
    },
    {
     "name": "stderr",
     "output_type": "stream",
     "text": [
      "/home/brainiac/.local/lib/python3.7/site-packages/arch/univariate/volatility.py:2210: RuntimeWarning: invalid value encountered in log\n",
      "  lnsigma2_mat = np.full((t, m), np.log(backcast))\n"
     ]
    },
    {
     "name": "stdout",
     "output_type": "stream",
     "text": [
      "Iteration:     10,   Func. Count:    144,   Neg. LLF: -8180.534861576729\n",
      "Iteration:     20,   Func. Count:    265,   Neg. LLF: -8243.04227078277\n",
      "Optimization terminated successfully.    (Exit mode 0)\n",
      "            Current function value: -8243.050409016512\n",
      "            Iterations: 25\n",
      "            Function evaluations: 341\n",
      "            Gradient evaluations: 25\n"
     ]
    },
    {
     "name": "stderr",
     "output_type": "stream",
     "text": [
      "/home/brainiac/.local/lib/python3.7/site-packages/arch/univariate/volatility.py:2210: RuntimeWarning: invalid value encountered in log\n",
      "  lnsigma2_mat = np.full((t, m), np.log(backcast))\n"
     ]
    },
    {
     "name": "stdout",
     "output_type": "stream",
     "text": [
      "Iteration:     10,   Func. Count:    142,   Neg. LLF: -8478.940918036773\n",
      "Iteration:     20,   Func. Count:    254,   Neg. LLF: -8547.58544190399\n",
      "Iteration:     30,   Func. Count:    385,   Neg. LLF: -8548.203825875215\n",
      "Optimization terminated successfully.    (Exit mode 0)\n",
      "            Current function value: -8548.203825875\n",
      "            Iterations: 30\n",
      "            Function evaluations: 385\n",
      "            Gradient evaluations: 30\n"
     ]
    },
    {
     "name": "stderr",
     "output_type": "stream",
     "text": [
      "/home/brainiac/.local/lib/python3.7/site-packages/arch/univariate/volatility.py:2210: RuntimeWarning: invalid value encountered in log\n",
      "  lnsigma2_mat = np.full((t, m), np.log(backcast))\n"
     ]
    },
    {
     "name": "stdout",
     "output_type": "stream",
     "text": [
      "Iteration:     10,   Func. Count:    143,   Neg. LLF: -8982.009031020449\n",
      "Iteration:     20,   Func. Count:    255,   Neg. LLF: -9056.045536603173\n",
      "Optimization terminated successfully.    (Exit mode 0)\n",
      "            Current function value: -9058.829268823198\n",
      "            Iterations: 27\n",
      "            Function evaluations: 340\n",
      "            Gradient evaluations: 27\n"
     ]
    },
    {
     "name": "stderr",
     "output_type": "stream",
     "text": [
      "/home/brainiac/.local/lib/python3.7/site-packages/arch/univariate/volatility.py:2210: RuntimeWarning: invalid value encountered in log\n",
      "  lnsigma2_mat = np.full((t, m), np.log(backcast))\n"
     ]
    },
    {
     "name": "stdout",
     "output_type": "stream",
     "text": [
      "Iteration:     10,   Func. Count:    141,   Neg. LLF: -9283.258605444538\n",
      "Iteration:     20,   Func. Count:    254,   Neg. LLF: -9348.529248254052\n",
      "Iteration:     30,   Func. Count:    377,   Neg. LLF: -9353.563096408376\n",
      "Optimization terminated successfully.    (Exit mode 0)\n",
      "            Current function value: -9353.563096573931\n",
      "            Iterations: 30\n",
      "            Function evaluations: 380\n",
      "            Gradient evaluations: 30\n"
     ]
    },
    {
     "name": "stderr",
     "output_type": "stream",
     "text": [
      "/home/brainiac/.local/lib/python3.7/site-packages/arch/univariate/volatility.py:2210: RuntimeWarning: invalid value encountered in log\n",
      "  lnsigma2_mat = np.full((t, m), np.log(backcast))\n"
     ]
    },
    {
     "name": "stdout",
     "output_type": "stream",
     "text": [
      "Iteration:     10,   Func. Count:    141,   Neg. LLF: -9617.302375443083\n",
      "Iteration:     20,   Func. Count:    253,   Neg. LLF: -9668.006188309113\n",
      "Optimization terminated successfully.    (Exit mode 0)\n",
      "            Current function value: -9672.35134434659\n",
      "            Iterations: 27\n",
      "            Function evaluations: 351\n",
      "            Gradient evaluations: 27\n"
     ]
    },
    {
     "name": "stderr",
     "output_type": "stream",
     "text": [
      "/home/brainiac/.local/lib/python3.7/site-packages/arch/univariate/volatility.py:2210: RuntimeWarning: invalid value encountered in log\n",
      "  lnsigma2_mat = np.full((t, m), np.log(backcast))\n"
     ]
    },
    {
     "name": "stdout",
     "output_type": "stream",
     "text": [
      "Iteration:     10,   Func. Count:    139,   Neg. LLF: -9740.585561702002\n",
      "Iteration:     20,   Func. Count:    251,   Neg. LLF: -9785.027024527477\n",
      "Iteration:     30,   Func. Count:    377,   Neg. LLF: -9785.684888164235\n",
      "Optimization terminated successfully.    (Exit mode 0)\n",
      "            Current function value: -9785.684888352891\n",
      "            Iterations: 30\n",
      "            Function evaluations: 379\n",
      "            Gradient evaluations: 30\n"
     ]
    },
    {
     "name": "stderr",
     "output_type": "stream",
     "text": [
      "/home/brainiac/.local/lib/python3.7/site-packages/arch/univariate/volatility.py:2210: RuntimeWarning: invalid value encountered in log\n",
      "  lnsigma2_mat = np.full((t, m), np.log(backcast))\n"
     ]
    },
    {
     "name": "stdout",
     "output_type": "stream",
     "text": [
      "Iteration:     10,   Func. Count:    140,   Neg. LLF: -9893.77252807615\n",
      "Iteration:     20,   Func. Count:    252,   Neg. LLF: -9949.33880255076\n",
      "Iteration:     30,   Func. Count:    378,   Neg. LLF: -9953.64599579178\n",
      "Optimization terminated successfully.    (Exit mode 0)\n",
      "            Current function value: -9953.645995789844\n",
      "            Iterations: 30\n",
      "            Function evaluations: 389\n",
      "            Gradient evaluations: 30\n"
     ]
    },
    {
     "name": "stderr",
     "output_type": "stream",
     "text": [
      "/home/brainiac/.local/lib/python3.7/site-packages/arch/univariate/volatility.py:2210: RuntimeWarning: invalid value encountered in log\n",
      "  lnsigma2_mat = np.full((t, m), np.log(backcast))\n"
     ]
    },
    {
     "name": "stdout",
     "output_type": "stream",
     "text": [
      "Iteration:     10,   Func. Count:    146,   Neg. LLF: -9950.029905501138\n",
      "Iteration:     20,   Func. Count:    259,   Neg. LLF: -9995.632806920668\n",
      "Optimization terminated successfully.    (Exit mode 0)\n",
      "            Current function value: -9995.739298108108\n",
      "            Iterations: 26\n",
      "            Function evaluations: 368\n",
      "            Gradient evaluations: 26\n"
     ]
    },
    {
     "name": "stderr",
     "output_type": "stream",
     "text": [
      "/home/brainiac/.local/lib/python3.7/site-packages/arch/univariate/volatility.py:2210: RuntimeWarning: invalid value encountered in log\n",
      "  lnsigma2_mat = np.full((t, m), np.log(backcast))\n"
     ]
    },
    {
     "name": "stdout",
     "output_type": "stream",
     "text": [
      "Iteration:     10,   Func. Count:    147,   Neg. LLF: -9415.246743463333\n",
      "Iteration:     20,   Func. Count:    260,   Neg. LLF: -9469.900765545672\n",
      "Optimization terminated successfully.    (Exit mode 0)\n",
      "            Current function value: -9473.786219802472\n",
      "            Iterations: 26\n",
      "            Function evaluations: 349\n",
      "            Gradient evaluations: 26\n"
     ]
    },
    {
     "name": "stderr",
     "output_type": "stream",
     "text": [
      "/home/brainiac/.local/lib/python3.7/site-packages/arch/univariate/volatility.py:2210: RuntimeWarning: invalid value encountered in log\n",
      "  lnsigma2_mat = np.full((t, m), np.log(backcast))\n"
     ]
    },
    {
     "name": "stdout",
     "output_type": "stream",
     "text": [
      "Iteration:     10,   Func. Count:    146,   Neg. LLF: -8226.565483293387\n",
      "Iteration:     20,   Func. Count:    262,   Neg. LLF: -8296.343484706418\n",
      "Iteration:     30,   Func. Count:    377,   Neg. LLF: -8301.758021183443\n",
      "Iteration:     40,   Func. Count:    499,   Neg. LLF: -8301.778734093668\n",
      "Optimization terminated successfully.    (Exit mode 0)\n",
      "            Current function value: -8301.778739522231\n",
      "            Iterations: 41\n",
      "            Function evaluations: 519\n",
      "            Gradient evaluations: 41\n"
     ]
    },
    {
     "name": "stderr",
     "output_type": "stream",
     "text": [
      "/home/brainiac/.local/lib/python3.7/site-packages/arch/univariate/volatility.py:2210: RuntimeWarning: invalid value encountered in log\n",
      "  lnsigma2_mat = np.full((t, m), np.log(backcast))\n"
     ]
    },
    {
     "name": "stdout",
     "output_type": "stream",
     "text": [
      "Iteration:     10,   Func. Count:    146,   Neg. LLF: -7493.365275490901\n",
      "Iteration:     20,   Func. Count:    259,   Neg. LLF: -7527.67457552956\n",
      "Optimization terminated successfully.    (Exit mode 0)\n",
      "            Current function value: -7528.65203843891\n",
      "            Iterations: 27\n",
      "            Function evaluations: 358\n",
      "            Gradient evaluations: 27\n"
     ]
    },
    {
     "name": "stderr",
     "output_type": "stream",
     "text": [
      "/home/brainiac/.local/lib/python3.7/site-packages/arch/univariate/volatility.py:2210: RuntimeWarning: invalid value encountered in log\n",
      "  lnsigma2_mat = np.full((t, m), np.log(backcast))\n"
     ]
    },
    {
     "name": "stdout",
     "output_type": "stream",
     "text": [
      "Iteration:     10,   Func. Count:    147,   Neg. LLF: -6633.168045679374\n",
      "Iteration:     20,   Func. Count:    262,   Neg. LLF: -6672.740297013268\n",
      "Optimization terminated successfully.    (Exit mode 0)\n",
      "            Current function value: -6673.660046071105\n",
      "            Iterations: 26\n",
      "            Function evaluations: 352\n",
      "            Gradient evaluations: 26\n"
     ]
    },
    {
     "name": "stderr",
     "output_type": "stream",
     "text": [
      "/home/brainiac/.local/lib/python3.7/site-packages/arch/univariate/volatility.py:2210: RuntimeWarning: invalid value encountered in log\n",
      "  lnsigma2_mat = np.full((t, m), np.log(backcast))\n"
     ]
    },
    {
     "name": "stdout",
     "output_type": "stream",
     "text": [
      "Iteration:     10,   Func. Count:    145,   Neg. LLF: -6248.12933480632\n",
      "Iteration:     20,   Func. Count:    259,   Neg. LLF: -6287.466766449757\n",
      "Optimization terminated successfully.    (Exit mode 0)\n",
      "            Current function value: -6289.750975044893\n",
      "            Iterations: 26\n",
      "            Function evaluations: 347\n",
      "            Gradient evaluations: 26\n"
     ]
    },
    {
     "name": "stderr",
     "output_type": "stream",
     "text": [
      "/home/brainiac/.local/lib/python3.7/site-packages/arch/univariate/volatility.py:2210: RuntimeWarning: invalid value encountered in log\n",
      "  lnsigma2_mat = np.full((t, m), np.log(backcast))\n"
     ]
    },
    {
     "name": "stdout",
     "output_type": "stream",
     "text": [
      "Iteration:     10,   Func. Count:    145,   Neg. LLF: -5614.889659402531\n",
      "Iteration:     20,   Func. Count:    258,   Neg. LLF: -5652.313977124453\n",
      "Optimization terminated successfully.    (Exit mode 0)\n",
      "            Current function value: -5655.13585705562\n",
      "            Iterations: 29\n",
      "            Function evaluations: 402\n",
      "            Gradient evaluations: 29\n"
     ]
    },
    {
     "name": "stderr",
     "output_type": "stream",
     "text": [
      "/home/brainiac/.local/lib/python3.7/site-packages/arch/univariate/volatility.py:2210: RuntimeWarning: invalid value encountered in log\n",
      "  lnsigma2_mat = np.full((t, m), np.log(backcast))\n"
     ]
    },
    {
     "name": "stdout",
     "output_type": "stream",
     "text": [
      "Iteration:     10,   Func. Count:    144,   Neg. LLF: -5264.35197405506\n",
      "Iteration:     20,   Func. Count:    258,   Neg. LLF: -5308.813952046035\n",
      "Optimization terminated successfully.    (Exit mode 0)\n",
      "            Current function value: -5309.677479507288\n",
      "            Iterations: 24\n",
      "            Function evaluations: 333\n",
      "            Gradient evaluations: 24\n"
     ]
    },
    {
     "name": "stderr",
     "output_type": "stream",
     "text": [
      "/home/brainiac/.local/lib/python3.7/site-packages/arch/univariate/volatility.py:2210: RuntimeWarning: invalid value encountered in log\n",
      "  lnsigma2_mat = np.full((t, m), np.log(backcast))\n"
     ]
    },
    {
     "name": "stdout",
     "output_type": "stream",
     "text": [
      "Iteration:     10,   Func. Count:    141,   Neg. LLF: -4896.756241266411\n",
      "Iteration:     20,   Func. Count:    255,   Neg. LLF: -4942.1485550605985\n",
      "Optimization terminated successfully.    (Exit mode 0)\n",
      "            Current function value: -4942.2237591759995\n",
      "            Iterations: 24\n",
      "            Function evaluations: 330\n",
      "            Gradient evaluations: 24\n"
     ]
    },
    {
     "name": "stderr",
     "output_type": "stream",
     "text": [
      "/home/brainiac/.local/lib/python3.7/site-packages/arch/univariate/volatility.py:2210: RuntimeWarning: invalid value encountered in log\n",
      "  lnsigma2_mat = np.full((t, m), np.log(backcast))\n"
     ]
    },
    {
     "name": "stdout",
     "output_type": "stream",
     "text": [
      "Iteration:     10,   Func. Count:    141,   Neg. LLF: -4980.633467307668\n",
      "Iteration:     20,   Func. Count:    255,   Neg. LLF: -5038.421444656168\n",
      "Optimization terminated successfully.    (Exit mode 0)\n",
      "            Current function value: -5041.074694247409\n",
      "            Iterations: 24\n",
      "            Function evaluations: 320\n",
      "            Gradient evaluations: 24\n"
     ]
    },
    {
     "name": "stderr",
     "output_type": "stream",
     "text": [
      "/home/brainiac/.local/lib/python3.7/site-packages/arch/univariate/volatility.py:2210: RuntimeWarning: invalid value encountered in log\n",
      "  lnsigma2_mat = np.full((t, m), np.log(backcast))\n"
     ]
    },
    {
     "name": "stdout",
     "output_type": "stream",
     "text": [
      "Iteration:     10,   Func. Count:    141,   Neg. LLF: -5411.492742544555\n",
      "Iteration:     20,   Func. Count:    254,   Neg. LLF: -5473.0651811814405\n",
      "Optimization terminated successfully.    (Exit mode 0)\n",
      "            Current function value: -5476.444266305611\n",
      "            Iterations: 28\n",
      "            Function evaluations: 376\n",
      "            Gradient evaluations: 28\n"
     ]
    },
    {
     "name": "stderr",
     "output_type": "stream",
     "text": [
      "/home/brainiac/.local/lib/python3.7/site-packages/arch/univariate/volatility.py:2210: RuntimeWarning: invalid value encountered in log\n",
      "  lnsigma2_mat = np.full((t, m), np.log(backcast))\n"
     ]
    },
    {
     "name": "stdout",
     "output_type": "stream",
     "text": [
      "Iteration:     10,   Func. Count:    141,   Neg. LLF: -6393.745481473767\n",
      "Optimization terminated successfully.    (Exit mode 0)\n",
      "            Current function value: -6440.656636483881\n",
      "            Iterations: 18\n",
      "            Function evaluations: 243\n",
      "            Gradient evaluations: 18\n"
     ]
    },
    {
     "name": "stderr",
     "output_type": "stream",
     "text": [
      "/home/brainiac/.local/lib/python3.7/site-packages/arch/univariate/volatility.py:2210: RuntimeWarning: invalid value encountered in log\n",
      "  lnsigma2_mat = np.full((t, m), np.log(backcast))\n"
     ]
    },
    {
     "name": "stdout",
     "output_type": "stream",
     "text": [
      "Iteration:     10,   Func. Count:    143,   Neg. LLF: -7119.610283841948\n",
      "Iteration:     20,   Func. Count:    255,   Neg. LLF: -7176.435960999082\n",
      "Optimization terminated successfully.    (Exit mode 0)\n",
      "            Current function value: -7176.553136356513\n",
      "            Iterations: 25\n",
      "            Function evaluations: 333\n",
      "            Gradient evaluations: 25\n"
     ]
    },
    {
     "name": "stderr",
     "output_type": "stream",
     "text": [
      "/home/brainiac/.local/lib/python3.7/site-packages/arch/univariate/volatility.py:2210: RuntimeWarning: invalid value encountered in log\n",
      "  lnsigma2_mat = np.full((t, m), np.log(backcast))\n"
     ]
    },
    {
     "name": "stdout",
     "output_type": "stream",
     "text": [
      "Iteration:     10,   Func. Count:    143,   Neg. LLF: -7738.699039195155\n",
      "Iteration:     20,   Func. Count:    263,   Neg. LLF: -7795.020054727733\n",
      "Optimization terminated successfully.    (Exit mode 0)\n",
      "            Current function value: -7795.967562026698\n",
      "            Iterations: 26\n",
      "            Function evaluations: 354\n",
      "            Gradient evaluations: 26\n"
     ]
    },
    {
     "name": "stderr",
     "output_type": "stream",
     "text": [
      "/home/brainiac/.local/lib/python3.7/site-packages/arch/univariate/volatility.py:2210: RuntimeWarning: invalid value encountered in log\n",
      "  lnsigma2_mat = np.full((t, m), np.log(backcast))\n"
     ]
    },
    {
     "name": "stdout",
     "output_type": "stream",
     "text": [
      "Iteration:     10,   Func. Count:    145,   Neg. LLF: -8261.433763782052\n",
      "Iteration:     20,   Func. Count:    255,   Neg. LLF: -8308.982159017205\n",
      "Optimization terminated successfully.    (Exit mode 0)\n",
      "            Current function value: -8310.859804878708\n",
      "            Iterations: 26\n",
      "            Function evaluations: 336\n",
      "            Gradient evaluations: 26\n"
     ]
    },
    {
     "name": "stderr",
     "output_type": "stream",
     "text": [
      "/home/brainiac/.local/lib/python3.7/site-packages/arch/univariate/volatility.py:2210: RuntimeWarning: invalid value encountered in log\n",
      "  lnsigma2_mat = np.full((t, m), np.log(backcast))\n"
     ]
    },
    {
     "name": "stdout",
     "output_type": "stream",
     "text": [
      "Iteration:     10,   Func. Count:    141,   Neg. LLF: -8723.300745755458\n",
      "Iteration:     20,   Func. Count:    253,   Neg. LLF: -8772.054398681836\n",
      "Optimization terminated successfully.    (Exit mode 0)\n",
      "            Current function value: -8774.352115907697\n",
      "            Iterations: 27\n",
      "            Function evaluations: 343\n",
      "            Gradient evaluations: 27\n"
     ]
    },
    {
     "name": "stderr",
     "output_type": "stream",
     "text": [
      "/home/brainiac/.local/lib/python3.7/site-packages/arch/univariate/volatility.py:2210: RuntimeWarning: invalid value encountered in log\n",
      "  lnsigma2_mat = np.full((t, m), np.log(backcast))\n"
     ]
    },
    {
     "name": "stdout",
     "output_type": "stream",
     "text": [
      "Iteration:     10,   Func. Count:    140,   Neg. LLF: -8950.751507050432\n",
      "Iteration:     20,   Func. Count:    253,   Neg. LLF: -9001.774701890812\n",
      "Optimization terminated successfully.    (Exit mode 0)\n",
      "            Current function value: -9005.46280007757\n",
      "            Iterations: 28\n",
      "            Function evaluations: 361\n",
      "            Gradient evaluations: 28\n"
     ]
    },
    {
     "name": "stderr",
     "output_type": "stream",
     "text": [
      "/home/brainiac/.local/lib/python3.7/site-packages/arch/univariate/volatility.py:2210: RuntimeWarning: invalid value encountered in log\n",
      "  lnsigma2_mat = np.full((t, m), np.log(backcast))\n"
     ]
    },
    {
     "name": "stdout",
     "output_type": "stream",
     "text": [
      "Iteration:     10,   Func. Count:    141,   Neg. LLF: -9086.851939906412\n",
      "Iteration:     20,   Func. Count:    253,   Neg. LLF: -9136.253909435574\n",
      "Iteration:     30,   Func. Count:    379,   Neg. LLF: -9139.12354540983\n",
      "Optimization terminated successfully.    (Exit mode 0)\n",
      "            Current function value: -9139.40860408963\n",
      "            Iterations: 39\n",
      "            Function evaluations: 498\n",
      "            Gradient evaluations: 39\n"
     ]
    },
    {
     "name": "stderr",
     "output_type": "stream",
     "text": [
      "/home/brainiac/.local/lib/python3.7/site-packages/arch/univariate/volatility.py:2210: RuntimeWarning: invalid value encountered in log\n",
      "  lnsigma2_mat = np.full((t, m), np.log(backcast))\n"
     ]
    },
    {
     "name": "stdout",
     "output_type": "stream",
     "text": [
      "Iteration:     10,   Func. Count:    147,   Neg. LLF: -8341.74379413474\n",
      "Iteration:     20,   Func. Count:    258,   Neg. LLF: -8388.960801261668\n",
      "Optimization terminated successfully.    (Exit mode 0)\n",
      "            Current function value: -8389.810859813859\n",
      "            Iterations: 25\n",
      "            Function evaluations: 329\n",
      "            Gradient evaluations: 25\n"
     ]
    },
    {
     "name": "stderr",
     "output_type": "stream",
     "text": [
      "/home/brainiac/.local/lib/python3.7/site-packages/arch/univariate/volatility.py:2210: RuntimeWarning: invalid value encountered in log\n",
      "  lnsigma2_mat = np.full((t, m), np.log(backcast))\n"
     ]
    },
    {
     "name": "stdout",
     "output_type": "stream",
     "text": [
      "Iteration:     10,   Func. Count:    143,   Neg. LLF: -7800.713155466812\n",
      "Iteration:     20,   Func. Count:    256,   Neg. LLF: -7853.200016772934\n",
      "Optimization terminated successfully.    (Exit mode 0)\n",
      "            Current function value: -7853.318992660235\n",
      "            Iterations: 26\n",
      "            Function evaluations: 355\n",
      "            Gradient evaluations: 26\n"
     ]
    },
    {
     "name": "stderr",
     "output_type": "stream",
     "text": [
      "/home/brainiac/.local/lib/python3.7/site-packages/arch/univariate/volatility.py:2210: RuntimeWarning: invalid value encountered in log\n",
      "  lnsigma2_mat = np.full((t, m), np.log(backcast))\n"
     ]
    },
    {
     "name": "stdout",
     "output_type": "stream",
     "text": [
      "Iteration:     10,   Func. Count:    144,   Neg. LLF: -7187.04237780051\n",
      "Iteration:     20,   Func. Count:    257,   Neg. LLF: -7234.737411576866\n",
      "Optimization terminated successfully.    (Exit mode 0)\n",
      "            Current function value: -7236.366494252308\n",
      "            Iterations: 27\n",
      "            Function evaluations: 360\n",
      "            Gradient evaluations: 27\n"
     ]
    },
    {
     "name": "stderr",
     "output_type": "stream",
     "text": [
      "/home/brainiac/.local/lib/python3.7/site-packages/arch/univariate/volatility.py:2210: RuntimeWarning: invalid value encountered in log\n",
      "  lnsigma2_mat = np.full((t, m), np.log(backcast))\n"
     ]
    },
    {
     "name": "stdout",
     "output_type": "stream",
     "text": [
      "Iteration:     10,   Func. Count:    142,   Neg. LLF: -6539.011425627106\n",
      "Iteration:     20,   Func. Count:    255,   Neg. LLF: -6604.949262957634\n",
      "Optimization terminated successfully.    (Exit mode 0)\n",
      "            Current function value: -6605.4267430331665\n",
      "            Iterations: 24\n",
      "            Function evaluations: 322\n",
      "            Gradient evaluations: 24\n"
     ]
    },
    {
     "name": "stderr",
     "output_type": "stream",
     "text": [
      "/home/brainiac/.local/lib/python3.7/site-packages/arch/univariate/volatility.py:2210: RuntimeWarning: invalid value encountered in log\n",
      "  lnsigma2_mat = np.full((t, m), np.log(backcast))\n"
     ]
    },
    {
     "name": "stdout",
     "output_type": "stream",
     "text": [
      "Iteration:     10,   Func. Count:    144,   Neg. LLF: -6047.372583375628\n",
      "Iteration:     20,   Func. Count:    258,   Neg. LLF: -6101.1191986578515\n",
      "Optimization terminated successfully.    (Exit mode 0)\n",
      "            Current function value: -6101.491509927191\n",
      "            Iterations: 21\n",
      "            Function evaluations: 280\n",
      "            Gradient evaluations: 21\n"
     ]
    },
    {
     "name": "stderr",
     "output_type": "stream",
     "text": [
      "/home/brainiac/.local/lib/python3.7/site-packages/arch/univariate/volatility.py:2210: RuntimeWarning: invalid value encountered in log\n",
      "  lnsigma2_mat = np.full((t, m), np.log(backcast))\n"
     ]
    },
    {
     "name": "stdout",
     "output_type": "stream",
     "text": [
      "Iteration:     10,   Func. Count:    140,   Neg. LLF: -5472.805095835361\n",
      "Iteration:     20,   Func. Count:    254,   Neg. LLF: -5517.301999204366\n",
      "Optimization terminated successfully.    (Exit mode 0)\n",
      "            Current function value: -5518.4893752321705\n",
      "            Iterations: 25\n",
      "            Function evaluations: 330\n",
      "            Gradient evaluations: 25\n"
     ]
    },
    {
     "name": "stderr",
     "output_type": "stream",
     "text": [
      "/home/brainiac/.local/lib/python3.7/site-packages/arch/univariate/volatility.py:2210: RuntimeWarning: invalid value encountered in log\n",
      "  lnsigma2_mat = np.full((t, m), np.log(backcast))\n"
     ]
    },
    {
     "name": "stdout",
     "output_type": "stream",
     "text": [
      "Iteration:     10,   Func. Count:    141,   Neg. LLF: -5071.645264772553\n",
      "Iteration:     20,   Func. Count:    254,   Neg. LLF: -5146.4243404598965\n",
      "Optimization terminated successfully.    (Exit mode 0)\n",
      "            Current function value: -5150.550008738143\n",
      "            Iterations: 27\n",
      "            Function evaluations: 363\n",
      "            Gradient evaluations: 27\n"
     ]
    },
    {
     "name": "stderr",
     "output_type": "stream",
     "text": [
      "/home/brainiac/.local/lib/python3.7/site-packages/arch/univariate/volatility.py:2210: RuntimeWarning: invalid value encountered in log\n",
      "  lnsigma2_mat = np.full((t, m), np.log(backcast))\n"
     ]
    },
    {
     "name": "stdout",
     "output_type": "stream",
     "text": [
      "Iteration:     10,   Func. Count:    142,   Neg. LLF: -4768.12723212652\n",
      "Iteration:     20,   Func. Count:    254,   Neg. LLF: -4826.57252645867\n",
      "Optimization terminated successfully.    (Exit mode 0)\n",
      "            Current function value: -4826.572526457549\n",
      "            Iterations: 20\n",
      "            Function evaluations: 265\n",
      "            Gradient evaluations: 20\n"
     ]
    },
    {
     "name": "stderr",
     "output_type": "stream",
     "text": [
      "/home/brainiac/.local/lib/python3.7/site-packages/arch/univariate/volatility.py:2210: RuntimeWarning: invalid value encountered in log\n",
      "  lnsigma2_mat = np.full((t, m), np.log(backcast))\n"
     ]
    },
    {
     "name": "stdout",
     "output_type": "stream",
     "text": [
      "Iteration:     10,   Func. Count:    142,   Neg. LLF: -4620.927467190873\n",
      "Iteration:     20,   Func. Count:    255,   Neg. LLF: -4679.536557159868\n",
      "Optimization terminated successfully.    (Exit mode 0)\n",
      "            Current function value: -4682.261638057196\n",
      "            Iterations: 24\n",
      "            Function evaluations: 316\n",
      "            Gradient evaluations: 24\n"
     ]
    },
    {
     "name": "stderr",
     "output_type": "stream",
     "text": [
      "/home/brainiac/.local/lib/python3.7/site-packages/arch/univariate/volatility.py:2210: RuntimeWarning: invalid value encountered in log\n",
      "  lnsigma2_mat = np.full((t, m), np.log(backcast))\n"
     ]
    },
    {
     "name": "stdout",
     "output_type": "stream",
     "text": [
      "Iteration:     10,   Func. Count:    143,   Neg. LLF: -4823.6800622366645\n",
      "Iteration:     20,   Func. Count:    254,   Neg. LLF: -4876.282208803247\n",
      "Optimization terminated successfully.    (Exit mode 0)\n",
      "            Current function value: -4877.998687826127\n",
      "            Iterations: 24\n",
      "            Function evaluations: 310\n",
      "            Gradient evaluations: 24\n"
     ]
    },
    {
     "name": "stderr",
     "output_type": "stream",
     "text": [
      "/home/brainiac/.local/lib/python3.7/site-packages/arch/univariate/volatility.py:2210: RuntimeWarning: invalid value encountered in log\n",
      "  lnsigma2_mat = np.full((t, m), np.log(backcast))\n"
     ]
    },
    {
     "name": "stdout",
     "output_type": "stream",
     "text": [
      "Iteration:     10,   Func. Count:    142,   Neg. LLF: -5112.329345157812\n",
      "Optimization terminated successfully.    (Exit mode 0)\n",
      "            Current function value: -5163.5377523263105\n",
      "            Iterations: 18\n",
      "            Function evaluations: 242\n",
      "            Gradient evaluations: 18\n"
     ]
    },
    {
     "name": "stderr",
     "output_type": "stream",
     "text": [
      "/home/brainiac/.local/lib/python3.7/site-packages/arch/univariate/volatility.py:2210: RuntimeWarning: invalid value encountered in log\n",
      "  lnsigma2_mat = np.full((t, m), np.log(backcast))\n"
     ]
    },
    {
     "name": "stdout",
     "output_type": "stream",
     "text": [
      "Iteration:     10,   Func. Count:    143,   Neg. LLF: -5738.108316899955\n",
      "Iteration:     20,   Func. Count:    254,   Neg. LLF: -5790.877912547445\n",
      "Optimization terminated successfully.    (Exit mode 0)\n",
      "            Current function value: -5793.5668126652945\n",
      "            Iterations: 25\n",
      "            Function evaluations: 323\n",
      "            Gradient evaluations: 25\n"
     ]
    },
    {
     "name": "stderr",
     "output_type": "stream",
     "text": [
      "/home/brainiac/.local/lib/python3.7/site-packages/arch/univariate/volatility.py:2210: RuntimeWarning: invalid value encountered in log\n",
      "  lnsigma2_mat = np.full((t, m), np.log(backcast))\n"
     ]
    },
    {
     "name": "stdout",
     "output_type": "stream",
     "text": [
      "Iteration:     10,   Func. Count:    142,   Neg. LLF: -6245.159928113111\n",
      "Iteration:     20,   Func. Count:    254,   Neg. LLF: -6280.666445715311\n",
      "Optimization terminated successfully.    (Exit mode 0)\n",
      "            Current function value: -6281.191215104102\n",
      "            Iterations: 26\n",
      "            Function evaluations: 342\n",
      "            Gradient evaluations: 26\n"
     ]
    },
    {
     "name": "stderr",
     "output_type": "stream",
     "text": [
      "/home/brainiac/.local/lib/python3.7/site-packages/arch/univariate/volatility.py:2210: RuntimeWarning: invalid value encountered in log\n",
      "  lnsigma2_mat = np.full((t, m), np.log(backcast))\n"
     ]
    },
    {
     "name": "stdout",
     "output_type": "stream",
     "text": [
      "Iteration:     10,   Func. Count:    142,   Neg. LLF: -6888.263357104381\n",
      "Iteration:     20,   Func. Count:    255,   Neg. LLF: -6917.316664256252\n",
      "Optimization terminated successfully.    (Exit mode 0)\n",
      "            Current function value: -6918.026485238487\n",
      "            Iterations: 28\n",
      "            Function evaluations: 364\n",
      "            Gradient evaluations: 28\n"
     ]
    },
    {
     "name": "stderr",
     "output_type": "stream",
     "text": [
      "/home/brainiac/.local/lib/python3.7/site-packages/arch/univariate/volatility.py:2210: RuntimeWarning: invalid value encountered in log\n",
      "  lnsigma2_mat = np.full((t, m), np.log(backcast))\n"
     ]
    },
    {
     "name": "stdout",
     "output_type": "stream",
     "text": [
      "Iteration:     10,   Func. Count:    143,   Neg. LLF: -7211.943523160067\n",
      "Iteration:     20,   Func. Count:    255,   Neg. LLF: -7240.453465494923\n",
      "Optimization terminated successfully.    (Exit mode 0)\n",
      "            Current function value: -7240.461397318446\n",
      "            Iterations: 24\n",
      "            Function evaluations: 309\n",
      "            Gradient evaluations: 24\n"
     ]
    },
    {
     "name": "stderr",
     "output_type": "stream",
     "text": [
      "/home/brainiac/.local/lib/python3.7/site-packages/arch/univariate/volatility.py:2210: RuntimeWarning: invalid value encountered in log\n",
      "  lnsigma2_mat = np.full((t, m), np.log(backcast))\n"
     ]
    },
    {
     "name": "stdout",
     "output_type": "stream",
     "text": [
      "Iteration:     10,   Func. Count:    143,   Neg. LLF: -7055.9890470870305\n",
      "Iteration:     20,   Func. Count:    256,   Neg. LLF: -7087.126160974389\n",
      "Optimization terminated successfully.    (Exit mode 0)\n",
      "            Current function value: -7087.201201625897\n",
      "            Iterations: 28\n",
      "            Function evaluations: 372\n",
      "            Gradient evaluations: 28\n"
     ]
    },
    {
     "name": "stderr",
     "output_type": "stream",
     "text": [
      "/home/brainiac/.local/lib/python3.7/site-packages/arch/univariate/volatility.py:2210: RuntimeWarning: invalid value encountered in log\n",
      "  lnsigma2_mat = np.full((t, m), np.log(backcast))\n"
     ]
    },
    {
     "name": "stdout",
     "output_type": "stream",
     "text": [
      "Iteration:     10,   Func. Count:    144,   Neg. LLF: -7023.042722760357\n",
      "Iteration:     20,   Func. Count:    258,   Neg. LLF: -7082.22116969311\n",
      "Optimization terminated successfully.    (Exit mode 0)\n",
      "            Current function value: -7082.257624964795\n",
      "            Iterations: 23\n",
      "            Function evaluations: 303\n",
      "            Gradient evaluations: 23\n"
     ]
    },
    {
     "name": "stderr",
     "output_type": "stream",
     "text": [
      "/home/brainiac/.local/lib/python3.7/site-packages/arch/univariate/volatility.py:2210: RuntimeWarning: invalid value encountered in log\n",
      "  lnsigma2_mat = np.full((t, m), np.log(backcast))\n"
     ]
    },
    {
     "name": "stdout",
     "output_type": "stream",
     "text": [
      "Iteration:     10,   Func. Count:    147,   Neg. LLF: -7034.084936478188\n",
      "Iteration:     20,   Func. Count:    258,   Neg. LLF: -7083.514074670969\n",
      "Optimization terminated successfully.    (Exit mode 0)\n",
      "            Current function value: -7083.514647842845\n",
      "            Iterations: 28\n",
      "            Function evaluations: 360\n",
      "            Gradient evaluations: 28\n"
     ]
    },
    {
     "name": "stderr",
     "output_type": "stream",
     "text": [
      "/home/brainiac/.local/lib/python3.7/site-packages/arch/univariate/volatility.py:2210: RuntimeWarning: invalid value encountered in log\n",
      "  lnsigma2_mat = np.full((t, m), np.log(backcast))\n"
     ]
    },
    {
     "name": "stdout",
     "output_type": "stream",
     "text": [
      "Iteration:     10,   Func. Count:    142,   Neg. LLF: -7261.2290336200895\n",
      "Iteration:     20,   Func. Count:    255,   Neg. LLF: -7318.021571224347\n",
      "Optimization terminated successfully.    (Exit mode 0)\n",
      "            Current function value: -7318.061014359424\n",
      "            Iterations: 23\n",
      "            Function evaluations: 299\n",
      "            Gradient evaluations: 23\n"
     ]
    },
    {
     "name": "stderr",
     "output_type": "stream",
     "text": [
      "/home/brainiac/.local/lib/python3.7/site-packages/arch/univariate/volatility.py:2210: RuntimeWarning: invalid value encountered in log\n",
      "  lnsigma2_mat = np.full((t, m), np.log(backcast))\n"
     ]
    },
    {
     "name": "stdout",
     "output_type": "stream",
     "text": [
      "Iteration:     10,   Func. Count:    144,   Neg. LLF: -7449.291846215225\n",
      "Iteration:     20,   Func. Count:    255,   Neg. LLF: -7503.107729870541\n",
      "Optimization terminated successfully.    (Exit mode 0)\n",
      "            Current function value: -7503.112318043285\n",
      "            Iterations: 21\n",
      "            Function evaluations: 277\n",
      "            Gradient evaluations: 21\n"
     ]
    },
    {
     "name": "stderr",
     "output_type": "stream",
     "text": [
      "/home/brainiac/.local/lib/python3.7/site-packages/arch/univariate/volatility.py:2210: RuntimeWarning: invalid value encountered in log\n",
      "  lnsigma2_mat = np.full((t, m), np.log(backcast))\n"
     ]
    },
    {
     "name": "stdout",
     "output_type": "stream",
     "text": [
      "Iteration:     10,   Func. Count:    142,   Neg. LLF: -7603.279409775262\n",
      "Iteration:     20,   Func. Count:    254,   Neg. LLF: -7706.55919878204\n",
      "Optimization terminated successfully.    (Exit mode 0)\n",
      "            Current function value: -7706.782762760406\n",
      "            Iterations: 24\n",
      "            Function evaluations: 309\n",
      "            Gradient evaluations: 24\n"
     ]
    },
    {
     "name": "stderr",
     "output_type": "stream",
     "text": [
      "/home/brainiac/.local/lib/python3.7/site-packages/arch/univariate/volatility.py:2210: RuntimeWarning: invalid value encountered in log\n",
      "  lnsigma2_mat = np.full((t, m), np.log(backcast))\n"
     ]
    },
    {
     "name": "stdout",
     "output_type": "stream",
     "text": [
      "Iteration:     10,   Func. Count:    143,   Neg. LLF: -7932.080785806715\n",
      "Iteration:     20,   Func. Count:    255,   Neg. LLF: -8008.3577809871695\n",
      "Optimization terminated successfully.    (Exit mode 0)\n",
      "            Current function value: -8008.364456354852\n",
      "            Iterations: 22\n",
      "            Function evaluations: 289\n",
      "            Gradient evaluations: 22\n"
     ]
    },
    {
     "name": "stderr",
     "output_type": "stream",
     "text": [
      "/home/brainiac/.local/lib/python3.7/site-packages/arch/univariate/volatility.py:2210: RuntimeWarning: invalid value encountered in log\n",
      "  lnsigma2_mat = np.full((t, m), np.log(backcast))\n"
     ]
    },
    {
     "name": "stdout",
     "output_type": "stream",
     "text": [
      "Iteration:     10,   Func. Count:    144,   Neg. LLF: -7911.971920475261\n",
      "Iteration:     20,   Func. Count:    255,   Neg. LLF: -7968.31634450122\n",
      "Optimization terminated successfully.    (Exit mode 0)\n",
      "            Current function value: -7968.316707406835\n",
      "            Iterations: 23\n",
      "            Function evaluations: 301\n",
      "            Gradient evaluations: 23\n"
     ]
    },
    {
     "name": "stderr",
     "output_type": "stream",
     "text": [
      "/home/brainiac/.local/lib/python3.7/site-packages/arch/univariate/volatility.py:2210: RuntimeWarning: invalid value encountered in log\n",
      "  lnsigma2_mat = np.full((t, m), np.log(backcast))\n"
     ]
    },
    {
     "name": "stdout",
     "output_type": "stream",
     "text": [
      "Iteration:     10,   Func. Count:    142,   Neg. LLF: -7955.218193059614\n",
      "Iteration:     20,   Func. Count:    254,   Neg. LLF: -8010.831364986656\n",
      "Iteration:     30,   Func. Count:    373,   Neg. LLF: -8010.853045643065\n",
      "Optimization terminated successfully.    (Exit mode 0)\n",
      "            Current function value: -8010.853048442747\n",
      "            Iterations: 32\n",
      "            Function evaluations: 397\n",
      "            Gradient evaluations: 32\n"
     ]
    },
    {
     "name": "stderr",
     "output_type": "stream",
     "text": [
      "/home/brainiac/.local/lib/python3.7/site-packages/arch/univariate/volatility.py:2210: RuntimeWarning: invalid value encountered in log\n",
      "  lnsigma2_mat = np.full((t, m), np.log(backcast))\n"
     ]
    },
    {
     "name": "stdout",
     "output_type": "stream",
     "text": [
      "Iteration:     10,   Func. Count:    144,   Neg. LLF: -8419.611985111402\n",
      "Iteration:     20,   Func. Count:    256,   Neg. LLF: -8470.152022726237\n",
      "Optimization terminated successfully.    (Exit mode 0)\n",
      "            Current function value: -8470.199326284743\n",
      "            Iterations: 23\n",
      "            Function evaluations: 300\n",
      "            Gradient evaluations: 23\n"
     ]
    },
    {
     "name": "stderr",
     "output_type": "stream",
     "text": [
      "/home/brainiac/.local/lib/python3.7/site-packages/arch/univariate/volatility.py:2210: RuntimeWarning: invalid value encountered in log\n",
      "  lnsigma2_mat = np.full((t, m), np.log(backcast))\n"
     ]
    },
    {
     "name": "stdout",
     "output_type": "stream",
     "text": [
      "Iteration:     10,   Func. Count:    141,   Neg. LLF: -8470.646952161906\n",
      "Iteration:     20,   Func. Count:    259,   Neg. LLF: -8504.126414447986\n",
      "Optimization terminated successfully.    (Exit mode 0)\n",
      "            Current function value: -8504.38194922025\n",
      "            Iterations: 28\n",
      "            Function evaluations: 372\n",
      "            Gradient evaluations: 28\n"
     ]
    },
    {
     "name": "stderr",
     "output_type": "stream",
     "text": [
      "/home/brainiac/.local/lib/python3.7/site-packages/arch/univariate/volatility.py:2210: RuntimeWarning: invalid value encountered in log\n",
      "  lnsigma2_mat = np.full((t, m), np.log(backcast))\n"
     ]
    },
    {
     "name": "stdout",
     "output_type": "stream",
     "text": [
      "Iteration:     10,   Func. Count:    142,   Neg. LLF: -8287.965228730534\n",
      "Iteration:     20,   Func. Count:    254,   Neg. LLF: -8336.584900067106\n",
      "Optimization terminated successfully.    (Exit mode 0)\n",
      "            Current function value: -8336.686833237503\n",
      "            Iterations: 26\n",
      "            Function evaluations: 343\n",
      "            Gradient evaluations: 26\n"
     ]
    },
    {
     "name": "stderr",
     "output_type": "stream",
     "text": [
      "/home/brainiac/.local/lib/python3.7/site-packages/arch/univariate/volatility.py:2210: RuntimeWarning: invalid value encountered in log\n",
      "  lnsigma2_mat = np.full((t, m), np.log(backcast))\n"
     ]
    },
    {
     "name": "stdout",
     "output_type": "stream",
     "text": [
      "Iteration:     10,   Func. Count:    140,   Neg. LLF: -8403.901894822733\n",
      "Iteration:     20,   Func. Count:    254,   Neg. LLF: -8447.2046227498\n",
      "Optimization terminated successfully.    (Exit mode 0)\n",
      "            Current function value: -8448.021425733517\n",
      "            Iterations: 27\n",
      "            Function evaluations: 355\n",
      "            Gradient evaluations: 27\n"
     ]
    },
    {
     "name": "stderr",
     "output_type": "stream",
     "text": [
      "/home/brainiac/.local/lib/python3.7/site-packages/arch/univariate/volatility.py:2210: RuntimeWarning: invalid value encountered in log\n",
      "  lnsigma2_mat = np.full((t, m), np.log(backcast))\n"
     ]
    },
    {
     "name": "stdout",
     "output_type": "stream",
     "text": [
      "Iteration:     10,   Func. Count:    139,   Neg. LLF: -8219.282401054437\n",
      "Iteration:     20,   Func. Count:    253,   Neg. LLF: -8254.278041291289\n",
      "Optimization terminated successfully.    (Exit mode 0)\n",
      "            Current function value: -8254.607738430825\n",
      "            Iterations: 27\n",
      "            Function evaluations: 368\n",
      "            Gradient evaluations: 27\n"
     ]
    },
    {
     "name": "stderr",
     "output_type": "stream",
     "text": [
      "/home/brainiac/.local/lib/python3.7/site-packages/arch/univariate/volatility.py:2210: RuntimeWarning: invalid value encountered in log\n",
      "  lnsigma2_mat = np.full((t, m), np.log(backcast))\n"
     ]
    },
    {
     "name": "stdout",
     "output_type": "stream",
     "text": [
      "Iteration:     10,   Func. Count:    139,   Neg. LLF: -8159.630781164502\n",
      "Iteration:     20,   Func. Count:    262,   Neg. LLF: -8202.696882192777\n",
      "Optimization terminated successfully.    (Exit mode 0)\n",
      "            Current function value: -8202.824379434773\n",
      "            Iterations: 28\n",
      "            Function evaluations: 389\n",
      "            Gradient evaluations: 28\n"
     ]
    },
    {
     "name": "stderr",
     "output_type": "stream",
     "text": [
      "/home/brainiac/.local/lib/python3.7/site-packages/arch/univariate/volatility.py:2210: RuntimeWarning: invalid value encountered in log\n",
      "  lnsigma2_mat = np.full((t, m), np.log(backcast))\n"
     ]
    },
    {
     "name": "stdout",
     "output_type": "stream",
     "text": [
      "Iteration:     10,   Func. Count:    141,   Neg. LLF: -7652.495525553362\n",
      "Iteration:     20,   Func. Count:    255,   Neg. LLF: -7691.125184776132\n",
      "Optimization terminated successfully.    (Exit mode 0)\n",
      "            Current function value: -7691.489655191412\n",
      "            Iterations: 23\n",
      "            Function evaluations: 309\n",
      "            Gradient evaluations: 23\n"
     ]
    },
    {
     "name": "stderr",
     "output_type": "stream",
     "text": [
      "/home/brainiac/.local/lib/python3.7/site-packages/arch/univariate/volatility.py:2210: RuntimeWarning: invalid value encountered in log\n",
      "  lnsigma2_mat = np.full((t, m), np.log(backcast))\n"
     ]
    },
    {
     "name": "stdout",
     "output_type": "stream",
     "text": [
      "Iteration:     10,   Func. Count:    141,   Neg. LLF: -7272.392357106981\n",
      "Iteration:     20,   Func. Count:    254,   Neg. LLF: -7316.000444595449\n",
      "Optimization terminated successfully.    (Exit mode 0)\n",
      "            Current function value: -7316.179936765107\n",
      "            Iterations: 28\n",
      "            Function evaluations: 393\n",
      "            Gradient evaluations: 28\n"
     ]
    },
    {
     "name": "stderr",
     "output_type": "stream",
     "text": [
      "/home/brainiac/.local/lib/python3.7/site-packages/arch/univariate/volatility.py:2210: RuntimeWarning: invalid value encountered in log\n",
      "  lnsigma2_mat = np.full((t, m), np.log(backcast))\n"
     ]
    },
    {
     "name": "stdout",
     "output_type": "stream",
     "text": [
      "Iteration:     10,   Func. Count:    140,   Neg. LLF: -7210.517206433376\n",
      "Iteration:     20,   Func. Count:    254,   Neg. LLF: -7251.821594624732\n",
      "Optimization terminated successfully.    (Exit mode 0)\n",
      "            Current function value: -7254.657778337047\n",
      "            Iterations: 24\n",
      "            Function evaluations: 319\n",
      "            Gradient evaluations: 24\n"
     ]
    },
    {
     "name": "stderr",
     "output_type": "stream",
     "text": [
      "/home/brainiac/.local/lib/python3.7/site-packages/arch/univariate/volatility.py:2210: RuntimeWarning: invalid value encountered in log\n",
      "  lnsigma2_mat = np.full((t, m), np.log(backcast))\n"
     ]
    },
    {
     "name": "stdout",
     "output_type": "stream",
     "text": [
      "Iteration:     10,   Func. Count:    139,   Neg. LLF: -7256.080996964499\n",
      "Iteration:     20,   Func. Count:    252,   Neg. LLF: -7309.144614281364\n",
      "Optimization terminated successfully.    (Exit mode 0)\n",
      "            Current function value: -7309.214078452569\n",
      "            Iterations: 28\n",
      "            Function evaluations: 391\n",
      "            Gradient evaluations: 28\n"
     ]
    },
    {
     "name": "stderr",
     "output_type": "stream",
     "text": [
      "/home/brainiac/.local/lib/python3.7/site-packages/arch/univariate/volatility.py:2210: RuntimeWarning: invalid value encountered in log\n",
      "  lnsigma2_mat = np.full((t, m), np.log(backcast))\n"
     ]
    },
    {
     "name": "stdout",
     "output_type": "stream",
     "text": [
      "Iteration:     10,   Func. Count:    142,   Neg. LLF: -7385.7032318875845\n",
      "Iteration:     20,   Func. Count:    255,   Neg. LLF: -7422.365528557532\n",
      "Optimization terminated successfully.    (Exit mode 0)\n",
      "            Current function value: -7422.636656385042\n",
      "            Iterations: 25\n",
      "            Function evaluations: 331\n",
      "            Gradient evaluations: 25\n"
     ]
    },
    {
     "name": "stderr",
     "output_type": "stream",
     "text": [
      "/home/brainiac/.local/lib/python3.7/site-packages/arch/univariate/volatility.py:2210: RuntimeWarning: invalid value encountered in log\n",
      "  lnsigma2_mat = np.full((t, m), np.log(backcast))\n"
     ]
    },
    {
     "name": "stdout",
     "output_type": "stream",
     "text": [
      "CPU times: user 9min 28s, sys: 35.3 s, total: 10min 3s\n",
      "Wall time: 1min 47s\n"
     ]
    }
   ],
   "source": [
    "%%time\n",
    "egarch_part=10_000 # данные для модели EGARCH \n",
    "egarch_train=9_000 # данные для обучения\n",
    "egarch_forec=1_000 # данные для прогноза\n",
    "egarch_vol = [] # список для волатильности\n",
    "egarch_vol.extend(abs(df_data['close'][0:egarch_train+1].pct_change().rolling(5).std()*100)) # первые несколько измерений заменяются простым std\n",
    "\n",
    "for i in range(1, math.ceil((len(df_data)-egarch_train)/egarch_forec)+1):\n",
    "    egarch_model = arch_model(returns.iloc[(i-1)*egarch_forec:egarch_part+egarch_forec*(i-1)].dropna(), vol='EGARCH', p=5, q=1, dist='studentst', mean='ARX', rescale=False)\n",
    "    results = egarch_model.fit(last_obs=egarch_part-egarch_forec, update_freq=10) # обучение модели\n",
    "    forecasts = results.forecast(horizon=1, start=egarch_part-egarch_forec, method='simulation') # прогнозирование волатильности\n",
    "    egarch_vol.extend(np.sqrt(forecasts.variance.dropna()['h.1'].values)) # формирование списка волатильностей"
   ]
  },
  {
   "cell_type": "code",
   "execution_count": 12,
   "metadata": {},
   "outputs": [
    {
     "name": "stdout",
     "output_type": "stream",
     "text": [
      "243919\n",
      "243919\n"
     ]
    }
   ],
   "source": [
    "print(len(egarch_vol))\n",
    "print(len(df_data['close']))"
   ]
  },
  {
   "cell_type": "markdown",
   "metadata": {},
   "source": [
    "# Детектирование структурных разрывов"
   ]
  },
  {
   "cell_type": "code",
   "execution_count": 13,
   "metadata": {},
   "outputs": [],
   "source": [
    "batch_size=20_000"
   ]
  },
  {
   "cell_type": "code",
   "execution_count": 14,
   "metadata": {},
   "outputs": [
    {
     "name": "stdout",
     "output_type": "stream",
     "text": [
      "CPU times: user 5min 7s, sys: 21.7 s, total: 5min 29s\n",
      "Wall time: 5min 5s\n"
     ]
    }
   ],
   "source": [
    "%%time\n",
    "# вычисляем точки начала структурных разрывов\n",
    "borders_breaks = []\n",
    "for i in range(1, math.ceil(len(df_data)/batch_size)+1):\n",
    "    find_borders_breaks = rpt.Pelt(model=\"rbf\").fit(df_data['close'][batch_size*(i-1):batch_size*i].values)\n",
    "    borders_breaks_batch = find_borders_breaks.predict(pen=1.5)\n",
    "    \n",
    "    b = [j+(batch_size*(i-1)) for j in borders_breaks_batch]\n",
    "    \n",
    "    borders_breaks.extend(b)"
   ]
  },
  {
   "cell_type": "code",
   "execution_count": 15,
   "metadata": {},
   "outputs": [
    {
     "name": "stdout",
     "output_type": "stream",
     "text": [
      "CPU times: user 21.5 ms, sys: 0 ns, total: 21.5 ms\n",
      "Wall time: 21.3 ms\n"
     ]
    }
   ],
   "source": [
    "%%time\n",
    "# формуруем список точек диапозона разрыва\n",
    "list_marked_breaks = []\n",
    "k = 0\n",
    "for i in range(0, len(borders_breaks)):\n",
    "    for j in range(k, borders_breaks[i]):\n",
    "        list_marked_breaks.append(i)\n",
    "    k = borders_breaks[i]"
   ]
  },
  {
   "cell_type": "markdown",
   "metadata": {},
   "source": [
    "# Новые признаки"
   ]
  },
  {
   "cell_type": "code",
   "execution_count": 17,
   "metadata": {},
   "outputs": [],
   "source": [
    "# Волатильность\n",
    "volatility_STD = df_data['close'].pct_change().rolling(5).std()*100\n",
    "#volatility_EGARCH = egarch_vol_list[:len(df_data['close'])] # для первого варианта волатильности EGARCH\n",
    "\n",
    "volatility_EGARCH = egarch_vol[:len(df_data['close'])] # для второго варианта волатильности EGARCH\n",
    "\n",
    "# Тренд\n",
    "returns = 100 * df_data['close'].pct_change()"
   ]
  },
  {
   "cell_type": "code",
   "execution_count": 18,
   "metadata": {},
   "outputs": [],
   "source": [
    "# формируется датафрейм для построения модели кластеризации режимов\n",
    "df_data_to_test = deepcopy(df_data)"
   ]
  },
  {
   "cell_type": "code",
   "execution_count": 19,
   "metadata": {},
   "outputs": [],
   "source": [
    "df_data_to_test['volatility_STD']=volatility_STD\n",
    "df_data_to_test['volatility_EGARCH']=volatility_EGARCH\n",
    "df_data_to_test['markers_breaks']=list_marked_breaks\n",
    "df_data_to_test['returns']=returns"
   ]
  },
  {
   "cell_type": "code",
   "execution_count": 20,
   "metadata": {},
   "outputs": [],
   "source": [
    "df_data_to_test = df_data_to_test.dropna()\n",
    "df_data_to_test.index = range(len(df_data_to_test))"
   ]
  },
  {
   "cell_type": "markdown",
   "metadata": {},
   "source": [
    "# Модель для детектирования режимов"
   ]
  },
  {
   "cell_type": "code",
   "execution_count": 21,
   "metadata": {},
   "outputs": [],
   "source": [
    "X = df_data_to_test.drop('datetime', axis=1) # основной рабочий датафрейм"
   ]
  },
  {
   "cell_type": "code",
   "execution_count": 22,
   "metadata": {},
   "outputs": [
    {
     "data": {
      "text/html": [
       "<div>\n",
       "<style scoped>\n",
       "    .dataframe tbody tr th:only-of-type {\n",
       "        vertical-align: middle;\n",
       "    }\n",
       "\n",
       "    .dataframe tbody tr th {\n",
       "        vertical-align: top;\n",
       "    }\n",
       "\n",
       "    .dataframe thead th {\n",
       "        text-align: right;\n",
       "    }\n",
       "</style>\n",
       "<table border=\"1\" class=\"dataframe\">\n",
       "  <thead>\n",
       "    <tr style=\"text-align: right;\">\n",
       "      <th></th>\n",
       "      <th>p_25_value__fft_coefficient__coeff_0__attr_\"abs\"</th>\n",
       "      <th>volatility_bbw</th>\n",
       "      <th>p_55_value__quantile__q_0.7</th>\n",
       "      <th>close</th>\n",
       "      <th>p_25_value__maximum</th>\n",
       "      <th>trend_macd</th>\n",
       "      <th>p_55_value__fft_coefficient__coeff_0__attr_\"abs\"</th>\n",
       "      <th>momentum_roc</th>\n",
       "      <th>p_75_value__fft_coefficient__coeff_0__attr_\"abs\"</th>\n",
       "      <th>p_45_value__fft_coefficient__coeff_0__attr_\"abs\"</th>\n",
       "      <th>...</th>\n",
       "      <th>p_15_value__quantile__q_0.1</th>\n",
       "      <th>p_5_value__fft_coefficient__coeff_0__attr_\"abs\"</th>\n",
       "      <th>p_85_value__energy_ratio_by_chunks__num_segments_10__segment_focus_9</th>\n",
       "      <th>p_95_value__absolute_sum_of_changes</th>\n",
       "      <th>p_65_value__fft_coefficient__coeff_0__attr_\"abs\"</th>\n",
       "      <th>volatility_bbh</th>\n",
       "      <th>volatility_STD</th>\n",
       "      <th>volatility_EGARCH</th>\n",
       "      <th>markers_breaks</th>\n",
       "      <th>returns</th>\n",
       "    </tr>\n",
       "  </thead>\n",
       "  <tbody>\n",
       "    <tr>\n",
       "      <td>0</td>\n",
       "      <td>0.000379</td>\n",
       "      <td>19.773720</td>\n",
       "      <td>0.000107</td>\n",
       "      <td>3703.0</td>\n",
       "      <td>0.000181</td>\n",
       "      <td>2.799234</td>\n",
       "      <td>0.000379</td>\n",
       "      <td>0.0</td>\n",
       "      <td>0.000379</td>\n",
       "      <td>0.000379</td>\n",
       "      <td>...</td>\n",
       "      <td>-0.000033</td>\n",
       "      <td>0.000362</td>\n",
       "      <td>0.000000</td>\n",
       "      <td>0.000725</td>\n",
       "      <td>0.000379</td>\n",
       "      <td>3705.136860</td>\n",
       "      <td>0.082665</td>\n",
       "      <td>0.082665</td>\n",
       "      <td>0</td>\n",
       "      <td>0.081081</td>\n",
       "    </tr>\n",
       "    <tr>\n",
       "      <td>1</td>\n",
       "      <td>0.000478</td>\n",
       "      <td>18.645491</td>\n",
       "      <td>0.000105</td>\n",
       "      <td>3695.5</td>\n",
       "      <td>0.000181</td>\n",
       "      <td>2.648736</td>\n",
       "      <td>0.000478</td>\n",
       "      <td>0.0</td>\n",
       "      <td>0.000478</td>\n",
       "      <td>0.000478</td>\n",
       "      <td>...</td>\n",
       "      <td>-0.000023</td>\n",
       "      <td>0.000379</td>\n",
       "      <td>0.000000</td>\n",
       "      <td>0.000774</td>\n",
       "      <td>0.000478</td>\n",
       "      <td>3704.600523</td>\n",
       "      <td>0.127683</td>\n",
       "      <td>0.127683</td>\n",
       "      <td>0</td>\n",
       "      <td>-0.202538</td>\n",
       "    </tr>\n",
       "    <tr>\n",
       "      <td>2</td>\n",
       "      <td>0.000231</td>\n",
       "      <td>17.898603</td>\n",
       "      <td>0.000097</td>\n",
       "      <td>3693.0</td>\n",
       "      <td>0.000181</td>\n",
       "      <td>2.301209</td>\n",
       "      <td>0.000231</td>\n",
       "      <td>0.0</td>\n",
       "      <td>0.000231</td>\n",
       "      <td>0.000231</td>\n",
       "      <td>...</td>\n",
       "      <td>-0.000132</td>\n",
       "      <td>0.000049</td>\n",
       "      <td>0.000000</td>\n",
       "      <td>0.001119</td>\n",
       "      <td>0.000231</td>\n",
       "      <td>3703.999302</td>\n",
       "      <td>0.127686</td>\n",
       "      <td>0.127686</td>\n",
       "      <td>0</td>\n",
       "      <td>-0.067650</td>\n",
       "    </tr>\n",
       "    <tr>\n",
       "      <td>3</td>\n",
       "      <td>0.000149</td>\n",
       "      <td>18.026610</td>\n",
       "      <td>0.000092</td>\n",
       "      <td>3690.0</td>\n",
       "      <td>0.000181</td>\n",
       "      <td>1.763389</td>\n",
       "      <td>0.000149</td>\n",
       "      <td>0.0</td>\n",
       "      <td>0.000149</td>\n",
       "      <td>0.000149</td>\n",
       "      <td>...</td>\n",
       "      <td>-0.000115</td>\n",
       "      <td>0.000049</td>\n",
       "      <td>0.000000</td>\n",
       "      <td>0.001284</td>\n",
       "      <td>0.000149</td>\n",
       "      <td>3703.604214</td>\n",
       "      <td>0.111643</td>\n",
       "      <td>0.111643</td>\n",
       "      <td>0</td>\n",
       "      <td>-0.081235</td>\n",
       "    </tr>\n",
       "    <tr>\n",
       "      <td>4</td>\n",
       "      <td>0.000050</td>\n",
       "      <td>17.709853</td>\n",
       "      <td>0.000087</td>\n",
       "      <td>3691.0</td>\n",
       "      <td>0.000181</td>\n",
       "      <td>1.401696</td>\n",
       "      <td>0.000050</td>\n",
       "      <td>0.0</td>\n",
       "      <td>0.000050</td>\n",
       "      <td>0.000050</td>\n",
       "      <td>...</td>\n",
       "      <td>-0.000114</td>\n",
       "      <td>0.000280</td>\n",
       "      <td>0.063691</td>\n",
       "      <td>0.001300</td>\n",
       "      <td>0.000050</td>\n",
       "      <td>3703.146593</td>\n",
       "      <td>0.109170</td>\n",
       "      <td>0.109170</td>\n",
       "      <td>0</td>\n",
       "      <td>0.027100</td>\n",
       "    </tr>\n",
       "  </tbody>\n",
       "</table>\n",
       "<p>5 rows × 31 columns</p>\n",
       "</div>"
      ],
      "text/plain": [
       "   p_25_value__fft_coefficient__coeff_0__attr_\"abs\"  volatility_bbw  \\\n",
       "0                                          0.000379       19.773720   \n",
       "1                                          0.000478       18.645491   \n",
       "2                                          0.000231       17.898603   \n",
       "3                                          0.000149       18.026610   \n",
       "4                                          0.000050       17.709853   \n",
       "\n",
       "   p_55_value__quantile__q_0.7   close  p_25_value__maximum  trend_macd  \\\n",
       "0                     0.000107  3703.0             0.000181    2.799234   \n",
       "1                     0.000105  3695.5             0.000181    2.648736   \n",
       "2                     0.000097  3693.0             0.000181    2.301209   \n",
       "3                     0.000092  3690.0             0.000181    1.763389   \n",
       "4                     0.000087  3691.0             0.000181    1.401696   \n",
       "\n",
       "   p_55_value__fft_coefficient__coeff_0__attr_\"abs\"  momentum_roc  \\\n",
       "0                                          0.000379           0.0   \n",
       "1                                          0.000478           0.0   \n",
       "2                                          0.000231           0.0   \n",
       "3                                          0.000149           0.0   \n",
       "4                                          0.000050           0.0   \n",
       "\n",
       "   p_75_value__fft_coefficient__coeff_0__attr_\"abs\"  \\\n",
       "0                                          0.000379   \n",
       "1                                          0.000478   \n",
       "2                                          0.000231   \n",
       "3                                          0.000149   \n",
       "4                                          0.000050   \n",
       "\n",
       "   p_45_value__fft_coefficient__coeff_0__attr_\"abs\"  ...  \\\n",
       "0                                          0.000379  ...   \n",
       "1                                          0.000478  ...   \n",
       "2                                          0.000231  ...   \n",
       "3                                          0.000149  ...   \n",
       "4                                          0.000050  ...   \n",
       "\n",
       "   p_15_value__quantile__q_0.1  \\\n",
       "0                    -0.000033   \n",
       "1                    -0.000023   \n",
       "2                    -0.000132   \n",
       "3                    -0.000115   \n",
       "4                    -0.000114   \n",
       "\n",
       "   p_5_value__fft_coefficient__coeff_0__attr_\"abs\"  \\\n",
       "0                                         0.000362   \n",
       "1                                         0.000379   \n",
       "2                                         0.000049   \n",
       "3                                         0.000049   \n",
       "4                                         0.000280   \n",
       "\n",
       "   p_85_value__energy_ratio_by_chunks__num_segments_10__segment_focus_9  \\\n",
       "0                                           0.000000                      \n",
       "1                                           0.000000                      \n",
       "2                                           0.000000                      \n",
       "3                                           0.000000                      \n",
       "4                                           0.063691                      \n",
       "\n",
       "   p_95_value__absolute_sum_of_changes  \\\n",
       "0                             0.000725   \n",
       "1                             0.000774   \n",
       "2                             0.001119   \n",
       "3                             0.001284   \n",
       "4                             0.001300   \n",
       "\n",
       "   p_65_value__fft_coefficient__coeff_0__attr_\"abs\"  volatility_bbh  \\\n",
       "0                                          0.000379     3705.136860   \n",
       "1                                          0.000478     3704.600523   \n",
       "2                                          0.000231     3703.999302   \n",
       "3                                          0.000149     3703.604214   \n",
       "4                                          0.000050     3703.146593   \n",
       "\n",
       "   volatility_STD  volatility_EGARCH  markers_breaks   returns  \n",
       "0        0.082665           0.082665               0  0.081081  \n",
       "1        0.127683           0.127683               0 -0.202538  \n",
       "2        0.127686           0.127686               0 -0.067650  \n",
       "3        0.111643           0.111643               0 -0.081235  \n",
       "4        0.109170           0.109170               0  0.027100  \n",
       "\n",
       "[5 rows x 31 columns]"
      ]
     },
     "execution_count": 22,
     "metadata": {},
     "output_type": "execute_result"
    }
   ],
   "source": [
    "X.head()"
   ]
  },
  {
   "cell_type": "markdown",
   "metadata": {},
   "source": [
    "# Эксперименты"
   ]
  },
  {
   "cell_type": "markdown",
   "metadata": {},
   "source": [
    "## Масштабирование данных"
   ]
  },
  {
   "cell_type": "code",
   "execution_count": 23,
   "metadata": {},
   "outputs": [],
   "source": [
    "from sklearn.preprocessing import RobustScaler"
   ]
  },
  {
   "cell_type": "code",
   "execution_count": 24,
   "metadata": {},
   "outputs": [],
   "source": [
    "X_scaled = RobustScaler().fit_transform(X)\n",
    "df_X_scaled = pd.DataFrame(data=X_scaled, columns=X.columns) # датафрейм масштабированных данных"
   ]
  },
  {
   "cell_type": "markdown",
   "metadata": {},
   "source": [
    "## Отбор признаков"
   ]
  },
  {
   "cell_type": "code",
   "execution_count": 25,
   "metadata": {},
   "outputs": [],
   "source": [
    "from skfeature.function.similarity_based import lap_score\n",
    "from skfeature.utility import construct_W"
   ]
  },
  {
   "cell_type": "code",
   "execution_count": 26,
   "metadata": {},
   "outputs": [],
   "source": [
    "kwargs_W = {\"metric\": \"euclidean\", \"neighbor_mode\": \"knn\", \"weight_mode\": \"heat_kernel\", \"k\": 5, 't': 1}\n",
    "df_feature = pd.DataFrame(columns=X.columns)"
   ]
  },
  {
   "cell_type": "code",
   "execution_count": 27,
   "metadata": {},
   "outputs": [
    {
     "name": "stderr",
     "output_type": "stream",
     "text": [
      "100%|██████████| 10/10 [12:01<00:00, 72.14s/it]\n"
     ]
    }
   ],
   "source": [
    "# Цикл отбора признаков\n",
    "left=0\n",
    "shift_size = 25_000\n",
    "for i in tqdm(range(0, math.ceil(len(df_data)/shift_size))):\n",
    "    W = construct_W.construct_W(df_X_scaled[left:left+shift_size].values, **kwargs_W)\n",
    "    score = lap_score.lap_score(df_X_scaled[left:left+shift_size].values, W=W)\n",
    "    left=left+shift_size\n",
    "    df_feature.loc[i] = score"
   ]
  },
  {
   "cell_type": "code",
   "execution_count": 28,
   "metadata": {},
   "outputs": [],
   "source": [
    "df_feature.loc[len(df_feature)] = df_feature.mean()\n",
    "df_feature_graph = pd.DataFrame(columns=df_feature.columns)\n",
    "df_feature_graph.loc[0] = df_feature.loc[len(df_feature)-1]\n",
    "dseries_feature = pd.Series(df_feature_graph.iloc[0])\n",
    "dseries_feature.index = df_feature_graph.columns\n",
    "dseries_feature.sort_values(ascending=False, inplace=True)"
   ]
  },
  {
   "cell_type": "code",
   "execution_count": 29,
   "metadata": {},
   "outputs": [
    {
     "data": {
      "text/plain": [
       "<matplotlib.axes._subplots.AxesSubplot at 0x7efba0301890>"
      ]
     },
     "execution_count": 29,
     "metadata": {},
     "output_type": "execute_result"
    },
    {
     "data": {
      "image/png": "[encoded data removed]",
      "text/plain": [
       "<Figure size 1800x1080 with 1 Axes>"
      ]
     },
     "metadata": {},
     "output_type": "display_data"
    }
   ],
   "source": [
    "sns.mpl.rcParams['figure.figsize'] = (25.0, 15.0)\n",
    "sns.barplot(x=dseries_feature, y=dseries_feature.index)"
   ]
  },
  {
   "cell_type": "code",
   "execution_count": 30,
   "metadata": {},
   "outputs": [
    {
     "data": {
      "text/plain": [
       "Index(['markers_breaks', 'volume_nvi', 'returns', 'volatility_bbh', 'close',\n",
       "       'p_5_value__fft_coefficient__coeff_0__attr_\"abs\"'],\n",
       "      dtype='object')"
      ]
     },
     "execution_count": 30,
     "metadata": {},
     "output_type": "execute_result"
    }
   ],
   "source": [
    "threshold = 0.08\n",
    "dseries_feature[dseries_feature>threshold].index"
   ]
  },
  {
   "cell_type": "markdown",
   "metadata": {},
   "source": [
    "## Снижение размерности"
   ]
  },
  {
   "cell_type": "code",
   "execution_count": 30,
   "metadata": {},
   "outputs": [],
   "source": [
    "from sklearn.manifold import TSNE\n",
    "from sklearn.decomposition import PCA"
   ]
  },
  {
   "cell_type": "code",
   "execution_count": 31,
   "metadata": {},
   "outputs": [],
   "source": [
    "# %%time\n",
    "# X_embedded = TSNE(n_components=2).fit_transform(X)"
   ]
  },
  {
   "cell_type": "code",
   "execution_count": 32,
   "metadata": {},
   "outputs": [
    {
     "name": "stdout",
     "output_type": "stream",
     "text": [
      "CPU times: user 5.58 s, sys: 255 ms, total: 5.84 s\n",
      "Wall time: 986 ms\n"
     ]
    }
   ],
   "source": [
    "%%time\n",
    "X_PCA =PCA(n_components=2).fit_transform(X_scaled)\n",
    "df_PCA = pd.DataFrame(data=X_PCA, columns = ['principal component 1', 'principal component 2'])"
   ]
  },
  {
   "cell_type": "markdown",
   "metadata": {},
   "source": [
    "## Подбор количества компонент"
   ]
  },
  {
   "cell_type": "code",
   "execution_count": 33,
   "metadata": {},
   "outputs": [],
   "source": [
    "# comp = []\n",
    "# for i in tqdm(range(3,10)):\n",
    "#     model = hmm.GaussianHMM(n_components=i, covariance_type=\"full\", n_iter=100)\n",
    "#     model.fit(X[ds_vlad_dep[ds_vlad_dep>0.015].index])\n",
    "#     comp.append(round(model.score(X[ds_vlad_dep[ds_vlad_dep>0.015].index]), 0))"
   ]
  },
  {
   "cell_type": "code",
   "execution_count": 34,
   "metadata": {},
   "outputs": [],
   "source": [
    "# df_comp = pd.DataFrame(comp)\n",
    "# df_comp = df_comp.rename(columns={0:'Metrics'})"
   ]
  },
  {
   "cell_type": "code",
   "execution_count": 35,
   "metadata": {},
   "outputs": [],
   "source": [
    "# sns.mpl.rcParams['figure.figsize'] = (25.0, 10.0)\n",
    "# (df_comp*-1).plot()"
   ]
  },
  {
   "cell_type": "markdown",
   "metadata": {},
   "source": [
    "# Окончание экспериментов"
   ]
  },
  {
   "cell_type": "code",
   "execution_count": null,
   "metadata": {},
   "outputs": [],
   "source": [
    "#Отсюда"
   ]
  },
  {
   "cell_type": "markdown",
   "metadata": {},
   "source": [
    "## Обучение модели"
   ]
  },
  {
   "cell_type": "markdown",
   "metadata": {},
   "source": [
    "#### Разные варианты разделения"
   ]
  },
  {
   "cell_type": "code",
   "execution_count": 36,
   "metadata": {},
   "outputs": [
    {
     "name": "stdout",
     "output_type": "stream",
     "text": [
      "CPU times: user 5min 58s, sys: 5.87 s, total: 6min 4s\n",
      "Wall time: 4min 26s\n"
     ]
    }
   ],
   "source": [
    "%%time\n",
    "model = hmm.GaussianHMM(n_components=5, covariance_type=\"full\", n_iter=100)\n",
    "model.fit(df_X_scaled)\n",
    "num_clasters_5 = model.predict(df_X_scaled)"
   ]
  },
  {
   "cell_type": "markdown",
   "metadata": {},
   "source": [
    "## Оценка результатов"
   ]
  },
  {
   "cell_type": "code",
   "execution_count": 87,
   "metadata": {},
   "outputs": [
    {
     "data": {
      "text/html": [
       "<div>\n",
       "<style scoped>\n",
       "    .dataframe tbody tr th:only-of-type {\n",
       "        vertical-align: middle;\n",
       "    }\n",
       "\n",
       "    .dataframe tbody tr th {\n",
       "        vertical-align: top;\n",
       "    }\n",
       "\n",
       "    .dataframe thead th {\n",
       "        text-align: right;\n",
       "    }\n",
       "</style>\n",
       "<table border=\"1\" class=\"dataframe\">\n",
       "  <thead>\n",
       "    <tr style=\"text-align: right;\">\n",
       "      <th></th>\n",
       "      <th>trend_macd_diff</th>\n",
       "      <th>p_35_value__quantile__q_0.2</th>\n",
       "      <th>p_5_volatility_atr</th>\n",
       "      <th>p_35_value__maximum</th>\n",
       "      <th>p_65_value__quantile__q_0.7</th>\n",
       "      <th>p_155_value__agg_linear_trend__f_agg_\"mean\"__chunk_len_50__attr_\"slope\"</th>\n",
       "      <th>p_155_value__index_mass_quantile__q_0.9</th>\n",
       "      <th>p_35_value__quantile__q_0.7</th>\n",
       "      <th>p_95_value__agg_linear_trend__f_agg_\"min\"__chunk_len_50__attr_\"intercept\"</th>\n",
       "      <th>p_35_value__fft_coefficient__coeff_0__attr_\"real\"</th>\n",
       "      <th>...</th>\n",
       "      <th>p_5_momentum_rsi</th>\n",
       "      <th>p_125_value__agg_linear_trend__f_agg_\"min\"__chunk_len_50__attr_\"intercept\"</th>\n",
       "      <th>momentum_roc</th>\n",
       "      <th>p_65_value__minimum</th>\n",
       "      <th>p_35_trend_trix</th>\n",
       "      <th>p_65_value__fft_aggregated__aggtype_\"kurtosis\"</th>\n",
       "      <th>p_35_momentum_rsi</th>\n",
       "      <th>p_35_momentum_stoch</th>\n",
       "      <th>close</th>\n",
       "      <th>datetime</th>\n",
       "    </tr>\n",
       "  </thead>\n",
       "  <tbody>\n",
       "    <tr>\n",
       "      <td>286646</td>\n",
       "      <td>-0.928250</td>\n",
       "      <td>-0.000061</td>\n",
       "      <td>5.509800</td>\n",
       "      <td>0.000134</td>\n",
       "      <td>0.000067</td>\n",
       "      <td>-1.623806e-06</td>\n",
       "      <td>0.845161</td>\n",
       "      <td>0.000053</td>\n",
       "      <td>-0.000224</td>\n",
       "      <td>0.000178</td>\n",
       "      <td>...</td>\n",
       "      <td>43.871546</td>\n",
       "      <td>-0.000232</td>\n",
       "      <td>0.112717</td>\n",
       "      <td>-0.000201</td>\n",
       "      <td>0.008969</td>\n",
       "      <td>22.700880</td>\n",
       "      <td>54.093763</td>\n",
       "      <td>47.457627</td>\n",
       "      <td>7549.5</td>\n",
       "      <td>2019-12-01 00:00:04.229841</td>\n",
       "    </tr>\n",
       "    <tr>\n",
       "      <td>286647</td>\n",
       "      <td>-1.087230</td>\n",
       "      <td>-0.000061</td>\n",
       "      <td>4.707840</td>\n",
       "      <td>0.000134</td>\n",
       "      <td>0.000067</td>\n",
       "      <td>-5.519022e-06</td>\n",
       "      <td>0.851613</td>\n",
       "      <td>0.000053</td>\n",
       "      <td>-0.000224</td>\n",
       "      <td>0.000111</td>\n",
       "      <td>...</td>\n",
       "      <td>41.208549</td>\n",
       "      <td>-0.000232</td>\n",
       "      <td>0.112732</td>\n",
       "      <td>-0.000201</td>\n",
       "      <td>0.008922</td>\n",
       "      <td>23.099014</td>\n",
       "      <td>53.769315</td>\n",
       "      <td>44.067797</td>\n",
       "      <td>7548.5</td>\n",
       "      <td>2019-12-01 00:00:09.063188</td>\n",
       "    </tr>\n",
       "    <tr>\n",
       "      <td>286648</td>\n",
       "      <td>-1.353878</td>\n",
       "      <td>-0.000061</td>\n",
       "      <td>4.366272</td>\n",
       "      <td>0.000134</td>\n",
       "      <td>0.000067</td>\n",
       "      <td>-1.535147e-06</td>\n",
       "      <td>0.845161</td>\n",
       "      <td>0.000053</td>\n",
       "      <td>-0.000224</td>\n",
       "      <td>0.000126</td>\n",
       "      <td>...</td>\n",
       "      <td>33.567715</td>\n",
       "      <td>-0.000232</td>\n",
       "      <td>0.019883</td>\n",
       "      <td>-0.000201</td>\n",
       "      <td>0.008852</td>\n",
       "      <td>23.813165</td>\n",
       "      <td>52.791464</td>\n",
       "      <td>33.898305</td>\n",
       "      <td>7545.5</td>\n",
       "      <td>2019-12-01 00:01:10.201847</td>\n",
       "    </tr>\n",
       "    <tr>\n",
       "      <td>286649</td>\n",
       "      <td>-1.798581</td>\n",
       "      <td>-0.000061</td>\n",
       "      <td>4.593018</td>\n",
       "      <td>0.000134</td>\n",
       "      <td>0.000067</td>\n",
       "      <td>6.423087e-07</td>\n",
       "      <td>0.851613</td>\n",
       "      <td>0.000030</td>\n",
       "      <td>-0.000224</td>\n",
       "      <td>-0.000007</td>\n",
       "      <td>...</td>\n",
       "      <td>24.214083</td>\n",
       "      <td>-0.000232</td>\n",
       "      <td>-0.165497</td>\n",
       "      <td>-0.000201</td>\n",
       "      <td>0.008751</td>\n",
       "      <td>24.754833</td>\n",
       "      <td>51.194129</td>\n",
       "      <td>16.949153</td>\n",
       "      <td>7540.5</td>\n",
       "      <td>2019-12-01 00:05:16.987738</td>\n",
       "    </tr>\n",
       "    <tr>\n",
       "      <td>286650</td>\n",
       "      <td>-2.199840</td>\n",
       "      <td>-0.000067</td>\n",
       "      <td>4.774414</td>\n",
       "      <td>0.000134</td>\n",
       "      <td>0.000067</td>\n",
       "      <td>-3.390981e-06</td>\n",
       "      <td>0.864516</td>\n",
       "      <td>0.000030</td>\n",
       "      <td>-0.000224</td>\n",
       "      <td>-0.000096</td>\n",
       "      <td>...</td>\n",
       "      <td>20.028403</td>\n",
       "      <td>-0.000225</td>\n",
       "      <td>-0.277833</td>\n",
       "      <td>-0.000201</td>\n",
       "      <td>0.008616</td>\n",
       "      <td>24.758685</td>\n",
       "      <td>50.254943</td>\n",
       "      <td>8.333333</td>\n",
       "      <td>7537.5</td>\n",
       "      <td>2019-12-01 00:06:42.848722</td>\n",
       "    </tr>\n",
       "    <tr>\n",
       "      <td>...</td>\n",
       "      <td>...</td>\n",
       "      <td>...</td>\n",
       "      <td>...</td>\n",
       "      <td>...</td>\n",
       "      <td>...</td>\n",
       "      <td>...</td>\n",
       "      <td>...</td>\n",
       "      <td>...</td>\n",
       "      <td>...</td>\n",
       "      <td>...</td>\n",
       "      <td>...</td>\n",
       "      <td>...</td>\n",
       "      <td>...</td>\n",
       "      <td>...</td>\n",
       "      <td>...</td>\n",
       "      <td>...</td>\n",
       "      <td>...</td>\n",
       "      <td>...</td>\n",
       "      <td>...</td>\n",
       "      <td>...</td>\n",
       "      <td>...</td>\n",
       "    </tr>\n",
       "    <tr>\n",
       "      <td>306780</td>\n",
       "      <td>-1.211295</td>\n",
       "      <td>-0.000039</td>\n",
       "      <td>2.844468</td>\n",
       "      <td>0.000126</td>\n",
       "      <td>0.000039</td>\n",
       "      <td>-9.141883e-06</td>\n",
       "      <td>0.864516</td>\n",
       "      <td>0.000038</td>\n",
       "      <td>-0.000150</td>\n",
       "      <td>0.000236</td>\n",
       "      <td>...</td>\n",
       "      <td>36.222491</td>\n",
       "      <td>-0.000128</td>\n",
       "      <td>-0.013958</td>\n",
       "      <td>-0.000126</td>\n",
       "      <td>0.003869</td>\n",
       "      <td>28.960024</td>\n",
       "      <td>53.736571</td>\n",
       "      <td>61.194030</td>\n",
       "      <td>7163.5</td>\n",
       "      <td>2019-12-31 23:42:19.629987</td>\n",
       "    </tr>\n",
       "    <tr>\n",
       "      <td>306781</td>\n",
       "      <td>-1.118889</td>\n",
       "      <td>-0.000033</td>\n",
       "      <td>2.975574</td>\n",
       "      <td>0.000126</td>\n",
       "      <td>0.000039</td>\n",
       "      <td>-8.105836e-06</td>\n",
       "      <td>0.864516</td>\n",
       "      <td>0.000038</td>\n",
       "      <td>-0.000150</td>\n",
       "      <td>0.000315</td>\n",
       "      <td>...</td>\n",
       "      <td>52.772721</td>\n",
       "      <td>-0.000128</td>\n",
       "      <td>-0.013951</td>\n",
       "      <td>-0.000126</td>\n",
       "      <td>0.004026</td>\n",
       "      <td>28.997836</td>\n",
       "      <td>55.253920</td>\n",
       "      <td>69.354839</td>\n",
       "      <td>7167.0</td>\n",
       "      <td>2019-12-31 23:48:15.200320</td>\n",
       "    </tr>\n",
       "    <tr>\n",
       "      <td>306782</td>\n",
       "      <td>-0.788015</td>\n",
       "      <td>-0.000033</td>\n",
       "      <td>3.180459</td>\n",
       "      <td>0.000126</td>\n",
       "      <td>0.000039</td>\n",
       "      <td>1.964758e-06</td>\n",
       "      <td>0.864516</td>\n",
       "      <td>0.000038</td>\n",
       "      <td>-0.000150</td>\n",
       "      <td>0.000244</td>\n",
       "      <td>...</td>\n",
       "      <td>65.545478</td>\n",
       "      <td>-0.000128</td>\n",
       "      <td>0.055811</td>\n",
       "      <td>-0.000126</td>\n",
       "      <td>0.004178</td>\n",
       "      <td>29.820339</td>\n",
       "      <td>56.916341</td>\n",
       "      <td>82.258065</td>\n",
       "      <td>7171.0</td>\n",
       "      <td>2019-12-31 23:51:25.784185</td>\n",
       "    </tr>\n",
       "    <tr>\n",
       "      <td>306783</td>\n",
       "      <td>-0.355133</td>\n",
       "      <td>-0.000033</td>\n",
       "      <td>3.444368</td>\n",
       "      <td>0.000126</td>\n",
       "      <td>0.000040</td>\n",
       "      <td>6.663188e-06</td>\n",
       "      <td>0.877419</td>\n",
       "      <td>0.000039</td>\n",
       "      <td>-0.000150</td>\n",
       "      <td>0.000307</td>\n",
       "      <td>...</td>\n",
       "      <td>73.410780</td>\n",
       "      <td>-0.000141</td>\n",
       "      <td>0.125602</td>\n",
       "      <td>-0.000126</td>\n",
       "      <td>0.004334</td>\n",
       "      <td>26.478399</td>\n",
       "      <td>58.311424</td>\n",
       "      <td>93.548387</td>\n",
       "      <td>7174.5</td>\n",
       "      <td>2019-12-31 23:53:42.967982</td>\n",
       "    </tr>\n",
       "    <tr>\n",
       "      <td>306784</td>\n",
       "      <td>-0.646009</td>\n",
       "      <td>-0.000033</td>\n",
       "      <td>4.555494</td>\n",
       "      <td>0.000126</td>\n",
       "      <td>0.000046</td>\n",
       "      <td>1.290305e-05</td>\n",
       "      <td>0.877419</td>\n",
       "      <td>0.000039</td>\n",
       "      <td>-0.000150</td>\n",
       "      <td>0.000393</td>\n",
       "      <td>...</td>\n",
       "      <td>43.361488</td>\n",
       "      <td>-0.000141</td>\n",
       "      <td>-0.069725</td>\n",
       "      <td>-0.000126</td>\n",
       "      <td>0.004469</td>\n",
       "      <td>22.973915</td>\n",
       "      <td>53.944507</td>\n",
       "      <td>66.129032</td>\n",
       "      <td>7166.0</td>\n",
       "      <td>2019-12-31 23:56:49.013967</td>\n",
       "    </tr>\n",
       "  </tbody>\n",
       "</table>\n",
       "<p>20139 rows × 61 columns</p>\n",
       "</div>"
      ],
      "text/plain": [
       "        trend_macd_diff  p_35_value__quantile__q_0.2  p_5_volatility_atr  \\\n",
       "286646        -0.928250                    -0.000061            5.509800   \n",
       "286647        -1.087230                    -0.000061            4.707840   \n",
       "286648        -1.353878                    -0.000061            4.366272   \n",
       "286649        -1.798581                    -0.000061            4.593018   \n",
       "286650        -2.199840                    -0.000067            4.774414   \n",
       "...                 ...                          ...                 ...   \n",
       "306780        -1.211295                    -0.000039            2.844468   \n",
       "306781        -1.118889                    -0.000033            2.975574   \n",
       "306782        -0.788015                    -0.000033            3.180459   \n",
       "306783        -0.355133                    -0.000033            3.444368   \n",
       "306784        -0.646009                    -0.000033            4.555494   \n",
       "\n",
       "        p_35_value__maximum  p_65_value__quantile__q_0.7  \\\n",
       "286646             0.000134                     0.000067   \n",
       "286647             0.000134                     0.000067   \n",
       "286648             0.000134                     0.000067   \n",
       "286649             0.000134                     0.000067   \n",
       "286650             0.000134                     0.000067   \n",
       "...                     ...                          ...   \n",
       "306780             0.000126                     0.000039   \n",
       "306781             0.000126                     0.000039   \n",
       "306782             0.000126                     0.000039   \n",
       "306783             0.000126                     0.000040   \n",
       "306784             0.000126                     0.000046   \n",
       "\n",
       "        p_155_value__agg_linear_trend__f_agg_\"mean\"__chunk_len_50__attr_\"slope\"  \\\n",
       "286646                                      -1.623806e-06                         \n",
       "286647                                      -5.519022e-06                         \n",
       "286648                                      -1.535147e-06                         \n",
       "286649                                       6.423087e-07                         \n",
       "286650                                      -3.390981e-06                         \n",
       "...                                                   ...                         \n",
       "306780                                      -9.141883e-06                         \n",
       "306781                                      -8.105836e-06                         \n",
       "306782                                       1.964758e-06                         \n",
       "306783                                       6.663188e-06                         \n",
       "306784                                       1.290305e-05                         \n",
       "\n",
       "        p_155_value__index_mass_quantile__q_0.9  p_35_value__quantile__q_0.7  \\\n",
       "286646                                 0.845161                     0.000053   \n",
       "286647                                 0.851613                     0.000053   \n",
       "286648                                 0.845161                     0.000053   \n",
       "286649                                 0.851613                     0.000030   \n",
       "286650                                 0.864516                     0.000030   \n",
       "...                                         ...                          ...   \n",
       "306780                                 0.864516                     0.000038   \n",
       "306781                                 0.864516                     0.000038   \n",
       "306782                                 0.864516                     0.000038   \n",
       "306783                                 0.877419                     0.000039   \n",
       "306784                                 0.877419                     0.000039   \n",
       "\n",
       "        p_95_value__agg_linear_trend__f_agg_\"min\"__chunk_len_50__attr_\"intercept\"  \\\n",
       "286646                                          -0.000224                           \n",
       "286647                                          -0.000224                           \n",
       "286648                                          -0.000224                           \n",
       "286649                                          -0.000224                           \n",
       "286650                                          -0.000224                           \n",
       "...                                                   ...                           \n",
       "306780                                          -0.000150                           \n",
       "306781                                          -0.000150                           \n",
       "306782                                          -0.000150                           \n",
       "306783                                          -0.000150                           \n",
       "306784                                          -0.000150                           \n",
       "\n",
       "        p_35_value__fft_coefficient__coeff_0__attr_\"real\"  ...  \\\n",
       "286646                                           0.000178  ...   \n",
       "286647                                           0.000111  ...   \n",
       "286648                                           0.000126  ...   \n",
       "286649                                          -0.000007  ...   \n",
       "286650                                          -0.000096  ...   \n",
       "...                                                   ...  ...   \n",
       "306780                                           0.000236  ...   \n",
       "306781                                           0.000315  ...   \n",
       "306782                                           0.000244  ...   \n",
       "306783                                           0.000307  ...   \n",
       "306784                                           0.000393  ...   \n",
       "\n",
       "        p_5_momentum_rsi  \\\n",
       "286646         43.871546   \n",
       "286647         41.208549   \n",
       "286648         33.567715   \n",
       "286649         24.214083   \n",
       "286650         20.028403   \n",
       "...                  ...   \n",
       "306780         36.222491   \n",
       "306781         52.772721   \n",
       "306782         65.545478   \n",
       "306783         73.410780   \n",
       "306784         43.361488   \n",
       "\n",
       "        p_125_value__agg_linear_trend__f_agg_\"min\"__chunk_len_50__attr_\"intercept\"  \\\n",
       "286646                                          -0.000232                            \n",
       "286647                                          -0.000232                            \n",
       "286648                                          -0.000232                            \n",
       "286649                                          -0.000232                            \n",
       "286650                                          -0.000225                            \n",
       "...                                                   ...                            \n",
       "306780                                          -0.000128                            \n",
       "306781                                          -0.000128                            \n",
       "306782                                          -0.000128                            \n",
       "306783                                          -0.000141                            \n",
       "306784                                          -0.000141                            \n",
       "\n",
       "        momentum_roc  p_65_value__minimum  p_35_trend_trix  \\\n",
       "286646      0.112717            -0.000201         0.008969   \n",
       "286647      0.112732            -0.000201         0.008922   \n",
       "286648      0.019883            -0.000201         0.008852   \n",
       "286649     -0.165497            -0.000201         0.008751   \n",
       "286650     -0.277833            -0.000201         0.008616   \n",
       "...              ...                  ...              ...   \n",
       "306780     -0.013958            -0.000126         0.003869   \n",
       "306781     -0.013951            -0.000126         0.004026   \n",
       "306782      0.055811            -0.000126         0.004178   \n",
       "306783      0.125602            -0.000126         0.004334   \n",
       "306784     -0.069725            -0.000126         0.004469   \n",
       "\n",
       "        p_65_value__fft_aggregated__aggtype_\"kurtosis\"  p_35_momentum_rsi  \\\n",
       "286646                                       22.700880          54.093763   \n",
       "286647                                       23.099014          53.769315   \n",
       "286648                                       23.813165          52.791464   \n",
       "286649                                       24.754833          51.194129   \n",
       "286650                                       24.758685          50.254943   \n",
       "...                                                ...                ...   \n",
       "306780                                       28.960024          53.736571   \n",
       "306781                                       28.997836          55.253920   \n",
       "306782                                       29.820339          56.916341   \n",
       "306783                                       26.478399          58.311424   \n",
       "306784                                       22.973915          53.944507   \n",
       "\n",
       "        p_35_momentum_stoch   close                    datetime  \n",
       "286646            47.457627  7549.5  2019-12-01 00:00:04.229841  \n",
       "286647            44.067797  7548.5  2019-12-01 00:00:09.063188  \n",
       "286648            33.898305  7545.5  2019-12-01 00:01:10.201847  \n",
       "286649            16.949153  7540.5  2019-12-01 00:05:16.987738  \n",
       "286650             8.333333  7537.5  2019-12-01 00:06:42.848722  \n",
       "...                     ...     ...                         ...  \n",
       "306780            61.194030  7163.5  2019-12-31 23:42:19.629987  \n",
       "306781            69.354839  7167.0  2019-12-31 23:48:15.200320  \n",
       "306782            82.258065  7171.0  2019-12-31 23:51:25.784185  \n",
       "306783            93.548387  7174.5  2019-12-31 23:53:42.967982  \n",
       "306784            66.129032  7166.0  2019-12-31 23:56:49.013967  \n",
       "\n",
       "[20139 rows x 61 columns]"
      ]
     },
     "execution_count": 87,
     "metadata": {},
     "output_type": "execute_result"
    }
   ],
   "source": [
    "df_data[(df_data['datetime']>=\"2019-12-01\") & (df_data['datetime'] < \"2020-01-01\")] "
   ]
  },
  {
   "cell_type": "code",
   "execution_count": 37,
   "metadata": {},
   "outputs": [],
   "source": [
    "df_result = deepcopy(df_data_to_test)"
   ]
  },
  {
   "cell_type": "code",
   "execution_count": 38,
   "metadata": {},
   "outputs": [],
   "source": [
    "df_result['num_clasters_5'] = num_clasters_5\n",
    "#df_result['num_clasters_7'] = num_clasters_7"
   ]
  },
  {
   "cell_type": "code",
   "execution_count": 38,
   "metadata": {},
   "outputs": [],
   "source": [
    "left_border = 286_646\n",
    "right_border = 306_785"
   ]
  },
  {
   "cell_type": "code",
   "execution_count": 39,
   "metadata": {},
   "outputs": [
    {
     "name": "stdout",
     "output_type": "stream",
     "text": [
      "325218\n",
      "5\n",
      "7\n"
     ]
    }
   ],
   "source": [
    "print(len(df_result))\n",
    "print(df_result['num_clasters_5'][left_border:right_border].nunique())\n",
    "print(df_result['num_clasters_7'][left_border:right_border].nunique())"
   ]
  },
  {
   "cell_type": "code",
   "execution_count": 51,
   "metadata": {},
   "outputs": [
    {
     "data": {
      "text/plain": [
       "<matplotlib.axes._subplots.AxesSubplot at 0x7efb70999e50>"
      ]
     },
     "execution_count": 51,
     "metadata": {},
     "output_type": "execute_result"
    },
    {
     "data": {
      "image/png": "[encoded data removed]",
      "text/plain": [
       "<Figure size 1800x1080 with 1 Axes>"
      ]
     },
     "metadata": {},
     "output_type": "display_data"
    }
   ],
   "source": [
    "# Отсюда\n",
    "#1 blue\n",
    "#2 darkorange\n",
    "#3 green\n",
    "#4 red\n",
    "#5 gold\n",
    "#6 black\n",
    "#7 indigo\n",
    "#8 olive\n",
    "#9 orchid\n",
    "#10 grey\n",
    "\n",
    "\n",
    "colors = ['blue',\n",
    "          'darkorange',\n",
    "          'green',\n",
    "          'red',\n",
    "          'gold',\n",
    "          'black',\n",
    "          'indigo'         \n",
    "         ]\n",
    "\n",
    "sns.scatterplot(x=df_result.iloc[0:310_000].index,\n",
    "                y='close', \n",
    "                hue='num_clasters_7', \n",
    "                #aspect=1.7, \n",
    "                #height=10, \n",
    "                data=df_result.iloc[0:310_000], \n",
    "                palette=colors[:df_result.iloc[0:310_000]['num_clasters_7'].nunique()], \n",
    "                linewidth=0.1,\n",
    "                #alpha=0.3\n",
    "               )"
   ]
  },
  {
   "cell_type": "code",
   "execution_count": 49,
   "metadata": {},
   "outputs": [
    {
     "data": {
      "text/plain": [
       "<matplotlib.axes._subplots.AxesSubplot at 0x7efb70aa89d0>"
      ]
     },
     "execution_count": 49,
     "metadata": {},
     "output_type": "execute_result"
    },
    {
     "data": {
      "image/png": "[encoded data removed]",
      "text/plain": [
       "<Figure size 1800x1080 with 1 Axes>"
      ]
     },
     "metadata": {},
     "output_type": "display_data"
    }
   ],
   "source": [
    "sns.scatterplot(x=df_result[df_result['num_clasters_5']==2].loc[286646:306785].index, \n",
    "                y='close',\n",
    "                data=df_result[df_result['num_clasters_5']==2].loc[286646:306785], \n",
    "                linewidth=0.1\n",
    "               )"
   ]
  },
  {
   "cell_type": "code",
   "execution_count": null,
   "metadata": {},
   "outputs": [],
   "source": []
  }
 ],
 "metadata": {
  "kernelspec": {
   "display_name": "Python 3",
   "language": "python",
   "name": "python3"
  },
  "language_info": {
   "codemirror_mode": {
    "name": "ipython",
    "version": 3
   },
   "file_extension": ".py",
   "mimetype": "text/x-python",
   "name": "python",
   "nbconvert_exporter": "python",
   "pygments_lexer": "ipython3",
   "version": "3.7.6"
  }
 },
 "nbformat": 4,
 "nbformat_minor": 4
}
