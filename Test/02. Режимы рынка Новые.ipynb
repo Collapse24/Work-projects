{
 "cells": [
  {
   "cell_type": "markdown",
   "metadata": {},
   "source": [
    "##### Обновленная модель. Добавлен механизм детектирования аномалий. Реализованы разные алгоритмы.\n",
    "Используется только один признак, т.е. волатильность"
   ]
  },
  {
   "cell_type": "code",
   "execution_count": 1,
   "metadata": {},
   "outputs": [],
   "source": [
    "import ta\n",
    "import math\n",
    "import pickle\n",
    "import numpy as np\n",
    "import pandas as pd\n",
    "import pandas_profiling\n",
    "from tqdm import tqdm\n",
    "from copy import deepcopy\n",
    "from sklearn.mixture import GaussianMixture"
   ]
  },
  {
   "cell_type": "code",
   "execution_count": 2,
   "metadata": {},
   "outputs": [
    {
     "data": {
      "text/html": [
       "        <script type=\"text/javascript\">\n",
       "        window.PlotlyConfig = {MathJaxConfig: 'local'};\n",
       "        if (window.MathJax) {MathJax.Hub.Config({SVG: {font: \"STIX-Web\"}});}\n",
       "        if (typeof require !== 'undefined') {\n",
       "        require.undef(\"plotly\");\n",
       "        requirejs.config({\n",
       "            paths: {\n",
       "                'plotly': ['https://cdn.plot.ly/plotly-latest.min']\n",
       "            }\n",
       "        });\n",
       "        require(['plotly'], function(Plotly) {\n",
       "            window._Plotly = Plotly;\n",
       "        });\n",
       "        }\n",
       "        </script>\n",
       "        "
      ]
     },
     "metadata": {},
     "output_type": "display_data"
    }
   ],
   "source": [
    "import cufflinks as cf\n",
    "import plotly.offline\n",
    "import plotly.express as px\n",
    "cf.go_offline()\n",
    "cf.set_config_file(offline=False, world_readable=True)\n",
    "from IPython.core.interactiveshell import InteractiveShell\n",
    "InteractiveShell.ast_node_interactivity = \"all\""
   ]
  },
  {
   "cell_type": "code",
   "execution_count": 3,
   "metadata": {},
   "outputs": [],
   "source": [
    "import sys\n",
    "if not sys.warnoptions:\n",
    "    import warnings\n",
    "    warnings.simplefilter(\"ignore\")"
   ]
  },
  {
   "cell_type": "code",
   "execution_count": 4,
   "metadata": {},
   "outputs": [],
   "source": [
    "path = '/home/vlad/HDD/GIT/CryptoLp DataScience/DataSets/Разные бары/'\n",
    "file = '2019-2020_Bars_700T'\n",
    "df_data = pd.read_csv(path+file+'.csv')\n",
    "df_data = df_data.dropna()\n",
    "df_data.index = range(len(df_data))"
   ]
  },
  {
   "cell_type": "code",
   "execution_count": 5,
   "metadata": {},
   "outputs": [
    {
     "data": {
      "text/html": [
       "<div>\n",
       "<style scoped>\n",
       "    .dataframe tbody tr th:only-of-type {\n",
       "        vertical-align: middle;\n",
       "    }\n",
       "\n",
       "    .dataframe tbody tr th {\n",
       "        vertical-align: top;\n",
       "    }\n",
       "\n",
       "    .dataframe thead th {\n",
       "        text-align: right;\n",
       "    }\n",
       "</style>\n",
       "<table border=\"1\" class=\"dataframe\">\n",
       "  <thead>\n",
       "    <tr style=\"text-align: right;\">\n",
       "      <th></th>\n",
       "      <th>datetime</th>\n",
       "      <th>open</th>\n",
       "      <th>low</th>\n",
       "      <th>high</th>\n",
       "      <th>close</th>\n",
       "      <th>volume</th>\n",
       "    </tr>\n",
       "  </thead>\n",
       "  <tbody>\n",
       "    <tr>\n",
       "      <th>585697</th>\n",
       "      <td>2021-01-10 23:57:36.495287</td>\n",
       "      <td>38428.0</td>\n",
       "      <td>38300.0</td>\n",
       "      <td>38462.5</td>\n",
       "      <td>38300.0</td>\n",
       "      <td>4430463</td>\n",
       "    </tr>\n",
       "    <tr>\n",
       "      <th>585698</th>\n",
       "      <td>2021-01-10 23:59:30.593566</td>\n",
       "      <td>38300.0</td>\n",
       "      <td>38250.0</td>\n",
       "      <td>38357.5</td>\n",
       "      <td>38264.5</td>\n",
       "      <td>8412985</td>\n",
       "    </tr>\n",
       "    <tr>\n",
       "      <th>585699</th>\n",
       "      <td>2021-01-10 23:59:59.886955</td>\n",
       "      <td>38264.5</td>\n",
       "      <td>38225.0</td>\n",
       "      <td>38279.5</td>\n",
       "      <td>38225.0</td>\n",
       "      <td>5901463</td>\n",
       "    </tr>\n",
       "  </tbody>\n",
       "</table>\n",
       "</div>"
      ],
      "text/plain": [
       "                          datetime     open      low     high    close  \\\n",
       "585697  2021-01-10 23:57:36.495287  38428.0  38300.0  38462.5  38300.0   \n",
       "585698  2021-01-10 23:59:30.593566  38300.0  38250.0  38357.5  38264.5   \n",
       "585699  2021-01-10 23:59:59.886955  38264.5  38225.0  38279.5  38225.0   \n",
       "\n",
       "         volume  \n",
       "585697  4430463  \n",
       "585698  8412985  \n",
       "585699  5901463  "
      ]
     },
     "execution_count": 5,
     "metadata": {},
     "output_type": "execute_result"
    }
   ],
   "source": [
    "df_data.tail(3)"
   ]
  },
  {
   "cell_type": "code",
   "execution_count": 6,
   "metadata": {},
   "outputs": [],
   "source": [
    "# Вычисление стандартной волатильности\n",
    "def calculation_volatility_STD(df_data_close_price:pd.Series,\n",
    "                               win_size):\n",
    "    volatility_STD = df_data_close_price.pct_change().rolling(win_size).std()*1000\n",
    "    return volatility_STD"
   ]
  },
  {
   "cell_type": "code",
   "execution_count": 7,
   "metadata": {},
   "outputs": [],
   "source": [
    "high = df_data['high']\n",
    "low = df_data['low']\n",
    "close = df_data['close']\n",
    "volume = df_data['volume']"
   ]
  },
  {
   "cell_type": "code",
   "execution_count": 8,
   "metadata": {},
   "outputs": [],
   "source": [
    "# %%time\n",
    "df_data['volatility'] = calculation_volatility_STD(df_data_close_price=df_data['close'], win_size=1000)"
   ]
  },
  {
   "cell_type": "code",
   "execution_count": 9,
   "metadata": {},
   "outputs": [],
   "source": [
    "df_data = df_data.dropna()\n",
    "df_data.index = range(len(df_data))"
   ]
  },
  {
   "cell_type": "code",
   "execution_count": 10,
   "metadata": {},
   "outputs": [
    {
     "data": {
      "text/html": [
       "<div>\n",
       "<style scoped>\n",
       "    .dataframe tbody tr th:only-of-type {\n",
       "        vertical-align: middle;\n",
       "    }\n",
       "\n",
       "    .dataframe tbody tr th {\n",
       "        vertical-align: top;\n",
       "    }\n",
       "\n",
       "    .dataframe thead th {\n",
       "        text-align: right;\n",
       "    }\n",
       "</style>\n",
       "<table border=\"1\" class=\"dataframe\">\n",
       "  <thead>\n",
       "    <tr style=\"text-align: right;\">\n",
       "      <th></th>\n",
       "      <th>datetime</th>\n",
       "      <th>open</th>\n",
       "      <th>low</th>\n",
       "      <th>high</th>\n",
       "      <th>close</th>\n",
       "      <th>volume</th>\n",
       "      <th>volatility</th>\n",
       "    </tr>\n",
       "  </thead>\n",
       "  <tbody>\n",
       "    <tr>\n",
       "      <th>0</th>\n",
       "      <td>2019-01-02 20:31:01.706620</td>\n",
       "      <td>3841.0</td>\n",
       "      <td>3841.0</td>\n",
       "      <td>3845.5</td>\n",
       "      <td>3845.5</td>\n",
       "      <td>946234</td>\n",
       "      <td>1.269966</td>\n",
       "    </tr>\n",
       "    <tr>\n",
       "      <th>1</th>\n",
       "      <td>2019-01-02 20:32:12.833091</td>\n",
       "      <td>3845.5</td>\n",
       "      <td>3845.5</td>\n",
       "      <td>3847.0</td>\n",
       "      <td>3846.0</td>\n",
       "      <td>1511543</td>\n",
       "      <td>1.269043</td>\n",
       "    </tr>\n",
       "    <tr>\n",
       "      <th>2</th>\n",
       "      <td>2019-01-02 20:34:47.248511</td>\n",
       "      <td>3846.0</td>\n",
       "      <td>3844.5</td>\n",
       "      <td>3848.0</td>\n",
       "      <td>3848.0</td>\n",
       "      <td>2360445</td>\n",
       "      <td>1.268973</td>\n",
       "    </tr>\n",
       "  </tbody>\n",
       "</table>\n",
       "</div>"
      ],
      "text/plain": [
       "                     datetime    open     low    high   close   volume  \\\n",
       "0  2019-01-02 20:31:01.706620  3841.0  3841.0  3845.5  3845.5   946234   \n",
       "1  2019-01-02 20:32:12.833091  3845.5  3845.5  3847.0  3846.0  1511543   \n",
       "2  2019-01-02 20:34:47.248511  3846.0  3844.5  3848.0  3848.0  2360445   \n",
       "\n",
       "   volatility  \n",
       "0    1.269966  \n",
       "1    1.269043  \n",
       "2    1.268973  "
      ]
     },
     "execution_count": 10,
     "metadata": {},
     "output_type": "execute_result"
    }
   ],
   "source": [
    "df_data.head(3)"
   ]
  },
  {
   "cell_type": "code",
   "execution_count": 11,
   "metadata": {},
   "outputs": [],
   "source": [
    "anomalies = list()"
   ]
  },
  {
   "cell_type": "markdown",
   "metadata": {},
   "source": [
    "### Подход 1. Статистический"
   ]
  },
  {
   "cell_type": "code",
   "execution_count": 12,
   "metadata": {},
   "outputs": [],
   "source": [
    "# from sklearn.preprocessing import StandardScaler\n",
    "# from sklearn.preprocessing import MinMaxScaler\n",
    "\n",
    "# volatility = df_data[['volatility']]\n",
    "# scaler = MinMaxScaler()\n",
    "# scaled_volat = scaler.fit_transform(volatility)\n",
    "# df_data['scaled_vol'] = scaled_volat \n",
    "# vol_std = np.std(scaled_volat)\n",
    "# vol_mean = np.mean(scaled_volat)\n",
    "# anomaly_cut_off = vol_std * 3\n",
    "\n",
    "# lower_limit = vol_mean - anomaly_cut_off \n",
    "# upper_limit = vol_mean + anomaly_cut_off\n",
    "\n",
    "# for outlier in scaled_volat:\n",
    "#     if outlier > upper_limit or outlier < lower_limit:\n",
    "#         anomalies.append(-1)\n",
    "#     else:\n",
    "#         anomalies.append(1)\n",
    "# df_data['outlier_STD'] = anomalies"
   ]
  },
  {
   "cell_type": "markdown",
   "metadata": {},
   "source": [
    "#### Новая разметка аномалий"
   ]
  },
  {
   "cell_type": "code",
   "execution_count": 12,
   "metadata": {},
   "outputs": [],
   "source": [
    "# %%time\n",
    "# anomalies = list()\n",
    "\n",
    "# lbord = df_data['scaled_vol'].quantile(0.01)\n",
    "# rbord = df_data['scaled_vol'].quantile(0.99)\n",
    "\n",
    "# scaled_volat = df_data[['scaled_vol']].values\n",
    "# for outlier in scaled_volat:\n",
    "#     if outlier > rbord or outlier < lbord:\n",
    "#         anomalies.append(-1)\n",
    "#     else:\n",
    "#         anomalies.append(1)\n",
    "# df_data['outlier_Stat'] = anomalies"
   ]
  },
  {
   "cell_type": "code",
   "execution_count": 13,
   "metadata": {},
   "outputs": [],
   "source": [
    "# # Построение графиков\n",
    "# def show_plot_plotly(df_data:pd.DataFrame, left_border,right_border, x_,y_, color_:str, title_:str,             \n",
    "#                     ):  \n",
    "#     fig = px.scatter(df_data[left_border:right_border], \n",
    "#                      x=x_, y=y_, color=color_, \n",
    "#                      #color_discrete_sequence=['dodgerblue','mediumturquoise','limegreen','tomato','darkorchid',],\n",
    "#                      title=title_\n",
    "#                     )    \n",
    "#     return fig\n",
    "\n",
    "# df_data['outlier_STD'] = df_data['outlier_STD'].map({1:'clean',-1:'anomaly',})\n",
    "# df_data['outlier_Stat'] = df_data['outlier_Stat'].map({1:'clean',-1:'anomaly',})\n",
    "\n",
    "# fig = show_plot_plotly(df_data=df_data, left_border = 0, right_border=len(df_data),\n",
    "#                        x_='datetime', y_='close', color_='outlier_STD', title_='outlier_STD',\n",
    "#                       )\n",
    "# plotly.offline.plot(fig,filename='/home/brainiac/Vlad/Git Files/CryptoLp DataScience/DataSets/Bars/outlier_STD.html')\n",
    "\n",
    "# fig = show_plot_plotly(df_data=df_data, left_border = 0, right_border=len(df_data),\n",
    "#                        x_='datetime', y_='close', color_='outlier_Stat', title_='outlier_Stat',\n",
    "#                       )\n",
    "# plotly.offline.plot(fig,filename='/home/brainiac/Vlad/Git Files/CryptoLp DataScience/DataSets/Bars/outlier_Stat.html')"
   ]
  },
  {
   "cell_type": "markdown",
   "metadata": {},
   "source": [
    "### Подход 2. Кластеризация"
   ]
  },
  {
   "cell_type": "code",
   "execution_count": 14,
   "metadata": {},
   "outputs": [],
   "source": [
    "# %%time\n",
    "# from sklearn.cluster import DBSCAN\n",
    "\n",
    "# outlier_detection = DBSCAN(min_samples = 2)\n",
    "# clusters = outlier_detection.fit_predict(volatility)"
   ]
  },
  {
   "cell_type": "code",
   "execution_count": 15,
   "metadata": {},
   "outputs": [],
   "source": [
    "#Упал по оперативке"
   ]
  },
  {
   "cell_type": "markdown",
   "metadata": {},
   "source": [
    "### Подход 3. Изоляция леса"
   ]
  },
  {
   "cell_type": "code",
   "execution_count": 16,
   "metadata": {},
   "outputs": [
    {
     "data": {
      "text/html": [
       "<div>\n",
       "<style scoped>\n",
       "    .dataframe tbody tr th:only-of-type {\n",
       "        vertical-align: middle;\n",
       "    }\n",
       "\n",
       "    .dataframe tbody tr th {\n",
       "        vertical-align: top;\n",
       "    }\n",
       "\n",
       "    .dataframe thead th {\n",
       "        text-align: right;\n",
       "    }\n",
       "</style>\n",
       "<table border=\"1\" class=\"dataframe\">\n",
       "  <thead>\n",
       "    <tr style=\"text-align: right;\">\n",
       "      <th></th>\n",
       "      <th>datetime</th>\n",
       "      <th>open</th>\n",
       "      <th>low</th>\n",
       "      <th>high</th>\n",
       "      <th>close</th>\n",
       "      <th>volume</th>\n",
       "      <th>volatility</th>\n",
       "    </tr>\n",
       "  </thead>\n",
       "  <tbody>\n",
       "    <tr>\n",
       "      <th>0</th>\n",
       "      <td>2019-01-02 20:31:01.706620</td>\n",
       "      <td>3841.0</td>\n",
       "      <td>3841.0</td>\n",
       "      <td>3845.5</td>\n",
       "      <td>3845.5</td>\n",
       "      <td>946234</td>\n",
       "      <td>1.269966</td>\n",
       "    </tr>\n",
       "    <tr>\n",
       "      <th>1</th>\n",
       "      <td>2019-01-02 20:32:12.833091</td>\n",
       "      <td>3845.5</td>\n",
       "      <td>3845.5</td>\n",
       "      <td>3847.0</td>\n",
       "      <td>3846.0</td>\n",
       "      <td>1511543</td>\n",
       "      <td>1.269043</td>\n",
       "    </tr>\n",
       "    <tr>\n",
       "      <th>2</th>\n",
       "      <td>2019-01-02 20:34:47.248511</td>\n",
       "      <td>3846.0</td>\n",
       "      <td>3844.5</td>\n",
       "      <td>3848.0</td>\n",
       "      <td>3848.0</td>\n",
       "      <td>2360445</td>\n",
       "      <td>1.268973</td>\n",
       "    </tr>\n",
       "  </tbody>\n",
       "</table>\n",
       "</div>"
      ],
      "text/plain": [
       "                     datetime    open     low    high   close   volume  \\\n",
       "0  2019-01-02 20:31:01.706620  3841.0  3841.0  3845.5  3845.5   946234   \n",
       "1  2019-01-02 20:32:12.833091  3845.5  3845.5  3847.0  3846.0  1511543   \n",
       "2  2019-01-02 20:34:47.248511  3846.0  3844.5  3848.0  3848.0  2360445   \n",
       "\n",
       "   volatility  \n",
       "0    1.269966  \n",
       "1    1.269043  \n",
       "2    1.268973  "
      ]
     },
     "execution_count": 16,
     "metadata": {},
     "output_type": "execute_result"
    }
   ],
   "source": [
    "df_data.head(3)"
   ]
  },
  {
   "cell_type": "code",
   "execution_count": 17,
   "metadata": {},
   "outputs": [
    {
     "name": "stdout",
     "output_type": "stream",
     "text": [
      "CPU times: user 5.16 s, sys: 836 ms, total: 6 s\n",
      "Wall time: 6.02 s\n"
     ]
    }
   ],
   "source": [
    "%%time\n",
    "from sklearn.ensemble import IsolationForest\n",
    "clf = IsolationForest(max_samples=100, random_state = 1, contamination= 'auto')\n",
    "\n",
    "volatility = df_data[['volatility']]\n",
    "anomalies = clf.fit_predict(volatility)"
   ]
  },
  {
   "cell_type": "code",
   "execution_count": 18,
   "metadata": {},
   "outputs": [],
   "source": [
    "df_data['outlier_IsoForest'] = anomalies"
   ]
  },
  {
   "cell_type": "code",
   "execution_count": 19,
   "metadata": {},
   "outputs": [],
   "source": [
    "df_data['outlier_IsoForest'] = df_data['outlier_IsoForest'].map({1:'clean',-1:'anomaly',})"
   ]
  },
  {
   "cell_type": "code",
   "execution_count": 20,
   "metadata": {},
   "outputs": [
    {
     "data": {
      "text/html": [
       "<div>\n",
       "<style scoped>\n",
       "    .dataframe tbody tr th:only-of-type {\n",
       "        vertical-align: middle;\n",
       "    }\n",
       "\n",
       "    .dataframe tbody tr th {\n",
       "        vertical-align: top;\n",
       "    }\n",
       "\n",
       "    .dataframe thead th {\n",
       "        text-align: right;\n",
       "    }\n",
       "</style>\n",
       "<table border=\"1\" class=\"dataframe\">\n",
       "  <thead>\n",
       "    <tr style=\"text-align: right;\">\n",
       "      <th></th>\n",
       "      <th>datetime</th>\n",
       "      <th>open</th>\n",
       "      <th>low</th>\n",
       "      <th>high</th>\n",
       "      <th>close</th>\n",
       "      <th>volume</th>\n",
       "      <th>volatility</th>\n",
       "      <th>outlier_IsoForest</th>\n",
       "    </tr>\n",
       "  </thead>\n",
       "  <tbody>\n",
       "    <tr>\n",
       "      <th>0</th>\n",
       "      <td>2019-01-02 20:31:01.706620</td>\n",
       "      <td>3841.0</td>\n",
       "      <td>3841.0</td>\n",
       "      <td>3845.5</td>\n",
       "      <td>3845.5</td>\n",
       "      <td>946234</td>\n",
       "      <td>1.269966</td>\n",
       "      <td>clean</td>\n",
       "    </tr>\n",
       "    <tr>\n",
       "      <th>1</th>\n",
       "      <td>2019-01-02 20:32:12.833091</td>\n",
       "      <td>3845.5</td>\n",
       "      <td>3845.5</td>\n",
       "      <td>3847.0</td>\n",
       "      <td>3846.0</td>\n",
       "      <td>1511543</td>\n",
       "      <td>1.269043</td>\n",
       "      <td>clean</td>\n",
       "    </tr>\n",
       "  </tbody>\n",
       "</table>\n",
       "</div>"
      ],
      "text/plain": [
       "                     datetime    open     low    high   close   volume  \\\n",
       "0  2019-01-02 20:31:01.706620  3841.0  3841.0  3845.5  3845.5   946234   \n",
       "1  2019-01-02 20:32:12.833091  3845.5  3845.5  3847.0  3846.0  1511543   \n",
       "\n",
       "   volatility outlier_IsoForest  \n",
       "0    1.269966             clean  \n",
       "1    1.269043             clean  "
      ]
     },
     "execution_count": 20,
     "metadata": {},
     "output_type": "execute_result"
    }
   ],
   "source": [
    "df_data.head(2)"
   ]
  },
  {
   "cell_type": "markdown",
   "metadata": {},
   "source": [
    "## Выделение режимов"
   ]
  },
  {
   "cell_type": "code",
   "execution_count": 21,
   "metadata": {},
   "outputs": [],
   "source": [
    "# Кластеризация\n",
    "def clustering_GaussianHMM(df_data:pd.DataFrame,\n",
    "                           n_components_:int,\n",
    "                          ):\n",
    "    model = GaussianMixture(n_components=n_components_, covariance_type=\"full\")\n",
    "    model.fit(df_data)\n",
    "    marked_regimes = model.predict(df_data)\n",
    "    return marked_regimes"
   ]
  },
  {
   "cell_type": "code",
   "execution_count": 22,
   "metadata": {},
   "outputs": [],
   "source": [
    "df_data_clear = df_data[df_data['outlier_IsoForest']=='clean']\n",
    "df_data_outlier = df_data[df_data['outlier_IsoForest']=='anomaly']"
   ]
  },
  {
   "cell_type": "code",
   "execution_count": 23,
   "metadata": {},
   "outputs": [],
   "source": [
    "X = df_data_clear[['volatility']]\n",
    "\n",
    "from sklearn.preprocessing import MinMaxScaler\n",
    "scaler = MinMaxScaler()\n",
    "scaled = scaler.fit_transform(X[['volatility']])\n",
    "X['volatility'] = scaled*10"
   ]
  },
  {
   "cell_type": "code",
   "execution_count": 24,
   "metadata": {},
   "outputs": [],
   "source": [
    "marked_regimes = clustering_GaussianHMM(df_data = X, n_components_= 4)"
   ]
  },
  {
   "cell_type": "code",
   "execution_count": 25,
   "metadata": {},
   "outputs": [
    {
     "data": {
      "text/plain": [
       "460563"
      ]
     },
     "execution_count": 25,
     "metadata": {},
     "output_type": "execute_result"
    },
    {
     "data": {
      "text/plain": [
       "460563"
      ]
     },
     "execution_count": 25,
     "metadata": {},
     "output_type": "execute_result"
    }
   ],
   "source": [
    "len(marked_regimes)\n",
    "len(df_data_clear)"
   ]
  },
  {
   "cell_type": "markdown",
   "metadata": {},
   "source": [
    "#### Формирование результата"
   ]
  },
  {
   "cell_type": "code",
   "execution_count": 26,
   "metadata": {},
   "outputs": [],
   "source": [
    "df_data_clear['regimes'] = marked_regimes\n",
    "df_data_outlier['regimes'] = -1"
   ]
  },
  {
   "cell_type": "code",
   "execution_count": 27,
   "metadata": {},
   "outputs": [
    {
     "data": {
      "text/plain": [
       "array([3, 2, 1, 0])"
      ]
     },
     "execution_count": 27,
     "metadata": {},
     "output_type": "execute_result"
    }
   ],
   "source": [
    "df_data_clear['regimes'].unique()"
   ]
  },
  {
   "cell_type": "code",
   "execution_count": 28,
   "metadata": {},
   "outputs": [
    {
     "data": {
      "text/html": [
       "<div>\n",
       "<style scoped>\n",
       "    .dataframe tbody tr th:only-of-type {\n",
       "        vertical-align: middle;\n",
       "    }\n",
       "\n",
       "    .dataframe tbody tr th {\n",
       "        vertical-align: top;\n",
       "    }\n",
       "\n",
       "    .dataframe thead th {\n",
       "        text-align: right;\n",
       "    }\n",
       "</style>\n",
       "<table border=\"1\" class=\"dataframe\">\n",
       "  <thead>\n",
       "    <tr style=\"text-align: right;\">\n",
       "      <th></th>\n",
       "      <th>datetime</th>\n",
       "      <th>open</th>\n",
       "      <th>low</th>\n",
       "      <th>high</th>\n",
       "      <th>close</th>\n",
       "      <th>volume</th>\n",
       "      <th>volatility</th>\n",
       "      <th>outlier_IsoForest</th>\n",
       "      <th>regimes</th>\n",
       "    </tr>\n",
       "  </thead>\n",
       "  <tbody>\n",
       "    <tr>\n",
       "      <th>0</th>\n",
       "      <td>2019-01-02 20:31:01.706620</td>\n",
       "      <td>3841.0</td>\n",
       "      <td>3841.0</td>\n",
       "      <td>3845.5</td>\n",
       "      <td>3845.5</td>\n",
       "      <td>946234</td>\n",
       "      <td>1.269966</td>\n",
       "      <td>clean</td>\n",
       "      <td>3</td>\n",
       "    </tr>\n",
       "  </tbody>\n",
       "</table>\n",
       "</div>"
      ],
      "text/plain": [
       "                     datetime    open     low    high   close  volume  \\\n",
       "0  2019-01-02 20:31:01.706620  3841.0  3841.0  3845.5  3845.5  946234   \n",
       "\n",
       "   volatility outlier_IsoForest  regimes  \n",
       "0    1.269966             clean        3  "
      ]
     },
     "execution_count": 28,
     "metadata": {},
     "output_type": "execute_result"
    },
    {
     "data": {
      "text/html": [
       "<div>\n",
       "<style scoped>\n",
       "    .dataframe tbody tr th:only-of-type {\n",
       "        vertical-align: middle;\n",
       "    }\n",
       "\n",
       "    .dataframe tbody tr th {\n",
       "        vertical-align: top;\n",
       "    }\n",
       "\n",
       "    .dataframe thead th {\n",
       "        text-align: right;\n",
       "    }\n",
       "</style>\n",
       "<table border=\"1\" class=\"dataframe\">\n",
       "  <thead>\n",
       "    <tr style=\"text-align: right;\">\n",
       "      <th></th>\n",
       "      <th>datetime</th>\n",
       "      <th>open</th>\n",
       "      <th>low</th>\n",
       "      <th>high</th>\n",
       "      <th>close</th>\n",
       "      <th>volume</th>\n",
       "      <th>volatility</th>\n",
       "      <th>outlier_IsoForest</th>\n",
       "      <th>regimes</th>\n",
       "    </tr>\n",
       "  </thead>\n",
       "  <tbody>\n",
       "    <tr>\n",
       "      <th>14245</th>\n",
       "      <td>2019-02-02 06:29:16.438661</td>\n",
       "      <td>3417.5</td>\n",
       "      <td>3416.0</td>\n",
       "      <td>3417.5</td>\n",
       "      <td>3416.0</td>\n",
       "      <td>1818677</td>\n",
       "      <td>0.64791</td>\n",
       "      <td>anomaly</td>\n",
       "      <td>-1</td>\n",
       "    </tr>\n",
       "  </tbody>\n",
       "</table>\n",
       "</div>"
      ],
      "text/plain": [
       "                         datetime    open     low    high   close   volume  \\\n",
       "14245  2019-02-02 06:29:16.438661  3417.5  3416.0  3417.5  3416.0  1818677   \n",
       "\n",
       "       volatility outlier_IsoForest  regimes  \n",
       "14245     0.64791           anomaly       -1  "
      ]
     },
     "execution_count": 28,
     "metadata": {},
     "output_type": "execute_result"
    }
   ],
   "source": [
    "df_data_clear.head(1)\n",
    "df_data_outlier.head(1)"
   ]
  },
  {
   "cell_type": "code",
   "execution_count": 29,
   "metadata": {},
   "outputs": [],
   "source": [
    "df_result = pd.concat([df_data_clear, df_data_outlier])\n",
    "df_result = df_result.sort_values('datetime')\n",
    "df_result.index = range(len(df_result))"
   ]
  },
  {
   "cell_type": "markdown",
   "metadata": {},
   "source": [
    "### Построение графика"
   ]
  },
  {
   "cell_type": "code",
   "execution_count": 30,
   "metadata": {},
   "outputs": [
    {
     "data": {
      "text/html": [
       "<div>\n",
       "<style scoped>\n",
       "    .dataframe tbody tr th:only-of-type {\n",
       "        vertical-align: middle;\n",
       "    }\n",
       "\n",
       "    .dataframe tbody tr th {\n",
       "        vertical-align: top;\n",
       "    }\n",
       "\n",
       "    .dataframe thead th {\n",
       "        text-align: right;\n",
       "    }\n",
       "</style>\n",
       "<table border=\"1\" class=\"dataframe\">\n",
       "  <thead>\n",
       "    <tr style=\"text-align: right;\">\n",
       "      <th></th>\n",
       "      <th>datetime</th>\n",
       "      <th>open</th>\n",
       "      <th>low</th>\n",
       "      <th>high</th>\n",
       "      <th>close</th>\n",
       "      <th>volume</th>\n",
       "      <th>volatility</th>\n",
       "      <th>outlier_IsoForest</th>\n",
       "      <th>regimes</th>\n",
       "    </tr>\n",
       "  </thead>\n",
       "  <tbody>\n",
       "    <tr>\n",
       "      <th>0</th>\n",
       "      <td>2019-01-02 20:31:01.706620</td>\n",
       "      <td>3841.0</td>\n",
       "      <td>3841.0</td>\n",
       "      <td>3845.5</td>\n",
       "      <td>3845.5</td>\n",
       "      <td>946234</td>\n",
       "      <td>1.269966</td>\n",
       "      <td>clean</td>\n",
       "      <td>3</td>\n",
       "    </tr>\n",
       "    <tr>\n",
       "      <th>1</th>\n",
       "      <td>2019-01-02 20:32:12.833091</td>\n",
       "      <td>3845.5</td>\n",
       "      <td>3845.5</td>\n",
       "      <td>3847.0</td>\n",
       "      <td>3846.0</td>\n",
       "      <td>1511543</td>\n",
       "      <td>1.269043</td>\n",
       "      <td>clean</td>\n",
       "      <td>3</td>\n",
       "    </tr>\n",
       "  </tbody>\n",
       "</table>\n",
       "</div>"
      ],
      "text/plain": [
       "                     datetime    open     low    high   close   volume  \\\n",
       "0  2019-01-02 20:31:01.706620  3841.0  3841.0  3845.5  3845.5   946234   \n",
       "1  2019-01-02 20:32:12.833091  3845.5  3845.5  3847.0  3846.0  1511543   \n",
       "\n",
       "   volatility outlier_IsoForest  regimes  \n",
       "0    1.269966             clean        3  \n",
       "1    1.269043             clean        3  "
      ]
     },
     "execution_count": 30,
     "metadata": {},
     "output_type": "execute_result"
    },
    {
     "data": {
      "text/plain": [
       "array([ 3,  2,  1,  0, -1])"
      ]
     },
     "execution_count": 30,
     "metadata": {},
     "output_type": "execute_result"
    }
   ],
   "source": [
    "df_result.head(2)\n",
    "df_result['regimes'].unique()"
   ]
  },
  {
   "cell_type": "code",
   "execution_count": 31,
   "metadata": {},
   "outputs": [],
   "source": [
    "# Построение графиков\n",
    "def show_plot_plotly(df_data:pd.DataFrame,\n",
    "                     left_border, right_border,\n",
    "                     x_,y_, color_:str, title_:str,             \n",
    "             ):  \n",
    "    fig = px.scatter(df_data[left_border:right_border], \n",
    "                     x=x_, y=y_, color=color_, \n",
    "                     #color_discrete_sequence=['dodgerblue','mediumturquoise','limegreen','tomato','darkorchid',],\n",
    "                     title=title_\n",
    "                    )    \n",
    "    return fig"
   ]
  },
  {
   "cell_type": "markdown",
   "metadata": {},
   "source": [
    "### Сортировка режимов"
   ]
  },
  {
   "cell_type": "code",
   "execution_count": 32,
   "metadata": {},
   "outputs": [],
   "source": [
    "#df_result['outlier_STD'] = df_result['outlier_STD'].map({-1:'-1', 1:'1',})\n",
    "df_result['regimes'] = df_result['regimes'].map({0:'0', 1:'1', 2:'2', 3:'3', -1:'-1'})"
   ]
  },
  {
   "cell_type": "code",
   "execution_count": 33,
   "metadata": {},
   "outputs": [],
   "source": [
    "regime_0 = df_result[df_result['regimes'] == '0']\n",
    "regime_1 = df_result[df_result['regimes'] == '1']\n",
    "regime_2 = df_result[df_result['regimes'] == '2']\n",
    "regime_3 = df_result[df_result['regimes'] == '3']"
   ]
  },
  {
   "cell_type": "code",
   "execution_count": 34,
   "metadata": {},
   "outputs": [
    {
     "data": {
      "text/plain": [
       "(2.2969073100316235, 0)"
      ]
     },
     "execution_count": 34,
     "metadata": {},
     "output_type": "execute_result"
    },
    {
     "data": {
      "text/plain": [
       "(4.500750256842466, 1)"
      ]
     },
     "execution_count": 34,
     "metadata": {},
     "output_type": "execute_result"
    },
    {
     "data": {
      "text/plain": [
       "(3.0137245513668827, 2)"
      ]
     },
     "execution_count": 34,
     "metadata": {},
     "output_type": "execute_result"
    },
    {
     "data": {
      "text/plain": [
       "(3.7175360285826864, 3)"
      ]
     },
     "execution_count": 34,
     "metadata": {},
     "output_type": "execute_result"
    }
   ],
   "source": [
    "(regime_0['volatility'].min()+regime_0['volatility'].mean()+regime_0['volatility'].max(), 0)\n",
    "(regime_1['volatility'].min()+regime_1['volatility'].mean()+regime_1['volatility'].max(), 1)\n",
    "(regime_2['volatility'].min()+regime_2['volatility'].mean()+regime_2['volatility'].max(), 2)\n",
    "(regime_3['volatility'].min()+regime_3['volatility'].mean()+regime_3['volatility'].max(), 3)"
   ]
  },
  {
   "cell_type": "code",
   "execution_count": 35,
   "metadata": {},
   "outputs": [],
   "source": [
    "df_result['regimes'] = df_result['regimes'].map({'0':'regime0', \n",
    "                                                 '2':'regime1',\n",
    "                                                 '3':'regime2', \n",
    "                                                 '1':'regime3', \n",
    "                                                 '-1':'Anomaly',\n",
    "                                                })"
   ]
  },
  {
   "cell_type": "code",
   "execution_count": 36,
   "metadata": {},
   "outputs": [
    {
     "data": {
      "text/html": [
       "<div>\n",
       "<style scoped>\n",
       "    .dataframe tbody tr th:only-of-type {\n",
       "        vertical-align: middle;\n",
       "    }\n",
       "\n",
       "    .dataframe tbody tr th {\n",
       "        vertical-align: top;\n",
       "    }\n",
       "\n",
       "    .dataframe thead th {\n",
       "        text-align: right;\n",
       "    }\n",
       "</style>\n",
       "<table border=\"1\" class=\"dataframe\">\n",
       "  <thead>\n",
       "    <tr style=\"text-align: right;\">\n",
       "      <th></th>\n",
       "      <th>datetime</th>\n",
       "      <th>open</th>\n",
       "      <th>low</th>\n",
       "      <th>high</th>\n",
       "      <th>close</th>\n",
       "      <th>volume</th>\n",
       "      <th>volatility</th>\n",
       "      <th>outlier_IsoForest</th>\n",
       "      <th>regimes</th>\n",
       "    </tr>\n",
       "  </thead>\n",
       "  <tbody>\n",
       "    <tr>\n",
       "      <th>0</th>\n",
       "      <td>2019-01-02 20:31:01.706620</td>\n",
       "      <td>3841.0</td>\n",
       "      <td>3841.0</td>\n",
       "      <td>3845.5</td>\n",
       "      <td>3845.5</td>\n",
       "      <td>946234</td>\n",
       "      <td>1.269966</td>\n",
       "      <td>clean</td>\n",
       "      <td>regime2</td>\n",
       "    </tr>\n",
       "    <tr>\n",
       "      <th>1</th>\n",
       "      <td>2019-01-02 20:32:12.833091</td>\n",
       "      <td>3845.5</td>\n",
       "      <td>3845.5</td>\n",
       "      <td>3847.0</td>\n",
       "      <td>3846.0</td>\n",
       "      <td>1511543</td>\n",
       "      <td>1.269043</td>\n",
       "      <td>clean</td>\n",
       "      <td>regime2</td>\n",
       "    </tr>\n",
       "    <tr>\n",
       "      <th>2</th>\n",
       "      <td>2019-01-02 20:34:47.248511</td>\n",
       "      <td>3846.0</td>\n",
       "      <td>3844.5</td>\n",
       "      <td>3848.0</td>\n",
       "      <td>3848.0</td>\n",
       "      <td>2360445</td>\n",
       "      <td>1.268973</td>\n",
       "      <td>clean</td>\n",
       "      <td>regime2</td>\n",
       "    </tr>\n",
       "    <tr>\n",
       "      <th>3</th>\n",
       "      <td>2019-01-02 20:35:07.507625</td>\n",
       "      <td>3848.0</td>\n",
       "      <td>3848.0</td>\n",
       "      <td>3852.0</td>\n",
       "      <td>3851.0</td>\n",
       "      <td>1272379</td>\n",
       "      <td>1.269183</td>\n",
       "      <td>clean</td>\n",
       "      <td>regime2</td>\n",
       "    </tr>\n",
       "    <tr>\n",
       "      <th>4</th>\n",
       "      <td>2019-01-02 20:35:20.780445</td>\n",
       "      <td>3851.0</td>\n",
       "      <td>3851.0</td>\n",
       "      <td>3857.0</td>\n",
       "      <td>3857.0</td>\n",
       "      <td>811095</td>\n",
       "      <td>1.269099</td>\n",
       "      <td>clean</td>\n",
       "      <td>regime2</td>\n",
       "    </tr>\n",
       "  </tbody>\n",
       "</table>\n",
       "</div>"
      ],
      "text/plain": [
       "                     datetime    open     low    high   close   volume  \\\n",
       "0  2019-01-02 20:31:01.706620  3841.0  3841.0  3845.5  3845.5   946234   \n",
       "1  2019-01-02 20:32:12.833091  3845.5  3845.5  3847.0  3846.0  1511543   \n",
       "2  2019-01-02 20:34:47.248511  3846.0  3844.5  3848.0  3848.0  2360445   \n",
       "3  2019-01-02 20:35:07.507625  3848.0  3848.0  3852.0  3851.0  1272379   \n",
       "4  2019-01-02 20:35:20.780445  3851.0  3851.0  3857.0  3857.0   811095   \n",
       "\n",
       "   volatility outlier_IsoForest  regimes  \n",
       "0    1.269966             clean  regime2  \n",
       "1    1.269043             clean  regime2  \n",
       "2    1.268973             clean  regime2  \n",
       "3    1.269183             clean  regime2  \n",
       "4    1.269099             clean  regime2  "
      ]
     },
     "execution_count": 36,
     "metadata": {},
     "output_type": "execute_result"
    }
   ],
   "source": [
    "df_result.head()"
   ]
  },
  {
   "cell_type": "code",
   "execution_count": 38,
   "metadata": {},
   "outputs": [
    {
     "data": {
      "text/plain": [
       "'3.html'"
      ]
     },
     "execution_count": 38,
     "metadata": {},
     "output_type": "execute_result"
    }
   ],
   "source": [
    "fig = show_plot_plotly(df_data=df_result,\n",
    "                       left_border = 0,\n",
    "                       right_border=len(df_result),\n",
    "                       x_='datetime',\n",
    "                       y_='close',\n",
    "                       color_='regimes',\n",
    "                       title_='regimes',\n",
    "                      )\n",
    "plotly.offline.plot(fig,filename='3.html')"
   ]
  },
  {
   "cell_type": "code",
   "execution_count": 39,
   "metadata": {},
   "outputs": [
    {
     "data": {
      "text/html": [
       "<div>\n",
       "<style scoped>\n",
       "    .dataframe tbody tr th:only-of-type {\n",
       "        vertical-align: middle;\n",
       "    }\n",
       "\n",
       "    .dataframe tbody tr th {\n",
       "        vertical-align: top;\n",
       "    }\n",
       "\n",
       "    .dataframe thead th {\n",
       "        text-align: right;\n",
       "    }\n",
       "</style>\n",
       "<table border=\"1\" class=\"dataframe\">\n",
       "  <thead>\n",
       "    <tr style=\"text-align: right;\">\n",
       "      <th></th>\n",
       "      <th>datetime</th>\n",
       "      <th>open</th>\n",
       "      <th>low</th>\n",
       "      <th>high</th>\n",
       "      <th>close</th>\n",
       "      <th>volume</th>\n",
       "      <th>volatility</th>\n",
       "      <th>outlier_IsoForest</th>\n",
       "      <th>regimes</th>\n",
       "    </tr>\n",
       "  </thead>\n",
       "  <tbody>\n",
       "    <tr>\n",
       "      <th>0</th>\n",
       "      <td>2019-01-02 20:31:01.706620</td>\n",
       "      <td>3841.0</td>\n",
       "      <td>3841.0</td>\n",
       "      <td>3845.5</td>\n",
       "      <td>3845.5</td>\n",
       "      <td>946234</td>\n",
       "      <td>1.269966</td>\n",
       "      <td>clean</td>\n",
       "      <td>regime2</td>\n",
       "    </tr>\n",
       "    <tr>\n",
       "      <th>1</th>\n",
       "      <td>2019-01-02 20:32:12.833091</td>\n",
       "      <td>3845.5</td>\n",
       "      <td>3845.5</td>\n",
       "      <td>3847.0</td>\n",
       "      <td>3846.0</td>\n",
       "      <td>1511543</td>\n",
       "      <td>1.269043</td>\n",
       "      <td>clean</td>\n",
       "      <td>regime2</td>\n",
       "    </tr>\n",
       "    <tr>\n",
       "      <th>2</th>\n",
       "      <td>2019-01-02 20:34:47.248511</td>\n",
       "      <td>3846.0</td>\n",
       "      <td>3844.5</td>\n",
       "      <td>3848.0</td>\n",
       "      <td>3848.0</td>\n",
       "      <td>2360445</td>\n",
       "      <td>1.268973</td>\n",
       "      <td>clean</td>\n",
       "      <td>regime2</td>\n",
       "    </tr>\n",
       "    <tr>\n",
       "      <th>3</th>\n",
       "      <td>2019-01-02 20:35:07.507625</td>\n",
       "      <td>3848.0</td>\n",
       "      <td>3848.0</td>\n",
       "      <td>3852.0</td>\n",
       "      <td>3851.0</td>\n",
       "      <td>1272379</td>\n",
       "      <td>1.269183</td>\n",
       "      <td>clean</td>\n",
       "      <td>regime2</td>\n",
       "    </tr>\n",
       "    <tr>\n",
       "      <th>4</th>\n",
       "      <td>2019-01-02 20:35:20.780445</td>\n",
       "      <td>3851.0</td>\n",
       "      <td>3851.0</td>\n",
       "      <td>3857.0</td>\n",
       "      <td>3857.0</td>\n",
       "      <td>811095</td>\n",
       "      <td>1.269099</td>\n",
       "      <td>clean</td>\n",
       "      <td>regime2</td>\n",
       "    </tr>\n",
       "  </tbody>\n",
       "</table>\n",
       "</div>"
      ],
      "text/plain": [
       "                     datetime    open     low    high   close   volume  \\\n",
       "0  2019-01-02 20:31:01.706620  3841.0  3841.0  3845.5  3845.5   946234   \n",
       "1  2019-01-02 20:32:12.833091  3845.5  3845.5  3847.0  3846.0  1511543   \n",
       "2  2019-01-02 20:34:47.248511  3846.0  3844.5  3848.0  3848.0  2360445   \n",
       "3  2019-01-02 20:35:07.507625  3848.0  3848.0  3852.0  3851.0  1272379   \n",
       "4  2019-01-02 20:35:20.780445  3851.0  3851.0  3857.0  3857.0   811095   \n",
       "\n",
       "   volatility outlier_IsoForest  regimes  \n",
       "0    1.269966             clean  regime2  \n",
       "1    1.269043             clean  regime2  \n",
       "2    1.268973             clean  regime2  \n",
       "3    1.269183             clean  regime2  \n",
       "4    1.269099             clean  regime2  "
      ]
     },
     "execution_count": 39,
     "metadata": {},
     "output_type": "execute_result"
    }
   ],
   "source": [
    "df_result.head()"
   ]
  },
  {
   "cell_type": "code",
   "execution_count": 40,
   "metadata": {},
   "outputs": [],
   "source": [
    "df_result[(df_result['datetime']>=\"2020-03-01\") & \n",
    "          (df_result['datetime']<\"2021-02-01\")][['datetime','regimes']].to_csv('/home/vlad/HDD/GIT/Файлы для бэктестинга/test.csv',\n",
    "                                                                               index=False)"
   ]
  },
  {
   "cell_type": "code",
   "execution_count": null,
   "metadata": {},
   "outputs": [],
   "source": []
  }
 ],
 "metadata": {
  "kernelspec": {
   "display_name": "Python 3",
   "language": "python",
   "name": "python3"
  },
  "language_info": {
   "codemirror_mode": {
    "name": "ipython",
    "version": 3
   },
   "file_extension": ".py",
   "mimetype": "text/x-python",
   "name": "python",
   "nbconvert_exporter": "python",
   "pygments_lexer": "ipython3",
   "version": "3.8.5"
  }
 },
 "nbformat": 4,
 "nbformat_minor": 4
}
