{
 "cells": [
  {
   "cell_type": "markdown",
   "metadata": {},
   "source": [
    "##### Ноутбук создан для попытки отказа от кластеризации в целом. \n",
    "Используется механизм строгих пороговых значений кластеров. \n",
    "Также, оценивается не волатильность, а реальные изменения цен между точками данных"
   ]
  },
  {
   "cell_type": "code",
   "execution_count": 1,
   "metadata": {},
   "outputs": [
    {
     "data": {
      "text/html": [
       "        <script type=\"text/javascript\">\n",
       "        window.PlotlyConfig = {MathJaxConfig: 'local'};\n",
       "        if (window.MathJax) {MathJax.Hub.Config({SVG: {font: \"STIX-Web\"}});}\n",
       "        if (typeof require !== 'undefined') {\n",
       "        require.undef(\"plotly\");\n",
       "        requirejs.config({\n",
       "            paths: {\n",
       "                'plotly': ['https://cdn.plot.ly/plotly-latest.min']\n",
       "            }\n",
       "        });\n",
       "        require(['plotly'], function(Plotly) {\n",
       "            window._Plotly = Plotly;\n",
       "        });\n",
       "        }\n",
       "        </script>\n",
       "        "
      ]
     },
     "metadata": {},
     "output_type": "display_data"
    }
   ],
   "source": [
    "import sys\n",
    "import pickle\n",
    "import numpy as np\n",
    "import pandas as pd\n",
    "import pandas_profiling\n",
    "from tqdm import tqdm\n",
    "from copy import deepcopy\n",
    "\n",
    "import cufflinks as cf\n",
    "import plotly.offline\n",
    "import plotly.express as px\n",
    "cf.go_offline()\n",
    "cf.set_config_file(offline=False, world_readable=True)\n",
    "from IPython.core.interactiveshell import InteractiveShell\n",
    "InteractiveShell.ast_node_interactivity = \"all\"\n",
    "\n",
    "if not sys.warnoptions:\n",
    "    import warnings\n",
    "    warnings.simplefilter(\"ignore\")"
   ]
  },
  {
   "cell_type": "code",
   "execution_count": 2,
   "metadata": {},
   "outputs": [],
   "source": [
    "path = '/home/vlad/HDD/GIT/CryptoLp DataScience/DataSets/Разные бары/'\n",
    "file = '2019-2020_Bars_700T'\n",
    "df_data = pd.read_csv(path+file+'.csv')\n",
    "df_data = df_data.dropna()\n",
    "df_data.index = range(len(df_data))"
   ]
  },
  {
   "cell_type": "code",
   "execution_count": 3,
   "metadata": {},
   "outputs": [
    {
     "data": {
      "text/html": [
       "<div>\n",
       "<style scoped>\n",
       "    .dataframe tbody tr th:only-of-type {\n",
       "        vertical-align: middle;\n",
       "    }\n",
       "\n",
       "    .dataframe tbody tr th {\n",
       "        vertical-align: top;\n",
       "    }\n",
       "\n",
       "    .dataframe thead th {\n",
       "        text-align: right;\n",
       "    }\n",
       "</style>\n",
       "<table border=\"1\" class=\"dataframe\">\n",
       "  <thead>\n",
       "    <tr style=\"text-align: right;\">\n",
       "      <th></th>\n",
       "      <th>datetime</th>\n",
       "      <th>open</th>\n",
       "      <th>low</th>\n",
       "      <th>high</th>\n",
       "      <th>close</th>\n",
       "      <th>volume</th>\n",
       "    </tr>\n",
       "  </thead>\n",
       "  <tbody>\n",
       "    <tr>\n",
       "      <th>585697</th>\n",
       "      <td>2021-01-10 23:57:36.495287</td>\n",
       "      <td>38428.0</td>\n",
       "      <td>38300.0</td>\n",
       "      <td>38462.5</td>\n",
       "      <td>38300.0</td>\n",
       "      <td>4430463</td>\n",
       "    </tr>\n",
       "    <tr>\n",
       "      <th>585698</th>\n",
       "      <td>2021-01-10 23:59:30.593566</td>\n",
       "      <td>38300.0</td>\n",
       "      <td>38250.0</td>\n",
       "      <td>38357.5</td>\n",
       "      <td>38264.5</td>\n",
       "      <td>8412985</td>\n",
       "    </tr>\n",
       "    <tr>\n",
       "      <th>585699</th>\n",
       "      <td>2021-01-10 23:59:59.886955</td>\n",
       "      <td>38264.5</td>\n",
       "      <td>38225.0</td>\n",
       "      <td>38279.5</td>\n",
       "      <td>38225.0</td>\n",
       "      <td>5901463</td>\n",
       "    </tr>\n",
       "  </tbody>\n",
       "</table>\n",
       "</div>"
      ],
      "text/plain": [
       "                          datetime     open      low     high    close  \\\n",
       "585697  2021-01-10 23:57:36.495287  38428.0  38300.0  38462.5  38300.0   \n",
       "585698  2021-01-10 23:59:30.593566  38300.0  38250.0  38357.5  38264.5   \n",
       "585699  2021-01-10 23:59:59.886955  38264.5  38225.0  38279.5  38225.0   \n",
       "\n",
       "         volume  \n",
       "585697  4430463  \n",
       "585698  8412985  \n",
       "585699  5901463  "
      ]
     },
     "execution_count": 3,
     "metadata": {},
     "output_type": "execute_result"
    }
   ],
   "source": [
    "df_data.tail(3)"
   ]
  },
  {
   "cell_type": "code",
   "execution_count": 4,
   "metadata": {},
   "outputs": [],
   "source": [
    "# Вычисление стандартной волатильности\n",
    "def calculation_volatility_STD(df_data_close_price:pd.Series,\n",
    "                               win_size):\n",
    "    volatility_STD = df_data_close_price.pct_change().rolling(win_size).std()*1000\n",
    "    return volatility_STD"
   ]
  },
  {
   "cell_type": "code",
   "execution_count": 5,
   "metadata": {},
   "outputs": [],
   "source": [
    "close = df_data['close']\n",
    "volume = df_data['volume']"
   ]
  },
  {
   "cell_type": "code",
   "execution_count": 6,
   "metadata": {},
   "outputs": [],
   "source": [
    "# %%time\n",
    "# df_data['volatility 01'] = calculation_volatility_STD(df_data_close_price=df_data['close'], win_size=1)\n",
    "# df_data['volatility 03'] = calculation_volatility_STD(df_data_close_price=df_data['close'], win_size=3)\n",
    "# df_data['volatility 05'] = calculation_volatility_STD(df_data_close_price=df_data['close'], win_size=5)\n",
    "# df_data['volatility 07'] = calculation_volatility_STD(df_data_close_price=df_data['close'], win_size=7)\n",
    "# df_data['volatility 10'] = calculation_volatility_STD(df_data_close_price=df_data['close'], win_size=10)\n",
    "# df_data['volatility 15'] = calculation_volatility_STD(df_data_close_price=df_data['close'], win_size=15)\n",
    "# df_data['volatility 20'] = calculation_volatility_STD(df_data_close_price=df_data['close'], win_size=20)"
   ]
  },
  {
   "cell_type": "code",
   "execution_count": 7,
   "metadata": {},
   "outputs": [],
   "source": [
    "df_data = df_data.dropna()\n",
    "df_data.index = range(len(df_data))"
   ]
  },
  {
   "cell_type": "code",
   "execution_count": 8,
   "metadata": {},
   "outputs": [],
   "source": [
    "df_data['mid price'] = (df_data['high'] + df_data['low'])/2\n",
    "df_data['difference'] = df_data['high'] - df_data['low']"
   ]
  },
  {
   "cell_type": "code",
   "execution_count": 9,
   "metadata": {},
   "outputs": [
    {
     "data": {
      "text/html": [
       "<div>\n",
       "<style scoped>\n",
       "    .dataframe tbody tr th:only-of-type {\n",
       "        vertical-align: middle;\n",
       "    }\n",
       "\n",
       "    .dataframe tbody tr th {\n",
       "        vertical-align: top;\n",
       "    }\n",
       "\n",
       "    .dataframe thead th {\n",
       "        text-align: right;\n",
       "    }\n",
       "</style>\n",
       "<table border=\"1\" class=\"dataframe\">\n",
       "  <thead>\n",
       "    <tr style=\"text-align: right;\">\n",
       "      <th></th>\n",
       "      <th>datetime</th>\n",
       "      <th>open</th>\n",
       "      <th>low</th>\n",
       "      <th>high</th>\n",
       "      <th>close</th>\n",
       "      <th>volume</th>\n",
       "      <th>mid price</th>\n",
       "      <th>difference</th>\n",
       "    </tr>\n",
       "  </thead>\n",
       "  <tbody>\n",
       "    <tr>\n",
       "      <th>3943351</th>\n",
       "      <td>2020-11-04 23:59:48.459946</td>\n",
       "      <td>14158.5</td>\n",
       "      <td>14158.5</td>\n",
       "      <td>14160.0</td>\n",
       "      <td>14158.5</td>\n",
       "      <td>397193</td>\n",
       "      <td>14159.25</td>\n",
       "      <td>1.5</td>\n",
       "    </tr>\n",
       "    <tr>\n",
       "      <th>3943352</th>\n",
       "      <td>2020-11-04 23:59:59.455549</td>\n",
       "      <td>14158.0</td>\n",
       "      <td>14151.5</td>\n",
       "      <td>14158.0</td>\n",
       "      <td>14151.5</td>\n",
       "      <td>291620</td>\n",
       "      <td>14154.75</td>\n",
       "      <td>6.5</td>\n",
       "    </tr>\n",
       "  </tbody>\n",
       "</table>\n",
       "</div>"
      ],
      "text/plain": [
       "                           datetime     open      low     high    close  \\\n",
       "3943351  2020-11-04 23:59:48.459946  14158.5  14158.5  14160.0  14158.5   \n",
       "3943352  2020-11-04 23:59:59.455549  14158.0  14151.5  14158.0  14151.5   \n",
       "\n",
       "         volume  mid price  difference  \n",
       "3943351  397193   14159.25         1.5  \n",
       "3943352  291620   14154.75         6.5  "
      ]
     },
     "execution_count": 9,
     "metadata": {},
     "output_type": "execute_result"
    }
   ],
   "source": [
    "df_data.tail(2)"
   ]
  },
  {
   "cell_type": "code",
   "execution_count": 10,
   "metadata": {},
   "outputs": [],
   "source": [
    "thresholds = [0.0001, 0.00015, 0.0002, 0.00025, 0.0003]"
   ]
  },
  {
   "cell_type": "code",
   "execution_count": 11,
   "metadata": {},
   "outputs": [],
   "source": [
    "for th in thresholds:\n",
    "    df_data[f'th {th}'] = df_data['mid price']*th"
   ]
  },
  {
   "cell_type": "code",
   "execution_count": 12,
   "metadata": {},
   "outputs": [
    {
     "name": "stderr",
     "output_type": "stream",
     "text": [
      "100%|██████████| 5/5 [01:38<00:00, 19.64s/it]\n"
     ]
    }
   ],
   "source": [
    "for th in tqdm(thresholds):\n",
    "    list_checks = list()\n",
    "    for i in range(len(df_data)):\n",
    "        if df_data[f'th {th}'].values[i] <= df_data['difference'].values[i]:\n",
    "            list_checks.append(True)\n",
    "        else:\n",
    "            list_checks.append(False)\n",
    "    df_data[f'mark_th {th}'] = list_checks"
   ]
  },
  {
   "cell_type": "code",
   "execution_count": 13,
   "metadata": {},
   "outputs": [
    {
     "data": {
      "text/html": [
       "<div>\n",
       "<style scoped>\n",
       "    .dataframe tbody tr th:only-of-type {\n",
       "        vertical-align: middle;\n",
       "    }\n",
       "\n",
       "    .dataframe tbody tr th {\n",
       "        vertical-align: top;\n",
       "    }\n",
       "\n",
       "    .dataframe thead th {\n",
       "        text-align: right;\n",
       "    }\n",
       "</style>\n",
       "<table border=\"1\" class=\"dataframe\">\n",
       "  <thead>\n",
       "    <tr style=\"text-align: right;\">\n",
       "      <th></th>\n",
       "      <th>datetime</th>\n",
       "      <th>open</th>\n",
       "      <th>low</th>\n",
       "      <th>high</th>\n",
       "      <th>close</th>\n",
       "      <th>volume</th>\n",
       "      <th>mid price</th>\n",
       "      <th>difference</th>\n",
       "      <th>th 0.0001</th>\n",
       "      <th>th 0.00015</th>\n",
       "      <th>th 0.0002</th>\n",
       "      <th>th 0.00025</th>\n",
       "      <th>th 0.0003</th>\n",
       "      <th>mark_th 0.0001</th>\n",
       "      <th>mark_th 0.00015</th>\n",
       "      <th>mark_th 0.0002</th>\n",
       "      <th>mark_th 0.00025</th>\n",
       "      <th>mark_th 0.0003</th>\n",
       "    </tr>\n",
       "  </thead>\n",
       "  <tbody>\n",
       "    <tr>\n",
       "      <th>0</th>\n",
       "      <td>2019-01-01 00:00:12.181624</td>\n",
       "      <td>3693.0</td>\n",
       "      <td>3693.0</td>\n",
       "      <td>3694.0</td>\n",
       "      <td>3694.0</td>\n",
       "      <td>220577</td>\n",
       "      <td>3693.50</td>\n",
       "      <td>1.0</td>\n",
       "      <td>0.369350</td>\n",
       "      <td>0.554025</td>\n",
       "      <td>0.73870</td>\n",
       "      <td>0.923375</td>\n",
       "      <td>1.108050</td>\n",
       "      <td>True</td>\n",
       "      <td>True</td>\n",
       "      <td>True</td>\n",
       "      <td>True</td>\n",
       "      <td>False</td>\n",
       "    </tr>\n",
       "    <tr>\n",
       "      <th>1</th>\n",
       "      <td>2019-01-01 00:00:19.741071</td>\n",
       "      <td>3694.0</td>\n",
       "      <td>3693.5</td>\n",
       "      <td>3694.0</td>\n",
       "      <td>3694.0</td>\n",
       "      <td>355202</td>\n",
       "      <td>3693.75</td>\n",
       "      <td>0.5</td>\n",
       "      <td>0.369375</td>\n",
       "      <td>0.554062</td>\n",
       "      <td>0.73875</td>\n",
       "      <td>0.923438</td>\n",
       "      <td>1.108125</td>\n",
       "      <td>True</td>\n",
       "      <td>False</td>\n",
       "      <td>False</td>\n",
       "      <td>False</td>\n",
       "      <td>False</td>\n",
       "    </tr>\n",
       "  </tbody>\n",
       "</table>\n",
       "</div>"
      ],
      "text/plain": [
       "                     datetime    open     low    high   close  volume  \\\n",
       "0  2019-01-01 00:00:12.181624  3693.0  3693.0  3694.0  3694.0  220577   \n",
       "1  2019-01-01 00:00:19.741071  3694.0  3693.5  3694.0  3694.0  355202   \n",
       "\n",
       "   mid price  difference  th 0.0001  th 0.00015  th 0.0002  th 0.00025  \\\n",
       "0    3693.50         1.0   0.369350    0.554025    0.73870    0.923375   \n",
       "1    3693.75         0.5   0.369375    0.554062    0.73875    0.923438   \n",
       "\n",
       "   th 0.0003  mark_th 0.0001  mark_th 0.00015  mark_th 0.0002  \\\n",
       "0   1.108050            True             True            True   \n",
       "1   1.108125            True            False           False   \n",
       "\n",
       "   mark_th 0.00025  mark_th 0.0003  \n",
       "0             True           False  \n",
       "1            False           False  "
      ]
     },
     "execution_count": 13,
     "metadata": {},
     "output_type": "execute_result"
    }
   ],
   "source": [
    "df_data.head(2)"
   ]
  },
  {
   "cell_type": "code",
   "execution_count": 14,
   "metadata": {},
   "outputs": [],
   "source": [
    "# df_data['mark_th 0.0001'] = df_data['mark_th 0.0001'].map({True:'Extra low', False:'High',})\n",
    "# df_data['mark_th 0.00015'] = df_data['mark_th 0.00015'].map({True:'Extra low', False:'High',})\n",
    "# df_data['mark_th 0.0002'] = df_data['mark_th 0.0002'].map({True:'Extra low', False:'High',})\n",
    "# df_data['mark_th 0.00025'] = df_data['mark_th 0.00025'].map({True:'Extra low', False:'High',})\n",
    "# df_data['mark_th 0.0003'] = df_data['mark_th 0.0003'].map({True:'Extra low', False:'High',})"
   ]
  },
  {
   "cell_type": "code",
   "execution_count": 15,
   "metadata": {},
   "outputs": [],
   "source": [
    "df_data = df_data[['datetime','open','low','high','close','volume','mid price','difference',\n",
    "                   'mark_th 0.0001','mark_th 0.00015','mark_th 0.0002','mark_th 0.00025','mark_th 0.0003',\n",
    "                  ]]"
   ]
  },
  {
   "cell_type": "code",
   "execution_count": 16,
   "metadata": {},
   "outputs": [
    {
     "data": {
      "text/html": [
       "<div>\n",
       "<style scoped>\n",
       "    .dataframe tbody tr th:only-of-type {\n",
       "        vertical-align: middle;\n",
       "    }\n",
       "\n",
       "    .dataframe tbody tr th {\n",
       "        vertical-align: top;\n",
       "    }\n",
       "\n",
       "    .dataframe thead th {\n",
       "        text-align: right;\n",
       "    }\n",
       "</style>\n",
       "<table border=\"1\" class=\"dataframe\">\n",
       "  <thead>\n",
       "    <tr style=\"text-align: right;\">\n",
       "      <th></th>\n",
       "      <th>datetime</th>\n",
       "      <th>open</th>\n",
       "      <th>low</th>\n",
       "      <th>high</th>\n",
       "      <th>close</th>\n",
       "      <th>volume</th>\n",
       "      <th>mid price</th>\n",
       "      <th>difference</th>\n",
       "      <th>mark_th 0.0001</th>\n",
       "      <th>mark_th 0.00015</th>\n",
       "      <th>mark_th 0.0002</th>\n",
       "      <th>mark_th 0.00025</th>\n",
       "      <th>mark_th 0.0003</th>\n",
       "    </tr>\n",
       "  </thead>\n",
       "  <tbody>\n",
       "    <tr>\n",
       "      <th>3943351</th>\n",
       "      <td>2020-11-04 23:59:48.459946</td>\n",
       "      <td>14158.5</td>\n",
       "      <td>14158.5</td>\n",
       "      <td>14160.0</td>\n",
       "      <td>14158.5</td>\n",
       "      <td>397193</td>\n",
       "      <td>14159.25</td>\n",
       "      <td>1.5</td>\n",
       "      <td>True</td>\n",
       "      <td>False</td>\n",
       "      <td>False</td>\n",
       "      <td>False</td>\n",
       "      <td>False</td>\n",
       "    </tr>\n",
       "    <tr>\n",
       "      <th>3943352</th>\n",
       "      <td>2020-11-04 23:59:59.455549</td>\n",
       "      <td>14158.0</td>\n",
       "      <td>14151.5</td>\n",
       "      <td>14158.0</td>\n",
       "      <td>14151.5</td>\n",
       "      <td>291620</td>\n",
       "      <td>14154.75</td>\n",
       "      <td>6.5</td>\n",
       "      <td>True</td>\n",
       "      <td>True</td>\n",
       "      <td>True</td>\n",
       "      <td>True</td>\n",
       "      <td>True</td>\n",
       "    </tr>\n",
       "  </tbody>\n",
       "</table>\n",
       "</div>"
      ],
      "text/plain": [
       "                           datetime     open      low     high    close  \\\n",
       "3943351  2020-11-04 23:59:48.459946  14158.5  14158.5  14160.0  14158.5   \n",
       "3943352  2020-11-04 23:59:59.455549  14158.0  14151.5  14158.0  14151.5   \n",
       "\n",
       "         volume  mid price  difference  mark_th 0.0001  mark_th 0.00015  \\\n",
       "3943351  397193   14159.25         1.5            True            False   \n",
       "3943352  291620   14154.75         6.5            True             True   \n",
       "\n",
       "         mark_th 0.0002  mark_th 0.00025  mark_th 0.0003  \n",
       "3943351           False            False           False  \n",
       "3943352            True             True            True  "
      ]
     },
     "execution_count": 16,
     "metadata": {},
     "output_type": "execute_result"
    }
   ],
   "source": [
    "df_data.tail(2)"
   ]
  },
  {
   "cell_type": "code",
   "execution_count": 17,
   "metadata": {},
   "outputs": [],
   "source": [
    "df_data.to_csv('/home/brainiac/Vlad/Трэшхолды волатильности.csv',index=False)"
   ]
  },
  {
   "cell_type": "markdown",
   "metadata": {},
   "source": [
    "## Окончание основнго блока"
   ]
  },
  {
   "cell_type": "code",
   "execution_count": 17,
   "metadata": {},
   "outputs": [],
   "source": [
    "def cooman_superman(mark_th: pd.Series, window: int):\n",
    "    return mark_th.rolling(window=window).sum().shift(1)"
   ]
  },
  {
   "cell_type": "code",
   "execution_count": 18,
   "metadata": {},
   "outputs": [],
   "source": [
    "for column in ['mark_th 0.0001', 'mark_th 0.00015', 'mark_th 0.0002', 'mark_th 0.00025', 'mark_th 0.0003']:\n",
    "    for window in [1, 2, 3, 4]:\n",
    "        th = column.split('_')[1]\n",
    "        series = cooman_superman(df_data[f'{column}'], window) \n",
    "        df_data[f'pred_{th}_{window}'] = series == series.max()"
   ]
  },
  {
   "cell_type": "code",
   "execution_count": 19,
   "metadata": {},
   "outputs": [
    {
     "data": {
      "text/html": [
       "<div>\n",
       "<style scoped>\n",
       "    .dataframe tbody tr th:only-of-type {\n",
       "        vertical-align: middle;\n",
       "    }\n",
       "\n",
       "    .dataframe tbody tr th {\n",
       "        vertical-align: top;\n",
       "    }\n",
       "\n",
       "    .dataframe thead th {\n",
       "        text-align: right;\n",
       "    }\n",
       "</style>\n",
       "<table border=\"1\" class=\"dataframe\">\n",
       "  <thead>\n",
       "    <tr style=\"text-align: right;\">\n",
       "      <th></th>\n",
       "      <th>datetime</th>\n",
       "      <th>open</th>\n",
       "      <th>low</th>\n",
       "      <th>high</th>\n",
       "      <th>close</th>\n",
       "      <th>volume</th>\n",
       "      <th>mid price</th>\n",
       "      <th>difference</th>\n",
       "      <th>mark_th 0.0001</th>\n",
       "      <th>mark_th 0.00015</th>\n",
       "      <th>...</th>\n",
       "      <th>pred_th 0.0002_3</th>\n",
       "      <th>pred_th 0.0002_4</th>\n",
       "      <th>pred_th 0.00025_1</th>\n",
       "      <th>pred_th 0.00025_2</th>\n",
       "      <th>pred_th 0.00025_3</th>\n",
       "      <th>pred_th 0.00025_4</th>\n",
       "      <th>pred_th 0.0003_1</th>\n",
       "      <th>pred_th 0.0003_2</th>\n",
       "      <th>pred_th 0.0003_3</th>\n",
       "      <th>pred_th 0.0003_4</th>\n",
       "    </tr>\n",
       "  </thead>\n",
       "  <tbody>\n",
       "    <tr>\n",
       "      <th>0</th>\n",
       "      <td>2019-01-01 00:00:12.181624</td>\n",
       "      <td>3693.0</td>\n",
       "      <td>3693.0</td>\n",
       "      <td>3694.0</td>\n",
       "      <td>3694.0</td>\n",
       "      <td>220577</td>\n",
       "      <td>3693.50</td>\n",
       "      <td>1.0</td>\n",
       "      <td>True</td>\n",
       "      <td>True</td>\n",
       "      <td>...</td>\n",
       "      <td>False</td>\n",
       "      <td>False</td>\n",
       "      <td>False</td>\n",
       "      <td>False</td>\n",
       "      <td>False</td>\n",
       "      <td>False</td>\n",
       "      <td>False</td>\n",
       "      <td>False</td>\n",
       "      <td>False</td>\n",
       "      <td>False</td>\n",
       "    </tr>\n",
       "    <tr>\n",
       "      <th>1</th>\n",
       "      <td>2019-01-01 00:00:19.741071</td>\n",
       "      <td>3694.0</td>\n",
       "      <td>3693.5</td>\n",
       "      <td>3694.0</td>\n",
       "      <td>3694.0</td>\n",
       "      <td>355202</td>\n",
       "      <td>3693.75</td>\n",
       "      <td>0.5</td>\n",
       "      <td>True</td>\n",
       "      <td>False</td>\n",
       "      <td>...</td>\n",
       "      <td>False</td>\n",
       "      <td>False</td>\n",
       "      <td>True</td>\n",
       "      <td>False</td>\n",
       "      <td>False</td>\n",
       "      <td>False</td>\n",
       "      <td>False</td>\n",
       "      <td>False</td>\n",
       "      <td>False</td>\n",
       "      <td>False</td>\n",
       "    </tr>\n",
       "    <tr>\n",
       "      <th>2</th>\n",
       "      <td>2019-01-01 00:00:19.741071</td>\n",
       "      <td>3694.0</td>\n",
       "      <td>3694.0</td>\n",
       "      <td>3694.5</td>\n",
       "      <td>3694.5</td>\n",
       "      <td>45796</td>\n",
       "      <td>3694.25</td>\n",
       "      <td>0.5</td>\n",
       "      <td>True</td>\n",
       "      <td>False</td>\n",
       "      <td>...</td>\n",
       "      <td>False</td>\n",
       "      <td>False</td>\n",
       "      <td>False</td>\n",
       "      <td>False</td>\n",
       "      <td>False</td>\n",
       "      <td>False</td>\n",
       "      <td>False</td>\n",
       "      <td>False</td>\n",
       "      <td>False</td>\n",
       "      <td>False</td>\n",
       "    </tr>\n",
       "  </tbody>\n",
       "</table>\n",
       "<p>3 rows × 33 columns</p>\n",
       "</div>"
      ],
      "text/plain": [
       "                     datetime    open     low    high   close  volume  \\\n",
       "0  2019-01-01 00:00:12.181624  3693.0  3693.0  3694.0  3694.0  220577   \n",
       "1  2019-01-01 00:00:19.741071  3694.0  3693.5  3694.0  3694.0  355202   \n",
       "2  2019-01-01 00:00:19.741071  3694.0  3694.0  3694.5  3694.5   45796   \n",
       "\n",
       "   mid price  difference  mark_th 0.0001  mark_th 0.00015  ...  \\\n",
       "0    3693.50         1.0            True             True  ...   \n",
       "1    3693.75         0.5            True            False  ...   \n",
       "2    3694.25         0.5            True            False  ...   \n",
       "\n",
       "   pred_th 0.0002_3  pred_th 0.0002_4  pred_th 0.00025_1  pred_th 0.00025_2  \\\n",
       "0             False             False              False              False   \n",
       "1             False             False               True              False   \n",
       "2             False             False              False              False   \n",
       "\n",
       "   pred_th 0.00025_3  pred_th 0.00025_4  pred_th 0.0003_1  pred_th 0.0003_2  \\\n",
       "0              False              False             False             False   \n",
       "1              False              False             False             False   \n",
       "2              False              False             False             False   \n",
       "\n",
       "   pred_th 0.0003_3  pred_th 0.0003_4  \n",
       "0             False             False  \n",
       "1             False             False  \n",
       "2             False             False  \n",
       "\n",
       "[3 rows x 33 columns]"
      ]
     },
     "execution_count": 19,
     "metadata": {},
     "output_type": "execute_result"
    }
   ],
   "source": [
    "df_data.head(3)"
   ]
  },
  {
   "cell_type": "markdown",
   "metadata": {},
   "source": [
    "## Блок экспериментов с предсказанием режма"
   ]
  },
  {
   "cell_type": "code",
   "execution_count": 20,
   "metadata": {},
   "outputs": [],
   "source": [
    "df_pred = deepcopy(df_data[['datetime','mid price',\n",
    "                            'mark_th 0.0001','mark_th 0.00015','mark_th 0.0002','mark_th 0.00025','mark_th 0.0003',\n",
    "                            'pred_th 0.0001_1','pred_th 0.0001_2','pred_th 0.0001_3','pred_th 0.0001_4',\n",
    "                            'pred_th 0.00015_1','pred_th 0.00015_2','pred_th 0.00015_3','pred_th 0.00015_4',\n",
    "                            'pred_th 0.0002_1', 'pred_th 0.0002_2','pred_th 0.0002_3','pred_th 0.0002_4',\n",
    "                            'pred_th 0.00025_1','pred_th 0.00025_2','pred_th 0.00025_3','pred_th 0.00025_4',\n",
    "                            'pred_th 0.0003_1','pred_th 0.0003_2','pred_th 0.0003_3','pred_th 0.0003_4',\n",
    "                          ]])"
   ]
  },
  {
   "cell_type": "code",
   "execution_count": 21,
   "metadata": {},
   "outputs": [
    {
     "data": {
      "text/plain": [
       "False    68.283692\n",
       "True     31.716308\n",
       "Name: mark_th 0.0003, dtype: float64"
      ]
     },
     "execution_count": 21,
     "metadata": {},
     "output_type": "execute_result"
    }
   ],
   "source": [
    "df_pred['mark_th 0.0003'].value_counts(normalize=True)*100"
   ]
  },
  {
   "cell_type": "code",
   "execution_count": 22,
   "metadata": {},
   "outputs": [],
   "source": [
    "th = 0.00025\n",
    "df_regime = df_pred[['datetime','mid price','mark_th 0.00025',\n",
    "                     f'pred_th {th}_1',f'pred_th {th}_2',f'pred_th {th}_3',f'pred_th {th}_4',\n",
    "                    ]]"
   ]
  },
  {
   "cell_type": "code",
   "execution_count": 23,
   "metadata": {},
   "outputs": [
    {
     "data": {
      "text/html": [
       "<div>\n",
       "<style scoped>\n",
       "    .dataframe tbody tr th:only-of-type {\n",
       "        vertical-align: middle;\n",
       "    }\n",
       "\n",
       "    .dataframe tbody tr th {\n",
       "        vertical-align: top;\n",
       "    }\n",
       "\n",
       "    .dataframe thead th {\n",
       "        text-align: right;\n",
       "    }\n",
       "</style>\n",
       "<table border=\"1\" class=\"dataframe\">\n",
       "  <thead>\n",
       "    <tr style=\"text-align: right;\">\n",
       "      <th></th>\n",
       "      <th>datetime</th>\n",
       "      <th>mid price</th>\n",
       "      <th>mark_th 0.00025</th>\n",
       "      <th>pred_th 0.00025_1</th>\n",
       "      <th>pred_th 0.00025_2</th>\n",
       "      <th>pred_th 0.00025_3</th>\n",
       "      <th>pred_th 0.00025_4</th>\n",
       "    </tr>\n",
       "  </thead>\n",
       "  <tbody>\n",
       "    <tr>\n",
       "      <th>0</th>\n",
       "      <td>2019-01-01 00:00:12.181624</td>\n",
       "      <td>3693.50</td>\n",
       "      <td>True</td>\n",
       "      <td>False</td>\n",
       "      <td>False</td>\n",
       "      <td>False</td>\n",
       "      <td>False</td>\n",
       "    </tr>\n",
       "    <tr>\n",
       "      <th>1</th>\n",
       "      <td>2019-01-01 00:00:19.741071</td>\n",
       "      <td>3693.75</td>\n",
       "      <td>False</td>\n",
       "      <td>True</td>\n",
       "      <td>False</td>\n",
       "      <td>False</td>\n",
       "      <td>False</td>\n",
       "    </tr>\n",
       "  </tbody>\n",
       "</table>\n",
       "</div>"
      ],
      "text/plain": [
       "                     datetime  mid price  mark_th 0.00025  pred_th 0.00025_1  \\\n",
       "0  2019-01-01 00:00:12.181624    3693.50             True              False   \n",
       "1  2019-01-01 00:00:19.741071    3693.75            False               True   \n",
       "\n",
       "   pred_th 0.00025_2  pred_th 0.00025_3  pred_th 0.00025_4  \n",
       "0              False              False              False  \n",
       "1              False              False              False  "
      ]
     },
     "execution_count": 23,
     "metadata": {},
     "output_type": "execute_result"
    }
   ],
   "source": [
    "df_regime.head(2)"
   ]
  },
  {
   "cell_type": "code",
   "execution_count": 24,
   "metadata": {},
   "outputs": [
    {
     "data": {
      "text/plain": [
       "False    59.861265\n",
       "True     40.138735\n",
       "Name: mark_th 0.00025, dtype: float64"
      ]
     },
     "execution_count": 24,
     "metadata": {},
     "output_type": "execute_result"
    }
   ],
   "source": [
    "df_regime[f'mark_th {th}'].value_counts(normalize=True)*100"
   ]
  },
  {
   "cell_type": "code",
   "execution_count": 25,
   "metadata": {},
   "outputs": [
    {
     "data": {
      "text/plain": [
       "0.7080568237233643"
      ]
     },
     "execution_count": 25,
     "metadata": {},
     "output_type": "execute_result"
    },
    {
     "data": {
      "text/plain": [
       "0.7063980830526712"
      ]
     },
     "execution_count": 25,
     "metadata": {},
     "output_type": "execute_result"
    },
    {
     "data": {
      "text/plain": [
       "0.6963363411797017"
      ]
     },
     "execution_count": 25,
     "metadata": {},
     "output_type": "execute_result"
    },
    {
     "data": {
      "text/plain": [
       "0.6849328477567187"
      ]
     },
     "execution_count": 25,
     "metadata": {},
     "output_type": "execute_result"
    }
   ],
   "source": [
    "from sklearn.metrics import accuracy_score\n",
    "\n",
    "accuracy_score(df_regime[f'mark_th {th}'].values, df_regime[f'pred_th {th}_1'].values)\n",
    "accuracy_score(df_regime[f'mark_th {th}'].values, df_regime[f'pred_th {th}_2'].values)\n",
    "accuracy_score(df_regime[f'mark_th {th}'].values, df_regime[f'pred_th {th}_3'].values)\n",
    "accuracy_score(df_regime[f'mark_th {th}'].values, df_regime[f'pred_th {th}_4'].values)"
   ]
  },
  {
   "cell_type": "markdown",
   "metadata": {},
   "source": [
    "### Окнчание блока эксперимента"
   ]
  },
  {
   "cell_type": "markdown",
   "metadata": {},
   "source": [
    "### Блок разметки по волатильности"
   ]
  },
  {
   "cell_type": "code",
   "execution_count": 26,
   "metadata": {},
   "outputs": [],
   "source": [
    "df_volat = df_data[['datetime','mid price','difference',]]"
   ]
  },
  {
   "cell_type": "code",
   "execution_count": 27,
   "metadata": {},
   "outputs": [],
   "source": [
    "def calculation_volatility_STD(df_data_close_price:pd.Series,\n",
    "                               win_size):\n",
    "    volatility_STD = df_data_close_price.pct_change().rolling(win_size).std()*1000\n",
    "    return volatility_STD"
   ]
  },
  {
   "cell_type": "code",
   "execution_count": 28,
   "metadata": {},
   "outputs": [
    {
     "data": {
      "text/html": [
       "<div>\n",
       "<style scoped>\n",
       "    .dataframe tbody tr th:only-of-type {\n",
       "        vertical-align: middle;\n",
       "    }\n",
       "\n",
       "    .dataframe tbody tr th {\n",
       "        vertical-align: top;\n",
       "    }\n",
       "\n",
       "    .dataframe thead th {\n",
       "        text-align: right;\n",
       "    }\n",
       "</style>\n",
       "<table border=\"1\" class=\"dataframe\">\n",
       "  <thead>\n",
       "    <tr style=\"text-align: right;\">\n",
       "      <th></th>\n",
       "      <th>datetime</th>\n",
       "      <th>mid price</th>\n",
       "      <th>difference</th>\n",
       "    </tr>\n",
       "  </thead>\n",
       "  <tbody>\n",
       "    <tr>\n",
       "      <th>0</th>\n",
       "      <td>2019-01-01 00:00:12.181624</td>\n",
       "      <td>3693.50</td>\n",
       "      <td>1.0</td>\n",
       "    </tr>\n",
       "    <tr>\n",
       "      <th>1</th>\n",
       "      <td>2019-01-01 00:00:19.741071</td>\n",
       "      <td>3693.75</td>\n",
       "      <td>0.5</td>\n",
       "    </tr>\n",
       "    <tr>\n",
       "      <th>2</th>\n",
       "      <td>2019-01-01 00:00:19.741071</td>\n",
       "      <td>3694.25</td>\n",
       "      <td>0.5</td>\n",
       "    </tr>\n",
       "  </tbody>\n",
       "</table>\n",
       "</div>"
      ],
      "text/plain": [
       "                     datetime  mid price  difference\n",
       "0  2019-01-01 00:00:12.181624    3693.50         1.0\n",
       "1  2019-01-01 00:00:19.741071    3693.75         0.5\n",
       "2  2019-01-01 00:00:19.741071    3694.25         0.5"
      ]
     },
     "execution_count": 28,
     "metadata": {},
     "output_type": "execute_result"
    }
   ],
   "source": [
    "df_volat.head(3)"
   ]
  },
  {
   "cell_type": "code",
   "execution_count": 29,
   "metadata": {},
   "outputs": [],
   "source": [
    "df_volat['volatility 2'] = calculation_volatility_STD(df_volat['mid price'], 2)\n",
    "df_volat['volatility 3'] = calculation_volatility_STD(df_volat['mid price'], 3)\n",
    "df_volat['volatility 5'] = calculation_volatility_STD(df_volat['mid price'], 5)\n",
    "df_volat['volatility 7'] = calculation_volatility_STD(df_volat['mid price'], 7)\n",
    "df_volat['volatility 10'] = calculation_volatility_STD(df_volat['mid price'], 10)"
   ]
  },
  {
   "cell_type": "code",
   "execution_count": 30,
   "metadata": {},
   "outputs": [
    {
     "data": {
      "text/html": [
       "<div>\n",
       "<style scoped>\n",
       "    .dataframe tbody tr th:only-of-type {\n",
       "        vertical-align: middle;\n",
       "    }\n",
       "\n",
       "    .dataframe tbody tr th {\n",
       "        vertical-align: top;\n",
       "    }\n",
       "\n",
       "    .dataframe thead th {\n",
       "        text-align: right;\n",
       "    }\n",
       "</style>\n",
       "<table border=\"1\" class=\"dataframe\">\n",
       "  <thead>\n",
       "    <tr style=\"text-align: right;\">\n",
       "      <th></th>\n",
       "      <th>datetime</th>\n",
       "      <th>mid price</th>\n",
       "      <th>difference</th>\n",
       "      <th>volatility 2</th>\n",
       "      <th>volatility 3</th>\n",
       "      <th>volatility 5</th>\n",
       "      <th>volatility 7</th>\n",
       "      <th>volatility 10</th>\n",
       "    </tr>\n",
       "  </thead>\n",
       "  <tbody>\n",
       "    <tr>\n",
       "      <th>0</th>\n",
       "      <td>2019-01-01 00:06:47.504952</td>\n",
       "      <td>3688.50</td>\n",
       "      <td>1.0</td>\n",
       "      <td>0.095788</td>\n",
       "      <td>0.067732</td>\n",
       "      <td>0.113336</td>\n",
       "      <td>0.169047</td>\n",
       "      <td>0.199289</td>\n",
       "    </tr>\n",
       "    <tr>\n",
       "      <th>1</th>\n",
       "      <td>2019-01-01 00:06:58.148842</td>\n",
       "      <td>3687.00</td>\n",
       "      <td>2.0</td>\n",
       "      <td>0.191719</td>\n",
       "      <td>0.135566</td>\n",
       "      <td>0.151546</td>\n",
       "      <td>0.176670</td>\n",
       "      <td>0.202004</td>\n",
       "    </tr>\n",
       "    <tr>\n",
       "      <th>2</th>\n",
       "      <td>2019-01-01 00:07:16.755020</td>\n",
       "      <td>3685.75</td>\n",
       "      <td>1.5</td>\n",
       "      <td>0.047829</td>\n",
       "      <td>0.141124</td>\n",
       "      <td>0.107214</td>\n",
       "      <td>0.134755</td>\n",
       "      <td>0.172516</td>\n",
       "    </tr>\n",
       "    <tr>\n",
       "      <th>3</th>\n",
       "      <td>2019-01-01 00:09:06.675608</td>\n",
       "      <td>3684.75</td>\n",
       "      <td>0.5</td>\n",
       "      <td>0.047881</td>\n",
       "      <td>0.067677</td>\n",
       "      <td>0.100554</td>\n",
       "      <td>0.134776</td>\n",
       "      <td>0.152436</td>\n",
       "    </tr>\n",
       "    <tr>\n",
       "      <th>4</th>\n",
       "      <td>2019-01-01 00:09:59.772810</td>\n",
       "      <td>3685.00</td>\n",
       "      <td>1.0</td>\n",
       "      <td>0.239824</td>\n",
       "      <td>0.218008</td>\n",
       "      <td>0.188142</td>\n",
       "      <td>0.155171</td>\n",
       "      <td>0.181325</td>\n",
       "    </tr>\n",
       "  </tbody>\n",
       "</table>\n",
       "</div>"
      ],
      "text/plain": [
       "                     datetime  mid price  difference  volatility 2  \\\n",
       "0  2019-01-01 00:06:47.504952    3688.50         1.0      0.095788   \n",
       "1  2019-01-01 00:06:58.148842    3687.00         2.0      0.191719   \n",
       "2  2019-01-01 00:07:16.755020    3685.75         1.5      0.047829   \n",
       "3  2019-01-01 00:09:06.675608    3684.75         0.5      0.047881   \n",
       "4  2019-01-01 00:09:59.772810    3685.00         1.0      0.239824   \n",
       "\n",
       "   volatility 3  volatility 5  volatility 7  volatility 10  \n",
       "0      0.067732      0.113336      0.169047       0.199289  \n",
       "1      0.135566      0.151546      0.176670       0.202004  \n",
       "2      0.141124      0.107214      0.134755       0.172516  \n",
       "3      0.067677      0.100554      0.134776       0.152436  \n",
       "4      0.218008      0.188142      0.155171       0.181325  "
      ]
     },
     "execution_count": 30,
     "metadata": {},
     "output_type": "execute_result"
    }
   ],
   "source": [
    "df_volat = df_volat.dropna()\n",
    "df_volat.index = range(len(df_volat))\n",
    "df_volat.head()"
   ]
  },
  {
   "cell_type": "code",
   "execution_count": 31,
   "metadata": {},
   "outputs": [
    {
     "name": "stderr",
     "output_type": "stream",
     "text": [
      "100%|██████████| 3943343/3943343 [01:12<00:00, 54281.98it/s]"
     ]
    },
    {
     "name": "stdout",
     "output_type": "stream",
     "text": [
      "CPU times: user 1min 12s, sys: 132 ms, total: 1min 12s\n",
      "Wall time: 1min 12s\n"
     ]
    },
    {
     "name": "stderr",
     "output_type": "stream",
     "text": [
      "\n"
     ]
    }
   ],
   "source": [
    "%%time\n",
    "target = list()\n",
    "for i in tqdm(range(len(df_volat))):\n",
    "    if df_volat['difference'][i] <= 1.5:\n",
    "        target.append('low')\n",
    "    else:\n",
    "        target.append('high')\n",
    "df_volat['target'] = target"
   ]
  },
  {
   "cell_type": "code",
   "execution_count": 32,
   "metadata": {},
   "outputs": [
    {
     "data": {
      "text/html": [
       "<div>\n",
       "<style scoped>\n",
       "    .dataframe tbody tr th:only-of-type {\n",
       "        vertical-align: middle;\n",
       "    }\n",
       "\n",
       "    .dataframe tbody tr th {\n",
       "        vertical-align: top;\n",
       "    }\n",
       "\n",
       "    .dataframe thead th {\n",
       "        text-align: right;\n",
       "    }\n",
       "</style>\n",
       "<table border=\"1\" class=\"dataframe\">\n",
       "  <thead>\n",
       "    <tr style=\"text-align: right;\">\n",
       "      <th></th>\n",
       "      <th>datetime</th>\n",
       "      <th>mid price</th>\n",
       "      <th>difference</th>\n",
       "      <th>volatility 2</th>\n",
       "      <th>volatility 3</th>\n",
       "      <th>volatility 5</th>\n",
       "      <th>volatility 7</th>\n",
       "      <th>volatility 10</th>\n",
       "      <th>target</th>\n",
       "    </tr>\n",
       "  </thead>\n",
       "  <tbody>\n",
       "    <tr>\n",
       "      <th>0</th>\n",
       "      <td>2019-01-01 00:06:47.504952</td>\n",
       "      <td>3688.50</td>\n",
       "      <td>1.0</td>\n",
       "      <td>0.095788</td>\n",
       "      <td>0.067732</td>\n",
       "      <td>0.113336</td>\n",
       "      <td>0.169047</td>\n",
       "      <td>0.199289</td>\n",
       "      <td>low</td>\n",
       "    </tr>\n",
       "    <tr>\n",
       "      <th>1</th>\n",
       "      <td>2019-01-01 00:06:58.148842</td>\n",
       "      <td>3687.00</td>\n",
       "      <td>2.0</td>\n",
       "      <td>0.191719</td>\n",
       "      <td>0.135566</td>\n",
       "      <td>0.151546</td>\n",
       "      <td>0.176670</td>\n",
       "      <td>0.202004</td>\n",
       "      <td>high</td>\n",
       "    </tr>\n",
       "    <tr>\n",
       "      <th>2</th>\n",
       "      <td>2019-01-01 00:07:16.755020</td>\n",
       "      <td>3685.75</td>\n",
       "      <td>1.5</td>\n",
       "      <td>0.047829</td>\n",
       "      <td>0.141124</td>\n",
       "      <td>0.107214</td>\n",
       "      <td>0.134755</td>\n",
       "      <td>0.172516</td>\n",
       "      <td>low</td>\n",
       "    </tr>\n",
       "  </tbody>\n",
       "</table>\n",
       "</div>"
      ],
      "text/plain": [
       "                     datetime  mid price  difference  volatility 2  \\\n",
       "0  2019-01-01 00:06:47.504952    3688.50         1.0      0.095788   \n",
       "1  2019-01-01 00:06:58.148842    3687.00         2.0      0.191719   \n",
       "2  2019-01-01 00:07:16.755020    3685.75         1.5      0.047829   \n",
       "\n",
       "   volatility 3  volatility 5  volatility 7  volatility 10 target  \n",
       "0      0.067732      0.113336      0.169047       0.199289    low  \n",
       "1      0.135566      0.151546      0.176670       0.202004   high  \n",
       "2      0.141124      0.107214      0.134755       0.172516    low  "
      ]
     },
     "execution_count": 32,
     "metadata": {},
     "output_type": "execute_result"
    }
   ],
   "source": [
    "df_volat.head(3)"
   ]
  },
  {
   "cell_type": "code",
   "execution_count": 33,
   "metadata": {},
   "outputs": [
    {
     "data": {
      "text/plain": [
       "count    3.943343e+06\n",
       "mean     1.658611e-01\n",
       "std      3.040573e-01\n",
       "min      0.000000e+00\n",
       "25%      4.557686e-02\n",
       "50%      9.349331e-02\n",
       "75%      1.927651e-01\n",
       "max      8.764917e+01\n",
       "Name: volatility 3, dtype: float64"
      ]
     },
     "execution_count": 33,
     "metadata": {},
     "output_type": "execute_result"
    }
   ],
   "source": [
    "df_volat['volatility 3'].describe()"
   ]
  },
  {
   "cell_type": "code",
   "execution_count": 34,
   "metadata": {},
   "outputs": [
    {
     "data": {
      "text/plain": [
       "0.05393389932573242"
      ]
     },
     "execution_count": 34,
     "metadata": {},
     "output_type": "execute_result"
    }
   ],
   "source": [
    "df_volat['volatility 3'].quantile(0.3)"
   ]
  },
  {
   "cell_type": "code",
   "execution_count": 39,
   "metadata": {},
   "outputs": [
    {
     "data": {
      "text/plain": [
       "low     83.754986\n",
       "high    16.245014\n",
       "Name: target, dtype: float64"
      ]
     },
     "execution_count": 39,
     "metadata": {},
     "output_type": "execute_result"
    }
   ],
   "source": [
    "th = df_volat['volatility 10'].quantile(0.3)\n",
    "df_volat[df_volat['volatility 10']<=th]['target'].value_counts(normalize=True)*100"
   ]
  },
  {
   "cell_type": "code",
   "execution_count": 13,
   "metadata": {},
   "outputs": [
    {
     "name": "stdout",
     "output_type": "stream",
     "text": [
      "CPU times: user 8.33 s, sys: 1.96 ms, total: 8.33 s\n",
      "Wall time: 8.33 s\n"
     ]
    }
   ],
   "source": [
    "%%time\n",
    "windows = ['2','3','5','7','10',\n",
    "          ]\n",
    "for win in windows:\n",
    "    anomalies = list()\n",
    "    volatility = df_data[f'volatility {win}']\n",
    "    lbord, rbord = df_data[f'volatility {win}'].quantile(0.10), df_data[f'volatility {win}'].quantile(0.90)\n",
    "    for outlier in volatility:\n",
    "        if outlier > rbord:\n",
    "            anomalies.append('extreme high')\n",
    "        elif outlier < lbord:\n",
    "            anomalies.append('extreme low')\n",
    "        else:\n",
    "            anomalies.append('normal')\n",
    "    df_data[f'outlier {win}'] = anomalies"
   ]
  },
  {
   "cell_type": "code",
   "execution_count": 16,
   "metadata": {},
   "outputs": [
    {
     "data": {
      "text/html": [
       "<div>\n",
       "<style scoped>\n",
       "    .dataframe tbody tr th:only-of-type {\n",
       "        vertical-align: middle;\n",
       "    }\n",
       "\n",
       "    .dataframe tbody tr th {\n",
       "        vertical-align: top;\n",
       "    }\n",
       "\n",
       "    .dataframe thead th {\n",
       "        text-align: right;\n",
       "    }\n",
       "</style>\n",
       "<table border=\"1\" class=\"dataframe\">\n",
       "  <thead>\n",
       "    <tr style=\"text-align: right;\">\n",
       "      <th></th>\n",
       "      <th>datetime</th>\n",
       "      <th>open</th>\n",
       "      <th>low</th>\n",
       "      <th>high</th>\n",
       "      <th>close</th>\n",
       "      <th>volume</th>\n",
       "      <th>volatility 03</th>\n",
       "      <th>volatility 05</th>\n",
       "      <th>volatility 07</th>\n",
       "      <th>volatility 10</th>\n",
       "      <th>volatility 15</th>\n",
       "      <th>volatility 20</th>\n",
       "      <th>outlier 03</th>\n",
       "      <th>outlier 05</th>\n",
       "      <th>outlier 07</th>\n",
       "      <th>outlier 10</th>\n",
       "      <th>outlier 15</th>\n",
       "      <th>outlier 20</th>\n",
       "      <th>difference</th>\n",
       "    </tr>\n",
       "  </thead>\n",
       "  <tbody>\n",
       "    <tr>\n",
       "      <th>0</th>\n",
       "      <td>2019-01-01 00:19:44.218019</td>\n",
       "      <td>3689.0</td>\n",
       "      <td>3687.5</td>\n",
       "      <td>3689.0</td>\n",
       "      <td>3687.5</td>\n",
       "      <td>303729</td>\n",
       "      <td>0.234759</td>\n",
       "      <td>0.287578</td>\n",
       "      <td>0.310358</td>\n",
       "      <td>0.334924</td>\n",
       "      <td>0.284433</td>\n",
       "      <td>0.289274</td>\n",
       "      <td>normal</td>\n",
       "      <td>normal</td>\n",
       "      <td>normal</td>\n",
       "      <td>normal</td>\n",
       "      <td>normal</td>\n",
       "      <td>normal</td>\n",
       "      <td>1.5</td>\n",
       "    </tr>\n",
       "    <tr>\n",
       "      <th>1</th>\n",
       "      <td>2019-01-01 00:20:41.231962</td>\n",
       "      <td>3687.5</td>\n",
       "      <td>3686.5</td>\n",
       "      <td>3687.5</td>\n",
       "      <td>3686.5</td>\n",
       "      <td>224532</td>\n",
       "      <td>0.207050</td>\n",
       "      <td>0.191699</td>\n",
       "      <td>0.338697</td>\n",
       "      <td>0.296085</td>\n",
       "      <td>0.289320</td>\n",
       "      <td>0.291280</td>\n",
       "      <td>normal</td>\n",
       "      <td>normal</td>\n",
       "      <td>normal</td>\n",
       "      <td>normal</td>\n",
       "      <td>normal</td>\n",
       "      <td>normal</td>\n",
       "      <td>1.0</td>\n",
       "    </tr>\n",
       "    <tr>\n",
       "      <th>2</th>\n",
       "      <td>2019-01-01 00:23:06.890890</td>\n",
       "      <td>3686.5</td>\n",
       "      <td>3686.0</td>\n",
       "      <td>3686.5</td>\n",
       "      <td>3686.5</td>\n",
       "      <td>160235</td>\n",
       "      <td>0.207050</td>\n",
       "      <td>0.191699</td>\n",
       "      <td>0.256208</td>\n",
       "      <td>0.279017</td>\n",
       "      <td>0.289320</td>\n",
       "      <td>0.287027</td>\n",
       "      <td>normal</td>\n",
       "      <td>normal</td>\n",
       "      <td>normal</td>\n",
       "      <td>normal</td>\n",
       "      <td>normal</td>\n",
       "      <td>normal</td>\n",
       "      <td>0.5</td>\n",
       "    </tr>\n",
       "  </tbody>\n",
       "</table>\n",
       "</div>"
      ],
      "text/plain": [
       "                     datetime    open     low    high   close  volume  \\\n",
       "0  2019-01-01 00:19:44.218019  3689.0  3687.5  3689.0  3687.5  303729   \n",
       "1  2019-01-01 00:20:41.231962  3687.5  3686.5  3687.5  3686.5  224532   \n",
       "2  2019-01-01 00:23:06.890890  3686.5  3686.0  3686.5  3686.5  160235   \n",
       "\n",
       "   volatility 03  volatility 05  volatility 07  volatility 10  volatility 15  \\\n",
       "0       0.234759       0.287578       0.310358       0.334924       0.284433   \n",
       "1       0.207050       0.191699       0.338697       0.296085       0.289320   \n",
       "2       0.207050       0.191699       0.256208       0.279017       0.289320   \n",
       "\n",
       "   volatility 20 outlier 03 outlier 05 outlier 07 outlier 10 outlier 15  \\\n",
       "0       0.289274     normal     normal     normal     normal     normal   \n",
       "1       0.291280     normal     normal     normal     normal     normal   \n",
       "2       0.287027     normal     normal     normal     normal     normal   \n",
       "\n",
       "  outlier 20  difference  \n",
       "0     normal         1.5  \n",
       "1     normal         1.0  \n",
       "2     normal         0.5  "
      ]
     },
     "execution_count": 16,
     "metadata": {},
     "output_type": "execute_result"
    }
   ],
   "source": [
    "df_data.head(3)"
   ]
  },
  {
   "cell_type": "code",
   "execution_count": 47,
   "metadata": {},
   "outputs": [
    {
     "data": {
      "text/plain": [
       "3888875"
      ]
     },
     "execution_count": 47,
     "metadata": {},
     "output_type": "execute_result"
    },
    {
     "data": {
      "text/plain": [
       "1713770"
      ]
     },
     "execution_count": 47,
     "metadata": {},
     "output_type": "execute_result"
    }
   ],
   "source": [
    "len(df_data)\n",
    "len(df_data[df_data['difference'] <= 1])"
   ]
  },
  {
   "cell_type": "code",
   "execution_count": 48,
   "metadata": {},
   "outputs": [
    {
     "data": {
      "text/plain": [
       "0.44068528816174346"
      ]
     },
     "execution_count": 48,
     "metadata": {},
     "output_type": "execute_result"
    }
   ],
   "source": [
    "1713770/3888875"
   ]
  },
  {
   "cell_type": "code",
   "execution_count": 18,
   "metadata": {},
   "outputs": [
    {
     "data": {
      "text/plain": [
       "3888875"
      ]
     },
     "execution_count": 18,
     "metadata": {},
     "output_type": "execute_result"
    },
    {
     "data": {
      "text/plain": [
       "388888"
      ]
     },
     "execution_count": 18,
     "metadata": {},
     "output_type": "execute_result"
    },
    {
     "data": {
      "text/plain": [
       "2143355"
      ]
     },
     "execution_count": 18,
     "metadata": {},
     "output_type": "execute_result"
    }
   ],
   "source": [
    "len(df_data)\n",
    "len(df_data[df_data['outlier 03']=='extreme low'])\n",
    "len(df_data[df_data['target']=='low'])"
   ]
  },
  {
   "cell_type": "code",
   "execution_count": 19,
   "metadata": {},
   "outputs": [],
   "source": [
    "df_result = deepcopy(df_data[['datetime', 'close',\n",
    "                              'outlier 03', \n",
    "                              'outlier 05', 'outlier 07','outlier 10', 'outlier 15', 'outlier 20',\n",
    "                              'target'\n",
    "                             ]]\n",
    "                    )"
   ]
  },
  {
   "cell_type": "code",
   "execution_count": 38,
   "metadata": {},
   "outputs": [],
   "source": [
    "df_month = df_result[(df_result['datetime']>=\"2020-06-01\") & (df_result['datetime']<\"2020-10-01\")]"
   ]
  },
  {
   "cell_type": "code",
   "execution_count": 39,
   "metadata": {},
   "outputs": [
    {
     "data": {
      "text/plain": [
       "high    55.073955\n",
       "low     44.926045\n",
       "Name: target, dtype: float64"
      ]
     },
     "execution_count": 39,
     "metadata": {},
     "output_type": "execute_result"
    }
   ],
   "source": [
    "df_month['target'].value_counts(normalize=True)*100"
   ]
  },
  {
   "cell_type": "code",
   "execution_count": 43,
   "metadata": {},
   "outputs": [
    {
     "data": {
      "text/plain": [
       "low     84.990361\n",
       "high    15.009639\n",
       "Name: target, dtype: float64"
      ]
     },
     "execution_count": 43,
     "metadata": {},
     "output_type": "execute_result"
    }
   ],
   "source": [
    "df_month[df_month[f'outlier 05'] == 'extreme low']['target'].value_counts(normalize=True)*100"
   ]
  },
  {
   "cell_type": "code",
   "execution_count": 23,
   "metadata": {},
   "outputs": [
    {
     "data": {
      "text/html": [
       "<div>\n",
       "<style scoped>\n",
       "    .dataframe tbody tr th:only-of-type {\n",
       "        vertical-align: middle;\n",
       "    }\n",
       "\n",
       "    .dataframe tbody tr th {\n",
       "        vertical-align: top;\n",
       "    }\n",
       "\n",
       "    .dataframe thead th {\n",
       "        text-align: right;\n",
       "    }\n",
       "</style>\n",
       "<table border=\"1\" class=\"dataframe\">\n",
       "  <thead>\n",
       "    <tr style=\"text-align: right;\">\n",
       "      <th></th>\n",
       "      <th>datetime</th>\n",
       "      <th>close</th>\n",
       "      <th>outlier 03</th>\n",
       "      <th>outlier 05</th>\n",
       "      <th>outlier 07</th>\n",
       "      <th>outlier 10</th>\n",
       "      <th>outlier 15</th>\n",
       "      <th>outlier 20</th>\n",
       "      <th>target</th>\n",
       "    </tr>\n",
       "  </thead>\n",
       "  <tbody>\n",
       "    <tr>\n",
       "      <th>3654950</th>\n",
       "      <td>2020-08-01 00:00:04.926663</td>\n",
       "      <td>11362.0</td>\n",
       "      <td>normal</td>\n",
       "      <td>normal</td>\n",
       "      <td>normal</td>\n",
       "      <td>normal</td>\n",
       "      <td>normal</td>\n",
       "      <td>normal</td>\n",
       "      <td>high</td>\n",
       "    </tr>\n",
       "  </tbody>\n",
       "</table>\n",
       "</div>"
      ],
      "text/plain": [
       "                           datetime    close outlier 03 outlier 05 outlier 07  \\\n",
       "3654950  2020-08-01 00:00:04.926663  11362.0     normal     normal     normal   \n",
       "\n",
       "        outlier 10 outlier 15 outlier 20 target  \n",
       "3654950     normal     normal     normal   high  "
      ]
     },
     "execution_count": 23,
     "metadata": {},
     "output_type": "execute_result"
    }
   ],
   "source": [
    "df_month.head(1)"
   ]
  },
  {
   "cell_type": "code",
   "execution_count": 33,
   "metadata": {},
   "outputs": [
    {
     "data": {
      "text/plain": [
       "108523"
      ]
     },
     "execution_count": 33,
     "metadata": {},
     "output_type": "execute_result"
    },
    {
     "data": {
      "text/plain": [
       "5034"
      ]
     },
     "execution_count": 33,
     "metadata": {},
     "output_type": "execute_result"
    },
    {
     "data": {
      "text/plain": [
       "low     70.502336\n",
       "high    29.497664\n",
       "Name: target, dtype: float64"
      ]
     },
     "execution_count": 33,
     "metadata": {},
     "output_type": "execute_result"
    }
   ],
   "source": [
    "len(df_month)\n",
    "len(df_month[df_month[f'outlier 05'] == 'extreme low'])\n",
    "\n",
    "df_month[df_month[f'outlier 10'] == 'extreme low']['target'].value_counts(normalize=True)*100"
   ]
  },
  {
   "cell_type": "code",
   "execution_count": 17,
   "metadata": {},
   "outputs": [
    {
     "data": {
      "text/html": [
       "<div>\n",
       "<style scoped>\n",
       "    .dataframe tbody tr th:only-of-type {\n",
       "        vertical-align: middle;\n",
       "    }\n",
       "\n",
       "    .dataframe tbody tr th {\n",
       "        vertical-align: top;\n",
       "    }\n",
       "\n",
       "    .dataframe thead th {\n",
       "        text-align: right;\n",
       "    }\n",
       "</style>\n",
       "<table border=\"1\" class=\"dataframe\">\n",
       "  <thead>\n",
       "    <tr style=\"text-align: right;\">\n",
       "      <th></th>\n",
       "      <th>datetime</th>\n",
       "      <th>open</th>\n",
       "      <th>low</th>\n",
       "      <th>high</th>\n",
       "      <th>close</th>\n",
       "      <th>volume</th>\n",
       "      <th>volatility 03</th>\n",
       "      <th>volatility 05</th>\n",
       "      <th>volatility 07</th>\n",
       "      <th>volatility 10</th>\n",
       "      <th>volatility 15</th>\n",
       "      <th>volatility 20</th>\n",
       "      <th>outlier 03</th>\n",
       "      <th>outlier 05</th>\n",
       "      <th>outlier 07</th>\n",
       "      <th>outlier 10</th>\n",
       "      <th>outlier 15</th>\n",
       "      <th>outlier 20</th>\n",
       "    </tr>\n",
       "  </thead>\n",
       "  <tbody>\n",
       "    <tr>\n",
       "      <th>3655097</th>\n",
       "      <td>2020-08-01 00:26:58.021986</td>\n",
       "      <td>11291.5</td>\n",
       "      <td>11291.5</td>\n",
       "      <td>11295.0</td>\n",
       "      <td>11295.0</td>\n",
       "      <td>477819</td>\n",
       "      <td>0.044262</td>\n",
       "      <td>0.200560</td>\n",
       "      <td>0.200489</td>\n",
       "      <td>0.360328</td>\n",
       "      <td>0.448362</td>\n",
       "      <td>0.453464</td>\n",
       "      <td>normal</td>\n",
       "      <td>normal</td>\n",
       "      <td>normal</td>\n",
       "      <td>normal</td>\n",
       "      <td>normal</td>\n",
       "      <td>normal</td>\n",
       "    </tr>\n",
       "    <tr>\n",
       "      <th>3655098</th>\n",
       "      <td>2020-08-01 00:27:47.451965</td>\n",
       "      <td>11295.0</td>\n",
       "      <td>11294.5</td>\n",
       "      <td>11295.0</td>\n",
       "      <td>11295.0</td>\n",
       "      <td>293199</td>\n",
       "      <td>0.193060</td>\n",
       "      <td>0.152147</td>\n",
       "      <td>0.200489</td>\n",
       "      <td>0.312971</td>\n",
       "      <td>0.415780</td>\n",
       "      <td>0.440180</td>\n",
       "      <td>normal</td>\n",
       "      <td>normal</td>\n",
       "      <td>normal</td>\n",
       "      <td>normal</td>\n",
       "      <td>normal</td>\n",
       "      <td>normal</td>\n",
       "    </tr>\n",
       "    <tr>\n",
       "      <th>3655099</th>\n",
       "      <td>2020-08-01 00:28:26.680962</td>\n",
       "      <td>11295.0</td>\n",
       "      <td>11294.5</td>\n",
       "      <td>11295.0</td>\n",
       "      <td>11295.0</td>\n",
       "      <td>342774</td>\n",
       "      <td>0.178960</td>\n",
       "      <td>0.172689</td>\n",
       "      <td>0.185177</td>\n",
       "      <td>0.319474</td>\n",
       "      <td>0.398057</td>\n",
       "      <td>0.430567</td>\n",
       "      <td>normal</td>\n",
       "      <td>normal</td>\n",
       "      <td>normal</td>\n",
       "      <td>normal</td>\n",
       "      <td>normal</td>\n",
       "      <td>normal</td>\n",
       "    </tr>\n",
       "    <tr>\n",
       "      <th>3655100</th>\n",
       "      <td>2020-08-01 00:28:56.482583</td>\n",
       "      <td>11294.5</td>\n",
       "      <td>11294.5</td>\n",
       "      <td>11295.0</td>\n",
       "      <td>11295.0</td>\n",
       "      <td>413645</td>\n",
       "      <td>0.000002</td>\n",
       "      <td>0.182614</td>\n",
       "      <td>0.159116</td>\n",
       "      <td>0.186166</td>\n",
       "      <td>0.386760</td>\n",
       "      <td>0.417573</td>\n",
       "      <td>extreme low</td>\n",
       "      <td>normal</td>\n",
       "      <td>normal</td>\n",
       "      <td>normal</td>\n",
       "      <td>normal</td>\n",
       "      <td>normal</td>\n",
       "    </tr>\n",
       "    <tr>\n",
       "      <th>3655101</th>\n",
       "      <td>2020-08-01 00:29:55.909229</td>\n",
       "      <td>11295.0</td>\n",
       "      <td>11294.5</td>\n",
       "      <td>11295.0</td>\n",
       "      <td>11295.0</td>\n",
       "      <td>240320</td>\n",
       "      <td>0.000002</td>\n",
       "      <td>0.138622</td>\n",
       "      <td>0.167695</td>\n",
       "      <td>0.186166</td>\n",
       "      <td>0.355567</td>\n",
       "      <td>0.410724</td>\n",
       "      <td>extreme low</td>\n",
       "      <td>normal</td>\n",
       "      <td>normal</td>\n",
       "      <td>normal</td>\n",
       "      <td>normal</td>\n",
       "      <td>normal</td>\n",
       "    </tr>\n",
       "  </tbody>\n",
       "</table>\n",
       "</div>"
      ],
      "text/plain": [
       "                           datetime     open      low     high    close  \\\n",
       "3655097  2020-08-01 00:26:58.021986  11291.5  11291.5  11295.0  11295.0   \n",
       "3655098  2020-08-01 00:27:47.451965  11295.0  11294.5  11295.0  11295.0   \n",
       "3655099  2020-08-01 00:28:26.680962  11295.0  11294.5  11295.0  11295.0   \n",
       "3655100  2020-08-01 00:28:56.482583  11294.5  11294.5  11295.0  11295.0   \n",
       "3655101  2020-08-01 00:29:55.909229  11295.0  11294.5  11295.0  11295.0   \n",
       "\n",
       "         volume  volatility 03  volatility 05  volatility 07  volatility 10  \\\n",
       "3655097  477819       0.044262       0.200560       0.200489       0.360328   \n",
       "3655098  293199       0.193060       0.152147       0.200489       0.312971   \n",
       "3655099  342774       0.178960       0.172689       0.185177       0.319474   \n",
       "3655100  413645       0.000002       0.182614       0.159116       0.186166   \n",
       "3655101  240320       0.000002       0.138622       0.167695       0.186166   \n",
       "\n",
       "         volatility 15  volatility 20   outlier 03 outlier 05 outlier 07  \\\n",
       "3655097       0.448362       0.453464       normal     normal     normal   \n",
       "3655098       0.415780       0.440180       normal     normal     normal   \n",
       "3655099       0.398057       0.430567       normal     normal     normal   \n",
       "3655100       0.386760       0.417573  extreme low     normal     normal   \n",
       "3655101       0.355567       0.410724  extreme low     normal     normal   \n",
       "\n",
       "        outlier 10 outlier 15 outlier 20  \n",
       "3655097     normal     normal     normal  \n",
       "3655098     normal     normal     normal  \n",
       "3655099     normal     normal     normal  \n",
       "3655100     normal     normal     normal  \n",
       "3655101     normal     normal     normal  "
      ]
     },
     "execution_count": 17,
     "metadata": {},
     "output_type": "execute_result"
    }
   ],
   "source": [
    "df_data[3655100-3:3655100+2]"
   ]
  },
  {
   "cell_type": "markdown",
   "metadata": {},
   "source": [
    "### Построение графика"
   ]
  },
  {
   "cell_type": "code",
   "execution_count": 19,
   "metadata": {},
   "outputs": [],
   "source": [
    "# Построение графиков\n",
    "def show_plot_plotly(df_data:pd.DataFrame,\n",
    "                     left_border,\n",
    "                     right_border,\n",
    "                     x_,\n",
    "                     y_,\n",
    "                     color_:str,\n",
    "                     title_:str,             \n",
    "             ):  \n",
    "    fig = px.scatter(df_data[left_border:right_border], \n",
    "                 x=x_, \n",
    "                 y=y_, \n",
    "                 color=color_, \n",
    "                 color_discrete_sequence=['dodgerblue','limegreen','tomato'],\n",
    "                 title=title_\n",
    "                )    \n",
    "    return fig"
   ]
  },
  {
   "cell_type": "code",
   "execution_count": 20,
   "metadata": {},
   "outputs": [
    {
     "data": {
      "text/html": [
       "<div>\n",
       "<style scoped>\n",
       "    .dataframe tbody tr th:only-of-type {\n",
       "        vertical-align: middle;\n",
       "    }\n",
       "\n",
       "    .dataframe tbody tr th {\n",
       "        vertical-align: top;\n",
       "    }\n",
       "\n",
       "    .dataframe thead th {\n",
       "        text-align: right;\n",
       "    }\n",
       "</style>\n",
       "<table border=\"1\" class=\"dataframe\">\n",
       "  <thead>\n",
       "    <tr style=\"text-align: right;\">\n",
       "      <th></th>\n",
       "      <th>datetime</th>\n",
       "      <th>close</th>\n",
       "      <th>outlier 03</th>\n",
       "      <th>outlier 05</th>\n",
       "      <th>outlier 07</th>\n",
       "      <th>outlier 10</th>\n",
       "      <th>outlier 15</th>\n",
       "      <th>outlier 20</th>\n",
       "    </tr>\n",
       "  </thead>\n",
       "  <tbody>\n",
       "    <tr>\n",
       "      <th>0</th>\n",
       "      <td>2019-01-01 00:19:44.218019</td>\n",
       "      <td>3687.5</td>\n",
       "      <td>normal</td>\n",
       "      <td>normal</td>\n",
       "      <td>normal</td>\n",
       "      <td>normal</td>\n",
       "      <td>normal</td>\n",
       "      <td>normal</td>\n",
       "    </tr>\n",
       "    <tr>\n",
       "      <th>1</th>\n",
       "      <td>2019-01-01 00:20:41.231962</td>\n",
       "      <td>3686.5</td>\n",
       "      <td>normal</td>\n",
       "      <td>normal</td>\n",
       "      <td>normal</td>\n",
       "      <td>normal</td>\n",
       "      <td>normal</td>\n",
       "      <td>normal</td>\n",
       "    </tr>\n",
       "  </tbody>\n",
       "</table>\n",
       "</div>"
      ],
      "text/plain": [
       "                     datetime   close outlier 03 outlier 05 outlier 07  \\\n",
       "0  2019-01-01 00:19:44.218019  3687.5     normal     normal     normal   \n",
       "1  2019-01-01 00:20:41.231962  3686.5     normal     normal     normal   \n",
       "\n",
       "  outlier 10 outlier 15 outlier 20  \n",
       "0     normal     normal     normal  \n",
       "1     normal     normal     normal  "
      ]
     },
     "execution_count": 20,
     "metadata": {},
     "output_type": "execute_result"
    }
   ],
   "source": [
    "df_result.head(2)"
   ]
  },
  {
   "cell_type": "code",
   "execution_count": 21,
   "metadata": {},
   "outputs": [
    {
     "data": {
      "text/plain": [
       "'/home/brainiac/Vlad/Fixed Volat 03.html'"
      ]
     },
     "execution_count": 21,
     "metadata": {},
     "output_type": "execute_result"
    }
   ],
   "source": [
    "win = '03'\n",
    "df_month = df_result[(df_result['datetime']>=\"2020-08-01\") & (df_result['datetime']<\"2020-09-01\")]\n",
    "\n",
    "fig = show_plot_plotly(df_data=df_month,\n",
    "                       left_border = 0,\n",
    "                       right_border=len(df_month),\n",
    "                       x_='datetime',\n",
    "                       y_='close',\n",
    "                       color_=f'outlier {win}',\n",
    "                       title_=f'outlier {win}',\n",
    "                      )\n",
    "plotly.offline.plot(fig,filename=f'/home/brainiac/Vlad/Fixed Volat {win}.html')"
   ]
  },
  {
   "cell_type": "code",
   "execution_count": 41,
   "metadata": {},
   "outputs": [],
   "source": [
    "# df_result[(df_result['datetime']>=\"2020-05-01\") & \n",
    "#           (df_result['datetime']<\"2020-06-01\")][['datetime','regimes']].to_csv('/home/brainiac/Vlad/2020_05.csv',index=False)"
   ]
  },
  {
   "cell_type": "code",
   "execution_count": 24,
   "metadata": {},
   "outputs": [
    {
     "data": {
      "text/html": [
       "<div>\n",
       "<style scoped>\n",
       "    .dataframe tbody tr th:only-of-type {\n",
       "        vertical-align: middle;\n",
       "    }\n",
       "\n",
       "    .dataframe tbody tr th {\n",
       "        vertical-align: top;\n",
       "    }\n",
       "\n",
       "    .dataframe thead th {\n",
       "        text-align: right;\n",
       "    }\n",
       "</style>\n",
       "<table border=\"1\" class=\"dataframe\">\n",
       "  <thead>\n",
       "    <tr style=\"text-align: right;\">\n",
       "      <th></th>\n",
       "      <th>datetime</th>\n",
       "      <th>close</th>\n",
       "      <th>outlier 03</th>\n",
       "      <th>outlier 05</th>\n",
       "      <th>outlier 07</th>\n",
       "      <th>outlier 10</th>\n",
       "      <th>outlier 15</th>\n",
       "      <th>outlier 20</th>\n",
       "    </tr>\n",
       "  </thead>\n",
       "  <tbody>\n",
       "    <tr>\n",
       "      <th>522119</th>\n",
       "      <td>2020-08-01 00:00:36.205894</td>\n",
       "      <td>11372.5</td>\n",
       "      <td>normal</td>\n",
       "      <td>normal</td>\n",
       "      <td>normal</td>\n",
       "      <td>normal</td>\n",
       "      <td>normal</td>\n",
       "      <td>normal</td>\n",
       "    </tr>\n",
       "  </tbody>\n",
       "</table>\n",
       "</div>"
      ],
      "text/plain": [
       "                          datetime    close outlier 03 outlier 05 outlier 07  \\\n",
       "522119  2020-08-01 00:00:36.205894  11372.5     normal     normal     normal   \n",
       "\n",
       "       outlier 10 outlier 15 outlier 20  \n",
       "522119     normal     normal     normal  "
      ]
     },
     "execution_count": 24,
     "metadata": {},
     "output_type": "execute_result"
    }
   ],
   "source": [
    "df_month = df_result[(df_result['datetime']>=\"2020-08-01\") & (df_result['datetime']<\"2020-09-01\")]\n",
    "df_month.head(1)"
   ]
  },
  {
   "cell_type": "code",
   "execution_count": 22,
   "metadata": {},
   "outputs": [
    {
     "data": {
      "text/plain": [
       "106448"
      ]
     },
     "execution_count": 22,
     "metadata": {},
     "output_type": "execute_result"
    },
    {
     "data": {
      "text/plain": [
       "857"
      ]
     },
     "execution_count": 22,
     "metadata": {},
     "output_type": "execute_result"
    }
   ],
   "source": [
    "len(df_month[df_month['outlier 03']=='normal'])\n",
    "len(df_month[df_month['outlier 03']=='extreme low'])"
   ]
  },
  {
   "cell_type": "code",
   "execution_count": 24,
   "metadata": {},
   "outputs": [
    {
     "data": {
      "text/plain": [
       "0.8287475966319697"
      ]
     },
     "execution_count": 24,
     "metadata": {},
     "output_type": "execute_result"
    }
   ],
   "source": [
    "125/15083*100"
   ]
  },
  {
   "cell_type": "code",
   "execution_count": 25,
   "metadata": {},
   "outputs": [
    {
     "data": {
      "text/plain": [
       "0.805087930257027"
      ]
     },
     "execution_count": 25,
     "metadata": {},
     "output_type": "execute_result"
    }
   ],
   "source": [
    "857/106448*100"
   ]
  },
  {
   "cell_type": "code",
   "execution_count": 26,
   "metadata": {},
   "outputs": [
    {
     "data": {
      "text/plain": [
       "0.023659666374942767"
      ]
     },
     "execution_count": 26,
     "metadata": {},
     "output_type": "execute_result"
    }
   ],
   "source": [
    "0.8287475966319697 - 0.805087930257027"
   ]
  },
  {
   "cell_type": "code",
   "execution_count": null,
   "metadata": {},
   "outputs": [],
   "source": []
  }
 ],
 "metadata": {
  "kernelspec": {
   "display_name": "Python 3",
   "language": "python",
   "name": "python3"
  },
  "language_info": {
   "codemirror_mode": {
    "name": "ipython",
    "version": 3
   },
   "file_extension": ".py",
   "mimetype": "text/x-python",
   "name": "python",
   "nbconvert_exporter": "python",
   "pygments_lexer": "ipython3",
   "version": "3.8.5"
  }
 },
 "nbformat": 4,
 "nbformat_minor": 4
}
