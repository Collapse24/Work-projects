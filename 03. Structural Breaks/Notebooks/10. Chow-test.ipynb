{
 "cells": [
  {
   "cell_type": "code",
   "execution_count": 9,
   "metadata": {},
   "outputs": [],
   "source": [
    "import scipy\n",
    "import numpy as np\n",
    "import pandas as pd\n",
    "import statsmodels.api as sm"
   ]
  },
  {
   "cell_type": "code",
   "execution_count": 10,
   "metadata": {},
   "outputs": [],
   "source": [
    "from linearmodels.datasets import meps\n",
    "import pandas as pd"
   ]
  },
  {
   "cell_type": "code",
   "execution_count": 11,
   "metadata": {},
   "outputs": [],
   "source": [
    "data = meps.load()\n",
    "data = data.dropna()"
   ]
  },
  {
   "cell_type": "code",
   "execution_count": 12,
   "metadata": {},
   "outputs": [
    {
     "data": {
      "text/html": [
       "<div>\n",
       "<style scoped>\n",
       "    .dataframe tbody tr th:only-of-type {\n",
       "        vertical-align: middle;\n",
       "    }\n",
       "\n",
       "    .dataframe tbody tr th {\n",
       "        vertical-align: top;\n",
       "    }\n",
       "\n",
       "    .dataframe thead th {\n",
       "        text-align: right;\n",
       "    }\n",
       "</style>\n",
       "<table border=\"1\" class=\"dataframe\">\n",
       "  <thead>\n",
       "    <tr style=\"text-align: right;\">\n",
       "      <th></th>\n",
       "      <th>ssiratio</th>\n",
       "      <th>age</th>\n",
       "      <th>educyr</th>\n",
       "      <th>drugexp</th>\n",
       "      <th>private</th>\n",
       "      <th>female</th>\n",
       "      <th>hisp</th>\n",
       "      <th>marry</th>\n",
       "      <th>vegood</th>\n",
       "      <th>good</th>\n",
       "      <th>...</th>\n",
       "      <th>priolist</th>\n",
       "      <th>totchr</th>\n",
       "      <th>black</th>\n",
       "      <th>hi_empunion</th>\n",
       "      <th>ldrugexp</th>\n",
       "      <th>age2</th>\n",
       "      <th>linc</th>\n",
       "      <th>vgh</th>\n",
       "      <th>fph</th>\n",
       "      <th>blhisp</th>\n",
       "    </tr>\n",
       "  </thead>\n",
       "  <tbody>\n",
       "    <tr>\n",
       "      <th>0</th>\n",
       "      <td>0.149877</td>\n",
       "      <td>74</td>\n",
       "      <td>16</td>\n",
       "      <td>595</td>\n",
       "      <td>1</td>\n",
       "      <td>1</td>\n",
       "      <td>0</td>\n",
       "      <td>1</td>\n",
       "      <td>0</td>\n",
       "      <td>1</td>\n",
       "      <td>...</td>\n",
       "      <td>1</td>\n",
       "      <td>0</td>\n",
       "      <td>0</td>\n",
       "      <td>1</td>\n",
       "      <td>6.388561</td>\n",
       "      <td>5476.0</td>\n",
       "      <td>4.549085</td>\n",
       "      <td>1.0</td>\n",
       "      <td>0.0</td>\n",
       "      <td>0.0</td>\n",
       "    </tr>\n",
       "    <tr>\n",
       "      <th>1</th>\n",
       "      <td>0.395856</td>\n",
       "      <td>73</td>\n",
       "      <td>8</td>\n",
       "      <td>1783</td>\n",
       "      <td>1</td>\n",
       "      <td>0</td>\n",
       "      <td>0</td>\n",
       "      <td>1</td>\n",
       "      <td>0</td>\n",
       "      <td>1</td>\n",
       "      <td>...</td>\n",
       "      <td>1</td>\n",
       "      <td>3</td>\n",
       "      <td>0</td>\n",
       "      <td>1</td>\n",
       "      <td>7.486053</td>\n",
       "      <td>5329.0</td>\n",
       "      <td>3.577847</td>\n",
       "      <td>1.0</td>\n",
       "      <td>0.0</td>\n",
       "      <td>0.0</td>\n",
       "    </tr>\n",
       "    <tr>\n",
       "      <th>2</th>\n",
       "      <td>1.000000</td>\n",
       "      <td>80</td>\n",
       "      <td>12</td>\n",
       "      <td>176</td>\n",
       "      <td>0</td>\n",
       "      <td>1</td>\n",
       "      <td>0</td>\n",
       "      <td>0</td>\n",
       "      <td>0</td>\n",
       "      <td>0</td>\n",
       "      <td>...</td>\n",
       "      <td>1</td>\n",
       "      <td>1</td>\n",
       "      <td>0</td>\n",
       "      <td>0</td>\n",
       "      <td>5.170484</td>\n",
       "      <td>6400.0</td>\n",
       "      <td>2.261763</td>\n",
       "      <td>0.0</td>\n",
       "      <td>0.0</td>\n",
       "      <td>0.0</td>\n",
       "    </tr>\n",
       "    <tr>\n",
       "      <th>3</th>\n",
       "      <td>0.206639</td>\n",
       "      <td>70</td>\n",
       "      <td>17</td>\n",
       "      <td>2437</td>\n",
       "      <td>1</td>\n",
       "      <td>0</td>\n",
       "      <td>0</td>\n",
       "      <td>1</td>\n",
       "      <td>0</td>\n",
       "      <td>1</td>\n",
       "      <td>...</td>\n",
       "      <td>1</td>\n",
       "      <td>5</td>\n",
       "      <td>0</td>\n",
       "      <td>1</td>\n",
       "      <td>7.798523</td>\n",
       "      <td>4900.0</td>\n",
       "      <td>3.656221</td>\n",
       "      <td>1.0</td>\n",
       "      <td>0.0</td>\n",
       "      <td>0.0</td>\n",
       "    </tr>\n",
       "    <tr>\n",
       "      <th>4</th>\n",
       "      <td>0.537192</td>\n",
       "      <td>91</td>\n",
       "      <td>16</td>\n",
       "      <td>330</td>\n",
       "      <td>0</td>\n",
       "      <td>0</td>\n",
       "      <td>0</td>\n",
       "      <td>1</td>\n",
       "      <td>1</td>\n",
       "      <td>0</td>\n",
       "      <td>...</td>\n",
       "      <td>1</td>\n",
       "      <td>3</td>\n",
       "      <td>0</td>\n",
       "      <td>0</td>\n",
       "      <td>5.799093</td>\n",
       "      <td>8281.0</td>\n",
       "      <td>2.166193</td>\n",
       "      <td>1.0</td>\n",
       "      <td>0.0</td>\n",
       "      <td>0.0</td>\n",
       "    </tr>\n",
       "  </tbody>\n",
       "</table>\n",
       "<p>5 rows × 29 columns</p>\n",
       "</div>"
      ],
      "text/plain": [
       "   ssiratio  age  educyr  drugexp  private  female  hisp  marry  vegood  good  \\\n",
       "0  0.149877   74      16      595        1       1     0      1       0     1   \n",
       "1  0.395856   73       8     1783        1       0     0      1       0     1   \n",
       "2  1.000000   80      12      176        0       1     0      0       0     0   \n",
       "3  0.206639   70      17     2437        1       0     0      1       0     1   \n",
       "4  0.537192   91      16      330        0       0     0      1       1     0   \n",
       "\n",
       "   ...  priolist  totchr  black  hi_empunion  ldrugexp    age2      linc  vgh  \\\n",
       "0  ...         1       0      0            1  6.388561  5476.0  4.549085  1.0   \n",
       "1  ...         1       3      0            1  7.486053  5329.0  3.577847  1.0   \n",
       "2  ...         1       1      0            0  5.170484  6400.0  2.261763  0.0   \n",
       "3  ...         1       5      0            1  7.798523  4900.0  3.656221  1.0   \n",
       "4  ...         1       3      0            0  5.799093  8281.0  2.166193  1.0   \n",
       "\n",
       "   fph  blhisp  \n",
       "0  0.0     0.0  \n",
       "1  0.0     0.0  \n",
       "2  0.0     0.0  \n",
       "3  0.0     0.0  \n",
       "4  0.0     0.0  \n",
       "\n",
       "[5 rows x 29 columns]"
      ]
     },
     "execution_count": 12,
     "metadata": {},
     "output_type": "execute_result"
    }
   ],
   "source": [
    "data.head()"
   ]
  },
  {
   "cell_type": "code",
   "execution_count": 13,
   "metadata": {},
   "outputs": [],
   "source": [
    "data = sm.add_constant(data)"
   ]
  },
  {
   "cell_type": "code",
   "execution_count": 14,
   "metadata": {},
   "outputs": [],
   "source": [
    "y = data.income\n",
    "X = data.drop('income',axis=1)"
   ]
  },
  {
   "cell_type": "code",
   "execution_count": 18,
   "metadata": {},
   "outputs": [],
   "source": [
    "model_dummy = sm.OLS(y,X).fit()\n",
    "RSSd = model_dummy.ssr"
   ]
  },
  {
   "cell_type": "code",
   "execution_count": 31,
   "metadata": {},
   "outputs": [],
   "source": [
    "import matplotlib.pyplot as plt\n",
    "import ruptures as rpt"
   ]
  },
  {
   "cell_type": "code",
   "execution_count": 53,
   "metadata": {},
   "outputs": [],
   "source": [
    "path = '/home/brainiac/Vlad/Git Files/CryptoLp DataScience/DataSets/'\n",
    "file = '2019_2020_t100_Close'\n",
    "df_data = pd.read_csv(path+file+'.csv')\n",
    "#df_data= df_data[(df_data['datetime']>=\"2020-01-01\")]\n",
    "df_data = df_data[(df_data['datetime']>=\"2020-02-01\") & (df_data['datetime'] < \"2020-03-01\")]\n",
    "df_data = df_data.dropna()\n",
    "df_data.index = range(len(df_data))\n",
    "df_data = df_data[:10000]"
   ]
  },
  {
   "cell_type": "code",
   "execution_count": 56,
   "metadata": {},
   "outputs": [],
   "source": [
    "algo = rpt.Pelt(model=\"rbf\").fit(df_data['close'].values)\n",
    "result = algo.predict(pen=20)"
   ]
  },
  {
   "cell_type": "code",
   "execution_count": 58,
   "metadata": {},
   "outputs": [
    {
     "data": {
      "text/plain": [
       "(<Figure size 720x144 with 1 Axes>,\n",
       " [<matplotlib.axes._subplots.AxesSubplot at 0x7f77e8bb76d0>])"
      ]
     },
     "execution_count": 58,
     "metadata": {},
     "output_type": "execute_result"
    },
    {
     "data": {
      "image/png": "[encoded data removed]",
      "text/plain": [
       "<Figure size 720x144 with 1 Axes>"
      ]
     },
     "metadata": {
      "needs_background": "light"
     },
     "output_type": "display_data"
    }
   ],
   "source": [
    "rpt.display(df_data['close'].values, result)\n"
   ]
  },
  {
   "cell_type": "code",
   "execution_count": null,
   "metadata": {},
   "outputs": [],
   "source": []
  }
 ],
 "metadata": {
  "kernelspec": {
   "display_name": "Python 3",
   "language": "python",
   "name": "python3"
  },
  "language_info": {
   "codemirror_mode": {
    "name": "ipython",
    "version": 3
   },
   "file_extension": ".py",
   "mimetype": "text/x-python",
   "name": "python",
   "nbconvert_exporter": "python",
   "pygments_lexer": "ipython3",
   "version": "3.7.6"
  }
 },
 "nbformat": 4,
 "nbformat_minor": 4
}
