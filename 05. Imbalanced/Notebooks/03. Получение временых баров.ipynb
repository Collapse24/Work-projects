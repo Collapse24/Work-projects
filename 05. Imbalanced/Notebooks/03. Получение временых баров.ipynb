{
 "cells": [
  {
   "cell_type": "code",
   "execution_count": 1,
   "metadata": {},
   "outputs": [
    {
     "data": {
      "text/html": [
       "        <script type=\"text/javascript\">\n",
       "        window.PlotlyConfig = {MathJaxConfig: 'local'};\n",
       "        if (window.MathJax) {MathJax.Hub.Config({SVG: {font: \"STIX-Web\"}});}\n",
       "        if (typeof require !== 'undefined') {\n",
       "        require.undef(\"plotly\");\n",
       "        requirejs.config({\n",
       "            paths: {\n",
       "                'plotly': ['https://cdn.plot.ly/plotly-latest.min']\n",
       "            }\n",
       "        });\n",
       "        require(['plotly'], function(Plotly) {\n",
       "            window._Plotly = Plotly;\n",
       "        });\n",
       "        }\n",
       "        </script>\n",
       "        "
      ]
     },
     "metadata": {},
     "output_type": "display_data"
    }
   ],
   "source": [
    "import os\n",
    "import numpy as np\n",
    "import pandas as pd\n",
    "from tqdm import tqdm\n",
    "from copy import deepcopy\n",
    "from datetime import timedelta\n",
    "\n",
    "import plotly.offline\n",
    "import cufflinks as cf\n",
    "import plotly.express as px\n",
    "from plotly.offline import iplot\n",
    "import plotly.graph_objects as go\n",
    "from IPython.core.interactiveshell import InteractiveShell\n",
    "\n",
    "cf.go_offline()\n",
    "cf.set_config_file(offline=False, world_readable=True)\n",
    "InteractiveShell.ast_node_interactivity = \"all\""
   ]
  },
  {
   "cell_type": "code",
   "execution_count": 2,
   "metadata": {},
   "outputs": [],
   "source": [
    "# def make_date(year: str, month: str, day: str, time: str):\n",
    "#     return f'{year}-{month}-{day} {time[:-1]}'\n",
    "\n",
    "# main_df = pd.DataFrame()\n",
    "# for file in tqdm(files):\n",
    "#     df = pd.read_csv(f'{path}/{file}')\n",
    "#     year = file[:4]\n",
    "#     month = file[4:6]\n",
    "#     day = file[6:8]\n",
    "#     df['datetime'] = df['datetime'].apply(lambda x: make_date(year, month, day, x))\n",
    "#     #main_df = pd.concat([main_df, df])\n",
    "#     df.to_csv(f'/home/vlad/HDD/GIT/CryptoLp DataScience/Projects/05. Imbalanced/BTCUSDT/BINANCE/Data/{file}.csv',index=False)"
   ]
  },
  {
   "cell_type": "code",
   "execution_count": 3,
   "metadata": {},
   "outputs": [],
   "source": [
    "def get_columns_indexes(orderbook_levels: int, needed_orderbook_levels: int):\n",
    "    columns = []\n",
    "    for i in range(2, 4):\n",
    "        for j in range(orderbook_levels):\n",
    "            if j < needed_orderbook_levels:\n",
    "                columns.append(j + (i * orderbook_levels))\n",
    "    columns.append(orderbook_levels * 4)\n",
    "    \n",
    "    return columns"
   ]
  },
  {
   "cell_type": "code",
   "execution_count": 4,
   "metadata": {},
   "outputs": [],
   "source": [
    "path = '/home/vlad/HDD/GIT/CryptoLp DataScience/Projects/05. Imbalanced/BTCUSDT/BINANCE/Data'\n",
    "files = sorted(os.listdir(path))"
   ]
  },
  {
   "cell_type": "code",
   "execution_count": 5,
   "metadata": {},
   "outputs": [
    {
     "name": "stderr",
     "output_type": "stream",
     "text": [
      "100%|██████████| 31/31 [10:04<00:00, 19.50s/it]\n"
     ]
    }
   ],
   "source": [
    "for file in tqdm(sorted(os.listdir(f'{path}'))):\n",
    "    df = pd.read_csv(f'{path}/{file}')\n",
    "    orderbook_levels = 30\n",
    "    freq = '1s' \n",
    "    columns = get_columns_indexes(orderbook_levels, orderbook_levels)\n",
    "    mid_price = (df['ask_0_price']+df['bid_0_price'])/2\n",
    "    df = df.iloc[:, columns]\n",
    "    df['mid_price'] = mid_price\n",
    "    df = df[df['mid_price'] > 0]\n",
    "    df.index = df['datetime'].values\n",
    "    df['datetime'] = pd.to_datetime(df['datetime'])\n",
    "    df_Bt_bars = pd.DataFrame(columns=['datetime','Mean price',])\n",
    "    df_Bt_bars['datetime'] = df.groupby(pd.Grouper(key='datetime', freq=freq)).last().index\n",
    "    df_Bt_bars['Mean price'] = df.groupby(pd.Grouper(key='datetime', freq=freq)).last()['mid_price'].values\n",
    "    for i in range(2):\n",
    "        for j in range(orderbook_levels):\n",
    "            if i == 0:\n",
    "                df_Bt_bars[f'bid_{j}_size'] = df.groupby(pd.Grouper(key='datetime', freq=freq)).sum()[f'bid_{j}_size'].values\n",
    "            elif i == 1:\n",
    "                df_Bt_bars[f'ask_{j}_size'] = df.groupby(pd.Grouper(key='datetime', freq=freq)).sum()[f'ask_{j}_size'].values\n",
    "                \n",
    "    filename = file[:-4]\n",
    "    df_Bt_bars.to_csv(f'/home/vlad/HDD/GIT/CryptoLp DataScience/Projects/05. Imbalanced/BTCUSDT/BINANCE/Bars/{file}',index=False)"
   ]
  },
  {
   "cell_type": "code",
   "execution_count": 16,
   "metadata": {},
   "outputs": [
    {
     "name": "stdout",
     "output_type": "stream",
     "text": [
      "20201201.csv\n",
      "20201202.csv\n",
      "20201203.csv\n",
      "20201204.csv\n",
      "20201205.csv\n",
      "20201206.csv\n",
      "20201207.csv\n",
      "20201208.csv\n",
      "20201209.csv\n",
      "20201210.csv\n",
      "20201211.csv\n",
      "20201212.csv\n",
      "20201213.csv\n",
      "20201214.csv\n",
      "20201215.csv\n",
      "20201216.csv\n",
      "20201217.csv\n",
      "20201218.csv\n",
      "20201219.csv\n",
      "20201220.csv\n",
      "20201221.csv\n",
      "20201222.csv\n",
      "20201223.csv\n",
      "20201224.csv\n",
      "20201225.csv\n",
      "20201226.csv\n",
      "20201227.csv\n",
      "20201228.csv\n",
      "20201229.csv\n",
      "20201230.csv\n",
      "20201231.csv\n"
     ]
    }
   ],
   "source": [
    "path = '/home/vlad/HDD/GIT/CryptoLp DataScience/Projects/05. Imbalanced/BTCUSDT/BINANCE/Bars'\n",
    "files = sorted(os.listdir(path))\n",
    "main_df = pd.DataFrame()\n",
    "for file in files:     \n",
    "    file_df = pd.read_csv(f'{path}/{file}')\n",
    "    main_df = pd.concat([main_df, file_df], ignore_index=True)\n",
    "    print(f'{file}')\n",
    "main_df['datetime'] = pd.to_datetime(main_df['datetime'])\n",
    "main_df.index = range(len(main_df))"
   ]
  },
  {
   "cell_type": "code",
   "execution_count": 19,
   "metadata": {},
   "outputs": [],
   "source": [
    "main_df.to_csv('/home/vlad/HDD/GIT/CryptoLp DataScience/Projects/05. Imbalanced/Bars_20.12.csv')"
   ]
  },
  {
   "cell_type": "code",
   "execution_count": null,
   "metadata": {},
   "outputs": [],
   "source": []
  }
 ],
 "metadata": {
  "kernelspec": {
   "display_name": "Python 3",
   "language": "python",
   "name": "python3"
  },
  "language_info": {
   "codemirror_mode": {
    "name": "ipython",
    "version": 3
   },
   "file_extension": ".py",
   "mimetype": "text/x-python",
   "name": "python",
   "nbconvert_exporter": "python",
   "pygments_lexer": "ipython3",
   "version": "3.8.5"
  }
 },
 "nbformat": 4,
 "nbformat_minor": 4
}
