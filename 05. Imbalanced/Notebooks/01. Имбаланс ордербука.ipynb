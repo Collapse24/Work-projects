{
 "cells": [
  {
   "cell_type": "code",
   "execution_count": 1,
   "metadata": {},
   "outputs": [],
   "source": [
    "import numpy as np\n",
    "import pandas as pd\n",
    "from tqdm import tqdm\n",
    "from copy import deepcopy\n",
    "from IPython.core.interactiveshell import InteractiveShell\n",
    "InteractiveShell.ast_node_interactivity = \"all\""
   ]
  },
  {
   "cell_type": "code",
   "execution_count": 2,
   "metadata": {
    "scrolled": true
   },
   "outputs": [
    {
     "name": "stdout",
     "output_type": "stream",
     "text": [
      "CPU times: user 9.27 s, sys: 970 ms, total: 10.2 s\n",
      "Wall time: 11.8 s\n"
     ]
    },
    {
     "data": {
      "text/html": [
       "<div>\n",
       "<style scoped>\n",
       "    .dataframe tbody tr th:only-of-type {\n",
       "        vertical-align: middle;\n",
       "    }\n",
       "\n",
       "    .dataframe tbody tr th {\n",
       "        vertical-align: top;\n",
       "    }\n",
       "\n",
       "    .dataframe thead th {\n",
       "        text-align: right;\n",
       "    }\n",
       "</style>\n",
       "<table border=\"1\" class=\"dataframe\">\n",
       "  <thead>\n",
       "    <tr style=\"text-align: right;\">\n",
       "      <th></th>\n",
       "      <th>datetime</th>\n",
       "      <th>mean_price</th>\n",
       "      <th>bid_0_size</th>\n",
       "      <th>bid_1_size</th>\n",
       "      <th>bid_2_size</th>\n",
       "      <th>bid_3_size</th>\n",
       "      <th>bid_4_size</th>\n",
       "      <th>bid_5_size</th>\n",
       "      <th>bid_6_size</th>\n",
       "      <th>bid_7_size</th>\n",
       "      <th>...</th>\n",
       "      <th>ask_0_size</th>\n",
       "      <th>ask_1_size</th>\n",
       "      <th>ask_2_size</th>\n",
       "      <th>ask_3_size</th>\n",
       "      <th>ask_4_size</th>\n",
       "      <th>ask_5_size</th>\n",
       "      <th>ask_6_size</th>\n",
       "      <th>ask_7_size</th>\n",
       "      <th>ask_8_size</th>\n",
       "      <th>ask_9_size</th>\n",
       "    </tr>\n",
       "  </thead>\n",
       "  <tbody>\n",
       "    <tr>\n",
       "      <th>0</th>\n",
       "      <td>2020-11-01 01:36:15</td>\n",
       "      <td>13763.75</td>\n",
       "      <td>11627297.0</td>\n",
       "      <td>1169276.0</td>\n",
       "      <td>1159108.0</td>\n",
       "      <td>202800.0</td>\n",
       "      <td>123725.0</td>\n",
       "      <td>1804059.0</td>\n",
       "      <td>724937.0</td>\n",
       "      <td>356270.0</td>\n",
       "      <td>...</td>\n",
       "      <td>8753411.0</td>\n",
       "      <td>2082535.0</td>\n",
       "      <td>923013.0</td>\n",
       "      <td>884802.0</td>\n",
       "      <td>2109313.0</td>\n",
       "      <td>1448770.0</td>\n",
       "      <td>7149895.0</td>\n",
       "      <td>4016421.0</td>\n",
       "      <td>1140271.0</td>\n",
       "      <td>1695146.0</td>\n",
       "    </tr>\n",
       "    <tr>\n",
       "      <th>1</th>\n",
       "      <td>2020-11-01 01:36:16</td>\n",
       "      <td>13763.75</td>\n",
       "      <td>17887488.0</td>\n",
       "      <td>1820160.0</td>\n",
       "      <td>1814256.0</td>\n",
       "      <td>108000.0</td>\n",
       "      <td>44613.0</td>\n",
       "      <td>3114540.0</td>\n",
       "      <td>1134684.0</td>\n",
       "      <td>557640.0</td>\n",
       "      <td>...</td>\n",
       "      <td>13189142.0</td>\n",
       "      <td>3259620.0</td>\n",
       "      <td>1444716.0</td>\n",
       "      <td>1177848.0</td>\n",
       "      <td>3176316.0</td>\n",
       "      <td>2267640.0</td>\n",
       "      <td>11191140.0</td>\n",
       "      <td>6286572.0</td>\n",
       "      <td>1784772.0</td>\n",
       "      <td>2653272.0</td>\n",
       "    </tr>\n",
       "  </tbody>\n",
       "</table>\n",
       "<p>2 rows × 22 columns</p>\n",
       "</div>"
      ],
      "text/plain": [
       "              datetime  mean_price  bid_0_size  bid_1_size  bid_2_size  \\\n",
       "0  2020-11-01 01:36:15    13763.75  11627297.0   1169276.0   1159108.0   \n",
       "1  2020-11-01 01:36:16    13763.75  17887488.0   1820160.0   1814256.0   \n",
       "\n",
       "   bid_3_size  bid_4_size  bid_5_size  bid_6_size  bid_7_size  ...  \\\n",
       "0    202800.0    123725.0   1804059.0    724937.0    356270.0  ...   \n",
       "1    108000.0     44613.0   3114540.0   1134684.0    557640.0  ...   \n",
       "\n",
       "   ask_0_size  ask_1_size  ask_2_size  ask_3_size  ask_4_size  ask_5_size  \\\n",
       "0   8753411.0   2082535.0    923013.0    884802.0   2109313.0   1448770.0   \n",
       "1  13189142.0   3259620.0   1444716.0   1177848.0   3176316.0   2267640.0   \n",
       "\n",
       "   ask_6_size  ask_7_size  ask_8_size  ask_9_size  \n",
       "0   7149895.0   4016421.0   1140271.0   1695146.0  \n",
       "1  11191140.0   6286572.0   1784772.0   2653272.0  \n",
       "\n",
       "[2 rows x 22 columns]"
      ]
     },
     "execution_count": 2,
     "metadata": {},
     "output_type": "execute_result"
    }
   ],
   "source": [
    "%%time\n",
    "df = pd.read_csv('/home/vlad/HDD/GIT/CryptoLp DataScience/Projects/05. Imbalanced/bars_sec.csv')\n",
    "df = df.fillna(0)\n",
    "df.head(2)"
   ]
  },
  {
   "cell_type": "code",
   "execution_count": 3,
   "metadata": {},
   "outputs": [
    {
     "data": {
      "text/html": [
       "<div>\n",
       "<style scoped>\n",
       "    .dataframe tbody tr th:only-of-type {\n",
       "        vertical-align: middle;\n",
       "    }\n",
       "\n",
       "    .dataframe tbody tr th {\n",
       "        vertical-align: top;\n",
       "    }\n",
       "\n",
       "    .dataframe thead th {\n",
       "        text-align: right;\n",
       "    }\n",
       "</style>\n",
       "<table border=\"1\" class=\"dataframe\">\n",
       "  <thead>\n",
       "    <tr style=\"text-align: right;\">\n",
       "      <th></th>\n",
       "      <th>datetime</th>\n",
       "      <th>mean_price</th>\n",
       "      <th>bid_0_size</th>\n",
       "      <th>bid_1_size</th>\n",
       "      <th>bid_2_size</th>\n",
       "      <th>bid_3_size</th>\n",
       "      <th>bid_4_size</th>\n",
       "      <th>bid_5_size</th>\n",
       "      <th>bid_6_size</th>\n",
       "      <th>bid_7_size</th>\n",
       "      <th>...</th>\n",
       "      <th>ask_1_size</th>\n",
       "      <th>ask_2_size</th>\n",
       "      <th>ask_3_size</th>\n",
       "      <th>ask_4_size</th>\n",
       "      <th>ask_5_size</th>\n",
       "      <th>ask_6_size</th>\n",
       "      <th>ask_7_size</th>\n",
       "      <th>ask_8_size</th>\n",
       "      <th>ask_9_size</th>\n",
       "      <th>target</th>\n",
       "    </tr>\n",
       "  </thead>\n",
       "  <tbody>\n",
       "    <tr>\n",
       "      <th>0</th>\n",
       "      <td>2020-11-01 01:36:16</td>\n",
       "      <td>13763.75</td>\n",
       "      <td>17887488.0</td>\n",
       "      <td>1820160.0</td>\n",
       "      <td>1814256.0</td>\n",
       "      <td>108000.0</td>\n",
       "      <td>44613.0</td>\n",
       "      <td>3114540.0</td>\n",
       "      <td>1134684.0</td>\n",
       "      <td>557640.0</td>\n",
       "      <td>...</td>\n",
       "      <td>3259620.0</td>\n",
       "      <td>1444716.0</td>\n",
       "      <td>1177848.0</td>\n",
       "      <td>3176316.0</td>\n",
       "      <td>2267640.0</td>\n",
       "      <td>11191140.0</td>\n",
       "      <td>6286572.0</td>\n",
       "      <td>1784772.0</td>\n",
       "      <td>2653272.0</td>\n",
       "      <td>Unchange</td>\n",
       "    </tr>\n",
       "    <tr>\n",
       "      <th>1</th>\n",
       "      <td>2020-11-01 01:36:17</td>\n",
       "      <td>13763.75</td>\n",
       "      <td>15967120.0</td>\n",
       "      <td>1617920.0</td>\n",
       "      <td>1612672.0</td>\n",
       "      <td>96000.0</td>\n",
       "      <td>12992.0</td>\n",
       "      <td>3004188.0</td>\n",
       "      <td>1401762.0</td>\n",
       "      <td>495680.0</td>\n",
       "      <td>...</td>\n",
       "      <td>2897440.0</td>\n",
       "      <td>1284192.0</td>\n",
       "      <td>1046976.0</td>\n",
       "      <td>2911208.0</td>\n",
       "      <td>2015680.0</td>\n",
       "      <td>9947680.0</td>\n",
       "      <td>5588064.0</td>\n",
       "      <td>1586464.0</td>\n",
       "      <td>2358464.0</td>\n",
       "      <td>Unchange</td>\n",
       "    </tr>\n",
       "    <tr>\n",
       "      <th>2</th>\n",
       "      <td>2020-11-01 01:36:18</td>\n",
       "      <td>13763.75</td>\n",
       "      <td>41788094.0</td>\n",
       "      <td>4145920.0</td>\n",
       "      <td>4132472.0</td>\n",
       "      <td>246000.0</td>\n",
       "      <td>286362.0</td>\n",
       "      <td>8020650.0</td>\n",
       "      <td>4268018.0</td>\n",
       "      <td>1270180.0</td>\n",
       "      <td>...</td>\n",
       "      <td>7003490.0</td>\n",
       "      <td>3290742.0</td>\n",
       "      <td>3344376.0</td>\n",
       "      <td>8222116.0</td>\n",
       "      <td>5165180.0</td>\n",
       "      <td>25490930.0</td>\n",
       "      <td>14319414.0</td>\n",
       "      <td>4065314.0</td>\n",
       "      <td>6043564.0</td>\n",
       "      <td>Unchange</td>\n",
       "    </tr>\n",
       "  </tbody>\n",
       "</table>\n",
       "<p>3 rows × 23 columns</p>\n",
       "</div>"
      ],
      "text/plain": [
       "              datetime  mean_price  bid_0_size  bid_1_size  bid_2_size  \\\n",
       "0  2020-11-01 01:36:16    13763.75  17887488.0   1820160.0   1814256.0   \n",
       "1  2020-11-01 01:36:17    13763.75  15967120.0   1617920.0   1612672.0   \n",
       "2  2020-11-01 01:36:18    13763.75  41788094.0   4145920.0   4132472.0   \n",
       "\n",
       "   bid_3_size  bid_4_size  bid_5_size  bid_6_size  bid_7_size  ...  \\\n",
       "0    108000.0     44613.0   3114540.0   1134684.0    557640.0  ...   \n",
       "1     96000.0     12992.0   3004188.0   1401762.0    495680.0  ...   \n",
       "2    246000.0    286362.0   8020650.0   4268018.0   1270180.0  ...   \n",
       "\n",
       "   ask_1_size  ask_2_size  ask_3_size  ask_4_size  ask_5_size  ask_6_size  \\\n",
       "0   3259620.0   1444716.0   1177848.0   3176316.0   2267640.0  11191140.0   \n",
       "1   2897440.0   1284192.0   1046976.0   2911208.0   2015680.0   9947680.0   \n",
       "2   7003490.0   3290742.0   3344376.0   8222116.0   5165180.0  25490930.0   \n",
       "\n",
       "   ask_7_size  ask_8_size  ask_9_size    target  \n",
       "0   6286572.0   1784772.0   2653272.0  Unchange  \n",
       "1   5588064.0   1586464.0   2358464.0  Unchange  \n",
       "2  14319414.0   4065314.0   6043564.0  Unchange  \n",
       "\n",
       "[3 rows x 23 columns]"
      ]
     },
     "execution_count": 3,
     "metadata": {},
     "output_type": "execute_result"
    }
   ],
   "source": [
    "df['diff'] = df['mean_price'].diff()\n",
    "df = df.dropna()\n",
    "df.index = range(len(df))\n",
    "diff = df['diff'].values\n",
    "\n",
    "target = list()\n",
    "for i in range(len(df)):\n",
    "    if diff[i] < 0:\n",
    "        target.append('Down')\n",
    "    elif diff[i] > 0:\n",
    "        target.append('Up')\n",
    "    else:\n",
    "        target.append('Unchange')\n",
    "\n",
    "df['target'] =  target\n",
    "df = df.drop(columns=['diff'])\n",
    "target = []\n",
    "\n",
    "df.head(3)"
   ]
  },
  {
   "cell_type": "code",
   "execution_count": 4,
   "metadata": {},
   "outputs": [],
   "source": [
    "# df = df.rename(columns={\"datetime\": \"datetime\", \"Mean price\": \"mid price\",\n",
    "#                         \"Bid Size 0\": \"bid_0_size\",\"Bid Size 1\": \"bid_1_size\",\"Bid Size 2\": \"bid_2_size\",\n",
    "#                         \"Bid Size 3\": \"bid_3_size\",\"Bid Size 4\": \"bid_4_size\",\"Bid Size 5\": \"bid_5_size\",\n",
    "#                         \"Bid Size 6\": \"bid_6_size\",\"Bid Size 7\": \"bid_7_size\",\"Bid Size 8\": \"bid_8_size\",\n",
    "#                         \"Bid Size 9\": \"bid_9_size\",\n",
    "#                         \"Ask Size 0\": \"ask_0_size\",\"Ask Size 1\": \"ask_1_size\",\"Ask Size 2\": \"ask_2_size\",\n",
    "#                         \"Ask Size 3\": \"ask_3_size\",\"Ask Size 4\": \"ask_4_size\",\"Ask Size 5\": \"ask_5_size\",\n",
    "#                         \"Ask Size 6\": \"ask_6_size\",\"Ask Size 7\": \"ask_7_size\",\"Ask Size 8\": \"ask_8_size\",\n",
    "#                         \"Ask Size 9\": \"ask_9_size\",\n",
    "#                        })"
   ]
  },
  {
   "cell_type": "code",
   "execution_count": 5,
   "metadata": {},
   "outputs": [],
   "source": [
    "df = df.rename(columns={\"datetime\": \"datetime\", \"mean_price\": \"mid price\",})"
   ]
  },
  {
   "cell_type": "code",
   "execution_count": 6,
   "metadata": {},
   "outputs": [
    {
     "name": "stdout",
     "output_type": "stream",
     "text": [
      "CPU times: user 688 µs, sys: 0 ns, total: 688 µs\n",
      "Wall time: 656 µs\n"
     ]
    }
   ],
   "source": [
    "%%time\n",
    "def calculate_imbalance(Sum_bid, Sum_ask):\n",
    "    imbalance = np.log(Sum_bid)-np.log(Sum_ask)\n",
    "    return imbalance\n",
    "\n",
    "def calculate_volume(*args):\n",
    "    return sum(args)\n",
    "\n",
    "bid_0,bid_1,bid_2,bid_3,bid_4 = df['bid_0_size'].values,df['bid_1_size'].values,df['bid_2_size'].values,df['bid_3_size'].values,df['bid_4_size'].values\n",
    "bid_5,bid_6,bid_7,bid_8,bid_9 = df['bid_5_size'].values,df['bid_6_size'].values,df['bid_7_size'].values,df['bid_8_size'].values,df['bid_9_size'].values\n",
    "\n",
    "ask_0,ask_1,ask_2,ask_3,ask_4 = df['ask_0_size'].values,df['ask_1_size'].values,df['ask_2_size'].values,df['ask_3_size'].values,df['ask_4_size'].values\n",
    "ask_5,ask_6,ask_7,ask_8,ask_9 = df['ask_5_size'].values,df['ask_6_size'].values,df['ask_7_size'].values,df['ask_8_size'].values,df['ask_9_size'].values"
   ]
  },
  {
   "cell_type": "code",
   "execution_count": 7,
   "metadata": {},
   "outputs": [
    {
     "data": {
      "text/plain": [
       "Unchange    94.568395\n",
       "Up           2.747060\n",
       "Down         2.684545\n",
       "Name: target, dtype: float64"
      ]
     },
     "execution_count": 7,
     "metadata": {},
     "output_type": "execute_result"
    }
   ],
   "source": [
    "df['target'].value_counts(normalize=True)*100"
   ]
  },
  {
   "cell_type": "code",
   "execution_count": 8,
   "metadata": {
    "scrolled": true
   },
   "outputs": [
    {
     "name": "stderr",
     "output_type": "stream",
     "text": [
      "<timed exec>:2: RuntimeWarning: divide by zero encountered in log\n",
      "<timed exec>:2: RuntimeWarning: invalid value encountered in subtract\n",
      "<ipython-input-8-0b27c0a6229d>:2: SettingWithCopyWarning: \n",
      "A value is trying to be set on a copy of a slice from a DataFrame.\n",
      "Try using .loc[row_indexer,col_indexer] = value instead\n",
      "\n",
      "See the caveats in the documentation: https://pandas.pydata.org/pandas-docs/stable/user_guide/indexing.html#returning-a-view-versus-a-copy\n",
      "  df_imbalance['Imb_1'] = calculate_imbalance(bid_0,ask_0)\n",
      "<ipython-input-8-0b27c0a6229d>:4: SettingWithCopyWarning: \n",
      "A value is trying to be set on a copy of a slice from a DataFrame.\n",
      "Try using .loc[row_indexer,col_indexer] = value instead\n",
      "\n",
      "See the caveats in the documentation: https://pandas.pydata.org/pandas-docs/stable/user_guide/indexing.html#returning-a-view-versus-a-copy\n",
      "  df_imbalance['Imb_3'] = calculate_imbalance(calculate_volume(bid_0,bid_1,bid_2,),\n",
      "<ipython-input-8-0b27c0a6229d>:7: SettingWithCopyWarning: \n",
      "A value is trying to be set on a copy of a slice from a DataFrame.\n",
      "Try using .loc[row_indexer,col_indexer] = value instead\n",
      "\n",
      "See the caveats in the documentation: https://pandas.pydata.org/pandas-docs/stable/user_guide/indexing.html#returning-a-view-versus-a-copy\n",
      "  df_imbalance['Imb_5'] = calculate_imbalance(calculate_volume(bid_0,bid_1,bid_2,bid_3,bid_4),\n",
      "<ipython-input-8-0b27c0a6229d>:10: SettingWithCopyWarning: \n",
      "A value is trying to be set on a copy of a slice from a DataFrame.\n",
      "Try using .loc[row_indexer,col_indexer] = value instead\n",
      "\n",
      "See the caveats in the documentation: https://pandas.pydata.org/pandas-docs/stable/user_guide/indexing.html#returning-a-view-versus-a-copy\n",
      "  df_imbalance['Imb_7'] = calculate_imbalance(calculate_volume(bid_0,bid_1,bid_2,bid_3,bid_4,bid_5,bid_6),\n",
      "<ipython-input-8-0b27c0a6229d>:13: SettingWithCopyWarning: \n",
      "A value is trying to be set on a copy of a slice from a DataFrame.\n",
      "Try using .loc[row_indexer,col_indexer] = value instead\n",
      "\n",
      "See the caveats in the documentation: https://pandas.pydata.org/pandas-docs/stable/user_guide/indexing.html#returning-a-view-versus-a-copy\n",
      "  df_imbalance['Imb_10'] = calculate_imbalance(calculate_volume(bid_0,bid_1,bid_2,bid_3,bid_4,bid_5,bid_6,bid_7,bid_8,bid_9,),\n"
     ]
    }
   ],
   "source": [
    "df_imbalance = df[['datetime','mid price','target']]\n",
    "df_imbalance['Imb_1'] = calculate_imbalance(bid_0,ask_0)\n",
    "\n",
    "df_imbalance['Imb_3'] = calculate_imbalance(calculate_volume(bid_0,bid_1,bid_2,),\n",
    "                                            calculate_volume(ask_0,ask_1,ask_2,))\n",
    "\n",
    "df_imbalance['Imb_5'] = calculate_imbalance(calculate_volume(bid_0,bid_1,bid_2,bid_3,bid_4),\n",
    "                                            calculate_volume(ask_0,ask_1,ask_2,ask_3,ask_4))\n",
    "\n",
    "df_imbalance['Imb_7'] = calculate_imbalance(calculate_volume(bid_0,bid_1,bid_2,bid_3,bid_4,bid_5,bid_6),\n",
    "                                            calculate_volume(ask_0,ask_1,ask_2,ask_3,ask_4,ask_5,ask_6))\n",
    "\n",
    "df_imbalance['Imb_10'] = calculate_imbalance(calculate_volume(bid_0,bid_1,bid_2,bid_3,bid_4,bid_5,bid_6,bid_7,bid_8,bid_9,),\n",
    "                                            calculate_volume(ask_0,ask_1,ask_2,ask_3,ask_4,ask_5,ask_6,ask_7,ask_8,ask_9,))"
   ]
  },
  {
   "cell_type": "code",
   "execution_count": 9,
   "metadata": {},
   "outputs": [
    {
     "data": {
      "text/plain": [
       "(6259310, 23)"
      ]
     },
     "execution_count": 9,
     "metadata": {},
     "output_type": "execute_result"
    },
    {
     "data": {
      "text/plain": [
       "(6259310, 23)"
      ]
     },
     "execution_count": 9,
     "metadata": {},
     "output_type": "execute_result"
    }
   ],
   "source": [
    "df.shape\n",
    "df.dropna().shape"
   ]
  },
  {
   "cell_type": "code",
   "execution_count": 10,
   "metadata": {},
   "outputs": [
    {
     "data": {
      "text/html": [
       "<div>\n",
       "<style scoped>\n",
       "    .dataframe tbody tr th:only-of-type {\n",
       "        vertical-align: middle;\n",
       "    }\n",
       "\n",
       "    .dataframe tbody tr th {\n",
       "        vertical-align: top;\n",
       "    }\n",
       "\n",
       "    .dataframe thead th {\n",
       "        text-align: right;\n",
       "    }\n",
       "</style>\n",
       "<table border=\"1\" class=\"dataframe\">\n",
       "  <thead>\n",
       "    <tr style=\"text-align: right;\">\n",
       "      <th></th>\n",
       "      <th>datetime</th>\n",
       "      <th>mid price</th>\n",
       "      <th>target</th>\n",
       "      <th>Imb_1</th>\n",
       "      <th>Imb_3</th>\n",
       "      <th>Imb_5</th>\n",
       "      <th>Imb_7</th>\n",
       "      <th>Imb_10</th>\n",
       "    </tr>\n",
       "  </thead>\n",
       "  <tbody>\n",
       "    <tr>\n",
       "      <th>0</th>\n",
       "      <td>2020-11-01 01:36:16</td>\n",
       "      <td>13763.75</td>\n",
       "      <td>Unchange</td>\n",
       "      <td>0.304708</td>\n",
       "      <td>0.184635</td>\n",
       "      <td>-0.026099</td>\n",
       "      <td>-0.320171</td>\n",
       "      <td>-0.524092</td>\n",
       "    </tr>\n",
       "    <tr>\n",
       "      <th>1</th>\n",
       "      <td>2020-11-01 01:36:17</td>\n",
       "      <td>13763.75</td>\n",
       "      <td>Unchange</td>\n",
       "      <td>0.309791</td>\n",
       "      <td>0.188779</td>\n",
       "      <td>-0.027918</td>\n",
       "      <td>-0.293981</td>\n",
       "      <td>-0.498950</td>\n",
       "    </tr>\n",
       "    <tr>\n",
       "      <th>2</th>\n",
       "      <td>2020-11-01 01:36:18</td>\n",
       "      <td>13763.75</td>\n",
       "      <td>Unchange</td>\n",
       "      <td>0.197924</td>\n",
       "      <td>0.116100</td>\n",
       "      <td>-0.104009</td>\n",
       "      <td>-0.322272</td>\n",
       "      <td>-0.515018</td>\n",
       "    </tr>\n",
       "  </tbody>\n",
       "</table>\n",
       "</div>"
      ],
      "text/plain": [
       "              datetime  mid price    target     Imb_1     Imb_3     Imb_5  \\\n",
       "0  2020-11-01 01:36:16   13763.75  Unchange  0.304708  0.184635 -0.026099   \n",
       "1  2020-11-01 01:36:17   13763.75  Unchange  0.309791  0.188779 -0.027918   \n",
       "2  2020-11-01 01:36:18   13763.75  Unchange  0.197924  0.116100 -0.104009   \n",
       "\n",
       "      Imb_7    Imb_10  \n",
       "0 -0.320171 -0.524092  \n",
       "1 -0.293981 -0.498950  \n",
       "2 -0.322272 -0.515018  "
      ]
     },
     "execution_count": 10,
     "metadata": {},
     "output_type": "execute_result"
    }
   ],
   "source": [
    "df = df.fillna(0)\n",
    "df = df_imbalance\n",
    "df.head(3)"
   ]
  },
  {
   "cell_type": "code",
   "execution_count": 11,
   "metadata": {},
   "outputs": [
    {
     "data": {
      "text/plain": [
       "Unchange    94.568395\n",
       "Up           2.747060\n",
       "Down         2.684545\n",
       "Name: target, dtype: float64"
      ]
     },
     "execution_count": 11,
     "metadata": {},
     "output_type": "execute_result"
    }
   ],
   "source": [
    "df['target'].value_counts(normalize=True)*100"
   ]
  },
  {
   "cell_type": "code",
   "execution_count": 12,
   "metadata": {},
   "outputs": [
    {
     "data": {
      "text/plain": [
       "-7.86563961124752"
      ]
     },
     "execution_count": 12,
     "metadata": {},
     "output_type": "execute_result"
    },
    {
     "data": {
      "text/plain": [
       "7.643481665082431"
      ]
     },
     "execution_count": 12,
     "metadata": {},
     "output_type": "execute_result"
    }
   ],
   "source": [
    "df['Imb_7'].min()\n",
    "df['Imb_7'].max()"
   ]
  },
  {
   "cell_type": "code",
   "execution_count": 14,
   "metadata": {},
   "outputs": [
    {
     "data": {
      "text/plain": [
       "Up      50.575473\n",
       "Down    49.424527\n",
       "Name: target, dtype: float64"
      ]
     },
     "execution_count": 14,
     "metadata": {},
     "output_type": "execute_result"
    },
    {
     "data": {
      "text/plain": [
       "Down    97.741503\n",
       "Up       2.258497\n",
       "Name: target, dtype: float64"
      ]
     },
     "execution_count": 14,
     "metadata": {},
     "output_type": "execute_result"
    },
    {
     "data": {
      "text/plain": [
       "Up      98.085955\n",
       "Down     1.914045\n",
       "Name: target, dtype: float64"
      ]
     },
     "execution_count": 14,
     "metadata": {},
     "output_type": "execute_result"
    }
   ],
   "source": [
    "df_test = df[df['target']!='Unchange']\n",
    "df_test['target'].value_counts(normalize=True)*100\n",
    "df_test[(df_test['Imb_7']>-8) & (df_test['Imb_7']<=-2.522348)]['target'].value_counts(normalize=True)*100\n",
    "df_test[(df_test['Imb_7']>=2.522348) & (df_test['Imb_7']<8)]['target'].value_counts(normalize=True)*100"
   ]
  },
  {
   "cell_type": "code",
   "execution_count": 15,
   "metadata": {},
   "outputs": [
    {
     "data": {
      "text/plain": [
       "339981"
      ]
     },
     "execution_count": 15,
     "metadata": {},
     "output_type": "execute_result"
    },
    {
     "data": {
      "text/plain": [
       "41045"
      ]
     },
     "execution_count": 15,
     "metadata": {},
     "output_type": "execute_result"
    },
    {
     "data": {
      "text/plain": [
       "50887"
      ]
     },
     "execution_count": 15,
     "metadata": {},
     "output_type": "execute_result"
    }
   ],
   "source": [
    "len(df_test)\n",
    "len(df_test[(df_test['Imb_7']>-8) & (df_test['Imb_7']<=-2.522348)])\n",
    "len(df_test[(df_test['Imb_7']>=2.522348) & (df_test['Imb_7']<8)])"
   ]
  },
  {
   "cell_type": "code",
   "execution_count": 16,
   "metadata": {},
   "outputs": [],
   "source": [
    "df_result = deepcopy(df[['datetime']])"
   ]
  },
  {
   "cell_type": "code",
   "execution_count": 17,
   "metadata": {},
   "outputs": [
    {
     "name": "stdout",
     "output_type": "stream",
     "text": [
      "CPU times: user 4.37 s, sys: 0 ns, total: 4.37 s\n",
      "Wall time: 4.37 s\n"
     ]
    }
   ],
   "source": [
    "%%time\n",
    "list_label = list()\n",
    "imbalance = df['Imb_7'].values\n",
    "\n",
    "for i in range(len(df)):\n",
    "    if -8 < imbalance[i] <= -2.522348:\n",
    "        list_label.append('Down')\n",
    "    elif 2.522348 <= imbalance[i] < 8:\n",
    "        list_label.append('Up')       \n",
    "    else:\n",
    "        list_label.append('Unchanged')\n",
    "df_result['Labels 7'] = list_label"
   ]
  },
  {
   "cell_type": "code",
   "execution_count": 18,
   "metadata": {},
   "outputs": [
    {
     "data": {
      "text/html": [
       "<div>\n",
       "<style scoped>\n",
       "    .dataframe tbody tr th:only-of-type {\n",
       "        vertical-align: middle;\n",
       "    }\n",
       "\n",
       "    .dataframe tbody tr th {\n",
       "        vertical-align: top;\n",
       "    }\n",
       "\n",
       "    .dataframe thead th {\n",
       "        text-align: right;\n",
       "    }\n",
       "</style>\n",
       "<table border=\"1\" class=\"dataframe\">\n",
       "  <thead>\n",
       "    <tr style=\"text-align: right;\">\n",
       "      <th></th>\n",
       "      <th>datetime</th>\n",
       "      <th>Labels 7</th>\n",
       "    </tr>\n",
       "  </thead>\n",
       "  <tbody>\n",
       "    <tr>\n",
       "      <th>0</th>\n",
       "      <td>2020-11-01 01:36:16</td>\n",
       "      <td>Unchanged</td>\n",
       "    </tr>\n",
       "    <tr>\n",
       "      <th>1</th>\n",
       "      <td>2020-11-01 01:36:17</td>\n",
       "      <td>Unchanged</td>\n",
       "    </tr>\n",
       "  </tbody>\n",
       "</table>\n",
       "</div>"
      ],
      "text/plain": [
       "              datetime   Labels 7\n",
       "0  2020-11-01 01:36:16  Unchanged\n",
       "1  2020-11-01 01:36:17  Unchanged"
      ]
     },
     "execution_count": 18,
     "metadata": {},
     "output_type": "execute_result"
    }
   ],
   "source": [
    "df_result.head(2)"
   ]
  },
  {
   "cell_type": "code",
   "execution_count": 21,
   "metadata": {},
   "outputs": [],
   "source": [
    "df_result.to_csv('/home/vlad/HDD/GIT/CryptoLp DataScience/Projects/05. Imbalanced/IMBALANCES.csv',index=False)"
   ]
  },
  {
   "cell_type": "code",
   "execution_count": 19,
   "metadata": {},
   "outputs": [
    {
     "data": {
      "text/plain": [
       "Unchanged    86.058208\n",
       "Up            7.904673\n",
       "Down          6.037119\n",
       "Name: Labels 7, dtype: float64"
      ]
     },
     "execution_count": 19,
     "metadata": {},
     "output_type": "execute_result"
    }
   ],
   "source": [
    "df_result['Labels 7'].value_counts(normalize=True)*100"
   ]
  },
  {
   "cell_type": "code",
   "execution_count": null,
   "metadata": {},
   "outputs": [],
   "source": []
  }
 ],
 "metadata": {
  "kernelspec": {
   "display_name": "Python 3",
   "language": "python",
   "name": "python3"
  },
  "language_info": {
   "codemirror_mode": {
    "name": "ipython",
    "version": 3
   },
   "file_extension": ".py",
   "mimetype": "text/x-python",
   "name": "python",
   "nbconvert_exporter": "python",
   "pygments_lexer": "ipython3",
   "version": "3.8.5"
  }
 },
 "nbformat": 4,
 "nbformat_minor": 4
}
