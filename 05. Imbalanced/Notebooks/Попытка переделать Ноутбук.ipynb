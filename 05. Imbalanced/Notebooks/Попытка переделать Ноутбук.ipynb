{
 "cells": [
  {
   "cell_type": "code",
   "execution_count": 1,
   "metadata": {},
   "outputs": [],
   "source": [
    "import numpy as np\n",
    "import pandas as pd\n",
    "from tqdm import tqdm\n",
    "from copy import deepcopy\n",
    "from IPython.core.interactiveshell import InteractiveShell\n",
    "InteractiveShell.ast_node_interactivity = \"all\""
   ]
  },
  {
   "cell_type": "code",
   "execution_count": 2,
   "metadata": {},
   "outputs": [],
   "source": [
    "import sys\n",
    "if not sys.warnoptions:\n",
    "    import warnings\n",
    "    warnings.simplefilter(\"ignore\")"
   ]
  },
  {
   "cell_type": "code",
   "execution_count": 3,
   "metadata": {
    "scrolled": true
   },
   "outputs": [
    {
     "name": "stdout",
     "output_type": "stream",
     "text": [
      "CPU times: user 11.1 s, sys: 1.06 s, total: 12.1 s\n",
      "Wall time: 14.1 s\n"
     ]
    }
   ],
   "source": [
    "%%time\n",
    "path_file = '/home/vlad/HDD/GIT/CryptoLp DataScience/Projects/05. Imbalanced'\n",
    "name_file = 'Bars_20.12'\n",
    "df = pd.read_csv(f'{path_file}/{name_file}.csv')\n",
    "df = df.fillna(0)"
   ]
  },
  {
   "cell_type": "code",
   "execution_count": 4,
   "metadata": {},
   "outputs": [],
   "source": [
    "# df = df.drop('Unnamed: 0',axis=1)\n",
    "# df = df.rename(columns={\"Mean price\": \"mean_price\"})\n",
    "# df.to_csv(f'{path_file}/{name_file}.csv', index=False)"
   ]
  },
  {
   "cell_type": "code",
   "execution_count": 5,
   "metadata": {},
   "outputs": [
    {
     "data": {
      "text/html": [
       "<div>\n",
       "<style scoped>\n",
       "    .dataframe tbody tr th:only-of-type {\n",
       "        vertical-align: middle;\n",
       "    }\n",
       "\n",
       "    .dataframe tbody tr th {\n",
       "        vertical-align: top;\n",
       "    }\n",
       "\n",
       "    .dataframe thead th {\n",
       "        text-align: right;\n",
       "    }\n",
       "</style>\n",
       "<table border=\"1\" class=\"dataframe\">\n",
       "  <thead>\n",
       "    <tr style=\"text-align: right;\">\n",
       "      <th></th>\n",
       "      <th>datetime</th>\n",
       "      <th>mean_price</th>\n",
       "      <th>bid_0_size</th>\n",
       "      <th>bid_1_size</th>\n",
       "      <th>bid_2_size</th>\n",
       "      <th>bid_3_size</th>\n",
       "      <th>bid_4_size</th>\n",
       "      <th>bid_5_size</th>\n",
       "      <th>bid_6_size</th>\n",
       "      <th>bid_7_size</th>\n",
       "      <th>...</th>\n",
       "      <th>ask_20_size</th>\n",
       "      <th>ask_21_size</th>\n",
       "      <th>ask_22_size</th>\n",
       "      <th>ask_23_size</th>\n",
       "      <th>ask_24_size</th>\n",
       "      <th>ask_25_size</th>\n",
       "      <th>ask_26_size</th>\n",
       "      <th>ask_27_size</th>\n",
       "      <th>ask_28_size</th>\n",
       "      <th>ask_29_size</th>\n",
       "    </tr>\n",
       "  </thead>\n",
       "  <tbody>\n",
       "    <tr>\n",
       "      <th>0</th>\n",
       "      <td>2020-12-01 00:00:00</td>\n",
       "      <td>19717.815</td>\n",
       "      <td>3.469</td>\n",
       "      <td>5.65</td>\n",
       "      <td>1.709</td>\n",
       "      <td>1.671</td>\n",
       "      <td>6.784</td>\n",
       "      <td>1.723</td>\n",
       "      <td>3.487</td>\n",
       "      <td>2.481</td>\n",
       "      <td>...</td>\n",
       "      <td>2.020</td>\n",
       "      <td>4.940</td>\n",
       "      <td>0.278</td>\n",
       "      <td>2.458</td>\n",
       "      <td>1.728</td>\n",
       "      <td>1.417</td>\n",
       "      <td>1.871</td>\n",
       "      <td>2.733</td>\n",
       "      <td>1.875</td>\n",
       "      <td>2.290</td>\n",
       "    </tr>\n",
       "    <tr>\n",
       "      <th>1</th>\n",
       "      <td>2020-12-01 00:00:01</td>\n",
       "      <td>19722.005</td>\n",
       "      <td>37.050</td>\n",
       "      <td>1.24</td>\n",
       "      <td>9.778</td>\n",
       "      <td>10.765</td>\n",
       "      <td>14.198</td>\n",
       "      <td>7.069</td>\n",
       "      <td>30.381</td>\n",
       "      <td>18.998</td>\n",
       "      <td>...</td>\n",
       "      <td>3.361</td>\n",
       "      <td>3.692</td>\n",
       "      <td>6.351</td>\n",
       "      <td>5.348</td>\n",
       "      <td>2.655</td>\n",
       "      <td>54.098</td>\n",
       "      <td>1.228</td>\n",
       "      <td>7.618</td>\n",
       "      <td>39.211</td>\n",
       "      <td>23.216</td>\n",
       "    </tr>\n",
       "  </tbody>\n",
       "</table>\n",
       "<p>2 rows × 62 columns</p>\n",
       "</div>"
      ],
      "text/plain": [
       "              datetime  mean_price  bid_0_size  bid_1_size  bid_2_size  \\\n",
       "0  2020-12-01 00:00:00   19717.815       3.469        5.65       1.709   \n",
       "1  2020-12-01 00:00:01   19722.005      37.050        1.24       9.778   \n",
       "\n",
       "   bid_3_size  bid_4_size  bid_5_size  bid_6_size  bid_7_size  ...  \\\n",
       "0       1.671       6.784       1.723       3.487       2.481  ...   \n",
       "1      10.765      14.198       7.069      30.381      18.998  ...   \n",
       "\n",
       "   ask_20_size  ask_21_size  ask_22_size  ask_23_size  ask_24_size  \\\n",
       "0        2.020        4.940        0.278        2.458        1.728   \n",
       "1        3.361        3.692        6.351        5.348        2.655   \n",
       "\n",
       "   ask_25_size  ask_26_size  ask_27_size  ask_28_size  ask_29_size  \n",
       "0        1.417        1.871        2.733        1.875        2.290  \n",
       "1       54.098        1.228        7.618       39.211       23.216  \n",
       "\n",
       "[2 rows x 62 columns]"
      ]
     },
     "execution_count": 5,
     "metadata": {},
     "output_type": "execute_result"
    }
   ],
   "source": [
    "df.head(2)"
   ]
  },
  {
   "cell_type": "code",
   "execution_count": 6,
   "metadata": {},
   "outputs": [],
   "source": [
    "def calc_target_label(df_data:pd.DataFrame, col_price:str, th = 0\n",
    "                     ):\n",
    "    df_data['difference'] = df[f'{col_price}'].diff()\n",
    "    difference = df_data['difference'].values\n",
    "    target = list()\n",
    "    for i in range(len(df_data)):\n",
    "        if difference[i] < th:\n",
    "            target.append('Down')\n",
    "        elif difference[i] > th:\n",
    "            target.append('Up')\n",
    "        else:\n",
    "            target.append('Unchange')\n",
    "    return target"
   ]
  },
  {
   "cell_type": "code",
   "execution_count": 7,
   "metadata": {},
   "outputs": [],
   "source": [
    "target_list = calc_target_label(df, 'mean_price', 0)\n",
    "df['target'] = target_list"
   ]
  },
  {
   "cell_type": "code",
   "execution_count": 8,
   "metadata": {},
   "outputs": [
    {
     "data": {
      "text/html": [
       "<div>\n",
       "<style scoped>\n",
       "    .dataframe tbody tr th:only-of-type {\n",
       "        vertical-align: middle;\n",
       "    }\n",
       "\n",
       "    .dataframe tbody tr th {\n",
       "        vertical-align: top;\n",
       "    }\n",
       "\n",
       "    .dataframe thead th {\n",
       "        text-align: right;\n",
       "    }\n",
       "</style>\n",
       "<table border=\"1\" class=\"dataframe\">\n",
       "  <thead>\n",
       "    <tr style=\"text-align: right;\">\n",
       "      <th></th>\n",
       "      <th>datetime</th>\n",
       "      <th>mean_price</th>\n",
       "      <th>bid_0_size</th>\n",
       "      <th>bid_1_size</th>\n",
       "      <th>bid_2_size</th>\n",
       "      <th>bid_3_size</th>\n",
       "      <th>bid_4_size</th>\n",
       "      <th>bid_5_size</th>\n",
       "      <th>bid_6_size</th>\n",
       "      <th>bid_7_size</th>\n",
       "      <th>...</th>\n",
       "      <th>ask_22_size</th>\n",
       "      <th>ask_23_size</th>\n",
       "      <th>ask_24_size</th>\n",
       "      <th>ask_25_size</th>\n",
       "      <th>ask_26_size</th>\n",
       "      <th>ask_27_size</th>\n",
       "      <th>ask_28_size</th>\n",
       "      <th>ask_29_size</th>\n",
       "      <th>difference</th>\n",
       "      <th>target</th>\n",
       "    </tr>\n",
       "  </thead>\n",
       "  <tbody>\n",
       "    <tr>\n",
       "      <th>0</th>\n",
       "      <td>2020-12-01 00:00:00</td>\n",
       "      <td>19717.815</td>\n",
       "      <td>3.469</td>\n",
       "      <td>5.65</td>\n",
       "      <td>1.709</td>\n",
       "      <td>1.671</td>\n",
       "      <td>6.784</td>\n",
       "      <td>1.723</td>\n",
       "      <td>3.487</td>\n",
       "      <td>2.481</td>\n",
       "      <td>...</td>\n",
       "      <td>0.278</td>\n",
       "      <td>2.458</td>\n",
       "      <td>1.728</td>\n",
       "      <td>1.417</td>\n",
       "      <td>1.871</td>\n",
       "      <td>2.733</td>\n",
       "      <td>1.875</td>\n",
       "      <td>2.290</td>\n",
       "      <td>NaN</td>\n",
       "      <td>Unchange</td>\n",
       "    </tr>\n",
       "    <tr>\n",
       "      <th>1</th>\n",
       "      <td>2020-12-01 00:00:01</td>\n",
       "      <td>19722.005</td>\n",
       "      <td>37.050</td>\n",
       "      <td>1.24</td>\n",
       "      <td>9.778</td>\n",
       "      <td>10.765</td>\n",
       "      <td>14.198</td>\n",
       "      <td>7.069</td>\n",
       "      <td>30.381</td>\n",
       "      <td>18.998</td>\n",
       "      <td>...</td>\n",
       "      <td>6.351</td>\n",
       "      <td>5.348</td>\n",
       "      <td>2.655</td>\n",
       "      <td>54.098</td>\n",
       "      <td>1.228</td>\n",
       "      <td>7.618</td>\n",
       "      <td>39.211</td>\n",
       "      <td>23.216</td>\n",
       "      <td>4.19</td>\n",
       "      <td>Up</td>\n",
       "    </tr>\n",
       "  </tbody>\n",
       "</table>\n",
       "<p>2 rows × 64 columns</p>\n",
       "</div>"
      ],
      "text/plain": [
       "              datetime  mean_price  bid_0_size  bid_1_size  bid_2_size  \\\n",
       "0  2020-12-01 00:00:00   19717.815       3.469        5.65       1.709   \n",
       "1  2020-12-01 00:00:01   19722.005      37.050        1.24       9.778   \n",
       "\n",
       "   bid_3_size  bid_4_size  bid_5_size  bid_6_size  bid_7_size  ...  \\\n",
       "0       1.671       6.784       1.723       3.487       2.481  ...   \n",
       "1      10.765      14.198       7.069      30.381      18.998  ...   \n",
       "\n",
       "   ask_22_size  ask_23_size  ask_24_size  ask_25_size  ask_26_size  \\\n",
       "0        0.278        2.458        1.728        1.417        1.871   \n",
       "1        6.351        5.348        2.655       54.098        1.228   \n",
       "\n",
       "   ask_27_size  ask_28_size  ask_29_size  difference    target  \n",
       "0        2.733        1.875        2.290         NaN  Unchange  \n",
       "1        7.618       39.211       23.216        4.19        Up  \n",
       "\n",
       "[2 rows x 64 columns]"
      ]
     },
     "execution_count": 8,
     "metadata": {},
     "output_type": "execute_result"
    }
   ],
   "source": [
    "df.head(2)"
   ]
  },
  {
   "cell_type": "code",
   "execution_count": 9,
   "metadata": {},
   "outputs": [],
   "source": [
    "df[df.columns[2:62]] = df[df.columns[2:62]]*1000"
   ]
  },
  {
   "cell_type": "code",
   "execution_count": 10,
   "metadata": {},
   "outputs": [],
   "source": [
    "#df = df.rename(columns={\"datetime\": \"datetime\", \"mean_price\": \"mid price\",})"
   ]
  },
  {
   "cell_type": "code",
   "execution_count": 11,
   "metadata": {},
   "outputs": [],
   "source": [
    "list_bids_size = list()\n",
    "list_asks_size = list()\n",
    "count_lvl = 30\n",
    "for i in range(count_lvl):\n",
    "    list_bids_size.append(df[f'bid_{i}_size'].values)\n",
    "    list_asks_size.append(df[f'ask_{i}_size'].values)"
   ]
  },
  {
   "cell_type": "code",
   "execution_count": 12,
   "metadata": {},
   "outputs": [
    {
     "name": "stdout",
     "output_type": "stream",
     "text": [
      "CPU times: user 3 µs, sys: 0 ns, total: 3 µs\n",
      "Wall time: 6.68 µs\n"
     ]
    }
   ],
   "source": [
    "%%time\n",
    "def calculate_imbalance(Sum_bid, Sum_ask):\n",
    "    imbalance = np.log(Sum_bid)-np.log(Sum_ask)\n",
    "    return imbalance\n",
    "\n",
    "def calculate_volume(list_side, count_lvl:int):\n",
    "    volume = [sum(x) for x in zip(*list_side[0:count_lvl])]\n",
    "    return volume"
   ]
  },
  {
   "cell_type": "code",
   "execution_count": 13,
   "metadata": {},
   "outputs": [],
   "source": [
    "df_imbalance = df[['datetime','mean_price','target']]"
   ]
  },
  {
   "cell_type": "code",
   "execution_count": 14,
   "metadata": {},
   "outputs": [
    {
     "name": "stdout",
     "output_type": "stream",
     "text": [
      "CPU times: user 1min 26s, sys: 471 ms, total: 1min 26s\n",
      "Wall time: 1min 26s\n"
     ]
    }
   ],
   "source": [
    "%%time\n",
    "list_levels = [1, 3, 5, 7, 10, 15, 20, 30]\n",
    "for i in list_levels:\n",
    "    df_imbalance[f'Imb_{i}'] = calculate_imbalance(calculate_volume(list_bids_size, i), \n",
    "                                                   calculate_volume(list_asks_size, i))\n",
    "df_imbalance = df_imbalance.fillna(0)"
   ]
  },
  {
   "cell_type": "code",
   "execution_count": 25,
   "metadata": {},
   "outputs": [
    {
     "data": {
      "text/plain": [
       "Unchange    54.927764\n",
       "Up          22.582124\n",
       "Down        22.490112\n",
       "Name: target, dtype: float64"
      ]
     },
     "execution_count": 25,
     "metadata": {},
     "output_type": "execute_result"
    },
    {
     "data": {
      "text/plain": [
       "(-9.251754633759298, 8.803672978913022)"
      ]
     },
     "execution_count": 25,
     "metadata": {},
     "output_type": "execute_result"
    }
   ],
   "source": [
    "df_imbalance['target'].value_counts(normalize=True)*100\n",
    "df_imbalance['Imb_3'].min(), df_imbalance['Imb_3'].max()"
   ]
  },
  {
   "cell_type": "code",
   "execution_count": 64,
   "metadata": {},
   "outputs": [
    {
     "data": {
      "text/plain": [
       "2.024844785149995"
      ]
     },
     "execution_count": 64,
     "metadata": {},
     "output_type": "execute_result"
    }
   ],
   "source": [
    "8.803672978913022*0.23"
   ]
  },
  {
   "cell_type": "code",
   "execution_count": 65,
   "metadata": {},
   "outputs": [
    {
     "data": {
      "text/plain": [
       "Up      50.102071\n",
       "Down    49.897929\n",
       "Name: target, dtype: float64"
      ]
     },
     "execution_count": 65,
     "metadata": {},
     "output_type": "execute_result"
    },
    {
     "data": {
      "text/plain": [
       "Down    75.274103\n",
       "Up      24.725897\n",
       "Name: target, dtype: float64"
      ]
     },
     "execution_count": 65,
     "metadata": {},
     "output_type": "execute_result"
    },
    {
     "data": {
      "text/plain": [
       "Up      71.635579\n",
       "Down    28.364421\n",
       "Name: target, dtype: float64"
      ]
     },
     "execution_count": 65,
     "metadata": {},
     "output_type": "execute_result"
    }
   ],
   "source": [
    "df_test = df_imbalance[df_imbalance['target']!='Unchange']\n",
    "df_test['target'].value_counts(normalize=True)*100\n",
    "num_lvl, l_th, r_th = '3', 3.0, 10\n",
    "\n",
    "df_test[(df_test[f'Imb_{num_lvl}']> -r_th)&\n",
    "        (df_test[f'Imb_{num_lvl}']<=-l_th)]['target'].value_counts(normalize=True)*100\n",
    "\n",
    "df_test[(df_test[f'Imb_{num_lvl}']>=l_th)&\n",
    "        (df_test[f'Imb_{num_lvl}']< r_th)]['target'].value_counts(normalize=True)*100"
   ]
  },
  {
   "cell_type": "code",
   "execution_count": 66,
   "metadata": {},
   "outputs": [
    {
     "data": {
      "text/plain": [
       "1153609"
      ]
     },
     "execution_count": 66,
     "metadata": {},
     "output_type": "execute_result"
    },
    {
     "data": {
      "text/plain": [
       "28274"
      ]
     },
     "execution_count": 66,
     "metadata": {},
     "output_type": "execute_result"
    },
    {
     "data": {
      "text/plain": [
       "26431"
      ]
     },
     "execution_count": 66,
     "metadata": {},
     "output_type": "execute_result"
    }
   ],
   "source": [
    "len(df_test)\n",
    "len(df_test[(df_test[f'Imb_{num_lvl}']>-r_th) & (df_test[f'Imb_{num_lvl}']<=-l_th)])\n",
    "len(df_test[(df_test[f'Imb_{num_lvl}']>=l_th) & (df_test[f'Imb_{num_lvl}']<  r_th)])"
   ]
  },
  {
   "cell_type": "code",
   "execution_count": 67,
   "metadata": {},
   "outputs": [],
   "source": [
    "df_result = deepcopy(df[['datetime']])"
   ]
  },
  {
   "cell_type": "code",
   "execution_count": 68,
   "metadata": {},
   "outputs": [],
   "source": [
    "def labeling(data:pd.DataFrame, nlvl:str, l_th:float, r_th:float  ):\n",
    "    list_label = list()\n",
    "    imbalance = data[f'Imb_{nlvl}'].values\n",
    "    for i in range(len(data)):\n",
    "        if -r_th < imbalance[i] <= -l_th:\n",
    "            list_label.append('Down')\n",
    "        elif l_th <= imbalance[i] < r_th:\n",
    "            list_label.append('Up')       \n",
    "        else:\n",
    "            list_label.append('Unchanged')\n",
    "    return list_label"
   ]
  },
  {
   "cell_type": "code",
   "execution_count": 69,
   "metadata": {},
   "outputs": [],
   "source": [
    "df_result[f'Labels {num_lvl}'] = labeling(df_imbalance, num_lvl, l_th, r_th)"
   ]
  },
  {
   "cell_type": "code",
   "execution_count": 70,
   "metadata": {},
   "outputs": [
    {
     "data": {
      "text/html": [
       "<div>\n",
       "<style scoped>\n",
       "    .dataframe tbody tr th:only-of-type {\n",
       "        vertical-align: middle;\n",
       "    }\n",
       "\n",
       "    .dataframe tbody tr th {\n",
       "        vertical-align: top;\n",
       "    }\n",
       "\n",
       "    .dataframe thead th {\n",
       "        text-align: right;\n",
       "    }\n",
       "</style>\n",
       "<table border=\"1\" class=\"dataframe\">\n",
       "  <thead>\n",
       "    <tr style=\"text-align: right;\">\n",
       "      <th></th>\n",
       "      <th>datetime</th>\n",
       "      <th>Labels 3</th>\n",
       "    </tr>\n",
       "  </thead>\n",
       "  <tbody>\n",
       "    <tr>\n",
       "      <th>0</th>\n",
       "      <td>2020-12-01 00:00:00</td>\n",
       "      <td>Unchanged</td>\n",
       "    </tr>\n",
       "    <tr>\n",
       "      <th>1</th>\n",
       "      <td>2020-12-01 00:00:01</td>\n",
       "      <td>Unchanged</td>\n",
       "    </tr>\n",
       "    <tr>\n",
       "      <th>2</th>\n",
       "      <td>2020-12-01 00:00:02</td>\n",
       "      <td>Unchanged</td>\n",
       "    </tr>\n",
       "  </tbody>\n",
       "</table>\n",
       "</div>"
      ],
      "text/plain": [
       "              datetime   Labels 3\n",
       "0  2020-12-01 00:00:00  Unchanged\n",
       "1  2020-12-01 00:00:01  Unchanged\n",
       "2  2020-12-01 00:00:02  Unchanged"
      ]
     },
     "execution_count": 70,
     "metadata": {},
     "output_type": "execute_result"
    }
   ],
   "source": [
    "df_result.head(3)"
   ]
  },
  {
   "cell_type": "code",
   "execution_count": 71,
   "metadata": {},
   "outputs": [
    {
     "data": {
      "text/plain": [
       "Unchanged    93.072073\n",
       "Down          3.535502\n",
       "Up            3.392425\n",
       "Name: Labels 3, dtype: float64"
      ]
     },
     "execution_count": 71,
     "metadata": {},
     "output_type": "execute_result"
    }
   ],
   "source": [
    "df_result['Labels 3'].value_counts(normalize=True)*100"
   ]
  },
  {
   "cell_type": "code",
   "execution_count": 72,
   "metadata": {},
   "outputs": [],
   "source": [
    "df_result.to_csv('/home/vlad/HDD/GIT/CryptoLp DataScience/Projects/05. Imbalanced/Сигналы_20.12_2.csv',index=False)"
   ]
  },
  {
   "cell_type": "code",
   "execution_count": 3,
   "metadata": {},
   "outputs": [],
   "source": [
    "aax = pd.read_csv('/home/vlad/HDD/GIT/CryptoLp DataScience/Projects/05. Imbalanced/BTCUSDT/AAX/0_aax_quotes__11_27-12_03.csv')"
   ]
  },
  {
   "cell_type": "code",
   "execution_count": 4,
   "metadata": {},
   "outputs": [],
   "source": [
    "df_result = pd.read_csv('/home/vlad/HDD/GIT/CryptoLp DataScience/Projects/05. Imbalanced/Сигналы_20.12.csv')"
   ]
  },
  {
   "cell_type": "code",
   "execution_count": 5,
   "metadata": {},
   "outputs": [
    {
     "data": {
      "text/html": [
       "<div>\n",
       "<style scoped>\n",
       "    .dataframe tbody tr th:only-of-type {\n",
       "        vertical-align: middle;\n",
       "    }\n",
       "\n",
       "    .dataframe tbody tr th {\n",
       "        vertical-align: top;\n",
       "    }\n",
       "\n",
       "    .dataframe thead th {\n",
       "        text-align: right;\n",
       "    }\n",
       "</style>\n",
       "<table border=\"1\" class=\"dataframe\">\n",
       "  <thead>\n",
       "    <tr style=\"text-align: right;\">\n",
       "      <th></th>\n",
       "      <th>ask_0_price</th>\n",
       "      <th>ask_1_price</th>\n",
       "      <th>ask_2_price</th>\n",
       "      <th>ask_3_price</th>\n",
       "      <th>ask_4_price</th>\n",
       "      <th>ask_5_price</th>\n",
       "      <th>ask_6_price</th>\n",
       "      <th>ask_7_price</th>\n",
       "      <th>ask_8_price</th>\n",
       "      <th>ask_9_price</th>\n",
       "      <th>...</th>\n",
       "      <th>bid_21_size</th>\n",
       "      <th>bid_22_size</th>\n",
       "      <th>bid_23_size</th>\n",
       "      <th>bid_24_size</th>\n",
       "      <th>bid_25_size</th>\n",
       "      <th>bid_26_size</th>\n",
       "      <th>bid_27_size</th>\n",
       "      <th>bid_28_size</th>\n",
       "      <th>bid_29_size</th>\n",
       "      <th>datetime</th>\n",
       "    </tr>\n",
       "  </thead>\n",
       "  <tbody>\n",
       "    <tr>\n",
       "      <th>0</th>\n",
       "      <td>17208.35</td>\n",
       "      <td>17209.68</td>\n",
       "      <td>17211.18</td>\n",
       "      <td>17211.26</td>\n",
       "      <td>17212.31</td>\n",
       "      <td>17214.76</td>\n",
       "      <td>17216.48</td>\n",
       "      <td>17218.33</td>\n",
       "      <td>17259.63</td>\n",
       "      <td>17259.64</td>\n",
       "      <td>...</td>\n",
       "      <td>86</td>\n",
       "      <td>477</td>\n",
       "      <td>11</td>\n",
       "      <td>436</td>\n",
       "      <td>7</td>\n",
       "      <td>4792</td>\n",
       "      <td>89</td>\n",
       "      <td>420</td>\n",
       "      <td>131</td>\n",
       "      <td>2020-11-27 07:07:56.599843</td>\n",
       "    </tr>\n",
       "  </tbody>\n",
       "</table>\n",
       "<p>1 rows × 121 columns</p>\n",
       "</div>"
      ],
      "text/plain": [
       "   ask_0_price  ask_1_price  ask_2_price  ask_3_price  ask_4_price  \\\n",
       "0     17208.35     17209.68     17211.18     17211.26     17212.31   \n",
       "\n",
       "   ask_5_price  ask_6_price  ask_7_price  ask_8_price  ask_9_price  ...  \\\n",
       "0     17214.76     17216.48     17218.33     17259.63     17259.64  ...   \n",
       "\n",
       "   bid_21_size  bid_22_size  bid_23_size  bid_24_size  bid_25_size  \\\n",
       "0           86          477           11          436            7   \n",
       "\n",
       "   bid_26_size  bid_27_size  bid_28_size  bid_29_size  \\\n",
       "0         4792           89          420          131   \n",
       "\n",
       "                     datetime  \n",
       "0  2020-11-27 07:07:56.599843  \n",
       "\n",
       "[1 rows x 121 columns]"
      ]
     },
     "execution_count": 5,
     "metadata": {},
     "output_type": "execute_result"
    }
   ],
   "source": [
    "aax.head(1)"
   ]
  },
  {
   "cell_type": "code",
   "execution_count": 6,
   "metadata": {},
   "outputs": [],
   "source": [
    "aax['mid_price'] = (aax['ask_0_price']+aax['bid_0_price'])/2\n",
    "aax['diff'] = aax['mid_price'].diff()\n",
    "aax = aax[['datetime','ask_0_price','ask_1_price',\n",
    "           'bid_0_price','bid_1_price',\n",
    "           'mid_price','diff']]"
   ]
  },
  {
   "cell_type": "code",
   "execution_count": 10,
   "metadata": {},
   "outputs": [
    {
     "data": {
      "text/html": [
       "<div>\n",
       "<style scoped>\n",
       "    .dataframe tbody tr th:only-of-type {\n",
       "        vertical-align: middle;\n",
       "    }\n",
       "\n",
       "    .dataframe tbody tr th {\n",
       "        vertical-align: top;\n",
       "    }\n",
       "\n",
       "    .dataframe thead th {\n",
       "        text-align: right;\n",
       "    }\n",
       "</style>\n",
       "<table border=\"1\" class=\"dataframe\">\n",
       "  <thead>\n",
       "    <tr style=\"text-align: right;\">\n",
       "      <th></th>\n",
       "      <th>datetime</th>\n",
       "      <th>Labels 10</th>\n",
       "    </tr>\n",
       "  </thead>\n",
       "  <tbody>\n",
       "    <tr>\n",
       "      <th>516</th>\n",
       "      <td>2020-12-01 00:08:36</td>\n",
       "      <td>Up</td>\n",
       "    </tr>\n",
       "    <tr>\n",
       "      <th>548</th>\n",
       "      <td>2020-12-01 00:09:08</td>\n",
       "      <td>Up</td>\n",
       "    </tr>\n",
       "    <tr>\n",
       "      <th>549</th>\n",
       "      <td>2020-12-01 00:09:09</td>\n",
       "      <td>Up</td>\n",
       "    </tr>\n",
       "    <tr>\n",
       "      <th>556</th>\n",
       "      <td>2020-12-01 00:09:16</td>\n",
       "      <td>Up</td>\n",
       "    </tr>\n",
       "    <tr>\n",
       "      <th>557</th>\n",
       "      <td>2020-12-01 00:09:17</td>\n",
       "      <td>Up</td>\n",
       "    </tr>\n",
       "    <tr>\n",
       "      <th>558</th>\n",
       "      <td>2020-12-01 00:09:18</td>\n",
       "      <td>Up</td>\n",
       "    </tr>\n",
       "    <tr>\n",
       "      <th>559</th>\n",
       "      <td>2020-12-01 00:09:19</td>\n",
       "      <td>Up</td>\n",
       "    </tr>\n",
       "    <tr>\n",
       "      <th>591</th>\n",
       "      <td>2020-12-01 00:09:51</td>\n",
       "      <td>Up</td>\n",
       "    </tr>\n",
       "    <tr>\n",
       "      <th>592</th>\n",
       "      <td>2020-12-01 00:09:52</td>\n",
       "      <td>Up</td>\n",
       "    </tr>\n",
       "    <tr>\n",
       "      <th>593</th>\n",
       "      <td>2020-12-01 00:09:53</td>\n",
       "      <td>Up</td>\n",
       "    </tr>\n",
       "    <tr>\n",
       "      <th>616</th>\n",
       "      <td>2020-12-01 00:10:16</td>\n",
       "      <td>Up</td>\n",
       "    </tr>\n",
       "    <tr>\n",
       "      <th>776</th>\n",
       "      <td>2020-12-01 00:12:56</td>\n",
       "      <td>Up</td>\n",
       "    </tr>\n",
       "    <tr>\n",
       "      <th>845</th>\n",
       "      <td>2020-12-01 00:14:05</td>\n",
       "      <td>Up</td>\n",
       "    </tr>\n",
       "    <tr>\n",
       "      <th>852</th>\n",
       "      <td>2020-12-01 00:14:12</td>\n",
       "      <td>Up</td>\n",
       "    </tr>\n",
       "    <tr>\n",
       "      <th>853</th>\n",
       "      <td>2020-12-01 00:14:13</td>\n",
       "      <td>Up</td>\n",
       "    </tr>\n",
       "  </tbody>\n",
       "</table>\n",
       "</div>"
      ],
      "text/plain": [
       "                datetime Labels 10\n",
       "516  2020-12-01 00:08:36        Up\n",
       "548  2020-12-01 00:09:08        Up\n",
       "549  2020-12-01 00:09:09        Up\n",
       "556  2020-12-01 00:09:16        Up\n",
       "557  2020-12-01 00:09:17        Up\n",
       "558  2020-12-01 00:09:18        Up\n",
       "559  2020-12-01 00:09:19        Up\n",
       "591  2020-12-01 00:09:51        Up\n",
       "592  2020-12-01 00:09:52        Up\n",
       "593  2020-12-01 00:09:53        Up\n",
       "616  2020-12-01 00:10:16        Up\n",
       "776  2020-12-01 00:12:56        Up\n",
       "845  2020-12-01 00:14:05        Up\n",
       "852  2020-12-01 00:14:12        Up\n",
       "853  2020-12-01 00:14:13        Up"
      ]
     },
     "execution_count": 10,
     "metadata": {},
     "output_type": "execute_result"
    }
   ],
   "source": [
    "df_result[df_result['Labels 10'] == 'Up'][15:30]"
   ]
  },
  {
   "cell_type": "code",
   "execution_count": 11,
   "metadata": {},
   "outputs": [
    {
     "name": "stderr",
     "output_type": "stream",
     "text": [
      "100%|██████████| 13988023/13988023 [00:19<00:00, 707683.66it/s]\n"
     ]
    }
   ],
   "source": [
    "mark = list()\n",
    "aax_diff = aax['diff'].values\n",
    "for i in tqdm(range(len(aax_diff))):\n",
    "    if aax_diff[i] > 0:\n",
    "        mark.append('Up')\n",
    "    elif aax_diff[i] < 0:\n",
    "        mark.append('Down')\n",
    "    else:\n",
    "        mark.append('Unch')\n",
    "aax['mark'] = mark"
   ]
  },
  {
   "cell_type": "code",
   "execution_count": 12,
   "metadata": {},
   "outputs": [
    {
     "data": {
      "text/html": [
       "<div>\n",
       "<style scoped>\n",
       "    .dataframe tbody tr th:only-of-type {\n",
       "        vertical-align: middle;\n",
       "    }\n",
       "\n",
       "    .dataframe tbody tr th {\n",
       "        vertical-align: top;\n",
       "    }\n",
       "\n",
       "    .dataframe thead th {\n",
       "        text-align: right;\n",
       "    }\n",
       "</style>\n",
       "<table border=\"1\" class=\"dataframe\">\n",
       "  <thead>\n",
       "    <tr style=\"text-align: right;\">\n",
       "      <th></th>\n",
       "      <th>datetime</th>\n",
       "      <th>ask_0_price</th>\n",
       "      <th>ask_1_price</th>\n",
       "      <th>bid_0_price</th>\n",
       "      <th>bid_1_price</th>\n",
       "      <th>mid_price</th>\n",
       "      <th>diff</th>\n",
       "      <th>mark</th>\n",
       "    </tr>\n",
       "  </thead>\n",
       "  <tbody>\n",
       "    <tr>\n",
       "      <th>0</th>\n",
       "      <td>2020-11-27 07:07:56.599843</td>\n",
       "      <td>17208.35</td>\n",
       "      <td>17209.68</td>\n",
       "      <td>17206.28</td>\n",
       "      <td>17204.56</td>\n",
       "      <td>17207.315</td>\n",
       "      <td>NaN</td>\n",
       "      <td>Unch</td>\n",
       "    </tr>\n",
       "    <tr>\n",
       "      <th>1</th>\n",
       "      <td>2020-11-27 07:07:56.602291</td>\n",
       "      <td>17209.68</td>\n",
       "      <td>17211.18</td>\n",
       "      <td>17206.28</td>\n",
       "      <td>17204.56</td>\n",
       "      <td>17207.980</td>\n",
       "      <td>0.665</td>\n",
       "      <td>Up</td>\n",
       "    </tr>\n",
       "  </tbody>\n",
       "</table>\n",
       "</div>"
      ],
      "text/plain": [
       "                     datetime  ask_0_price  ask_1_price  bid_0_price  \\\n",
       "0  2020-11-27 07:07:56.599843     17208.35     17209.68     17206.28   \n",
       "1  2020-11-27 07:07:56.602291     17209.68     17211.18     17206.28   \n",
       "\n",
       "   bid_1_price  mid_price   diff  mark  \n",
       "0     17204.56  17207.315    NaN  Unch  \n",
       "1     17204.56  17207.980  0.665    Up  "
      ]
     },
     "execution_count": 12,
     "metadata": {},
     "output_type": "execute_result"
    }
   ],
   "source": [
    "aax.head(2)"
   ]
  },
  {
   "cell_type": "code",
   "execution_count": 13,
   "metadata": {},
   "outputs": [
    {
     "data": {
      "text/plain": [
       "Unch    90.160071\n",
       "Down     5.106550\n",
       "Up       4.733379\n",
       "Name: mark, dtype: float64"
      ]
     },
     "execution_count": 13,
     "metadata": {},
     "output_type": "execute_result"
    }
   ],
   "source": [
    "aax[(aax['datetime']>='2020-12-01 00:08:00')&\n",
    "    (aax['datetime']<='2020-12-01 00:15:00')]['mark'].value_counts(normalize=True)*100"
   ]
  },
  {
   "cell_type": "code",
   "execution_count": null,
   "metadata": {},
   "outputs": [],
   "source": []
  }
 ],
 "metadata": {
  "kernelspec": {
   "display_name": "Python 3",
   "language": "python",
   "name": "python3"
  },
  "language_info": {
   "codemirror_mode": {
    "name": "ipython",
    "version": 3
   },
   "file_extension": ".py",
   "mimetype": "text/x-python",
   "name": "python",
   "nbconvert_exporter": "python",
   "pygments_lexer": "ipython3",
   "version": "3.8.5"
  }
 },
 "nbformat": 4,
 "nbformat_minor": 4
}
